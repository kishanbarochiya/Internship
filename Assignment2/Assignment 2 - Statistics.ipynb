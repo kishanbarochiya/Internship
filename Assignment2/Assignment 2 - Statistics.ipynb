{
 "cells": [
  {
   "cell_type": "markdown",
   "metadata": {},
   "source": [
    "### QUESTION 1"
   ]
  },
  {
   "cell_type": "raw",
   "metadata": {},
   "source": [
    "1. What represent a population parameter?\n",
    "\n",
    "    A) SD                         B) mean\n",
    "    C) both                       D) none"
   ]
  },
  {
   "cell_type": "markdown",
   "metadata": {},
   "source": [
    "C) both\n",
    "\n",
    "Population is a actual parameter of real life data and sample is a part taken from it to analyze. Now as sample size increases, mean and standard daviation of sample is going to close towards mean or population. thus this both represent the population parameter,"
   ]
  },
  {
   "cell_type": "markdown",
   "metadata": {},
   "source": [
    "### QUESTION 2"
   ]
  },
  {
   "cell_type": "raw",
   "metadata": {},
   "source": [
    "2. What will be median of following set of scores (18,6,12,10,15)?\n",
    "\n",
    "    A) 14                           B) 18\n",
    "    C) 12                           D) 10"
   ]
  },
  {
   "cell_type": "markdown",
   "metadata": {},
   "source": [
    "C) 12\n",
    "\n",
    "Median is the middle number of all datapoints after sorting it in ascending orders.\n",
    "\n",
    "here it will 6,10,12,15,18\n",
    "\n",
    "so middle observation is 12 and it will the median of set."
   ]
  },
  {
   "cell_type": "markdown",
   "metadata": {},
   "source": [
    "### QUESTION 3"
   ]
  },
  {
   "cell_type": "raw",
   "metadata": {},
   "source": [
    "3. What is standard deviation?\n",
    "\n",
    "    A) An approximate indicator of how number vary from the mean\n",
    "    B) A measure of variability\n",
    "    C) The square root of the variance\n",
    "    D) All of the above"
   ]
  },
  {
   "cell_type": "markdown",
   "metadata": {},
   "source": [
    "D)  All of the above\n",
    "\n",
    "Standard deviation is a measure of the disperion of data from its mean and it calculated as square root of variance by determining the variation between each data point to mean."
   ]
  },
  {
   "cell_type": "markdown",
   "metadata": {},
   "source": [
    "### QUESTION 4"
   ]
  },
  {
   "cell_type": "raw",
   "metadata": {},
   "source": [
    "4. The intervals should be ______ in a grouped frequency distribution\n",
    "\n",
    "A) Exhaustive                                  B) Mutually exclusive\n",
    "C) Both of these                               D) None"
   ]
  },
  {
   "cell_type": "markdown",
   "metadata": {},
   "source": [
    "C) Both of these\n",
    "\n",
    "in grouped frequency distribution, intervals may be mutually exclusive or exhaustive.  we need to work on it according to it's interval types."
   ]
  },
  {
   "cell_type": "markdown",
   "metadata": {},
   "source": [
    "### QUESTION 5"
   ]
  },
  {
   "cell_type": "raw",
   "metadata": {},
   "source": [
    "5. What is the goal of descriptive statistics?\n",
    "\n",
    "    A) Monitoring and manipulating a specific data\n",
    "    B) Summarizing and explaining a specific set of data\n",
    "    C) Analyzing and interpreting a set of data\n",
    "    D) All of these"
   ]
  },
  {
   "cell_type": "markdown",
   "metadata": {},
   "source": [
    "B) Summarizing and explaining a specific set of data"
   ]
  },
  {
   "cell_type": "markdown",
   "metadata": {},
   "source": [
    "### QUESTION 6"
   ]
  },
  {
   "cell_type": "raw",
   "metadata": {},
   "source": [
    "6. A set of data organized in a participant by variables format is called\n",
    "\n",
    "A) Data junk                                        B) Data set\n",
    "C) Data view                                        D) Data dodging"
   ]
  },
  {
   "cell_type": "markdown",
   "metadata": {},
   "source": [
    "B) Data set"
   ]
  },
  {
   "cell_type": "markdown",
   "metadata": {},
   "source": [
    "### QUESTION 7"
   ]
  },
  {
   "cell_type": "raw",
   "metadata": {},
   "source": [
    "7. In multiple regression,_______ independent variables are used\n",
    "\n",
    "A) 2 or more                    B) 2\n",
    "C) 1                            D) 1 or more"
   ]
  },
  {
   "cell_type": "markdown",
   "metadata": {},
   "source": [
    "A) 2 or more\n",
    "\n",
    "As name shows, in multiple regression we need 2 or more independent variable."
   ]
  },
  {
   "cell_type": "markdown",
   "metadata": {},
   "source": [
    "### QUESTION 8"
   ]
  },
  {
   "cell_type": "raw",
   "metadata": {},
   "source": [
    "8. Which of the following is used when you want to visually examine the relationship between 2 quantitative variables?\n",
    "\n",
    "A) Line graph                                    B) Scatterplot\n",
    "C) Bar graph                                     D) Pie graph"
   ]
  },
  {
   "cell_type": "markdown",
   "metadata": {},
   "source": [
    "B) Scattereplot\n",
    "\n",
    "Bar graph and pie graph are used for 1 objective variable & 1 or more quantitative variables while scatterplot is a best for visulisation of relationship."
   ]
  },
  {
   "cell_type": "markdown",
   "metadata": {},
   "source": [
    "### QUESTION 9 "
   ]
  },
  {
   "cell_type": "raw",
   "metadata": {},
   "source": [
    "9. Two or more groups means are compared by using\n",
    "\n",
    "A) analysis                                     B) Data analysis\n",
    "C) Varied Variance analysis                     D) Analysis of variance"
   ]
  },
  {
   "cell_type": "markdown",
   "metadata": {},
   "source": [
    "D) Analysis of variance\n",
    "\n",
    "Analysis of variance(ANOVA) is specially used to compare variance across the mean of different groups. it have independent variable on x axis and obeservation or dependent variable on y axis."
   ]
  },
  {
   "cell_type": "markdown",
   "metadata": {},
   "source": [
    "### QUESTION 10"
   ]
  },
  {
   "cell_type": "raw",
   "metadata": {},
   "source": [
    "10. _______is a raw score which has been transformed into standard deviation units?\n",
    "\n",
    "A) Z-score                              B) t-score\n",
    "C) e-score                              D) SDU score"
   ]
  },
  {
   "cell_type": "markdown",
   "metadata": {},
   "source": [
    "A) Z-score\n",
    "\n",
    "Z-score is use to find how many standard deviations someone is above or below the mean and that's why it transformed to standard deviation unit.\n",
    "\n",
    "Z-score =  raw score - mean value / standard deviation"
   ]
  },
  {
   "cell_type": "markdown",
   "metadata": {},
   "source": [
    "### QUESTION 11"
   ]
  },
  {
   "cell_type": "raw",
   "metadata": {},
   "source": [
    "11. _______is the value calculated when you want the arithmetic average?\n",
    "\n",
    "A) Median                               B) mode\n",
    "C) mean                                 D) All"
   ]
  },
  {
   "cell_type": "markdown",
   "metadata": {},
   "source": [
    "C) mean\n",
    "\n",
    "It is about the arithmetic average.\n",
    "\n",
    "Median  and mode are not much effective to get arithmatic average while mean can get average of data points."
   ]
  },
  {
   "cell_type": "markdown",
   "metadata": {},
   "source": [
    "### QUESTION 12"
   ]
  },
  {
   "cell_type": "code",
   "execution_count": null,
   "metadata": {},
   "outputs": [],
   "source": [
    "12. Find the mean of these set of number (4,6,7,9,2000000)?\n",
    "\n",
    "A) 4                               B) 7\n",
    "C) 7.5                             D) 400005.2"
   ]
  },
  {
   "cell_type": "markdown",
   "metadata": {},
   "source": [
    "D) 400005.2\n",
    "\n",
    "Here, sum of all obeservation is (4+6+7+9+2000000) = 2000026 \n",
    "and we have total 5 observation so to get mean we will divide sum of observation/no of observation\n",
    "\n",
    "mean = 2000026 / 5 = 400005.2\n"
   ]
  },
  {
   "cell_type": "markdown",
   "metadata": {},
   "source": [
    "### QUESTION 13"
   ]
  },
  {
   "cell_type": "raw",
   "metadata": {},
   "source": [
    "13. _______ is a measure of central tendency that takes into account the magnitude of scores?\n",
    "\n",
    "A) Range                            B) Mode\n",
    "C) Median                           D) Mean"
   ]
  },
  {
   "cell_type": "markdown",
   "metadata": {},
   "source": [
    "D) Mean\n",
    "\n",
    "Central tendency is to describe data distribution with reference to midpoint of dataset and from all option, Mean is the best\n",
    "option to find out mean or midpoint of dataset."
   ]
  },
  {
   "cell_type": "markdown",
   "metadata": {},
   "source": [
    "### QUESTION 14"
   ]
  },
  {
   "cell_type": "raw",
   "metadata": {},
   "source": [
    "14. ______ focuses on describing or explaining data whereas ______involves going beyond immediate data and making inferences\n",
    "\n",
    "A) Descriptive and inferences\n",
    "B) Mutually exclusive and mutually exhaustive properties\n",
    "C) Positive skew and negative skew\n",
    "D) Central tendency"
   ]
  },
  {
   "cell_type": "markdown",
   "metadata": {},
   "source": [
    "A) Descriptive and inferences\n",
    "\n",
    "As we know that descriptive is all about to describe data statistically and inferences is making inferencses as it's name. "
   ]
  },
  {
   "cell_type": "markdown",
   "metadata": {},
   "source": [
    "### QUESTION 15"
   ]
  },
  {
   "cell_type": "raw",
   "metadata": {},
   "source": [
    "15. What is the formula for range?\n",
    "\n",
    "A) H+L                     B) L-H\n",
    "C) LXH                     D) H-L"
   ]
  },
  {
   "cell_type": "markdown",
   "metadata": {},
   "source": [
    "D) H-L\n",
    "\n",
    "Formula of range is to determine the difference between highest and lowest value of dataset. We know that we can get it\n",
    "easily by substacting lowest point from highest point so ans is H-L  where H = Highest point, L = lowest point."
   ]
  },
  {
   "cell_type": "code",
   "execution_count": null,
   "metadata": {},
   "outputs": [],
   "source": []
  }
 ],
 "metadata": {
  "kernelspec": {
   "display_name": "Python 3",
   "language": "python",
   "name": "python3"
  },
  "language_info": {
   "codemirror_mode": {
    "name": "ipython",
    "version": 3
   },
   "file_extension": ".py",
   "mimetype": "text/x-python",
   "name": "python",
   "nbconvert_exporter": "python",
   "pygments_lexer": "ipython3",
   "version": "3.8.3"
  }
 },
 "nbformat": 4,
 "nbformat_minor": 4
}
