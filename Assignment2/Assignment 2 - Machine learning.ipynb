{
 "cells": [
  {
   "cell_type": "markdown",
   "metadata": {},
   "source": [
    "### QUESTION 1"
   ]
  },
  {
   "cell_type": "markdown",
   "metadata": {},
   "source": [
    "1. Movie Recommendation systems are an example of:\n",
    "    \n",
    "    i) Classification\n",
    "\n",
    "    ii) Clustering\n",
    "\n",
    "    iii) Regression Options:\n",
    "\n",
    "        a) 2 Only\n",
    "\n",
    "        b) 1 and 2\n",
    "\n",
    "        c) 1 and 3\n",
    "\n",
    "        d) 2 and 3"
   ]
  },
  {
   "cell_type": "markdown",
   "metadata": {},
   "source": [
    "#### ANS IS A) 2 only\n",
    "\n",
    "As we know that we can use classification where we have some variables with known target and based on that variable value we\n",
    "define the target so for movie recommendation we can use classification in some cases but on purely basis we use Clustering method\n",
    "for Movie Recommendation.\n",
    "\n",
    "In clustering, model will take input our past playlist like we watched comedy horror movie, action movie or romantic movie etc and\n",
    "based on it, it will make cluster of movie and recommend us best fit cluster according to our previous data."
   ]
  },
  {
   "cell_type": "markdown",
   "metadata": {},
   "source": [
    "### QUESTION 2"
   ]
  },
  {
   "cell_type": "markdown",
   "metadata": {},
   "source": [
    "2. Sentiment Analysis is an example of:\n",
    "    \n",
    "    i) Regression\n",
    "    \n",
    "    ii) Classification\n",
    "    \n",
    "    iii) Clustering\n",
    "    \n",
    "    iv) Reinforcement Options:\n",
    "    \n",
    "        a) 1 Only\n",
    "        \n",
    "        b) 1 and 2\n",
    "        \n",
    "        c) 1 and 3\n",
    "        \n",
    "        d) 1, 2 and 4"
   ]
  },
  {
   "cell_type": "markdown",
   "metadata": {},
   "source": [
    "#### ANS IS D) 1,2 AND 4\n",
    "\n",
    "Regression : In cases where we need to give rating or score out of 10 for that particular sentiment, then we can use regression\n",
    "    method. so regression is right answer for it.\n",
    "    \n",
    "Classification : Cases, where we need to define class, for example image gesture prediction of sad or happy. Cases like that we \n",
    "    can use classification method.\n",
    "    \n",
    "Reinforcement : In this case  algorithm constantly learned from previous sentiment performance and based on it works to improving\n",
    "    future sentiments.\n",
    "    "
   ]
  },
  {
   "cell_type": "markdown",
   "metadata": {},
   "source": [
    "### QUESTION 3"
   ]
  },
  {
   "cell_type": "markdown",
   "metadata": {},
   "source": [
    "3. Can decision trees be used for performing clustering?\n",
    "\n",
    "    a) True\n",
    "    \n",
    "    b) False"
   ]
  },
  {
   "cell_type": "markdown",
   "metadata": {},
   "source": [
    "#### ANS IS A) True\n",
    "\n",
    "We can use Decision trees for clustering in some cases and for it we need to go with some adjustments.Decision tree split data\n",
    "based on several variable values and in clustering we need to divide datapoints into groups according to it's property.\n",
    "\n",
    "Main 2 things which we need to handle for using decision tree in clustering is that 1) We should must have control over spliting\n",
    "and how each nodes works and 2nd is that need to applied merger of sub-cluster to cluster to get actual cluster."
   ]
  },
  {
   "cell_type": "markdown",
   "metadata": {},
   "source": [
    "### QUESTION 4"
   ]
  },
  {
   "cell_type": "markdown",
   "metadata": {},
   "source": [
    "4. Which of the following is the most appropriate strategy for data cleaning before performing clustering analysis, \n",
    "given less than desirable number of data points:\n",
    "    \n",
    "    i) Capping and flooring of variables\n",
    "    \n",
    "    ii) Removal of outliers Options:\n",
    "        \n",
    "        a) 1 only\n",
    "        \n",
    "        b) 2 only\n",
    "        \n",
    "        c) 1 and 2\n",
    "        \n",
    "        d) None of the above"
   ]
  },
  {
   "cell_type": "markdown",
   "metadata": {},
   "source": [
    "#### ANS IS A)1 ONLY\n",
    "\n",
    "Here, we have less number of objective. Outlier option is not suitable here as we didn't sufficient data where we can neglect\n",
    "outlier and proceed so things we can do here is that we can proceed with Capping and flooring with suitable value."
   ]
  },
  {
   "cell_type": "markdown",
   "metadata": {},
   "source": [
    "### QUESTION 5"
   ]
  },
  {
   "cell_type": "markdown",
   "metadata": {},
   "source": [
    "5. What is the minimum no. of variables/ features required to perform clustering?\n",
    "\n",
    "    a) 0\n",
    "    \n",
    "    b) 1\n",
    "    \n",
    "    c) 2\n",
    "    \n",
    "    d) 3"
   ]
  },
  {
   "cell_type": "markdown",
   "metadata": {},
   "source": [
    "#### ANS IS B) 1\n",
    "\n",
    "It is simple that if we didn't have any variable then we can not perfrom clustering. we required atleast 1 variable to\n",
    "perform clustering "
   ]
  },
  {
   "cell_type": "markdown",
   "metadata": {},
   "source": [
    "### QUESTION 6"
   ]
  },
  {
   "cell_type": "markdown",
   "metadata": {},
   "source": [
    "6. For two runs of K-Mean clustering is it expected to get same clustering results?\n",
    "    \n",
    "    a) Yes\n",
    "    \n",
    "    b) No"
   ]
  },
  {
   "cell_type": "markdown",
   "metadata": {},
   "source": [
    "#### A)YES\n",
    "\n",
    "We can get it with some control like setting sees values and same means values for each run. we also need to set to choose\n",
    "same random no for each run.\n",
    "\n",
    "Without above control, in general we can say that it not giving same result as it have connection of global minima and local minima\n"
   ]
  },
  {
   "cell_type": "markdown",
   "metadata": {},
   "source": [
    "### QUESTION 7"
   ]
  },
  {
   "cell_type": "markdown",
   "metadata": {},
   "source": [
    "7. Is it possible that Assignment of observations to clusters does not change between successive iterations in K-Means?\n",
    "\n",
    "    a) Yes\n",
    "\n",
    "    b) No\n",
    "\n",
    "    c) Can't say\n",
    "\n",
    "    d) None of these"
   ]
  },
  {
   "cell_type": "markdown",
   "metadata": {},
   "source": [
    "#### A) Yes\n",
    "\n",
    "When algorithm reached at minima then observation to cluster does not going to change for 2 iteration."
   ]
  },
  {
   "cell_type": "markdown",
   "metadata": {},
   "source": [
    "### QUESTION 8"
   ]
  },
  {
   "cell_type": "markdown",
   "metadata": {},
   "source": [
    "8. Which of the following can act as possible termination conditions in K-Means?\n",
    "\n",
    "    i) For a fixed number of iterations.\n",
    "\n",
    "    ii) Assignment of observations to clusters does not change between iterations. Except for cases witha bad local minimum.\n",
    "\n",
    "    iii) Centroids do not change between successive iterations.\n",
    "\n",
    "    iv) Terminate when RSS falls below a threshold. Options:\n",
    "    \n",
    "        a) 1, 3 and 4\n",
    "\n",
    "        b) 1, 2 and 3\n",
    "\n",
    "        c) 1, 2 and 4\n",
    "\n",
    "        d) All of the above"
   ]
  },
  {
   "cell_type": "markdown",
   "metadata": {},
   "source": [
    "#### D) All of the above\n",
    "\n",
    "If we have big data and we give limited no of iteration then it is possible that we will not get quality cluster.\n",
    "same no of assignment of obeservations to cluster leads to high runtime and revert good cluster but not for bad local minima.\n",
    "If centroiid doesn't change for successive iteration, it means that it reached at minima.\n",
    "When RSS falls below thresold it leads to termination as it ensure that particular cluster have quality termination."
   ]
  },
  {
   "cell_type": "markdown",
   "metadata": {},
   "source": [
    "### QUESTION 9"
   ]
  },
  {
   "cell_type": "markdown",
   "metadata": {},
   "source": [
    "9. Which of the following algorithms is most sensitive to outliers?\n",
    "\n",
    "    a) K-means clustering algorithm\n",
    "    \n",
    "    b) K-medians clustering algorithm\n",
    "    \n",
    "    c) K-modes clustering algorithm\n",
    "    \n",
    "    d) K-medoids clustering algorithm"
   ]
  },
  {
   "cell_type": "markdown",
   "metadata": {},
   "source": [
    "#### A) K-means clustering algorithm\n",
    "\n",
    "Generally, it depends on dataset that which one is best but if we talk about general dataset then K-means clustering is best as\n",
    "it proceed with mean of all data point.\n",
    "K-medians used where we have skewed data and medoids it quite complex algorithm compares to others"
   ]
  },
  {
   "cell_type": "markdown",
   "metadata": {},
   "source": [
    "### QUESTION 10"
   ]
  },
  {
   "cell_type": "markdown",
   "metadata": {},
   "source": [
    "10. How can Clustering (Unsupervised Learning) be used to improve the accuracy of Linear Regression model (Supervised Learning):\n",
    "\n",
    "    i) Creating different models for different cluster groups.\n",
    "    \n",
    "    ii) Creating an input feature for cluster ids as an ordinal variable.\n",
    "    \n",
    "    iii) Creating an input feature for cluster centroids as a continuous variable.\n",
    "    \n",
    "    iv) Creating an input feature for cluster size as a continuous variable. Options:\n",
    "        \n",
    "        a) 1 only                                         b) 2 only\n",
    "        \n",
    "        c) 3 and 4                                        d) All of the above"
   ]
  },
  {
   "cell_type": "markdown",
   "metadata": {},
   "source": [
    "#### D) All of the above\n",
    "\n",
    "Here, we will have 2 condition\n",
    "\n",
    "for Single dimentional data, all method can be used by assigning id to cluster and it will leads\n",
    "to revert with useful information and based on it we can improve our regression model.\n",
    "\n",
    "For multi-dimension data, This methods are not much useful as it will not revert useful information for contineuous data."
   ]
  },
  {
   "cell_type": "markdown",
   "metadata": {},
   "source": [
    "### QUESTION 11"
   ]
  },
  {
   "cell_type": "markdown",
   "metadata": {},
   "source": [
    "11. What could be the possible reason(s) for producing two different dendrograms using agglomerative clustering algorithms for the same dataset?\n",
    "\n",
    "    a) Proximity function used\n",
    "\n",
    "    b) of data points used\n",
    "\n",
    "    c) of variables used\n",
    "\n",
    "    d) All of the above"
   ]
  },
  {
   "cell_type": "markdown",
   "metadata": {},
   "source": [
    "#### D) All of the above\n",
    "\n",
    "Given all 3 options are leads to different clustering result and different dendograms results."
   ]
  },
  {
   "cell_type": "markdown",
   "metadata": {},
   "source": [
    "### QUESTION 12"
   ]
  },
  {
   "cell_type": "markdown",
   "metadata": {},
   "source": [
    "#### 12. Is K sensitive to outliers?"
   ]
  },
  {
   "cell_type": "raw",
   "metadata": {},
   "source": [
    "K-means clustering is unsupervised algorithms in which observation devided based on property or value. in this algorithm, we set multiple centroiid and input data in it. Data is divide in that multiple centroiid cluster with reference to nearest centroiid. this process is continue till we get same cluster in 2 iteration. it means that we get final quality cluster and now \n",
    "it is not possible to divide cluster with same centroiid.\n",
    "\n",
    "Outliers are part of dataset and datapoint which have values lower or higher then limit is called outliers. for example, we have marks of 10 students [15,12,10,19,0,16,18,11,86,17]. Here, we can see that all observation are in range of 10 to 20 but 2\n",
    "obeservation [0 and 86] are out of the range so we can say it outliers. it might be possible due to observation error, data entry error or might be actual. we need to neglect it for getting better quality.\n",
    "\n",
    "Sometimes outliers playing big role in clustering as it leads to merged to different cluster with reference to outliers. outliers leads to change in centroiid in 2nd iteration so as a result we got different cluster. thus we can say that K is sensitive to outliers.\n",
    "\n",
    "\n",
    "WITH OUTLIERS:\n",
    "[15,12,10,19,0,16,18,11,86,17] for given example we proceed with k = 2\n",
    "\n",
    "k1 = 10  , k2 = 20\n",
    "\n",
    "k1 = [0,10,11,12,15] k2 = [16,17,18,19,86]\n",
    "\n",
    "k1 = 9.6=10     k2 = 31.2 = 31\n",
    "\n",
    "k1 = [0,10,11,12,15,16,17,18,19] k2 = [86]\n",
    "\n",
    "thus it will leads to reduce quality of cluster.\n",
    "\n",
    "\n",
    "WITHOUT OUTLIERS\n",
    "\n",
    "[15,12,10,19,16,18,11,17]\n",
    "\n",
    "k1 = 10                              k2 = 20\n",
    "\n",
    "k1 = [10,11,12,15]                   k2 = [16,17,18,19]\n",
    "\n",
    "\n",
    "k1 = 12                              k2 = 17.5\n",
    "\n",
    "k1 = [10,11,12]                      k2 = [15,16,17,18,19]\n",
    "\n",
    "k1 = 11                              k2 = 17\n",
    "\n",
    "k1 = [10,11,12]                      k2 = [15,16,17,18,19]\n",
    "\n",
    "here we get same result in 2 iteration, so it is our final cluster. we can see difference that how outliers effect to K.\n"
   ]
  },
  {
   "cell_type": "markdown",
   "metadata": {},
   "source": [
    "### QUESTION 13"
   ]
  },
  {
   "cell_type": "markdown",
   "metadata": {},
   "source": [
    "#### 13. Why is K means better?"
   ]
  },
  {
   "cell_type": "raw",
   "metadata": {},
   "source": [
    "K-means is technique to divide datapoint into unique cluster. where it works based on mean value of data cluster. in 1st iteration\n",
    "we need to give mean value then it will take it randomly. it will contineous till get no change in centroiid.\n",
    "\n",
    "First things i like about K-means is it's simplicity to apply. \n",
    "\n",
    "One can easily applied it on large dataset also.\n",
    "\n",
    "Need to control only K value and no of iteration.\n",
    "\n",
    "Worked for all type dataset.\n",
    "\n",
    "can varying widths and dimensions.\n",
    "\n",
    "getting non-overlapping cluster and no of objective in cluster can be handled.\n",
    "\n",
    "It will give best result in case of large dataset also. in this case, no of iteration is increased but we get quality cluster."
   ]
  },
  {
   "cell_type": "markdown",
   "metadata": {},
   "source": [
    "### QUASTION 14"
   ]
  },
  {
   "cell_type": "markdown",
   "metadata": {},
   "source": [
    "#### 14. Is K means a deterministic algorithm?"
   ]
  },
  {
   "cell_type": "raw",
   "metadata": {},
   "source": [
    "Ans is yes or no both because in general case K-means is deterministic algorithm as in this algorithm initial centroiid is taken randomly. This algorithm is totally depend on selection of initial centroiid selection so we can say that K-means is non-deterministic algorithm.\n",
    "\n",
    "If we proceed with control over initial centroiid manually inplace of random selection than it will leads to deterministic mode\n",
    "of algorithm.\n"
   ]
  },
  {
   "cell_type": "code",
   "execution_count": null,
   "metadata": {},
   "outputs": [],
   "source": []
  }
 ],
 "metadata": {
  "kernelspec": {
   "display_name": "Python 3",
   "language": "python",
   "name": "python3"
  },
  "language_info": {
   "codemirror_mode": {
    "name": "ipython",
    "version": 3
   },
   "file_extension": ".py",
   "mimetype": "text/x-python",
   "name": "python",
   "nbconvert_exporter": "python",
   "pygments_lexer": "ipython3",
   "version": "3.8.3"
  }
 },
 "nbformat": 4,
 "nbformat_minor": 4
}
