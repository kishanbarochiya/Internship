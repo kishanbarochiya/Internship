{
 "cells": [
  {
   "cell_type": "markdown",
   "metadata": {},
   "source": [
    "### 1. Scrape the details of most viewed videos on YouTube from Wikipedia.\n",
    "Url = https://en.wikipedia.org/wiki/List_of_most-viewed_YouTube_videos\n"
   ]
  },
  {
   "cell_type": "code",
   "execution_count": 1,
   "metadata": {},
   "outputs": [
    {
     "name": "stderr",
     "output_type": "stream",
     "text": [
      "C:\\Users\\Kishan\\anaconda3\\lib\\site-packages\\requests\\__init__.py:89: RequestsDependencyWarning: urllib3 (1.26.7) or chardet (3.0.4) doesn't match a supported version!\n",
      "  warnings.warn(\"urllib3 ({}) or chardet ({}) doesn't match a supported \"\n"
     ]
    }
   ],
   "source": [
    "import selenium\n",
    "import pandas as pd\n",
    "from selenium import webdriver\n",
    "import time\n",
    "import requests"
   ]
  },
  {
   "cell_type": "code",
   "execution_count": 4,
   "metadata": {},
   "outputs": [
    {
     "name": "stderr",
     "output_type": "stream",
     "text": [
      "<ipython-input-4-a609ca60071f>:1: DeprecationWarning: executable_path has been deprecated, please pass in a Service object\n",
      "  driver1= webdriver.Chrome('C:/Users/Kishan/Downloads/chromedriver_win32/chromedriver.exe')\n"
     ]
    }
   ],
   "source": [
    "driver1= webdriver.Chrome('C:/Users/Kishan/Downloads/chromedriver_win32/chromedriver.exe')\n",
    "url1='https://en.wikipedia.org/wiki/List_of_most-viewed_YouTube_videos/'\n",
    "driver1.get(url1)"
   ]
  },
  {
   "cell_type": "code",
   "execution_count": 6,
   "metadata": {},
   "outputs": [
    {
     "name": "stderr",
     "output_type": "stream",
     "text": [
      "<ipython-input-6-344097230f1f>:1: DeprecationWarning: find_element_by_* commands are deprecated. Please use find_element() instead\n",
      "  search= driver1.find_element_by_xpath(\"//input[@class='vector-search-box-input']\")\n"
     ]
    }
   ],
   "source": [
    "search= driver1.find_element_by_xpath(\"//input[@class='vector-search-box-input']\")\n",
    "search.send_keys(\"List_of_most-viewed_YouTube_videos\")"
   ]
  },
  {
   "cell_type": "code",
   "execution_count": 7,
   "metadata": {},
   "outputs": [
    {
     "name": "stderr",
     "output_type": "stream",
     "text": [
      "<ipython-input-7-5ff00320cd7c>:1: DeprecationWarning: find_element_by_* commands are deprecated. Please use find_element() instead\n",
      "  btn=driver1.find_element_by_id(\"searchButton\").click()\n"
     ]
    }
   ],
   "source": [
    "btn=driver1.find_element_by_id(\"searchButton\").click()"
   ]
  },
  {
   "cell_type": "code",
   "execution_count": 8,
   "metadata": {},
   "outputs": [
    {
     "name": "stderr",
     "output_type": "stream",
     "text": [
      "<ipython-input-8-c059001f6c23>:2: DeprecationWarning: find_elements_by_* commands are deprecated. Please use find_elements() instead\n",
      "  rank=driver1.find_elements_by_xpath(\"//div[@class='mw-body-content mw-content-ltr']//table[3]//tbody[1]//tr//td[1]\")\n"
     ]
    },
    {
     "data": {
      "text/plain": [
       "30"
      ]
     },
     "execution_count": 8,
     "metadata": {},
     "output_type": "execute_result"
    }
   ],
   "source": [
    "Rank=[]\n",
    "rank=driver1.find_elements_by_xpath(\"//div[@class='mw-body-content mw-content-ltr']//table[3]//tbody[1]//tr//td[1]\")\n",
    "\n",
    "for i in rank:\n",
    "    Rank.append(i.text)\n",
    "len(Rank)"
   ]
  },
  {
   "cell_type": "code",
   "execution_count": 9,
   "metadata": {},
   "outputs": [
    {
     "name": "stderr",
     "output_type": "stream",
     "text": [
      "<ipython-input-9-df73e70b1b33>:1: DeprecationWarning: find_elements_by_* commands are deprecated. Please use find_elements() instead\n",
      "  name=driver1.find_elements_by_xpath(\"//div[@class='mw-body-content mw-content-ltr']//div[1]//table[3]//tbody[1]//tr//td[2]\")\n"
     ]
    },
    {
     "data": {
      "text/plain": [
       "30"
      ]
     },
     "execution_count": 9,
     "metadata": {},
     "output_type": "execute_result"
    }
   ],
   "source": [
    "name=driver1.find_elements_by_xpath(\"//div[@class='mw-body-content mw-content-ltr']//div[1]//table[3]//tbody[1]//tr//td[2]\")\n",
    "Name=[]\n",
    "for i in name:\n",
    "    Name.append(i.text)\n",
    "len(Name)"
   ]
  },
  {
   "cell_type": "code",
   "execution_count": 10,
   "metadata": {},
   "outputs": [
    {
     "name": "stderr",
     "output_type": "stream",
     "text": [
      "<ipython-input-10-4500b91f86a1>:2: DeprecationWarning: find_elements_by_* commands are deprecated. Please use find_elements() instead\n",
      "  arst=driver1.find_elements_by_xpath(\"//div[@class='mw-body-content mw-content-ltr']//div[1]//table[3]//tbody[1]//tr//td[3]\")\n"
     ]
    },
    {
     "data": {
      "text/plain": [
       "30"
      ]
     },
     "execution_count": 10,
     "metadata": {},
     "output_type": "execute_result"
    }
   ],
   "source": [
    "Artist=[]\n",
    "arst=driver1.find_elements_by_xpath(\"//div[@class='mw-body-content mw-content-ltr']//div[1]//table[3]//tbody[1]//tr//td[3]\")\n",
    "\n",
    "for i in arst:\n",
    "    Artist.append(i.text)\n",
    "len(Artist)"
   ]
  },
  {
   "cell_type": "code",
   "execution_count": 11,
   "metadata": {},
   "outputs": [
    {
     "name": "stderr",
     "output_type": "stream",
     "text": [
      "<ipython-input-11-aff003100164>:3: DeprecationWarning: find_elements_by_* commands are deprecated. Please use find_elements() instead\n",
      "  vws=driver1.find_elements_by_xpath(\"//div[@class='mw-body-content mw-content-ltr']//div[1]//table[3]//tbody[1]//tr//td[4]\")\n"
     ]
    },
    {
     "data": {
      "text/plain": [
       "30"
      ]
     },
     "execution_count": 11,
     "metadata": {},
     "output_type": "execute_result"
    }
   ],
   "source": [
    "Views=[]\n",
    "\n",
    "vws=driver1.find_elements_by_xpath(\"//div[@class='mw-body-content mw-content-ltr']//div[1]//table[3]//tbody[1]//tr//td[4]\")\n",
    "\n",
    "for i in vws:\n",
    "    Views.append(i.text)\n",
    "len(Views)"
   ]
  },
  {
   "cell_type": "code",
   "execution_count": 12,
   "metadata": {},
   "outputs": [
    {
     "name": "stderr",
     "output_type": "stream",
     "text": [
      "<ipython-input-12-3629e18cc7b6>:3: DeprecationWarning: find_elements_by_* commands are deprecated. Please use find_elements() instead\n",
      "  ud=driver1.find_elements_by_xpath(\"//div[@class='mw-body-content mw-content-ltr']//div[1]//table[3]//tbody[1]//tr//td[5]\")\n"
     ]
    },
    {
     "data": {
      "text/plain": [
       "30"
      ]
     },
     "execution_count": 12,
     "metadata": {},
     "output_type": "execute_result"
    }
   ],
   "source": [
    "Upload_Date=[]\n",
    "\n",
    "ud=driver1.find_elements_by_xpath(\"//div[@class='mw-body-content mw-content-ltr']//div[1]//table[3]//tbody[1]//tr//td[5]\")\n",
    "\n",
    "for i in ud:\n",
    "    Upload_Date.append(i.text)\n",
    "    \n",
    "len(Upload_Date)"
   ]
  },
  {
   "cell_type": "code",
   "execution_count": 13,
   "metadata": {},
   "outputs": [
    {
     "data": {
      "text/html": [
       "<div>\n",
       "<style scoped>\n",
       "    .dataframe tbody tr th:only-of-type {\n",
       "        vertical-align: middle;\n",
       "    }\n",
       "\n",
       "    .dataframe tbody tr th {\n",
       "        vertical-align: top;\n",
       "    }\n",
       "\n",
       "    .dataframe thead th {\n",
       "        text-align: right;\n",
       "    }\n",
       "</style>\n",
       "<table border=\"1\" class=\"dataframe\">\n",
       "  <thead>\n",
       "    <tr style=\"text-align: right;\">\n",
       "      <th></th>\n",
       "      <th>Rank</th>\n",
       "      <th>Video Name</th>\n",
       "      <th>Artist Name</th>\n",
       "      <th>Uploaded Date</th>\n",
       "      <th>No of Views</th>\n",
       "    </tr>\n",
       "  </thead>\n",
       "  <tbody>\n",
       "    <tr>\n",
       "      <th>0</th>\n",
       "      <td>1.</td>\n",
       "      <td>\"Baby Shark Dance\"[3]</td>\n",
       "      <td>Pinkfong Baby Shark - Kids' Songs &amp; Stories</td>\n",
       "      <td>June 17, 2016</td>\n",
       "      <td>9.95</td>\n",
       "    </tr>\n",
       "    <tr>\n",
       "      <th>1</th>\n",
       "      <td>2.</td>\n",
       "      <td>\"Despacito\"[5]</td>\n",
       "      <td>Luis Fonsi</td>\n",
       "      <td>January 12, 2017</td>\n",
       "      <td>7.69</td>\n",
       "    </tr>\n",
       "    <tr>\n",
       "      <th>2</th>\n",
       "      <td>3.</td>\n",
       "      <td>\"Johny Johny Yes Papa\"[11]</td>\n",
       "      <td>LooLoo Kids</td>\n",
       "      <td>October 8, 2016</td>\n",
       "      <td>6.08</td>\n",
       "    </tr>\n",
       "    <tr>\n",
       "      <th>3</th>\n",
       "      <td>4.</td>\n",
       "      <td>\"Shape of You\"[12]</td>\n",
       "      <td>Ed Sheeran</td>\n",
       "      <td>January 30, 2017</td>\n",
       "      <td>5.58</td>\n",
       "    </tr>\n",
       "    <tr>\n",
       "      <th>4</th>\n",
       "      <td>5.</td>\n",
       "      <td>\"See You Again\"[14]</td>\n",
       "      <td>Wiz Khalifa</td>\n",
       "      <td>April 6, 2015</td>\n",
       "      <td>5.38</td>\n",
       "    </tr>\n",
       "    <tr>\n",
       "      <th>5</th>\n",
       "      <td>6.</td>\n",
       "      <td>\"Bath Song\"[19]</td>\n",
       "      <td>Cocomelon – Nursery Rhymes</td>\n",
       "      <td>May 2, 2018</td>\n",
       "      <td>4.82</td>\n",
       "    </tr>\n",
       "    <tr>\n",
       "      <th>6</th>\n",
       "      <td>7.</td>\n",
       "      <td>\"Learning Colors – Colorful Eggs on a Farm\"[20]</td>\n",
       "      <td>Miroshka TV</td>\n",
       "      <td>February 27, 2018</td>\n",
       "      <td>4.54</td>\n",
       "    </tr>\n",
       "    <tr>\n",
       "      <th>7</th>\n",
       "      <td>8.</td>\n",
       "      <td>\"Masha and the Bear – Recipe for Disaster\"[21]</td>\n",
       "      <td>Get Movies</td>\n",
       "      <td>January 31, 2012</td>\n",
       "      <td>4.48</td>\n",
       "    </tr>\n",
       "    <tr>\n",
       "      <th>8</th>\n",
       "      <td>9.</td>\n",
       "      <td>\"Uptown Funk\"[22]</td>\n",
       "      <td>Mark Ronson</td>\n",
       "      <td>November 19, 2014</td>\n",
       "      <td>4.42</td>\n",
       "    </tr>\n",
       "    <tr>\n",
       "      <th>9</th>\n",
       "      <td>10.</td>\n",
       "      <td>\"Phonics Song with Two Words\"[23]</td>\n",
       "      <td>ChuChu TV</td>\n",
       "      <td>March 6, 2014</td>\n",
       "      <td>4.39</td>\n",
       "    </tr>\n",
       "    <tr>\n",
       "      <th>10</th>\n",
       "      <td>11.</td>\n",
       "      <td>\"Gangnam Style\"[24]</td>\n",
       "      <td>Psy</td>\n",
       "      <td>July 15, 2012</td>\n",
       "      <td>4.30</td>\n",
       "    </tr>\n",
       "    <tr>\n",
       "      <th>11</th>\n",
       "      <td>12.</td>\n",
       "      <td>\"Dame Tu Cosita\"[29]</td>\n",
       "      <td>El Chombo</td>\n",
       "      <td>April 5, 2018</td>\n",
       "      <td>3.79</td>\n",
       "    </tr>\n",
       "    <tr>\n",
       "      <th>12</th>\n",
       "      <td>13.</td>\n",
       "      <td>\"Sugar\"[30]</td>\n",
       "      <td>Maroon 5</td>\n",
       "      <td>January 14, 2015</td>\n",
       "      <td>3.62</td>\n",
       "    </tr>\n",
       "    <tr>\n",
       "      <th>13</th>\n",
       "      <td>14.</td>\n",
       "      <td>\"Sorry\"[31]</td>\n",
       "      <td>Justin Bieber</td>\n",
       "      <td>October 22, 2015</td>\n",
       "      <td>3.50</td>\n",
       "    </tr>\n",
       "    <tr>\n",
       "      <th>14</th>\n",
       "      <td>15.</td>\n",
       "      <td>\"Roar\"[32]</td>\n",
       "      <td>Katy Perry</td>\n",
       "      <td>September 5, 2013</td>\n",
       "      <td>3.50</td>\n",
       "    </tr>\n",
       "    <tr>\n",
       "      <th>15</th>\n",
       "      <td>16.</td>\n",
       "      <td>\"Counting Stars\"[33]</td>\n",
       "      <td>OneRepublic</td>\n",
       "      <td>May 31, 2013</td>\n",
       "      <td>3.48</td>\n",
       "    </tr>\n",
       "    <tr>\n",
       "      <th>16</th>\n",
       "      <td>17.</td>\n",
       "      <td>\"Wheels on the Bus\"[34]</td>\n",
       "      <td>Cocomelon – Nursery Rhymes</td>\n",
       "      <td>May 24, 2018</td>\n",
       "      <td>3.46</td>\n",
       "    </tr>\n",
       "    <tr>\n",
       "      <th>17</th>\n",
       "      <td>18.</td>\n",
       "      <td>\"Thinking Out Loud\"[35]</td>\n",
       "      <td>Ed Sheeran</td>\n",
       "      <td>October 7, 2014</td>\n",
       "      <td>3.38</td>\n",
       "    </tr>\n",
       "    <tr>\n",
       "      <th>18</th>\n",
       "      <td>19.</td>\n",
       "      <td>\"Girls Like You\"[36]</td>\n",
       "      <td>Maroon 5</td>\n",
       "      <td>May 31, 2018</td>\n",
       "      <td>3.21</td>\n",
       "    </tr>\n",
       "    <tr>\n",
       "      <th>19</th>\n",
       "      <td>20.</td>\n",
       "      <td>\"Faded\"[37]</td>\n",
       "      <td>Alan Walker</td>\n",
       "      <td>December 3, 2015</td>\n",
       "      <td>3.21</td>\n",
       "    </tr>\n",
       "    <tr>\n",
       "      <th>20</th>\n",
       "      <td>21.</td>\n",
       "      <td>\"Dark Horse\"[38]</td>\n",
       "      <td>Katy Perry</td>\n",
       "      <td>February 20, 2014</td>\n",
       "      <td>3.20</td>\n",
       "    </tr>\n",
       "    <tr>\n",
       "      <th>21</th>\n",
       "      <td>22.</td>\n",
       "      <td>\"Axel F\"[39]</td>\n",
       "      <td>Crazy Frog</td>\n",
       "      <td>June 16, 2009</td>\n",
       "      <td>3.16</td>\n",
       "    </tr>\n",
       "    <tr>\n",
       "      <th>22</th>\n",
       "      <td>23.</td>\n",
       "      <td>\"Bailando\"[40]</td>\n",
       "      <td>Enrique Iglesias</td>\n",
       "      <td>April 11, 2014</td>\n",
       "      <td>3.15</td>\n",
       "    </tr>\n",
       "    <tr>\n",
       "      <th>23</th>\n",
       "      <td>24.</td>\n",
       "      <td>\"Let Her Go\"[41]</td>\n",
       "      <td>Passenger</td>\n",
       "      <td>July 25, 2012</td>\n",
       "      <td>3.15</td>\n",
       "    </tr>\n",
       "    <tr>\n",
       "      <th>24</th>\n",
       "      <td>25.</td>\n",
       "      <td>\"Lean On\"[42]</td>\n",
       "      <td>Major Lazer</td>\n",
       "      <td>March 22, 2015</td>\n",
       "      <td>3.14</td>\n",
       "    </tr>\n",
       "    <tr>\n",
       "      <th>25</th>\n",
       "      <td>26.</td>\n",
       "      <td>\"Shake It Off\"[43]</td>\n",
       "      <td>Taylor Swift</td>\n",
       "      <td>August 18, 2014</td>\n",
       "      <td>3.13</td>\n",
       "    </tr>\n",
       "    <tr>\n",
       "      <th>26</th>\n",
       "      <td>27.</td>\n",
       "      <td>\"Perfect\"[44]</td>\n",
       "      <td>Ed Sheeran</td>\n",
       "      <td>November 9, 2017</td>\n",
       "      <td>3.06</td>\n",
       "    </tr>\n",
       "    <tr>\n",
       "      <th>27</th>\n",
       "      <td>28.</td>\n",
       "      <td>\"Baa Baa Black Sheep\"[45]</td>\n",
       "      <td>Cocomelon – Nursery Rhymes</td>\n",
       "      <td>June 25, 2018</td>\n",
       "      <td>3.04</td>\n",
       "    </tr>\n",
       "    <tr>\n",
       "      <th>28</th>\n",
       "      <td>29.</td>\n",
       "      <td>\"Waka Waka (This Time for Africa)\"[46]</td>\n",
       "      <td>Shakira</td>\n",
       "      <td>June 4, 2010</td>\n",
       "      <td>3.02</td>\n",
       "    </tr>\n",
       "    <tr>\n",
       "      <th>29</th>\n",
       "      <td>30.</td>\n",
       "      <td>\"Mi Gente\"[47]</td>\n",
       "      <td>J Balvin</td>\n",
       "      <td>June 29, 2017</td>\n",
       "      <td>3.02</td>\n",
       "    </tr>\n",
       "  </tbody>\n",
       "</table>\n",
       "</div>"
      ],
      "text/plain": [
       "   Rank                                       Video Name  \\\n",
       "0    1.                            \"Baby Shark Dance\"[3]   \n",
       "1    2.                                   \"Despacito\"[5]   \n",
       "2    3.                       \"Johny Johny Yes Papa\"[11]   \n",
       "3    4.                               \"Shape of You\"[12]   \n",
       "4    5.                              \"See You Again\"[14]   \n",
       "5    6.                                  \"Bath Song\"[19]   \n",
       "6    7.  \"Learning Colors – Colorful Eggs on a Farm\"[20]   \n",
       "7    8.   \"Masha and the Bear – Recipe for Disaster\"[21]   \n",
       "8    9.                                \"Uptown Funk\"[22]   \n",
       "9   10.                \"Phonics Song with Two Words\"[23]   \n",
       "10  11.                              \"Gangnam Style\"[24]   \n",
       "11  12.                             \"Dame Tu Cosita\"[29]   \n",
       "12  13.                                      \"Sugar\"[30]   \n",
       "13  14.                                      \"Sorry\"[31]   \n",
       "14  15.                                       \"Roar\"[32]   \n",
       "15  16.                             \"Counting Stars\"[33]   \n",
       "16  17.                          \"Wheels on the Bus\"[34]   \n",
       "17  18.                          \"Thinking Out Loud\"[35]   \n",
       "18  19.                             \"Girls Like You\"[36]   \n",
       "19  20.                                      \"Faded\"[37]   \n",
       "20  21.                                 \"Dark Horse\"[38]   \n",
       "21  22.                                     \"Axel F\"[39]   \n",
       "22  23.                                   \"Bailando\"[40]   \n",
       "23  24.                                 \"Let Her Go\"[41]   \n",
       "24  25.                                    \"Lean On\"[42]   \n",
       "25  26.                               \"Shake It Off\"[43]   \n",
       "26  27.                                    \"Perfect\"[44]   \n",
       "27  28.                        \"Baa Baa Black Sheep\"[45]   \n",
       "28  29.           \"Waka Waka (This Time for Africa)\"[46]   \n",
       "29  30.                                   \"Mi Gente\"[47]   \n",
       "\n",
       "                                    Artist Name      Uploaded Date No of Views  \n",
       "0   Pinkfong Baby Shark - Kids' Songs & Stories      June 17, 2016        9.95  \n",
       "1                                    Luis Fonsi   January 12, 2017        7.69  \n",
       "2                                   LooLoo Kids    October 8, 2016        6.08  \n",
       "3                                    Ed Sheeran   January 30, 2017        5.58  \n",
       "4                                   Wiz Khalifa      April 6, 2015        5.38  \n",
       "5                    Cocomelon – Nursery Rhymes        May 2, 2018        4.82  \n",
       "6                                   Miroshka TV  February 27, 2018        4.54  \n",
       "7                                    Get Movies   January 31, 2012        4.48  \n",
       "8                                   Mark Ronson  November 19, 2014        4.42  \n",
       "9                                     ChuChu TV      March 6, 2014        4.39  \n",
       "10                                          Psy      July 15, 2012        4.30  \n",
       "11                                    El Chombo      April 5, 2018        3.79  \n",
       "12                                     Maroon 5   January 14, 2015        3.62  \n",
       "13                                Justin Bieber   October 22, 2015        3.50  \n",
       "14                                   Katy Perry  September 5, 2013        3.50  \n",
       "15                                  OneRepublic       May 31, 2013        3.48  \n",
       "16                   Cocomelon – Nursery Rhymes       May 24, 2018        3.46  \n",
       "17                                   Ed Sheeran    October 7, 2014        3.38  \n",
       "18                                     Maroon 5       May 31, 2018        3.21  \n",
       "19                                  Alan Walker   December 3, 2015        3.21  \n",
       "20                                   Katy Perry  February 20, 2014        3.20  \n",
       "21                                   Crazy Frog      June 16, 2009        3.16  \n",
       "22                             Enrique Iglesias     April 11, 2014        3.15  \n",
       "23                                    Passenger      July 25, 2012        3.15  \n",
       "24                                  Major Lazer     March 22, 2015        3.14  \n",
       "25                                 Taylor Swift    August 18, 2014        3.13  \n",
       "26                                   Ed Sheeran   November 9, 2017        3.06  \n",
       "27                   Cocomelon – Nursery Rhymes      June 25, 2018        3.04  \n",
       "28                                      Shakira       June 4, 2010        3.02  \n",
       "29                                     J Balvin      June 29, 2017        3.02  "
      ]
     },
     "execution_count": 13,
     "metadata": {},
     "output_type": "execute_result"
    }
   ],
   "source": [
    "df1=pd.DataFrame()\n",
    "\n",
    "df1['Rank']=Rank\n",
    "df1['Video Name']=Name\n",
    "df1['Artist Name']=Artist\n",
    "df1['Uploaded Date']=Upload_Date\n",
    "df1['No of Views']=Views\n",
    "\n",
    "df1"
   ]
  },
  {
   "cell_type": "markdown",
   "metadata": {},
   "source": [
    "### Scrape the details team India’s international fixtures from bcci.tv.\n",
    "Url = https://www.bcci.tv/."
   ]
  },
  {
   "cell_type": "code",
   "execution_count": 35,
   "metadata": {},
   "outputs": [
    {
     "name": "stderr",
     "output_type": "stream",
     "text": [
      "<ipython-input-35-cfde7072e4d7>:1: DeprecationWarning: executable_path has been deprecated, please pass in a Service object\n",
      "  driver2 = webdriver.Chrome('C:/Users/Kishan/Downloads/chromedriver_win32/chromedriver.exe')\n"
     ]
    }
   ],
   "source": [
    "driver2 = webdriver.Chrome('C:/Users/Kishan/Downloads/chromedriver_win32/chromedriver.exe')\n",
    "url2='https://www.bcci.tv/'\n",
    "driver2.get(url2)"
   ]
  },
  {
   "cell_type": "code",
   "execution_count": 36,
   "metadata": {},
   "outputs": [
    {
     "name": "stderr",
     "output_type": "stream",
     "text": [
      "<ipython-input-36-8ab81e2faa4c>:1: DeprecationWarning: find_elements_by_* commands are deprecated. Please use find_elements() instead\n",
      "  ints=driver2.find_elements_by_xpath(\"/html/body/div[13]/div/div[1]/div[2]/ul[1]/li[2]/a\")\n"
     ]
    }
   ],
   "source": [
    "ints=driver2.find_elements_by_xpath(\"/html/body/div[13]/div/div[1]/div[2]/ul[1]/li[2]/a\")\n",
    "\n",
    "for i in ints:\n",
    "    i.text=='INTERNATIONAL'\n",
    "    i.click()\n",
    "    break"
   ]
  },
  {
   "cell_type": "code",
   "execution_count": 53,
   "metadata": {},
   "outputs": [
    {
     "name": "stderr",
     "output_type": "stream",
     "text": [
      "<ipython-input-53-8255e86ba5a6>:3: DeprecationWarning: find_elements_by_* commands are deprecated. Please use find_elements() instead\n",
      "  mt=driver2.find_elements_by_xpath(\"//span[@class='ng-binding']\")\n"
     ]
    },
    {
     "data": {
      "text/plain": [
       "8"
      ]
     },
     "execution_count": 53,
     "metadata": {},
     "output_type": "execute_result"
    }
   ],
   "source": [
    "Series=[]\n",
    "\n",
    "mt=driver2.find_elements_by_xpath(\"//span[@class='ng-binding']\")\n",
    "\n",
    "for i in mt:\n",
    "    Series.append(i.text)\n",
    "len(Series)"
   ]
  },
  {
   "cell_type": "code",
   "execution_count": 54,
   "metadata": {},
   "outputs": [
    {
     "data": {
      "text/plain": [
       "['INDIA TOUR OF SOUTH AFRICA TEST SERIES 2021-22',\n",
       " 'INDIA TOUR OF SOUTH AFRICA ODI SERIES 2021/22',\n",
       " 'INDIA TOUR OF SOUTH AFRICA ODI SERIES 2021/22',\n",
       " 'INDIA TOUR OF SOUTH AFRICA ODI SERIES 2021/22',\n",
       " 'WEST INDIES TOUR OF INDIA ODI SERIES 2022',\n",
       " 'WEST INDIES TOUR OF INDIA ODI SERIES 2022',\n",
       " 'WEST INDIES TOUR OF INDIA ODI SERIES 2022',\n",
       " 'WEST INDIES TOUR OF INDIA T20 SERIES 2022']"
      ]
     },
     "execution_count": 54,
     "metadata": {},
     "output_type": "execute_result"
    }
   ],
   "source": [
    "Match_Title"
   ]
  },
  {
   "cell_type": "code",
   "execution_count": 61,
   "metadata": {},
   "outputs": [
    {
     "name": "stderr",
     "output_type": "stream",
     "text": [
      "<ipython-input-61-9dfe2b454962>:3: DeprecationWarning: find_elements_by_* commands are deprecated. Please use find_elements() instead\n",
      "  mt=driver2.find_elements_by_xpath(\"//div[@class='fix-place ng-binding ng-scope']\")\n"
     ]
    },
    {
     "data": {
      "text/plain": [
       "8"
      ]
     },
     "execution_count": 61,
     "metadata": {},
     "output_type": "execute_result"
    }
   ],
   "source": [
    "Match_Title=[]\n",
    "\n",
    "mt=driver2.find_elements_by_xpath(\"//div[@class='fix-place ng-binding ng-scope']\")\n",
    "\n",
    "for i in mt:\n",
    "    Match_Title.append(i.text)\n",
    "len(Match_Title)"
   ]
  },
  {
   "cell_type": "code",
   "execution_count": 63,
   "metadata": {},
   "outputs": [
    {
     "name": "stderr",
     "output_type": "stream",
     "text": [
      "<ipython-input-63-29a66d989028>:3: DeprecationWarning: find_elements_by_* commands are deprecated. Please use find_elements() instead\n",
      "  mt=driver2.find_elements_by_xpath(\"//div[@class='fix-place ng-binding ng-scope']/span[1]\")\n"
     ]
    },
    {
     "data": {
      "text/plain": [
       "8"
      ]
     },
     "execution_count": 63,
     "metadata": {},
     "output_type": "execute_result"
    }
   ],
   "source": [
    "Place=[]\n",
    "\n",
    "mt=driver2.find_elements_by_xpath(\"//div[@class='fix-place ng-binding ng-scope']/span[1]\")\n",
    "\n",
    "for i in mt:\n",
    "    Place.append(i.text)\n",
    "len(Place)"
   ]
  },
  {
   "cell_type": "code",
   "execution_count": 51,
   "metadata": {},
   "outputs": [
    {
     "name": "stderr",
     "output_type": "stream",
     "text": [
      "<ipython-input-51-182dc13a6767>:3: DeprecationWarning: find_elements_by_* commands are deprecated. Please use find_elements() instead\n",
      "  dt=driver2.find_elements_by_xpath(\"//h5[@class='ng-binding']\")\n"
     ]
    },
    {
     "data": {
      "text/plain": [
       "8"
      ]
     },
     "execution_count": 51,
     "metadata": {},
     "output_type": "execute_result"
    }
   ],
   "source": [
    "Date=[]\n",
    "\n",
    "dt=driver2.find_elements_by_xpath(\"//h5[@class='ng-binding']\")\n",
    "\n",
    "for i in dt:\n",
    "    Date.append(i.text)\n",
    "    \n",
    "len(Date)"
   ]
  },
  {
   "cell_type": "code",
   "execution_count": 52,
   "metadata": {},
   "outputs": [
    {
     "name": "stderr",
     "output_type": "stream",
     "text": [
      "<ipython-input-52-db45ca18a1b4>:3: DeprecationWarning: find_elements_by_* commands are deprecated. Please use find_elements() instead\n",
      "  tm=driver2.find_elements_by_xpath(\"//h5[@class='text-right ng-binding']\")\n"
     ]
    },
    {
     "data": {
      "text/plain": [
       "['2:00 PM IST',\n",
       " '2:00 PM IST',\n",
       " '2:00 PM IST',\n",
       " '2:00 PM IST',\n",
       " '9:30 AM IST',\n",
       " '9:30 AM IST',\n",
       " '9:30 AM IST',\n",
       " '7:30 PM IST']"
      ]
     },
     "execution_count": 52,
     "metadata": {},
     "output_type": "execute_result"
    }
   ],
   "source": [
    "Time=[]\n",
    "\n",
    "tm=driver2.find_elements_by_xpath(\"//h5[@class='text-right ng-binding']\")\n",
    "\n",
    "for i in tm:\n",
    "    Time.append(i.text)\n",
    "Time"
   ]
  },
  {
   "cell_type": "code",
   "execution_count": 69,
   "metadata": {},
   "outputs": [
    {
     "data": {
      "text/html": [
       "<div>\n",
       "<style scoped>\n",
       "    .dataframe tbody tr th:only-of-type {\n",
       "        vertical-align: middle;\n",
       "    }\n",
       "\n",
       "    .dataframe tbody tr th {\n",
       "        vertical-align: top;\n",
       "    }\n",
       "\n",
       "    .dataframe thead th {\n",
       "        text-align: right;\n",
       "    }\n",
       "</style>\n",
       "<table border=\"1\" class=\"dataframe\">\n",
       "  <thead>\n",
       "    <tr style=\"text-align: right;\">\n",
       "      <th></th>\n",
       "      <th>Match Title</th>\n",
       "      <th>Series</th>\n",
       "      <th>Place</th>\n",
       "      <th>Date</th>\n",
       "      <th>Time</th>\n",
       "    </tr>\n",
       "  </thead>\n",
       "  <tbody>\n",
       "    <tr>\n",
       "      <th>0</th>\n",
       "      <td>3rd Test - Newlands, Cape Town</td>\n",
       "      <td>INDIA TOUR OF SOUTH AFRICA TEST SERIES 2021-22</td>\n",
       "      <td>Newlands,</td>\n",
       "      <td>11 JAN 2022</td>\n",
       "      <td>2:00 PM IST</td>\n",
       "    </tr>\n",
       "    <tr>\n",
       "      <th>1</th>\n",
       "      <td>1st ODI - Boland Park, Paarl</td>\n",
       "      <td>INDIA TOUR OF SOUTH AFRICA ODI SERIES 2021/22</td>\n",
       "      <td>Boland Park,</td>\n",
       "      <td>19 JAN 2022</td>\n",
       "      <td>2:00 PM IST</td>\n",
       "    </tr>\n",
       "    <tr>\n",
       "      <th>2</th>\n",
       "      <td>2nd ODI - Boland Park, Paarl</td>\n",
       "      <td>INDIA TOUR OF SOUTH AFRICA ODI SERIES 2021/22</td>\n",
       "      <td>Boland Park,</td>\n",
       "      <td>21 JAN 2022</td>\n",
       "      <td>2:00 PM IST</td>\n",
       "    </tr>\n",
       "    <tr>\n",
       "      <th>3</th>\n",
       "      <td>3rd ODI - Newlands, Cape Town</td>\n",
       "      <td>INDIA TOUR OF SOUTH AFRICA ODI SERIES 2021/22</td>\n",
       "      <td>Newlands,</td>\n",
       "      <td>23 JAN 2022</td>\n",
       "      <td>2:00 PM IST</td>\n",
       "    </tr>\n",
       "    <tr>\n",
       "      <th>4</th>\n",
       "      <td>1st ODI - NARENDRA MODI STADIUM, Ahmedabad</td>\n",
       "      <td>WEST INDIES TOUR OF INDIA ODI SERIES 2022</td>\n",
       "      <td>NARENDRA MODI STADIUM,</td>\n",
       "      <td>6 FEB 2022</td>\n",
       "      <td>9:30 AM IST</td>\n",
       "    </tr>\n",
       "    <tr>\n",
       "      <th>5</th>\n",
       "      <td>2nd ODI - Sawai Mansingh Stadium, Jaipur</td>\n",
       "      <td>WEST INDIES TOUR OF INDIA ODI SERIES 2022</td>\n",
       "      <td>Sawai Mansingh Stadium,</td>\n",
       "      <td>9 FEB 2022</td>\n",
       "      <td>9:30 AM IST</td>\n",
       "    </tr>\n",
       "    <tr>\n",
       "      <th>6</th>\n",
       "      <td>3rd ODI - Eden Gardens, Kolkata</td>\n",
       "      <td>WEST INDIES TOUR OF INDIA ODI SERIES 2022</td>\n",
       "      <td>Eden Gardens,</td>\n",
       "      <td>12 FEB 2022</td>\n",
       "      <td>9:30 AM IST</td>\n",
       "    </tr>\n",
       "    <tr>\n",
       "      <th>7</th>\n",
       "      <td>1st T20 - Barabati Stadium, Cuttack</td>\n",
       "      <td>WEST INDIES TOUR OF INDIA T20 SERIES 2022</td>\n",
       "      <td>Barabati Stadium,</td>\n",
       "      <td>15 FEB 2022</td>\n",
       "      <td>7:30 PM IST</td>\n",
       "    </tr>\n",
       "  </tbody>\n",
       "</table>\n",
       "</div>"
      ],
      "text/plain": [
       "                                  Match Title  \\\n",
       "0              3rd Test - Newlands, Cape Town   \n",
       "1                1st ODI - Boland Park, Paarl   \n",
       "2                2nd ODI - Boland Park, Paarl   \n",
       "3               3rd ODI - Newlands, Cape Town   \n",
       "4  1st ODI - NARENDRA MODI STADIUM, Ahmedabad   \n",
       "5    2nd ODI - Sawai Mansingh Stadium, Jaipur   \n",
       "6             3rd ODI - Eden Gardens, Kolkata   \n",
       "7         1st T20 - Barabati Stadium, Cuttack   \n",
       "\n",
       "                                           Series                    Place  \\\n",
       "0  INDIA TOUR OF SOUTH AFRICA TEST SERIES 2021-22                Newlands,   \n",
       "1   INDIA TOUR OF SOUTH AFRICA ODI SERIES 2021/22             Boland Park,   \n",
       "2   INDIA TOUR OF SOUTH AFRICA ODI SERIES 2021/22             Boland Park,   \n",
       "3   INDIA TOUR OF SOUTH AFRICA ODI SERIES 2021/22                Newlands,   \n",
       "4       WEST INDIES TOUR OF INDIA ODI SERIES 2022   NARENDRA MODI STADIUM,   \n",
       "5       WEST INDIES TOUR OF INDIA ODI SERIES 2022  Sawai Mansingh Stadium,   \n",
       "6       WEST INDIES TOUR OF INDIA ODI SERIES 2022            Eden Gardens,   \n",
       "7       WEST INDIES TOUR OF INDIA T20 SERIES 2022        Barabati Stadium,   \n",
       "\n",
       "          Date         Time  \n",
       "0  11 JAN 2022  2:00 PM IST  \n",
       "1  19 JAN 2022  2:00 PM IST  \n",
       "2  21 JAN 2022  2:00 PM IST  \n",
       "3  23 JAN 2022  2:00 PM IST  \n",
       "4   6 FEB 2022  9:30 AM IST  \n",
       "5   9 FEB 2022  9:30 AM IST  \n",
       "6  12 FEB 2022  9:30 AM IST  \n",
       "7  15 FEB 2022  7:30 PM IST  "
      ]
     },
     "execution_count": 69,
     "metadata": {},
     "output_type": "execute_result"
    }
   ],
   "source": [
    "df2=pd.DataFrame()\n",
    "\n",
    "df2['Match Title']=Match_Title\n",
    "df2['Series']=Series\n",
    "df2['Place']=Place\n",
    "df2['Date']=Date\n",
    "df2['Time']=[item for item in Time]\n",
    "\n",
    "df2"
   ]
  },
  {
   "cell_type": "markdown",
   "metadata": {},
   "source": [
    "### Scrape the details of selenium exception from guru99.com.\n",
    "Url = https://www.guru99.com/"
   ]
  },
  {
   "cell_type": "code",
   "execution_count": 71,
   "metadata": {},
   "outputs": [
    {
     "name": "stderr",
     "output_type": "stream",
     "text": [
      "<ipython-input-71-1a3a4d436245>:1: DeprecationWarning: executable_path has been deprecated, please pass in a Service object\n",
      "  driver3 = webdriver.Chrome('C:/Users/Kishan/Downloads/chromedriver_win32/chromedriver.exe')\n"
     ]
    }
   ],
   "source": [
    "driver3 = webdriver.Chrome('C:/Users/Kishan/Downloads/chromedriver_win32/chromedriver.exe')\n",
    "url3='https://www.guru99.com/'\n",
    "driver3.get(url3)"
   ]
  },
  {
   "cell_type": "code",
   "execution_count": 72,
   "metadata": {},
   "outputs": [
    {
     "name": "stderr",
     "output_type": "stream",
     "text": [
      "<ipython-input-72-10707dec6da7>:1: DeprecationWarning: find_elements_by_* commands are deprecated. Please use find_elements() instead\n",
      "  sl=driver3.find_elements_by_xpath(\"//ul[@class='menu1']/li[3]\")\n"
     ]
    }
   ],
   "source": [
    "sl=driver3.find_elements_by_xpath(\"//ul[@class='menu1']/li[3]\")\n",
    "for i in sl:\n",
    "    i.text=='Selenium'\n",
    "    i.click()\n",
    "    break"
   ]
  },
  {
   "cell_type": "code",
   "execution_count": 73,
   "metadata": {},
   "outputs": [
    {
     "name": "stderr",
     "output_type": "stream",
     "text": [
      "<ipython-input-73-365faaaea09a>:1: DeprecationWarning: find_element_by_* commands are deprecated. Please use find_element() instead\n",
      "  eh=driver3.find_element_by_xpath(\"//div[@class='entry-content single-content']/table[5]/tbody/tr[34]/td/a/strong[1]\").click()\n"
     ]
    }
   ],
   "source": [
    "eh=driver3.find_element_by_xpath(\"//div[@class='entry-content single-content']/table[5]/tbody/tr[34]/td/a/strong[1]\").click()"
   ]
  },
  {
   "cell_type": "code",
   "execution_count": 74,
   "metadata": {},
   "outputs": [
    {
     "name": "stderr",
     "output_type": "stream",
     "text": [
      "<ipython-input-74-7915083617c5>:3: DeprecationWarning: find_elements_by_* commands are deprecated. Please use find_elements() instead\n",
      "  nm=driver3.find_elements_by_xpath(\"//div[@class='entry-content single-content']//table/tbody/tr/td[1]\")\n"
     ]
    },
    {
     "data": {
      "text/plain": [
       "41"
      ]
     },
     "execution_count": 74,
     "metadata": {},
     "output_type": "execute_result"
    }
   ],
   "source": [
    "Name=[]\n",
    "\n",
    "nm=driver3.find_elements_by_xpath(\"//div[@class='entry-content single-content']//table/tbody/tr/td[1]\")\n",
    "\n",
    "for i in nm:\n",
    "    Name.append(i.text)\n",
    "len(Name)"
   ]
  },
  {
   "cell_type": "code",
   "execution_count": 75,
   "metadata": {},
   "outputs": [
    {
     "name": "stderr",
     "output_type": "stream",
     "text": [
      "<ipython-input-75-ed14bc349441>:3: DeprecationWarning: find_elements_by_* commands are deprecated. Please use find_elements() instead\n",
      "  dc=driver3.find_elements_by_xpath(\"//div[@class='entry-content single-content']//table/tbody/tr/td[2]\")\n"
     ]
    },
    {
     "data": {
      "text/plain": [
       "41"
      ]
     },
     "execution_count": 75,
     "metadata": {},
     "output_type": "execute_result"
    }
   ],
   "source": [
    "Description=[]\n",
    "\n",
    "dc=driver3.find_elements_by_xpath(\"//div[@class='entry-content single-content']//table/tbody/tr/td[2]\")\n",
    "\n",
    "for i in dc:\n",
    "    Description.append(i.text)\n",
    "len(Description)"
   ]
  },
  {
   "cell_type": "code",
   "execution_count": 76,
   "metadata": {},
   "outputs": [
    {
     "data": {
      "text/html": [
       "<div>\n",
       "<style scoped>\n",
       "    .dataframe tbody tr th:only-of-type {\n",
       "        vertical-align: middle;\n",
       "    }\n",
       "\n",
       "    .dataframe tbody tr th {\n",
       "        vertical-align: top;\n",
       "    }\n",
       "\n",
       "    .dataframe thead th {\n",
       "        text-align: right;\n",
       "    }\n",
       "</style>\n",
       "<table border=\"1\" class=\"dataframe\">\n",
       "  <thead>\n",
       "    <tr style=\"text-align: right;\">\n",
       "      <th></th>\n",
       "      <th>Exception name</th>\n",
       "      <th>Description</th>\n",
       "    </tr>\n",
       "  </thead>\n",
       "  <tbody>\n",
       "    <tr>\n",
       "      <th>0</th>\n",
       "      <td>ElementNotVisibleException</td>\n",
       "      <td>This type of Selenium exception occurs when an...</td>\n",
       "    </tr>\n",
       "    <tr>\n",
       "      <th>1</th>\n",
       "      <td>ElementNotSelectableException</td>\n",
       "      <td>This Selenium exception occurs when an element...</td>\n",
       "    </tr>\n",
       "    <tr>\n",
       "      <th>2</th>\n",
       "      <td>NoSuchElementException</td>\n",
       "      <td>This Exception occurs if an element could not ...</td>\n",
       "    </tr>\n",
       "    <tr>\n",
       "      <th>3</th>\n",
       "      <td>NoSuchFrameException</td>\n",
       "      <td>This Exception occurs if the frame target to b...</td>\n",
       "    </tr>\n",
       "    <tr>\n",
       "      <th>4</th>\n",
       "      <td>NoAlertPresentException</td>\n",
       "      <td>This Exception occurs when you switch to no pr...</td>\n",
       "    </tr>\n",
       "    <tr>\n",
       "      <th>5</th>\n",
       "      <td>NoSuchWindowException</td>\n",
       "      <td>This Exception occurs if the window target to ...</td>\n",
       "    </tr>\n",
       "    <tr>\n",
       "      <th>6</th>\n",
       "      <td>StaleElementReferenceException</td>\n",
       "      <td>This Selenium exception occurs happens when th...</td>\n",
       "    </tr>\n",
       "    <tr>\n",
       "      <th>7</th>\n",
       "      <td>SessionNotFoundException</td>\n",
       "      <td>The WebDriver is acting after you quit the bro...</td>\n",
       "    </tr>\n",
       "    <tr>\n",
       "      <th>8</th>\n",
       "      <td>TimeoutException</td>\n",
       "      <td>Thrown when there is not enough time for a com...</td>\n",
       "    </tr>\n",
       "    <tr>\n",
       "      <th>9</th>\n",
       "      <td>WebDriverException</td>\n",
       "      <td>This Exception takes place when the WebDriver ...</td>\n",
       "    </tr>\n",
       "    <tr>\n",
       "      <th>10</th>\n",
       "      <td>ConnectionClosedException</td>\n",
       "      <td>This type of Exception takes place when there ...</td>\n",
       "    </tr>\n",
       "    <tr>\n",
       "      <th>11</th>\n",
       "      <td>ElementClickInterceptedException</td>\n",
       "      <td>The command may not be completed as the elemen...</td>\n",
       "    </tr>\n",
       "    <tr>\n",
       "      <th>12</th>\n",
       "      <td>ElementNotInteractableException</td>\n",
       "      <td>This Selenium exception is thrown when any ele...</td>\n",
       "    </tr>\n",
       "    <tr>\n",
       "      <th>13</th>\n",
       "      <td>ErrorInResponseException</td>\n",
       "      <td>This happens while interacting with the Firefo...</td>\n",
       "    </tr>\n",
       "    <tr>\n",
       "      <th>14</th>\n",
       "      <td>ErrorHandler.UnknownServerException</td>\n",
       "      <td>Exception is used as a placeholder in case if ...</td>\n",
       "    </tr>\n",
       "    <tr>\n",
       "      <th>15</th>\n",
       "      <td>ImeActivationFailedException</td>\n",
       "      <td>This expectation will occur when IME engine ac...</td>\n",
       "    </tr>\n",
       "    <tr>\n",
       "      <th>16</th>\n",
       "      <td>ImeNotAvailableException</td>\n",
       "      <td>It takes place when IME support is unavailable.</td>\n",
       "    </tr>\n",
       "    <tr>\n",
       "      <th>17</th>\n",
       "      <td>InsecureCertificateException</td>\n",
       "      <td>Navigation made the user agent to hit a certif...</td>\n",
       "    </tr>\n",
       "    <tr>\n",
       "      <th>18</th>\n",
       "      <td>InvalidArgumentException</td>\n",
       "      <td>It occurs when an argument does not belong to ...</td>\n",
       "    </tr>\n",
       "    <tr>\n",
       "      <th>19</th>\n",
       "      <td>InvalidCookieDomainException</td>\n",
       "      <td>This happens when you try to add a cookie unde...</td>\n",
       "    </tr>\n",
       "    <tr>\n",
       "      <th>20</th>\n",
       "      <td>InvalidCoordinatesException</td>\n",
       "      <td>This type of Exception matches an interacting ...</td>\n",
       "    </tr>\n",
       "    <tr>\n",
       "      <th>21</th>\n",
       "      <td>InvalidElementStateExceptio</td>\n",
       "      <td>It occurs when command can’t be finished when ...</td>\n",
       "    </tr>\n",
       "    <tr>\n",
       "      <th>22</th>\n",
       "      <td>InvalidSessionIdException</td>\n",
       "      <td>This Exception took place when the given sessi...</td>\n",
       "    </tr>\n",
       "    <tr>\n",
       "      <th>23</th>\n",
       "      <td>InvalidSwitchToTargetException</td>\n",
       "      <td>This occurs when the frame or window target to...</td>\n",
       "    </tr>\n",
       "    <tr>\n",
       "      <th>24</th>\n",
       "      <td>JavascriptException</td>\n",
       "      <td>This issue occurs while executing JavaScript g...</td>\n",
       "    </tr>\n",
       "    <tr>\n",
       "      <th>25</th>\n",
       "      <td>JsonException</td>\n",
       "      <td>It occurs when you afford to get the session w...</td>\n",
       "    </tr>\n",
       "    <tr>\n",
       "      <th>26</th>\n",
       "      <td>NoSuchAttributeException</td>\n",
       "      <td>This kind of Exception occurs when the attribu...</td>\n",
       "    </tr>\n",
       "    <tr>\n",
       "      <th>27</th>\n",
       "      <td>MoveTargetOutOfBoundsException</td>\n",
       "      <td>It takes place if the target provided to the A...</td>\n",
       "    </tr>\n",
       "    <tr>\n",
       "      <th>28</th>\n",
       "      <td>NoSuchContextException</td>\n",
       "      <td>ContextAware does mobile device testing.</td>\n",
       "    </tr>\n",
       "    <tr>\n",
       "      <th>29</th>\n",
       "      <td>NoSuchCookieException</td>\n",
       "      <td>This Exception occurs when no cookie matching ...</td>\n",
       "    </tr>\n",
       "    <tr>\n",
       "      <th>30</th>\n",
       "      <td>NotFoundException</td>\n",
       "      <td>This Exception is a subclass of WebDriverExcep...</td>\n",
       "    </tr>\n",
       "    <tr>\n",
       "      <th>31</th>\n",
       "      <td>RemoteDriverServerException</td>\n",
       "      <td>This Selenium exception is thrown when the ser...</td>\n",
       "    </tr>\n",
       "    <tr>\n",
       "      <th>32</th>\n",
       "      <td>ScreenshotException</td>\n",
       "      <td>It is not possible to capture a screen.</td>\n",
       "    </tr>\n",
       "    <tr>\n",
       "      <th>33</th>\n",
       "      <td>SessionNotCreatedException</td>\n",
       "      <td>It happens when a new session could not be suc...</td>\n",
       "    </tr>\n",
       "    <tr>\n",
       "      <th>34</th>\n",
       "      <td>UnableToSetCookieException</td>\n",
       "      <td>This occurs if a driver is unable to set a coo...</td>\n",
       "    </tr>\n",
       "    <tr>\n",
       "      <th>35</th>\n",
       "      <td>UnexpectedTagNameException</td>\n",
       "      <td>Happens if a support class did not get a web e...</td>\n",
       "    </tr>\n",
       "    <tr>\n",
       "      <th>36</th>\n",
       "      <td>UnhandledAlertException</td>\n",
       "      <td>This expectation occurs when there is an alert...</td>\n",
       "    </tr>\n",
       "    <tr>\n",
       "      <th>37</th>\n",
       "      <td>UnexpectedAlertPresentException</td>\n",
       "      <td>It occurs when there is the appearance of an u...</td>\n",
       "    </tr>\n",
       "    <tr>\n",
       "      <th>38</th>\n",
       "      <td>UnknownMethodException</td>\n",
       "      <td>This Exception happens when the requested comm...</td>\n",
       "    </tr>\n",
       "    <tr>\n",
       "      <th>39</th>\n",
       "      <td>UnreachableBrowserException</td>\n",
       "      <td>This Exception occurs only when the browser is...</td>\n",
       "    </tr>\n",
       "    <tr>\n",
       "      <th>40</th>\n",
       "      <td>UnsupportedCommandException</td>\n",
       "      <td>This occurs when remote WebDriver does n’t sen...</td>\n",
       "    </tr>\n",
       "  </tbody>\n",
       "</table>\n",
       "</div>"
      ],
      "text/plain": [
       "                         Exception name  \\\n",
       "0            ElementNotVisibleException   \n",
       "1         ElementNotSelectableException   \n",
       "2                NoSuchElementException   \n",
       "3                  NoSuchFrameException   \n",
       "4               NoAlertPresentException   \n",
       "5                 NoSuchWindowException   \n",
       "6        StaleElementReferenceException   \n",
       "7              SessionNotFoundException   \n",
       "8                      TimeoutException   \n",
       "9                    WebDriverException   \n",
       "10            ConnectionClosedException   \n",
       "11     ElementClickInterceptedException   \n",
       "12      ElementNotInteractableException   \n",
       "13             ErrorInResponseException   \n",
       "14  ErrorHandler.UnknownServerException   \n",
       "15         ImeActivationFailedException   \n",
       "16             ImeNotAvailableException   \n",
       "17         InsecureCertificateException   \n",
       "18             InvalidArgumentException   \n",
       "19         InvalidCookieDomainException   \n",
       "20          InvalidCoordinatesException   \n",
       "21          InvalidElementStateExceptio   \n",
       "22            InvalidSessionIdException   \n",
       "23       InvalidSwitchToTargetException   \n",
       "24                  JavascriptException   \n",
       "25                        JsonException   \n",
       "26             NoSuchAttributeException   \n",
       "27       MoveTargetOutOfBoundsException   \n",
       "28               NoSuchContextException   \n",
       "29                NoSuchCookieException   \n",
       "30                    NotFoundException   \n",
       "31          RemoteDriverServerException   \n",
       "32                  ScreenshotException   \n",
       "33           SessionNotCreatedException   \n",
       "34           UnableToSetCookieException   \n",
       "35           UnexpectedTagNameException   \n",
       "36              UnhandledAlertException   \n",
       "37      UnexpectedAlertPresentException   \n",
       "38               UnknownMethodException   \n",
       "39          UnreachableBrowserException   \n",
       "40          UnsupportedCommandException   \n",
       "\n",
       "                                          Description  \n",
       "0   This type of Selenium exception occurs when an...  \n",
       "1   This Selenium exception occurs when an element...  \n",
       "2   This Exception occurs if an element could not ...  \n",
       "3   This Exception occurs if the frame target to b...  \n",
       "4   This Exception occurs when you switch to no pr...  \n",
       "5   This Exception occurs if the window target to ...  \n",
       "6   This Selenium exception occurs happens when th...  \n",
       "7   The WebDriver is acting after you quit the bro...  \n",
       "8   Thrown when there is not enough time for a com...  \n",
       "9   This Exception takes place when the WebDriver ...  \n",
       "10  This type of Exception takes place when there ...  \n",
       "11  The command may not be completed as the elemen...  \n",
       "12  This Selenium exception is thrown when any ele...  \n",
       "13  This happens while interacting with the Firefo...  \n",
       "14  Exception is used as a placeholder in case if ...  \n",
       "15  This expectation will occur when IME engine ac...  \n",
       "16    It takes place when IME support is unavailable.  \n",
       "17  Navigation made the user agent to hit a certif...  \n",
       "18  It occurs when an argument does not belong to ...  \n",
       "19  This happens when you try to add a cookie unde...  \n",
       "20  This type of Exception matches an interacting ...  \n",
       "21  It occurs when command can’t be finished when ...  \n",
       "22  This Exception took place when the given sessi...  \n",
       "23  This occurs when the frame or window target to...  \n",
       "24  This issue occurs while executing JavaScript g...  \n",
       "25  It occurs when you afford to get the session w...  \n",
       "26  This kind of Exception occurs when the attribu...  \n",
       "27  It takes place if the target provided to the A...  \n",
       "28           ContextAware does mobile device testing.  \n",
       "29  This Exception occurs when no cookie matching ...  \n",
       "30  This Exception is a subclass of WebDriverExcep...  \n",
       "31  This Selenium exception is thrown when the ser...  \n",
       "32            It is not possible to capture a screen.  \n",
       "33  It happens when a new session could not be suc...  \n",
       "34  This occurs if a driver is unable to set a coo...  \n",
       "35  Happens if a support class did not get a web e...  \n",
       "36  This expectation occurs when there is an alert...  \n",
       "37  It occurs when there is the appearance of an u...  \n",
       "38  This Exception happens when the requested comm...  \n",
       "39  This Exception occurs only when the browser is...  \n",
       "40  This occurs when remote WebDriver does n’t sen...  "
      ]
     },
     "execution_count": 76,
     "metadata": {},
     "output_type": "execute_result"
    }
   ],
   "source": [
    "df3=pd.DataFrame()\n",
    "\n",
    "df3['Exception name']=Name\n",
    "df3['Description']=Description\n",
    "\n",
    "df3"
   ]
  },
  {
   "cell_type": "markdown",
   "metadata": {},
   "source": [
    "### Scrape the details of State-wise GDP of India from statisticstime.com.\n",
    "Url = http://statisticstimes.com/"
   ]
  },
  {
   "cell_type": "code",
   "execution_count": 78,
   "metadata": {},
   "outputs": [
    {
     "name": "stderr",
     "output_type": "stream",
     "text": [
      "<ipython-input-78-75412870646e>:1: DeprecationWarning: executable_path has been deprecated, please pass in a Service object\n",
      "  driver4 = webdriver.Chrome('C:/Users/Kishan/Downloads/chromedriver_win32/chromedriver.exe')\n"
     ]
    }
   ],
   "source": [
    "driver4 = webdriver.Chrome('C:/Users/Kishan/Downloads/chromedriver_win32/chromedriver.exe')\n",
    "url4='http://statisticstimes.com/'\n",
    "driver4.get(url4)"
   ]
  },
  {
   "cell_type": "code",
   "execution_count": 79,
   "metadata": {},
   "outputs": [
    {
     "name": "stderr",
     "output_type": "stream",
     "text": [
      "<ipython-input-79-3b4aa28a3a40>:1: DeprecationWarning: find_elements_by_* commands are deprecated. Please use find_elements() instead\n",
      "  economy=driver4.find_elements_by_xpath(\"//div[@class='navbar']/div[2]\")\n"
     ]
    }
   ],
   "source": [
    "economy=driver4.find_elements_by_xpath(\"//div[@class='navbar']/div[2]\")\n",
    "\n",
    "for i in economy:\n",
    "    i.text=='Economy'\n",
    "    i.click()\n",
    "    break"
   ]
  },
  {
   "cell_type": "code",
   "execution_count": 80,
   "metadata": {},
   "outputs": [
    {
     "name": "stderr",
     "output_type": "stream",
     "text": [
      "<ipython-input-80-a3f673ac7339>:1: DeprecationWarning: find_element_by_* commands are deprecated. Please use find_element() instead\n",
      "  india=driver4.find_element_by_xpath(\"//div[@class='navbar']/div[2]/div/a[3]\")\n"
     ]
    }
   ],
   "source": [
    "india=driver4.find_element_by_xpath(\"//div[@class='navbar']/div[2]/div/a[3]\")\n",
    "india.click()"
   ]
  },
  {
   "cell_type": "code",
   "execution_count": 82,
   "metadata": {},
   "outputs": [
    {
     "name": "stderr",
     "output_type": "stream",
     "text": [
      "<ipython-input-82-1d4b115537f6>:1: DeprecationWarning: find_element_by_* commands are deprecated. Please use find_element() instead\n",
      "  state=driver4.find_element_by_xpath(\"//ul[@style='list-style-type:none;margin-left:20px;']/li[1]\")\n"
     ]
    }
   ],
   "source": [
    "state=driver4.find_element_by_xpath(\"//ul[@style='list-style-type:none;margin-left:20px;']/li[1]\")\n",
    "state.click()"
   ]
  },
  {
   "cell_type": "code",
   "execution_count": 83,
   "metadata": {},
   "outputs": [
    {
     "name": "stderr",
     "output_type": "stream",
     "text": [
      "<ipython-input-83-f85bd187492e>:9: DeprecationWarning: find_elements_by_* commands are deprecated. Please use find_elements() instead\n",
      "  r=driver4.find_elements_by_xpath(\"//div[@id='table_id_wrapper']//table[1]/tbody/tr/td[1]\")\n",
      "<ipython-input-83-f85bd187492e>:13: DeprecationWarning: find_elements_by_* commands are deprecated. Please use find_elements() instead\n",
      "  s=driver4.find_elements_by_xpath(\"//div[@id='table_id_wrapper']//table[1]/tbody/tr/td[2]\")\n",
      "<ipython-input-83-f85bd187492e>:17: DeprecationWarning: find_elements_by_* commands are deprecated. Please use find_elements() instead\n",
      "  g1=driver4.find_elements_by_xpath(\"//div[@id='table_id_wrapper']//table[1]/tbody/tr/td[3]\")\n",
      "<ipython-input-83-f85bd187492e>:21: DeprecationWarning: find_elements_by_* commands are deprecated. Please use find_elements() instead\n",
      "  g2=driver4.find_elements_by_xpath(\"//div[@id='table_id_wrapper']//table[1]/tbody/tr/td[4]\")\n",
      "<ipython-input-83-f85bd187492e>:25: DeprecationWarning: find_elements_by_* commands are deprecated. Please use find_elements() instead\n",
      "  share=driver4.find_elements_by_xpath(\"//div[@id='table_id_wrapper']//table[1]/tbody/tr/td[5]\")\n",
      "<ipython-input-83-f85bd187492e>:29: DeprecationWarning: find_elements_by_* commands are deprecated. Please use find_elements() instead\n",
      "  gdp=driver4.find_elements_by_xpath(\"//div[@id='table_id_wrapper']//table[1]/tbody/tr/td[6]\")\n"
     ]
    }
   ],
   "source": [
    "Rank=[]\n",
    "State=[]\n",
    "GSDP1=[]\n",
    "GSDP2=[]\n",
    "Share=[]\n",
    "GDP=[]\n",
    "\n",
    "\n",
    "r=driver4.find_elements_by_xpath(\"//div[@id='table_id_wrapper']//table[1]/tbody/tr/td[1]\")\n",
    "for i in r:\n",
    "    Rank.append(i.text)\n",
    "    \n",
    "s=driver4.find_elements_by_xpath(\"//div[@id='table_id_wrapper']//table[1]/tbody/tr/td[2]\")\n",
    "for i in s:\n",
    "    State.append(i.text)\n",
    "    \n",
    "g1=driver4.find_elements_by_xpath(\"//div[@id='table_id_wrapper']//table[1]/tbody/tr/td[3]\")\n",
    "for i in g1:\n",
    "    GSDP1.append(i.text)\n",
    "    \n",
    "g2=driver4.find_elements_by_xpath(\"//div[@id='table_id_wrapper']//table[1]/tbody/tr/td[4]\")\n",
    "for i in g2:\n",
    "    GSDP2.append(i.text)\n",
    "    \n",
    "share=driver4.find_elements_by_xpath(\"//div[@id='table_id_wrapper']//table[1]/tbody/tr/td[5]\")\n",
    "for i in share:\n",
    "    Share.append(i.text)\n",
    "    \n",
    "gdp=driver4.find_elements_by_xpath(\"//div[@id='table_id_wrapper']//table[1]/tbody/tr/td[6]\")\n",
    "for i in gdp:\n",
    "    GDP.append(i.text)"
   ]
  },
  {
   "cell_type": "code",
   "execution_count": 84,
   "metadata": {},
   "outputs": [
    {
     "data": {
      "text/html": [
       "<div>\n",
       "<style scoped>\n",
       "    .dataframe tbody tr th:only-of-type {\n",
       "        vertical-align: middle;\n",
       "    }\n",
       "\n",
       "    .dataframe tbody tr th {\n",
       "        vertical-align: top;\n",
       "    }\n",
       "\n",
       "    .dataframe thead th {\n",
       "        text-align: right;\n",
       "    }\n",
       "</style>\n",
       "<table border=\"1\" class=\"dataframe\">\n",
       "  <thead>\n",
       "    <tr style=\"text-align: right;\">\n",
       "      <th></th>\n",
       "      <th>Rank</th>\n",
       "      <th>State</th>\n",
       "      <th>GSDP at current price (19-20)</th>\n",
       "      <th>GSDP at current price (18-19)</th>\n",
       "      <th>Share(18-19)</th>\n",
       "      <th>GDP</th>\n",
       "    </tr>\n",
       "  </thead>\n",
       "  <tbody>\n",
       "    <tr>\n",
       "      <th>0</th>\n",
       "      <td>1</td>\n",
       "      <td>Maharashtra</td>\n",
       "      <td>-</td>\n",
       "      <td>2,632,792</td>\n",
       "      <td>13.94%</td>\n",
       "      <td>399.921</td>\n",
       "    </tr>\n",
       "    <tr>\n",
       "      <th>1</th>\n",
       "      <td>2</td>\n",
       "      <td>Tamil Nadu</td>\n",
       "      <td>1,845,853</td>\n",
       "      <td>1,630,208</td>\n",
       "      <td>8.63%</td>\n",
       "      <td>247.629</td>\n",
       "    </tr>\n",
       "    <tr>\n",
       "      <th>2</th>\n",
       "      <td>3</td>\n",
       "      <td>Uttar Pradesh</td>\n",
       "      <td>1,687,818</td>\n",
       "      <td>1,584,764</td>\n",
       "      <td>8.39%</td>\n",
       "      <td>240.726</td>\n",
       "    </tr>\n",
       "    <tr>\n",
       "      <th>3</th>\n",
       "      <td>4</td>\n",
       "      <td>Gujarat</td>\n",
       "      <td>-</td>\n",
       "      <td>1,502,899</td>\n",
       "      <td>7.96%</td>\n",
       "      <td>228.290</td>\n",
       "    </tr>\n",
       "    <tr>\n",
       "      <th>4</th>\n",
       "      <td>5</td>\n",
       "      <td>Karnataka</td>\n",
       "      <td>1,631,977</td>\n",
       "      <td>1,493,127</td>\n",
       "      <td>7.91%</td>\n",
       "      <td>226.806</td>\n",
       "    </tr>\n",
       "    <tr>\n",
       "      <th>5</th>\n",
       "      <td>6</td>\n",
       "      <td>West Bengal</td>\n",
       "      <td>1,253,832</td>\n",
       "      <td>1,089,898</td>\n",
       "      <td>5.77%</td>\n",
       "      <td>165.556</td>\n",
       "    </tr>\n",
       "    <tr>\n",
       "      <th>6</th>\n",
       "      <td>7</td>\n",
       "      <td>Rajasthan</td>\n",
       "      <td>1,020,989</td>\n",
       "      <td>942,586</td>\n",
       "      <td>4.99%</td>\n",
       "      <td>143.179</td>\n",
       "    </tr>\n",
       "    <tr>\n",
       "      <th>7</th>\n",
       "      <td>8</td>\n",
       "      <td>Andhra Pradesh</td>\n",
       "      <td>972,782</td>\n",
       "      <td>862,957</td>\n",
       "      <td>4.57%</td>\n",
       "      <td>131.083</td>\n",
       "    </tr>\n",
       "    <tr>\n",
       "      <th>8</th>\n",
       "      <td>9</td>\n",
       "      <td>Telangana</td>\n",
       "      <td>969,604</td>\n",
       "      <td>861,031</td>\n",
       "      <td>4.56%</td>\n",
       "      <td>130.791</td>\n",
       "    </tr>\n",
       "    <tr>\n",
       "      <th>9</th>\n",
       "      <td>10</td>\n",
       "      <td>Madhya Pradesh</td>\n",
       "      <td>906,672</td>\n",
       "      <td>809,592</td>\n",
       "      <td>4.29%</td>\n",
       "      <td>122.977</td>\n",
       "    </tr>\n",
       "    <tr>\n",
       "      <th>10</th>\n",
       "      <td>11</td>\n",
       "      <td>Kerala</td>\n",
       "      <td>-</td>\n",
       "      <td>781,653</td>\n",
       "      <td>4.14%</td>\n",
       "      <td>118.733</td>\n",
       "    </tr>\n",
       "    <tr>\n",
       "      <th>11</th>\n",
       "      <td>12</td>\n",
       "      <td>Delhi</td>\n",
       "      <td>856,112</td>\n",
       "      <td>774,870</td>\n",
       "      <td>4.10%</td>\n",
       "      <td>117.703</td>\n",
       "    </tr>\n",
       "    <tr>\n",
       "      <th>12</th>\n",
       "      <td>13</td>\n",
       "      <td>Haryana</td>\n",
       "      <td>831,610</td>\n",
       "      <td>734,163</td>\n",
       "      <td>3.89%</td>\n",
       "      <td>111.519</td>\n",
       "    </tr>\n",
       "    <tr>\n",
       "      <th>13</th>\n",
       "      <td>14</td>\n",
       "      <td>Bihar</td>\n",
       "      <td>611,804</td>\n",
       "      <td>530,363</td>\n",
       "      <td>2.81%</td>\n",
       "      <td>80.562</td>\n",
       "    </tr>\n",
       "    <tr>\n",
       "      <th>14</th>\n",
       "      <td>15</td>\n",
       "      <td>Punjab</td>\n",
       "      <td>574,760</td>\n",
       "      <td>526,376</td>\n",
       "      <td>2.79%</td>\n",
       "      <td>79.957</td>\n",
       "    </tr>\n",
       "    <tr>\n",
       "      <th>15</th>\n",
       "      <td>16</td>\n",
       "      <td>Odisha</td>\n",
       "      <td>521,275</td>\n",
       "      <td>487,805</td>\n",
       "      <td>2.58%</td>\n",
       "      <td>74.098</td>\n",
       "    </tr>\n",
       "    <tr>\n",
       "      <th>16</th>\n",
       "      <td>17</td>\n",
       "      <td>Assam</td>\n",
       "      <td>-</td>\n",
       "      <td>315,881</td>\n",
       "      <td>1.67%</td>\n",
       "      <td>47.982</td>\n",
       "    </tr>\n",
       "    <tr>\n",
       "      <th>17</th>\n",
       "      <td>18</td>\n",
       "      <td>Chhattisgarh</td>\n",
       "      <td>329,180</td>\n",
       "      <td>304,063</td>\n",
       "      <td>1.61%</td>\n",
       "      <td>46.187</td>\n",
       "    </tr>\n",
       "    <tr>\n",
       "      <th>18</th>\n",
       "      <td>19</td>\n",
       "      <td>Jharkhand</td>\n",
       "      <td>328,598</td>\n",
       "      <td>297,204</td>\n",
       "      <td>1.57%</td>\n",
       "      <td>45.145</td>\n",
       "    </tr>\n",
       "    <tr>\n",
       "      <th>19</th>\n",
       "      <td>20</td>\n",
       "      <td>Uttarakhand</td>\n",
       "      <td>-</td>\n",
       "      <td>245,895</td>\n",
       "      <td>1.30%</td>\n",
       "      <td>37.351</td>\n",
       "    </tr>\n",
       "    <tr>\n",
       "      <th>20</th>\n",
       "      <td>21</td>\n",
       "      <td>Jammu &amp; Kashmir</td>\n",
       "      <td>-</td>\n",
       "      <td>155,956</td>\n",
       "      <td>0.83%</td>\n",
       "      <td>23.690</td>\n",
       "    </tr>\n",
       "    <tr>\n",
       "      <th>21</th>\n",
       "      <td>22</td>\n",
       "      <td>Himachal Pradesh</td>\n",
       "      <td>165,472</td>\n",
       "      <td>153,845</td>\n",
       "      <td>0.81%</td>\n",
       "      <td>23.369</td>\n",
       "    </tr>\n",
       "    <tr>\n",
       "      <th>22</th>\n",
       "      <td>23</td>\n",
       "      <td>Goa</td>\n",
       "      <td>80,449</td>\n",
       "      <td>73,170</td>\n",
       "      <td>0.39%</td>\n",
       "      <td>11.115</td>\n",
       "    </tr>\n",
       "    <tr>\n",
       "      <th>23</th>\n",
       "      <td>24</td>\n",
       "      <td>Tripura</td>\n",
       "      <td>55,984</td>\n",
       "      <td>49,845</td>\n",
       "      <td>0.26%</td>\n",
       "      <td>7.571</td>\n",
       "    </tr>\n",
       "    <tr>\n",
       "      <th>24</th>\n",
       "      <td>25</td>\n",
       "      <td>Chandigarh</td>\n",
       "      <td>-</td>\n",
       "      <td>42,114</td>\n",
       "      <td>0.22%</td>\n",
       "      <td>6.397</td>\n",
       "    </tr>\n",
       "    <tr>\n",
       "      <th>25</th>\n",
       "      <td>26</td>\n",
       "      <td>Puducherry</td>\n",
       "      <td>38,253</td>\n",
       "      <td>34,433</td>\n",
       "      <td>0.18%</td>\n",
       "      <td>5.230</td>\n",
       "    </tr>\n",
       "    <tr>\n",
       "      <th>26</th>\n",
       "      <td>27</td>\n",
       "      <td>Meghalaya</td>\n",
       "      <td>36,572</td>\n",
       "      <td>33,481</td>\n",
       "      <td>0.18%</td>\n",
       "      <td>5.086</td>\n",
       "    </tr>\n",
       "    <tr>\n",
       "      <th>27</th>\n",
       "      <td>28</td>\n",
       "      <td>Sikkim</td>\n",
       "      <td>32,496</td>\n",
       "      <td>28,723</td>\n",
       "      <td>0.15%</td>\n",
       "      <td>4.363</td>\n",
       "    </tr>\n",
       "    <tr>\n",
       "      <th>28</th>\n",
       "      <td>29</td>\n",
       "      <td>Manipur</td>\n",
       "      <td>31,790</td>\n",
       "      <td>27,870</td>\n",
       "      <td>0.15%</td>\n",
       "      <td>4.233</td>\n",
       "    </tr>\n",
       "    <tr>\n",
       "      <th>29</th>\n",
       "      <td>30</td>\n",
       "      <td>Nagaland</td>\n",
       "      <td>-</td>\n",
       "      <td>27,283</td>\n",
       "      <td>0.14%</td>\n",
       "      <td>4.144</td>\n",
       "    </tr>\n",
       "    <tr>\n",
       "      <th>30</th>\n",
       "      <td>31</td>\n",
       "      <td>Arunachal Pradesh</td>\n",
       "      <td>-</td>\n",
       "      <td>24,603</td>\n",
       "      <td>0.13%</td>\n",
       "      <td>3.737</td>\n",
       "    </tr>\n",
       "    <tr>\n",
       "      <th>31</th>\n",
       "      <td>32</td>\n",
       "      <td>Mizoram</td>\n",
       "      <td>26,503</td>\n",
       "      <td>22,287</td>\n",
       "      <td>0.12%</td>\n",
       "      <td>3.385</td>\n",
       "    </tr>\n",
       "    <tr>\n",
       "      <th>32</th>\n",
       "      <td>33</td>\n",
       "      <td>Andaman &amp; Nicobar Islands</td>\n",
       "      <td>-</td>\n",
       "      <td>-</td>\n",
       "      <td>-</td>\n",
       "      <td>-</td>\n",
       "    </tr>\n",
       "  </tbody>\n",
       "</table>\n",
       "</div>"
      ],
      "text/plain": [
       "    Rank                      State GSDP at current price (19-20)  \\\n",
       "0      1                Maharashtra                             -   \n",
       "1      2                 Tamil Nadu                     1,845,853   \n",
       "2      3              Uttar Pradesh                     1,687,818   \n",
       "3      4                    Gujarat                             -   \n",
       "4      5                  Karnataka                     1,631,977   \n",
       "5      6                West Bengal                     1,253,832   \n",
       "6      7                  Rajasthan                     1,020,989   \n",
       "7      8             Andhra Pradesh                       972,782   \n",
       "8      9                  Telangana                       969,604   \n",
       "9     10             Madhya Pradesh                       906,672   \n",
       "10    11                     Kerala                             -   \n",
       "11    12                      Delhi                       856,112   \n",
       "12    13                    Haryana                       831,610   \n",
       "13    14                      Bihar                       611,804   \n",
       "14    15                     Punjab                       574,760   \n",
       "15    16                     Odisha                       521,275   \n",
       "16    17                      Assam                             -   \n",
       "17    18               Chhattisgarh                       329,180   \n",
       "18    19                  Jharkhand                       328,598   \n",
       "19    20                Uttarakhand                             -   \n",
       "20    21            Jammu & Kashmir                             -   \n",
       "21    22           Himachal Pradesh                       165,472   \n",
       "22    23                        Goa                        80,449   \n",
       "23    24                    Tripura                        55,984   \n",
       "24    25                 Chandigarh                             -   \n",
       "25    26                 Puducherry                        38,253   \n",
       "26    27                  Meghalaya                        36,572   \n",
       "27    28                     Sikkim                        32,496   \n",
       "28    29                    Manipur                        31,790   \n",
       "29    30                   Nagaland                             -   \n",
       "30    31          Arunachal Pradesh                             -   \n",
       "31    32                    Mizoram                        26,503   \n",
       "32    33  Andaman & Nicobar Islands                             -   \n",
       "\n",
       "   GSDP at current price (18-19) Share(18-19)      GDP  \n",
       "0                      2,632,792       13.94%  399.921  \n",
       "1                      1,630,208        8.63%  247.629  \n",
       "2                      1,584,764        8.39%  240.726  \n",
       "3                      1,502,899        7.96%  228.290  \n",
       "4                      1,493,127        7.91%  226.806  \n",
       "5                      1,089,898        5.77%  165.556  \n",
       "6                        942,586        4.99%  143.179  \n",
       "7                        862,957        4.57%  131.083  \n",
       "8                        861,031        4.56%  130.791  \n",
       "9                        809,592        4.29%  122.977  \n",
       "10                       781,653        4.14%  118.733  \n",
       "11                       774,870        4.10%  117.703  \n",
       "12                       734,163        3.89%  111.519  \n",
       "13                       530,363        2.81%   80.562  \n",
       "14                       526,376        2.79%   79.957  \n",
       "15                       487,805        2.58%   74.098  \n",
       "16                       315,881        1.67%   47.982  \n",
       "17                       304,063        1.61%   46.187  \n",
       "18                       297,204        1.57%   45.145  \n",
       "19                       245,895        1.30%   37.351  \n",
       "20                       155,956        0.83%   23.690  \n",
       "21                       153,845        0.81%   23.369  \n",
       "22                        73,170        0.39%   11.115  \n",
       "23                        49,845        0.26%    7.571  \n",
       "24                        42,114        0.22%    6.397  \n",
       "25                        34,433        0.18%    5.230  \n",
       "26                        33,481        0.18%    5.086  \n",
       "27                        28,723        0.15%    4.363  \n",
       "28                        27,870        0.15%    4.233  \n",
       "29                        27,283        0.14%    4.144  \n",
       "30                        24,603        0.13%    3.737  \n",
       "31                        22,287        0.12%    3.385  \n",
       "32                             -            -        -  "
      ]
     },
     "execution_count": 84,
     "metadata": {},
     "output_type": "execute_result"
    }
   ],
   "source": [
    "df4=pd.DataFrame()\n",
    "\n",
    "df4[' Rank']=Rank\n",
    "df4['State']=State\n",
    "df4['GSDP at current price (19-20)']=GSDP1\n",
    "df4['GSDP at current price (18-19)']=GSDP2\n",
    "df4['Share(18-19)']=Share\n",
    "df4['GDP']=GDP\n",
    "\n",
    "df4"
   ]
  },
  {
   "cell_type": "markdown",
   "metadata": {},
   "source": [
    "### Scrape the details of trending repositories on Github.com.\n",
    "Url = https://github.com/"
   ]
  },
  {
   "cell_type": "code",
   "execution_count": 103,
   "metadata": {},
   "outputs": [
    {
     "name": "stderr",
     "output_type": "stream",
     "text": [
      "<ipython-input-103-31fc24843973>:1: DeprecationWarning: executable_path has been deprecated, please pass in a Service object\n",
      "  driver5 = webdriver.Chrome('C:/Users/Kishan/Downloads/chromedriver_win32/chromedriver.exe')\n"
     ]
    }
   ],
   "source": [
    "driver5 = webdriver.Chrome('C:/Users/Kishan/Downloads/chromedriver_win32/chromedriver.exe')\n",
    "url5='https://github.com/'\n",
    "driver5.get(url5)"
   ]
  },
  {
   "cell_type": "code",
   "execution_count": 104,
   "metadata": {},
   "outputs": [
    {
     "name": "stderr",
     "output_type": "stream",
     "text": [
      "<ipython-input-104-7902b6b7288e>:1: DeprecationWarning: find_element_by_* commands are deprecated. Please use find_element() instead\n",
      "  ex=driver5.find_element_by_xpath(\"/html/body/div[1]/header/div/div[2]/nav/ul/li[4]/details/summary\").click()\n"
     ]
    }
   ],
   "source": [
    "ex=driver5.find_element_by_xpath(\"/html/body/div[1]/header/div/div[2]/nav/ul/li[4]/details/summary\").click()"
   ]
  },
  {
   "cell_type": "code",
   "execution_count": 105,
   "metadata": {},
   "outputs": [
    {
     "name": "stderr",
     "output_type": "stream",
     "text": [
      "<ipython-input-105-93ffda93c166>:1: DeprecationWarning: find_element_by_* commands are deprecated. Please use find_element() instead\n",
      "  td=driver5.find_element_by_xpath(\"/html/body/div[1]/header/div/div[2]/nav/ul/li[4]/details/div/ul/li[5]/a\")\n"
     ]
    }
   ],
   "source": [
    "td=driver5.find_element_by_xpath(\"/html/body/div[1]/header/div/div[2]/nav/ul/li[4]/details/div/ul/li[5]/a\")\n",
    "td.click()"
   ]
  },
  {
   "cell_type": "code",
   "execution_count": 106,
   "metadata": {},
   "outputs": [
    {
     "name": "stderr",
     "output_type": "stream",
     "text": [
      "<ipython-input-106-d9ca1399cd53>:3: DeprecationWarning: find_elements_by_* commands are deprecated. Please use find_elements() instead\n",
      "  name=driver5.find_elements_by_xpath(\"//h1[@class='h3 lh-condensed']\")\n"
     ]
    },
    {
     "data": {
      "text/plain": [
       "25"
      ]
     },
     "execution_count": 106,
     "metadata": {},
     "output_type": "execute_result"
    }
   ],
   "source": [
    "Name=[]\n",
    "\n",
    "name=driver5.find_elements_by_xpath(\"//h1[@class='h3 lh-condensed']\")\n",
    "\n",
    "for i in name:\n",
    "    Name.append(i.text)\n",
    "    \n",
    "len(Name)"
   ]
  },
  {
   "cell_type": "code",
   "execution_count": 107,
   "metadata": {},
   "outputs": [
    {
     "name": "stderr",
     "output_type": "stream",
     "text": [
      "<ipython-input-107-d5c55f3e044b>:4: DeprecationWarning: find_elements_by_* commands are deprecated. Please use find_elements() instead\n",
      "  dec=driver5.find_elements_by_xpath(\"//p[@class='col-9 color-fg-muted my-1 pr-4']\")\n"
     ]
    },
    {
     "data": {
      "text/plain": [
       "24"
      ]
     },
     "execution_count": 107,
     "metadata": {},
     "output_type": "execute_result"
    }
   ],
   "source": [
    "Decription=[]\n",
    "\n",
    "\n",
    "dec=driver5.find_elements_by_xpath(\"//p[@class='col-9 color-fg-muted my-1 pr-4']\")\n",
    "    \n",
    "for i in dec:\n",
    "    try:\n",
    "        Decription.append(i.text)\n",
    "    except:\n",
    "        Decription.append(\"-\")\n",
    "len(Decription)\n"
   ]
  },
  {
   "cell_type": "code",
   "execution_count": 108,
   "metadata": {},
   "outputs": [
    {
     "name": "stderr",
     "output_type": "stream",
     "text": [
      "<ipython-input-108-a3756c7e29e5>:3: DeprecationWarning: find_elements_by_* commands are deprecated. Please use find_elements() instead\n",
      "  url=driver5.find_elements_by_xpath(\"//h1[@class='h3 lh-condensed']/a\")\n"
     ]
    },
    {
     "data": {
      "text/plain": [
       "25"
      ]
     },
     "execution_count": 108,
     "metadata": {},
     "output_type": "execute_result"
    }
   ],
   "source": [
    "URL=[]\n",
    "\n",
    "url=driver5.find_elements_by_xpath(\"//h1[@class='h3 lh-condensed']/a\")\n",
    "\n",
    "for i in url:\n",
    "    URL.append(i.get_attribute('href'))\n",
    "    \n",
    "len(URL)"
   ]
  },
  {
   "cell_type": "code",
   "execution_count": 111,
   "metadata": {},
   "outputs": [
    {
     "data": {
      "text/html": [
       "<div>\n",
       "<style scoped>\n",
       "    .dataframe tbody tr th:only-of-type {\n",
       "        vertical-align: middle;\n",
       "    }\n",
       "\n",
       "    .dataframe tbody tr th {\n",
       "        vertical-align: top;\n",
       "    }\n",
       "\n",
       "    .dataframe thead th {\n",
       "        text-align: right;\n",
       "    }\n",
       "</style>\n",
       "<table border=\"1\" class=\"dataframe\">\n",
       "  <thead>\n",
       "    <tr style=\"text-align: right;\">\n",
       "      <th></th>\n",
       "      <th>Repository title</th>\n",
       "      <th>Repository description</th>\n",
       "      <th>URL</th>\n",
       "    </tr>\n",
       "  </thead>\n",
       "  <tbody>\n",
       "    <tr>\n",
       "      <th>0</th>\n",
       "      <td>wmjordan / PDFPatcher</td>\n",
       "      <td>PDF补丁丁</td>\n",
       "      <td>https://github.com/wmjordan/PDFPatcher</td>\n",
       "    </tr>\n",
       "    <tr>\n",
       "      <th>1</th>\n",
       "      <td>sunflower-farmers / sunflower-farmers</td>\n",
       "      <td>Static Code Analysis</td>\n",
       "      <td>https://github.com/sunflower-farmers/sunflower...</td>\n",
       "    </tr>\n",
       "    <tr>\n",
       "      <th>2</th>\n",
       "      <td>Tencent / CodeAnalysis</td>\n",
       "      <td>PowerShell for every system!</td>\n",
       "      <td>https://github.com/Tencent/CodeAnalysis</td>\n",
       "    </tr>\n",
       "    <tr>\n",
       "      <th>3</th>\n",
       "      <td>PowerShell / PowerShell</td>\n",
       "      <td>A modern formatting library</td>\n",
       "      <td>https://github.com/PowerShell/PowerShell</td>\n",
       "    </tr>\n",
       "    <tr>\n",
       "      <th>4</th>\n",
       "      <td>fmtlib / fmt</td>\n",
       "      <td>Build smaller, faster, and more secure desktop...</td>\n",
       "      <td>https://github.com/fmtlib/fmt</td>\n",
       "    </tr>\n",
       "    <tr>\n",
       "      <th>5</th>\n",
       "      <td>tauri-apps / tauri</td>\n",
       "      <td>A lightweight, stable and high-performance rev...</td>\n",
       "      <td>https://github.com/tauri-apps/tauri</td>\n",
       "    </tr>\n",
       "    <tr>\n",
       "      <th>6</th>\n",
       "      <td>rapiz1 / rathole</td>\n",
       "      <td>Fiora：漏洞PoC框架的图形版，快捷搜索PoC、一键运行Nuclei</td>\n",
       "      <td>https://github.com/rapiz1/rathole</td>\n",
       "    </tr>\n",
       "    <tr>\n",
       "      <th>7</th>\n",
       "      <td>bit4woo / Fiora</td>\n",
       "      <td>🔥 Disintegrate your apps with style.</td>\n",
       "      <td>https://github.com/bit4woo/Fiora</td>\n",
       "    </tr>\n",
       "    <tr>\n",
       "      <th>8</th>\n",
       "      <td>Schneegans / Burn-My-Windows</td>\n",
       "      <td>goby poc or exp,分享goby最新网络安全漏洞检测或利用代码</td>\n",
       "      <td>https://github.com/Schneegans/Burn-My-Windows</td>\n",
       "    </tr>\n",
       "    <tr>\n",
       "      <th>9</th>\n",
       "      <td>aetkrad / goby_poc</td>\n",
       "      <td>This repository is my documenting repository f...</td>\n",
       "      <td>https://github.com/aetkrad/goby_poc</td>\n",
       "    </tr>\n",
       "    <tr>\n",
       "      <th>10</th>\n",
       "      <td>MichaelCade / 90DaysOfDevOps</td>\n",
       "      <td>Reactive Programming in Swift</td>\n",
       "      <td>https://github.com/MichaelCade/90DaysOfDevOps</td>\n",
       "    </tr>\n",
       "    <tr>\n",
       "      <th>11</th>\n",
       "      <td>ReactiveX / RxSwift</td>\n",
       "      <td>A curated list of awesome warez and piracy links</td>\n",
       "      <td>https://github.com/ReactiveX/RxSwift</td>\n",
       "    </tr>\n",
       "    <tr>\n",
       "      <th>12</th>\n",
       "      <td>Igglybuff / awesome-piracy</td>\n",
       "      <td>An updated version of the classic \"Basic Compu...</td>\n",
       "      <td>https://github.com/Igglybuff/awesome-piracy</td>\n",
       "    </tr>\n",
       "    <tr>\n",
       "      <th>13</th>\n",
       "      <td>coding-horror / basic-computer-games</td>\n",
       "      <td>⭐️ Companies that don't have a broken hiring p...</td>\n",
       "      <td>https://github.com/coding-horror/basic-compute...</td>\n",
       "    </tr>\n",
       "    <tr>\n",
       "      <th>14</th>\n",
       "      <td>poteto / hiring-without-whiteboards</td>\n",
       "      <td>Typed interactions with the GitHub API v3</td>\n",
       "      <td>https://github.com/poteto/hiring-without-white...</td>\n",
       "    </tr>\n",
       "    <tr>\n",
       "      <th>15</th>\n",
       "      <td>PyGithub / PyGithub</td>\n",
       "      <td>高颜值的第三方网易云播放器，支持 Windows / macOS / Linux</td>\n",
       "      <td>https://github.com/PyGithub/PyGithub</td>\n",
       "    </tr>\n",
       "    <tr>\n",
       "      <th>16</th>\n",
       "      <td>qier222 / YesPlayMusic</td>\n",
       "      <td>30 days of JavaScript programming challenge is...</td>\n",
       "      <td>https://github.com/qier222/YesPlayMusic</td>\n",
       "    </tr>\n",
       "    <tr>\n",
       "      <th>17</th>\n",
       "      <td>Asabeneh / 30-Days-Of-JavaScript</td>\n",
       "      <td>Elegant React-like library for building user i...</td>\n",
       "      <td>https://github.com/Asabeneh/30-Days-Of-JavaScript</td>\n",
       "    </tr>\n",
       "    <tr>\n",
       "      <th>18</th>\n",
       "      <td>DioxusLabs / dioxus</td>\n",
       "      <td>Desktop environment in the browser.</td>\n",
       "      <td>https://github.com/DioxusLabs/dioxus</td>\n",
       "    </tr>\n",
       "    <tr>\n",
       "      <th>19</th>\n",
       "      <td>DustinBrett / daedalOS</td>\n",
       "      <td>GoogleTest - Google Testing and Mocking Framework</td>\n",
       "      <td>https://github.com/DustinBrett/daedalOS</td>\n",
       "    </tr>\n",
       "    <tr>\n",
       "      <th>20</th>\n",
       "      <td>google / googletest</td>\n",
       "      <td>Course Files for Complete Python 3 Bootcamp Co...</td>\n",
       "      <td>https://github.com/google/googletest</td>\n",
       "    </tr>\n",
       "    <tr>\n",
       "      <th>21</th>\n",
       "      <td>Pierian-Data / Complete-Python-3-Bootcamp</td>\n",
       "      <td>Cuckoo 3 is a Python 3 open source automated m...</td>\n",
       "      <td>https://github.com/Pierian-Data/Complete-Pytho...</td>\n",
       "    </tr>\n",
       "    <tr>\n",
       "      <th>22</th>\n",
       "      <td>cert-ee / cuckoo3</td>\n",
       "      <td>🍼 Plugin driven WYSIWYG markdown editor framew...</td>\n",
       "      <td>https://github.com/cert-ee/cuckoo3</td>\n",
       "    </tr>\n",
       "  </tbody>\n",
       "</table>\n",
       "</div>"
      ],
      "text/plain": [
       "                             Repository title  \\\n",
       "0                       wmjordan / PDFPatcher   \n",
       "1       sunflower-farmers / sunflower-farmers   \n",
       "2                      Tencent / CodeAnalysis   \n",
       "3                     PowerShell / PowerShell   \n",
       "4                                fmtlib / fmt   \n",
       "5                          tauri-apps / tauri   \n",
       "6                            rapiz1 / rathole   \n",
       "7                             bit4woo / Fiora   \n",
       "8                Schneegans / Burn-My-Windows   \n",
       "9                          aetkrad / goby_poc   \n",
       "10               MichaelCade / 90DaysOfDevOps   \n",
       "11                        ReactiveX / RxSwift   \n",
       "12                 Igglybuff / awesome-piracy   \n",
       "13       coding-horror / basic-computer-games   \n",
       "14        poteto / hiring-without-whiteboards   \n",
       "15                        PyGithub / PyGithub   \n",
       "16                     qier222 / YesPlayMusic   \n",
       "17           Asabeneh / 30-Days-Of-JavaScript   \n",
       "18                        DioxusLabs / dioxus   \n",
       "19                     DustinBrett / daedalOS   \n",
       "20                        google / googletest   \n",
       "21  Pierian-Data / Complete-Python-3-Bootcamp   \n",
       "22                          cert-ee / cuckoo3   \n",
       "\n",
       "                               Repository description  \\\n",
       "0                                              PDF补丁丁   \n",
       "1                                Static Code Analysis   \n",
       "2                        PowerShell for every system!   \n",
       "3                         A modern formatting library   \n",
       "4   Build smaller, faster, and more secure desktop...   \n",
       "5   A lightweight, stable and high-performance rev...   \n",
       "6                Fiora：漏洞PoC框架的图形版，快捷搜索PoC、一键运行Nuclei   \n",
       "7                🔥 Disintegrate your apps with style.   \n",
       "8               goby poc or exp,分享goby最新网络安全漏洞检测或利用代码   \n",
       "9   This repository is my documenting repository f...   \n",
       "10                      Reactive Programming in Swift   \n",
       "11   A curated list of awesome warez and piracy links   \n",
       "12  An updated version of the classic \"Basic Compu...   \n",
       "13  ⭐️ Companies that don't have a broken hiring p...   \n",
       "14          Typed interactions with the GitHub API v3   \n",
       "15           高颜值的第三方网易云播放器，支持 Windows / macOS / Linux   \n",
       "16  30 days of JavaScript programming challenge is...   \n",
       "17  Elegant React-like library for building user i...   \n",
       "18                Desktop environment in the browser.   \n",
       "19  GoogleTest - Google Testing and Mocking Framework   \n",
       "20  Course Files for Complete Python 3 Bootcamp Co...   \n",
       "21  Cuckoo 3 is a Python 3 open source automated m...   \n",
       "22  🍼 Plugin driven WYSIWYG markdown editor framew...   \n",
       "\n",
       "                                                  URL  \n",
       "0              https://github.com/wmjordan/PDFPatcher  \n",
       "1   https://github.com/sunflower-farmers/sunflower...  \n",
       "2             https://github.com/Tencent/CodeAnalysis  \n",
       "3            https://github.com/PowerShell/PowerShell  \n",
       "4                       https://github.com/fmtlib/fmt  \n",
       "5                 https://github.com/tauri-apps/tauri  \n",
       "6                   https://github.com/rapiz1/rathole  \n",
       "7                    https://github.com/bit4woo/Fiora  \n",
       "8       https://github.com/Schneegans/Burn-My-Windows  \n",
       "9                 https://github.com/aetkrad/goby_poc  \n",
       "10      https://github.com/MichaelCade/90DaysOfDevOps  \n",
       "11               https://github.com/ReactiveX/RxSwift  \n",
       "12        https://github.com/Igglybuff/awesome-piracy  \n",
       "13  https://github.com/coding-horror/basic-compute...  \n",
       "14  https://github.com/poteto/hiring-without-white...  \n",
       "15               https://github.com/PyGithub/PyGithub  \n",
       "16            https://github.com/qier222/YesPlayMusic  \n",
       "17  https://github.com/Asabeneh/30-Days-Of-JavaScript  \n",
       "18               https://github.com/DioxusLabs/dioxus  \n",
       "19            https://github.com/DustinBrett/daedalOS  \n",
       "20               https://github.com/google/googletest  \n",
       "21  https://github.com/Pierian-Data/Complete-Pytho...  \n",
       "22                 https://github.com/cert-ee/cuckoo3  "
      ]
     },
     "execution_count": 111,
     "metadata": {},
     "output_type": "execute_result"
    }
   ],
   "source": [
    "df5=pd.DataFrame()\n",
    "\n",
    "df5['Repository title']=Name[1:24]\n",
    "df5['Repository description']=Decription[1:]\n",
    "df5['URL'] = URL[1:24]\n",
    "df5"
   ]
  },
  {
   "cell_type": "markdown",
   "metadata": {},
   "source": [
    "### Scrape the details of top 100 songs on billiboard.com.\n",
    "Url = https:/www.billboard.com/"
   ]
  },
  {
   "cell_type": "code",
   "execution_count": 28,
   "metadata": {},
   "outputs": [
    {
     "name": "stderr",
     "output_type": "stream",
     "text": [
      "<ipython-input-28-6b4eb367f8ee>:1: DeprecationWarning: executable_path has been deprecated, please pass in a Service object\n",
      "  driver6 = webdriver.Chrome('C:/Users/Kishan/Downloads/chromedriver_win32/chromedriver.exe')\n"
     ]
    }
   ],
   "source": [
    "driver6 = webdriver.Chrome('C:/Users/Kishan/Downloads/chromedriver_win32/chromedriver.exe')\n",
    "url6='https://www.billboard.com/'\n",
    "driver6.get(url6)"
   ]
  },
  {
   "cell_type": "code",
   "execution_count": 31,
   "metadata": {},
   "outputs": [
    {
     "name": "stderr",
     "output_type": "stream",
     "text": [
      "<ipython-input-31-fd5287ffce0e>:1: DeprecationWarning: find_element_by_* commands are deprecated. Please use find_element() instead\n",
      "  chart=driver6.find_element_by_xpath(\"/html/body/div[4]/main/div[2]/div[3]/div/div/div[2]/div/div[1]/a/span\")\n"
     ]
    }
   ],
   "source": [
    "chart=driver6.find_element_by_xpath(\"/html/body/div[4]/main/div[2]/div[3]/div/div/div[2]/div/div[1]/a/span\")\n",
    "chart.click()"
   ]
  },
  {
   "cell_type": "code",
   "execution_count": 32,
   "metadata": {},
   "outputs": [],
   "source": [
    "Song_Name=[]\n",
    "Artist_Name=[]\n",
    "LWR=[]\n",
    "PR=[]\n",
    "WB=[]"
   ]
  },
  {
   "cell_type": "code",
   "execution_count": 43,
   "metadata": {},
   "outputs": [
    {
     "name": "stderr",
     "output_type": "stream",
     "text": [
      "<ipython-input-43-3c5ede8e1616>:1: DeprecationWarning: find_elements_by_* commands are deprecated. Please use find_elements() instead\n",
      "  sn=driver6.find_elements_by_id(\"title-of-a-story\")\n"
     ]
    }
   ],
   "source": [
    "sn=driver6.find_elements_by_id(\"title-of-a-story\")\n",
    "for i in sn:\n",
    "    Song_Name.append(i.text)"
   ]
  },
  {
   "cell_type": "code",
   "execution_count": 44,
   "metadata": {},
   "outputs": [
    {
     "data": {
      "text/plain": [
       "617"
      ]
     },
     "execution_count": 44,
     "metadata": {},
     "output_type": "execute_result"
    }
   ],
   "source": [
    "len(Song_Name)"
   ]
  },
  {
   "cell_type": "code",
   "execution_count": 49,
   "metadata": {},
   "outputs": [
    {
     "name": "stderr",
     "output_type": "stream",
     "text": [
      "<ipython-input-49-e3aa671f4f25>:1: DeprecationWarning: find_elements_by_* commands are deprecated. Please use find_elements() instead\n",
      "  an=driver6.find_elements_by_xpath(\"//h3[@class='c-label  a-no-trucate a-font-primary-s lrv-u-font-size-14@mobile-max u-line-height-normal@mobile-max u-letter-spacing-0021 lrv-u-display-block a-truncate-ellipsis-2line u-max-width-330 u-max-width-230@tablet-only u-font-size-20@tablet']/span[1]\")\n"
     ]
    }
   ],
   "source": [
    "an=driver6.find_elements_by_xpath(\"//h3[@class='c-label  a-no-trucate a-font-primary-s lrv-u-font-size-14@mobile-max u-line-height-normal@mobile-max u-letter-spacing-0021 lrv-u-display-block a-truncate-ellipsis-2line u-max-width-330 u-max-width-230@tablet-only u-font-size-20@tablet']/span[1]\")\n",
    "for i in an:\n",
    "    Artist_Name.append(i.text) "
   ]
  },
  {
   "cell_type": "code",
   "execution_count": 50,
   "metadata": {},
   "outputs": [
    {
     "data": {
      "text/plain": [
       "1"
      ]
     },
     "execution_count": 50,
     "metadata": {},
     "output_type": "execute_result"
    }
   ],
   "source": [
    "len(Artist_Name)"
   ]
  },
  {
   "cell_type": "markdown",
   "metadata": {},
   "source": [
    "### Scrape the details of Data science recruiters from naukri.com.\n",
    "Url = https://www.naukri.com/"
   ]
  },
  {
   "cell_type": "code",
   "execution_count": 51,
   "metadata": {},
   "outputs": [
    {
     "name": "stderr",
     "output_type": "stream",
     "text": [
      "<ipython-input-51-25622d02f4f0>:1: DeprecationWarning: executable_path has been deprecated, please pass in a Service object\n",
      "  driver7 = webdriver.Chrome('C:/Users/Kishan/Downloads/chromedriver_win32/chromedriver.exe')\n"
     ]
    }
   ],
   "source": [
    "driver7 = webdriver.Chrome('C:/Users/Kishan/Downloads/chromedriver_win32/chromedriver.exe')\n",
    "url7='https://www.naukri.com/'\n",
    "driver7.get(url7)"
   ]
  },
  {
   "cell_type": "code",
   "execution_count": 57,
   "metadata": {},
   "outputs": [
    {
     "name": "stderr",
     "output_type": "stream",
     "text": [
      "<ipython-input-57-7d6e1e9537c7>:1: DeprecationWarning: find_element_by_* commands are deprecated. Please use find_element() instead\n",
      "  rew=driver7.find_element_by_xpath(\"/html/body/div[1]/div[1]/div/ul[1]/li[2]/a\").click()\n"
     ]
    }
   ],
   "source": [
    "rew=driver7.find_element_by_xpath(\"/html/body/div[1]/div[1]/div/ul[1]/li[2]/a\").click()"
   ]
  },
  {
   "cell_type": "code",
   "execution_count": 58,
   "metadata": {},
   "outputs": [],
   "source": [
    "driver7.switch_to.window(driver7.window_handles[1])"
   ]
  },
  {
   "cell_type": "code",
   "execution_count": 61,
   "metadata": {},
   "outputs": [
    {
     "name": "stderr",
     "output_type": "stream",
     "text": [
      "<ipython-input-61-2f4d910d9d9e>:1: DeprecationWarning: find_element_by_* commands are deprecated. Please use find_element() instead\n",
      "  sk=driver7.find_element_by_xpath(\"//div[@class='sWrap lftBrd']/div/input\")\n"
     ]
    }
   ],
   "source": [
    "sk=driver7.find_element_by_xpath(\"//div[@class='sWrap lftBrd']/div/input\")\n",
    "sk.send_keys(\"Data science\")"
   ]
  },
  {
   "cell_type": "code",
   "execution_count": 62,
   "metadata": {},
   "outputs": [
    {
     "name": "stderr",
     "output_type": "stream",
     "text": [
      "<ipython-input-62-909e96c35607>:2: DeprecationWarning: find_element_by_* commands are deprecated. Please use find_element() instead\n",
      "  search=driver7.find_element_by_xpath(\"//button[@class='fl qsbSrch blueBtn']\").click()\n"
     ]
    }
   ],
   "source": [
    "#Click On Search Button\n",
    "search=driver7.find_element_by_xpath(\"//button[@class='fl qsbSrch blueBtn']\").click()"
   ]
  },
  {
   "cell_type": "code",
   "execution_count": 63,
   "metadata": {},
   "outputs": [
    {
     "name": "stderr",
     "output_type": "stream",
     "text": [
      "<ipython-input-63-2f4d910d9d9e>:1: DeprecationWarning: find_element_by_* commands are deprecated. Please use find_element() instead\n",
      "  sk=driver7.find_element_by_xpath(\"//div[@class='sWrap lftBrd']/div/input\")\n"
     ]
    }
   ],
   "source": [
    "sk=driver7.find_element_by_xpath(\"//div[@class='sWrap lftBrd']/div/input\")\n",
    "sk.send_keys(\"Data science\")"
   ]
  },
  {
   "cell_type": "code",
   "execution_count": 65,
   "metadata": {},
   "outputs": [
    {
     "name": "stderr",
     "output_type": "stream",
     "text": [
      "<ipython-input-65-d8efc1c98e60>:1: DeprecationWarning: find_element_by_* commands are deprecated. Please use find_element() instead\n",
      "  search=driver7.find_element_by_xpath(\"//button[@class='fl qsbSrch blueBtn']\").click()\n"
     ]
    }
   ],
   "source": [
    "search=driver7.find_element_by_xpath(\"//button[@class='fl qsbSrch blueBtn']\").click()"
   ]
  },
  {
   "cell_type": "code",
   "execution_count": 66,
   "metadata": {},
   "outputs": [
    {
     "name": "stderr",
     "output_type": "stream",
     "text": [
      "<ipython-input-66-9cb377e2ed5e>:3: DeprecationWarning: find_elements_by_* commands are deprecated. Please use find_elements() instead\n",
      "  name=driver7.find_elements_by_xpath(\"//span[@class='fl ellipsis']\")\n"
     ]
    },
    {
     "data": {
      "text/plain": [
       "50"
      ]
     },
     "execution_count": 66,
     "metadata": {},
     "output_type": "execute_result"
    }
   ],
   "source": [
    "Name=[]\n",
    "\n",
    "name=driver7.find_elements_by_xpath(\"//span[@class='fl ellipsis']\")\n",
    "\n",
    "for i in name:\n",
    "    Name.append(i.text)\n",
    "    \n",
    "len(Name)"
   ]
  },
  {
   "cell_type": "code",
   "execution_count": 67,
   "metadata": {},
   "outputs": [
    {
     "name": "stderr",
     "output_type": "stream",
     "text": [
      "<ipython-input-67-2d464f94d56b>:3: DeprecationWarning: find_elements_by_* commands are deprecated. Please use find_elements() instead\n",
      "  df=driver7.find_elements_by_xpath(\"//span[@class='ellipsis clr']\")\n"
     ]
    },
    {
     "data": {
      "text/plain": [
       "50"
      ]
     },
     "execution_count": 67,
     "metadata": {},
     "output_type": "execute_result"
    }
   ],
   "source": [
    "Designation=[]\n",
    "\n",
    "df=driver7.find_elements_by_xpath(\"//span[@class='ellipsis clr']\")\n",
    "\n",
    "for i in df:\n",
    "    Designation.append(i.text)\n",
    "    \n",
    "len(Designation)"
   ]
  },
  {
   "cell_type": "code",
   "execution_count": 68,
   "metadata": {},
   "outputs": [
    {
     "name": "stderr",
     "output_type": "stream",
     "text": [
      "<ipython-input-68-7646fd75b46a>:3: DeprecationWarning: find_elements_by_* commands are deprecated. Please use find_elements() instead\n",
      "  c=driver7.find_elements_by_xpath(\"//p[@class='highlightable']/a[2]\")\n"
     ]
    },
    {
     "data": {
      "text/plain": [
       "50"
      ]
     },
     "execution_count": 68,
     "metadata": {},
     "output_type": "execute_result"
    }
   ],
   "source": [
    "Company=[]\n",
    "\n",
    "c=driver7.find_elements_by_xpath(\"//p[@class='highlightable']/a[2]\")\n",
    "\n",
    "for i in c:\n",
    "    Company.append(i.text)\n",
    "    \n",
    "len(Company)"
   ]
  },
  {
   "cell_type": "code",
   "execution_count": 69,
   "metadata": {},
   "outputs": [
    {
     "name": "stderr",
     "output_type": "stream",
     "text": [
      "<ipython-input-69-70581962f5a3>:3: DeprecationWarning: find_elements_by_* commands are deprecated. Please use find_elements() instead\n",
      "  skill=driver7.find_elements_by_xpath(\"//div[@class='hireSec highlightable']\")\n"
     ]
    },
    {
     "data": {
      "text/plain": [
       "50"
      ]
     },
     "execution_count": 69,
     "metadata": {},
     "output_type": "execute_result"
    }
   ],
   "source": [
    "Skill=[]\n",
    "\n",
    "skill=driver7.find_elements_by_xpath(\"//div[@class='hireSec highlightable']\")\n",
    "\n",
    "for i in skill:\n",
    "    Skill.append(i.text)\n",
    "    \n",
    "len(Skill)"
   ]
  },
  {
   "cell_type": "code",
   "execution_count": 70,
   "metadata": {},
   "outputs": [],
   "source": [
    "from selenium.common.exceptions import StaleElementReferenceException, NoSuchElementException"
   ]
  },
  {
   "cell_type": "code",
   "execution_count": 71,
   "metadata": {},
   "outputs": [
    {
     "name": "stderr",
     "output_type": "stream",
     "text": [
      "<ipython-input-71-f55d6b3705eb>:3: DeprecationWarning: find_elements_by_* commands are deprecated. Please use find_elements() instead\n",
      "  url=driver7.find_elements_by_xpath(\"//p[@class='highlightable']/a[1]\")\n"
     ]
    },
    {
     "data": {
      "text/plain": [
       "50"
      ]
     },
     "execution_count": 71,
     "metadata": {},
     "output_type": "execute_result"
    }
   ],
   "source": [
    "Url=[]\n",
    "\n",
    "url=driver7.find_elements_by_xpath(\"//p[@class='highlightable']/a[1]\")\n",
    "\n",
    "for i in url:\n",
    "    Url.append(i.get_attribute('href'))\n",
    "    \n",
    "len(Url)"
   ]
  },
  {
   "cell_type": "code",
   "execution_count": 72,
   "metadata": {},
   "outputs": [
    {
     "name": "stderr",
     "output_type": "stream",
     "text": [
      "<ipython-input-72-04fa3b21c6af>:6: DeprecationWarning: find_element_by_* commands are deprecated. Please use find_element() instead\n",
      "  loc=driver7.find_element_by_xpath(\"//div[@class='wrpSp oh']//div[5]/a\")\n"
     ]
    },
    {
     "data": {
      "text/plain": [
       "50"
      ]
     },
     "execution_count": 72,
     "metadata": {},
     "output_type": "execute_result"
    }
   ],
   "source": [
    "Location=[]\n",
    "\n",
    "for i in Url:\n",
    "    driver7.get(i)\n",
    "    time.sleep(1)\n",
    "    loc=driver7.find_element_by_xpath(\"//div[@class='wrpSp oh']//div[5]/a\")\n",
    "    try:\n",
    "        Location.append(loc.text)\n",
    "    except NoSuchElementException :\n",
    "        Location.append(\"--\")\n",
    "  \n",
    "len(Location)"
   ]
  },
  {
   "cell_type": "code",
   "execution_count": 73,
   "metadata": {},
   "outputs": [
    {
     "data": {
      "text/html": [
       "<div>\n",
       "<style scoped>\n",
       "    .dataframe tbody tr th:only-of-type {\n",
       "        vertical-align: middle;\n",
       "    }\n",
       "\n",
       "    .dataframe tbody tr th {\n",
       "        vertical-align: top;\n",
       "    }\n",
       "\n",
       "    .dataframe thead th {\n",
       "        text-align: right;\n",
       "    }\n",
       "</style>\n",
       "<table border=\"1\" class=\"dataframe\">\n",
       "  <thead>\n",
       "    <tr style=\"text-align: right;\">\n",
       "      <th></th>\n",
       "      <th>Name</th>\n",
       "      <th>Designation</th>\n",
       "      <th>Company Name</th>\n",
       "      <th>Skills they hire for</th>\n",
       "      <th>Location</th>\n",
       "    </tr>\n",
       "  </thead>\n",
       "  <tbody>\n",
       "    <tr>\n",
       "      <th>0</th>\n",
       "      <td>Rajiv Raj</td>\n",
       "      <td>Director</td>\n",
       "      <td>CreditVidya</td>\n",
       "      <td>Big Data, Data Management, Data Analytics, Ban...</td>\n",
       "      <td>Mumbai</td>\n",
       "    </tr>\n",
       "    <tr>\n",
       "      <th>1</th>\n",
       "      <td>Sharmistha Maity</td>\n",
       "      <td>Company Recruiter</td>\n",
       "      <td>ICA Edu Skills Pvt. Ltd.</td>\n",
       "      <td>Not Specified</td>\n",
       "      <td>Kolkata</td>\n",
       "    </tr>\n",
       "    <tr>\n",
       "      <th>2</th>\n",
       "      <td>Malvika Bhandari</td>\n",
       "      <td>Talent Acquisition Consultant</td>\n",
       "      <td>IMS Proschool Pvt. Ltd</td>\n",
       "      <td>Not Specified</td>\n",
       "      <td>Pune</td>\n",
       "    </tr>\n",
       "    <tr>\n",
       "      <th>3</th>\n",
       "      <td>Fgts Recruitment</td>\n",
       "      <td>Company Recruiter</td>\n",
       "      <td>FUSION GLOBAL TECHNOLOGIES AND SOLUTIONS...</td>\n",
       "      <td>Not Specified</td>\n",
       "      <td>Chennai</td>\n",
       "    </tr>\n",
       "    <tr>\n",
       "      <th>4</th>\n",
       "      <td>Vineet P</td>\n",
       "      <td>Opportunity Communicator</td>\n",
       "      <td>Dell Technologies</td>\n",
       "      <td>Inside Sales, Outside Sales, Enterprise Accoun...</td>\n",
       "      <td>Bengaluru / Bangalore</td>\n",
       "    </tr>\n",
       "    <tr>\n",
       "      <th>5</th>\n",
       "      <td>Silky Sethi</td>\n",
       "      <td>Company Recruiter</td>\n",
       "      <td>ZS Associates {India} Pvt Ltd</td>\n",
       "      <td>Not Specified</td>\n",
       "      <td>Pune</td>\n",
       "    </tr>\n",
       "    <tr>\n",
       "      <th>6</th>\n",
       "      <td>Tracy Raina</td>\n",
       "      <td>Senior HR Executive</td>\n",
       "      <td>Quatrro Global Services Pvt. Ltd.</td>\n",
       "      <td>Not Specified</td>\n",
       "      <td>Gurgaon</td>\n",
       "    </tr>\n",
       "    <tr>\n",
       "      <th>7</th>\n",
       "      <td>HR Carzonrent</td>\n",
       "      <td>Company Recruiter</td>\n",
       "      <td>Carzonrent (India) Pvt Ltd</td>\n",
       "      <td>Not Specified</td>\n",
       "      <td>Delhi</td>\n",
       "    </tr>\n",
       "    <tr>\n",
       "      <th>8</th>\n",
       "      <td>Deepti Nagle</td>\n",
       "      <td>Recruitment Executive</td>\n",
       "      <td>Nityo Infotech Services Pvt. Ltd.</td>\n",
       "      <td>Not Specified</td>\n",
       "      <td>Pune</td>\n",
       "    </tr>\n",
       "    <tr>\n",
       "      <th>9</th>\n",
       "      <td>shravan Kumar Gaddam</td>\n",
       "      <td>Company Recruiter</td>\n",
       "      <td>Shore Infotech India Pvt. Ltd</td>\n",
       "      <td>.Net, Java, Data Science, Linux Administration...</td>\n",
       "      <td>Hyderabad / Secunderabad</td>\n",
       "    </tr>\n",
       "    <tr>\n",
       "      <th>10</th>\n",
       "      <td>Aakash Harit</td>\n",
       "      <td>HR Manager</td>\n",
       "      <td>Data Science Network</td>\n",
       "      <td>Classic ASP Developer, Internet Marketing Prof...</td>\n",
       "      <td>Delhi</td>\n",
       "    </tr>\n",
       "    <tr>\n",
       "      <th>11</th>\n",
       "      <td>Anik Agrawal</td>\n",
       "      <td>Company Recruiter</td>\n",
       "      <td>Enerlytics Software Solutions Pvt Ltd</td>\n",
       "      <td>Mean Stack, javascript, angularjs, mongodb, We...</td>\n",
       "      <td>Ahmedabad</td>\n",
       "    </tr>\n",
       "    <tr>\n",
       "      <th>12</th>\n",
       "      <td>MARSIAN Technologies LLP</td>\n",
       "      <td>Company HR</td>\n",
       "      <td>MARSIAN Technologies LLP</td>\n",
       "      <td>Data Science, Artificial Intelligence, Machine...</td>\n",
       "      <td>Pune</td>\n",
       "    </tr>\n",
       "    <tr>\n",
       "      <th>13</th>\n",
       "      <td>subhas patel</td>\n",
       "      <td>Founder CEO</td>\n",
       "      <td>LibraryXProject</td>\n",
       "      <td>Hadoop, Spark, Digital Strategy, Data Architec...</td>\n",
       "      <td>UK - (london)</td>\n",
       "    </tr>\n",
       "    <tr>\n",
       "      <th>14</th>\n",
       "      <td>Abhishek - Only Analytics Hiring - India and</td>\n",
       "      <td>Recruitment Lead Consultant</td>\n",
       "      <td>Apidel Technologies Division of Transpower</td>\n",
       "      <td>Analytics, Business Intelligence, Business Ana...</td>\n",
       "      <td>Vadodara / Baroda</td>\n",
       "    </tr>\n",
       "    <tr>\n",
       "      <th>15</th>\n",
       "      <td>Institute for Financial Management and Resear</td>\n",
       "      <td>Programme Manager</td>\n",
       "      <td>IFMR</td>\n",
       "      <td>Data Science</td>\n",
       "      <td>Chennai</td>\n",
       "    </tr>\n",
       "    <tr>\n",
       "      <th>16</th>\n",
       "      <td>Balu Ramesh</td>\n",
       "      <td>HR Administrator</td>\n",
       "      <td>Techvantage Systems Pvt Ltd</td>\n",
       "      <td>Machine Learning, algorithms, Go Getter, Compu...</td>\n",
       "      <td>Trivandrum</td>\n",
       "    </tr>\n",
       "    <tr>\n",
       "      <th>17</th>\n",
       "      <td>Priyanka Akiri</td>\n",
       "      <td>HR Manager</td>\n",
       "      <td>Infinitive Software Solutions</td>\n",
       "      <td>Oracle Dba, Data Science, Data Warehousing, ET...</td>\n",
       "      <td>Hyderabad</td>\n",
       "    </tr>\n",
       "    <tr>\n",
       "      <th>18</th>\n",
       "      <td>Kalpana Dumpala</td>\n",
       "      <td>Executive Hiring</td>\n",
       "      <td>Innominds Software</td>\n",
       "      <td>Qa, Ui/ux, Java Developer, Java Architect, C++...</td>\n",
       "      <td>Hyderabad / Secunderabad</td>\n",
       "    </tr>\n",
       "    <tr>\n",
       "      <th>19</th>\n",
       "      <td>Mubarak</td>\n",
       "      <td>Company HR</td>\n",
       "      <td>MoneyTap</td>\n",
       "      <td>Business Intelligence, Data Warehousing, Data ...</td>\n",
       "      <td>Bengaluru / Bangalore</td>\n",
       "    </tr>\n",
       "    <tr>\n",
       "      <th>20</th>\n",
       "      <td>Kushal Rastogi</td>\n",
       "      <td>Company HR</td>\n",
       "      <td>QuantMagnum Technologies Pvt. Ltd.</td>\n",
       "      <td>Office Administration, Hr Administration, tele...</td>\n",
       "      <td>Mumbai</td>\n",
       "    </tr>\n",
       "    <tr>\n",
       "      <th>21</th>\n",
       "      <td>Mahesh Babu Channa</td>\n",
       "      <td>HR Team Lead</td>\n",
       "      <td>SocialPrachar.com</td>\n",
       "      <td>Social Media, digital media maketing, seo, smm...</td>\n",
       "      <td>Hyderabad / Secunderabad</td>\n",
       "    </tr>\n",
       "    <tr>\n",
       "      <th>22</th>\n",
       "      <td>Sakshi Chhikara</td>\n",
       "      <td>Assistant Manager HR</td>\n",
       "      <td>BIZ INFOTECNO PRIVATE LIMITED</td>\n",
       "      <td>React.js, Data Science, Java, Front End, Busin...</td>\n",
       "      <td>Chandigarh</td>\n",
       "    </tr>\n",
       "    <tr>\n",
       "      <th>23</th>\n",
       "      <td>Kapil Devang</td>\n",
       "      <td>HR Manager</td>\n",
       "      <td>BISP Solutions</td>\n",
       "      <td>Big Data, Hadoop, Data Analytics, Data Science</td>\n",
       "      <td>Bhopal</td>\n",
       "    </tr>\n",
       "    <tr>\n",
       "      <th>24</th>\n",
       "      <td>Ruchi Dhote</td>\n",
       "      <td>Senior Executive Talent Acquisition</td>\n",
       "      <td>Bristlecone India Ltd</td>\n",
       "      <td>Qlikview, Qlik Sense, Microsoft Azure, Power B...</td>\n",
       "      <td>Pune</td>\n",
       "    </tr>\n",
       "    <tr>\n",
       "      <th>25</th>\n",
       "      <td>Sandhya Khandagale</td>\n",
       "      <td>HR Recruiter</td>\n",
       "      <td>Compumatrice Multimedia Pvt Ltd</td>\n",
       "      <td>Big Data, Data Science, Artificial Intelligenc...</td>\n",
       "      <td>Pune</td>\n",
       "    </tr>\n",
       "    <tr>\n",
       "      <th>26</th>\n",
       "      <td>Manisha Yadav</td>\n",
       "      <td>HR Executive</td>\n",
       "      <td>Easi Tax</td>\n",
       "      <td>Telecalling, Client Interaction, Marketing, Re...</td>\n",
       "      <td>Navi Mumbai</td>\n",
       "    </tr>\n",
       "    <tr>\n",
       "      <th>27</th>\n",
       "      <td>Riya Rajesh</td>\n",
       "      <td>Manager Talent Acquisition</td>\n",
       "      <td>Novelworx Digital Solutions</td>\n",
       "      <td>Data Science</td>\n",
       "      <td>Cochin</td>\n",
       "    </tr>\n",
       "    <tr>\n",
       "      <th>28</th>\n",
       "      <td>Rashmi Bhattacharjee</td>\n",
       "      <td>HR Head</td>\n",
       "      <td>AXESTRACK SOFTWARE SOLUTIONS PRIVATE...</td>\n",
       "      <td>Corporate Sales, Software Development, Softwar...</td>\n",
       "      <td>Delhi</td>\n",
       "    </tr>\n",
       "    <tr>\n",
       "      <th>29</th>\n",
       "      <td>Faizan Kareem</td>\n",
       "      <td>HR MANAGER</td>\n",
       "      <td>FirstTech Consaltants Pvt.Ltd</td>\n",
       "      <td>Data Analytics, Data Science, Machine Learning...</td>\n",
       "      <td>Hyderabad / Secunderabad</td>\n",
       "    </tr>\n",
       "    <tr>\n",
       "      <th>30</th>\n",
       "      <td>Rithika dadwal</td>\n",
       "      <td>HR Recruiter</td>\n",
       "      <td>Affine Analytics</td>\n",
       "      <td>Data Science, Machine Learning, Python, R, Dee...</td>\n",
       "      <td>Pune</td>\n",
       "    </tr>\n",
       "    <tr>\n",
       "      <th>31</th>\n",
       "      <td>Shaun Rao</td>\n",
       "      <td>Manager Human Resources</td>\n",
       "      <td>Exela Technologies</td>\n",
       "      <td>Java, Net, Angularjs, Hr, Infrastructure, Mana...</td>\n",
       "      <td>Pune</td>\n",
       "    </tr>\n",
       "    <tr>\n",
       "      <th>32</th>\n",
       "      <td>Jayanth N</td>\n",
       "      <td>Project Manager</td>\n",
       "      <td>Dollarbird Information Services Pvt, Ltd</td>\n",
       "      <td>Data Analytics, Managed Services, Team Leading...</td>\n",
       "      <td>Mysoru / Mysore</td>\n",
       "    </tr>\n",
       "    <tr>\n",
       "      <th>33</th>\n",
       "      <td>Azahar Shaikh</td>\n",
       "      <td>Company Recruiter</td>\n",
       "      <td>NEAL ANALYTICS SERVICES PVT LTD</td>\n",
       "      <td>Data Science, Artificial Intelligence, Machine...</td>\n",
       "      <td>Pune</td>\n",
       "    </tr>\n",
       "    <tr>\n",
       "      <th>34</th>\n",
       "      <td>Asif Lucknowi</td>\n",
       "      <td>Director</td>\n",
       "      <td>Weupskill- Live Wire India</td>\n",
       "      <td>Technical Training, Software Development, Pres...</td>\n",
       "      <td>Indore</td>\n",
       "    </tr>\n",
       "    <tr>\n",
       "      <th>35</th>\n",
       "      <td>Manas</td>\n",
       "      <td>Lead Talent acquisition</td>\n",
       "      <td>Autumn Leaf Consulting Services Private...</td>\n",
       "      <td>Software Architecture, Vp Engineering, Product...</td>\n",
       "      <td>Bengaluru / Bangalore</td>\n",
       "    </tr>\n",
       "    <tr>\n",
       "      <th>36</th>\n",
       "      <td>Dr. S. Prasanna Devi</td>\n",
       "      <td>Professor and Head</td>\n",
       "      <td>SRM Institute of Science and Technology</td>\n",
       "      <td>Computer Science, Machine Learning, Deep Learn...</td>\n",
       "      <td>Chennai</td>\n",
       "    </tr>\n",
       "    <tr>\n",
       "      <th>37</th>\n",
       "      <td>kumar</td>\n",
       "      <td>Proprietor</td>\n",
       "      <td>trainin</td>\n",
       "      <td>Data Science, Hadoop, Rpas, Devops, Python, Aw...</td>\n",
       "      <td>Bengaluru / Bangalore</td>\n",
       "    </tr>\n",
       "    <tr>\n",
       "      <th>38</th>\n",
       "      <td>Sunil Vedula</td>\n",
       "      <td>CEO</td>\n",
       "      <td>Nanoprecise Sci Corp</td>\n",
       "      <td>Signal Processing, Machine Learning, Neural Ne...</td>\n",
       "      <td>Others</td>\n",
       "    </tr>\n",
       "    <tr>\n",
       "      <th>39</th>\n",
       "      <td>Rajat Kumar</td>\n",
       "      <td>Founder CEO</td>\n",
       "      <td>R.S Consultancy &amp;amp; Services</td>\n",
       "      <td>Web Technologies, Project Management, Software...</td>\n",
       "      <td>Delhi</td>\n",
       "    </tr>\n",
       "    <tr>\n",
       "      <th>40</th>\n",
       "      <td>Avodha</td>\n",
       "      <td>Business Development Associate</td>\n",
       "      <td>Nikitha Palaparthi</td>\n",
       "      <td>Ethical Hacking, Security Operations Center, S...</td>\n",
       "      <td>Hyderabad / Secunderabad</td>\n",
       "    </tr>\n",
       "    <tr>\n",
       "      <th>41</th>\n",
       "      <td>Rajani Nagaraj</td>\n",
       "      <td>HR Manager</td>\n",
       "      <td>WildJasmine</td>\n",
       "      <td>Java, Hadoop, R, Machine Learning, Spark, Flum...</td>\n",
       "      <td>Bengaluru / Bangalore</td>\n",
       "    </tr>\n",
       "    <tr>\n",
       "      <th>42</th>\n",
       "      <td>Priya Khare</td>\n",
       "      <td>Senior Manager</td>\n",
       "      <td>Independent Consultant</td>\n",
       "      <td>Data Science, Artificial Intelligence, analyti...</td>\n",
       "      <td>Bengaluru / Bangalore</td>\n",
       "    </tr>\n",
       "    <tr>\n",
       "      <th>43</th>\n",
       "      <td>Dhruv Dev Dubey</td>\n",
       "      <td>Company Recruitment Head</td>\n",
       "      <td>Confidential</td>\n",
       "      <td>Server Administartion, Verilog, Vhdl, Digital ...</td>\n",
       "      <td>Bengaluru / Bangalore</td>\n",
       "    </tr>\n",
       "    <tr>\n",
       "      <th>44</th>\n",
       "      <td>Rutuja Pawar</td>\n",
       "      <td>Technical Recruiter</td>\n",
       "      <td>Demand Matrix</td>\n",
       "      <td>Data Science, Big Data Analytics, Digital Mark...</td>\n",
       "      <td>Pune</td>\n",
       "    </tr>\n",
       "    <tr>\n",
       "      <th>45</th>\n",
       "      <td>Amit Sharma</td>\n",
       "      <td>Consultant</td>\n",
       "      <td>ASCO consulting</td>\n",
       "      <td>Machine Learning, Artificial Intelligence, Dat...</td>\n",
       "      <td>New Delhi</td>\n",
       "    </tr>\n",
       "    <tr>\n",
       "      <th>46</th>\n",
       "      <td>Kanan</td>\n",
       "      <td>senior technology instructor</td>\n",
       "      <td>NY INST</td>\n",
       "      <td>C, C++, Artificial Intelligence, Python, Php, ...</td>\n",
       "      <td>Chennai</td>\n",
       "    </tr>\n",
       "    <tr>\n",
       "      <th>47</th>\n",
       "      <td>Shashikant Chaudhary</td>\n",
       "      <td>HR Recruiter/HR Excutive</td>\n",
       "      <td>3D India Staffing Research &amp;amp; Consulting...</td>\n",
       "      <td>Relationship Management, Retail Sales, Private...</td>\n",
       "      <td>Aligarh</td>\n",
       "    </tr>\n",
       "    <tr>\n",
       "      <th>48</th>\n",
       "      <td>Brad</td>\n",
       "      <td>Manager, Technical Recruiting</td>\n",
       "      <td>O.C. Tanner</td>\n",
       "      <td>Data Science, Software Engineering</td>\n",
       "      <td>Salt Lake City</td>\n",
       "    </tr>\n",
       "    <tr>\n",
       "      <th>49</th>\n",
       "      <td>Madhusudhan Sridhar</td>\n",
       "      <td>Erp Implementer</td>\n",
       "      <td>MADHUSUDHAN SRIDHAR</td>\n",
       "      <td>Data Science, Recruitment, Salary</td>\n",
       "      <td>Bengaluru / Bangalore</td>\n",
       "    </tr>\n",
       "  </tbody>\n",
       "</table>\n",
       "</div>"
      ],
      "text/plain": [
       "                                             Name  \\\n",
       "0                                       Rajiv Raj   \n",
       "1                                Sharmistha Maity   \n",
       "2                                Malvika Bhandari   \n",
       "3                                Fgts Recruitment   \n",
       "4                                        Vineet P   \n",
       "5                                     Silky Sethi   \n",
       "6                                     Tracy Raina   \n",
       "7                                   HR Carzonrent   \n",
       "8                                    Deepti Nagle   \n",
       "9                            shravan Kumar Gaddam   \n",
       "10                                   Aakash Harit   \n",
       "11                                   Anik Agrawal   \n",
       "12                       MARSIAN Technologies LLP   \n",
       "13                                   subhas patel   \n",
       "14   Abhishek - Only Analytics Hiring - India and   \n",
       "15  Institute for Financial Management and Resear   \n",
       "16                                    Balu Ramesh   \n",
       "17                                 Priyanka Akiri   \n",
       "18                                Kalpana Dumpala   \n",
       "19                                        Mubarak   \n",
       "20                                 Kushal Rastogi   \n",
       "21                             Mahesh Babu Channa   \n",
       "22                                Sakshi Chhikara   \n",
       "23                                   Kapil Devang   \n",
       "24                                    Ruchi Dhote   \n",
       "25                             Sandhya Khandagale   \n",
       "26                                  Manisha Yadav   \n",
       "27                                    Riya Rajesh   \n",
       "28                           Rashmi Bhattacharjee   \n",
       "29                                  Faizan Kareem   \n",
       "30                                 Rithika dadwal   \n",
       "31                                      Shaun Rao   \n",
       "32                                      Jayanth N   \n",
       "33                                  Azahar Shaikh   \n",
       "34                                  Asif Lucknowi   \n",
       "35                                          Manas   \n",
       "36                           Dr. S. Prasanna Devi   \n",
       "37                                          kumar   \n",
       "38                                   Sunil Vedula   \n",
       "39                                    Rajat Kumar   \n",
       "40                                         Avodha   \n",
       "41                                 Rajani Nagaraj   \n",
       "42                                    Priya Khare   \n",
       "43                                Dhruv Dev Dubey   \n",
       "44                                   Rutuja Pawar   \n",
       "45                                    Amit Sharma   \n",
       "46                                          Kanan   \n",
       "47                           Shashikant Chaudhary   \n",
       "48                                           Brad   \n",
       "49                            Madhusudhan Sridhar   \n",
       "\n",
       "                            Designation  \\\n",
       "0                              Director   \n",
       "1                     Company Recruiter   \n",
       "2         Talent Acquisition Consultant   \n",
       "3                     Company Recruiter   \n",
       "4              Opportunity Communicator   \n",
       "5                     Company Recruiter   \n",
       "6                   Senior HR Executive   \n",
       "7                     Company Recruiter   \n",
       "8                 Recruitment Executive   \n",
       "9                     Company Recruiter   \n",
       "10                           HR Manager   \n",
       "11                    Company Recruiter   \n",
       "12                           Company HR   \n",
       "13                          Founder CEO   \n",
       "14          Recruitment Lead Consultant   \n",
       "15                    Programme Manager   \n",
       "16                     HR Administrator   \n",
       "17                           HR Manager   \n",
       "18                     Executive Hiring   \n",
       "19                           Company HR   \n",
       "20                           Company HR   \n",
       "21                         HR Team Lead   \n",
       "22                 Assistant Manager HR   \n",
       "23                           HR Manager   \n",
       "24  Senior Executive Talent Acquisition   \n",
       "25                         HR Recruiter   \n",
       "26                         HR Executive   \n",
       "27           Manager Talent Acquisition   \n",
       "28                              HR Head   \n",
       "29                           HR MANAGER   \n",
       "30                         HR Recruiter   \n",
       "31              Manager Human Resources   \n",
       "32                      Project Manager   \n",
       "33                    Company Recruiter   \n",
       "34                             Director   \n",
       "35              Lead Talent acquisition   \n",
       "36                   Professor and Head   \n",
       "37                           Proprietor   \n",
       "38                                  CEO   \n",
       "39                          Founder CEO   \n",
       "40       Business Development Associate   \n",
       "41                           HR Manager   \n",
       "42                       Senior Manager   \n",
       "43             Company Recruitment Head   \n",
       "44                  Technical Recruiter   \n",
       "45                           Consultant   \n",
       "46         senior technology instructor   \n",
       "47             HR Recruiter/HR Excutive   \n",
       "48        Manager, Technical Recruiting   \n",
       "49                      Erp Implementer   \n",
       "\n",
       "                                      Company Name  \\\n",
       "0                                      CreditVidya   \n",
       "1                         ICA Edu Skills Pvt. Ltd.   \n",
       "2                           IMS Proschool Pvt. Ltd   \n",
       "3      FUSION GLOBAL TECHNOLOGIES AND SOLUTIONS...   \n",
       "4                                Dell Technologies   \n",
       "5                    ZS Associates {India} Pvt Ltd   \n",
       "6                Quatrro Global Services Pvt. Ltd.   \n",
       "7                       Carzonrent (India) Pvt Ltd   \n",
       "8                Nityo Infotech Services Pvt. Ltd.   \n",
       "9                    Shore Infotech India Pvt. Ltd   \n",
       "10                            Data Science Network   \n",
       "11           Enerlytics Software Solutions Pvt Ltd   \n",
       "12                        MARSIAN Technologies LLP   \n",
       "13                                 LibraryXProject   \n",
       "14      Apidel Technologies Division of Transpower   \n",
       "15                                            IFMR   \n",
       "16                     Techvantage Systems Pvt Ltd   \n",
       "17                   Infinitive Software Solutions   \n",
       "18                              Innominds Software   \n",
       "19                                        MoneyTap   \n",
       "20              QuantMagnum Technologies Pvt. Ltd.   \n",
       "21                               SocialPrachar.com   \n",
       "22                   BIZ INFOTECNO PRIVATE LIMITED   \n",
       "23                                  BISP Solutions   \n",
       "24                           Bristlecone India Ltd   \n",
       "25                 Compumatrice Multimedia Pvt Ltd   \n",
       "26                                        Easi Tax   \n",
       "27                     Novelworx Digital Solutions   \n",
       "28         AXESTRACK SOFTWARE SOLUTIONS PRIVATE...   \n",
       "29                   FirstTech Consaltants Pvt.Ltd   \n",
       "30                                Affine Analytics   \n",
       "31                              Exela Technologies   \n",
       "32        Dollarbird Information Services Pvt, Ltd   \n",
       "33                 NEAL ANALYTICS SERVICES PVT LTD   \n",
       "34                      Weupskill- Live Wire India   \n",
       "35      Autumn Leaf Consulting Services Private...   \n",
       "36         SRM Institute of Science and Technology   \n",
       "37                                         trainin   \n",
       "38                            Nanoprecise Sci Corp   \n",
       "39                  R.S Consultancy &amp; Services   \n",
       "40                              Nikitha Palaparthi   \n",
       "41                                     WildJasmine   \n",
       "42                          Independent Consultant   \n",
       "43                                    Confidential   \n",
       "44                                   Demand Matrix   \n",
       "45                                 ASCO consulting   \n",
       "46                                         NY INST   \n",
       "47  3D India Staffing Research &amp; Consulting...   \n",
       "48                                     O.C. Tanner   \n",
       "49                             MADHUSUDHAN SRIDHAR   \n",
       "\n",
       "                                 Skills they hire for  \\\n",
       "0   Big Data, Data Management, Data Analytics, Ban...   \n",
       "1                                       Not Specified   \n",
       "2                                       Not Specified   \n",
       "3                                       Not Specified   \n",
       "4   Inside Sales, Outside Sales, Enterprise Accoun...   \n",
       "5                                       Not Specified   \n",
       "6                                       Not Specified   \n",
       "7                                       Not Specified   \n",
       "8                                       Not Specified   \n",
       "9   .Net, Java, Data Science, Linux Administration...   \n",
       "10  Classic ASP Developer, Internet Marketing Prof...   \n",
       "11  Mean Stack, javascript, angularjs, mongodb, We...   \n",
       "12  Data Science, Artificial Intelligence, Machine...   \n",
       "13  Hadoop, Spark, Digital Strategy, Data Architec...   \n",
       "14  Analytics, Business Intelligence, Business Ana...   \n",
       "15                                       Data Science   \n",
       "16  Machine Learning, algorithms, Go Getter, Compu...   \n",
       "17  Oracle Dba, Data Science, Data Warehousing, ET...   \n",
       "18  Qa, Ui/ux, Java Developer, Java Architect, C++...   \n",
       "19  Business Intelligence, Data Warehousing, Data ...   \n",
       "20  Office Administration, Hr Administration, tele...   \n",
       "21  Social Media, digital media maketing, seo, smm...   \n",
       "22  React.js, Data Science, Java, Front End, Busin...   \n",
       "23     Big Data, Hadoop, Data Analytics, Data Science   \n",
       "24  Qlikview, Qlik Sense, Microsoft Azure, Power B...   \n",
       "25  Big Data, Data Science, Artificial Intelligenc...   \n",
       "26  Telecalling, Client Interaction, Marketing, Re...   \n",
       "27                                       Data Science   \n",
       "28  Corporate Sales, Software Development, Softwar...   \n",
       "29  Data Analytics, Data Science, Machine Learning...   \n",
       "30  Data Science, Machine Learning, Python, R, Dee...   \n",
       "31  Java, Net, Angularjs, Hr, Infrastructure, Mana...   \n",
       "32  Data Analytics, Managed Services, Team Leading...   \n",
       "33  Data Science, Artificial Intelligence, Machine...   \n",
       "34  Technical Training, Software Development, Pres...   \n",
       "35  Software Architecture, Vp Engineering, Product...   \n",
       "36  Computer Science, Machine Learning, Deep Learn...   \n",
       "37  Data Science, Hadoop, Rpas, Devops, Python, Aw...   \n",
       "38  Signal Processing, Machine Learning, Neural Ne...   \n",
       "39  Web Technologies, Project Management, Software...   \n",
       "40  Ethical Hacking, Security Operations Center, S...   \n",
       "41  Java, Hadoop, R, Machine Learning, Spark, Flum...   \n",
       "42  Data Science, Artificial Intelligence, analyti...   \n",
       "43  Server Administartion, Verilog, Vhdl, Digital ...   \n",
       "44  Data Science, Big Data Analytics, Digital Mark...   \n",
       "45  Machine Learning, Artificial Intelligence, Dat...   \n",
       "46  C, C++, Artificial Intelligence, Python, Php, ...   \n",
       "47  Relationship Management, Retail Sales, Private...   \n",
       "48                 Data Science, Software Engineering   \n",
       "49                  Data Science, Recruitment, Salary   \n",
       "\n",
       "                    Location  \n",
       "0                     Mumbai  \n",
       "1                    Kolkata  \n",
       "2                       Pune  \n",
       "3                    Chennai  \n",
       "4      Bengaluru / Bangalore  \n",
       "5                       Pune  \n",
       "6                    Gurgaon  \n",
       "7                      Delhi  \n",
       "8                       Pune  \n",
       "9   Hyderabad / Secunderabad  \n",
       "10                     Delhi  \n",
       "11                 Ahmedabad  \n",
       "12                      Pune  \n",
       "13             UK - (london)  \n",
       "14         Vadodara / Baroda  \n",
       "15                   Chennai  \n",
       "16                Trivandrum  \n",
       "17                 Hyderabad  \n",
       "18  Hyderabad / Secunderabad  \n",
       "19     Bengaluru / Bangalore  \n",
       "20                    Mumbai  \n",
       "21  Hyderabad / Secunderabad  \n",
       "22                Chandigarh  \n",
       "23                    Bhopal  \n",
       "24                      Pune  \n",
       "25                      Pune  \n",
       "26               Navi Mumbai  \n",
       "27                    Cochin  \n",
       "28                     Delhi  \n",
       "29  Hyderabad / Secunderabad  \n",
       "30                      Pune  \n",
       "31                      Pune  \n",
       "32           Mysoru / Mysore  \n",
       "33                      Pune  \n",
       "34                    Indore  \n",
       "35     Bengaluru / Bangalore  \n",
       "36                   Chennai  \n",
       "37     Bengaluru / Bangalore  \n",
       "38                    Others  \n",
       "39                     Delhi  \n",
       "40  Hyderabad / Secunderabad  \n",
       "41     Bengaluru / Bangalore  \n",
       "42     Bengaluru / Bangalore  \n",
       "43     Bengaluru / Bangalore  \n",
       "44                      Pune  \n",
       "45                 New Delhi  \n",
       "46                   Chennai  \n",
       "47                   Aligarh  \n",
       "48            Salt Lake City  \n",
       "49     Bengaluru / Bangalore  "
      ]
     },
     "execution_count": 73,
     "metadata": {},
     "output_type": "execute_result"
    }
   ],
   "source": [
    "df7=pd.DataFrame()\n",
    "\n",
    "df7['Name']=Name\n",
    "df7['Designation']=Designation\n",
    "df7['Company Name']=Company\n",
    "df7['Skills they hire for']=Skill\n",
    "df7['Location']=Location\n",
    "\n",
    "df7"
   ]
  },
  {
   "cell_type": "markdown",
   "metadata": {},
   "source": [
    "### Scrape the details of Highest selling novels.\n",
    "Url = https://www.theguardian.com/news/datablog/2012/aug/09/best-selling-books-all-time-fifty-shades-greycompare/"
   ]
  },
  {
   "cell_type": "code",
   "execution_count": 74,
   "metadata": {},
   "outputs": [
    {
     "name": "stderr",
     "output_type": "stream",
     "text": [
      "<ipython-input-74-234ca87ff5f6>:1: DeprecationWarning: executable_path has been deprecated, please pass in a Service object\n",
      "  driver8 = webdriver.Chrome('C:/Users/Kishan/Downloads/chromedriver_win32/chromedriver.exe')\n"
     ]
    }
   ],
   "source": [
    "driver8 = webdriver.Chrome('C:/Users/Kishan/Downloads/chromedriver_win32/chromedriver.exe')\n",
    "url8='https://www.theguardian.com/news/datablog/2012/aug/09/best-selling-books-all-time-fifty-shades-grey-compare'\n",
    "driver8.get(url8)"
   ]
  },
  {
   "cell_type": "code",
   "execution_count": 75,
   "metadata": {},
   "outputs": [
    {
     "name": "stderr",
     "output_type": "stream",
     "text": [
      "<ipython-input-75-55c9b20e5aee>:3: DeprecationWarning: find_elements_by_* commands are deprecated. Please use find_elements() instead\n",
      "  bn=driver8.find_elements_by_xpath(\"//table[@class='in-article sortable']/tbody/tr/td[2]\")\n"
     ]
    },
    {
     "data": {
      "text/plain": [
       "100"
      ]
     },
     "execution_count": 75,
     "metadata": {},
     "output_type": "execute_result"
    }
   ],
   "source": [
    "Book_Name=[]\n",
    "\n",
    "bn=driver8.find_elements_by_xpath(\"//table[@class='in-article sortable']/tbody/tr/td[2]\")\n",
    "\n",
    "for i in bn:\n",
    "    Book_Name.append(i.text)\n",
    "    \n",
    "len(Book_Name)"
   ]
  },
  {
   "cell_type": "code",
   "execution_count": 76,
   "metadata": {},
   "outputs": [
    {
     "name": "stderr",
     "output_type": "stream",
     "text": [
      "<ipython-input-76-bd26bf5cb30e>:3: DeprecationWarning: find_elements_by_* commands are deprecated. Please use find_elements() instead\n",
      "  an=driver8.find_elements_by_xpath(\"//table[@class='in-article sortable']/tbody/tr/td[3]\")\n"
     ]
    },
    {
     "data": {
      "text/plain": [
       "100"
      ]
     },
     "execution_count": 76,
     "metadata": {},
     "output_type": "execute_result"
    }
   ],
   "source": [
    "Author_Name=[]\n",
    "\n",
    "an=driver8.find_elements_by_xpath(\"//table[@class='in-article sortable']/tbody/tr/td[3]\")\n",
    "\n",
    "for i in an:\n",
    "    Author_Name.append(i.text)\n",
    "    \n",
    "len(Author_Name)"
   ]
  },
  {
   "cell_type": "code",
   "execution_count": 77,
   "metadata": {},
   "outputs": [
    {
     "name": "stderr",
     "output_type": "stream",
     "text": [
      "<ipython-input-77-49703528becd>:3: DeprecationWarning: find_elements_by_* commands are deprecated. Please use find_elements() instead\n",
      "  vs=driver8.find_elements_by_xpath(\"//table[@class='in-article sortable']/tbody/tr/td[4]\")\n"
     ]
    },
    {
     "data": {
      "text/plain": [
       "100"
      ]
     },
     "execution_count": 77,
     "metadata": {},
     "output_type": "execute_result"
    }
   ],
   "source": [
    "Volumes_Sold=[]\n",
    "\n",
    "vs=driver8.find_elements_by_xpath(\"//table[@class='in-article sortable']/tbody/tr/td[4]\")\n",
    "\n",
    "for i in vs:\n",
    "    Volumes_Sold.append(i.text)\n",
    "\n",
    "len(Volumes_Sold)"
   ]
  },
  {
   "cell_type": "code",
   "execution_count": 78,
   "metadata": {},
   "outputs": [
    {
     "name": "stderr",
     "output_type": "stream",
     "text": [
      "<ipython-input-78-c9a00775a17d>:3: DeprecationWarning: find_elements_by_* commands are deprecated. Please use find_elements() instead\n",
      "  ps=driver8.find_elements_by_xpath(\"//table[@class='in-article sortable']/tbody/tr/td[5]\")\n"
     ]
    },
    {
     "data": {
      "text/plain": [
       "100"
      ]
     },
     "execution_count": 78,
     "metadata": {},
     "output_type": "execute_result"
    }
   ],
   "source": [
    "Publisher=[]\n",
    "\n",
    "ps=driver8.find_elements_by_xpath(\"//table[@class='in-article sortable']/tbody/tr/td[5]\")\n",
    "\n",
    "for i in ps:\n",
    "    Publisher.append(i.text)\n",
    "    \n",
    "len(Publisher)"
   ]
  },
  {
   "cell_type": "code",
   "execution_count": 80,
   "metadata": {},
   "outputs": [
    {
     "name": "stderr",
     "output_type": "stream",
     "text": [
      "<ipython-input-80-469b4aed76cb>:3: DeprecationWarning: find_elements_by_* commands are deprecated. Please use find_elements() instead\n",
      "  gn=driver8.find_elements_by_xpath(\"//table[@class='in-article sortable']/tbody/tr/td[6]\")\n"
     ]
    },
    {
     "data": {
      "text/plain": [
       "100"
      ]
     },
     "execution_count": 80,
     "metadata": {},
     "output_type": "execute_result"
    }
   ],
   "source": [
    "Genre=[]\n",
    "\n",
    "gn=driver8.find_elements_by_xpath(\"//table[@class='in-article sortable']/tbody/tr/td[6]\")\n",
    "\n",
    "for i in gn:\n",
    "    Genre.append(i.text)\n",
    "    \n",
    "len(Genre)"
   ]
  },
  {
   "cell_type": "code",
   "execution_count": 81,
   "metadata": {},
   "outputs": [
    {
     "data": {
      "text/html": [
       "<div>\n",
       "<style scoped>\n",
       "    .dataframe tbody tr th:only-of-type {\n",
       "        vertical-align: middle;\n",
       "    }\n",
       "\n",
       "    .dataframe tbody tr th {\n",
       "        vertical-align: top;\n",
       "    }\n",
       "\n",
       "    .dataframe thead th {\n",
       "        text-align: right;\n",
       "    }\n",
       "</style>\n",
       "<table border=\"1\" class=\"dataframe\">\n",
       "  <thead>\n",
       "    <tr style=\"text-align: right;\">\n",
       "      <th></th>\n",
       "      <th>Book name</th>\n",
       "      <th>Author name</th>\n",
       "      <th>Volumes sold</th>\n",
       "      <th>Publisher</th>\n",
       "      <th>Genre</th>\n",
       "    </tr>\n",
       "  </thead>\n",
       "  <tbody>\n",
       "    <tr>\n",
       "      <th>0</th>\n",
       "      <td>Da Vinci Code,The</td>\n",
       "      <td>Brown, Dan</td>\n",
       "      <td>5,094,805</td>\n",
       "      <td>Transworld</td>\n",
       "      <td>Crime, Thriller &amp; Adventure</td>\n",
       "    </tr>\n",
       "    <tr>\n",
       "      <th>1</th>\n",
       "      <td>Harry Potter and the Deathly Hallows</td>\n",
       "      <td>Rowling, J.K.</td>\n",
       "      <td>4,475,152</td>\n",
       "      <td>Bloomsbury</td>\n",
       "      <td>Children's Fiction</td>\n",
       "    </tr>\n",
       "    <tr>\n",
       "      <th>2</th>\n",
       "      <td>Harry Potter and the Philosopher's Stone</td>\n",
       "      <td>Rowling, J.K.</td>\n",
       "      <td>4,200,654</td>\n",
       "      <td>Bloomsbury</td>\n",
       "      <td>Children's Fiction</td>\n",
       "    </tr>\n",
       "    <tr>\n",
       "      <th>3</th>\n",
       "      <td>Harry Potter and the Order of the Phoenix</td>\n",
       "      <td>Rowling, J.K.</td>\n",
       "      <td>4,179,479</td>\n",
       "      <td>Bloomsbury</td>\n",
       "      <td>Children's Fiction</td>\n",
       "    </tr>\n",
       "    <tr>\n",
       "      <th>4</th>\n",
       "      <td>Fifty Shades of Grey</td>\n",
       "      <td>James, E. L.</td>\n",
       "      <td>3,758,936</td>\n",
       "      <td>Random House</td>\n",
       "      <td>Romance &amp; Sagas</td>\n",
       "    </tr>\n",
       "    <tr>\n",
       "      <th>...</th>\n",
       "      <td>...</td>\n",
       "      <td>...</td>\n",
       "      <td>...</td>\n",
       "      <td>...</td>\n",
       "      <td>...</td>\n",
       "    </tr>\n",
       "    <tr>\n",
       "      <th>95</th>\n",
       "      <td>Ghost,The</td>\n",
       "      <td>Harris, Robert</td>\n",
       "      <td>807,311</td>\n",
       "      <td>Random House</td>\n",
       "      <td>General &amp; Literary Fiction</td>\n",
       "    </tr>\n",
       "    <tr>\n",
       "      <th>96</th>\n",
       "      <td>Happy Days with the Naked Chef</td>\n",
       "      <td>Oliver, Jamie</td>\n",
       "      <td>794,201</td>\n",
       "      <td>Penguin</td>\n",
       "      <td>Food &amp; Drink: General</td>\n",
       "    </tr>\n",
       "    <tr>\n",
       "      <th>97</th>\n",
       "      <td>Hunger Games,The:Hunger Games Trilogy</td>\n",
       "      <td>Collins, Suzanne</td>\n",
       "      <td>792,187</td>\n",
       "      <td>Scholastic Ltd.</td>\n",
       "      <td>Young Adult Fiction</td>\n",
       "    </tr>\n",
       "    <tr>\n",
       "      <th>98</th>\n",
       "      <td>Lost Boy,The:A Foster Child's Search for the L...</td>\n",
       "      <td>Pelzer, Dave</td>\n",
       "      <td>791,507</td>\n",
       "      <td>Orion</td>\n",
       "      <td>Biography: General</td>\n",
       "    </tr>\n",
       "    <tr>\n",
       "      <th>99</th>\n",
       "      <td>Jamie's Ministry of Food:Anyone Can Learn to C...</td>\n",
       "      <td>Oliver, Jamie</td>\n",
       "      <td>791,095</td>\n",
       "      <td>Penguin</td>\n",
       "      <td>Food &amp; Drink: General</td>\n",
       "    </tr>\n",
       "  </tbody>\n",
       "</table>\n",
       "<p>100 rows × 5 columns</p>\n",
       "</div>"
      ],
      "text/plain": [
       "                                            Book name       Author name  \\\n",
       "0                                   Da Vinci Code,The        Brown, Dan   \n",
       "1                Harry Potter and the Deathly Hallows     Rowling, J.K.   \n",
       "2            Harry Potter and the Philosopher's Stone     Rowling, J.K.   \n",
       "3           Harry Potter and the Order of the Phoenix     Rowling, J.K.   \n",
       "4                                Fifty Shades of Grey      James, E. L.   \n",
       "..                                                ...               ...   \n",
       "95                                          Ghost,The    Harris, Robert   \n",
       "96                     Happy Days with the Naked Chef     Oliver, Jamie   \n",
       "97              Hunger Games,The:Hunger Games Trilogy  Collins, Suzanne   \n",
       "98  Lost Boy,The:A Foster Child's Search for the L...      Pelzer, Dave   \n",
       "99  Jamie's Ministry of Food:Anyone Can Learn to C...     Oliver, Jamie   \n",
       "\n",
       "   Volumes sold        Publisher                        Genre  \n",
       "0     5,094,805       Transworld  Crime, Thriller & Adventure  \n",
       "1     4,475,152       Bloomsbury           Children's Fiction  \n",
       "2     4,200,654       Bloomsbury           Children's Fiction  \n",
       "3     4,179,479       Bloomsbury           Children's Fiction  \n",
       "4     3,758,936     Random House              Romance & Sagas  \n",
       "..          ...              ...                          ...  \n",
       "95      807,311     Random House   General & Literary Fiction  \n",
       "96      794,201          Penguin        Food & Drink: General  \n",
       "97      792,187  Scholastic Ltd.          Young Adult Fiction  \n",
       "98      791,507            Orion           Biography: General  \n",
       "99      791,095          Penguin        Food & Drink: General  \n",
       "\n",
       "[100 rows x 5 columns]"
      ]
     },
     "execution_count": 81,
     "metadata": {},
     "output_type": "execute_result"
    }
   ],
   "source": [
    "df8=pd.DataFrame()\n",
    "\n",
    "df8['Book name']=Book_Name\n",
    "df8['Author name']=Author_Name\n",
    "df8['Volumes sold']=Volumes_Sold\n",
    "df8['Publisher']=Publisher\n",
    "df8['Genre']=Genre\n",
    "\n",
    "df8"
   ]
  },
  {
   "cell_type": "markdown",
   "metadata": {},
   "source": [
    "### Scrape the details most watched tv series of all time from imdb.com.\n",
    "Url = https://www.imdb.com/list/ls095964455/"
   ]
  },
  {
   "cell_type": "code",
   "execution_count": 83,
   "metadata": {},
   "outputs": [
    {
     "name": "stderr",
     "output_type": "stream",
     "text": [
      "<ipython-input-83-0e0037258efc>:1: DeprecationWarning: executable_path has been deprecated, please pass in a Service object\n",
      "  driver9 = webdriver.Chrome('C:/Users/Kishan/Downloads/chromedriver_win32/chromedriver.exe')\n"
     ]
    }
   ],
   "source": [
    "driver9 = webdriver.Chrome('C:/Users/Kishan/Downloads/chromedriver_win32/chromedriver.exe')\n",
    "url9='https://www.imdb.com/list/ls095964455/'\n",
    "driver9.get(url9)"
   ]
  },
  {
   "cell_type": "code",
   "execution_count": 84,
   "metadata": {},
   "outputs": [
    {
     "name": "stderr",
     "output_type": "stream",
     "text": [
      "<ipython-input-84-c734f1625956>:3: DeprecationWarning: find_elements_by_* commands are deprecated. Please use find_elements() instead\n",
      "  name=driver9.find_elements_by_xpath(\"//h3[@class='lister-item-header']/a\")\n"
     ]
    },
    {
     "data": {
      "text/plain": [
       "100"
      ]
     },
     "execution_count": 84,
     "metadata": {},
     "output_type": "execute_result"
    }
   ],
   "source": [
    "Name=[]\n",
    "\n",
    "name=driver9.find_elements_by_xpath(\"//h3[@class='lister-item-header']/a\")\n",
    "\n",
    "for i in name:\n",
    "    Name.append(i.text)\n",
    "    \n",
    "len(Name)"
   ]
  },
  {
   "cell_type": "code",
   "execution_count": 85,
   "metadata": {},
   "outputs": [
    {
     "name": "stderr",
     "output_type": "stream",
     "text": [
      "<ipython-input-85-6d4f8db15e43>:3: DeprecationWarning: find_elements_by_* commands are deprecated. Please use find_elements() instead\n",
      "  year=driver9.find_elements_by_xpath(\"//h3[@class='lister-item-header']/span[2]\")\n"
     ]
    },
    {
     "data": {
      "text/plain": [
       "100"
      ]
     },
     "execution_count": 85,
     "metadata": {},
     "output_type": "execute_result"
    }
   ],
   "source": [
    "Year_Span=[]\n",
    "\n",
    "year=driver9.find_elements_by_xpath(\"//h3[@class='lister-item-header']/span[2]\")\n",
    "\n",
    "for i in year:\n",
    "    Year_Span.append(i.text)\n",
    "    \n",
    "len(Year_Span)"
   ]
  },
  {
   "cell_type": "code",
   "execution_count": 86,
   "metadata": {},
   "outputs": [
    {
     "name": "stderr",
     "output_type": "stream",
     "text": [
      "<ipython-input-86-9f94e09ee4d7>:3: DeprecationWarning: find_elements_by_* commands are deprecated. Please use find_elements() instead\n",
      "  gen=driver9.find_elements_by_xpath(\"//p[@class='text-muted text-small']/span[5]\")\n"
     ]
    },
    {
     "data": {
      "text/plain": [
       "100"
      ]
     },
     "execution_count": 86,
     "metadata": {},
     "output_type": "execute_result"
    }
   ],
   "source": [
    "Genre=[]\n",
    "\n",
    "gen=driver9.find_elements_by_xpath(\"//p[@class='text-muted text-small']/span[5]\")\n",
    "\n",
    "for i in gen:\n",
    "    Genre.append(i.text)\n",
    "    \n",
    "len(Genre)"
   ]
  },
  {
   "cell_type": "code",
   "execution_count": 87,
   "metadata": {},
   "outputs": [
    {
     "name": "stderr",
     "output_type": "stream",
     "text": [
      "<ipython-input-87-c1e24e1c2764>:3: DeprecationWarning: find_elements_by_* commands are deprecated. Please use find_elements() instead\n",
      "  rt=driver9.find_elements_by_xpath(\"//p[@class='text-muted text-small']/span[3]\")\n"
     ]
    },
    {
     "data": {
      "text/plain": [
       "100"
      ]
     },
     "execution_count": 87,
     "metadata": {},
     "output_type": "execute_result"
    }
   ],
   "source": [
    "Run_Time=[]\n",
    "\n",
    "rt=driver9.find_elements_by_xpath(\"//p[@class='text-muted text-small']/span[3]\")\n",
    "\n",
    "for i in rt:\n",
    "    Run_Time.append(i.text)\n",
    "    \n",
    "len(Run_Time)"
   ]
  },
  {
   "cell_type": "code",
   "execution_count": 88,
   "metadata": {},
   "outputs": [
    {
     "name": "stderr",
     "output_type": "stream",
     "text": [
      "<ipython-input-88-dcc6e3ad5ab0>:3: DeprecationWarning: find_elements_by_* commands are deprecated. Please use find_elements() instead\n",
      "  rating=driver9.find_elements_by_xpath(\"//div[@class='ipl-rating-star small']/span[2]\")\n"
     ]
    },
    {
     "data": {
      "text/plain": [
       "100"
      ]
     },
     "execution_count": 88,
     "metadata": {},
     "output_type": "execute_result"
    }
   ],
   "source": [
    "Rating=[]\n",
    "\n",
    "rating=driver9.find_elements_by_xpath(\"//div[@class='ipl-rating-star small']/span[2]\")\n",
    "\n",
    "for i in rating:\n",
    "    Rating.append(i.text)\n",
    "    \n",
    "\n",
    "len(Rating)"
   ]
  },
  {
   "cell_type": "code",
   "execution_count": 89,
   "metadata": {},
   "outputs": [
    {
     "name": "stderr",
     "output_type": "stream",
     "text": [
      "<ipython-input-89-4f1195b9fa14>:3: DeprecationWarning: find_elements_by_* commands are deprecated. Please use find_elements() instead\n",
      "  vote=driver9.find_elements_by_xpath(\"//p[@class='text-muted text-small']//span[2]\")\n"
     ]
    },
    {
     "data": {
      "text/plain": [
       "100"
      ]
     },
     "execution_count": 89,
     "metadata": {},
     "output_type": "execute_result"
    }
   ],
   "source": [
    "Votes=[]\n",
    "\n",
    "vote=driver9.find_elements_by_xpath(\"//p[@class='text-muted text-small']//span[2]\")\n",
    "\n",
    "for i in vote:\n",
    "    Votes.append(i.text)\n",
    "    \n",
    "len(Votes[1::2])"
   ]
  },
  {
   "cell_type": "code",
   "execution_count": 90,
   "metadata": {},
   "outputs": [
    {
     "data": {
      "text/html": [
       "<div>\n",
       "<style scoped>\n",
       "    .dataframe tbody tr th:only-of-type {\n",
       "        vertical-align: middle;\n",
       "    }\n",
       "\n",
       "    .dataframe tbody tr th {\n",
       "        vertical-align: top;\n",
       "    }\n",
       "\n",
       "    .dataframe thead th {\n",
       "        text-align: right;\n",
       "    }\n",
       "</style>\n",
       "<table border=\"1\" class=\"dataframe\">\n",
       "  <thead>\n",
       "    <tr style=\"text-align: right;\">\n",
       "      <th></th>\n",
       "      <th>TV Serial Name</th>\n",
       "      <th>Year Span</th>\n",
       "      <th>Genre</th>\n",
       "      <th>Run Time</th>\n",
       "      <th>Rating</th>\n",
       "      <th>Votes</th>\n",
       "    </tr>\n",
       "  </thead>\n",
       "  <tbody>\n",
       "    <tr>\n",
       "      <th>0</th>\n",
       "      <td>Game of Thrones</td>\n",
       "      <td>(2011–2019)</td>\n",
       "      <td>Action, Adventure, Drama</td>\n",
       "      <td>57 min</td>\n",
       "      <td>9.2</td>\n",
       "      <td>1,925,834</td>\n",
       "    </tr>\n",
       "    <tr>\n",
       "      <th>1</th>\n",
       "      <td>Stranger Things</td>\n",
       "      <td>(2016– )</td>\n",
       "      <td>Drama, Fantasy, Horror</td>\n",
       "      <td>51 min</td>\n",
       "      <td>8.7</td>\n",
       "      <td>948,602</td>\n",
       "    </tr>\n",
       "    <tr>\n",
       "      <th>2</th>\n",
       "      <td>The Walking Dead</td>\n",
       "      <td>(2010–2022)</td>\n",
       "      <td>Drama, Horror, Thriller</td>\n",
       "      <td>44 min</td>\n",
       "      <td>8.2</td>\n",
       "      <td>920,661</td>\n",
       "    </tr>\n",
       "    <tr>\n",
       "      <th>3</th>\n",
       "      <td>13 Reasons Why</td>\n",
       "      <td>(2017–2020)</td>\n",
       "      <td>Drama, Mystery, Thriller</td>\n",
       "      <td>60 min</td>\n",
       "      <td>7.5</td>\n",
       "      <td>275,750</td>\n",
       "    </tr>\n",
       "    <tr>\n",
       "      <th>4</th>\n",
       "      <td>The 100</td>\n",
       "      <td>(2014–2020)</td>\n",
       "      <td>Drama, Mystery, Sci-Fi</td>\n",
       "      <td>43 min</td>\n",
       "      <td>7.6</td>\n",
       "      <td>236,045</td>\n",
       "    </tr>\n",
       "    <tr>\n",
       "      <th>...</th>\n",
       "      <td>...</td>\n",
       "      <td>...</td>\n",
       "      <td>...</td>\n",
       "      <td>...</td>\n",
       "      <td>...</td>\n",
       "      <td>...</td>\n",
       "    </tr>\n",
       "    <tr>\n",
       "      <th>95</th>\n",
       "      <td>Reign</td>\n",
       "      <td>(2013–2017)</td>\n",
       "      <td>Drama, Fantasy</td>\n",
       "      <td>42 min</td>\n",
       "      <td>7.5</td>\n",
       "      <td>47,064</td>\n",
       "    </tr>\n",
       "    <tr>\n",
       "      <th>96</th>\n",
       "      <td>A Series of Unfortunate Events</td>\n",
       "      <td>(2017–2019)</td>\n",
       "      <td>Adventure, Comedy, Drama</td>\n",
       "      <td>50 min</td>\n",
       "      <td>7.8</td>\n",
       "      <td>57,845</td>\n",
       "    </tr>\n",
       "    <tr>\n",
       "      <th>97</th>\n",
       "      <td>Criminal Minds</td>\n",
       "      <td>(2005–2020)</td>\n",
       "      <td>Crime, Drama, Mystery</td>\n",
       "      <td>42 min</td>\n",
       "      <td>8.1</td>\n",
       "      <td>182,578</td>\n",
       "    </tr>\n",
       "    <tr>\n",
       "      <th>98</th>\n",
       "      <td>Scream: The TV Series</td>\n",
       "      <td>(2015–2019)</td>\n",
       "      <td>Comedy, Crime, Drama</td>\n",
       "      <td>45 min</td>\n",
       "      <td>7.1</td>\n",
       "      <td>38,145</td>\n",
       "    </tr>\n",
       "    <tr>\n",
       "      <th>99</th>\n",
       "      <td>The Haunting of Hill House</td>\n",
       "      <td>(2018)</td>\n",
       "      <td>Drama, Horror, Mystery</td>\n",
       "      <td>572 min</td>\n",
       "      <td>8.6</td>\n",
       "      <td>217,220</td>\n",
       "    </tr>\n",
       "  </tbody>\n",
       "</table>\n",
       "<p>100 rows × 6 columns</p>\n",
       "</div>"
      ],
      "text/plain": [
       "                    TV Serial Name    Year Span                     Genre  \\\n",
       "0                  Game of Thrones  (2011–2019)  Action, Adventure, Drama   \n",
       "1                  Stranger Things     (2016– )    Drama, Fantasy, Horror   \n",
       "2                 The Walking Dead  (2010–2022)   Drama, Horror, Thriller   \n",
       "3                   13 Reasons Why  (2017–2020)  Drama, Mystery, Thriller   \n",
       "4                          The 100  (2014–2020)    Drama, Mystery, Sci-Fi   \n",
       "..                             ...          ...                       ...   \n",
       "95                           Reign  (2013–2017)            Drama, Fantasy   \n",
       "96  A Series of Unfortunate Events  (2017–2019)  Adventure, Comedy, Drama   \n",
       "97                  Criminal Minds  (2005–2020)     Crime, Drama, Mystery   \n",
       "98           Scream: The TV Series  (2015–2019)      Comedy, Crime, Drama   \n",
       "99      The Haunting of Hill House       (2018)    Drama, Horror, Mystery   \n",
       "\n",
       "   Run Time Rating      Votes  \n",
       "0    57 min    9.2  1,925,834  \n",
       "1    51 min    8.7    948,602  \n",
       "2    44 min    8.2    920,661  \n",
       "3    60 min    7.5    275,750  \n",
       "4    43 min    7.6    236,045  \n",
       "..      ...    ...        ...  \n",
       "95   42 min    7.5     47,064  \n",
       "96   50 min    7.8     57,845  \n",
       "97   42 min    8.1    182,578  \n",
       "98   45 min    7.1     38,145  \n",
       "99  572 min    8.6    217,220  \n",
       "\n",
       "[100 rows x 6 columns]"
      ]
     },
     "execution_count": 90,
     "metadata": {},
     "output_type": "execute_result"
    }
   ],
   "source": [
    "df9=pd.DataFrame()\n",
    "\n",
    "df9['TV Serial Name']=Name\n",
    "df9['Year Span']=Year_Span\n",
    "df9['Genre']=Genre\n",
    "df9['Run Time']=Run_Time\n",
    "df9['Rating']=Rating\n",
    "df9['Votes']=Votes[1::2]\n",
    "\n",
    "df9"
   ]
  },
  {
   "cell_type": "markdown",
   "metadata": {},
   "source": [
    "### Details of Datasets from UCI machine learning repositories.\n",
    "Url = https://archive.ics.uci.edu/"
   ]
  },
  {
   "cell_type": "code",
   "execution_count": 91,
   "metadata": {},
   "outputs": [
    {
     "name": "stderr",
     "output_type": "stream",
     "text": [
      "<ipython-input-91-50c3a1adfd17>:1: DeprecationWarning: executable_path has been deprecated, please pass in a Service object\n",
      "  driver10 = webdriver.Chrome('C:/Users/Kishan/Downloads/chromedriver_win32/chromedriver.exe')\n"
     ]
    }
   ],
   "source": [
    "driver10 = webdriver.Chrome('C:/Users/Kishan/Downloads/chromedriver_win32/chromedriver.exe')\n",
    "url10='https://archive.ics.uci.edu/'\n",
    "driver10.get(url10)"
   ]
  },
  {
   "cell_type": "code",
   "execution_count": 92,
   "metadata": {},
   "outputs": [
    {
     "name": "stderr",
     "output_type": "stream",
     "text": [
      "<ipython-input-92-2ff618c64a59>:1: DeprecationWarning: find_elements_by_* commands are deprecated. Please use find_elements() instead\n",
      "  all_dataset=driver10.find_elements_by_xpath(\"//span[@class='normal']//a\")\n"
     ]
    }
   ],
   "source": [
    "all_dataset=driver10.find_elements_by_xpath(\"//span[@class='normal']//a\")\n",
    "for i in all_dataset:\n",
    "    if i.text=='view all data sets':\n",
    "        i.click()\n",
    "        break"
   ]
  },
  {
   "cell_type": "code",
   "execution_count": 93,
   "metadata": {},
   "outputs": [
    {
     "name": "stderr",
     "output_type": "stream",
     "text": [
      "<ipython-input-93-b03289b71911>:3: DeprecationWarning: find_elements_by_* commands are deprecated. Please use find_elements() instead\n",
      "  name=driver10.find_elements_by_xpath(\"//table[@cellpadding=5]/tbody/tr/td[1]\")\n"
     ]
    },
    {
     "data": {
      "text/plain": [
       "624"
      ]
     },
     "execution_count": 93,
     "metadata": {},
     "output_type": "execute_result"
    }
   ],
   "source": [
    "Dataset_Name=[]\n",
    "\n",
    "name=driver10.find_elements_by_xpath(\"//table[@cellpadding=5]/tbody/tr/td[1]\")\n",
    "\n",
    "for i in name:\n",
    "    if i.text is None:\n",
    "        Dataset_Name.append(\"-\")\n",
    "    else:\n",
    "        Dataset_Name.append(i.text)\n",
    "    \n",
    "len(Dataset_Name)"
   ]
  },
  {
   "cell_type": "code",
   "execution_count": 94,
   "metadata": {},
   "outputs": [
    {
     "name": "stderr",
     "output_type": "stream",
     "text": [
      "<ipython-input-94-84e8dc6cae91>:3: DeprecationWarning: find_elements_by_* commands are deprecated. Please use find_elements() instead\n",
      "  dt=driver10.find_elements_by_xpath(\"//table[@cellpadding=5]/tbody/tr/td[2]\")\n"
     ]
    },
    {
     "data": {
      "text/plain": [
       "624"
      ]
     },
     "execution_count": 94,
     "metadata": {},
     "output_type": "execute_result"
    }
   ],
   "source": [
    "Data_Type=[]\n",
    "\n",
    "dt=driver10.find_elements_by_xpath(\"//table[@cellpadding=5]/tbody/tr/td[2]\")\n",
    "\n",
    "for i in dt:\n",
    "    if i.text is None:\n",
    "        Data_Type.append(\"-\")\n",
    "    else:\n",
    "        Data_Type.append(i.text)\n",
    "    \n",
    "len(Data_Type)"
   ]
  },
  {
   "cell_type": "code",
   "execution_count": 95,
   "metadata": {},
   "outputs": [
    {
     "name": "stderr",
     "output_type": "stream",
     "text": [
      "<ipython-input-95-1ef4f307d85a>:3: DeprecationWarning: find_elements_by_* commands are deprecated. Please use find_elements() instead\n",
      "  det=driver10.find_elements_by_xpath(\"//table[@cellpadding=5]/tbody/tr/td[3]\")\n"
     ]
    },
    {
     "data": {
      "text/plain": [
       "624"
      ]
     },
     "execution_count": 95,
     "metadata": {},
     "output_type": "execute_result"
    }
   ],
   "source": [
    "Default_Task=[]\n",
    "\n",
    "det=driver10.find_elements_by_xpath(\"//table[@cellpadding=5]/tbody/tr/td[3]\")\n",
    "\n",
    "for i in det:\n",
    "    if i.text is None:\n",
    "        Default_Task.append(\"-\")\n",
    "    else:\n",
    "        Default_Task.append(i.text)\n",
    "    \n",
    "len(Default_Task)"
   ]
  },
  {
   "cell_type": "code",
   "execution_count": 96,
   "metadata": {},
   "outputs": [
    {
     "name": "stderr",
     "output_type": "stream",
     "text": [
      "<ipython-input-96-124eeb1c74a7>:3: DeprecationWarning: find_elements_by_* commands are deprecated. Please use find_elements() instead\n",
      "  at=driver10.find_elements_by_xpath(\"//table[@cellpadding=5]/tbody/tr/td[4]\")\n"
     ]
    },
    {
     "data": {
      "text/plain": [
       "624"
      ]
     },
     "execution_count": 96,
     "metadata": {},
     "output_type": "execute_result"
    }
   ],
   "source": [
    "Attributes_Types=[]\n",
    "\n",
    "at=driver10.find_elements_by_xpath(\"//table[@cellpadding=5]/tbody/tr/td[4]\")\n",
    "\n",
    "for i in at:\n",
    "    if i.text is None:\n",
    "        Attributes_Types.append(\"-\")\n",
    "    else:\n",
    "        Attributes_Types.append(i.text)\n",
    "    \n",
    "len(Attributes_Types)"
   ]
  },
  {
   "cell_type": "code",
   "execution_count": 97,
   "metadata": {},
   "outputs": [
    {
     "name": "stderr",
     "output_type": "stream",
     "text": [
      "<ipython-input-97-89670c1d58be>:3: DeprecationWarning: find_elements_by_* commands are deprecated. Please use find_elements() instead\n",
      "  ins=driver10.find_elements_by_xpath(\"//table[@cellpadding=5]/tbody/tr/td[5]\")\n"
     ]
    },
    {
     "data": {
      "text/plain": [
       "623"
      ]
     },
     "execution_count": 97,
     "metadata": {},
     "output_type": "execute_result"
    }
   ],
   "source": [
    "Instances=[]\n",
    "\n",
    "ins=driver10.find_elements_by_xpath(\"//table[@cellpadding=5]/tbody/tr/td[5]\")\n",
    "\n",
    "for i in ins:\n",
    "    if i.text is None:\n",
    "        Instances.append(\"-\")\n",
    "    else:\n",
    "        Instances.append(i.text)\n",
    "    \n",
    "len(Instances)"
   ]
  },
  {
   "cell_type": "code",
   "execution_count": 98,
   "metadata": {},
   "outputs": [
    {
     "name": "stderr",
     "output_type": "stream",
     "text": [
      "<ipython-input-98-2760115dafa1>:3: DeprecationWarning: find_elements_by_* commands are deprecated. Please use find_elements() instead\n",
      "  atr=driver10.find_elements_by_xpath(\"//table[@cellpadding=5]/tbody/tr/td[6]\")\n"
     ]
    },
    {
     "data": {
      "text/plain": [
       "623"
      ]
     },
     "execution_count": 98,
     "metadata": {},
     "output_type": "execute_result"
    }
   ],
   "source": [
    "Attributes=[]\n",
    "\n",
    "atr=driver10.find_elements_by_xpath(\"//table[@cellpadding=5]/tbody/tr/td[6]\")\n",
    "\n",
    "for i in atr:\n",
    "    if i.text is None:\n",
    "        Attributes.append(\"-\")\n",
    "    else:\n",
    "        Attributes.append(i.text)\n",
    "        \n",
    "len(Attributes)"
   ]
  },
  {
   "cell_type": "code",
   "execution_count": 99,
   "metadata": {},
   "outputs": [
    {
     "name": "stderr",
     "output_type": "stream",
     "text": [
      "<ipython-input-99-c9156165f32d>:3: DeprecationWarning: find_elements_by_* commands are deprecated. Please use find_elements() instead\n",
      "  yr=driver10.find_elements_by_xpath(\"//table[@cellpadding=5]/tbody/tr/td[7]\")\n"
     ]
    },
    {
     "data": {
      "text/plain": [
       "623"
      ]
     },
     "execution_count": 99,
     "metadata": {},
     "output_type": "execute_result"
    }
   ],
   "source": [
    "Year=[]\n",
    "\n",
    "yr=driver10.find_elements_by_xpath(\"//table[@cellpadding=5]/tbody/tr/td[7]\")\n",
    "\n",
    "for i in yr:\n",
    "    try:\n",
    "        Year.append(i.text)\n",
    "    except NoSuchElementException:\n",
    "        Year.append(\"--\")\n",
    "        \n",
    "len(Year)"
   ]
  },
  {
   "cell_type": "code",
   "execution_count": 101,
   "metadata": {},
   "outputs": [
    {
     "data": {
      "text/html": [
       "<div>\n",
       "<style scoped>\n",
       "    .dataframe tbody tr th:only-of-type {\n",
       "        vertical-align: middle;\n",
       "    }\n",
       "\n",
       "    .dataframe tbody tr th {\n",
       "        vertical-align: top;\n",
       "    }\n",
       "\n",
       "    .dataframe thead th {\n",
       "        text-align: right;\n",
       "    }\n",
       "</style>\n",
       "<table border=\"1\" class=\"dataframe\">\n",
       "  <thead>\n",
       "    <tr style=\"text-align: right;\">\n",
       "      <th></th>\n",
       "      <th>Dataset Name</th>\n",
       "      <th>Dataset Type</th>\n",
       "      <th>Default Task</th>\n",
       "      <th>Attribute Type</th>\n",
       "      <th>No of instances</th>\n",
       "      <th>No of attribute</th>\n",
       "      <th>Year</th>\n",
       "    </tr>\n",
       "  </thead>\n",
       "  <tbody>\n",
       "    <tr>\n",
       "      <th>0</th>\n",
       "      <td>Abalone</td>\n",
       "      <td>Multivariate</td>\n",
       "      <td>Classification</td>\n",
       "      <td>Categorical, Integer, Real</td>\n",
       "      <td>4177</td>\n",
       "      <td>8</td>\n",
       "      <td>1995</td>\n",
       "    </tr>\n",
       "    <tr>\n",
       "      <th>1</th>\n",
       "      <td>Adult</td>\n",
       "      <td>Multivariate</td>\n",
       "      <td>Classification</td>\n",
       "      <td>Categorical, Integer</td>\n",
       "      <td>48842</td>\n",
       "      <td>14</td>\n",
       "      <td>1996</td>\n",
       "    </tr>\n",
       "    <tr>\n",
       "      <th>2</th>\n",
       "      <td>Annealing</td>\n",
       "      <td>Multivariate</td>\n",
       "      <td>Classification</td>\n",
       "      <td>Categorical, Integer, Real</td>\n",
       "      <td>798</td>\n",
       "      <td>38</td>\n",
       "      <td></td>\n",
       "    </tr>\n",
       "    <tr>\n",
       "      <th>3</th>\n",
       "      <td>Anonymous Microsoft Web Data</td>\n",
       "      <td></td>\n",
       "      <td>Recommender-Systems</td>\n",
       "      <td>Categorical</td>\n",
       "      <td>37711</td>\n",
       "      <td>294</td>\n",
       "      <td>1998</td>\n",
       "    </tr>\n",
       "    <tr>\n",
       "      <th>4</th>\n",
       "      <td>Arrhythmia</td>\n",
       "      <td>Multivariate</td>\n",
       "      <td>Classification</td>\n",
       "      <td>Categorical, Integer, Real</td>\n",
       "      <td>452</td>\n",
       "      <td>279</td>\n",
       "      <td>1998</td>\n",
       "    </tr>\n",
       "    <tr>\n",
       "      <th>...</th>\n",
       "      <td>...</td>\n",
       "      <td>...</td>\n",
       "      <td>...</td>\n",
       "      <td>...</td>\n",
       "      <td>...</td>\n",
       "      <td>...</td>\n",
       "      <td>...</td>\n",
       "    </tr>\n",
       "    <tr>\n",
       "      <th>617</th>\n",
       "      <td>Influenza outbreak event prediction via Twit...</td>\n",
       "      <td>Multivariate</td>\n",
       "      <td>Classification</td>\n",
       "      <td>Integer, Real</td>\n",
       "      <td>75840</td>\n",
       "      <td>525</td>\n",
       "      <td>2020</td>\n",
       "    </tr>\n",
       "    <tr>\n",
       "      <th>618</th>\n",
       "      <td>Turkish Music Emotion Dataset</td>\n",
       "      <td>Multivariate</td>\n",
       "      <td>Classification</td>\n",
       "      <td>Integer, Real</td>\n",
       "      <td>400</td>\n",
       "      <td>50</td>\n",
       "      <td>2020</td>\n",
       "    </tr>\n",
       "    <tr>\n",
       "      <th>619</th>\n",
       "      <td>Maternal Health Risk Data Set</td>\n",
       "      <td></td>\n",
       "      <td>Classification</td>\n",
       "      <td></td>\n",
       "      <td>1014</td>\n",
       "      <td>7</td>\n",
       "      <td>2020</td>\n",
       "    </tr>\n",
       "    <tr>\n",
       "      <th>620</th>\n",
       "      <td>Room Occupancy Estimation</td>\n",
       "      <td>Multivariate, Time-Series</td>\n",
       "      <td>Classification</td>\n",
       "      <td>Real</td>\n",
       "      <td>10129</td>\n",
       "      <td>16</td>\n",
       "      <td>2021</td>\n",
       "    </tr>\n",
       "    <tr>\n",
       "      <th>621</th>\n",
       "      <td>Image Recognition Task Execution Times in Mo...</td>\n",
       "      <td>Univariate</td>\n",
       "      <td>Regression</td>\n",
       "      <td>Real</td>\n",
       "      <td>4000</td>\n",
       "      <td>2</td>\n",
       "      <td>2021</td>\n",
       "    </tr>\n",
       "  </tbody>\n",
       "</table>\n",
       "<p>622 rows × 7 columns</p>\n",
       "</div>"
      ],
      "text/plain": [
       "                                          Dataset Name  \\\n",
       "0                                              Abalone   \n",
       "1                                                Adult   \n",
       "2                                            Annealing   \n",
       "3                         Anonymous Microsoft Web Data   \n",
       "4                                           Arrhythmia   \n",
       "..                                                 ...   \n",
       "617    Influenza outbreak event prediction via Twit...   \n",
       "618                      Turkish Music Emotion Dataset   \n",
       "619                      Maternal Health Risk Data Set   \n",
       "620                          Room Occupancy Estimation   \n",
       "621    Image Recognition Task Execution Times in Mo...   \n",
       "\n",
       "                   Dataset Type          Default Task  \\\n",
       "0                 Multivariate        Classification    \n",
       "1                 Multivariate        Classification    \n",
       "2                 Multivariate        Classification    \n",
       "3                                Recommender-Systems    \n",
       "4                 Multivariate        Classification    \n",
       "..                          ...                   ...   \n",
       "617               Multivariate        Classification    \n",
       "618               Multivariate        Classification    \n",
       "619                                   Classification    \n",
       "620  Multivariate, Time-Series        Classification    \n",
       "621                 Univariate            Regression    \n",
       "\n",
       "                  Attribute Type No of instances  No of attribute   Year  \n",
       "0    Categorical, Integer, Real            4177                8   1995   \n",
       "1          Categorical, Integer           48842               14   1996   \n",
       "2    Categorical, Integer, Real             798               38          \n",
       "3                   Categorical           37711              294   1998   \n",
       "4    Categorical, Integer, Real             452              279   1998   \n",
       "..                           ...             ...              ...    ...  \n",
       "617               Integer, Real           75840              525   2020   \n",
       "618               Integer, Real             400               50   2020   \n",
       "619                                        1014                7   2020   \n",
       "620                        Real           10129               16   2021   \n",
       "621                        Real            4000                2   2021   \n",
       "\n",
       "[622 rows x 7 columns]"
      ]
     },
     "execution_count": 101,
     "metadata": {},
     "output_type": "execute_result"
    }
   ],
   "source": [
    "df10=pd.DataFrame()\n",
    "\n",
    "df10['Dataset Name']=Dataset_Name[1:623]\n",
    "df10['Dataset Type']=Data_Type[1:623]\n",
    "df10['Default Task']=Default_Task[1:623]\n",
    "df10['Attribute Type']=Attributes_Types[1:623]\n",
    "df10['No of instances']=Instances[1:]\n",
    "df10[' No of attribute']=Attributes[1:]\n",
    "df10['Year']=Year[1:]\n",
    "\n",
    "df10"
   ]
  },
  {
   "cell_type": "code",
   "execution_count": null,
   "metadata": {},
   "outputs": [],
   "source": []
  }
 ],
 "metadata": {
  "kernelspec": {
   "display_name": "Python 3",
   "language": "python",
   "name": "python3"
  },
  "language_info": {
   "codemirror_mode": {
    "name": "ipython",
    "version": 3
   },
   "file_extension": ".py",
   "mimetype": "text/x-python",
   "name": "python",
   "nbconvert_exporter": "python",
   "pygments_lexer": "ipython3",
   "version": "3.8.3"
  }
 },
 "nbformat": 4,
 "nbformat_minor": 4
}
