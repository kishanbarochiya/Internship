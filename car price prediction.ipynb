{
 "cells": [
  {
   "cell_type": "markdown",
   "metadata": {},
   "source": [
    "### IMPORT LIBRARIES"
   ]
  },
  {
   "cell_type": "code",
   "execution_count": 1,
   "metadata": {},
   "outputs": [],
   "source": [
    "import pandas as pd\n",
    "import numpy as np\n",
    "import matplotlib.pyplot as plt #For EDA purpose\n",
    "%matplotlib inline   \n",
    "import seaborn as sns  #EDA purpose\n",
    "import warnings  #bypass Warning\n",
    "warnings.filterwarnings('ignore')\n",
    "\n",
    "from collections import Counter\n",
    "from sklearn.linear_model import LinearRegression\n",
    "from sklearn.metrics import mean_absolute_error,mean_squared_error,r2_score"
   ]
  },
  {
   "cell_type": "markdown",
   "metadata": {},
   "source": [
    "### LOAD DATA"
   ]
  },
  {
   "cell_type": "code",
   "execution_count": 2,
   "metadata": {},
   "outputs": [
    {
     "data": {
      "text/html": [
       "<div>\n",
       "<style scoped>\n",
       "    .dataframe tbody tr th:only-of-type {\n",
       "        vertical-align: middle;\n",
       "    }\n",
       "\n",
       "    .dataframe tbody tr th {\n",
       "        vertical-align: top;\n",
       "    }\n",
       "\n",
       "    .dataframe thead th {\n",
       "        text-align: right;\n",
       "    }\n",
       "</style>\n",
       "<table border=\"1\" class=\"dataframe\">\n",
       "  <thead>\n",
       "    <tr style=\"text-align: right;\">\n",
       "      <th></th>\n",
       "      <th>Unnamed: 0</th>\n",
       "      <th>COMPANY</th>\n",
       "      <th>MODEL</th>\n",
       "      <th>BASIC</th>\n",
       "      <th>PRICE</th>\n",
       "    </tr>\n",
       "  </thead>\n",
       "  <tbody>\n",
       "    <tr>\n",
       "      <th>0</th>\n",
       "      <td>0</td>\n",
       "      <td>2012 Maruti Swift</td>\n",
       "      <td>VDI Manual</td>\n",
       "      <td>38,061 km\\n1st Owner\\nDiesel</td>\n",
       "      <td>₹2,92,299</td>\n",
       "    </tr>\n",
       "    <tr>\n",
       "      <th>1</th>\n",
       "      <td>1</td>\n",
       "      <td>2014 Maruti Swift</td>\n",
       "      <td>VXI Manual</td>\n",
       "      <td>1,07,206 km\\n1st Owner\\nPetrol</td>\n",
       "      <td>₹4,07,299</td>\n",
       "    </tr>\n",
       "    <tr>\n",
       "      <th>2</th>\n",
       "      <td>2</td>\n",
       "      <td>2015 Maruti Swift</td>\n",
       "      <td>VDI ABS Manual</td>\n",
       "      <td>44,638 km\\n1st Owner\\nDiesel</td>\n",
       "      <td>₹4,40,899</td>\n",
       "    </tr>\n",
       "    <tr>\n",
       "      <th>3</th>\n",
       "      <td>3</td>\n",
       "      <td>2015 Maruti Swift</td>\n",
       "      <td>VDI ABS Manual</td>\n",
       "      <td>89,196 km\\n1st Owner\\nDiesel</td>\n",
       "      <td>₹4,24,299</td>\n",
       "    </tr>\n",
       "    <tr>\n",
       "      <th>4</th>\n",
       "      <td>4</td>\n",
       "      <td>2014 Maruti Ritz</td>\n",
       "      <td>VDI Manual</td>\n",
       "      <td>43,382 km\\n1st Owner\\nDiesel</td>\n",
       "      <td>₹3,40,599</td>\n",
       "    </tr>\n",
       "  </tbody>\n",
       "</table>\n",
       "</div>"
      ],
      "text/plain": [
       "   Unnamed: 0            COMPANY           MODEL  \\\n",
       "0           0  2012 Maruti Swift      VDI Manual   \n",
       "1           1  2014 Maruti Swift      VXI Manual   \n",
       "2           2  2015 Maruti Swift  VDI ABS Manual   \n",
       "3           3  2015 Maruti Swift  VDI ABS Manual   \n",
       "4           4   2014 Maruti Ritz      VDI Manual   \n",
       "\n",
       "                            BASIC      PRICE  \n",
       "0    38,061 km\\n1st Owner\\nDiesel  ₹2,92,299  \n",
       "1  1,07,206 km\\n1st Owner\\nPetrol  ₹4,07,299  \n",
       "2    44,638 km\\n1st Owner\\nDiesel  ₹4,40,899  \n",
       "3    89,196 km\\n1st Owner\\nDiesel  ₹4,24,299  \n",
       "4    43,382 km\\n1st Owner\\nDiesel  ₹3,40,599  "
      ]
     },
     "execution_count": 2,
     "metadata": {},
     "output_type": "execute_result"
    }
   ],
   "source": [
    "df = pd.read_csv('Used_Car_data.csv')\n",
    "df.head()"
   ]
  },
  {
   "cell_type": "code",
   "execution_count": 3,
   "metadata": {},
   "outputs": [],
   "source": [
    "split_data = df[\"COMPANY\"].str.split(\" \",2)\n",
    "data = split_data.to_list()\n",
    "names = [\"year\", \"company\",\"model\"]\n",
    "new_df = pd.DataFrame(data, columns=names)"
   ]
  },
  {
   "cell_type": "code",
   "execution_count": 4,
   "metadata": {},
   "outputs": [
    {
     "data": {
      "text/html": [
       "<div>\n",
       "<style scoped>\n",
       "    .dataframe tbody tr th:only-of-type {\n",
       "        vertical-align: middle;\n",
       "    }\n",
       "\n",
       "    .dataframe tbody tr th {\n",
       "        vertical-align: top;\n",
       "    }\n",
       "\n",
       "    .dataframe thead th {\n",
       "        text-align: right;\n",
       "    }\n",
       "</style>\n",
       "<table border=\"1\" class=\"dataframe\">\n",
       "  <thead>\n",
       "    <tr style=\"text-align: right;\">\n",
       "      <th></th>\n",
       "      <th>year</th>\n",
       "      <th>company</th>\n",
       "      <th>model</th>\n",
       "    </tr>\n",
       "  </thead>\n",
       "  <tbody>\n",
       "    <tr>\n",
       "      <th>0</th>\n",
       "      <td>2012</td>\n",
       "      <td>Maruti</td>\n",
       "      <td>Swift</td>\n",
       "    </tr>\n",
       "    <tr>\n",
       "      <th>1</th>\n",
       "      <td>2014</td>\n",
       "      <td>Maruti</td>\n",
       "      <td>Swift</td>\n",
       "    </tr>\n",
       "    <tr>\n",
       "      <th>2</th>\n",
       "      <td>2015</td>\n",
       "      <td>Maruti</td>\n",
       "      <td>Swift</td>\n",
       "    </tr>\n",
       "    <tr>\n",
       "      <th>3</th>\n",
       "      <td>2015</td>\n",
       "      <td>Maruti</td>\n",
       "      <td>Swift</td>\n",
       "    </tr>\n",
       "    <tr>\n",
       "      <th>4</th>\n",
       "      <td>2014</td>\n",
       "      <td>Maruti</td>\n",
       "      <td>Ritz</td>\n",
       "    </tr>\n",
       "    <tr>\n",
       "      <th>...</th>\n",
       "      <td>...</td>\n",
       "      <td>...</td>\n",
       "      <td>...</td>\n",
       "    </tr>\n",
       "    <tr>\n",
       "      <th>5882</th>\n",
       "      <td>2014</td>\n",
       "      <td>Hyundai</td>\n",
       "      <td>Grand i10</td>\n",
       "    </tr>\n",
       "    <tr>\n",
       "      <th>5883</th>\n",
       "      <td>2017</td>\n",
       "      <td>Maruti</td>\n",
       "      <td>Swift</td>\n",
       "    </tr>\n",
       "    <tr>\n",
       "      <th>5884</th>\n",
       "      <td>2019</td>\n",
       "      <td>Mahindra</td>\n",
       "      <td>Scorpio</td>\n",
       "    </tr>\n",
       "    <tr>\n",
       "      <th>5885</th>\n",
       "      <td>2017</td>\n",
       "      <td>Hyundai</td>\n",
       "      <td>Creta</td>\n",
       "    </tr>\n",
       "    <tr>\n",
       "      <th>5886</th>\n",
       "      <td>2020</td>\n",
       "      <td>KIA</td>\n",
       "      <td>SELTOS</td>\n",
       "    </tr>\n",
       "  </tbody>\n",
       "</table>\n",
       "<p>5887 rows × 3 columns</p>\n",
       "</div>"
      ],
      "text/plain": [
       "      year   company      model\n",
       "0     2012    Maruti      Swift\n",
       "1     2014    Maruti      Swift\n",
       "2     2015    Maruti      Swift\n",
       "3     2015    Maruti      Swift\n",
       "4     2014    Maruti       Ritz\n",
       "...    ...       ...        ...\n",
       "5882  2014   Hyundai  Grand i10\n",
       "5883  2017    Maruti      Swift\n",
       "5884  2019  Mahindra    Scorpio\n",
       "5885  2017   Hyundai      Creta\n",
       "5886  2020       KIA     SELTOS\n",
       "\n",
       "[5887 rows x 3 columns]"
      ]
     },
     "execution_count": 4,
     "metadata": {},
     "output_type": "execute_result"
    }
   ],
   "source": [
    "new_df"
   ]
  },
  {
   "cell_type": "code",
   "execution_count": 5,
   "metadata": {},
   "outputs": [],
   "source": [
    "split_data = df[\"BASIC\"].str.split(\"\\n\")\n",
    "data = split_data.to_list()\n",
    "names = [\"km\", \"owner\",\"fuel\"]\n",
    "my_df = pd.DataFrame(data, columns=names)"
   ]
  },
  {
   "cell_type": "code",
   "execution_count": 6,
   "metadata": {},
   "outputs": [
    {
     "data": {
      "text/html": [
       "<div>\n",
       "<style scoped>\n",
       "    .dataframe tbody tr th:only-of-type {\n",
       "        vertical-align: middle;\n",
       "    }\n",
       "\n",
       "    .dataframe tbody tr th {\n",
       "        vertical-align: top;\n",
       "    }\n",
       "\n",
       "    .dataframe thead th {\n",
       "        text-align: right;\n",
       "    }\n",
       "</style>\n",
       "<table border=\"1\" class=\"dataframe\">\n",
       "  <thead>\n",
       "    <tr style=\"text-align: right;\">\n",
       "      <th></th>\n",
       "      <th>km</th>\n",
       "      <th>owner</th>\n",
       "      <th>fuel</th>\n",
       "    </tr>\n",
       "  </thead>\n",
       "  <tbody>\n",
       "    <tr>\n",
       "      <th>0</th>\n",
       "      <td>38,061 km</td>\n",
       "      <td>1st Owner</td>\n",
       "      <td>Diesel</td>\n",
       "    </tr>\n",
       "    <tr>\n",
       "      <th>1</th>\n",
       "      <td>1,07,206 km</td>\n",
       "      <td>1st Owner</td>\n",
       "      <td>Petrol</td>\n",
       "    </tr>\n",
       "    <tr>\n",
       "      <th>2</th>\n",
       "      <td>44,638 km</td>\n",
       "      <td>1st Owner</td>\n",
       "      <td>Diesel</td>\n",
       "    </tr>\n",
       "    <tr>\n",
       "      <th>3</th>\n",
       "      <td>89,196 km</td>\n",
       "      <td>1st Owner</td>\n",
       "      <td>Diesel</td>\n",
       "    </tr>\n",
       "    <tr>\n",
       "      <th>4</th>\n",
       "      <td>43,382 km</td>\n",
       "      <td>1st Owner</td>\n",
       "      <td>Diesel</td>\n",
       "    </tr>\n",
       "    <tr>\n",
       "      <th>...</th>\n",
       "      <td>...</td>\n",
       "      <td>...</td>\n",
       "      <td>...</td>\n",
       "    </tr>\n",
       "    <tr>\n",
       "      <th>5882</th>\n",
       "      <td>1,12,190 km</td>\n",
       "      <td>2nd Owner</td>\n",
       "      <td>Petrol</td>\n",
       "    </tr>\n",
       "    <tr>\n",
       "      <th>5883</th>\n",
       "      <td>43,553 km</td>\n",
       "      <td>1st Owner</td>\n",
       "      <td>Petrol</td>\n",
       "    </tr>\n",
       "    <tr>\n",
       "      <th>5884</th>\n",
       "      <td>18,656 km</td>\n",
       "      <td>1st Owner</td>\n",
       "      <td>Diesel</td>\n",
       "    </tr>\n",
       "    <tr>\n",
       "      <th>5885</th>\n",
       "      <td>90,615 km</td>\n",
       "      <td>1st Owner</td>\n",
       "      <td>Diesel</td>\n",
       "    </tr>\n",
       "    <tr>\n",
       "      <th>5886</th>\n",
       "      <td>22,066 km</td>\n",
       "      <td>1st Owner</td>\n",
       "      <td>Petrol</td>\n",
       "    </tr>\n",
       "  </tbody>\n",
       "</table>\n",
       "<p>5887 rows × 3 columns</p>\n",
       "</div>"
      ],
      "text/plain": [
       "               km      owner    fuel\n",
       "0       38,061 km  1st Owner  Diesel\n",
       "1     1,07,206 km  1st Owner  Petrol\n",
       "2       44,638 km  1st Owner  Diesel\n",
       "3       89,196 km  1st Owner  Diesel\n",
       "4       43,382 km  1st Owner  Diesel\n",
       "...           ...        ...     ...\n",
       "5882  1,12,190 km  2nd Owner  Petrol\n",
       "5883    43,553 km  1st Owner  Petrol\n",
       "5884    18,656 km  1st Owner  Diesel\n",
       "5885    90,615 km  1st Owner  Diesel\n",
       "5886    22,066 km  1st Owner  Petrol\n",
       "\n",
       "[5887 rows x 3 columns]"
      ]
     },
     "execution_count": 6,
     "metadata": {},
     "output_type": "execute_result"
    }
   ],
   "source": [
    "my_df"
   ]
  },
  {
   "cell_type": "code",
   "execution_count": 7,
   "metadata": {},
   "outputs": [],
   "source": [
    "split_data = df[\"MODEL\"].str.rsplit(\" \",1)\n",
    "data = split_data.to_list()\n",
    "names = [\"variant\",\"transmission\"]\n",
    "a_df = pd.DataFrame(data, columns=names)"
   ]
  },
  {
   "cell_type": "code",
   "execution_count": 8,
   "metadata": {},
   "outputs": [
    {
     "data": {
      "text/html": [
       "<div>\n",
       "<style scoped>\n",
       "    .dataframe tbody tr th:only-of-type {\n",
       "        vertical-align: middle;\n",
       "    }\n",
       "\n",
       "    .dataframe tbody tr th {\n",
       "        vertical-align: top;\n",
       "    }\n",
       "\n",
       "    .dataframe thead th {\n",
       "        text-align: right;\n",
       "    }\n",
       "</style>\n",
       "<table border=\"1\" class=\"dataframe\">\n",
       "  <thead>\n",
       "    <tr style=\"text-align: right;\">\n",
       "      <th></th>\n",
       "      <th>variant</th>\n",
       "      <th>transmission</th>\n",
       "    </tr>\n",
       "  </thead>\n",
       "  <tbody>\n",
       "    <tr>\n",
       "      <th>0</th>\n",
       "      <td>VDI</td>\n",
       "      <td>Manual</td>\n",
       "    </tr>\n",
       "    <tr>\n",
       "      <th>1</th>\n",
       "      <td>VXI</td>\n",
       "      <td>Manual</td>\n",
       "    </tr>\n",
       "    <tr>\n",
       "      <th>2</th>\n",
       "      <td>VDI ABS</td>\n",
       "      <td>Manual</td>\n",
       "    </tr>\n",
       "    <tr>\n",
       "      <th>3</th>\n",
       "      <td>VDI ABS</td>\n",
       "      <td>Manual</td>\n",
       "    </tr>\n",
       "    <tr>\n",
       "      <th>4</th>\n",
       "      <td>VDI</td>\n",
       "      <td>Manual</td>\n",
       "    </tr>\n",
       "    <tr>\n",
       "      <th>...</th>\n",
       "      <td>...</td>\n",
       "      <td>...</td>\n",
       "    </tr>\n",
       "    <tr>\n",
       "      <th>5882</th>\n",
       "      <td>ASTA 1.2 KAPPA VTVT OPT</td>\n",
       "      <td>Manual</td>\n",
       "    </tr>\n",
       "    <tr>\n",
       "      <th>5883</th>\n",
       "      <td>LXI OPT</td>\n",
       "      <td>Manual</td>\n",
       "    </tr>\n",
       "    <tr>\n",
       "      <th>5884</th>\n",
       "      <td>S7 140 BHP 2WD</td>\n",
       "      <td>Manual</td>\n",
       "    </tr>\n",
       "    <tr>\n",
       "      <th>5885</th>\n",
       "      <td>1.4 E PLUS CRDI</td>\n",
       "      <td>Manual</td>\n",
       "    </tr>\n",
       "    <tr>\n",
       "      <th>5886</th>\n",
       "      <td>HTK 1.5 PETROL</td>\n",
       "      <td>Manual</td>\n",
       "    </tr>\n",
       "  </tbody>\n",
       "</table>\n",
       "<p>5887 rows × 2 columns</p>\n",
       "</div>"
      ],
      "text/plain": [
       "                      variant transmission\n",
       "0                         VDI       Manual\n",
       "1                         VXI       Manual\n",
       "2                     VDI ABS       Manual\n",
       "3                     VDI ABS       Manual\n",
       "4                         VDI       Manual\n",
       "...                       ...          ...\n",
       "5882  ASTA 1.2 KAPPA VTVT OPT       Manual\n",
       "5883                  LXI OPT       Manual\n",
       "5884           S7 140 BHP 2WD       Manual\n",
       "5885          1.4 E PLUS CRDI       Manual\n",
       "5886           HTK 1.5 PETROL       Manual\n",
       "\n",
       "[5887 rows x 2 columns]"
      ]
     },
     "execution_count": 8,
     "metadata": {},
     "output_type": "execute_result"
    }
   ],
   "source": [
    "a_df"
   ]
  },
  {
   "cell_type": "code",
   "execution_count": 9,
   "metadata": {},
   "outputs": [],
   "source": [
    "result = pd.concat([df, my_df,a_df,new_df], axis=1)"
   ]
  },
  {
   "cell_type": "code",
   "execution_count": 10,
   "metadata": {},
   "outputs": [
    {
     "data": {
      "text/html": [
       "<div>\n",
       "<style scoped>\n",
       "    .dataframe tbody tr th:only-of-type {\n",
       "        vertical-align: middle;\n",
       "    }\n",
       "\n",
       "    .dataframe tbody tr th {\n",
       "        vertical-align: top;\n",
       "    }\n",
       "\n",
       "    .dataframe thead th {\n",
       "        text-align: right;\n",
       "    }\n",
       "</style>\n",
       "<table border=\"1\" class=\"dataframe\">\n",
       "  <thead>\n",
       "    <tr style=\"text-align: right;\">\n",
       "      <th></th>\n",
       "      <th>Unnamed: 0</th>\n",
       "      <th>COMPANY</th>\n",
       "      <th>MODEL</th>\n",
       "      <th>BASIC</th>\n",
       "      <th>PRICE</th>\n",
       "      <th>km</th>\n",
       "      <th>owner</th>\n",
       "      <th>fuel</th>\n",
       "      <th>variant</th>\n",
       "      <th>transmission</th>\n",
       "      <th>year</th>\n",
       "      <th>company</th>\n",
       "      <th>model</th>\n",
       "    </tr>\n",
       "  </thead>\n",
       "  <tbody>\n",
       "    <tr>\n",
       "      <th>0</th>\n",
       "      <td>0</td>\n",
       "      <td>2012 Maruti Swift</td>\n",
       "      <td>VDI Manual</td>\n",
       "      <td>38,061 km\\n1st Owner\\nDiesel</td>\n",
       "      <td>₹2,92,299</td>\n",
       "      <td>38,061 km</td>\n",
       "      <td>1st Owner</td>\n",
       "      <td>Diesel</td>\n",
       "      <td>VDI</td>\n",
       "      <td>Manual</td>\n",
       "      <td>2012</td>\n",
       "      <td>Maruti</td>\n",
       "      <td>Swift</td>\n",
       "    </tr>\n",
       "    <tr>\n",
       "      <th>1</th>\n",
       "      <td>1</td>\n",
       "      <td>2014 Maruti Swift</td>\n",
       "      <td>VXI Manual</td>\n",
       "      <td>1,07,206 km\\n1st Owner\\nPetrol</td>\n",
       "      <td>₹4,07,299</td>\n",
       "      <td>1,07,206 km</td>\n",
       "      <td>1st Owner</td>\n",
       "      <td>Petrol</td>\n",
       "      <td>VXI</td>\n",
       "      <td>Manual</td>\n",
       "      <td>2014</td>\n",
       "      <td>Maruti</td>\n",
       "      <td>Swift</td>\n",
       "    </tr>\n",
       "    <tr>\n",
       "      <th>2</th>\n",
       "      <td>2</td>\n",
       "      <td>2015 Maruti Swift</td>\n",
       "      <td>VDI ABS Manual</td>\n",
       "      <td>44,638 km\\n1st Owner\\nDiesel</td>\n",
       "      <td>₹4,40,899</td>\n",
       "      <td>44,638 km</td>\n",
       "      <td>1st Owner</td>\n",
       "      <td>Diesel</td>\n",
       "      <td>VDI ABS</td>\n",
       "      <td>Manual</td>\n",
       "      <td>2015</td>\n",
       "      <td>Maruti</td>\n",
       "      <td>Swift</td>\n",
       "    </tr>\n",
       "    <tr>\n",
       "      <th>3</th>\n",
       "      <td>3</td>\n",
       "      <td>2015 Maruti Swift</td>\n",
       "      <td>VDI ABS Manual</td>\n",
       "      <td>89,196 km\\n1st Owner\\nDiesel</td>\n",
       "      <td>₹4,24,299</td>\n",
       "      <td>89,196 km</td>\n",
       "      <td>1st Owner</td>\n",
       "      <td>Diesel</td>\n",
       "      <td>VDI ABS</td>\n",
       "      <td>Manual</td>\n",
       "      <td>2015</td>\n",
       "      <td>Maruti</td>\n",
       "      <td>Swift</td>\n",
       "    </tr>\n",
       "    <tr>\n",
       "      <th>4</th>\n",
       "      <td>4</td>\n",
       "      <td>2014 Maruti Ritz</td>\n",
       "      <td>VDI Manual</td>\n",
       "      <td>43,382 km\\n1st Owner\\nDiesel</td>\n",
       "      <td>₹3,40,599</td>\n",
       "      <td>43,382 km</td>\n",
       "      <td>1st Owner</td>\n",
       "      <td>Diesel</td>\n",
       "      <td>VDI</td>\n",
       "      <td>Manual</td>\n",
       "      <td>2014</td>\n",
       "      <td>Maruti</td>\n",
       "      <td>Ritz</td>\n",
       "    </tr>\n",
       "    <tr>\n",
       "      <th>...</th>\n",
       "      <td>...</td>\n",
       "      <td>...</td>\n",
       "      <td>...</td>\n",
       "      <td>...</td>\n",
       "      <td>...</td>\n",
       "      <td>...</td>\n",
       "      <td>...</td>\n",
       "      <td>...</td>\n",
       "      <td>...</td>\n",
       "      <td>...</td>\n",
       "      <td>...</td>\n",
       "      <td>...</td>\n",
       "      <td>...</td>\n",
       "    </tr>\n",
       "    <tr>\n",
       "      <th>5882</th>\n",
       "      <td>5882</td>\n",
       "      <td>2014 Hyundai Grand i10</td>\n",
       "      <td>ASTA 1.2 KAPPA VTVT OPT Manual</td>\n",
       "      <td>1,12,190 km\\n2nd Owner\\nPetrol</td>\n",
       "      <td>₹4,00,299</td>\n",
       "      <td>1,12,190 km</td>\n",
       "      <td>2nd Owner</td>\n",
       "      <td>Petrol</td>\n",
       "      <td>ASTA 1.2 KAPPA VTVT OPT</td>\n",
       "      <td>Manual</td>\n",
       "      <td>2014</td>\n",
       "      <td>Hyundai</td>\n",
       "      <td>Grand i10</td>\n",
       "    </tr>\n",
       "    <tr>\n",
       "      <th>5883</th>\n",
       "      <td>5883</td>\n",
       "      <td>2017 Maruti Swift</td>\n",
       "      <td>LXI OPT Manual</td>\n",
       "      <td>43,553 km\\n1st Owner\\nPetrol</td>\n",
       "      <td>₹4,49,699</td>\n",
       "      <td>43,553 km</td>\n",
       "      <td>1st Owner</td>\n",
       "      <td>Petrol</td>\n",
       "      <td>LXI OPT</td>\n",
       "      <td>Manual</td>\n",
       "      <td>2017</td>\n",
       "      <td>Maruti</td>\n",
       "      <td>Swift</td>\n",
       "    </tr>\n",
       "    <tr>\n",
       "      <th>5884</th>\n",
       "      <td>5884</td>\n",
       "      <td>2019 Mahindra Scorpio</td>\n",
       "      <td>S7 140 BHP 2WD Manual</td>\n",
       "      <td>18,656 km\\n1st Owner\\nDiesel</td>\n",
       "      <td>₹13,27,299</td>\n",
       "      <td>18,656 km</td>\n",
       "      <td>1st Owner</td>\n",
       "      <td>Diesel</td>\n",
       "      <td>S7 140 BHP 2WD</td>\n",
       "      <td>Manual</td>\n",
       "      <td>2019</td>\n",
       "      <td>Mahindra</td>\n",
       "      <td>Scorpio</td>\n",
       "    </tr>\n",
       "    <tr>\n",
       "      <th>5885</th>\n",
       "      <td>5885</td>\n",
       "      <td>2017 Hyundai Creta</td>\n",
       "      <td>1.4 E PLUS CRDI Manual</td>\n",
       "      <td>90,615 km\\n1st Owner\\nDiesel</td>\n",
       "      <td>₹7,81,799</td>\n",
       "      <td>90,615 km</td>\n",
       "      <td>1st Owner</td>\n",
       "      <td>Diesel</td>\n",
       "      <td>1.4 E PLUS CRDI</td>\n",
       "      <td>Manual</td>\n",
       "      <td>2017</td>\n",
       "      <td>Hyundai</td>\n",
       "      <td>Creta</td>\n",
       "    </tr>\n",
       "    <tr>\n",
       "      <th>5886</th>\n",
       "      <td>5886</td>\n",
       "      <td>2020 KIA SELTOS</td>\n",
       "      <td>HTK 1.5 PETROL Manual</td>\n",
       "      <td>22,066 km\\n1st Owner\\nPetrol</td>\n",
       "      <td>₹11,15,099</td>\n",
       "      <td>22,066 km</td>\n",
       "      <td>1st Owner</td>\n",
       "      <td>Petrol</td>\n",
       "      <td>HTK 1.5 PETROL</td>\n",
       "      <td>Manual</td>\n",
       "      <td>2020</td>\n",
       "      <td>KIA</td>\n",
       "      <td>SELTOS</td>\n",
       "    </tr>\n",
       "  </tbody>\n",
       "</table>\n",
       "<p>5887 rows × 13 columns</p>\n",
       "</div>"
      ],
      "text/plain": [
       "      Unnamed: 0                 COMPANY                           MODEL  \\\n",
       "0              0       2012 Maruti Swift                      VDI Manual   \n",
       "1              1       2014 Maruti Swift                      VXI Manual   \n",
       "2              2       2015 Maruti Swift                  VDI ABS Manual   \n",
       "3              3       2015 Maruti Swift                  VDI ABS Manual   \n",
       "4              4        2014 Maruti Ritz                      VDI Manual   \n",
       "...          ...                     ...                             ...   \n",
       "5882        5882  2014 Hyundai Grand i10  ASTA 1.2 KAPPA VTVT OPT Manual   \n",
       "5883        5883       2017 Maruti Swift                  LXI OPT Manual   \n",
       "5884        5884   2019 Mahindra Scorpio           S7 140 BHP 2WD Manual   \n",
       "5885        5885      2017 Hyundai Creta          1.4 E PLUS CRDI Manual   \n",
       "5886        5886         2020 KIA SELTOS           HTK 1.5 PETROL Manual   \n",
       "\n",
       "                               BASIC       PRICE           km      owner  \\\n",
       "0       38,061 km\\n1st Owner\\nDiesel   ₹2,92,299    38,061 km  1st Owner   \n",
       "1     1,07,206 km\\n1st Owner\\nPetrol   ₹4,07,299  1,07,206 km  1st Owner   \n",
       "2       44,638 km\\n1st Owner\\nDiesel   ₹4,40,899    44,638 km  1st Owner   \n",
       "3       89,196 km\\n1st Owner\\nDiesel   ₹4,24,299    89,196 km  1st Owner   \n",
       "4       43,382 km\\n1st Owner\\nDiesel   ₹3,40,599    43,382 km  1st Owner   \n",
       "...                              ...         ...          ...        ...   \n",
       "5882  1,12,190 km\\n2nd Owner\\nPetrol   ₹4,00,299  1,12,190 km  2nd Owner   \n",
       "5883    43,553 km\\n1st Owner\\nPetrol   ₹4,49,699    43,553 km  1st Owner   \n",
       "5884    18,656 km\\n1st Owner\\nDiesel  ₹13,27,299    18,656 km  1st Owner   \n",
       "5885    90,615 km\\n1st Owner\\nDiesel   ₹7,81,799    90,615 km  1st Owner   \n",
       "5886    22,066 km\\n1st Owner\\nPetrol  ₹11,15,099    22,066 km  1st Owner   \n",
       "\n",
       "        fuel                  variant transmission  year   company      model  \n",
       "0     Diesel                      VDI       Manual  2012    Maruti      Swift  \n",
       "1     Petrol                      VXI       Manual  2014    Maruti      Swift  \n",
       "2     Diesel                  VDI ABS       Manual  2015    Maruti      Swift  \n",
       "3     Diesel                  VDI ABS       Manual  2015    Maruti      Swift  \n",
       "4     Diesel                      VDI       Manual  2014    Maruti       Ritz  \n",
       "...      ...                      ...          ...   ...       ...        ...  \n",
       "5882  Petrol  ASTA 1.2 KAPPA VTVT OPT       Manual  2014   Hyundai  Grand i10  \n",
       "5883  Petrol                  LXI OPT       Manual  2017    Maruti      Swift  \n",
       "5884  Diesel           S7 140 BHP 2WD       Manual  2019  Mahindra    Scorpio  \n",
       "5885  Diesel          1.4 E PLUS CRDI       Manual  2017   Hyundai      Creta  \n",
       "5886  Petrol           HTK 1.5 PETROL       Manual  2020       KIA     SELTOS  \n",
       "\n",
       "[5887 rows x 13 columns]"
      ]
     },
     "execution_count": 10,
     "metadata": {},
     "output_type": "execute_result"
    }
   ],
   "source": [
    "result"
   ]
  },
  {
   "cell_type": "code",
   "execution_count": 11,
   "metadata": {},
   "outputs": [],
   "source": [
    "df = result.drop(['Unnamed: 0','COMPANY','MODEL','BASIC'], inplace = True, axis = 1)"
   ]
  },
  {
   "cell_type": "code",
   "execution_count": 12,
   "metadata": {},
   "outputs": [
    {
     "data": {
      "text/html": [
       "<div>\n",
       "<style scoped>\n",
       "    .dataframe tbody tr th:only-of-type {\n",
       "        vertical-align: middle;\n",
       "    }\n",
       "\n",
       "    .dataframe tbody tr th {\n",
       "        vertical-align: top;\n",
       "    }\n",
       "\n",
       "    .dataframe thead th {\n",
       "        text-align: right;\n",
       "    }\n",
       "</style>\n",
       "<table border=\"1\" class=\"dataframe\">\n",
       "  <thead>\n",
       "    <tr style=\"text-align: right;\">\n",
       "      <th></th>\n",
       "      <th>PRICE</th>\n",
       "      <th>km</th>\n",
       "      <th>owner</th>\n",
       "      <th>fuel</th>\n",
       "      <th>variant</th>\n",
       "      <th>transmission</th>\n",
       "      <th>year</th>\n",
       "      <th>company</th>\n",
       "      <th>model</th>\n",
       "    </tr>\n",
       "  </thead>\n",
       "  <tbody>\n",
       "    <tr>\n",
       "      <th>0</th>\n",
       "      <td>₹2,92,299</td>\n",
       "      <td>38,061 km</td>\n",
       "      <td>1st Owner</td>\n",
       "      <td>Diesel</td>\n",
       "      <td>VDI</td>\n",
       "      <td>Manual</td>\n",
       "      <td>2012</td>\n",
       "      <td>Maruti</td>\n",
       "      <td>Swift</td>\n",
       "    </tr>\n",
       "    <tr>\n",
       "      <th>1</th>\n",
       "      <td>₹4,07,299</td>\n",
       "      <td>1,07,206 km</td>\n",
       "      <td>1st Owner</td>\n",
       "      <td>Petrol</td>\n",
       "      <td>VXI</td>\n",
       "      <td>Manual</td>\n",
       "      <td>2014</td>\n",
       "      <td>Maruti</td>\n",
       "      <td>Swift</td>\n",
       "    </tr>\n",
       "    <tr>\n",
       "      <th>2</th>\n",
       "      <td>₹4,40,899</td>\n",
       "      <td>44,638 km</td>\n",
       "      <td>1st Owner</td>\n",
       "      <td>Diesel</td>\n",
       "      <td>VDI ABS</td>\n",
       "      <td>Manual</td>\n",
       "      <td>2015</td>\n",
       "      <td>Maruti</td>\n",
       "      <td>Swift</td>\n",
       "    </tr>\n",
       "    <tr>\n",
       "      <th>3</th>\n",
       "      <td>₹4,24,299</td>\n",
       "      <td>89,196 km</td>\n",
       "      <td>1st Owner</td>\n",
       "      <td>Diesel</td>\n",
       "      <td>VDI ABS</td>\n",
       "      <td>Manual</td>\n",
       "      <td>2015</td>\n",
       "      <td>Maruti</td>\n",
       "      <td>Swift</td>\n",
       "    </tr>\n",
       "    <tr>\n",
       "      <th>4</th>\n",
       "      <td>₹3,40,599</td>\n",
       "      <td>43,382 km</td>\n",
       "      <td>1st Owner</td>\n",
       "      <td>Diesel</td>\n",
       "      <td>VDI</td>\n",
       "      <td>Manual</td>\n",
       "      <td>2014</td>\n",
       "      <td>Maruti</td>\n",
       "      <td>Ritz</td>\n",
       "    </tr>\n",
       "    <tr>\n",
       "      <th>...</th>\n",
       "      <td>...</td>\n",
       "      <td>...</td>\n",
       "      <td>...</td>\n",
       "      <td>...</td>\n",
       "      <td>...</td>\n",
       "      <td>...</td>\n",
       "      <td>...</td>\n",
       "      <td>...</td>\n",
       "      <td>...</td>\n",
       "    </tr>\n",
       "    <tr>\n",
       "      <th>5882</th>\n",
       "      <td>₹4,00,299</td>\n",
       "      <td>1,12,190 km</td>\n",
       "      <td>2nd Owner</td>\n",
       "      <td>Petrol</td>\n",
       "      <td>ASTA 1.2 KAPPA VTVT OPT</td>\n",
       "      <td>Manual</td>\n",
       "      <td>2014</td>\n",
       "      <td>Hyundai</td>\n",
       "      <td>Grand i10</td>\n",
       "    </tr>\n",
       "    <tr>\n",
       "      <th>5883</th>\n",
       "      <td>₹4,49,699</td>\n",
       "      <td>43,553 km</td>\n",
       "      <td>1st Owner</td>\n",
       "      <td>Petrol</td>\n",
       "      <td>LXI OPT</td>\n",
       "      <td>Manual</td>\n",
       "      <td>2017</td>\n",
       "      <td>Maruti</td>\n",
       "      <td>Swift</td>\n",
       "    </tr>\n",
       "    <tr>\n",
       "      <th>5884</th>\n",
       "      <td>₹13,27,299</td>\n",
       "      <td>18,656 km</td>\n",
       "      <td>1st Owner</td>\n",
       "      <td>Diesel</td>\n",
       "      <td>S7 140 BHP 2WD</td>\n",
       "      <td>Manual</td>\n",
       "      <td>2019</td>\n",
       "      <td>Mahindra</td>\n",
       "      <td>Scorpio</td>\n",
       "    </tr>\n",
       "    <tr>\n",
       "      <th>5885</th>\n",
       "      <td>₹7,81,799</td>\n",
       "      <td>90,615 km</td>\n",
       "      <td>1st Owner</td>\n",
       "      <td>Diesel</td>\n",
       "      <td>1.4 E PLUS CRDI</td>\n",
       "      <td>Manual</td>\n",
       "      <td>2017</td>\n",
       "      <td>Hyundai</td>\n",
       "      <td>Creta</td>\n",
       "    </tr>\n",
       "    <tr>\n",
       "      <th>5886</th>\n",
       "      <td>₹11,15,099</td>\n",
       "      <td>22,066 km</td>\n",
       "      <td>1st Owner</td>\n",
       "      <td>Petrol</td>\n",
       "      <td>HTK 1.5 PETROL</td>\n",
       "      <td>Manual</td>\n",
       "      <td>2020</td>\n",
       "      <td>KIA</td>\n",
       "      <td>SELTOS</td>\n",
       "    </tr>\n",
       "  </tbody>\n",
       "</table>\n",
       "<p>5887 rows × 9 columns</p>\n",
       "</div>"
      ],
      "text/plain": [
       "           PRICE           km      owner    fuel                  variant  \\\n",
       "0      ₹2,92,299    38,061 km  1st Owner  Diesel                      VDI   \n",
       "1      ₹4,07,299  1,07,206 km  1st Owner  Petrol                      VXI   \n",
       "2      ₹4,40,899    44,638 km  1st Owner  Diesel                  VDI ABS   \n",
       "3      ₹4,24,299    89,196 km  1st Owner  Diesel                  VDI ABS   \n",
       "4      ₹3,40,599    43,382 km  1st Owner  Diesel                      VDI   \n",
       "...          ...          ...        ...     ...                      ...   \n",
       "5882   ₹4,00,299  1,12,190 km  2nd Owner  Petrol  ASTA 1.2 KAPPA VTVT OPT   \n",
       "5883   ₹4,49,699    43,553 km  1st Owner  Petrol                  LXI OPT   \n",
       "5884  ₹13,27,299    18,656 km  1st Owner  Diesel           S7 140 BHP 2WD   \n",
       "5885   ₹7,81,799    90,615 km  1st Owner  Diesel          1.4 E PLUS CRDI   \n",
       "5886  ₹11,15,099    22,066 km  1st Owner  Petrol           HTK 1.5 PETROL   \n",
       "\n",
       "     transmission  year   company      model  \n",
       "0          Manual  2012    Maruti      Swift  \n",
       "1          Manual  2014    Maruti      Swift  \n",
       "2          Manual  2015    Maruti      Swift  \n",
       "3          Manual  2015    Maruti      Swift  \n",
       "4          Manual  2014    Maruti       Ritz  \n",
       "...           ...   ...       ...        ...  \n",
       "5882       Manual  2014   Hyundai  Grand i10  \n",
       "5883       Manual  2017    Maruti      Swift  \n",
       "5884       Manual  2019  Mahindra    Scorpio  \n",
       "5885       Manual  2017   Hyundai      Creta  \n",
       "5886       Manual  2020       KIA     SELTOS  \n",
       "\n",
       "[5887 rows x 9 columns]"
      ]
     },
     "execution_count": 12,
     "metadata": {},
     "output_type": "execute_result"
    }
   ],
   "source": [
    "result"
   ]
  },
  {
   "cell_type": "code",
   "execution_count": 13,
   "metadata": {},
   "outputs": [],
   "source": [
    "df = result[[\"company\", \"model\", \"variant\",\"transmission\",'km',\"fuel\",'owner','year','PRICE']]"
   ]
  },
  {
   "cell_type": "code",
   "execution_count": 14,
   "metadata": {},
   "outputs": [
    {
     "data": {
      "text/html": [
       "<div>\n",
       "<style scoped>\n",
       "    .dataframe tbody tr th:only-of-type {\n",
       "        vertical-align: middle;\n",
       "    }\n",
       "\n",
       "    .dataframe tbody tr th {\n",
       "        vertical-align: top;\n",
       "    }\n",
       "\n",
       "    .dataframe thead th {\n",
       "        text-align: right;\n",
       "    }\n",
       "</style>\n",
       "<table border=\"1\" class=\"dataframe\">\n",
       "  <thead>\n",
       "    <tr style=\"text-align: right;\">\n",
       "      <th></th>\n",
       "      <th>company</th>\n",
       "      <th>model</th>\n",
       "      <th>variant</th>\n",
       "      <th>transmission</th>\n",
       "      <th>km</th>\n",
       "      <th>fuel</th>\n",
       "      <th>owner</th>\n",
       "      <th>year</th>\n",
       "      <th>PRICE</th>\n",
       "    </tr>\n",
       "  </thead>\n",
       "  <tbody>\n",
       "    <tr>\n",
       "      <th>0</th>\n",
       "      <td>Maruti</td>\n",
       "      <td>Swift</td>\n",
       "      <td>VDI</td>\n",
       "      <td>Manual</td>\n",
       "      <td>38,061 km</td>\n",
       "      <td>Diesel</td>\n",
       "      <td>1st Owner</td>\n",
       "      <td>2012</td>\n",
       "      <td>₹2,92,299</td>\n",
       "    </tr>\n",
       "    <tr>\n",
       "      <th>1</th>\n",
       "      <td>Maruti</td>\n",
       "      <td>Swift</td>\n",
       "      <td>VXI</td>\n",
       "      <td>Manual</td>\n",
       "      <td>1,07,206 km</td>\n",
       "      <td>Petrol</td>\n",
       "      <td>1st Owner</td>\n",
       "      <td>2014</td>\n",
       "      <td>₹4,07,299</td>\n",
       "    </tr>\n",
       "    <tr>\n",
       "      <th>2</th>\n",
       "      <td>Maruti</td>\n",
       "      <td>Swift</td>\n",
       "      <td>VDI ABS</td>\n",
       "      <td>Manual</td>\n",
       "      <td>44,638 km</td>\n",
       "      <td>Diesel</td>\n",
       "      <td>1st Owner</td>\n",
       "      <td>2015</td>\n",
       "      <td>₹4,40,899</td>\n",
       "    </tr>\n",
       "    <tr>\n",
       "      <th>3</th>\n",
       "      <td>Maruti</td>\n",
       "      <td>Swift</td>\n",
       "      <td>VDI ABS</td>\n",
       "      <td>Manual</td>\n",
       "      <td>89,196 km</td>\n",
       "      <td>Diesel</td>\n",
       "      <td>1st Owner</td>\n",
       "      <td>2015</td>\n",
       "      <td>₹4,24,299</td>\n",
       "    </tr>\n",
       "    <tr>\n",
       "      <th>4</th>\n",
       "      <td>Maruti</td>\n",
       "      <td>Ritz</td>\n",
       "      <td>VDI</td>\n",
       "      <td>Manual</td>\n",
       "      <td>43,382 km</td>\n",
       "      <td>Diesel</td>\n",
       "      <td>1st Owner</td>\n",
       "      <td>2014</td>\n",
       "      <td>₹3,40,599</td>\n",
       "    </tr>\n",
       "    <tr>\n",
       "      <th>...</th>\n",
       "      <td>...</td>\n",
       "      <td>...</td>\n",
       "      <td>...</td>\n",
       "      <td>...</td>\n",
       "      <td>...</td>\n",
       "      <td>...</td>\n",
       "      <td>...</td>\n",
       "      <td>...</td>\n",
       "      <td>...</td>\n",
       "    </tr>\n",
       "    <tr>\n",
       "      <th>5882</th>\n",
       "      <td>Hyundai</td>\n",
       "      <td>Grand i10</td>\n",
       "      <td>ASTA 1.2 KAPPA VTVT OPT</td>\n",
       "      <td>Manual</td>\n",
       "      <td>1,12,190 km</td>\n",
       "      <td>Petrol</td>\n",
       "      <td>2nd Owner</td>\n",
       "      <td>2014</td>\n",
       "      <td>₹4,00,299</td>\n",
       "    </tr>\n",
       "    <tr>\n",
       "      <th>5883</th>\n",
       "      <td>Maruti</td>\n",
       "      <td>Swift</td>\n",
       "      <td>LXI OPT</td>\n",
       "      <td>Manual</td>\n",
       "      <td>43,553 km</td>\n",
       "      <td>Petrol</td>\n",
       "      <td>1st Owner</td>\n",
       "      <td>2017</td>\n",
       "      <td>₹4,49,699</td>\n",
       "    </tr>\n",
       "    <tr>\n",
       "      <th>5884</th>\n",
       "      <td>Mahindra</td>\n",
       "      <td>Scorpio</td>\n",
       "      <td>S7 140 BHP 2WD</td>\n",
       "      <td>Manual</td>\n",
       "      <td>18,656 km</td>\n",
       "      <td>Diesel</td>\n",
       "      <td>1st Owner</td>\n",
       "      <td>2019</td>\n",
       "      <td>₹13,27,299</td>\n",
       "    </tr>\n",
       "    <tr>\n",
       "      <th>5885</th>\n",
       "      <td>Hyundai</td>\n",
       "      <td>Creta</td>\n",
       "      <td>1.4 E PLUS CRDI</td>\n",
       "      <td>Manual</td>\n",
       "      <td>90,615 km</td>\n",
       "      <td>Diesel</td>\n",
       "      <td>1st Owner</td>\n",
       "      <td>2017</td>\n",
       "      <td>₹7,81,799</td>\n",
       "    </tr>\n",
       "    <tr>\n",
       "      <th>5886</th>\n",
       "      <td>KIA</td>\n",
       "      <td>SELTOS</td>\n",
       "      <td>HTK 1.5 PETROL</td>\n",
       "      <td>Manual</td>\n",
       "      <td>22,066 km</td>\n",
       "      <td>Petrol</td>\n",
       "      <td>1st Owner</td>\n",
       "      <td>2020</td>\n",
       "      <td>₹11,15,099</td>\n",
       "    </tr>\n",
       "  </tbody>\n",
       "</table>\n",
       "<p>5887 rows × 9 columns</p>\n",
       "</div>"
      ],
      "text/plain": [
       "       company      model                  variant transmission           km  \\\n",
       "0       Maruti      Swift                      VDI       Manual    38,061 km   \n",
       "1       Maruti      Swift                      VXI       Manual  1,07,206 km   \n",
       "2       Maruti      Swift                  VDI ABS       Manual    44,638 km   \n",
       "3       Maruti      Swift                  VDI ABS       Manual    89,196 km   \n",
       "4       Maruti       Ritz                      VDI       Manual    43,382 km   \n",
       "...        ...        ...                      ...          ...          ...   \n",
       "5882   Hyundai  Grand i10  ASTA 1.2 KAPPA VTVT OPT       Manual  1,12,190 km   \n",
       "5883    Maruti      Swift                  LXI OPT       Manual    43,553 km   \n",
       "5884  Mahindra    Scorpio           S7 140 BHP 2WD       Manual    18,656 km   \n",
       "5885   Hyundai      Creta          1.4 E PLUS CRDI       Manual    90,615 km   \n",
       "5886       KIA     SELTOS           HTK 1.5 PETROL       Manual    22,066 km   \n",
       "\n",
       "        fuel      owner  year       PRICE  \n",
       "0     Diesel  1st Owner  2012   ₹2,92,299  \n",
       "1     Petrol  1st Owner  2014   ₹4,07,299  \n",
       "2     Diesel  1st Owner  2015   ₹4,40,899  \n",
       "3     Diesel  1st Owner  2015   ₹4,24,299  \n",
       "4     Diesel  1st Owner  2014   ₹3,40,599  \n",
       "...      ...        ...   ...         ...  \n",
       "5882  Petrol  2nd Owner  2014   ₹4,00,299  \n",
       "5883  Petrol  1st Owner  2017   ₹4,49,699  \n",
       "5884  Diesel  1st Owner  2019  ₹13,27,299  \n",
       "5885  Diesel  1st Owner  2017   ₹7,81,799  \n",
       "5886  Petrol  1st Owner  2020  ₹11,15,099  \n",
       "\n",
       "[5887 rows x 9 columns]"
      ]
     },
     "execution_count": 14,
     "metadata": {},
     "output_type": "execute_result"
    }
   ],
   "source": [
    "df"
   ]
  },
  {
   "cell_type": "code",
   "execution_count": 15,
   "metadata": {},
   "outputs": [],
   "source": [
    "df['PRICE'] = df['PRICE'].str.replace(',', '')\n",
    "df['PRICE'] = df['PRICE'].str.replace('₹', '')\n",
    "df['PRICE'] = df['PRICE'].astype(int)\n",
    "\n",
    "df['km'] = df['km'].str.replace(',', '')\n",
    "df['km'] = df['km'].str.replace('km', '')\n",
    "df['km'] = df['km'].astype(int)\n"
   ]
  },
  {
   "cell_type": "code",
   "execution_count": 16,
   "metadata": {},
   "outputs": [
    {
     "data": {
      "text/plain": [
       "array(['1st Owner', '2nd Owner', '3rd Owner', '4th Owner', '5th Owner'],\n",
       "      dtype=object)"
      ]
     },
     "execution_count": 16,
     "metadata": {},
     "output_type": "execute_result"
    }
   ],
   "source": [
    "df['owner'].unique()"
   ]
  },
  {
   "cell_type": "code",
   "execution_count": 17,
   "metadata": {},
   "outputs": [],
   "source": [
    "df['owner'] = df['owner'].replace(['1st Owner','2nd Owner','3rd Owner','4th Owner','5th Owner'],[1,2,3,4,5])"
   ]
  },
  {
   "cell_type": "code",
   "execution_count": 18,
   "metadata": {},
   "outputs": [
    {
     "name": "stdout",
     "output_type": "stream",
     "text": [
      "unique value in company is  21\n",
      "unique value in model is  115\n",
      "unique value in variant is  570\n",
      "unique value in transmission is  25\n",
      "unique value in fuel is  4\n",
      "unique value in owner is  5\n",
      "unique value in year is  14\n"
     ]
    }
   ],
   "source": [
    "print(\"unique value in company is \", df['company'].nunique())\n",
    "print(\"unique value in model is \", df['model'].nunique())\n",
    "print(\"unique value in variant is \", df['variant'].nunique())\n",
    "print(\"unique value in transmission is \", df['transmission'].nunique())\n",
    "print(\"unique value in fuel is \", df['fuel'].nunique())\n",
    "print(\"unique value in owner is \", df['owner'].nunique())\n",
    "print(\"unique value in year is \", df['year'].nunique())"
   ]
  },
  {
   "cell_type": "code",
   "execution_count": 19,
   "metadata": {},
   "outputs": [
    {
     "data": {
      "text/plain": [
       "(5887, 9)"
      ]
     },
     "execution_count": 19,
     "metadata": {},
     "output_type": "execute_result"
    }
   ],
   "source": [
    "df.shape"
   ]
  },
  {
   "cell_type": "code",
   "execution_count": 20,
   "metadata": {},
   "outputs": [
    {
     "data": {
      "text/plain": [
       "company         0\n",
       "model           0\n",
       "variant         0\n",
       "transmission    3\n",
       "km              0\n",
       "fuel            0\n",
       "owner           0\n",
       "year            0\n",
       "PRICE           0\n",
       "dtype: int64"
      ]
     },
     "execution_count": 20,
     "metadata": {},
     "output_type": "execute_result"
    }
   ],
   "source": [
    "df.isnull().sum()"
   ]
  },
  {
   "cell_type": "markdown",
   "metadata": {},
   "source": [
    "### NULL VALUES REMOVAL"
   ]
  },
  {
   "cell_type": "code",
   "execution_count": 21,
   "metadata": {},
   "outputs": [
    {
     "data": {
      "text/html": [
       "<div>\n",
       "<style scoped>\n",
       "    .dataframe tbody tr th:only-of-type {\n",
       "        vertical-align: middle;\n",
       "    }\n",
       "\n",
       "    .dataframe tbody tr th {\n",
       "        vertical-align: top;\n",
       "    }\n",
       "\n",
       "    .dataframe thead th {\n",
       "        text-align: right;\n",
       "    }\n",
       "</style>\n",
       "<table border=\"1\" class=\"dataframe\">\n",
       "  <thead>\n",
       "    <tr style=\"text-align: right;\">\n",
       "      <th></th>\n",
       "      <th>company</th>\n",
       "      <th>model</th>\n",
       "      <th>variant</th>\n",
       "      <th>transmission</th>\n",
       "      <th>km</th>\n",
       "      <th>fuel</th>\n",
       "      <th>owner</th>\n",
       "      <th>year</th>\n",
       "      <th>PRICE</th>\n",
       "    </tr>\n",
       "  </thead>\n",
       "  <tbody>\n",
       "    <tr>\n",
       "      <th>1615</th>\n",
       "      <td>Mahindra</td>\n",
       "      <td>XUV 3OO</td>\n",
       "      <td>W8(O)</td>\n",
       "      <td>None</td>\n",
       "      <td>15768</td>\n",
       "      <td>Diesel</td>\n",
       "      <td>1</td>\n",
       "      <td>2020</td>\n",
       "      <td>1268099</td>\n",
       "    </tr>\n",
       "    <tr>\n",
       "      <th>4927</th>\n",
       "      <td>Maruti</td>\n",
       "      <td>S PRESSO</td>\n",
       "      <td>VXI</td>\n",
       "      <td>None</td>\n",
       "      <td>8446</td>\n",
       "      <td>Petrol</td>\n",
       "      <td>1</td>\n",
       "      <td>2020</td>\n",
       "      <td>472499</td>\n",
       "    </tr>\n",
       "    <tr>\n",
       "      <th>5146</th>\n",
       "      <td>Maruti</td>\n",
       "      <td>OMNI E</td>\n",
       "      <td>STD</td>\n",
       "      <td>None</td>\n",
       "      <td>18747</td>\n",
       "      <td>Petrol</td>\n",
       "      <td>3</td>\n",
       "      <td>2017</td>\n",
       "      <td>360299</td>\n",
       "    </tr>\n",
       "  </tbody>\n",
       "</table>\n",
       "</div>"
      ],
      "text/plain": [
       "       company     model variant transmission     km    fuel  owner  year  \\\n",
       "1615  Mahindra   XUV 3OO   W8(O)         None  15768  Diesel      1  2020   \n",
       "4927    Maruti  S PRESSO     VXI         None   8446  Petrol      1  2020   \n",
       "5146    Maruti    OMNI E     STD         None  18747  Petrol      3  2017   \n",
       "\n",
       "        PRICE  \n",
       "1615  1268099  \n",
       "4927   472499  \n",
       "5146   360299  "
      ]
     },
     "execution_count": 21,
     "metadata": {},
     "output_type": "execute_result"
    }
   ],
   "source": [
    "df[df.isnull().any(axis=1)]"
   ]
  },
  {
   "cell_type": "code",
   "execution_count": 22,
   "metadata": {},
   "outputs": [
    {
     "data": {
      "text/html": [
       "<div>\n",
       "<style scoped>\n",
       "    .dataframe tbody tr th:only-of-type {\n",
       "        vertical-align: middle;\n",
       "    }\n",
       "\n",
       "    .dataframe tbody tr th {\n",
       "        vertical-align: top;\n",
       "    }\n",
       "\n",
       "    .dataframe thead th {\n",
       "        text-align: right;\n",
       "    }\n",
       "</style>\n",
       "<table border=\"1\" class=\"dataframe\">\n",
       "  <thead>\n",
       "    <tr style=\"text-align: right;\">\n",
       "      <th></th>\n",
       "      <th>company</th>\n",
       "      <th>model</th>\n",
       "      <th>variant</th>\n",
       "      <th>transmission</th>\n",
       "      <th>km</th>\n",
       "      <th>fuel</th>\n",
       "      <th>owner</th>\n",
       "      <th>year</th>\n",
       "      <th>PRICE</th>\n",
       "    </tr>\n",
       "  </thead>\n",
       "  <tbody>\n",
       "    <tr>\n",
       "      <th>680</th>\n",
       "      <td>Mahindra</td>\n",
       "      <td>XUV 3OO</td>\n",
       "      <td>W4 PETROL</td>\n",
       "      <td>Manual</td>\n",
       "      <td>6573</td>\n",
       "      <td>Petrol</td>\n",
       "      <td>1</td>\n",
       "      <td>2020</td>\n",
       "      <td>798699</td>\n",
       "    </tr>\n",
       "    <tr>\n",
       "      <th>1615</th>\n",
       "      <td>Mahindra</td>\n",
       "      <td>XUV 3OO</td>\n",
       "      <td>W8(O)</td>\n",
       "      <td>None</td>\n",
       "      <td>15768</td>\n",
       "      <td>Diesel</td>\n",
       "      <td>1</td>\n",
       "      <td>2020</td>\n",
       "      <td>1268099</td>\n",
       "    </tr>\n",
       "    <tr>\n",
       "      <th>1807</th>\n",
       "      <td>Mahindra</td>\n",
       "      <td>XUV 3OO</td>\n",
       "      <td>W8 (O) DIESEL AT</td>\n",
       "      <td>Automatic</td>\n",
       "      <td>24671</td>\n",
       "      <td>Diesel</td>\n",
       "      <td>1</td>\n",
       "      <td>2020</td>\n",
       "      <td>1431799</td>\n",
       "    </tr>\n",
       "    <tr>\n",
       "      <th>4379</th>\n",
       "      <td>Mahindra</td>\n",
       "      <td>XUV 3OO</td>\n",
       "      <td>W4 PETROL</td>\n",
       "      <td>Manual</td>\n",
       "      <td>6573</td>\n",
       "      <td>Petrol</td>\n",
       "      <td>1</td>\n",
       "      <td>2020</td>\n",
       "      <td>798699</td>\n",
       "    </tr>\n",
       "    <tr>\n",
       "      <th>5694</th>\n",
       "      <td>Mahindra</td>\n",
       "      <td>XUV 3OO</td>\n",
       "      <td>W4 PETROL</td>\n",
       "      <td>Manual</td>\n",
       "      <td>6573</td>\n",
       "      <td>Petrol</td>\n",
       "      <td>1</td>\n",
       "      <td>2020</td>\n",
       "      <td>798699</td>\n",
       "    </tr>\n",
       "  </tbody>\n",
       "</table>\n",
       "</div>"
      ],
      "text/plain": [
       "       company    model           variant transmission     km    fuel  owner  \\\n",
       "680   Mahindra  XUV 3OO         W4 PETROL       Manual   6573  Petrol      1   \n",
       "1615  Mahindra  XUV 3OO             W8(O)         None  15768  Diesel      1   \n",
       "1807  Mahindra  XUV 3OO  W8 (O) DIESEL AT    Automatic  24671  Diesel      1   \n",
       "4379  Mahindra  XUV 3OO         W4 PETROL       Manual   6573  Petrol      1   \n",
       "5694  Mahindra  XUV 3OO         W4 PETROL       Manual   6573  Petrol      1   \n",
       "\n",
       "      year    PRICE  \n",
       "680   2020   798699  \n",
       "1615  2020  1268099  \n",
       "1807  2020  1431799  \n",
       "4379  2020   798699  \n",
       "5694  2020   798699  "
      ]
     },
     "execution_count": 22,
     "metadata": {},
     "output_type": "execute_result"
    }
   ],
   "source": [
    "df[df['model'].str.contains('XUV 3OO')]\n"
   ]
  },
  {
   "cell_type": "code",
   "execution_count": 23,
   "metadata": {},
   "outputs": [
    {
     "data": {
      "text/html": [
       "<div>\n",
       "<style scoped>\n",
       "    .dataframe tbody tr th:only-of-type {\n",
       "        vertical-align: middle;\n",
       "    }\n",
       "\n",
       "    .dataframe tbody tr th {\n",
       "        vertical-align: top;\n",
       "    }\n",
       "\n",
       "    .dataframe thead th {\n",
       "        text-align: right;\n",
       "    }\n",
       "</style>\n",
       "<table border=\"1\" class=\"dataframe\">\n",
       "  <thead>\n",
       "    <tr style=\"text-align: right;\">\n",
       "      <th></th>\n",
       "      <th>company</th>\n",
       "      <th>model</th>\n",
       "      <th>variant</th>\n",
       "      <th>transmission</th>\n",
       "      <th>km</th>\n",
       "      <th>fuel</th>\n",
       "      <th>owner</th>\n",
       "      <th>year</th>\n",
       "      <th>PRICE</th>\n",
       "    </tr>\n",
       "  </thead>\n",
       "  <tbody>\n",
       "    <tr>\n",
       "      <th>1677</th>\n",
       "      <td>Maruti</td>\n",
       "      <td>OMNI E</td>\n",
       "      <td>8 STR</td>\n",
       "      <td>Manual</td>\n",
       "      <td>25265</td>\n",
       "      <td>Petrol</td>\n",
       "      <td>1</td>\n",
       "      <td>2018</td>\n",
       "      <td>355499</td>\n",
       "    </tr>\n",
       "    <tr>\n",
       "      <th>1895</th>\n",
       "      <td>Maruti</td>\n",
       "      <td>OMNI E</td>\n",
       "      <td>8 STR</td>\n",
       "      <td>Manual</td>\n",
       "      <td>20442</td>\n",
       "      <td>Petrol</td>\n",
       "      <td>1</td>\n",
       "      <td>2017</td>\n",
       "      <td>368999</td>\n",
       "    </tr>\n",
       "    <tr>\n",
       "      <th>3217</th>\n",
       "      <td>Maruti</td>\n",
       "      <td>OMNI E</td>\n",
       "      <td>STD</td>\n",
       "      <td>Manual</td>\n",
       "      <td>220</td>\n",
       "      <td>Petrol</td>\n",
       "      <td>1</td>\n",
       "      <td>2015</td>\n",
       "      <td>239899</td>\n",
       "    </tr>\n",
       "    <tr>\n",
       "      <th>4902</th>\n",
       "      <td>Maruti</td>\n",
       "      <td>OMNI E</td>\n",
       "      <td>8 STR</td>\n",
       "      <td>Manual</td>\n",
       "      <td>27387</td>\n",
       "      <td>Petrol</td>\n",
       "      <td>1</td>\n",
       "      <td>2017</td>\n",
       "      <td>328299</td>\n",
       "    </tr>\n",
       "    <tr>\n",
       "      <th>5042</th>\n",
       "      <td>Maruti</td>\n",
       "      <td>OMNI E</td>\n",
       "      <td>STD</td>\n",
       "      <td>Manual</td>\n",
       "      <td>3768</td>\n",
       "      <td>Petrol</td>\n",
       "      <td>1</td>\n",
       "      <td>2019</td>\n",
       "      <td>410599</td>\n",
       "    </tr>\n",
       "    <tr>\n",
       "      <th>5146</th>\n",
       "      <td>Maruti</td>\n",
       "      <td>OMNI E</td>\n",
       "      <td>STD</td>\n",
       "      <td>None</td>\n",
       "      <td>18747</td>\n",
       "      <td>Petrol</td>\n",
       "      <td>3</td>\n",
       "      <td>2017</td>\n",
       "      <td>360299</td>\n",
       "    </tr>\n",
       "    <tr>\n",
       "      <th>5201</th>\n",
       "      <td>Maruti</td>\n",
       "      <td>OMNI E</td>\n",
       "      <td>STD</td>\n",
       "      <td>Manual</td>\n",
       "      <td>69383</td>\n",
       "      <td>Petrol</td>\n",
       "      <td>1</td>\n",
       "      <td>2017</td>\n",
       "      <td>315799</td>\n",
       "    </tr>\n",
       "  </tbody>\n",
       "</table>\n",
       "</div>"
      ],
      "text/plain": [
       "     company   model variant transmission     km    fuel  owner  year   PRICE\n",
       "1677  Maruti  OMNI E   8 STR       Manual  25265  Petrol      1  2018  355499\n",
       "1895  Maruti  OMNI E   8 STR       Manual  20442  Petrol      1  2017  368999\n",
       "3217  Maruti  OMNI E     STD       Manual    220  Petrol      1  2015  239899\n",
       "4902  Maruti  OMNI E   8 STR       Manual  27387  Petrol      1  2017  328299\n",
       "5042  Maruti  OMNI E     STD       Manual   3768  Petrol      1  2019  410599\n",
       "5146  Maruti  OMNI E     STD         None  18747  Petrol      3  2017  360299\n",
       "5201  Maruti  OMNI E     STD       Manual  69383  Petrol      1  2017  315799"
      ]
     },
     "execution_count": 23,
     "metadata": {},
     "output_type": "execute_result"
    }
   ],
   "source": [
    "df[df['model'].str.contains('OMNI E')]"
   ]
  },
  {
   "cell_type": "code",
   "execution_count": 24,
   "metadata": {},
   "outputs": [],
   "source": [
    "df= df.drop(labels=[1615], axis=0)"
   ]
  },
  {
   "cell_type": "code",
   "execution_count": 25,
   "metadata": {},
   "outputs": [
    {
     "data": {
      "text/html": [
       "<div>\n",
       "<style scoped>\n",
       "    .dataframe tbody tr th:only-of-type {\n",
       "        vertical-align: middle;\n",
       "    }\n",
       "\n",
       "    .dataframe tbody tr th {\n",
       "        vertical-align: top;\n",
       "    }\n",
       "\n",
       "    .dataframe thead th {\n",
       "        text-align: right;\n",
       "    }\n",
       "</style>\n",
       "<table border=\"1\" class=\"dataframe\">\n",
       "  <thead>\n",
       "    <tr style=\"text-align: right;\">\n",
       "      <th></th>\n",
       "      <th>company</th>\n",
       "      <th>model</th>\n",
       "      <th>variant</th>\n",
       "      <th>transmission</th>\n",
       "      <th>km</th>\n",
       "      <th>fuel</th>\n",
       "      <th>owner</th>\n",
       "      <th>year</th>\n",
       "      <th>PRICE</th>\n",
       "    </tr>\n",
       "  </thead>\n",
       "  <tbody>\n",
       "    <tr>\n",
       "      <th>0</th>\n",
       "      <td>Maruti</td>\n",
       "      <td>Swift</td>\n",
       "      <td>VDI</td>\n",
       "      <td>Manual</td>\n",
       "      <td>38061</td>\n",
       "      <td>Diesel</td>\n",
       "      <td>1</td>\n",
       "      <td>2012</td>\n",
       "      <td>292299</td>\n",
       "    </tr>\n",
       "    <tr>\n",
       "      <th>1</th>\n",
       "      <td>Maruti</td>\n",
       "      <td>Swift</td>\n",
       "      <td>VXI</td>\n",
       "      <td>Manual</td>\n",
       "      <td>107206</td>\n",
       "      <td>Petrol</td>\n",
       "      <td>1</td>\n",
       "      <td>2014</td>\n",
       "      <td>407299</td>\n",
       "    </tr>\n",
       "    <tr>\n",
       "      <th>2</th>\n",
       "      <td>Maruti</td>\n",
       "      <td>Swift</td>\n",
       "      <td>VDI ABS</td>\n",
       "      <td>Manual</td>\n",
       "      <td>44638</td>\n",
       "      <td>Diesel</td>\n",
       "      <td>1</td>\n",
       "      <td>2015</td>\n",
       "      <td>440899</td>\n",
       "    </tr>\n",
       "    <tr>\n",
       "      <th>3</th>\n",
       "      <td>Maruti</td>\n",
       "      <td>Swift</td>\n",
       "      <td>VDI ABS</td>\n",
       "      <td>Manual</td>\n",
       "      <td>89196</td>\n",
       "      <td>Diesel</td>\n",
       "      <td>1</td>\n",
       "      <td>2015</td>\n",
       "      <td>424299</td>\n",
       "    </tr>\n",
       "    <tr>\n",
       "      <th>4</th>\n",
       "      <td>Maruti</td>\n",
       "      <td>Ritz</td>\n",
       "      <td>VDI</td>\n",
       "      <td>Manual</td>\n",
       "      <td>43382</td>\n",
       "      <td>Diesel</td>\n",
       "      <td>1</td>\n",
       "      <td>2014</td>\n",
       "      <td>340599</td>\n",
       "    </tr>\n",
       "    <tr>\n",
       "      <th>...</th>\n",
       "      <td>...</td>\n",
       "      <td>...</td>\n",
       "      <td>...</td>\n",
       "      <td>...</td>\n",
       "      <td>...</td>\n",
       "      <td>...</td>\n",
       "      <td>...</td>\n",
       "      <td>...</td>\n",
       "      <td>...</td>\n",
       "    </tr>\n",
       "    <tr>\n",
       "      <th>5882</th>\n",
       "      <td>Hyundai</td>\n",
       "      <td>Grand i10</td>\n",
       "      <td>ASTA 1.2 KAPPA VTVT OPT</td>\n",
       "      <td>Manual</td>\n",
       "      <td>112190</td>\n",
       "      <td>Petrol</td>\n",
       "      <td>2</td>\n",
       "      <td>2014</td>\n",
       "      <td>400299</td>\n",
       "    </tr>\n",
       "    <tr>\n",
       "      <th>5883</th>\n",
       "      <td>Maruti</td>\n",
       "      <td>Swift</td>\n",
       "      <td>LXI OPT</td>\n",
       "      <td>Manual</td>\n",
       "      <td>43553</td>\n",
       "      <td>Petrol</td>\n",
       "      <td>1</td>\n",
       "      <td>2017</td>\n",
       "      <td>449699</td>\n",
       "    </tr>\n",
       "    <tr>\n",
       "      <th>5884</th>\n",
       "      <td>Mahindra</td>\n",
       "      <td>Scorpio</td>\n",
       "      <td>S7 140 BHP 2WD</td>\n",
       "      <td>Manual</td>\n",
       "      <td>18656</td>\n",
       "      <td>Diesel</td>\n",
       "      <td>1</td>\n",
       "      <td>2019</td>\n",
       "      <td>1327299</td>\n",
       "    </tr>\n",
       "    <tr>\n",
       "      <th>5885</th>\n",
       "      <td>Hyundai</td>\n",
       "      <td>Creta</td>\n",
       "      <td>1.4 E PLUS CRDI</td>\n",
       "      <td>Manual</td>\n",
       "      <td>90615</td>\n",
       "      <td>Diesel</td>\n",
       "      <td>1</td>\n",
       "      <td>2017</td>\n",
       "      <td>781799</td>\n",
       "    </tr>\n",
       "    <tr>\n",
       "      <th>5886</th>\n",
       "      <td>KIA</td>\n",
       "      <td>SELTOS</td>\n",
       "      <td>HTK 1.5 PETROL</td>\n",
       "      <td>Manual</td>\n",
       "      <td>22066</td>\n",
       "      <td>Petrol</td>\n",
       "      <td>1</td>\n",
       "      <td>2020</td>\n",
       "      <td>1115099</td>\n",
       "    </tr>\n",
       "  </tbody>\n",
       "</table>\n",
       "<p>5886 rows × 9 columns</p>\n",
       "</div>"
      ],
      "text/plain": [
       "       company      model                  variant transmission      km  \\\n",
       "0       Maruti      Swift                      VDI       Manual   38061   \n",
       "1       Maruti      Swift                      VXI       Manual  107206   \n",
       "2       Maruti      Swift                  VDI ABS       Manual   44638   \n",
       "3       Maruti      Swift                  VDI ABS       Manual   89196   \n",
       "4       Maruti       Ritz                      VDI       Manual   43382   \n",
       "...        ...        ...                      ...          ...     ...   \n",
       "5882   Hyundai  Grand i10  ASTA 1.2 KAPPA VTVT OPT       Manual  112190   \n",
       "5883    Maruti      Swift                  LXI OPT       Manual   43553   \n",
       "5884  Mahindra    Scorpio           S7 140 BHP 2WD       Manual   18656   \n",
       "5885   Hyundai      Creta          1.4 E PLUS CRDI       Manual   90615   \n",
       "5886       KIA     SELTOS           HTK 1.5 PETROL       Manual   22066   \n",
       "\n",
       "        fuel  owner  year    PRICE  \n",
       "0     Diesel      1  2012   292299  \n",
       "1     Petrol      1  2014   407299  \n",
       "2     Diesel      1  2015   440899  \n",
       "3     Diesel      1  2015   424299  \n",
       "4     Diesel      1  2014   340599  \n",
       "...      ...    ...   ...      ...  \n",
       "5882  Petrol      2  2014   400299  \n",
       "5883  Petrol      1  2017   449699  \n",
       "5884  Diesel      1  2019  1327299  \n",
       "5885  Diesel      1  2017   781799  \n",
       "5886  Petrol      1  2020  1115099  \n",
       "\n",
       "[5886 rows x 9 columns]"
      ]
     },
     "execution_count": 25,
     "metadata": {},
     "output_type": "execute_result"
    }
   ],
   "source": [
    "df"
   ]
  },
  {
   "cell_type": "code",
   "execution_count": 26,
   "metadata": {},
   "outputs": [],
   "source": [
    "df.fillna(value = 'Manual',\n",
    "          inplace = True)"
   ]
  },
  {
   "cell_type": "code",
   "execution_count": 27,
   "metadata": {},
   "outputs": [
    {
     "data": {
      "text/plain": [
       "company         0\n",
       "model           0\n",
       "variant         0\n",
       "transmission    0\n",
       "km              0\n",
       "fuel            0\n",
       "owner           0\n",
       "year            0\n",
       "PRICE           0\n",
       "dtype: int64"
      ]
     },
     "execution_count": 27,
     "metadata": {},
     "output_type": "execute_result"
    }
   ],
   "source": [
    "df.isnull().sum()"
   ]
  },
  {
   "cell_type": "code",
   "execution_count": 28,
   "metadata": {},
   "outputs": [
    {
     "name": "stdout",
     "output_type": "stream",
     "text": [
      "<class 'pandas.core.frame.DataFrame'>\n",
      "Int64Index: 5886 entries, 0 to 5886\n",
      "Data columns (total 9 columns):\n",
      " #   Column        Non-Null Count  Dtype \n",
      "---  ------        --------------  ----- \n",
      " 0   company       5886 non-null   object\n",
      " 1   model         5886 non-null   object\n",
      " 2   variant       5886 non-null   object\n",
      " 3   transmission  5886 non-null   object\n",
      " 4   km            5886 non-null   int32 \n",
      " 5   fuel          5886 non-null   object\n",
      " 6   owner         5886 non-null   int64 \n",
      " 7   year          5886 non-null   object\n",
      " 8   PRICE         5886 non-null   int32 \n",
      "dtypes: int32(2), int64(1), object(6)\n",
      "memory usage: 413.9+ KB\n"
     ]
    }
   ],
   "source": [
    "df.info()"
   ]
  },
  {
   "cell_type": "code",
   "execution_count": 29,
   "metadata": {},
   "outputs": [
    {
     "data": {
      "text/plain": [
       "array(['2012', '2014', '2015', '2013', '2019', '2016', '2017', '2018',\n",
       "       '2020', '2009', '2021', '2011', '2010', '2008'], dtype=object)"
      ]
     },
     "execution_count": 29,
     "metadata": {},
     "output_type": "execute_result"
    }
   ],
   "source": [
    "df['year'].unique()"
   ]
  },
  {
   "cell_type": "code",
   "execution_count": 30,
   "metadata": {},
   "outputs": [
    {
     "data": {
      "text/plain": [
       "array([1, 2, 3, 4, 5], dtype=int64)"
      ]
     },
     "execution_count": 30,
     "metadata": {},
     "output_type": "execute_result"
    }
   ],
   "source": [
    "df['owner'].unique()"
   ]
  },
  {
   "cell_type": "code",
   "execution_count": 31,
   "metadata": {},
   "outputs": [],
   "source": [
    "df[\"year\"] = df[\"year\"].astype(str).astype(int)"
   ]
  },
  {
   "cell_type": "code",
   "execution_count": 32,
   "metadata": {},
   "outputs": [
    {
     "name": "stdout",
     "output_type": "stream",
     "text": [
      "<class 'pandas.core.frame.DataFrame'>\n",
      "Int64Index: 5886 entries, 0 to 5886\n",
      "Data columns (total 9 columns):\n",
      " #   Column        Non-Null Count  Dtype \n",
      "---  ------        --------------  ----- \n",
      " 0   company       5886 non-null   object\n",
      " 1   model         5886 non-null   object\n",
      " 2   variant       5886 non-null   object\n",
      " 3   transmission  5886 non-null   object\n",
      " 4   km            5886 non-null   int32 \n",
      " 5   fuel          5886 non-null   object\n",
      " 6   owner         5886 non-null   int64 \n",
      " 7   year          5886 non-null   int32 \n",
      " 8   PRICE         5886 non-null   int32 \n",
      "dtypes: int32(3), int64(1), object(5)\n",
      "memory usage: 390.9+ KB\n"
     ]
    }
   ],
   "source": [
    "df.info()"
   ]
  },
  {
   "cell_type": "code",
   "execution_count": 33,
   "metadata": {},
   "outputs": [
    {
     "data": {
      "text/html": [
       "<div>\n",
       "<style scoped>\n",
       "    .dataframe tbody tr th:only-of-type {\n",
       "        vertical-align: middle;\n",
       "    }\n",
       "\n",
       "    .dataframe tbody tr th {\n",
       "        vertical-align: top;\n",
       "    }\n",
       "\n",
       "    .dataframe thead th {\n",
       "        text-align: right;\n",
       "    }\n",
       "</style>\n",
       "<table border=\"1\" class=\"dataframe\">\n",
       "  <thead>\n",
       "    <tr style=\"text-align: right;\">\n",
       "      <th></th>\n",
       "      <th>company</th>\n",
       "      <th>model</th>\n",
       "      <th>variant</th>\n",
       "      <th>transmission</th>\n",
       "      <th>km</th>\n",
       "      <th>fuel</th>\n",
       "      <th>owner</th>\n",
       "      <th>year</th>\n",
       "      <th>PRICE</th>\n",
       "    </tr>\n",
       "  </thead>\n",
       "  <tbody>\n",
       "    <tr>\n",
       "      <th>0</th>\n",
       "      <td>Maruti</td>\n",
       "      <td>Swift</td>\n",
       "      <td>VDI</td>\n",
       "      <td>Manual</td>\n",
       "      <td>38061</td>\n",
       "      <td>Diesel</td>\n",
       "      <td>1</td>\n",
       "      <td>2012</td>\n",
       "      <td>292299</td>\n",
       "    </tr>\n",
       "    <tr>\n",
       "      <th>1</th>\n",
       "      <td>Maruti</td>\n",
       "      <td>Swift</td>\n",
       "      <td>VXI</td>\n",
       "      <td>Manual</td>\n",
       "      <td>107206</td>\n",
       "      <td>Petrol</td>\n",
       "      <td>1</td>\n",
       "      <td>2014</td>\n",
       "      <td>407299</td>\n",
       "    </tr>\n",
       "    <tr>\n",
       "      <th>2</th>\n",
       "      <td>Maruti</td>\n",
       "      <td>Swift</td>\n",
       "      <td>VDI ABS</td>\n",
       "      <td>Manual</td>\n",
       "      <td>44638</td>\n",
       "      <td>Diesel</td>\n",
       "      <td>1</td>\n",
       "      <td>2015</td>\n",
       "      <td>440899</td>\n",
       "    </tr>\n",
       "    <tr>\n",
       "      <th>3</th>\n",
       "      <td>Maruti</td>\n",
       "      <td>Swift</td>\n",
       "      <td>VDI ABS</td>\n",
       "      <td>Manual</td>\n",
       "      <td>89196</td>\n",
       "      <td>Diesel</td>\n",
       "      <td>1</td>\n",
       "      <td>2015</td>\n",
       "      <td>424299</td>\n",
       "    </tr>\n",
       "    <tr>\n",
       "      <th>4</th>\n",
       "      <td>Maruti</td>\n",
       "      <td>Ritz</td>\n",
       "      <td>VDI</td>\n",
       "      <td>Manual</td>\n",
       "      <td>43382</td>\n",
       "      <td>Diesel</td>\n",
       "      <td>1</td>\n",
       "      <td>2014</td>\n",
       "      <td>340599</td>\n",
       "    </tr>\n",
       "    <tr>\n",
       "      <th>...</th>\n",
       "      <td>...</td>\n",
       "      <td>...</td>\n",
       "      <td>...</td>\n",
       "      <td>...</td>\n",
       "      <td>...</td>\n",
       "      <td>...</td>\n",
       "      <td>...</td>\n",
       "      <td>...</td>\n",
       "      <td>...</td>\n",
       "    </tr>\n",
       "    <tr>\n",
       "      <th>5882</th>\n",
       "      <td>Hyundai</td>\n",
       "      <td>Grand i10</td>\n",
       "      <td>ASTA 1.2 KAPPA VTVT OPT</td>\n",
       "      <td>Manual</td>\n",
       "      <td>112190</td>\n",
       "      <td>Petrol</td>\n",
       "      <td>2</td>\n",
       "      <td>2014</td>\n",
       "      <td>400299</td>\n",
       "    </tr>\n",
       "    <tr>\n",
       "      <th>5883</th>\n",
       "      <td>Maruti</td>\n",
       "      <td>Swift</td>\n",
       "      <td>LXI OPT</td>\n",
       "      <td>Manual</td>\n",
       "      <td>43553</td>\n",
       "      <td>Petrol</td>\n",
       "      <td>1</td>\n",
       "      <td>2017</td>\n",
       "      <td>449699</td>\n",
       "    </tr>\n",
       "    <tr>\n",
       "      <th>5884</th>\n",
       "      <td>Mahindra</td>\n",
       "      <td>Scorpio</td>\n",
       "      <td>S7 140 BHP 2WD</td>\n",
       "      <td>Manual</td>\n",
       "      <td>18656</td>\n",
       "      <td>Diesel</td>\n",
       "      <td>1</td>\n",
       "      <td>2019</td>\n",
       "      <td>1327299</td>\n",
       "    </tr>\n",
       "    <tr>\n",
       "      <th>5885</th>\n",
       "      <td>Hyundai</td>\n",
       "      <td>Creta</td>\n",
       "      <td>1.4 E PLUS CRDI</td>\n",
       "      <td>Manual</td>\n",
       "      <td>90615</td>\n",
       "      <td>Diesel</td>\n",
       "      <td>1</td>\n",
       "      <td>2017</td>\n",
       "      <td>781799</td>\n",
       "    </tr>\n",
       "    <tr>\n",
       "      <th>5886</th>\n",
       "      <td>KIA</td>\n",
       "      <td>SELTOS</td>\n",
       "      <td>HTK 1.5 PETROL</td>\n",
       "      <td>Manual</td>\n",
       "      <td>22066</td>\n",
       "      <td>Petrol</td>\n",
       "      <td>1</td>\n",
       "      <td>2020</td>\n",
       "      <td>1115099</td>\n",
       "    </tr>\n",
       "  </tbody>\n",
       "</table>\n",
       "<p>5886 rows × 9 columns</p>\n",
       "</div>"
      ],
      "text/plain": [
       "       company      model                  variant transmission      km  \\\n",
       "0       Maruti      Swift                      VDI       Manual   38061   \n",
       "1       Maruti      Swift                      VXI       Manual  107206   \n",
       "2       Maruti      Swift                  VDI ABS       Manual   44638   \n",
       "3       Maruti      Swift                  VDI ABS       Manual   89196   \n",
       "4       Maruti       Ritz                      VDI       Manual   43382   \n",
       "...        ...        ...                      ...          ...     ...   \n",
       "5882   Hyundai  Grand i10  ASTA 1.2 KAPPA VTVT OPT       Manual  112190   \n",
       "5883    Maruti      Swift                  LXI OPT       Manual   43553   \n",
       "5884  Mahindra    Scorpio           S7 140 BHP 2WD       Manual   18656   \n",
       "5885   Hyundai      Creta          1.4 E PLUS CRDI       Manual   90615   \n",
       "5886       KIA     SELTOS           HTK 1.5 PETROL       Manual   22066   \n",
       "\n",
       "        fuel  owner  year    PRICE  \n",
       "0     Diesel      1  2012   292299  \n",
       "1     Petrol      1  2014   407299  \n",
       "2     Diesel      1  2015   440899  \n",
       "3     Diesel      1  2015   424299  \n",
       "4     Diesel      1  2014   340599  \n",
       "...      ...    ...   ...      ...  \n",
       "5882  Petrol      2  2014   400299  \n",
       "5883  Petrol      1  2017   449699  \n",
       "5884  Diesel      1  2019  1327299  \n",
       "5885  Diesel      1  2017   781799  \n",
       "5886  Petrol      1  2020  1115099  \n",
       "\n",
       "[5886 rows x 9 columns]"
      ]
     },
     "execution_count": 33,
     "metadata": {},
     "output_type": "execute_result"
    }
   ],
   "source": [
    "df"
   ]
  },
  {
   "cell_type": "code",
   "execution_count": 34,
   "metadata": {},
   "outputs": [
    {
     "data": {
      "text/html": [
       "<div>\n",
       "<style scoped>\n",
       "    .dataframe tbody tr th:only-of-type {\n",
       "        vertical-align: middle;\n",
       "    }\n",
       "\n",
       "    .dataframe tbody tr th {\n",
       "        vertical-align: top;\n",
       "    }\n",
       "\n",
       "    .dataframe thead th {\n",
       "        text-align: right;\n",
       "    }\n",
       "</style>\n",
       "<table border=\"1\" class=\"dataframe\">\n",
       "  <thead>\n",
       "    <tr style=\"text-align: right;\">\n",
       "      <th></th>\n",
       "      <th>km</th>\n",
       "      <th>owner</th>\n",
       "      <th>year</th>\n",
       "      <th>PRICE</th>\n",
       "    </tr>\n",
       "  </thead>\n",
       "  <tbody>\n",
       "    <tr>\n",
       "      <th>count</th>\n",
       "      <td>5886.000000</td>\n",
       "      <td>5886.000000</td>\n",
       "      <td>5886.000000</td>\n",
       "      <td>5.886000e+03</td>\n",
       "    </tr>\n",
       "    <tr>\n",
       "      <th>mean</th>\n",
       "      <td>45531.137445</td>\n",
       "      <td>1.201325</td>\n",
       "      <td>2016.311927</td>\n",
       "      <td>6.080910e+05</td>\n",
       "    </tr>\n",
       "    <tr>\n",
       "      <th>std</th>\n",
       "      <td>33924.441446</td>\n",
       "      <td>0.449001</td>\n",
       "      <td>2.265897</td>\n",
       "      <td>3.008099e+05</td>\n",
       "    </tr>\n",
       "    <tr>\n",
       "      <th>min</th>\n",
       "      <td>58.000000</td>\n",
       "      <td>1.000000</td>\n",
       "      <td>2008.000000</td>\n",
       "      <td>1.682990e+05</td>\n",
       "    </tr>\n",
       "    <tr>\n",
       "      <th>25%</th>\n",
       "      <td>21243.750000</td>\n",
       "      <td>1.000000</td>\n",
       "      <td>2015.000000</td>\n",
       "      <td>4.108990e+05</td>\n",
       "    </tr>\n",
       "    <tr>\n",
       "      <th>50%</th>\n",
       "      <td>38130.500000</td>\n",
       "      <td>1.000000</td>\n",
       "      <td>2017.000000</td>\n",
       "      <td>5.310990e+05</td>\n",
       "    </tr>\n",
       "    <tr>\n",
       "      <th>75%</th>\n",
       "      <td>61569.750000</td>\n",
       "      <td>1.000000</td>\n",
       "      <td>2018.000000</td>\n",
       "      <td>7.163990e+05</td>\n",
       "    </tr>\n",
       "    <tr>\n",
       "      <th>max</th>\n",
       "      <td>353288.000000</td>\n",
       "      <td>5.000000</td>\n",
       "      <td>2021.000000</td>\n",
       "      <td>3.388499e+06</td>\n",
       "    </tr>\n",
       "  </tbody>\n",
       "</table>\n",
       "</div>"
      ],
      "text/plain": [
       "                  km        owner         year         PRICE\n",
       "count    5886.000000  5886.000000  5886.000000  5.886000e+03\n",
       "mean    45531.137445     1.201325  2016.311927  6.080910e+05\n",
       "std     33924.441446     0.449001     2.265897  3.008099e+05\n",
       "min        58.000000     1.000000  2008.000000  1.682990e+05\n",
       "25%     21243.750000     1.000000  2015.000000  4.108990e+05\n",
       "50%     38130.500000     1.000000  2017.000000  5.310990e+05\n",
       "75%     61569.750000     1.000000  2018.000000  7.163990e+05\n",
       "max    353288.000000     5.000000  2021.000000  3.388499e+06"
      ]
     },
     "execution_count": 34,
     "metadata": {},
     "output_type": "execute_result"
    }
   ],
   "source": [
    "df.describe()"
   ]
  },
  {
   "cell_type": "markdown",
   "metadata": {},
   "source": [
    "## EDA"
   ]
  },
  {
   "cell_type": "code",
   "execution_count": 35,
   "metadata": {},
   "outputs": [
    {
     "data": {
      "image/png": "[encoded data removed]",
      "text/plain": [
       "<Figure size 1296x432 with 1 Axes>"
      ]
     },
     "metadata": {
      "needs_background": "light"
     },
     "output_type": "display_data"
    }
   ],
   "source": [
    "plt.figure(figsize = (18,6))\n",
    "sns.barplot(x = 'company', y = 'PRICE', data = df, palette= 'GnBu_d').set_title('Companywise price')\n",
    "plt.xticks\n",
    "plt.show()"
   ]
  },
  {
   "cell_type": "markdown",
   "metadata": {},
   "source": [
    "CONCLUSION :\n",
    "    \n",
    "    As we can visulise that from above graph, there are higher average price of some luxuries car like jaguar, mercedes, MG, BMW.\n",
    "    \n",
    "    Fiat, datsun and maruti have low average price."
   ]
  },
  {
   "cell_type": "code",
   "execution_count": 36,
   "metadata": {},
   "outputs": [
    {
     "data": {
      "image/png": "[encoded data removed]",
      "text/plain": [
       "<Figure size 1296x432 with 1 Axes>"
      ]
     },
     "metadata": {
      "needs_background": "light"
     },
     "output_type": "display_data"
    }
   ],
   "source": [
    "plt.figure(figsize = (18,6))\n",
    "sns.barplot(x = 'year', y = 'PRICE', data = df, palette= 'GnBu_d').set_title('Yearwise price')\n",
    "plt.xticks\n",
    "plt.show()"
   ]
  },
  {
   "cell_type": "markdown",
   "metadata": {},
   "source": [
    "Conclusion:\n",
    "    \n",
    "    As no of year increase, price is going to decrease. it means old have have low selling price compare to low old car. it is a one factor that we can consider important."
   ]
  },
  {
   "cell_type": "code",
   "execution_count": 37,
   "metadata": {},
   "outputs": [
    {
     "data": {
      "image/png": "[encoded data removed]",
      "text/plain": [
       "<Figure size 720x216 with 1 Axes>"
      ]
     },
     "metadata": {
      "needs_background": "light"
     },
     "output_type": "display_data"
    }
   ],
   "source": [
    "plt.figure(figsize = (10,3))\n",
    "sns.barplot(x = 'owner', y = 'PRICE', data = df, palette= 'GnBu_d').set_title('ownerwise price')\n",
    "plt.xticks\n",
    "plt.show()"
   ]
  },
  {
   "cell_type": "markdown",
   "metadata": {},
   "source": [
    "Conclusion:\n",
    "    \n",
    "    If car is of 1st owner than it get higher value in reselling while as no of owener increases, price of car are going to decrease."
   ]
  },
  {
   "cell_type": "code",
   "execution_count": 38,
   "metadata": {},
   "outputs": [
    {
     "data": {
      "image/png": "[encoded data removed]",
      "text/plain": [
       "<Figure size 720x216 with 1 Axes>"
      ]
     },
     "metadata": {
      "needs_background": "light"
     },
     "output_type": "display_data"
    }
   ],
   "source": [
    "plt.figure(figsize = (10,3))\n",
    "sns.barplot(x = 'fuel', y = 'PRICE', data = df, palette= 'GnBu_d').set_title('fuelwise price')\n",
    "plt.xticks\n",
    "plt.show()"
   ]
  },
  {
   "cell_type": "markdown",
   "metadata": {},
   "source": [
    "Conclusion:\n",
    "    \n",
    "    Must important factor that is fuel, If car have diesel option as a fuel then it is in high demand and get high value than petrol option have also good average price."
   ]
  },
  {
   "cell_type": "code",
   "execution_count": 39,
   "metadata": {},
   "outputs": [
    {
     "data": {
      "image/png": "[encoded data removed]",
      "text/plain": [
       "<Figure size 1296x720 with 1 Axes>"
      ]
     },
     "metadata": {
      "needs_background": "light"
     },
     "output_type": "display_data"
    }
   ],
   "source": [
    "plt.figure(figsize = (18,10))\n",
    "sns.scatterplot(data=df, x=\"km\", y=\"PRICE\").set_title('km_wise price')\n",
    "plt.xticks\n",
    "plt.show()"
   ]
  },
  {
   "cell_type": "markdown",
   "metadata": {},
   "source": [
    "Conclusion:\n",
    "    \n",
    "    From above graph, we can mark that price is decrease as km increase. it is general we can mark that, may plot we can also visulise that from above graph where km are high but price is also high, in this case other factors may be metter."
   ]
  },
  {
   "cell_type": "code",
   "execution_count": 40,
   "metadata": {},
   "outputs": [
    {
     "data": {
      "image/png": "[encoded data removed]",
      "text/plain": [
       "<Figure size 1296x432 with 1 Axes>"
      ]
     },
     "metadata": {
      "needs_background": "light"
     },
     "output_type": "display_data"
    }
   ],
   "source": [
    "plt.figure(figsize = (18,6))\n",
    "sns.barplot(x = 'transmission', y = 'PRICE', data = df, palette= 'GnBu_d').set_title('transmissionwise price')\n",
    "plt.xticks\n",
    "plt.show()"
   ]
  },
  {
   "cell_type": "markdown",
   "metadata": {},
   "source": [
    "Conclusion:\n",
    "\n",
    "    Compare to others, I-VTEC, DIESEL,PETROL and STR transmission car are highly demandable and also in higher price"
   ]
  },
  {
   "cell_type": "code",
   "execution_count": 41,
   "metadata": {},
   "outputs": [
    {
     "data": {
      "image/png": "[encoded data removed]",
      "text/plain": [
       "<Figure size 1296x432 with 1 Axes>"
      ]
     },
     "metadata": {
      "needs_background": "light"
     },
     "output_type": "display_data"
    }
   ],
   "source": [
    "plt.figure(figsize = (18,6))\n",
    "sns.barplot(x = 'year', y = 'PRICE', data = df, palette= 'bright',hue= 'fuel',).set_title('year and fuelwise price')\n",
    "plt.xticks\n",
    "plt.show()"
   ]
  },
  {
   "cell_type": "markdown",
   "metadata": {},
   "source": [
    "Conclusion:\n",
    "    \n",
    "    1) Petrol+LPG Cars are not in market as much, as per our data, we have this type of car available in 2010 only.\n",
    "    2) Diesel car's price are increase as car manufacturing is decreasing, diesel car was in high demand in 2009-2011\n",
    "    3) Petrol car's price is increasing as model is new, we can visulise that it have stable increasing ratio.\n",
    "    4) Petrol+CNG variant are in high demand, last year, while diesel car was not as much as.\n",
    "    5) Petrol CNG variant have sudden high in 2017"
   ]
  },
  {
   "cell_type": "code",
   "execution_count": 42,
   "metadata": {},
   "outputs": [
    {
     "data": {
      "text/plain": [
       "<seaborn.axisgrid.PairGrid at 0x2995c9fdd60>"
      ]
     },
     "execution_count": 42,
     "metadata": {},
     "output_type": "execute_result"
    },
    {
     "data": {
      "text/plain": [
       "<Figure size 576x576 with 0 Axes>"
      ]
     },
     "metadata": {},
     "output_type": "display_data"
    },
    {
     "data": {
      "image/png": "[encoded data removed]",
      "text/plain": [
       "<Figure size 720x720 with 20 Axes>"
      ]
     },
     "metadata": {
      "needs_background": "light"
     },
     "output_type": "display_data"
    }
   ],
   "source": [
    "fig1 = plt.figure(figsize=(8,8))\n",
    "fig1 = sns.pairplot(data=df)\n",
    "fig1.map_upper(plt.scatter)\n",
    "fig1.map_diag(sns.distplot)\n",
    "fig1.map_lower(sns.kdeplot)"
   ]
  },
  {
   "cell_type": "markdown",
   "metadata": {},
   "source": [
    "Conclusion:\n",
    "\n",
    "    1) As km increase, price is decreasing.\n",
    "    2) No of owner increases, prices is decreases.\n",
    "    3) As year increase, price is also increase\n",
    "    4) As year increase than no of owner also increase.\n",
    "   "
   ]
  },
  {
   "cell_type": "code",
   "execution_count": 43,
   "metadata": {},
   "outputs": [
    {
     "data": {
      "text/plain": [
       "<matplotlib.axes._subplots.AxesSubplot at 0x2995be56a30>"
      ]
     },
     "execution_count": 43,
     "metadata": {},
     "output_type": "execute_result"
    },
    {
     "data": {
      "image/png": "[encoded data removed]",
      "text/plain": [
       "<Figure size 432x288 with 1 Axes>"
      ]
     },
     "metadata": {},
     "output_type": "display_data"
    }
   ],
   "source": [
    "df.groupby('company').size().plot(kind='pie')"
   ]
  },
  {
   "cell_type": "markdown",
   "metadata": {},
   "source": [
    "Conclusion:\n",
    "    \n",
    "    Nearly 50% of data of past few years, we have Maruti company cars are high in resell.\n",
    "    Hyundai and Honda have also some parts covering in reselling"
   ]
  },
  {
   "cell_type": "code",
   "execution_count": 44,
   "metadata": {},
   "outputs": [
    {
     "data": {
      "text/plain": [
       "<matplotlib.axes._subplots.AxesSubplot at 0x2995ca780a0>"
      ]
     },
     "execution_count": 44,
     "metadata": {},
     "output_type": "execute_result"
    },
    {
     "data": {
      "image/png": "[encoded data removed]",
      "text/plain": [
       "<Figure size 432x288 with 1 Axes>"
      ]
     },
     "metadata": {},
     "output_type": "display_data"
    }
   ],
   "source": [
    "df.groupby('transmission').size().plot(kind='pie')"
   ]
  },
  {
   "cell_type": "markdown",
   "metadata": {},
   "source": [
    "Conclusion:\n",
    "    \n",
    "    80% data have Manual transmission ans 17-18% data have Automatic transmission, rest are neglegible"
   ]
  },
  {
   "cell_type": "code",
   "execution_count": 45,
   "metadata": {},
   "outputs": [
    {
     "data": {
      "text/plain": [
       "<matplotlib.axes._subplots.AxesSubplot at 0x2995ce655e0>"
      ]
     },
     "execution_count": 45,
     "metadata": {},
     "output_type": "execute_result"
    },
    {
     "data": {
      "image/png": "[encoded data removed]",
      "text/plain": [
       "<Figure size 432x288 with 1 Axes>"
      ]
     },
     "metadata": {},
     "output_type": "display_data"
    }
   ],
   "source": [
    "df.groupby(['company']).count().plot(kind='pie',y = 'PRICE',autopct ='%1.1f%%',title = ('shopping_recently'),)"
   ]
  },
  {
   "cell_type": "code",
   "execution_count": 46,
   "metadata": {},
   "outputs": [
    {
     "data": {
      "text/html": [
       "<div>\n",
       "<style scoped>\n",
       "    .dataframe tbody tr th:only-of-type {\n",
       "        vertical-align: middle;\n",
       "    }\n",
       "\n",
       "    .dataframe tbody tr th {\n",
       "        vertical-align: top;\n",
       "    }\n",
       "\n",
       "    .dataframe thead th {\n",
       "        text-align: right;\n",
       "    }\n",
       "</style>\n",
       "<table border=\"1\" class=\"dataframe\">\n",
       "  <thead>\n",
       "    <tr style=\"text-align: right;\">\n",
       "      <th></th>\n",
       "      <th>company</th>\n",
       "      <th>model</th>\n",
       "      <th>variant</th>\n",
       "      <th>transmission</th>\n",
       "      <th>km</th>\n",
       "      <th>fuel</th>\n",
       "      <th>owner</th>\n",
       "      <th>year</th>\n",
       "      <th>PRICE</th>\n",
       "    </tr>\n",
       "  </thead>\n",
       "  <tbody>\n",
       "    <tr>\n",
       "      <th>0</th>\n",
       "      <td>Maruti</td>\n",
       "      <td>Swift</td>\n",
       "      <td>VDI</td>\n",
       "      <td>Manual</td>\n",
       "      <td>38061</td>\n",
       "      <td>Diesel</td>\n",
       "      <td>1</td>\n",
       "      <td>2012</td>\n",
       "      <td>292299</td>\n",
       "    </tr>\n",
       "    <tr>\n",
       "      <th>1</th>\n",
       "      <td>Maruti</td>\n",
       "      <td>Swift</td>\n",
       "      <td>VXI</td>\n",
       "      <td>Manual</td>\n",
       "      <td>107206</td>\n",
       "      <td>Petrol</td>\n",
       "      <td>1</td>\n",
       "      <td>2014</td>\n",
       "      <td>407299</td>\n",
       "    </tr>\n",
       "    <tr>\n",
       "      <th>2</th>\n",
       "      <td>Maruti</td>\n",
       "      <td>Swift</td>\n",
       "      <td>VDI ABS</td>\n",
       "      <td>Manual</td>\n",
       "      <td>44638</td>\n",
       "      <td>Diesel</td>\n",
       "      <td>1</td>\n",
       "      <td>2015</td>\n",
       "      <td>440899</td>\n",
       "    </tr>\n",
       "    <tr>\n",
       "      <th>3</th>\n",
       "      <td>Maruti</td>\n",
       "      <td>Swift</td>\n",
       "      <td>VDI ABS</td>\n",
       "      <td>Manual</td>\n",
       "      <td>89196</td>\n",
       "      <td>Diesel</td>\n",
       "      <td>1</td>\n",
       "      <td>2015</td>\n",
       "      <td>424299</td>\n",
       "    </tr>\n",
       "    <tr>\n",
       "      <th>4</th>\n",
       "      <td>Maruti</td>\n",
       "      <td>Ritz</td>\n",
       "      <td>VDI</td>\n",
       "      <td>Manual</td>\n",
       "      <td>43382</td>\n",
       "      <td>Diesel</td>\n",
       "      <td>1</td>\n",
       "      <td>2014</td>\n",
       "      <td>340599</td>\n",
       "    </tr>\n",
       "    <tr>\n",
       "      <th>...</th>\n",
       "      <td>...</td>\n",
       "      <td>...</td>\n",
       "      <td>...</td>\n",
       "      <td>...</td>\n",
       "      <td>...</td>\n",
       "      <td>...</td>\n",
       "      <td>...</td>\n",
       "      <td>...</td>\n",
       "      <td>...</td>\n",
       "    </tr>\n",
       "    <tr>\n",
       "      <th>5882</th>\n",
       "      <td>Hyundai</td>\n",
       "      <td>Grand i10</td>\n",
       "      <td>ASTA 1.2 KAPPA VTVT OPT</td>\n",
       "      <td>Manual</td>\n",
       "      <td>112190</td>\n",
       "      <td>Petrol</td>\n",
       "      <td>2</td>\n",
       "      <td>2014</td>\n",
       "      <td>400299</td>\n",
       "    </tr>\n",
       "    <tr>\n",
       "      <th>5883</th>\n",
       "      <td>Maruti</td>\n",
       "      <td>Swift</td>\n",
       "      <td>LXI OPT</td>\n",
       "      <td>Manual</td>\n",
       "      <td>43553</td>\n",
       "      <td>Petrol</td>\n",
       "      <td>1</td>\n",
       "      <td>2017</td>\n",
       "      <td>449699</td>\n",
       "    </tr>\n",
       "    <tr>\n",
       "      <th>5884</th>\n",
       "      <td>Mahindra</td>\n",
       "      <td>Scorpio</td>\n",
       "      <td>S7 140 BHP 2WD</td>\n",
       "      <td>Manual</td>\n",
       "      <td>18656</td>\n",
       "      <td>Diesel</td>\n",
       "      <td>1</td>\n",
       "      <td>2019</td>\n",
       "      <td>1327299</td>\n",
       "    </tr>\n",
       "    <tr>\n",
       "      <th>5885</th>\n",
       "      <td>Hyundai</td>\n",
       "      <td>Creta</td>\n",
       "      <td>1.4 E PLUS CRDI</td>\n",
       "      <td>Manual</td>\n",
       "      <td>90615</td>\n",
       "      <td>Diesel</td>\n",
       "      <td>1</td>\n",
       "      <td>2017</td>\n",
       "      <td>781799</td>\n",
       "    </tr>\n",
       "    <tr>\n",
       "      <th>5886</th>\n",
       "      <td>KIA</td>\n",
       "      <td>SELTOS</td>\n",
       "      <td>HTK 1.5 PETROL</td>\n",
       "      <td>Manual</td>\n",
       "      <td>22066</td>\n",
       "      <td>Petrol</td>\n",
       "      <td>1</td>\n",
       "      <td>2020</td>\n",
       "      <td>1115099</td>\n",
       "    </tr>\n",
       "  </tbody>\n",
       "</table>\n",
       "<p>5886 rows × 9 columns</p>\n",
       "</div>"
      ],
      "text/plain": [
       "       company      model                  variant transmission      km  \\\n",
       "0       Maruti      Swift                      VDI       Manual   38061   \n",
       "1       Maruti      Swift                      VXI       Manual  107206   \n",
       "2       Maruti      Swift                  VDI ABS       Manual   44638   \n",
       "3       Maruti      Swift                  VDI ABS       Manual   89196   \n",
       "4       Maruti       Ritz                      VDI       Manual   43382   \n",
       "...        ...        ...                      ...          ...     ...   \n",
       "5882   Hyundai  Grand i10  ASTA 1.2 KAPPA VTVT OPT       Manual  112190   \n",
       "5883    Maruti      Swift                  LXI OPT       Manual   43553   \n",
       "5884  Mahindra    Scorpio           S7 140 BHP 2WD       Manual   18656   \n",
       "5885   Hyundai      Creta          1.4 E PLUS CRDI       Manual   90615   \n",
       "5886       KIA     SELTOS           HTK 1.5 PETROL       Manual   22066   \n",
       "\n",
       "        fuel  owner  year    PRICE  \n",
       "0     Diesel      1  2012   292299  \n",
       "1     Petrol      1  2014   407299  \n",
       "2     Diesel      1  2015   440899  \n",
       "3     Diesel      1  2015   424299  \n",
       "4     Diesel      1  2014   340599  \n",
       "...      ...    ...   ...      ...  \n",
       "5882  Petrol      2  2014   400299  \n",
       "5883  Petrol      1  2017   449699  \n",
       "5884  Diesel      1  2019  1327299  \n",
       "5885  Diesel      1  2017   781799  \n",
       "5886  Petrol      1  2020  1115099  \n",
       "\n",
       "[5886 rows x 9 columns]"
      ]
     },
     "execution_count": 46,
     "metadata": {},
     "output_type": "execute_result"
    }
   ],
   "source": [
    "df"
   ]
  },
  {
   "cell_type": "code",
   "execution_count": 47,
   "metadata": {},
   "outputs": [],
   "source": [
    "df.drop(['variant'], inplace = True, axis = 1)\n",
    "\n",
    "# as we marked that variant have high no of models and it didn't as much effective so we will drop it."
   ]
  },
  {
   "cell_type": "code",
   "execution_count": 48,
   "metadata": {},
   "outputs": [
    {
     "data": {
      "text/html": [
       "<div>\n",
       "<style scoped>\n",
       "    .dataframe tbody tr th:only-of-type {\n",
       "        vertical-align: middle;\n",
       "    }\n",
       "\n",
       "    .dataframe tbody tr th {\n",
       "        vertical-align: top;\n",
       "    }\n",
       "\n",
       "    .dataframe thead th {\n",
       "        text-align: right;\n",
       "    }\n",
       "</style>\n",
       "<table border=\"1\" class=\"dataframe\">\n",
       "  <thead>\n",
       "    <tr style=\"text-align: right;\">\n",
       "      <th></th>\n",
       "      <th>company</th>\n",
       "      <th>model</th>\n",
       "      <th>transmission</th>\n",
       "      <th>km</th>\n",
       "      <th>fuel</th>\n",
       "      <th>owner</th>\n",
       "      <th>year</th>\n",
       "      <th>PRICE</th>\n",
       "    </tr>\n",
       "  </thead>\n",
       "  <tbody>\n",
       "    <tr>\n",
       "      <th>0</th>\n",
       "      <td>Maruti</td>\n",
       "      <td>Swift</td>\n",
       "      <td>Manual</td>\n",
       "      <td>38061</td>\n",
       "      <td>Diesel</td>\n",
       "      <td>1</td>\n",
       "      <td>2012</td>\n",
       "      <td>292299</td>\n",
       "    </tr>\n",
       "    <tr>\n",
       "      <th>1</th>\n",
       "      <td>Maruti</td>\n",
       "      <td>Swift</td>\n",
       "      <td>Manual</td>\n",
       "      <td>107206</td>\n",
       "      <td>Petrol</td>\n",
       "      <td>1</td>\n",
       "      <td>2014</td>\n",
       "      <td>407299</td>\n",
       "    </tr>\n",
       "    <tr>\n",
       "      <th>2</th>\n",
       "      <td>Maruti</td>\n",
       "      <td>Swift</td>\n",
       "      <td>Manual</td>\n",
       "      <td>44638</td>\n",
       "      <td>Diesel</td>\n",
       "      <td>1</td>\n",
       "      <td>2015</td>\n",
       "      <td>440899</td>\n",
       "    </tr>\n",
       "    <tr>\n",
       "      <th>3</th>\n",
       "      <td>Maruti</td>\n",
       "      <td>Swift</td>\n",
       "      <td>Manual</td>\n",
       "      <td>89196</td>\n",
       "      <td>Diesel</td>\n",
       "      <td>1</td>\n",
       "      <td>2015</td>\n",
       "      <td>424299</td>\n",
       "    </tr>\n",
       "    <tr>\n",
       "      <th>4</th>\n",
       "      <td>Maruti</td>\n",
       "      <td>Ritz</td>\n",
       "      <td>Manual</td>\n",
       "      <td>43382</td>\n",
       "      <td>Diesel</td>\n",
       "      <td>1</td>\n",
       "      <td>2014</td>\n",
       "      <td>340599</td>\n",
       "    </tr>\n",
       "    <tr>\n",
       "      <th>...</th>\n",
       "      <td>...</td>\n",
       "      <td>...</td>\n",
       "      <td>...</td>\n",
       "      <td>...</td>\n",
       "      <td>...</td>\n",
       "      <td>...</td>\n",
       "      <td>...</td>\n",
       "      <td>...</td>\n",
       "    </tr>\n",
       "    <tr>\n",
       "      <th>5882</th>\n",
       "      <td>Hyundai</td>\n",
       "      <td>Grand i10</td>\n",
       "      <td>Manual</td>\n",
       "      <td>112190</td>\n",
       "      <td>Petrol</td>\n",
       "      <td>2</td>\n",
       "      <td>2014</td>\n",
       "      <td>400299</td>\n",
       "    </tr>\n",
       "    <tr>\n",
       "      <th>5883</th>\n",
       "      <td>Maruti</td>\n",
       "      <td>Swift</td>\n",
       "      <td>Manual</td>\n",
       "      <td>43553</td>\n",
       "      <td>Petrol</td>\n",
       "      <td>1</td>\n",
       "      <td>2017</td>\n",
       "      <td>449699</td>\n",
       "    </tr>\n",
       "    <tr>\n",
       "      <th>5884</th>\n",
       "      <td>Mahindra</td>\n",
       "      <td>Scorpio</td>\n",
       "      <td>Manual</td>\n",
       "      <td>18656</td>\n",
       "      <td>Diesel</td>\n",
       "      <td>1</td>\n",
       "      <td>2019</td>\n",
       "      <td>1327299</td>\n",
       "    </tr>\n",
       "    <tr>\n",
       "      <th>5885</th>\n",
       "      <td>Hyundai</td>\n",
       "      <td>Creta</td>\n",
       "      <td>Manual</td>\n",
       "      <td>90615</td>\n",
       "      <td>Diesel</td>\n",
       "      <td>1</td>\n",
       "      <td>2017</td>\n",
       "      <td>781799</td>\n",
       "    </tr>\n",
       "    <tr>\n",
       "      <th>5886</th>\n",
       "      <td>KIA</td>\n",
       "      <td>SELTOS</td>\n",
       "      <td>Manual</td>\n",
       "      <td>22066</td>\n",
       "      <td>Petrol</td>\n",
       "      <td>1</td>\n",
       "      <td>2020</td>\n",
       "      <td>1115099</td>\n",
       "    </tr>\n",
       "  </tbody>\n",
       "</table>\n",
       "<p>5886 rows × 8 columns</p>\n",
       "</div>"
      ],
      "text/plain": [
       "       company      model transmission      km    fuel  owner  year    PRICE\n",
       "0       Maruti      Swift       Manual   38061  Diesel      1  2012   292299\n",
       "1       Maruti      Swift       Manual  107206  Petrol      1  2014   407299\n",
       "2       Maruti      Swift       Manual   44638  Diesel      1  2015   440899\n",
       "3       Maruti      Swift       Manual   89196  Diesel      1  2015   424299\n",
       "4       Maruti       Ritz       Manual   43382  Diesel      1  2014   340599\n",
       "...        ...        ...          ...     ...     ...    ...   ...      ...\n",
       "5882   Hyundai  Grand i10       Manual  112190  Petrol      2  2014   400299\n",
       "5883    Maruti      Swift       Manual   43553  Petrol      1  2017   449699\n",
       "5884  Mahindra    Scorpio       Manual   18656  Diesel      1  2019  1327299\n",
       "5885   Hyundai      Creta       Manual   90615  Diesel      1  2017   781799\n",
       "5886       KIA     SELTOS       Manual   22066  Petrol      1  2020  1115099\n",
       "\n",
       "[5886 rows x 8 columns]"
      ]
     },
     "execution_count": 48,
     "metadata": {},
     "output_type": "execute_result"
    }
   ],
   "source": [
    "df"
   ]
  },
  {
   "cell_type": "code",
   "execution_count": 49,
   "metadata": {},
   "outputs": [],
   "source": [
    "from sklearn.preprocessing import LabelEncoder\n",
    "\n",
    "le = LabelEncoder()\n",
    "df[\"company\"]= le.fit_transform(df[\"company\"])\n",
    "df[\"model\"]= le.fit_transform(df[\"model\"])\n",
    "df[\"transmission\"]= le.fit_transform(df[\"transmission\"])\n",
    "df[\"fuel\"]= le.fit_transform(df[\"fuel\"])"
   ]
  },
  {
   "cell_type": "code",
   "execution_count": 50,
   "metadata": {},
   "outputs": [
    {
     "data": {
      "text/plain": [
       "company         int32\n",
       "model           int32\n",
       "transmission    int32\n",
       "km              int32\n",
       "fuel            int32\n",
       "owner           int64\n",
       "year            int32\n",
       "PRICE           int32\n",
       "dtype: object"
      ]
     },
     "execution_count": 50,
     "metadata": {},
     "output_type": "execute_result"
    }
   ],
   "source": [
    "df.dtypes"
   ]
  },
  {
   "cell_type": "code",
   "execution_count": 51,
   "metadata": {},
   "outputs": [
    {
     "data": {
      "text/plain": [
       "<matplotlib.axes._subplots.AxesSubplot at 0x2995cef5730>"
      ]
     },
     "execution_count": 51,
     "metadata": {},
     "output_type": "execute_result"
    },
    {
     "data": {
      "image/png": "[encoded data removed]",
      "text/plain": [
       "<Figure size 864x432 with 2 Axes>"
      ]
     },
     "metadata": {
      "needs_background": "light"
     },
     "output_type": "display_data"
    }
   ],
   "source": [
    "plt.figure(figsize=(12,6))\n",
    "sns.heatmap(df.corr(),annot = True,linecolor=\"black\")"
   ]
  },
  {
   "cell_type": "markdown",
   "metadata": {},
   "source": [
    "### OUTLIER REMOVAL:"
   ]
  },
  {
   "cell_type": "code",
   "execution_count": 52,
   "metadata": {},
   "outputs": [
    {
     "name": "stdout",
     "output_type": "stream",
     "text": [
      "(5886, 8)\n",
      "(5564, 8)\n"
     ]
    }
   ],
   "source": [
    "from scipy.stats import zscore\n",
    "\n",
    "#di=df.columns\n",
    "z_score=zscore(df)\n",
    "print(df.shape)\n",
    "df_1=df.loc[(z_score<3).all(axis=1)]\n",
    "print(df_1.shape)\n",
    "\n",
    "#We had 250 near ourliers, which we removed using Z-score technique"
   ]
  },
  {
   "cell_type": "markdown",
   "metadata": {},
   "source": [
    "### SKEWNESS REMOVAL:"
   ]
  },
  {
   "cell_type": "code",
   "execution_count": 53,
   "metadata": {},
   "outputs": [
    {
     "data": {
      "text/plain": [
       "company        -0.088915\n",
       "model           0.208749\n",
       "transmission   -1.972578\n",
       "km              0.945660\n",
       "fuel           -0.568306\n",
       "owner           1.772654\n",
       "year           -0.444863\n",
       "PRICE           1.102665\n",
       "dtype: float64"
      ]
     },
     "execution_count": 53,
     "metadata": {},
     "output_type": "execute_result"
    }
   ],
   "source": [
    "df_1.skew()"
   ]
  },
  {
   "cell_type": "code",
   "execution_count": 54,
   "metadata": {},
   "outputs": [],
   "source": [
    "from scipy.stats import boxcox\n",
    "\n",
    "for col in df_1:\n",
    "    if df_1[col].skew()>=1.6:\n",
    "        df_1[col]=np.cbrt(df_1[col]) \n",
    "    if df_1[col].skew()<= -1.8:\n",
    "        df_1[col]=np.power(df_1[col],2)\n"
   ]
  },
  {
   "cell_type": "code",
   "execution_count": 55,
   "metadata": {},
   "outputs": [
    {
     "data": {
      "text/plain": [
       "company        -0.088915\n",
       "model           0.208749\n",
       "transmission   -1.810640\n",
       "km              0.945660\n",
       "fuel           -0.568306\n",
       "owner           1.772654\n",
       "year           -0.444863\n",
       "PRICE           1.102665\n",
       "dtype: float64"
      ]
     },
     "execution_count": 55,
     "metadata": {},
     "output_type": "execute_result"
    }
   ],
   "source": [
    "df_1.skew()"
   ]
  },
  {
   "cell_type": "markdown",
   "metadata": {},
   "source": [
    "OUR DATA LOOKS READY FOR FURTHER PROCESSING, NOW WE WILL SPLIT TARGET VARIABLE AND PROCEED. WE WILL ALSO GO FOR SCALE REDUCING FOR BETTER ACCURACY"
   ]
  },
  {
   "cell_type": "code",
   "execution_count": 56,
   "metadata": {},
   "outputs": [],
   "source": [
    "feature_cols = ['company', 'model', 'transmission','km','fuel','owner','year']\n",
    "x= df_1[feature_cols]\n",
    "y = df_1.PRICE"
   ]
  },
  {
   "cell_type": "code",
   "execution_count": 57,
   "metadata": {},
   "outputs": [],
   "source": [
    "from sklearn.preprocessing import StandardScaler\n",
    "\n",
    "scaler = StandardScaler()\n",
    "x_scaled = scaler.fit_transform(x)\n"
   ]
  },
  {
   "cell_type": "code",
   "execution_count": 58,
   "metadata": {},
   "outputs": [],
   "source": [
    "from sklearn.model_selection import train_test_split\n",
    "\n",
    "x_train, x_test,y_train,y_test = train_test_split(x_scaled,y,test_size=.25,random_state = 50) "
   ]
  },
  {
   "cell_type": "markdown",
   "metadata": {},
   "source": [
    "from sklearn.linear_model import LinearRegression\n",
    "lm = LinearRegression()\n",
    "lm.fit(x_train,y_train)\n",
    "Y_pred = lm.predict(x_test)\n",
    "Y_pred= Y_pred.reshape(-1,1)\n",
    "acc_reg = round(lm.score(x_train, y_train) * 100, 2)\n",
    "acc_reg"
   ]
  },
  {
   "cell_type": "code",
   "execution_count": 59,
   "metadata": {},
   "outputs": [
    {
     "name": "stdout",
     "output_type": "stream",
     "text": [
      "At random state 491 score is best\n",
      "Train score 42.99534311010832\n",
      "Test Score 0.4299545312666516\n"
     ]
    }
   ],
   "source": [
    "for i in range(1,500):\n",
    "    x_train,x_test,y_train,y_test=train_test_split(x_scaled,y,test_size=0.20,random_state=i)\n",
    "    ln=LinearRegression()\n",
    "    ln.fit(x_train,y_train)\n",
    "    if round(ln.score(x_train,y_train)*100,2)==round(ln.score(x_test,y_test)*100,2):\n",
    "        print('At random state',i,'score is best')\n",
    "        print('Train score',ln.score(x_train,y_train)*100)\n",
    "        print('Test Score',ln.score(x_test,y_test))"
   ]
  },
  {
   "cell_type": "markdown",
   "metadata": {},
   "source": [
    "### LINEAR REGRESSION"
   ]
  },
  {
   "cell_type": "code",
   "execution_count": 60,
   "metadata": {},
   "outputs": [
    {
     "name": "stdout",
     "output_type": "stream",
     "text": [
      "Train Score 42.31959995936838\n",
      "Testing:- 45.860689206319826\n",
      "Error\n",
      "MAE 132080.09459654195\n",
      "MSE 30457849365.162426\n",
      "RMSE 174521.77332689014\n",
      "R2 Score 45.860689206319826\n"
     ]
    }
   ],
   "source": [
    "ln=LinearRegression()\n",
    "ln.fit(x_train,y_train)\n",
    "pred=ln.predict(x_test)\n",
    "print('Train Score',ln.score(x_train,y_train)*100)\n",
    "print('Testing:-',ln.score(x_test,y_test)*100)\n",
    "print('Error')\n",
    "print('MAE',mean_absolute_error(y_test,pred))\n",
    "print('MSE',mean_squared_error(y_test,pred))\n",
    "print('RMSE',np.sqrt(mean_squared_error(y_test,pred)))\n",
    "print('R2 Score',r2_score(y_test,pred)*100)"
   ]
  },
  {
   "cell_type": "markdown",
   "metadata": {},
   "source": [
    "### IMPORT THE MODEL"
   ]
  },
  {
   "cell_type": "code",
   "execution_count": 61,
   "metadata": {},
   "outputs": [],
   "source": [
    "from sklearn.tree import DecisionTreeRegressor\n",
    "from sklearn.svm import SVR\n",
    "from sklearn.neighbors import KNeighborsRegressor\n",
    "from sklearn import metrics\n",
    "from sklearn import ensemble\n",
    "from sklearn.utils import shuffle\n",
    "from sklearn.metrics import mean_squared_error, r2_score\n"
   ]
  },
  {
   "cell_type": "code",
   "execution_count": 62,
   "metadata": {},
   "outputs": [],
   "source": [
    "dtr=DecisionTreeRegressor()\n",
    "svr=SVR()\n",
    "svrl=SVR(kernel='linear')\n",
    "kn=KNeighborsRegressor(n_neighbors=5)"
   ]
  },
  {
   "cell_type": "markdown",
   "metadata": {},
   "source": [
    "Define function for model prediction"
   ]
  },
  {
   "cell_type": "code",
   "execution_count": 63,
   "metadata": {},
   "outputs": [],
   "source": [
    "def fun(f):\n",
    "    f.fit(x_train,y_train)\n",
    "    pred=f.predict(x_test)\n",
    "    print('TRAINING:-',f.score(x_train,y_train)*100)\n",
    "    print('Testing:-',f.score(x_test,y_test)*100)\n",
    "    print('MAE',mean_absolute_error(y_test,pred))\n",
    "    print('MSE',mean_squared_error(y_test,pred))\n",
    "    print('RMSE',np.sqrt(mean_squared_error(y_test,pred)))\n",
    "    print('R2 Score',r2_score(y_test,pred)*100)"
   ]
  },
  {
   "cell_type": "markdown",
   "metadata": {},
   "source": [
    "### DECISION TREE REGRESSOR"
   ]
  },
  {
   "cell_type": "code",
   "execution_count": 64,
   "metadata": {},
   "outputs": [
    {
     "name": "stdout",
     "output_type": "stream",
     "text": [
      "DecisionTreeRegressor\n",
      "Training Score:- 100.0\n",
      "Testing:- 92.2475338648855\n",
      "MAE 28226.95327942498\n",
      "MSE 4361404722.1931715\n",
      "RMSE 66040.93217235181\n",
      "R2 Score 92.2475338648855\n"
     ]
    }
   ],
   "source": [
    "dtr.fit(x_train,y_train)\n",
    "preddtr=dtr.predict(x_test)\n",
    "print(\"DecisionTreeRegressor\")\n",
    "print('Training Score:-',dtr.score(x_train,y_train)*100)\n",
    "print('Testing:-',dtr.score(x_test,y_test)*100)\n",
    "print('MAE',mean_absolute_error(y_test,preddtr))\n",
    "print('MSE',mean_squared_error(y_test,preddtr))\n",
    "print('RMSE',np.sqrt(mean_squared_error(y_test,preddtr)))\n",
    "print('R2 Score',r2_score(y_test,preddtr)*100)"
   ]
  },
  {
   "cell_type": "code",
   "execution_count": 65,
   "metadata": {},
   "outputs": [],
   "source": [
    "dtr_pred = dtr.predict(x_test)\n",
    "dtr_pred= dtr_pred.reshape(-1,1)"
   ]
  },
  {
   "cell_type": "code",
   "execution_count": 66,
   "metadata": {},
   "outputs": [
    {
     "data": {
      "image/png": "[encoded data removed]",
      "text/plain": [
       "<Figure size 576x288 with 1 Axes>"
      ]
     },
     "metadata": {
      "needs_background": "light"
     },
     "output_type": "display_data"
    }
   ],
   "source": [
    "plt.figure(figsize=(8,4))\n",
    "plt.scatter(y_test,dtr_pred,c='green')\n",
    "plt.xlabel('Y Test')\n",
    "plt.ylabel('Predicted Y')\n",
    "plt.show()\n"
   ]
  },
  {
   "cell_type": "markdown",
   "metadata": {},
   "source": [
    "### SUPPORT VECTOR REGRESSOR"
   ]
  },
  {
   "cell_type": "code",
   "execution_count": 67,
   "metadata": {},
   "outputs": [
    {
     "name": "stdout",
     "output_type": "stream",
     "text": [
      "TRAINING:- -5.235195119104086\n",
      "Testing:- -5.791439547603261\n",
      "MAE 178718.9196694675\n",
      "MSE 59516452696.34132\n",
      "RMSE 243959.9407614728\n",
      "R2 Score -5.791439547603261\n"
     ]
    }
   ],
   "source": [
    "fun(svr)"
   ]
  },
  {
   "cell_type": "code",
   "execution_count": 68,
   "metadata": {},
   "outputs": [
    {
     "data": {
      "image/png": "[encoded data removed]",
      "text/plain": [
       "<Figure size 576x288 with 1 Axes>"
      ]
     },
     "metadata": {
      "needs_background": "light"
     },
     "output_type": "display_data"
    }
   ],
   "source": [
    "svr_pred = svr.predict(x_test)\n",
    "svr_pred= svr_pred.reshape(-1,1)\n",
    "plt.figure(figsize=(8,4))\n",
    "plt.scatter(y_test,svr_pred, c='red')\n",
    "plt.xlabel('Y Test')\n",
    "plt.ylabel('Predicted Y')\n",
    "plt.show()"
   ]
  },
  {
   "cell_type": "markdown",
   "metadata": {},
   "source": [
    "### KNN"
   ]
  },
  {
   "cell_type": "code",
   "execution_count": 69,
   "metadata": {},
   "outputs": [
    {
     "name": "stdout",
     "output_type": "stream",
     "text": [
      "TRAINING:- 85.59647451934245\n",
      "Testing:- 80.25860723269334\n",
      "MAE 69285.9469901168\n",
      "MSE 11106169590.088736\n",
      "RMSE 105385.81303993786\n",
      "R2 Score 80.25860723269334\n"
     ]
    }
   ],
   "source": [
    "fun(kn)"
   ]
  },
  {
   "cell_type": "code",
   "execution_count": 70,
   "metadata": {},
   "outputs": [
    {
     "data": {
      "image/png": "[encoded data removed]",
      "text/plain": [
       "<Figure size 576x288 with 1 Axes>"
      ]
     },
     "metadata": {
      "needs_background": "light"
     },
     "output_type": "display_data"
    }
   ],
   "source": [
    "kn_pred = kn.predict(x_test)\n",
    "plt.figure(figsize=(8,4))\n",
    "plt.scatter(y_test,kn_pred, c='red')\n",
    "plt.xlabel('Y Test')\n",
    "plt.ylabel('Predicted Y')\n",
    "plt.show()"
   ]
  },
  {
   "cell_type": "markdown",
   "metadata": {},
   "source": [
    "### RANDOM FOREST REGRESSOR"
   ]
  },
  {
   "cell_type": "code",
   "execution_count": 71,
   "metadata": {},
   "outputs": [
    {
     "name": "stdout",
     "output_type": "stream",
     "text": [
      "TRAINING:- 98.92353827722972\n",
      "Testing:- 93.19942506148993\n",
      "MAE 34295.78230008985\n",
      "MSE 3825887031.7539663\n",
      "RMSE 61853.75519525041\n",
      "R2 Score 93.19942506148993\n"
     ]
    }
   ],
   "source": [
    "from sklearn.ensemble import RandomForestRegressor\n",
    "rd=RandomForestRegressor()\n",
    "fun(rd)"
   ]
  },
  {
   "cell_type": "code",
   "execution_count": 72,
   "metadata": {},
   "outputs": [
    {
     "data": {
      "image/png": "[encoded data removed]",
      "text/plain": [
       "<Figure size 576x288 with 1 Axes>"
      ]
     },
     "metadata": {
      "needs_background": "light"
     },
     "output_type": "display_data"
    }
   ],
   "source": [
    "rd_pred= rd.predict(x_test)\n",
    "rd_pred = rd_pred.reshape(-1,1)\n",
    "plt.figure(figsize=(8,4))\n",
    "plt.scatter(y_test,rd_pred, c='orange')\n",
    "plt.xlabel('Y Test')\n",
    "plt.ylabel('Predicted Y')\n",
    "plt.show()"
   ]
  },
  {
   "cell_type": "markdown",
   "metadata": {},
   "source": [
    "### ADABOOST REGRESSOR"
   ]
  },
  {
   "cell_type": "code",
   "execution_count": 73,
   "metadata": {},
   "outputs": [
    {
     "name": "stdout",
     "output_type": "stream",
     "text": [
      "TRAINING:- 40.004264013752575\n",
      "Testing:- 41.60259497165298\n",
      "MAE 150925.36098697747\n",
      "MSE 32853380281.25397\n",
      "RMSE 181255.01449961038\n",
      "R2 Score 41.60259497165298\n"
     ]
    }
   ],
   "source": [
    "from sklearn.ensemble import AdaBoostRegressor\n",
    "ad=AdaBoostRegressor()\n",
    "fun(ad)"
   ]
  },
  {
   "cell_type": "code",
   "execution_count": 74,
   "metadata": {},
   "outputs": [
    {
     "data": {
      "image/png": "[encoded data removed]",
      "text/plain": [
       "<Figure size 576x288 with 1 Axes>"
      ]
     },
     "metadata": {
      "needs_background": "light"
     },
     "output_type": "display_data"
    }
   ],
   "source": [
    "ad_pred= ad.predict(x_test)\n",
    "ad_pred = ad_pred.reshape(-1,1)\n",
    "plt.figure(figsize=(8,4))\n",
    "plt.scatter(y_test,ad_pred, c='orange')\n",
    "plt.xlabel('Y Test')\n",
    "plt.ylabel('Predicted Y')\n",
    "plt.show()"
   ]
  },
  {
   "cell_type": "markdown",
   "metadata": {},
   "source": [
    "### GRADIENTBOOST REGRESSOR"
   ]
  },
  {
   "cell_type": "code",
   "execution_count": 75,
   "metadata": {},
   "outputs": [
    {
     "name": "stdout",
     "output_type": "stream",
     "text": [
      "TRAINING:- 83.86161667777735\n",
      "Testing:- 84.41122196216179\n",
      "MAE 68023.1463118856\n",
      "MSE 8769979637.769112\n",
      "RMSE 93648.16943095638\n",
      "R2 Score 84.41122196216179\n"
     ]
    }
   ],
   "source": [
    "from sklearn.ensemble import GradientBoostingRegressor\n",
    "gd=GradientBoostingRegressor()\n",
    "fun(gd)"
   ]
  },
  {
   "cell_type": "code",
   "execution_count": 76,
   "metadata": {},
   "outputs": [
    {
     "data": {
      "image/png": "[encoded data removed]",
      "text/plain": [
       "<Figure size 576x288 with 1 Axes>"
      ]
     },
     "metadata": {
      "needs_background": "light"
     },
     "output_type": "display_data"
    }
   ],
   "source": [
    "gd_pred= gd.predict(x_test)\n",
    "gd_pred = gd_pred.reshape(-1,1)\n",
    "plt.figure(figsize=(8,4))\n",
    "plt.scatter(y_test,gd_pred, c='orange')\n",
    "plt.xlabel('Y Test')\n",
    "plt.ylabel('Predicted Y')\n",
    "plt.show()"
   ]
  },
  {
   "cell_type": "code",
   "execution_count": 77,
   "metadata": {},
   "outputs": [],
   "source": [
    "from sklearn.model_selection import GridSearchCV"
   ]
  },
  {
   "cell_type": "code",
   "execution_count": 78,
   "metadata": {},
   "outputs": [],
   "source": [
    "n_estimators = [5,20,50,100] # number of trees in the random forest\n",
    "max_features = ['auto', 'sqrt'] # number of features in consideration at every split\n",
    "max_depth = [int(x) for x in np.linspace(10, 120, num = 12)] # maximum number of levels allowed in each decision tree\n",
    "min_samples_split = [2, 6, 10] # minimum sample number to split a node\n",
    "min_samples_leaf = [1, 3, 4] # minimum sample number that can be stored in a leaf node\n",
    "bootstrap = [True, False] # method used to sample data points\n",
    "\n",
    "random_grid = {'n_estimators': n_estimators,\n",
    "\n",
    "'max_features': max_features,\n",
    "\n",
    "'max_depth': max_depth,\n",
    "\n",
    "'min_samples_split': min_samples_split,\n",
    "\n",
    "'min_samples_leaf': min_samples_leaf,\n",
    "\n",
    "'bootstrap': bootstrap}"
   ]
  },
  {
   "cell_type": "code",
   "execution_count": 79,
   "metadata": {},
   "outputs": [],
   "source": [
    "from sklearn.model_selection import RandomizedSearchCV\n",
    "rf_random = RandomizedSearchCV(estimator = rd,param_distributions = random_grid,\n",
    "               n_iter = 100, cv = 5, verbose=2, random_state=35, n_jobs = -1)"
   ]
  },
  {
   "cell_type": "code",
   "execution_count": 80,
   "metadata": {},
   "outputs": [
    {
     "name": "stdout",
     "output_type": "stream",
     "text": [
      "Fitting 5 folds for each of 100 candidates, totalling 500 fits\n"
     ]
    },
    {
     "name": "stderr",
     "output_type": "stream",
     "text": [
      "[Parallel(n_jobs=-1)]: Using backend LokyBackend with 4 concurrent workers.\n",
      "[Parallel(n_jobs=-1)]: Done  33 tasks      | elapsed:    5.6s\n",
      "[Parallel(n_jobs=-1)]: Done 154 tasks      | elapsed:   29.9s\n",
      "[Parallel(n_jobs=-1)]: Done 357 tasks      | elapsed:  1.0min\n",
      "[Parallel(n_jobs=-1)]: Done 500 out of 500 | elapsed:  1.4min finished\n"
     ]
    },
    {
     "data": {
      "text/plain": [
       "RandomizedSearchCV(cv=5, estimator=RandomForestRegressor(), n_iter=100,\n",
       "                   n_jobs=-1,\n",
       "                   param_distributions={'bootstrap': [True, False],\n",
       "                                        'max_depth': [10, 20, 30, 40, 50, 60,\n",
       "                                                      70, 80, 90, 100, 110,\n",
       "                                                      120],\n",
       "                                        'max_features': ['auto', 'sqrt'],\n",
       "                                        'min_samples_leaf': [1, 3, 4],\n",
       "                                        'min_samples_split': [2, 6, 10],\n",
       "                                        'n_estimators': [5, 20, 50, 100]},\n",
       "                   random_state=35, verbose=2)"
      ]
     },
     "execution_count": 80,
     "metadata": {},
     "output_type": "execute_result"
    }
   ],
   "source": [
    "rf_random.fit(x_train, y_train)"
   ]
  },
  {
   "cell_type": "code",
   "execution_count": 81,
   "metadata": {},
   "outputs": [
    {
     "name": "stdout",
     "output_type": "stream",
     "text": [
      "Random grid:  {'n_estimators': [5, 20, 50, 100], 'max_features': ['auto', 'sqrt'], 'max_depth': [10, 20, 30, 40, 50, 60, 70, 80, 90, 100, 110, 120], 'min_samples_split': [2, 6, 10], 'min_samples_leaf': [1, 3, 4], 'bootstrap': [True, False]} \n",
      "\n",
      "Best Parameters:  {'n_estimators': 20, 'min_samples_split': 2, 'min_samples_leaf': 1, 'max_features': 'sqrt', 'max_depth': 70, 'bootstrap': False}  \n",
      "\n"
     ]
    }
   ],
   "source": [
    "print ('Random grid: ', random_grid, '\\n')\n",
    "# print the best parameters\n",
    "print ('Best Parameters: ', rf_random.best_params_, ' \\n')"
   ]
  },
  {
   "cell_type": "code",
   "execution_count": 82,
   "metadata": {},
   "outputs": [
    {
     "data": {
      "text/plain": [
       "RandomForestRegressor(max_depth=90)"
      ]
     },
     "execution_count": 82,
     "metadata": {},
     "output_type": "execute_result"
    }
   ],
   "source": [
    "randmf = RandomForestRegressor(n_estimators = 100, min_samples_split = 2, min_samples_leaf= 1, max_features = 'auto', max_depth= 90, bootstrap=True) \n",
    "randmf.fit( x_train, y_train) \n"
   ]
  },
  {
   "cell_type": "code",
   "execution_count": 83,
   "metadata": {},
   "outputs": [
    {
     "name": "stdout",
     "output_type": "stream",
     "text": [
      "TRAINING:- 98.91083950268373\n",
      "Testing:- 93.09110485209085\n",
      "MAE 34010.191761006296\n",
      "MSE 3886826127.075168\n",
      "RMSE 62344.415363969594\n",
      "R2 Score 93.09110485209085\n"
     ]
    }
   ],
   "source": [
    "fun(randmf)"
   ]
  },
  {
   "cell_type": "code",
   "execution_count": 84,
   "metadata": {},
   "outputs": [
    {
     "data": {
      "image/png": "[encoded data removed]",
      "text/plain": [
       "<Figure size 576x288 with 1 Axes>"
      ]
     },
     "metadata": {
      "needs_background": "light"
     },
     "output_type": "display_data"
    }
   ],
   "source": [
    "randmf_pred= randmf.predict(x_test)\n",
    "randmf_pred = randmf_pred.reshape(-1,1)\n",
    "plt.figure(figsize=(8,4))\n",
    "plt.scatter(y_test,randmf_pred, c='blue')\n",
    "plt.xlabel('Y Test')\n",
    "plt.ylabel('Predicted Y')\n",
    "plt.show()"
   ]
  },
  {
   "cell_type": "code",
   "execution_count": 85,
   "metadata": {},
   "outputs": [],
   "source": [
    "from sklearn.model_selection import cross_val_score"
   ]
  },
  {
   "cell_type": "code",
   "execution_count": 86,
   "metadata": {},
   "outputs": [
    {
     "name": "stdout",
     "output_type": "stream",
     "text": [
      "score of cross validation score for svr -9.103397753887048\n",
      "score of cross validation score for dtr 85.45532166240305\n",
      "score of cross validation score for rd 91.09792133534376\n",
      "score of cross validation score for Gd 79.43333921462049\n",
      "score of cross validation score for ad 35.18922972134815\n",
      "score of cross validation score for rd hyper 91.43142765547782\n"
     ]
    }
   ],
   "source": [
    "score=cross_val_score(svr,x_scaled,y,cv=5)\n",
    "print(\"score of cross validation score for svr\", score.mean()*100)\n",
    "score=cross_val_score(dtr,x_scaled,y,cv=5)\n",
    "print(\"score of cross validation score for dtr\",score.mean()*100)\n",
    "score=cross_val_score(rd,x_scaled,y,cv=5)\n",
    "print(\"score of cross validation score for rd\",score.mean()*100)\n",
    "score=cross_val_score(gd,x_scaled,y,cv=5)\n",
    "print(\"score of cross validation score for Gd\",score.mean()*100)\n",
    "score=cross_val_score(ad,x_scaled,y,cv=4)\n",
    "print(\"score of cross validation score for ad\",score.mean()*100)\n",
    "score=cross_val_score(randmf,x_scaled,y,cv=4)\n",
    "print('score of cross validation score for rd hyper',score.mean()*100)"
   ]
  },
  {
   "cell_type": "markdown",
   "metadata": {},
   "source": [
    "### MODEL SELECTION"
   ]
  },
  {
   "cell_type": "markdown",
   "metadata": {},
   "source": [
    "1) We got 91% accuracy in Random forest and we increase it by 0.5% using hyper parameter tuning.\n",
    "\n",
    "2) we have higher R2 score also in Random forest model so we will conclude it as our best fit model."
   ]
  },
  {
   "cell_type": "code",
   "execution_count": 87,
   "metadata": {},
   "outputs": [],
   "source": [
    "import pickle\n",
    "filename='carpricepred.pkl'\n",
    "pickle.dump(randmf,open(filename,'wb'))"
   ]
  },
  {
   "cell_type": "code",
   "execution_count": 88,
   "metadata": {},
   "outputs": [
    {
     "name": "stdout",
     "output_type": "stream",
     "text": [
      "       Actual    Predict\n",
      "862    666999   679755.0\n",
      "1713   626099   582685.0\n",
      "193    462199   446220.0\n",
      "4309  1119199  1116988.0\n",
      "1527   464199   430178.0\n",
      "...       ...        ...\n",
      "4118   327399   333905.0\n",
      "4787   563499   609378.0\n",
      "4073   357899   373191.0\n",
      "3624   829099   878874.0\n",
      "4420   546599   538544.0\n",
      "\n",
      "[1113 rows x 2 columns]\n"
     ]
    },
    {
     "data": {
      "text/plain": [
       "Text(0.5, 1.0, 'Regressor Line')"
      ]
     },
     "execution_count": 88,
     "metadata": {},
     "output_type": "execute_result"
    },
    {
     "data": {
      "image/png": "[encoded data removed]",
      "text/plain": [
       "<Figure size 432x288 with 1 Axes>"
      ]
     },
     "metadata": {
      "needs_background": "light"
     },
     "output_type": "display_data"
    }
   ],
   "source": [
    "res=pd.DataFrame()\n",
    "res['Actual']=y_test\n",
    "res['Predict']=randmf_pred\n",
    "\n",
    "res\n",
    "\n",
    "print(res)\n",
    "sns.regplot(y_test,randmf_pred)\n",
    "plt.title('Regressor Line')"
   ]
  },
  {
   "cell_type": "markdown",
   "metadata": {},
   "source": [
    "CONCLUSION:\n",
    "    \n",
    "    From above graph, we can visulise that we get best fit model and good price prediciton here."
   ]
  },
  {
   "cell_type": "markdown",
   "metadata": {},
   "source": [
    "# ------------------------------------------THANK YOU---------------------------------------------------"
   ]
  },
  {
   "cell_type": "code",
   "execution_count": null,
   "metadata": {},
   "outputs": [],
   "source": []
  }
 ],
 "metadata": {
  "kernelspec": {
   "display_name": "Python 3",
   "language": "python",
   "name": "python3"
  },
  "language_info": {
   "codemirror_mode": {
    "name": "ipython",
    "version": 3
   },
   "file_extension": ".py",
   "mimetype": "text/x-python",
   "name": "python",
   "nbconvert_exporter": "python",
   "pygments_lexer": "ipython3",
   "version": "3.8.3"
  }
 },
 "nbformat": 4,
 "nbformat_minor": 4
}
