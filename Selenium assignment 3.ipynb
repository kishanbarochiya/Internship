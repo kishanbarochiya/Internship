{
 "cells": [
  {
   "cell_type": "code",
   "execution_count": 1,
   "metadata": {},
   "outputs": [
    {
     "name": "stderr",
     "output_type": "stream",
     "text": [
      "C:\\Users\\Kishan\\anaconda3\\lib\\site-packages\\requests\\__init__.py:89: RequestsDependencyWarning: urllib3 (1.26.7) or chardet (3.0.4) doesn't match a supported version!\n",
      "  warnings.warn(\"urllib3 ({}) or chardet ({}) doesn't match a supported \"\n"
     ]
    }
   ],
   "source": [
    "import selenium\n",
    "import pandas as pd\n",
    "from selenium import webdriver\n",
    "import time\n",
    "import requests"
   ]
  },
  {
   "cell_type": "code",
   "execution_count": 2,
   "metadata": {},
   "outputs": [
    {
     "name": "stderr",
     "output_type": "stream",
     "text": [
      "<ipython-input-2-f46ce365acd5>:1: DeprecationWarning: executable_path has been deprecated, please pass in a Service object\n",
      "  driver1=webdriver.Chrome('C:/Users/Kishan/Downloads/chromedriver_win32/chromedriver.exe')\n"
     ]
    }
   ],
   "source": [
    "driver1=webdriver.Chrome('C:/Users/Kishan/Downloads/chromedriver_win32/chromedriver.exe')\n",
    "url='https://www.amazon.in/'\n",
    "driver1.get(url)"
   ]
  },
  {
   "cell_type": "code",
   "execution_count": 3,
   "metadata": {},
   "outputs": [
    {
     "name": "stderr",
     "output_type": "stream",
     "text": [
      "<ipython-input-3-63cf727b0b97>:1: DeprecationWarning: find_element_by_* commands are deprecated. Please use find_element() instead\n",
      "  search=driver1.find_element_by_id('twotabsearchtextbox')\n"
     ]
    }
   ],
   "source": [
    "search=driver1.find_element_by_id('twotabsearchtextbox')\n",
    "search.send_keys('guitar')"
   ]
  },
  {
   "cell_type": "code",
   "execution_count": 4,
   "metadata": {},
   "outputs": [
    {
     "name": "stderr",
     "output_type": "stream",
     "text": [
      "<ipython-input-4-3bcb79d5a235>:1: DeprecationWarning: find_element_by_* commands are deprecated. Please use find_element() instead\n",
      "  button=driver1.find_element_by_id('nav-search-submit-button').click()\n"
     ]
    }
   ],
   "source": [
    "button=driver1.find_element_by_id('nav-search-submit-button').click()"
   ]
  },
  {
   "cell_type": "markdown",
   "metadata": {},
   "source": [
    "QUESTION 2"
   ]
  },
  {
   "cell_type": "code",
   "execution_count": 5,
   "metadata": {},
   "outputs": [
    {
     "name": "stderr",
     "output_type": "stream",
     "text": [
      "<ipython-input-5-e52c2754a323>:6: DeprecationWarning: find_elements_by_* commands are deprecated. Please use find_elements() instead\n",
      "  url_tag=driver1.find_elements_by_xpath(\"//h2[@class='a-size-mini a-spacing-none a-color-base s-line-clamp-4']/a[1]\")\n"
     ]
    },
    {
     "data": {
      "text/plain": [
       "180"
      ]
     },
     "execution_count": 5,
     "metadata": {},
     "output_type": "execute_result"
    }
   ],
   "source": [
    "Url1=[]\n",
    "\n",
    "for i in range(0,3):\n",
    "    pg='https://www.amazon.in/s?k=guitar&ref=nb_sb_noss'+str(i)\n",
    "    driver1.get(pg)\n",
    "    url_tag=driver1.find_elements_by_xpath(\"//h2[@class='a-size-mini a-spacing-none a-color-base s-line-clamp-4']/a[1]\")\n",
    "    for j in url_tag:\n",
    "        Url1.append(j.get_attribute('href'))\n",
    "\n",
    "len(Url1)"
   ]
  },
  {
   "cell_type": "code",
   "execution_count": 6,
   "metadata": {},
   "outputs": [
    {
     "name": "stderr",
     "output_type": "stream",
     "text": [
      "<ipython-input-6-046d3a11a9b8>:6: DeprecationWarning: find_element_by_* commands are deprecated. Please use find_element() instead\n",
      "  bn=driver1.find_element_by_xpath(\"//span[@class='a-size-large product-title-word-break']\")\n"
     ]
    },
    {
     "data": {
      "text/plain": [
       "180"
      ]
     },
     "execution_count": 6,
     "metadata": {},
     "output_type": "execute_result"
    }
   ],
   "source": [
    "Brand_Name=[]\n",
    "\n",
    "for i in Url1:\n",
    "    driver1.get(i)\n",
    "    time.sleep(1)\n",
    "    bn=driver1.find_element_by_xpath(\"//span[@class='a-size-large product-title-word-break']\")\n",
    "    Brand_Name.append(bn.text)\n",
    "    \n",
    "len(Brand_Name)"
   ]
  },
  {
   "cell_type": "code",
   "execution_count": 8,
   "metadata": {},
   "outputs": [
    {
     "name": "stderr",
     "output_type": "stream",
     "text": [
      "<ipython-input-8-5f14387118b4>:8: DeprecationWarning: find_element_by_* commands are deprecated. Please use find_element() instead\n",
      "  rt=driver1.find_element_by_xpath(\"//div[@class='a-section a-spacing-none a-spacing-top-mini cr-widget-ACR']/div[2]/span[1]\")\n"
     ]
    }
   ],
   "source": [
    "Rating=[]\n",
    "No_Of_Rating=[]\n",
    "\n",
    "for i in Url1:\n",
    "    driver1.get(i)\n",
    "    time.sleep(1)\n",
    "    try:\n",
    "        rt=driver1.find_element_by_xpath(\"//div[@class='a-section a-spacing-none a-spacing-top-mini cr-widget-ACR']/div[2]/span[1]\")\n",
    "        Rating.append(rt.text)\n",
    "    except:\n",
    "        Rating.append(\"-\")"
   ]
  },
  {
   "cell_type": "code",
   "execution_count": 10,
   "metadata": {},
   "outputs": [
    {
     "name": "stderr",
     "output_type": "stream",
     "text": [
      "<ipython-input-10-59d3ef38e95f>:12: DeprecationWarning: find_element_by_* commands are deprecated. Please use find_element() instead\n",
      "  pr=driver1.find_element_by_xpath(\"//span[@class='a-size-medium a-color-price priceBlockBuyingPriceString']\")\n"
     ]
    },
    {
     "ename": "NoSuchElementException",
     "evalue": "Message: no such element: Unable to locate element: {\"method\":\"xpath\",\"selector\":\"//span[@class='a-size-medium a-color-price priceBlockBuyingPriceString']\"}\n  (Session info: chrome=96.0.4664.110)\nStacktrace:\nBacktrace:\n\tOrdinal0 [0x002D6903+2517251]\n\tOrdinal0 [0x0026F8E1+2095329]\n\tOrdinal0 [0x00172848+1058888]\n\tOrdinal0 [0x0019D448+1233992]\n\tOrdinal0 [0x0019D63B+1234491]\n\tOrdinal0 [0x001C7812+1406994]\n\tOrdinal0 [0x001B650A+1336586]\n\tOrdinal0 [0x001C5BBF+1399743]\n\tOrdinal0 [0x001B639B+1336219]\n\tOrdinal0 [0x001927A7+1189799]\n\tOrdinal0 [0x00193609+1193481]\n\tGetHandleVerifier [0x00465904+1577972]\n\tGetHandleVerifier [0x00510B97+2279047]\n\tGetHandleVerifier [0x00366D09+534521]\n\tGetHandleVerifier [0x00365DB9+530601]\n\tOrdinal0 [0x00274FF9+2117625]\n\tOrdinal0 [0x002798A8+2136232]\n\tOrdinal0 [0x002799E2+2136546]\n\tOrdinal0 [0x00283541+2176321]\n\tBaseThreadInitThunk [0x7657FA29+25]\n\tRtlGetAppContainerNamedObjectPath [0x776C7A9E+286]\n\tRtlGetAppContainerNamedObjectPath [0x776C7A6E+238]\n\t(No symbol) [0x00000000]\n",
     "output_type": "error",
     "traceback": [
      "\u001b[1;31m---------------------------------------------------------------------------\u001b[0m",
      "\u001b[1;31mNoSuchElementException\u001b[0m                    Traceback (most recent call last)",
      "\u001b[1;32m<ipython-input-10-59d3ef38e95f>\u001b[0m in \u001b[0;36m<module>\u001b[1;34m\u001b[0m\n\u001b[0;32m     10\u001b[0m     \u001b[0mdriver1\u001b[0m\u001b[1;33m.\u001b[0m\u001b[0mget\u001b[0m\u001b[1;33m(\u001b[0m\u001b[0mi\u001b[0m\u001b[1;33m)\u001b[0m\u001b[1;33m\u001b[0m\u001b[1;33m\u001b[0m\u001b[0m\n\u001b[0;32m     11\u001b[0m     \u001b[0mtime\u001b[0m\u001b[1;33m.\u001b[0m\u001b[0msleep\u001b[0m\u001b[1;33m(\u001b[0m\u001b[1;36m2\u001b[0m\u001b[1;33m)\u001b[0m\u001b[1;33m\u001b[0m\u001b[1;33m\u001b[0m\u001b[0m\n\u001b[1;32m---> 12\u001b[1;33m     \u001b[0mpr\u001b[0m\u001b[1;33m=\u001b[0m\u001b[0mdriver1\u001b[0m\u001b[1;33m.\u001b[0m\u001b[0mfind_element_by_xpath\u001b[0m\u001b[1;33m(\u001b[0m\u001b[1;34m\"//span[@class='a-size-medium a-color-price priceBlockBuyingPriceString']\"\u001b[0m\u001b[1;33m)\u001b[0m\u001b[1;33m\u001b[0m\u001b[1;33m\u001b[0m\u001b[0m\n\u001b[0m\u001b[0;32m     13\u001b[0m     \u001b[0mPrice\u001b[0m\u001b[1;33m.\u001b[0m\u001b[0mappend\u001b[0m\u001b[1;33m(\u001b[0m\u001b[0mpr\u001b[0m\u001b[1;33m.\u001b[0m\u001b[0mtext\u001b[0m\u001b[1;33m)\u001b[0m\u001b[1;33m\u001b[0m\u001b[1;33m\u001b[0m\u001b[0m\n\u001b[0;32m     14\u001b[0m     \u001b[0mdd\u001b[0m\u001b[1;33m=\u001b[0m\u001b[0mdriver1\u001b[0m\u001b[1;33m.\u001b[0m\u001b[0mfind_element_by_xpath\u001b[0m\u001b[1;33m(\u001b[0m\u001b[1;34m\"//div[@class='a-section a-spacing-mini']/b\"\u001b[0m\u001b[1;33m)\u001b[0m\u001b[1;33m\u001b[0m\u001b[1;33m\u001b[0m\u001b[0m\n",
      "\u001b[1;32m~\\anaconda3\\lib\\site-packages\\selenium\\webdriver\\remote\\webdriver.py\u001b[0m in \u001b[0;36mfind_element_by_xpath\u001b[1;34m(self, xpath)\u001b[0m\n\u001b[0;32m    518\u001b[0m             \u001b[0mstacklevel\u001b[0m\u001b[1;33m=\u001b[0m\u001b[1;36m2\u001b[0m\u001b[1;33m,\u001b[0m\u001b[1;33m\u001b[0m\u001b[1;33m\u001b[0m\u001b[0m\n\u001b[0;32m    519\u001b[0m         )\n\u001b[1;32m--> 520\u001b[1;33m         \u001b[1;32mreturn\u001b[0m \u001b[0mself\u001b[0m\u001b[1;33m.\u001b[0m\u001b[0mfind_element\u001b[0m\u001b[1;33m(\u001b[0m\u001b[0mby\u001b[0m\u001b[1;33m=\u001b[0m\u001b[0mBy\u001b[0m\u001b[1;33m.\u001b[0m\u001b[0mXPATH\u001b[0m\u001b[1;33m,\u001b[0m \u001b[0mvalue\u001b[0m\u001b[1;33m=\u001b[0m\u001b[0mxpath\u001b[0m\u001b[1;33m)\u001b[0m\u001b[1;33m\u001b[0m\u001b[1;33m\u001b[0m\u001b[0m\n\u001b[0m\u001b[0;32m    521\u001b[0m \u001b[1;33m\u001b[0m\u001b[0m\n\u001b[0;32m    522\u001b[0m     \u001b[1;32mdef\u001b[0m \u001b[0mfind_elements_by_xpath\u001b[0m\u001b[1;33m(\u001b[0m\u001b[0mself\u001b[0m\u001b[1;33m,\u001b[0m \u001b[0mxpath\u001b[0m\u001b[1;33m)\u001b[0m \u001b[1;33m->\u001b[0m \u001b[0mWebElement\u001b[0m\u001b[1;33m:\u001b[0m\u001b[1;33m\u001b[0m\u001b[1;33m\u001b[0m\u001b[0m\n",
      "\u001b[1;32m~\\anaconda3\\lib\\site-packages\\selenium\\webdriver\\remote\\webdriver.py\u001b[0m in \u001b[0;36mfind_element\u001b[1;34m(self, by, value)\u001b[0m\n\u001b[0;32m   1242\u001b[0m             \u001b[0mvalue\u001b[0m \u001b[1;33m=\u001b[0m \u001b[1;34m'[name=\"%s\"]'\u001b[0m \u001b[1;33m%\u001b[0m \u001b[0mvalue\u001b[0m\u001b[1;33m\u001b[0m\u001b[1;33m\u001b[0m\u001b[0m\n\u001b[0;32m   1243\u001b[0m \u001b[1;33m\u001b[0m\u001b[0m\n\u001b[1;32m-> 1244\u001b[1;33m         return self.execute(Command.FIND_ELEMENT, {\n\u001b[0m\u001b[0;32m   1245\u001b[0m             \u001b[1;34m'using'\u001b[0m\u001b[1;33m:\u001b[0m \u001b[0mby\u001b[0m\u001b[1;33m,\u001b[0m\u001b[1;33m\u001b[0m\u001b[1;33m\u001b[0m\u001b[0m\n\u001b[0;32m   1246\u001b[0m             'value': value})['value']\n",
      "\u001b[1;32m~\\anaconda3\\lib\\site-packages\\selenium\\webdriver\\remote\\webdriver.py\u001b[0m in \u001b[0;36mexecute\u001b[1;34m(self, driver_command, params)\u001b[0m\n\u001b[0;32m    422\u001b[0m         \u001b[0mresponse\u001b[0m \u001b[1;33m=\u001b[0m \u001b[0mself\u001b[0m\u001b[1;33m.\u001b[0m\u001b[0mcommand_executor\u001b[0m\u001b[1;33m.\u001b[0m\u001b[0mexecute\u001b[0m\u001b[1;33m(\u001b[0m\u001b[0mdriver_command\u001b[0m\u001b[1;33m,\u001b[0m \u001b[0mparams\u001b[0m\u001b[1;33m)\u001b[0m\u001b[1;33m\u001b[0m\u001b[1;33m\u001b[0m\u001b[0m\n\u001b[0;32m    423\u001b[0m         \u001b[1;32mif\u001b[0m \u001b[0mresponse\u001b[0m\u001b[1;33m:\u001b[0m\u001b[1;33m\u001b[0m\u001b[1;33m\u001b[0m\u001b[0m\n\u001b[1;32m--> 424\u001b[1;33m             \u001b[0mself\u001b[0m\u001b[1;33m.\u001b[0m\u001b[0merror_handler\u001b[0m\u001b[1;33m.\u001b[0m\u001b[0mcheck_response\u001b[0m\u001b[1;33m(\u001b[0m\u001b[0mresponse\u001b[0m\u001b[1;33m)\u001b[0m\u001b[1;33m\u001b[0m\u001b[1;33m\u001b[0m\u001b[0m\n\u001b[0m\u001b[0;32m    425\u001b[0m             response['value'] = self._unwrap_value(\n\u001b[0;32m    426\u001b[0m                 response.get('value', None))\n",
      "\u001b[1;32m~\\anaconda3\\lib\\site-packages\\selenium\\webdriver\\remote\\errorhandler.py\u001b[0m in \u001b[0;36mcheck_response\u001b[1;34m(self, response)\u001b[0m\n\u001b[0;32m    245\u001b[0m                 \u001b[0malert_text\u001b[0m \u001b[1;33m=\u001b[0m \u001b[0mvalue\u001b[0m\u001b[1;33m[\u001b[0m\u001b[1;34m'alert'\u001b[0m\u001b[1;33m]\u001b[0m\u001b[1;33m.\u001b[0m\u001b[0mget\u001b[0m\u001b[1;33m(\u001b[0m\u001b[1;34m'text'\u001b[0m\u001b[1;33m)\u001b[0m\u001b[1;33m\u001b[0m\u001b[1;33m\u001b[0m\u001b[0m\n\u001b[0;32m    246\u001b[0m             \u001b[1;32mraise\u001b[0m \u001b[0mexception_class\u001b[0m\u001b[1;33m(\u001b[0m\u001b[0mmessage\u001b[0m\u001b[1;33m,\u001b[0m \u001b[0mscreen\u001b[0m\u001b[1;33m,\u001b[0m \u001b[0mstacktrace\u001b[0m\u001b[1;33m,\u001b[0m \u001b[0malert_text\u001b[0m\u001b[1;33m)\u001b[0m  \u001b[1;31m# type: ignore[call-arg]  # mypy is not smart enough here\u001b[0m\u001b[1;33m\u001b[0m\u001b[1;33m\u001b[0m\u001b[0m\n\u001b[1;32m--> 247\u001b[1;33m         \u001b[1;32mraise\u001b[0m \u001b[0mexception_class\u001b[0m\u001b[1;33m(\u001b[0m\u001b[0mmessage\u001b[0m\u001b[1;33m,\u001b[0m \u001b[0mscreen\u001b[0m\u001b[1;33m,\u001b[0m \u001b[0mstacktrace\u001b[0m\u001b[1;33m)\u001b[0m\u001b[1;33m\u001b[0m\u001b[1;33m\u001b[0m\u001b[0m\n\u001b[0m\u001b[0;32m    248\u001b[0m \u001b[1;33m\u001b[0m\u001b[0m\n\u001b[0;32m    249\u001b[0m     \u001b[1;32mdef\u001b[0m \u001b[0m_value_or_default\u001b[0m\u001b[1;33m(\u001b[0m\u001b[0mself\u001b[0m\u001b[1;33m,\u001b[0m \u001b[0mobj\u001b[0m\u001b[1;33m:\u001b[0m \u001b[0mMapping\u001b[0m\u001b[1;33m[\u001b[0m\u001b[0m_KT\u001b[0m\u001b[1;33m,\u001b[0m \u001b[0m_VT\u001b[0m\u001b[1;33m]\u001b[0m\u001b[1;33m,\u001b[0m \u001b[0mkey\u001b[0m\u001b[1;33m:\u001b[0m \u001b[0m_KT\u001b[0m\u001b[1;33m,\u001b[0m \u001b[0mdefault\u001b[0m\u001b[1;33m:\u001b[0m \u001b[0m_VT\u001b[0m\u001b[1;33m)\u001b[0m \u001b[1;33m->\u001b[0m \u001b[0m_VT\u001b[0m\u001b[1;33m:\u001b[0m\u001b[1;33m\u001b[0m\u001b[1;33m\u001b[0m\u001b[0m\n",
      "\u001b[1;31mNoSuchElementException\u001b[0m: Message: no such element: Unable to locate element: {\"method\":\"xpath\",\"selector\":\"//span[@class='a-size-medium a-color-price priceBlockBuyingPriceString']\"}\n  (Session info: chrome=96.0.4664.110)\nStacktrace:\nBacktrace:\n\tOrdinal0 [0x002D6903+2517251]\n\tOrdinal0 [0x0026F8E1+2095329]\n\tOrdinal0 [0x00172848+1058888]\n\tOrdinal0 [0x0019D448+1233992]\n\tOrdinal0 [0x0019D63B+1234491]\n\tOrdinal0 [0x001C7812+1406994]\n\tOrdinal0 [0x001B650A+1336586]\n\tOrdinal0 [0x001C5BBF+1399743]\n\tOrdinal0 [0x001B639B+1336219]\n\tOrdinal0 [0x001927A7+1189799]\n\tOrdinal0 [0x00193609+1193481]\n\tGetHandleVerifier [0x00465904+1577972]\n\tGetHandleVerifier [0x00510B97+2279047]\n\tGetHandleVerifier [0x00366D09+534521]\n\tGetHandleVerifier [0x00365DB9+530601]\n\tOrdinal0 [0x00274FF9+2117625]\n\tOrdinal0 [0x002798A8+2136232]\n\tOrdinal0 [0x002799E2+2136546]\n\tOrdinal0 [0x00283541+2176321]\n\tBaseThreadInitThunk [0x7657FA29+25]\n\tRtlGetAppContainerNamedObjectPath [0x776C7A9E+286]\n\tRtlGetAppContainerNamedObjectPath [0x776C7A6E+238]\n\t(No symbol) [0x00000000]\n"
     ]
    }
   ],
   "source": [
    "No_Of_Rating=[]\n",
    "Price=[]\n",
    "Delivery_Date=[]\n",
    "Rating=[]\n",
    "Return=[]\n",
    "Avability=[]\n",
    "\n",
    "\n",
    "for i in Url1:\n",
    "    driver1.get(i)\n",
    "    time.sleep(2)\n",
    "    pr=driver1.find_element_by_xpath(\"//span[@class='a-size-medium a-color-price priceBlockBuyingPriceString']\")\n",
    "    Price.append(pr.text)\n",
    "    dd=driver1.find_element_by_xpath(\"//div[@class='a-section a-spacing-mini']/b\")\n",
    "    Delivery_Date.append(dd.text)\n",
    "    \n",
    "    rtn=driver1.find_element_by_xpath(\"//div[@class='a-column a-span3 a-text-center icon-container icon-grid-width celwidget']//a[1]\")\n",
    "    Return.append(rtn.text)\n",
    "    avl=driver1.find_element_by_xpath(\"//div[@class='a-section a-spacing-base }']/span\")\n",
    "    Avability.append(avl.text)"
   ]
  },
  {
   "cell_type": "code",
   "execution_count": null,
   "metadata": {},
   "outputs": [],
   "source": [
    "df2=pd.DataFrame()\n",
    "\n",
    "df2['Name Of Product']=Brand_Name\n",
    "df2['No Of Rating']=Rating\n",
    "df2['Price']=Price\n",
    "df2['Return']=Return\n",
    "df2['Delivery Date']=Delivery_Date\n",
    "df2['Avability']=Avability\n",
    "\n",
    "df2"
   ]
  },
  {
   "cell_type": "markdown",
   "metadata": {},
   "source": [
    "QUESTION 3"
   ]
  },
  {
   "cell_type": "code",
   "execution_count": 12,
   "metadata": {},
   "outputs": [
    {
     "name": "stderr",
     "output_type": "stream",
     "text": [
      "<ipython-input-12-8c822479b10e>:1: DeprecationWarning: executable_path has been deprecated, please pass in a Service object\n",
      "  driver1=webdriver.Chrome('C:/Users/Kishan/Downloads/chromedriver_win32/chromedriver.exe')\n"
     ]
    }
   ],
   "source": [
    "driver1=webdriver.Chrome('C:/Users/Kishan/Downloads/chromedriver_win32/chromedriver.exe')\n",
    "url='https://www.google.com/imghp?hl=en'\n",
    "driver1.get(url)"
   ]
  },
  {
   "cell_type": "code",
   "execution_count": 13,
   "metadata": {},
   "outputs": [
    {
     "name": "stderr",
     "output_type": "stream",
     "text": [
      "<ipython-input-13-473930a8a6a7>:1: DeprecationWarning: find_element_by_* commands are deprecated. Please use find_element() instead\n",
      "  keyword=driver1.find_element_by_xpath(\"//input[@class='gLFyf gsfi']\")\n",
      "<ipython-input-13-473930a8a6a7>:3: DeprecationWarning: find_element_by_* commands are deprecated. Please use find_element() instead\n",
      "  search=driver1.find_element_by_xpath(\"//button[@class='Tg7LZd']\").click()\n",
      "<ipython-input-13-473930a8a6a7>:6: DeprecationWarning: find_elements_by_* commands are deprecated. Please use find_elements() instead\n",
      "  image=driver1.find_elements_by_xpath(\"//img[@class='rg_i Q4LuWd']\")\n"
     ]
    },
    {
     "data": {
      "text/plain": [
       "48"
      ]
     },
     "execution_count": 13,
     "metadata": {},
     "output_type": "execute_result"
    }
   ],
   "source": [
    "keyword=driver1.find_element_by_xpath(\"//input[@class='gLFyf gsfi']\")\n",
    "keyword.send_keys('fruits')\n",
    "search=driver1.find_element_by_xpath(\"//button[@class='Tg7LZd']\").click()\n",
    "\n",
    "\n",
    "image=driver1.find_elements_by_xpath(\"//img[@class='rg_i Q4LuWd']\")\n",
    "len(image)"
   ]
  },
  {
   "cell_type": "code",
   "execution_count": 14,
   "metadata": {},
   "outputs": [
    {
     "data": {
      "text/plain": [
       "48"
      ]
     },
     "execution_count": 14,
     "metadata": {},
     "output_type": "execute_result"
    }
   ],
   "source": [
    "Fruits=[]\n",
    "\n",
    "try:\n",
    "    for i in image:\n",
    "        Fruits.append(i.get_attribute('src'))\n",
    "except:\n",
    "    Fruits.append('-')\n",
    "    \n",
    "len(Fruits)"
   ]
  },
  {
   "cell_type": "code",
   "execution_count": 15,
   "metadata": {},
   "outputs": [
    {
     "name": "stderr",
     "output_type": "stream",
     "text": [
      "<ipython-input-15-67ec44146d46>:2: DeprecationWarning: find_element_by_* commands are deprecated. Please use find_element() instead\n",
      "  keyword=driver1.find_element_by_xpath(\"//input[@class='gLFyf gsfi']\")\n",
      "<ipython-input-15-67ec44146d46>:5: DeprecationWarning: find_element_by_* commands are deprecated. Please use find_element() instead\n",
      "  search=driver1.find_element_by_xpath(\"//button[@class='Tg7LZd']\").click()\n",
      "<ipython-input-15-67ec44146d46>:7: DeprecationWarning: find_elements_by_* commands are deprecated. Please use find_elements() instead\n",
      "  car=driver1.find_elements_by_xpath(\"//img[@class='rg_i Q4LuWd']\")\n"
     ]
    },
    {
     "data": {
      "text/plain": [
       "48"
      ]
     },
     "execution_count": 15,
     "metadata": {},
     "output_type": "execute_result"
    }
   ],
   "source": [
    "driver1.get(url)\n",
    "keyword=driver1.find_element_by_xpath(\"//input[@class='gLFyf gsfi']\")\n",
    "keyword.send_keys('cars')\n",
    "\n",
    "search=driver1.find_element_by_xpath(\"//button[@class='Tg7LZd']\").click()\n",
    "\n",
    "car=driver1.find_elements_by_xpath(\"//img[@class='rg_i Q4LuWd']\")\n",
    "len(car)"
   ]
  },
  {
   "cell_type": "code",
   "execution_count": 16,
   "metadata": {},
   "outputs": [
    {
     "data": {
      "text/plain": [
       "48"
      ]
     },
     "execution_count": 16,
     "metadata": {},
     "output_type": "execute_result"
    }
   ],
   "source": [
    "Car=[]\n",
    "\n",
    "for i in car:\n",
    "    Car.append(i.get_attribute('src'))\n",
    "    \n",
    "len(Car)"
   ]
  },
  {
   "cell_type": "code",
   "execution_count": 17,
   "metadata": {},
   "outputs": [
    {
     "name": "stderr",
     "output_type": "stream",
     "text": [
      "<ipython-input-17-da38e00d0a74>:2: DeprecationWarning: find_element_by_* commands are deprecated. Please use find_element() instead\n",
      "  keyword=driver1.find_element_by_xpath(\"//input[@class='gLFyf gsfi']\")\n"
     ]
    }
   ],
   "source": [
    "driver1.get(url)\n",
    "keyword=driver1.find_element_by_xpath(\"//input[@class='gLFyf gsfi']\")\n",
    "keyword.send_keys('Machine Learning')"
   ]
  },
  {
   "cell_type": "code",
   "execution_count": 18,
   "metadata": {},
   "outputs": [
    {
     "name": "stderr",
     "output_type": "stream",
     "text": [
      "<ipython-input-18-aad3e7a0edfd>:1: DeprecationWarning: find_element_by_* commands are deprecated. Please use find_element() instead\n",
      "  search=driver1.find_element_by_xpath(\"//button[@class='Tg7LZd']\").click()\n",
      "<ipython-input-18-aad3e7a0edfd>:3: DeprecationWarning: find_elements_by_* commands are deprecated. Please use find_elements() instead\n",
      "  ml=driver1.find_elements_by_xpath(\"//img[@class='rg_i Q4LuWd']\")\n"
     ]
    },
    {
     "data": {
      "text/plain": [
       "48"
      ]
     },
     "execution_count": 18,
     "metadata": {},
     "output_type": "execute_result"
    }
   ],
   "source": [
    "search=driver1.find_element_by_xpath(\"//button[@class='Tg7LZd']\").click()\n",
    "\n",
    "ml=driver1.find_elements_by_xpath(\"//img[@class='rg_i Q4LuWd']\")\n",
    "len(ml)"
   ]
  },
  {
   "cell_type": "code",
   "execution_count": 19,
   "metadata": {},
   "outputs": [
    {
     "data": {
      "text/plain": [
       "48"
      ]
     },
     "execution_count": 19,
     "metadata": {},
     "output_type": "execute_result"
    }
   ],
   "source": [
    "ML=[]\n",
    "\n",
    "for i in ml:\n",
    "    try:\n",
    "        ML.append(i.get_attribute('src'))\n",
    "    except:\n",
    "        ML.append(\"-\")\n",
    "    \n",
    "len(ML)"
   ]
  },
  {
   "cell_type": "code",
   "execution_count": 22,
   "metadata": {},
   "outputs": [
    {
     "data": {
      "text/html": [
       "<div>\n",
       "<style scoped>\n",
       "    .dataframe tbody tr th:only-of-type {\n",
       "        vertical-align: middle;\n",
       "    }\n",
       "\n",
       "    .dataframe tbody tr th {\n",
       "        vertical-align: top;\n",
       "    }\n",
       "\n",
       "    .dataframe thead th {\n",
       "        text-align: right;\n",
       "    }\n",
       "</style>\n",
       "<table border=\"1\" class=\"dataframe\">\n",
       "  <thead>\n",
       "    <tr style=\"text-align: right;\">\n",
       "      <th></th>\n",
       "      <th>fruits</th>\n",
       "      <th>Cars</th>\n",
       "      <th>Machine Learning</th>\n",
       "    </tr>\n",
       "  </thead>\n",
       "  <tbody>\n",
       "    <tr>\n",
       "      <th>0</th>\n",
       "      <td>data:image/jpeg;base64,/9j/4AAQSkZJRgABAQAAAQA...</td>\n",
       "      <td>data:image/jpeg;base64,/9j/4AAQSkZJRgABAQAAAQA...</td>\n",
       "      <td>data:image/png;base64,iVBORw0KGgoAAAANSUhEUgAA...</td>\n",
       "    </tr>\n",
       "    <tr>\n",
       "      <th>1</th>\n",
       "      <td>data:image/jpeg;base64,/9j/4AAQSkZJRgABAQAAAQA...</td>\n",
       "      <td>data:image/jpeg;base64,/9j/4AAQSkZJRgABAQAAAQA...</td>\n",
       "      <td>data:image/jpeg;base64,/9j/4AAQSkZJRgABAQAAAQA...</td>\n",
       "    </tr>\n",
       "    <tr>\n",
       "      <th>2</th>\n",
       "      <td>data:image/jpeg;base64,/9j/4AAQSkZJRgABAQAAAQA...</td>\n",
       "      <td>data:image/jpeg;base64,/9j/4AAQSkZJRgABAQAAAQA...</td>\n",
       "      <td>data:image/png;base64,iVBORw0KGgoAAAANSUhEUgAA...</td>\n",
       "    </tr>\n",
       "    <tr>\n",
       "      <th>3</th>\n",
       "      <td>data:image/jpeg;base64,/9j/4AAQSkZJRgABAQAAAQA...</td>\n",
       "      <td>data:image/jpeg;base64,/9j/4AAQSkZJRgABAQAAAQA...</td>\n",
       "      <td>data:image/jpeg;base64,/9j/4AAQSkZJRgABAQAAAQA...</td>\n",
       "    </tr>\n",
       "    <tr>\n",
       "      <th>4</th>\n",
       "      <td>data:image/jpeg;base64,/9j/4AAQSkZJRgABAQAAAQA...</td>\n",
       "      <td>data:image/jpeg;base64,/9j/4AAQSkZJRgABAQAAAQA...</td>\n",
       "      <td>data:image/jpeg;base64,/9j/4AAQSkZJRgABAQAAAQA...</td>\n",
       "    </tr>\n",
       "    <tr>\n",
       "      <th>5</th>\n",
       "      <td>data:image/jpeg;base64,/9j/4AAQSkZJRgABAQAAAQA...</td>\n",
       "      <td>data:image/jpeg;base64,/9j/4AAQSkZJRgABAQAAAQA...</td>\n",
       "      <td>data:image/jpeg;base64,/9j/4AAQSkZJRgABAQAAAQA...</td>\n",
       "    </tr>\n",
       "    <tr>\n",
       "      <th>6</th>\n",
       "      <td>data:image/jpeg;base64,/9j/4AAQSkZJRgABAQAAAQA...</td>\n",
       "      <td>data:image/jpeg;base64,/9j/4AAQSkZJRgABAQAAAQA...</td>\n",
       "      <td>data:image/jpeg;base64,/9j/4AAQSkZJRgABAQAAAQA...</td>\n",
       "    </tr>\n",
       "    <tr>\n",
       "      <th>7</th>\n",
       "      <td>data:image/jpeg;base64,/9j/4AAQSkZJRgABAQAAAQA...</td>\n",
       "      <td>data:image/jpeg;base64,/9j/4AAQSkZJRgABAQAAAQA...</td>\n",
       "      <td>data:image/jpeg;base64,/9j/4AAQSkZJRgABAQAAAQA...</td>\n",
       "    </tr>\n",
       "    <tr>\n",
       "      <th>8</th>\n",
       "      <td>data:image/jpeg;base64,/9j/4AAQSkZJRgABAQAAAQA...</td>\n",
       "      <td>data:image/jpeg;base64,/9j/4AAQSkZJRgABAQAAAQA...</td>\n",
       "      <td>data:image/jpeg;base64,/9j/4AAQSkZJRgABAQAAAQA...</td>\n",
       "    </tr>\n",
       "    <tr>\n",
       "      <th>9</th>\n",
       "      <td>data:image/jpeg;base64,/9j/4AAQSkZJRgABAQAAAQA...</td>\n",
       "      <td>data:image/jpeg;base64,/9j/4AAQSkZJRgABAQAAAQA...</td>\n",
       "      <td>data:image/jpeg;base64,/9j/4AAQSkZJRgABAQAAAQA...</td>\n",
       "    </tr>\n",
       "    <tr>\n",
       "      <th>10</th>\n",
       "      <td>data:image/jpeg;base64,/9j/4AAQSkZJRgABAQAAAQA...</td>\n",
       "      <td>data:image/jpeg;base64,/9j/4AAQSkZJRgABAQAAAQA...</td>\n",
       "      <td>data:image/jpeg;base64,/9j/4AAQSkZJRgABAQAAAQA...</td>\n",
       "    </tr>\n",
       "    <tr>\n",
       "      <th>11</th>\n",
       "      <td>data:image/jpeg;base64,/9j/4AAQSkZJRgABAQAAAQA...</td>\n",
       "      <td>data:image/jpeg;base64,/9j/4AAQSkZJRgABAQAAAQA...</td>\n",
       "      <td>data:image/jpeg;base64,/9j/4AAQSkZJRgABAQAAAQA...</td>\n",
       "    </tr>\n",
       "    <tr>\n",
       "      <th>12</th>\n",
       "      <td>data:image/jpeg;base64,/9j/4AAQSkZJRgABAQAAAQA...</td>\n",
       "      <td>data:image/jpeg;base64,/9j/4AAQSkZJRgABAQAAAQA...</td>\n",
       "      <td>data:image/jpeg;base64,/9j/4AAQSkZJRgABAQAAAQA...</td>\n",
       "    </tr>\n",
       "    <tr>\n",
       "      <th>13</th>\n",
       "      <td>data:image/jpeg;base64,/9j/4AAQSkZJRgABAQAAAQA...</td>\n",
       "      <td>data:image/jpeg;base64,/9j/4AAQSkZJRgABAQAAAQA...</td>\n",
       "      <td>data:image/jpeg;base64,/9j/4AAQSkZJRgABAQAAAQA...</td>\n",
       "    </tr>\n",
       "    <tr>\n",
       "      <th>14</th>\n",
       "      <td>data:image/jpeg;base64,/9j/4AAQSkZJRgABAQAAAQA...</td>\n",
       "      <td>data:image/jpeg;base64,/9j/4AAQSkZJRgABAQAAAQA...</td>\n",
       "      <td>data:image/jpeg;base64,/9j/4AAQSkZJRgABAQAAAQA...</td>\n",
       "    </tr>\n",
       "    <tr>\n",
       "      <th>15</th>\n",
       "      <td>data:image/jpeg;base64,/9j/4AAQSkZJRgABAQAAAQA...</td>\n",
       "      <td>data:image/jpeg;base64,/9j/4AAQSkZJRgABAQAAAQA...</td>\n",
       "      <td>data:image/jpeg;base64,/9j/4AAQSkZJRgABAQAAAQA...</td>\n",
       "    </tr>\n",
       "    <tr>\n",
       "      <th>16</th>\n",
       "      <td>data:image/jpeg;base64,/9j/4AAQSkZJRgABAQAAAQA...</td>\n",
       "      <td>data:image/jpeg;base64,/9j/4AAQSkZJRgABAQAAAQA...</td>\n",
       "      <td>data:image/png;base64,iVBORw0KGgoAAAANSUhEUgAA...</td>\n",
       "    </tr>\n",
       "    <tr>\n",
       "      <th>17</th>\n",
       "      <td>data:image/jpeg;base64,/9j/4AAQSkZJRgABAQAAAQA...</td>\n",
       "      <td>data:image/jpeg;base64,/9j/4AAQSkZJRgABAQAAAQA...</td>\n",
       "      <td>data:image/png;base64,iVBORw0KGgoAAAANSUhEUgAA...</td>\n",
       "    </tr>\n",
       "    <tr>\n",
       "      <th>18</th>\n",
       "      <td>data:image/jpeg;base64,/9j/4AAQSkZJRgABAQAAAQA...</td>\n",
       "      <td>data:image/jpeg;base64,/9j/4AAQSkZJRgABAQAAAQA...</td>\n",
       "      <td>data:image/png;base64,iVBORw0KGgoAAAANSUhEUgAA...</td>\n",
       "    </tr>\n",
       "    <tr>\n",
       "      <th>19</th>\n",
       "      <td>data:image/jpeg;base64,/9j/4AAQSkZJRgABAQAAAQA...</td>\n",
       "      <td>data:image/jpeg;base64,/9j/4AAQSkZJRgABAQAAAQA...</td>\n",
       "      <td>data:image/jpeg;base64,/9j/4AAQSkZJRgABAQAAAQA...</td>\n",
       "    </tr>\n",
       "    <tr>\n",
       "      <th>20</th>\n",
       "      <td>https://encrypted-tbn0.gstatic.com/images?q=tb...</td>\n",
       "      <td>None</td>\n",
       "      <td>https://encrypted-tbn0.gstatic.com/images?q=tb...</td>\n",
       "    </tr>\n",
       "    <tr>\n",
       "      <th>21</th>\n",
       "      <td>https://encrypted-tbn0.gstatic.com/images?q=tb...</td>\n",
       "      <td>None</td>\n",
       "      <td>https://encrypted-tbn0.gstatic.com/images?q=tb...</td>\n",
       "    </tr>\n",
       "    <tr>\n",
       "      <th>22</th>\n",
       "      <td>https://encrypted-tbn0.gstatic.com/images?q=tb...</td>\n",
       "      <td>None</td>\n",
       "      <td>https://encrypted-tbn0.gstatic.com/images?q=tb...</td>\n",
       "    </tr>\n",
       "    <tr>\n",
       "      <th>23</th>\n",
       "      <td>https://encrypted-tbn0.gstatic.com/images?q=tb...</td>\n",
       "      <td>None</td>\n",
       "      <td>https://encrypted-tbn0.gstatic.com/images?q=tb...</td>\n",
       "    </tr>\n",
       "    <tr>\n",
       "      <th>24</th>\n",
       "      <td>None</td>\n",
       "      <td>None</td>\n",
       "      <td>https://encrypted-tbn0.gstatic.com/images?q=tb...</td>\n",
       "    </tr>\n",
       "    <tr>\n",
       "      <th>25</th>\n",
       "      <td>None</td>\n",
       "      <td>None</td>\n",
       "      <td>https://encrypted-tbn0.gstatic.com/images?q=tb...</td>\n",
       "    </tr>\n",
       "    <tr>\n",
       "      <th>26</th>\n",
       "      <td>None</td>\n",
       "      <td>None</td>\n",
       "      <td>https://encrypted-tbn0.gstatic.com/images?q=tb...</td>\n",
       "    </tr>\n",
       "    <tr>\n",
       "      <th>27</th>\n",
       "      <td>None</td>\n",
       "      <td>None</td>\n",
       "      <td>https://encrypted-tbn0.gstatic.com/images?q=tb...</td>\n",
       "    </tr>\n",
       "    <tr>\n",
       "      <th>28</th>\n",
       "      <td>None</td>\n",
       "      <td>None</td>\n",
       "      <td>https://encrypted-tbn0.gstatic.com/images?q=tb...</td>\n",
       "    </tr>\n",
       "    <tr>\n",
       "      <th>29</th>\n",
       "      <td>None</td>\n",
       "      <td>None</td>\n",
       "      <td>https://encrypted-tbn0.gstatic.com/images?q=tb...</td>\n",
       "    </tr>\n",
       "    <tr>\n",
       "      <th>30</th>\n",
       "      <td>None</td>\n",
       "      <td>None</td>\n",
       "      <td>https://encrypted-tbn0.gstatic.com/images?q=tb...</td>\n",
       "    </tr>\n",
       "    <tr>\n",
       "      <th>31</th>\n",
       "      <td>None</td>\n",
       "      <td>None</td>\n",
       "      <td>https://encrypted-tbn0.gstatic.com/images?q=tb...</td>\n",
       "    </tr>\n",
       "    <tr>\n",
       "      <th>32</th>\n",
       "      <td>None</td>\n",
       "      <td>None</td>\n",
       "      <td>https://encrypted-tbn0.gstatic.com/images?q=tb...</td>\n",
       "    </tr>\n",
       "    <tr>\n",
       "      <th>33</th>\n",
       "      <td>None</td>\n",
       "      <td>None</td>\n",
       "      <td>https://encrypted-tbn0.gstatic.com/images?q=tb...</td>\n",
       "    </tr>\n",
       "    <tr>\n",
       "      <th>34</th>\n",
       "      <td>None</td>\n",
       "      <td>None</td>\n",
       "      <td>https://encrypted-tbn0.gstatic.com/images?q=tb...</td>\n",
       "    </tr>\n",
       "    <tr>\n",
       "      <th>35</th>\n",
       "      <td>None</td>\n",
       "      <td>None</td>\n",
       "      <td>https://encrypted-tbn0.gstatic.com/images?q=tb...</td>\n",
       "    </tr>\n",
       "    <tr>\n",
       "      <th>36</th>\n",
       "      <td>None</td>\n",
       "      <td>None</td>\n",
       "      <td>https://encrypted-tbn0.gstatic.com/images?q=tb...</td>\n",
       "    </tr>\n",
       "    <tr>\n",
       "      <th>37</th>\n",
       "      <td>None</td>\n",
       "      <td>None</td>\n",
       "      <td>None</td>\n",
       "    </tr>\n",
       "    <tr>\n",
       "      <th>38</th>\n",
       "      <td>None</td>\n",
       "      <td>None</td>\n",
       "      <td>None</td>\n",
       "    </tr>\n",
       "    <tr>\n",
       "      <th>39</th>\n",
       "      <td>None</td>\n",
       "      <td>None</td>\n",
       "      <td>None</td>\n",
       "    </tr>\n",
       "    <tr>\n",
       "      <th>40</th>\n",
       "      <td>None</td>\n",
       "      <td>None</td>\n",
       "      <td>None</td>\n",
       "    </tr>\n",
       "    <tr>\n",
       "      <th>41</th>\n",
       "      <td>None</td>\n",
       "      <td>None</td>\n",
       "      <td>None</td>\n",
       "    </tr>\n",
       "    <tr>\n",
       "      <th>42</th>\n",
       "      <td>None</td>\n",
       "      <td>None</td>\n",
       "      <td>None</td>\n",
       "    </tr>\n",
       "    <tr>\n",
       "      <th>43</th>\n",
       "      <td>None</td>\n",
       "      <td>None</td>\n",
       "      <td>None</td>\n",
       "    </tr>\n",
       "    <tr>\n",
       "      <th>44</th>\n",
       "      <td>None</td>\n",
       "      <td>None</td>\n",
       "      <td>None</td>\n",
       "    </tr>\n",
       "    <tr>\n",
       "      <th>45</th>\n",
       "      <td>None</td>\n",
       "      <td>None</td>\n",
       "      <td>None</td>\n",
       "    </tr>\n",
       "    <tr>\n",
       "      <th>46</th>\n",
       "      <td>None</td>\n",
       "      <td>None</td>\n",
       "      <td>None</td>\n",
       "    </tr>\n",
       "    <tr>\n",
       "      <th>47</th>\n",
       "      <td>None</td>\n",
       "      <td>None</td>\n",
       "      <td>None</td>\n",
       "    </tr>\n",
       "  </tbody>\n",
       "</table>\n",
       "</div>"
      ],
      "text/plain": [
       "                                               fruits  \\\n",
       "0   data:image/jpeg;base64,/9j/4AAQSkZJRgABAQAAAQA...   \n",
       "1   data:image/jpeg;base64,/9j/4AAQSkZJRgABAQAAAQA...   \n",
       "2   data:image/jpeg;base64,/9j/4AAQSkZJRgABAQAAAQA...   \n",
       "3   data:image/jpeg;base64,/9j/4AAQSkZJRgABAQAAAQA...   \n",
       "4   data:image/jpeg;base64,/9j/4AAQSkZJRgABAQAAAQA...   \n",
       "5   data:image/jpeg;base64,/9j/4AAQSkZJRgABAQAAAQA...   \n",
       "6   data:image/jpeg;base64,/9j/4AAQSkZJRgABAQAAAQA...   \n",
       "7   data:image/jpeg;base64,/9j/4AAQSkZJRgABAQAAAQA...   \n",
       "8   data:image/jpeg;base64,/9j/4AAQSkZJRgABAQAAAQA...   \n",
       "9   data:image/jpeg;base64,/9j/4AAQSkZJRgABAQAAAQA...   \n",
       "10  data:image/jpeg;base64,/9j/4AAQSkZJRgABAQAAAQA...   \n",
       "11  data:image/jpeg;base64,/9j/4AAQSkZJRgABAQAAAQA...   \n",
       "12  data:image/jpeg;base64,/9j/4AAQSkZJRgABAQAAAQA...   \n",
       "13  data:image/jpeg;base64,/9j/4AAQSkZJRgABAQAAAQA...   \n",
       "14  data:image/jpeg;base64,/9j/4AAQSkZJRgABAQAAAQA...   \n",
       "15  data:image/jpeg;base64,/9j/4AAQSkZJRgABAQAAAQA...   \n",
       "16  data:image/jpeg;base64,/9j/4AAQSkZJRgABAQAAAQA...   \n",
       "17  data:image/jpeg;base64,/9j/4AAQSkZJRgABAQAAAQA...   \n",
       "18  data:image/jpeg;base64,/9j/4AAQSkZJRgABAQAAAQA...   \n",
       "19  data:image/jpeg;base64,/9j/4AAQSkZJRgABAQAAAQA...   \n",
       "20  https://encrypted-tbn0.gstatic.com/images?q=tb...   \n",
       "21  https://encrypted-tbn0.gstatic.com/images?q=tb...   \n",
       "22  https://encrypted-tbn0.gstatic.com/images?q=tb...   \n",
       "23  https://encrypted-tbn0.gstatic.com/images?q=tb...   \n",
       "24                                               None   \n",
       "25                                               None   \n",
       "26                                               None   \n",
       "27                                               None   \n",
       "28                                               None   \n",
       "29                                               None   \n",
       "30                                               None   \n",
       "31                                               None   \n",
       "32                                               None   \n",
       "33                                               None   \n",
       "34                                               None   \n",
       "35                                               None   \n",
       "36                                               None   \n",
       "37                                               None   \n",
       "38                                               None   \n",
       "39                                               None   \n",
       "40                                               None   \n",
       "41                                               None   \n",
       "42                                               None   \n",
       "43                                               None   \n",
       "44                                               None   \n",
       "45                                               None   \n",
       "46                                               None   \n",
       "47                                               None   \n",
       "\n",
       "                                                 Cars  \\\n",
       "0   data:image/jpeg;base64,/9j/4AAQSkZJRgABAQAAAQA...   \n",
       "1   data:image/jpeg;base64,/9j/4AAQSkZJRgABAQAAAQA...   \n",
       "2   data:image/jpeg;base64,/9j/4AAQSkZJRgABAQAAAQA...   \n",
       "3   data:image/jpeg;base64,/9j/4AAQSkZJRgABAQAAAQA...   \n",
       "4   data:image/jpeg;base64,/9j/4AAQSkZJRgABAQAAAQA...   \n",
       "5   data:image/jpeg;base64,/9j/4AAQSkZJRgABAQAAAQA...   \n",
       "6   data:image/jpeg;base64,/9j/4AAQSkZJRgABAQAAAQA...   \n",
       "7   data:image/jpeg;base64,/9j/4AAQSkZJRgABAQAAAQA...   \n",
       "8   data:image/jpeg;base64,/9j/4AAQSkZJRgABAQAAAQA...   \n",
       "9   data:image/jpeg;base64,/9j/4AAQSkZJRgABAQAAAQA...   \n",
       "10  data:image/jpeg;base64,/9j/4AAQSkZJRgABAQAAAQA...   \n",
       "11  data:image/jpeg;base64,/9j/4AAQSkZJRgABAQAAAQA...   \n",
       "12  data:image/jpeg;base64,/9j/4AAQSkZJRgABAQAAAQA...   \n",
       "13  data:image/jpeg;base64,/9j/4AAQSkZJRgABAQAAAQA...   \n",
       "14  data:image/jpeg;base64,/9j/4AAQSkZJRgABAQAAAQA...   \n",
       "15  data:image/jpeg;base64,/9j/4AAQSkZJRgABAQAAAQA...   \n",
       "16  data:image/jpeg;base64,/9j/4AAQSkZJRgABAQAAAQA...   \n",
       "17  data:image/jpeg;base64,/9j/4AAQSkZJRgABAQAAAQA...   \n",
       "18  data:image/jpeg;base64,/9j/4AAQSkZJRgABAQAAAQA...   \n",
       "19  data:image/jpeg;base64,/9j/4AAQSkZJRgABAQAAAQA...   \n",
       "20                                               None   \n",
       "21                                               None   \n",
       "22                                               None   \n",
       "23                                               None   \n",
       "24                                               None   \n",
       "25                                               None   \n",
       "26                                               None   \n",
       "27                                               None   \n",
       "28                                               None   \n",
       "29                                               None   \n",
       "30                                               None   \n",
       "31                                               None   \n",
       "32                                               None   \n",
       "33                                               None   \n",
       "34                                               None   \n",
       "35                                               None   \n",
       "36                                               None   \n",
       "37                                               None   \n",
       "38                                               None   \n",
       "39                                               None   \n",
       "40                                               None   \n",
       "41                                               None   \n",
       "42                                               None   \n",
       "43                                               None   \n",
       "44                                               None   \n",
       "45                                               None   \n",
       "46                                               None   \n",
       "47                                               None   \n",
       "\n",
       "                                     Machine Learning  \n",
       "0   data:image/png;base64,iVBORw0KGgoAAAANSUhEUgAA...  \n",
       "1   data:image/jpeg;base64,/9j/4AAQSkZJRgABAQAAAQA...  \n",
       "2   data:image/png;base64,iVBORw0KGgoAAAANSUhEUgAA...  \n",
       "3   data:image/jpeg;base64,/9j/4AAQSkZJRgABAQAAAQA...  \n",
       "4   data:image/jpeg;base64,/9j/4AAQSkZJRgABAQAAAQA...  \n",
       "5   data:image/jpeg;base64,/9j/4AAQSkZJRgABAQAAAQA...  \n",
       "6   data:image/jpeg;base64,/9j/4AAQSkZJRgABAQAAAQA...  \n",
       "7   data:image/jpeg;base64,/9j/4AAQSkZJRgABAQAAAQA...  \n",
       "8   data:image/jpeg;base64,/9j/4AAQSkZJRgABAQAAAQA...  \n",
       "9   data:image/jpeg;base64,/9j/4AAQSkZJRgABAQAAAQA...  \n",
       "10  data:image/jpeg;base64,/9j/4AAQSkZJRgABAQAAAQA...  \n",
       "11  data:image/jpeg;base64,/9j/4AAQSkZJRgABAQAAAQA...  \n",
       "12  data:image/jpeg;base64,/9j/4AAQSkZJRgABAQAAAQA...  \n",
       "13  data:image/jpeg;base64,/9j/4AAQSkZJRgABAQAAAQA...  \n",
       "14  data:image/jpeg;base64,/9j/4AAQSkZJRgABAQAAAQA...  \n",
       "15  data:image/jpeg;base64,/9j/4AAQSkZJRgABAQAAAQA...  \n",
       "16  data:image/png;base64,iVBORw0KGgoAAAANSUhEUgAA...  \n",
       "17  data:image/png;base64,iVBORw0KGgoAAAANSUhEUgAA...  \n",
       "18  data:image/png;base64,iVBORw0KGgoAAAANSUhEUgAA...  \n",
       "19  data:image/jpeg;base64,/9j/4AAQSkZJRgABAQAAAQA...  \n",
       "20  https://encrypted-tbn0.gstatic.com/images?q=tb...  \n",
       "21  https://encrypted-tbn0.gstatic.com/images?q=tb...  \n",
       "22  https://encrypted-tbn0.gstatic.com/images?q=tb...  \n",
       "23  https://encrypted-tbn0.gstatic.com/images?q=tb...  \n",
       "24  https://encrypted-tbn0.gstatic.com/images?q=tb...  \n",
       "25  https://encrypted-tbn0.gstatic.com/images?q=tb...  \n",
       "26  https://encrypted-tbn0.gstatic.com/images?q=tb...  \n",
       "27  https://encrypted-tbn0.gstatic.com/images?q=tb...  \n",
       "28  https://encrypted-tbn0.gstatic.com/images?q=tb...  \n",
       "29  https://encrypted-tbn0.gstatic.com/images?q=tb...  \n",
       "30  https://encrypted-tbn0.gstatic.com/images?q=tb...  \n",
       "31  https://encrypted-tbn0.gstatic.com/images?q=tb...  \n",
       "32  https://encrypted-tbn0.gstatic.com/images?q=tb...  \n",
       "33  https://encrypted-tbn0.gstatic.com/images?q=tb...  \n",
       "34  https://encrypted-tbn0.gstatic.com/images?q=tb...  \n",
       "35  https://encrypted-tbn0.gstatic.com/images?q=tb...  \n",
       "36  https://encrypted-tbn0.gstatic.com/images?q=tb...  \n",
       "37                                               None  \n",
       "38                                               None  \n",
       "39                                               None  \n",
       "40                                               None  \n",
       "41                                               None  \n",
       "42                                               None  \n",
       "43                                               None  \n",
       "44                                               None  \n",
       "45                                               None  \n",
       "46                                               None  \n",
       "47                                               None  "
      ]
     },
     "execution_count": 22,
     "metadata": {},
     "output_type": "execute_result"
    }
   ],
   "source": [
    "df3=pd.DataFrame()\n",
    "\n",
    "df3['fruits']=Fruits\n",
    "df3['Cars']=Car\n",
    "df3['Machine Learning']=ML\n",
    "df3.head(20)"
   ]
  },
  {
   "cell_type": "markdown",
   "metadata": {},
   "source": [
    "QUESTION 4"
   ]
  },
  {
   "cell_type": "code",
   "execution_count": 21,
   "metadata": {},
   "outputs": [
    {
     "name": "stderr",
     "output_type": "stream",
     "text": [
      "<ipython-input-21-5f30fdaaf87f>:1: DeprecationWarning: executable_path has been deprecated, please pass in a Service object\n",
      "  driver4=webdriver.Chrome('C:/Users/Kishan/Downloads/chromedriver_win32/chromedriver.exe')\n"
     ]
    }
   ],
   "source": [
    "driver4=webdriver.Chrome('C:/Users/Kishan/Downloads/chromedriver_win32/chromedriver.exe')\n",
    "url4='http://www.flipkart.com/'\n",
    "driver4.get(url4)"
   ]
  },
  {
   "cell_type": "code",
   "execution_count": 22,
   "metadata": {},
   "outputs": [
    {
     "name": "stderr",
     "output_type": "stream",
     "text": [
      "<ipython-input-22-8e6e0bd06cfa>:1: DeprecationWarning: find_element_by_* commands are deprecated. Please use find_element() instead\n",
      "  search=driver4.find_element_by_xpath(\"//input[@class='_3704LK']\")\n",
      "<ipython-input-22-8e6e0bd06cfa>:3: DeprecationWarning: find_element_by_* commands are deprecated. Please use find_element() instead\n",
      "  btn=driver4.find_element_by_xpath(\"//button[@class='L0Z3Pu']\").click()\n"
     ]
    }
   ],
   "source": [
    "search=driver4.find_element_by_xpath(\"//input[@class='_3704LK']\")\n",
    "search.send_keys('reno 6 pro')\n",
    "btn=driver4.find_element_by_xpath(\"//button[@class='L0Z3Pu']\").click()\n"
   ]
  },
  {
   "cell_type": "code",
   "execution_count": 23,
   "metadata": {},
   "outputs": [
    {
     "name": "stderr",
     "output_type": "stream",
     "text": [
      "<ipython-input-23-bec87243ee63>:5: DeprecationWarning: find_elements_by_* commands are deprecated. Please use find_elements() instead\n",
      "  sp_name=driver4.find_elements_by_xpath(\"//div[@class='_4rR01T']\")\n",
      "<ipython-input-23-bec87243ee63>:9: DeprecationWarning: find_elements_by_* commands are deprecated. Please use find_elements() instead\n",
      "  bn=driver4.find_elements_by_xpath(\"//div[@class='_4rR01T']\")\n",
      "<ipython-input-23-bec87243ee63>:13: DeprecationWarning: find_elements_by_* commands are deprecated. Please use find_elements() instead\n",
      "  url=driver4.find_elements_by_xpath(\"//a[@class='_1fQZEK']\")\n"
     ]
    }
   ],
   "source": [
    "SmartPhone_Name=[]\n",
    "Brand_Name=[]\n",
    "Url4=[]\n",
    "\n",
    "sp_name=driver4.find_elements_by_xpath(\"//div[@class='_4rR01T']\")\n",
    "for i in sp_name:\n",
    "    SmartPhone_Name.append(i.text)\n",
    "\n",
    "bn=driver4.find_elements_by_xpath(\"//div[@class='_4rR01T']\")\n",
    "for i in bn:\n",
    "    Brand_Name.append(i.text[0:5])\n",
    "    \n",
    "url=driver4.find_elements_by_xpath(\"//a[@class='_1fQZEK']\")\n",
    "for i in url:\n",
    "    Url4.append(i.get_attribute('href'))\n"
   ]
  },
  {
   "cell_type": "code",
   "execution_count": 24,
   "metadata": {},
   "outputs": [
    {
     "name": "stderr",
     "output_type": "stream",
     "text": [
      "<ipython-input-24-982477a8abb1>:7: DeprecationWarning: find_element_by_* commands are deprecated. Please use find_element() instead\n",
      "  m=driver4.find_element_by_xpath(\"//div[@class='_1AtVbE col-12-12']//table[1]//tr[2]//td[2]//li[1]\")\n",
      "<ipython-input-24-982477a8abb1>:9: DeprecationWarning: find_element_by_* commands are deprecated. Please use find_element() instead\n",
      "  clr=driver4.find_element_by_xpath(\"//div[@class='_1AtVbE col-12-12']//table[1]//tr[4]//td[2]//li[1]\")\n",
      "<ipython-input-24-982477a8abb1>:11: DeprecationWarning: find_element_by_* commands are deprecated. Please use find_element() instead\n",
      "  prc=driver4.find_element_by_xpath(\"//div[@class='_25b18c']//div[1]\")\n"
     ]
    }
   ],
   "source": [
    "Model_No=[]\n",
    "Color=[]\n",
    "Price=[]\n",
    "\n",
    "for i in Url4:\n",
    "    driver4.get(i)\n",
    "    m=driver4.find_element_by_xpath(\"//div[@class='_1AtVbE col-12-12']//table[1]//tr[2]//td[2]//li[1]\")\n",
    "    Model_No.append(m.text)\n",
    "    clr=driver4.find_element_by_xpath(\"//div[@class='_1AtVbE col-12-12']//table[1]//tr[4]//td[2]//li[1]\")\n",
    "    Color.append(clr.text)\n",
    "    prc=driver4.find_element_by_xpath(\"//div[@class='_25b18c']//div[1]\")\n",
    "    Price.append(prc.text)"
   ]
  },
  {
   "cell_type": "code",
   "execution_count": 27,
   "metadata": {},
   "outputs": [
    {
     "data": {
      "text/plain": [
       "(15, 15, 15)"
      ]
     },
     "execution_count": 27,
     "metadata": {},
     "output_type": "execute_result"
    }
   ],
   "source": [
    "len(Model_No),len(Color),len(Price)"
   ]
  },
  {
   "cell_type": "code",
   "execution_count": 25,
   "metadata": {},
   "outputs": [
    {
     "name": "stderr",
     "output_type": "stream",
     "text": [
      "<ipython-input-25-6b566679a9c3>:13: DeprecationWarning: find_element_by_* commands are deprecated. Please use find_element() instead\n",
      "  driver4.find_element_by_xpath(\"//button[@class='_2KpZ6l _1FH0tX']\").click()\n",
      "<ipython-input-25-6b566679a9c3>:15: DeprecationWarning: find_elements_by_* commands are deprecated. Please use find_elements() instead\n",
      "  model=driver4.find_elements_by_xpath(\"//tr[@class='_1s_Smc row']\")\n",
      "C:\\Users\\Kishan\\anaconda3\\lib\\site-packages\\selenium\\webdriver\\remote\\webelement.py:393: UserWarning: find_element_by_* commands are deprecated. Please use find_element() instead\n",
      "  warnings.warn(\"find_element_by_* commands are deprecated. Please use find_element() instead\")\n"
     ]
    }
   ],
   "source": [
    "dis=[]\n",
    "res=[]\n",
    "pros_type=[]\n",
    "pros_core=[]\n",
    "rom=[]\n",
    "ram=[]\n",
    "pr_cam=[]\n",
    "sec_cam=[]\n",
    "battery=[]\n",
    "\n",
    "for i in Url4:\n",
    "    driver4.get(i)\n",
    "    driver4.find_element_by_xpath(\"//button[@class='_2KpZ6l _1FH0tX']\").click()\n",
    "    time.sleep(1)\n",
    "    model=driver4.find_elements_by_xpath(\"//tr[@class='_1s_Smc row']\")\n",
    "    for n in model:\n",
    "        text1=n.find_element_by_xpath(\"td[1]\").text\n",
    "        if text1=='Display Size':\n",
    "            dis.append(n.find_element_by_xpath('td[2]').text)\n",
    "        if text1=='Resolution':\n",
    "            res.append(n.find_element_by_xpath('td[2]').text)\n",
    "            \n",
    "            \n",
    "        try:\n",
    "            if text1=='Processor Type':\n",
    "                pros_type.append(n.find_element_by_xpath('td[2]').text)\n",
    "        except:\n",
    "            pros_type.append(\"-\")\n",
    "                                 \n",
    "        if text1=='Processor Core':\n",
    "            pros_core.append(n.find_element_by_xpath('td[2]').text)\n",
    "        if text1=='Internal Storage':\n",
    "            rom.append(n.find_element_by_xpath('td[2]').text)\n",
    "        if text1=='RAM':\n",
    "            ram.append(n.find_element_by_xpath('td[2]').text)\n",
    "        if text1=='Battery Capacity':\n",
    "            battery.append(n.find_element_by_xpath('td[2]').text)\n",
    "        if text1=='Primary Camera':\n",
    "            pr_cam.append(n.find_element_by_xpath('td[2]').text)\n",
    "        if text1=='Secondary Camera':\n",
    "            sec_cam.append(n.find_element_by_xpath('td[2]').text)\n"
   ]
  },
  {
   "cell_type": "code",
   "execution_count": 26,
   "metadata": {},
   "outputs": [
    {
     "data": {
      "text/html": [
       "<div>\n",
       "<style scoped>\n",
       "    .dataframe tbody tr th:only-of-type {\n",
       "        vertical-align: middle;\n",
       "    }\n",
       "\n",
       "    .dataframe tbody tr th {\n",
       "        vertical-align: top;\n",
       "    }\n",
       "\n",
       "    .dataframe thead th {\n",
       "        text-align: right;\n",
       "    }\n",
       "</style>\n",
       "<table border=\"1\" class=\"dataframe\">\n",
       "  <thead>\n",
       "    <tr style=\"text-align: right;\">\n",
       "      <th></th>\n",
       "      <th>Brand Name</th>\n",
       "      <th>Smartphone Name</th>\n",
       "      <th>Model No.</th>\n",
       "      <th>Color</th>\n",
       "      <th>RAM</th>\n",
       "      <th>ROM</th>\n",
       "      <th>Primary Camara</th>\n",
       "      <th>Secondary Camara</th>\n",
       "      <th>Dispaly</th>\n",
       "      <th>Resoluation</th>\n",
       "      <th>Processor</th>\n",
       "      <th>Processor Core</th>\n",
       "      <th>Battery Capacity</th>\n",
       "      <th>Price</th>\n",
       "      <th>Product URL</th>\n",
       "    </tr>\n",
       "  </thead>\n",
       "  <tbody>\n",
       "    <tr>\n",
       "      <th>0</th>\n",
       "      <td>OPPO</td>\n",
       "      <td>OPPO Reno6 Pro 5G (Aurora, 256 GB)</td>\n",
       "      <td>CPH2249</td>\n",
       "      <td>Aurora</td>\n",
       "      <td>12 GB</td>\n",
       "      <td>256 GB</td>\n",
       "      <td>64MP + 8MP + 2MP + 2MP</td>\n",
       "      <td>32MP Front Camera</td>\n",
       "      <td>16.64 cm (6.55 inch)</td>\n",
       "      <td>2400 x 1080 Pixels</td>\n",
       "      <td>MediaTek Dimensity 1200</td>\n",
       "      <td>Octa Core</td>\n",
       "      <td>4500 mAh</td>\n",
       "      <td>₹39,990</td>\n",
       "      <td>https://www.flipkart.com/oppo-reno6-pro-5g-aur...</td>\n",
       "    </tr>\n",
       "    <tr>\n",
       "      <th>1</th>\n",
       "      <td>OPPO</td>\n",
       "      <td>OPPO Reno6 Pro 5G (Majestic Gold, 256 GB)</td>\n",
       "      <td>CPH2249</td>\n",
       "      <td>Majestic Gold</td>\n",
       "      <td>12 GB</td>\n",
       "      <td>256 GB</td>\n",
       "      <td>64MP + 8MP + 2MP + 2MP</td>\n",
       "      <td>32MP Front Camera</td>\n",
       "      <td>16.64 cm (6.55 inch)</td>\n",
       "      <td>2400 x 1080 Pixels</td>\n",
       "      <td>MediaTek Dimensity 1200</td>\n",
       "      <td>Octa Core</td>\n",
       "      <td>4500 mAh</td>\n",
       "      <td>₹41,990</td>\n",
       "      <td>https://www.flipkart.com/oppo-reno6-pro-5g-maj...</td>\n",
       "    </tr>\n",
       "    <tr>\n",
       "      <th>2</th>\n",
       "      <td>OPPO</td>\n",
       "      <td>OPPO Reno6 Pro 5G (Stellar Black, 256 GB)</td>\n",
       "      <td>CPH2249</td>\n",
       "      <td>Stellar Black</td>\n",
       "      <td>12 GB</td>\n",
       "      <td>256 GB</td>\n",
       "      <td>64MP + 8MP + 2MP + 2MP</td>\n",
       "      <td>32MP Front Camera</td>\n",
       "      <td>16.64 cm (6.55 inch)</td>\n",
       "      <td>2400 x 1080 Pixels</td>\n",
       "      <td>MediaTek Dimensity 1200</td>\n",
       "      <td>Octa Core</td>\n",
       "      <td>4500 mAh</td>\n",
       "      <td>₹39,990</td>\n",
       "      <td>https://www.flipkart.com/oppo-reno6-pro-5g-ste...</td>\n",
       "    </tr>\n",
       "    <tr>\n",
       "      <th>3</th>\n",
       "      <td>OPPO</td>\n",
       "      <td>OPPO Reno5 Pro 5G (Starry Black, 128 GB)</td>\n",
       "      <td>CPH2201</td>\n",
       "      <td>Starry Black</td>\n",
       "      <td>8 GB</td>\n",
       "      <td>128 GB</td>\n",
       "      <td>64MP + 8MP + 2MP + 2MP</td>\n",
       "      <td>32MP Front Camera</td>\n",
       "      <td>16.64 cm (6.55 inch)</td>\n",
       "      <td>2400 x 1080 Pixels</td>\n",
       "      <td>MediaTek Dimensity 1000+ (MT6889)</td>\n",
       "      <td>Octa Core</td>\n",
       "      <td>4350 mAh</td>\n",
       "      <td>₹35,990</td>\n",
       "      <td>https://www.flipkart.com/oppo-reno5-pro-5g-sta...</td>\n",
       "    </tr>\n",
       "    <tr>\n",
       "      <th>4</th>\n",
       "      <td>OPPO</td>\n",
       "      <td>OPPO Reno5 Pro 5G (Astral Blue, 128 GB)</td>\n",
       "      <td>CPH2201</td>\n",
       "      <td>Astral Blue</td>\n",
       "      <td>8 GB</td>\n",
       "      <td>128 GB</td>\n",
       "      <td>64MP + 8MP + 2MP + 2MP</td>\n",
       "      <td>32MP Front Camera</td>\n",
       "      <td>16.64 cm (6.55 inch)</td>\n",
       "      <td>2400 x 1080 Pixels</td>\n",
       "      <td>MediaTek Dimensity 1000+ (MT6889)</td>\n",
       "      <td>Octa Core</td>\n",
       "      <td>4350 mAh</td>\n",
       "      <td>₹35,990</td>\n",
       "      <td>https://www.flipkart.com/oppo-reno5-pro-5g-ast...</td>\n",
       "    </tr>\n",
       "    <tr>\n",
       "      <th>5</th>\n",
       "      <td>OPPO</td>\n",
       "      <td>OPPO Reno4 Pro Special Edition (Galactic Blue,...</td>\n",
       "      <td>CPH2109</td>\n",
       "      <td>Galactic Blue</td>\n",
       "      <td>8 GB</td>\n",
       "      <td>128 GB</td>\n",
       "      <td>48MP + 8MP + 2MP + 2MP</td>\n",
       "      <td>32MP Front Camera</td>\n",
       "      <td>16.51 cm (6.5 inch)</td>\n",
       "      <td>2400 x 1080 Pixels</td>\n",
       "      <td>Qualcomm Snapdragon 720G Octa Core</td>\n",
       "      <td>Octa Core</td>\n",
       "      <td>4000 mAh</td>\n",
       "      <td>₹34,990</td>\n",
       "      <td>https://www.flipkart.com/oppo-reno4-pro-specia...</td>\n",
       "    </tr>\n",
       "    <tr>\n",
       "      <th>6</th>\n",
       "      <td>OPPO</td>\n",
       "      <td>OPPO Reno4 Pro (Silky White, 128 GB)</td>\n",
       "      <td>CPH2109</td>\n",
       "      <td>Silky White</td>\n",
       "      <td>8 GB</td>\n",
       "      <td>128 GB</td>\n",
       "      <td>48MP + 8MP + 2MP + 2MP</td>\n",
       "      <td>32MP Front Camera</td>\n",
       "      <td>16.51 cm (6.5 inch)</td>\n",
       "      <td>2400 x 1080 Pixels</td>\n",
       "      <td>Qualcomm Snapdragon 720G Octa Core</td>\n",
       "      <td>Octa Core</td>\n",
       "      <td>4000 mAh</td>\n",
       "      <td>₹34,990</td>\n",
       "      <td>https://www.flipkart.com/oppo-reno4-pro-silky-...</td>\n",
       "    </tr>\n",
       "    <tr>\n",
       "      <th>7</th>\n",
       "      <td>OPPO</td>\n",
       "      <td>OPPO Reno4 Pro (Starry Night, 128 GB)</td>\n",
       "      <td>CPH2109</td>\n",
       "      <td>Starry Night</td>\n",
       "      <td>8 GB</td>\n",
       "      <td>128 GB</td>\n",
       "      <td>48MP + 8MP + 2MP + 2MP</td>\n",
       "      <td>32MP Front Camera</td>\n",
       "      <td>16.51 cm (6.5 inch)</td>\n",
       "      <td>2400 x 1080 Pixels</td>\n",
       "      <td>Qualcomm Snapdragon 720G Octa Core</td>\n",
       "      <td>Octa Core</td>\n",
       "      <td>4000 mAh</td>\n",
       "      <td>₹34,990</td>\n",
       "      <td>https://www.flipkart.com/oppo-reno4-pro-starry...</td>\n",
       "    </tr>\n",
       "    <tr>\n",
       "      <th>8</th>\n",
       "      <td>OPPO</td>\n",
       "      <td>OPPO Reno3 Pro (Midnight Black, 256 GB)</td>\n",
       "      <td>CPH2035</td>\n",
       "      <td>Midnight Black</td>\n",
       "      <td>8 GB</td>\n",
       "      <td>256 GB</td>\n",
       "      <td>64MP + 13MP + 8MP + 2MP</td>\n",
       "      <td>44MP + 2MP Dual Front Camera</td>\n",
       "      <td>16.26 cm (6.4 inch)</td>\n",
       "      <td>2400 x 1080 Pixels</td>\n",
       "      <td>MediaTek Helio P95</td>\n",
       "      <td>Octa Core</td>\n",
       "      <td>4025 mAh</td>\n",
       "      <td>₹27,989</td>\n",
       "      <td>https://www.flipkart.com/oppo-reno3-pro-midnig...</td>\n",
       "    </tr>\n",
       "    <tr>\n",
       "      <th>9</th>\n",
       "      <td>OPPO</td>\n",
       "      <td>OPPO Reno3 Pro (Auroral Blue, 256 GB)</td>\n",
       "      <td>CPH2035</td>\n",
       "      <td>Auroral Blue</td>\n",
       "      <td>8 GB</td>\n",
       "      <td>256 GB</td>\n",
       "      <td>64MP + 13MP + 8MP + 2MP</td>\n",
       "      <td>44MP + 2MP Dual Front Camera</td>\n",
       "      <td>16.26 cm (6.4 inch)</td>\n",
       "      <td>2400 x 1080 Pixels</td>\n",
       "      <td>MediaTek Helio P95</td>\n",
       "      <td>Octa Core</td>\n",
       "      <td>4025 mAh</td>\n",
       "      <td>₹26,990</td>\n",
       "      <td>https://www.flipkart.com/oppo-reno3-pro-aurora...</td>\n",
       "    </tr>\n",
       "    <tr>\n",
       "      <th>10</th>\n",
       "      <td>OPPO</td>\n",
       "      <td>OPPO Reno3 Pro (Sky White, 128 GB)</td>\n",
       "      <td>CPH2035</td>\n",
       "      <td>Sky White</td>\n",
       "      <td>8 GB</td>\n",
       "      <td>128 GB</td>\n",
       "      <td>64MP + 13MP + 8MP + 2MP</td>\n",
       "      <td>44MP + 2MP Dual Front Camera</td>\n",
       "      <td>16.26 cm (6.4 inch)</td>\n",
       "      <td>2400 x 1080 Pixels</td>\n",
       "      <td>MediaTek Helio P95</td>\n",
       "      <td>Octa Core</td>\n",
       "      <td>4025 mAh</td>\n",
       "      <td>₹32,990</td>\n",
       "      <td>https://www.flipkart.com/oppo-reno3-pro-sky-wh...</td>\n",
       "    </tr>\n",
       "    <tr>\n",
       "      <th>11</th>\n",
       "      <td>OPPO</td>\n",
       "      <td>OPPO Reno4 Pro Special Edition (Starry Night, ...</td>\n",
       "      <td>CPH2109</td>\n",
       "      <td>Starry Night</td>\n",
       "      <td>8 GB</td>\n",
       "      <td>128 GB</td>\n",
       "      <td>48MP + 8MP + 2MP + 2MP</td>\n",
       "      <td>32MP Front Camera</td>\n",
       "      <td>16.51 cm (6.5 inch)</td>\n",
       "      <td>2400 x 1080 Pixels</td>\n",
       "      <td>Qualcomm Snapdragon 720G Octa Core</td>\n",
       "      <td>Octa Core</td>\n",
       "      <td>4000 mAh</td>\n",
       "      <td>₹34,990</td>\n",
       "      <td>https://www.flipkart.com/oppo-reno4-pro-specia...</td>\n",
       "    </tr>\n",
       "    <tr>\n",
       "      <th>12</th>\n",
       "      <td>OPPO</td>\n",
       "      <td>OPPO Reno3 Pro (Auroral Blue, 128 GB)</td>\n",
       "      <td>CPH2035</td>\n",
       "      <td>Auroral Blue</td>\n",
       "      <td>8 GB</td>\n",
       "      <td>128 GB</td>\n",
       "      <td>64MP + 13MP + 8MP + 2MP</td>\n",
       "      <td>44MP + 2MP Dual Front Camera</td>\n",
       "      <td>16.26 cm (6.4 inch)</td>\n",
       "      <td>2400 x 1080 Pixels</td>\n",
       "      <td>MediaTek Helio P95</td>\n",
       "      <td>Octa Core</td>\n",
       "      <td>4025 mAh</td>\n",
       "      <td>₹32,990</td>\n",
       "      <td>https://www.flipkart.com/oppo-reno3-pro-aurora...</td>\n",
       "    </tr>\n",
       "    <tr>\n",
       "      <th>13</th>\n",
       "      <td>OPPO</td>\n",
       "      <td>OPPO Reno3 Pro (Sky White, 256 GB)</td>\n",
       "      <td>CPH2035</td>\n",
       "      <td>Sky White</td>\n",
       "      <td>8 GB</td>\n",
       "      <td>256 GB</td>\n",
       "      <td>64MP + 13MP + 8MP + 2MP</td>\n",
       "      <td>44MP + 2MP Dual Front Camera</td>\n",
       "      <td>16.26 cm (6.4 inch)</td>\n",
       "      <td>2400 x 1080 Pixels</td>\n",
       "      <td>MediaTek Helio P95</td>\n",
       "      <td>Octa Core</td>\n",
       "      <td>4025 mAh</td>\n",
       "      <td>₹35,990</td>\n",
       "      <td>https://www.flipkart.com/oppo-reno3-pro-sky-wh...</td>\n",
       "    </tr>\n",
       "    <tr>\n",
       "      <th>14</th>\n",
       "      <td>OPPO</td>\n",
       "      <td>OPPO Reno3 Pro (Midnight Black, 128 GB)</td>\n",
       "      <td>CPH2035</td>\n",
       "      <td>Midnight Black</td>\n",
       "      <td>8 GB</td>\n",
       "      <td>128 GB</td>\n",
       "      <td>64MP + 13MP + 8MP + 2MP</td>\n",
       "      <td>44MP + 2MP Dual Front Camera</td>\n",
       "      <td>16.26 cm (6.4 inch)</td>\n",
       "      <td>2400 x 1080 Pixels</td>\n",
       "      <td>MediaTek Helio P95</td>\n",
       "      <td>Octa Core</td>\n",
       "      <td>4025 mAh</td>\n",
       "      <td>₹32,990</td>\n",
       "      <td>https://www.flipkart.com/oppo-reno3-pro-midnig...</td>\n",
       "    </tr>\n",
       "  </tbody>\n",
       "</table>\n",
       "</div>"
      ],
      "text/plain": [
       "   Brand Name                                    Smartphone Name Model No.  \\\n",
       "0       OPPO                  OPPO Reno6 Pro 5G (Aurora, 256 GB)   CPH2249   \n",
       "1       OPPO           OPPO Reno6 Pro 5G (Majestic Gold, 256 GB)   CPH2249   \n",
       "2       OPPO           OPPO Reno6 Pro 5G (Stellar Black, 256 GB)   CPH2249   \n",
       "3       OPPO            OPPO Reno5 Pro 5G (Starry Black, 128 GB)   CPH2201   \n",
       "4       OPPO             OPPO Reno5 Pro 5G (Astral Blue, 128 GB)   CPH2201   \n",
       "5       OPPO   OPPO Reno4 Pro Special Edition (Galactic Blue,...   CPH2109   \n",
       "6       OPPO                OPPO Reno4 Pro (Silky White, 128 GB)   CPH2109   \n",
       "7       OPPO               OPPO Reno4 Pro (Starry Night, 128 GB)   CPH2109   \n",
       "8       OPPO             OPPO Reno3 Pro (Midnight Black, 256 GB)   CPH2035   \n",
       "9       OPPO               OPPO Reno3 Pro (Auroral Blue, 256 GB)   CPH2035   \n",
       "10      OPPO                  OPPO Reno3 Pro (Sky White, 128 GB)   CPH2035   \n",
       "11      OPPO   OPPO Reno4 Pro Special Edition (Starry Night, ...   CPH2109   \n",
       "12      OPPO               OPPO Reno3 Pro (Auroral Blue, 128 GB)   CPH2035   \n",
       "13      OPPO                  OPPO Reno3 Pro (Sky White, 256 GB)   CPH2035   \n",
       "14      OPPO             OPPO Reno3 Pro (Midnight Black, 128 GB)   CPH2035   \n",
       "\n",
       "             Color    RAM     ROM           Primary Camara  \\\n",
       "0           Aurora  12 GB  256 GB   64MP + 8MP + 2MP + 2MP   \n",
       "1    Majestic Gold  12 GB  256 GB   64MP + 8MP + 2MP + 2MP   \n",
       "2    Stellar Black  12 GB  256 GB   64MP + 8MP + 2MP + 2MP   \n",
       "3     Starry Black   8 GB  128 GB   64MP + 8MP + 2MP + 2MP   \n",
       "4      Astral Blue   8 GB  128 GB   64MP + 8MP + 2MP + 2MP   \n",
       "5    Galactic Blue   8 GB  128 GB   48MP + 8MP + 2MP + 2MP   \n",
       "6      Silky White   8 GB  128 GB   48MP + 8MP + 2MP + 2MP   \n",
       "7     Starry Night   8 GB  128 GB   48MP + 8MP + 2MP + 2MP   \n",
       "8   Midnight Black   8 GB  256 GB  64MP + 13MP + 8MP + 2MP   \n",
       "9     Auroral Blue   8 GB  256 GB  64MP + 13MP + 8MP + 2MP   \n",
       "10       Sky White   8 GB  128 GB  64MP + 13MP + 8MP + 2MP   \n",
       "11    Starry Night   8 GB  128 GB   48MP + 8MP + 2MP + 2MP   \n",
       "12    Auroral Blue   8 GB  128 GB  64MP + 13MP + 8MP + 2MP   \n",
       "13       Sky White   8 GB  256 GB  64MP + 13MP + 8MP + 2MP   \n",
       "14  Midnight Black   8 GB  128 GB  64MP + 13MP + 8MP + 2MP   \n",
       "\n",
       "                Secondary Camara               Dispaly         Resoluation  \\\n",
       "0              32MP Front Camera  16.64 cm (6.55 inch)  2400 x 1080 Pixels   \n",
       "1              32MP Front Camera  16.64 cm (6.55 inch)  2400 x 1080 Pixels   \n",
       "2              32MP Front Camera  16.64 cm (6.55 inch)  2400 x 1080 Pixels   \n",
       "3              32MP Front Camera  16.64 cm (6.55 inch)  2400 x 1080 Pixels   \n",
       "4              32MP Front Camera  16.64 cm (6.55 inch)  2400 x 1080 Pixels   \n",
       "5              32MP Front Camera   16.51 cm (6.5 inch)  2400 x 1080 Pixels   \n",
       "6              32MP Front Camera   16.51 cm (6.5 inch)  2400 x 1080 Pixels   \n",
       "7              32MP Front Camera   16.51 cm (6.5 inch)  2400 x 1080 Pixels   \n",
       "8   44MP + 2MP Dual Front Camera   16.26 cm (6.4 inch)  2400 x 1080 Pixels   \n",
       "9   44MP + 2MP Dual Front Camera   16.26 cm (6.4 inch)  2400 x 1080 Pixels   \n",
       "10  44MP + 2MP Dual Front Camera   16.26 cm (6.4 inch)  2400 x 1080 Pixels   \n",
       "11             32MP Front Camera   16.51 cm (6.5 inch)  2400 x 1080 Pixels   \n",
       "12  44MP + 2MP Dual Front Camera   16.26 cm (6.4 inch)  2400 x 1080 Pixels   \n",
       "13  44MP + 2MP Dual Front Camera   16.26 cm (6.4 inch)  2400 x 1080 Pixels   \n",
       "14  44MP + 2MP Dual Front Camera   16.26 cm (6.4 inch)  2400 x 1080 Pixels   \n",
       "\n",
       "                             Processor Processor Core Battery Capacity  \\\n",
       "0              MediaTek Dimensity 1200      Octa Core         4500 mAh   \n",
       "1              MediaTek Dimensity 1200      Octa Core         4500 mAh   \n",
       "2              MediaTek Dimensity 1200      Octa Core         4500 mAh   \n",
       "3    MediaTek Dimensity 1000+ (MT6889)      Octa Core         4350 mAh   \n",
       "4    MediaTek Dimensity 1000+ (MT6889)      Octa Core         4350 mAh   \n",
       "5   Qualcomm Snapdragon 720G Octa Core      Octa Core         4000 mAh   \n",
       "6   Qualcomm Snapdragon 720G Octa Core      Octa Core         4000 mAh   \n",
       "7   Qualcomm Snapdragon 720G Octa Core      Octa Core         4000 mAh   \n",
       "8                   MediaTek Helio P95      Octa Core         4025 mAh   \n",
       "9                   MediaTek Helio P95      Octa Core         4025 mAh   \n",
       "10                  MediaTek Helio P95      Octa Core         4025 mAh   \n",
       "11  Qualcomm Snapdragon 720G Octa Core      Octa Core         4000 mAh   \n",
       "12                  MediaTek Helio P95      Octa Core         4025 mAh   \n",
       "13                  MediaTek Helio P95      Octa Core         4025 mAh   \n",
       "14                  MediaTek Helio P95      Octa Core         4025 mAh   \n",
       "\n",
       "      Price                                        Product URL  \n",
       "0   ₹39,990  https://www.flipkart.com/oppo-reno6-pro-5g-aur...  \n",
       "1   ₹41,990  https://www.flipkart.com/oppo-reno6-pro-5g-maj...  \n",
       "2   ₹39,990  https://www.flipkart.com/oppo-reno6-pro-5g-ste...  \n",
       "3   ₹35,990  https://www.flipkart.com/oppo-reno5-pro-5g-sta...  \n",
       "4   ₹35,990  https://www.flipkart.com/oppo-reno5-pro-5g-ast...  \n",
       "5   ₹34,990  https://www.flipkart.com/oppo-reno4-pro-specia...  \n",
       "6   ₹34,990  https://www.flipkart.com/oppo-reno4-pro-silky-...  \n",
       "7   ₹34,990  https://www.flipkart.com/oppo-reno4-pro-starry...  \n",
       "8   ₹27,989  https://www.flipkart.com/oppo-reno3-pro-midnig...  \n",
       "9   ₹26,990  https://www.flipkart.com/oppo-reno3-pro-aurora...  \n",
       "10  ₹32,990  https://www.flipkart.com/oppo-reno3-pro-sky-wh...  \n",
       "11  ₹34,990  https://www.flipkart.com/oppo-reno4-pro-specia...  \n",
       "12  ₹32,990  https://www.flipkart.com/oppo-reno3-pro-aurora...  \n",
       "13  ₹35,990  https://www.flipkart.com/oppo-reno3-pro-sky-wh...  \n",
       "14  ₹32,990  https://www.flipkart.com/oppo-reno3-pro-midnig...  "
      ]
     },
     "execution_count": 26,
     "metadata": {},
     "output_type": "execute_result"
    }
   ],
   "source": [
    "df4=pd.DataFrame()\n",
    "\n",
    "df4['Brand Name']=Brand_Name\n",
    "df4['Smartphone Name']=SmartPhone_Name\n",
    "df4['Model No.']=Model_No\n",
    "df4['Color']=Color\n",
    "df4['RAM']=ram\n",
    "df4['ROM']=rom\n",
    "df4['Primary Camara']=pr_cam\n",
    "df4['Secondary Camara']=sec_cam\n",
    "df4['Dispaly']=dis\n",
    "df4['Resoluation']=res\n",
    "df4['Processor']=pros_type\n",
    "df4['Processor Core']=pros_core\n",
    "df4['Battery Capacity']=battery\n",
    "df4['Price']=Price\n",
    "df4['Product URL']=Url4\n",
    "\n",
    "df4\n"
   ]
  },
  {
   "cell_type": "markdown",
   "metadata": {},
   "source": [
    "QUESTION 5"
   ]
  },
  {
   "cell_type": "code",
   "execution_count": 17,
   "metadata": {},
   "outputs": [
    {
     "name": "stderr",
     "output_type": "stream",
     "text": [
      "<ipython-input-17-9a7f367165f3>:1: DeprecationWarning: executable_path has been deprecated, please pass in a Service object\n",
      "  driver5=webdriver.Chrome('C:/Users/Kishan/Downloads/chromedriver_win32/chromedriver.exe')\n"
     ]
    }
   ],
   "source": [
    "driver5=webdriver.Chrome('C:/Users/Kishan/Downloads/chromedriver_win32/chromedriver.exe')\n",
    "url5='https://www.google.com/maps'\n",
    "driver5.get(url5)"
   ]
  },
  {
   "cell_type": "code",
   "execution_count": 19,
   "metadata": {},
   "outputs": [
    {
     "name": "stderr",
     "output_type": "stream",
     "text": [
      "<ipython-input-19-120f5dbdbf5c>:1: DeprecationWarning: find_element_by_* commands are deprecated. Please use find_element() instead\n",
      "  box=driver5.find_element_by_xpath(\"//input[@class='tactile-searchbox-input']\")\n"
     ]
    },
    {
     "name": "stdout",
     "output_type": "stream",
     "text": [
      "Geospatial coordinate of Rajkot Are:\n",
      "Latitude 22.4168315\n",
      "Longitute 71.319437\n"
     ]
    },
    {
     "name": "stderr",
     "output_type": "stream",
     "text": [
      "<ipython-input-19-120f5dbdbf5c>:4: DeprecationWarning: find_element_by_* commands are deprecated. Please use find_element() instead\n",
      "  btn=driver5.find_element_by_xpath(\"/html/body/div[3]/div[9]/div[3]/div[1]/div[1]/div[1]/div[2]/div[1]/button\").click()\n"
     ]
    }
   ],
   "source": [
    "box=driver5.find_element_by_xpath(\"//input[@class='tactile-searchbox-input']\")\n",
    "box.send_keys('Rajkot')\n",
    "\n",
    "btn=driver5.find_element_by_xpath(\"/html/body/div[3]/div[9]/div[3]/div[1]/div[1]/div[1]/div[2]/div[1]/button\").click()\n",
    "\n",
    "current_url=driver5.current_url\n",
    "\n",
    "import re\n",
    "\n",
    "try:\n",
    "    latitude=re.findall('(\\d+(\\.\\d*)?)',current_url)[0]\n",
    "    longitude=re.findall('(\\d+(\\.\\d*)?)',current_url)[1]\n",
    "    print(\"Geospatial coordinate of Rajkot Are:\")\n",
    "    print(\"Latitude\",latitude[0])\n",
    "    print(\"Longitute\",longitude[0])\n",
    "except Exception as e:\n",
    "    print(\"Error:\",str(e))"
   ]
  },
  {
   "cell_type": "markdown",
   "metadata": {},
   "source": [
    "QUESTION 6"
   ]
  },
  {
   "cell_type": "code",
   "execution_count": 28,
   "metadata": {},
   "outputs": [
    {
     "name": "stderr",
     "output_type": "stream",
     "text": [
      "<ipython-input-28-01a37b7ad698>:1: DeprecationWarning: executable_path has been deprecated, please pass in a Service object\n",
      "  driver6=webdriver.Chrome('C:/Users/Kishan/Downloads/chromedriver_win32/chromedriver.exe')\n"
     ]
    }
   ],
   "source": [
    "driver6=webdriver.Chrome('C:/Users/Kishan/Downloads/chromedriver_win32/chromedriver.exe')\n",
    "url6='https://trak.in/india-startup-funding-investment-2015/'\n",
    "driver6.get(url6)"
   ]
  },
  {
   "cell_type": "code",
   "execution_count": 40,
   "metadata": {},
   "outputs": [
    {
     "name": "stderr",
     "output_type": "stream",
     "text": [
      "<ipython-input-40-f1587bcd1894>:10: DeprecationWarning: find_elements_by_* commands are deprecated. Please use find_elements() instead\n",
      "  dat=driver6.find_elements_by_xpath(\"//td[@class='column-2']\")\n"
     ]
    },
    {
     "name": "stdout",
     "output_type": "stream",
     "text": [
      "392\n"
     ]
    }
   ],
   "source": [
    "#Date=[]\n",
    "#date=driver6.find_elements_by_xpath(\"//table[@class='tablepress tablepress-id-57 dataTable no-footer']\")\n",
    "\n",
    "#for i in date:\n",
    "#    Date.append(i.text)\n",
    "    \n",
    "#len(Date)\n",
    "\n",
    "Date=[]\n",
    "dat=driver6.find_elements_by_xpath(\"//td[@class='column-2']\")\n",
    "\n",
    "for i in dat:\n",
    "    Date.append(i.text)\n",
    "    \n",
    "print(len(Date))"
   ]
  },
  {
   "cell_type": "code",
   "execution_count": 43,
   "metadata": {},
   "outputs": [
    {
     "name": "stderr",
     "output_type": "stream",
     "text": [
      "<ipython-input-43-4ddc990d06fb>:2: DeprecationWarning: find_elements_by_* commands are deprecated. Please use find_elements() instead\n",
      "  startup=driver6.find_elements_by_xpath(\"//td[@class='column-3']\")\n"
     ]
    },
    {
     "data": {
      "text/plain": [
       "392"
      ]
     },
     "execution_count": 43,
     "metadata": {},
     "output_type": "execute_result"
    }
   ],
   "source": [
    "StartUp=[]\n",
    "startup=driver6.find_elements_by_xpath(\"//td[@class='column-3']\")\n",
    "\n",
    "for i in startup:\n",
    "    StartUp.append(i.text)\n",
    "    \n",
    "len(StartUp)"
   ]
  },
  {
   "cell_type": "code",
   "execution_count": 31,
   "metadata": {},
   "outputs": [
    {
     "name": "stderr",
     "output_type": "stream",
     "text": [
      "<ipython-input-31-f3c247cffd2a>:2: DeprecationWarning: find_elements_by_* commands are deprecated. Please use find_elements() instead\n",
      "  ind=driver6.find_elements_by_xpath(\"//td[@class='column-4']\")\n"
     ]
    },
    {
     "name": "stdout",
     "output_type": "stream",
     "text": [
      "392\n"
     ]
    }
   ],
   "source": [
    "Industry=[]\n",
    "ind=driver6.find_elements_by_xpath(\"//td[@class='column-4']\")\n",
    "\n",
    "for i in ind:\n",
    "    Industry.append(i.text)\n",
    "    \n",
    "print(len(Industry))"
   ]
  },
  {
   "cell_type": "code",
   "execution_count": 32,
   "metadata": {},
   "outputs": [
    {
     "name": "stderr",
     "output_type": "stream",
     "text": [
      "<ipython-input-32-ab2ad855c3cb>:2: DeprecationWarning: find_elements_by_* commands are deprecated. Please use find_elements() instead\n",
      "  sv=driver6.find_elements_by_xpath(\"//td[@class='column-5']\")\n"
     ]
    },
    {
     "name": "stdout",
     "output_type": "stream",
     "text": [
      "392\n"
     ]
    }
   ],
   "source": [
    "Sub_Vertical=[]\n",
    "sv=driver6.find_elements_by_xpath(\"//td[@class='column-5']\")\n",
    "\n",
    "for i in sv:\n",
    "    Sub_Vertical.append(i.text)\n",
    "    \n",
    "print(len(Sub_Vertical))"
   ]
  },
  {
   "cell_type": "code",
   "execution_count": 33,
   "metadata": {},
   "outputs": [
    {
     "name": "stderr",
     "output_type": "stream",
     "text": [
      "<ipython-input-33-8418c5ff46b3>:2: DeprecationWarning: find_elements_by_* commands are deprecated. Please use find_elements() instead\n",
      "  city=driver6.find_elements_by_xpath(\"//td[@class='column-6']\")\n"
     ]
    },
    {
     "name": "stdout",
     "output_type": "stream",
     "text": [
      "392\n"
     ]
    }
   ],
   "source": [
    "City=[]\n",
    "city=driver6.find_elements_by_xpath(\"//td[@class='column-6']\")\n",
    "\n",
    "for i in city:\n",
    "    City.append(i.text)\n",
    "    \n",
    "print(len(City))"
   ]
  },
  {
   "cell_type": "code",
   "execution_count": 34,
   "metadata": {},
   "outputs": [
    {
     "name": "stderr",
     "output_type": "stream",
     "text": [
      "<ipython-input-34-8f8e35f6657d>:2: DeprecationWarning: find_elements_by_* commands are deprecated. Please use find_elements() instead\n",
      "  inname=driver6.find_elements_by_xpath(\"//td[@class='column-7']\")\n"
     ]
    },
    {
     "name": "stdout",
     "output_type": "stream",
     "text": [
      "392\n"
     ]
    }
   ],
   "source": [
    "Investor_Name=[]\n",
    "inname=driver6.find_elements_by_xpath(\"//td[@class='column-7']\")\n",
    "\n",
    "for i in inname:\n",
    "    Investor_Name.append(i.text)\n",
    "    \n",
    "print(len(Investor_Name))"
   ]
  },
  {
   "cell_type": "code",
   "execution_count": 35,
   "metadata": {},
   "outputs": [
    {
     "name": "stderr",
     "output_type": "stream",
     "text": [
      "<ipython-input-35-cd8a06b08ed2>:2: DeprecationWarning: find_elements_by_* commands are deprecated. Please use find_elements() instead\n",
      "  it=driver6.find_elements_by_xpath(\"//td[@class='column-8']\")\n"
     ]
    },
    {
     "name": "stdout",
     "output_type": "stream",
     "text": [
      "392\n"
     ]
    }
   ],
   "source": [
    "Investor_Type=[]\n",
    "it=driver6.find_elements_by_xpath(\"//td[@class='column-8']\")\n",
    "\n",
    "for i in it:\n",
    "    Investor_Type.append(i.text)\n",
    "    \n",
    "print(len(Investor_Type))"
   ]
  },
  {
   "cell_type": "code",
   "execution_count": 36,
   "metadata": {},
   "outputs": [
    {
     "name": "stderr",
     "output_type": "stream",
     "text": [
      "<ipython-input-36-7577d74ea3c0>:2: DeprecationWarning: find_elements_by_* commands are deprecated. Please use find_elements() instead\n",
      "  amt=driver6.find_elements_by_xpath(\"//td[@class='column-9']\")\n"
     ]
    },
    {
     "name": "stdout",
     "output_type": "stream",
     "text": [
      "392\n"
     ]
    }
   ],
   "source": [
    "Amount=[]\n",
    "amt=driver6.find_elements_by_xpath(\"//td[@class='column-9']\")\n",
    "\n",
    "for i in amt:\n",
    "    Amount.append(i.text)\n",
    "    \n",
    "print(len(Amount))"
   ]
  },
  {
   "cell_type": "code",
   "execution_count": 44,
   "metadata": {},
   "outputs": [
    {
     "data": {
      "text/html": [
       "<div>\n",
       "<style scoped>\n",
       "    .dataframe tbody tr th:only-of-type {\n",
       "        vertical-align: middle;\n",
       "    }\n",
       "\n",
       "    .dataframe tbody tr th {\n",
       "        vertical-align: top;\n",
       "    }\n",
       "\n",
       "    .dataframe thead th {\n",
       "        text-align: right;\n",
       "    }\n",
       "</style>\n",
       "<table border=\"1\" class=\"dataframe\">\n",
       "  <thead>\n",
       "    <tr style=\"text-align: right;\">\n",
       "      <th></th>\n",
       "      <th>Date</th>\n",
       "      <th>StartUp_Name</th>\n",
       "      <th>Industry/Vertical</th>\n",
       "      <th>Sub-Vertical</th>\n",
       "      <th>City/Location</th>\n",
       "      <th>Investor_Name</th>\n",
       "      <th>Investor_Type</th>\n",
       "      <th>Amount(In USD)</th>\n",
       "    </tr>\n",
       "  </thead>\n",
       "  <tbody>\n",
       "    <tr>\n",
       "      <th>0</th>\n",
       "      <td>31/03/2021</td>\n",
       "      <td>Uniphore</td>\n",
       "      <td>Technology</td>\n",
       "      <td>Conversational Service Automation (CSA)</td>\n",
       "      <td>Palo Alto</td>\n",
       "      <td>Sorenson Capital Partners</td>\n",
       "      <td>Series D</td>\n",
       "      <td>140,000,000</td>\n",
       "    </tr>\n",
       "    <tr>\n",
       "      <th>1</th>\n",
       "      <td>30/03/2021</td>\n",
       "      <td>Dunzo</td>\n",
       "      <td>E-commerce</td>\n",
       "      <td>Hyper-local delivery app</td>\n",
       "      <td>Bengaluru</td>\n",
       "      <td>Krishtal Advisors Pte Ltd</td>\n",
       "      <td>Series E</td>\n",
       "      <td>8,000,000</td>\n",
       "    </tr>\n",
       "    <tr>\n",
       "      <th>2</th>\n",
       "      <td>30/03/2021</td>\n",
       "      <td>BYJU’S</td>\n",
       "      <td>Edu-tech</td>\n",
       "      <td>Online tutoring</td>\n",
       "      <td>Bengaluru</td>\n",
       "      <td>MC Global Edtech, B Capital, Baron, others</td>\n",
       "      <td>Series F</td>\n",
       "      <td>460,000,000</td>\n",
       "    </tr>\n",
       "    <tr>\n",
       "      <th>3</th>\n",
       "      <td>23/03/2021</td>\n",
       "      <td>SkilloVilla</td>\n",
       "      <td>Edu-tech</td>\n",
       "      <td>Career and job-oriented upskilling.</td>\n",
       "      <td>Bengaluru</td>\n",
       "      <td>Titan Capital, others</td>\n",
       "      <td>Seed</td>\n",
       "      <td>300,000,000</td>\n",
       "    </tr>\n",
       "    <tr>\n",
       "      <th>4</th>\n",
       "      <td>25/03/2021</td>\n",
       "      <td>CityMall</td>\n",
       "      <td>E-commerce</td>\n",
       "      <td>Social ecommerce and online grocery platform</td>\n",
       "      <td>Gurgaon</td>\n",
       "      <td>Accel Partners</td>\n",
       "      <td>Series A</td>\n",
       "      <td>11,000,000</td>\n",
       "    </tr>\n",
       "    <tr>\n",
       "      <th>5</th>\n",
       "      <td>26/03/2021</td>\n",
       "      <td>DotPe</td>\n",
       "      <td>FinTech</td>\n",
       "      <td>Commerce and payments platform to offline ente...</td>\n",
       "      <td>Gurgaon</td>\n",
       "      <td>PayU</td>\n",
       "      <td>Series A</td>\n",
       "      <td>27,500,000</td>\n",
       "    </tr>\n",
       "    <tr>\n",
       "      <th>6</th>\n",
       "      <td>11/02/2021</td>\n",
       "      <td>Doubtnut</td>\n",
       "      <td>Edu Tech</td>\n",
       "      <td>E-Learning Platform</td>\n",
       "      <td>Gurgaon</td>\n",
       "      <td>SIG Global, Sequoia Capital, WaterBridge Ventu...</td>\n",
       "      <td>Series B</td>\n",
       "      <td>2,500,000</td>\n",
       "    </tr>\n",
       "    <tr>\n",
       "      <th>7</th>\n",
       "      <td>22/02/2021</td>\n",
       "      <td>Zomato</td>\n",
       "      <td>Hospitality</td>\n",
       "      <td>Online Food Delivery Platform</td>\n",
       "      <td>Gurgaon</td>\n",
       "      <td>Tiger Global, Kora</td>\n",
       "      <td>Venture</td>\n",
       "      <td>250,000,000</td>\n",
       "    </tr>\n",
       "    <tr>\n",
       "      <th>8</th>\n",
       "      <td>19/02/2021</td>\n",
       "      <td>Fingerlix</td>\n",
       "      <td>Hospitality</td>\n",
       "      <td>Semi-cooked food delivery app</td>\n",
       "      <td>Mumbai</td>\n",
       "      <td>Rhodium Trust, Accel Partners and Swiggy</td>\n",
       "      <td>Series C</td>\n",
       "      <td>2,747,045.20</td>\n",
       "    </tr>\n",
       "    <tr>\n",
       "      <th>9</th>\n",
       "      <td>17/02/2021</td>\n",
       "      <td>Zolve</td>\n",
       "      <td>FinTech</td>\n",
       "      <td>Global Neobank Venture</td>\n",
       "      <td>Mumbai</td>\n",
       "      <td>Accel Partners and Lightspeed Venture Partners</td>\n",
       "      <td>Seed</td>\n",
       "      <td>1,50,00,000</td>\n",
       "    </tr>\n",
       "    <tr>\n",
       "      <th>10</th>\n",
       "      <td>15/02/2021</td>\n",
       "      <td>KreditBee</td>\n",
       "      <td>Finance</td>\n",
       "      <td>Digital lending platform</td>\n",
       "      <td>Bengaluru</td>\n",
       "      <td>Azim Premji’s PremjiInvest and South Korea’s M...</td>\n",
       "      <td>Series C</td>\n",
       "      <td>75,000,000</td>\n",
       "    </tr>\n",
       "    <tr>\n",
       "      <th>11</th>\n",
       "      <td>12/02/2021</td>\n",
       "      <td>Pepperfry</td>\n",
       "      <td>E-commerce</td>\n",
       "      <td>Multi-brand furniture brand</td>\n",
       "      <td>Mumbai</td>\n",
       "      <td>InnoVen Capital</td>\n",
       "      <td>Debt Financing</td>\n",
       "      <td>4,773,958</td>\n",
       "    </tr>\n",
       "    <tr>\n",
       "      <th>12</th>\n",
       "      <td>12/02/2021</td>\n",
       "      <td>Grofers</td>\n",
       "      <td>E-Commerce</td>\n",
       "      <td>Online supermarket</td>\n",
       "      <td>Gurgaon</td>\n",
       "      <td>SoftBank Vision Fund (SVF)</td>\n",
       "      <td>Unspecified</td>\n",
       "      <td>55,000,000</td>\n",
       "    </tr>\n",
       "    <tr>\n",
       "      <th>13</th>\n",
       "      <td>09/02/2021</td>\n",
       "      <td>Nothing</td>\n",
       "      <td>Technology</td>\n",
       "      <td>Consumer Technology Venture</td>\n",
       "      <td>London</td>\n",
       "      <td>GV</td>\n",
       "      <td>Series A</td>\n",
       "      <td>15,000,000</td>\n",
       "    </tr>\n",
       "    <tr>\n",
       "      <th>14</th>\n",
       "      <td>09/02/2021</td>\n",
       "      <td>SplashLearn</td>\n",
       "      <td>EdTech</td>\n",
       "      <td>Game-based learning programme</td>\n",
       "      <td>Gurgaon</td>\n",
       "      <td>Owl Ventures</td>\n",
       "      <td>Series C</td>\n",
       "      <td>18,000,000</td>\n",
       "    </tr>\n",
       "    <tr>\n",
       "      <th>15</th>\n",
       "      <td>15/01/2021</td>\n",
       "      <td>Digit Insurance</td>\n",
       "      <td>Financial Services</td>\n",
       "      <td>Insurance Services</td>\n",
       "      <td>Bengaluru</td>\n",
       "      <td>A91 Partners, Faering Capital, TVS Capital Funds</td>\n",
       "      <td>Venture</td>\n",
       "      <td>1,80,00,000</td>\n",
       "    </tr>\n",
       "    <tr>\n",
       "      <th>16</th>\n",
       "      <td>28/01/2021</td>\n",
       "      <td>Bombay Shaving Company</td>\n",
       "      <td>Consumer Goods Company</td>\n",
       "      <td>Shave care, beard care, and skincare products</td>\n",
       "      <td>New Delhi</td>\n",
       "      <td>Reckitt Benckiser</td>\n",
       "      <td>Venture</td>\n",
       "      <td>6,172,258.50</td>\n",
       "    </tr>\n",
       "    <tr>\n",
       "      <th>17</th>\n",
       "      <td>19/01/2021</td>\n",
       "      <td>DeHaat</td>\n",
       "      <td>AgriTech Startup</td>\n",
       "      <td>online marketplace for farm products and services</td>\n",
       "      <td>Patna</td>\n",
       "      <td>Prosus Ventures</td>\n",
       "      <td>Series C</td>\n",
       "      <td>30,000,000</td>\n",
       "    </tr>\n",
       "    <tr>\n",
       "      <th>18</th>\n",
       "      <td>19/01/2021</td>\n",
       "      <td>Darwinbox</td>\n",
       "      <td>SaaS</td>\n",
       "      <td>HR Tech</td>\n",
       "      <td>Mumbai</td>\n",
       "      <td>Salesforce Ventures</td>\n",
       "      <td>Seed</td>\n",
       "      <td>15,000,000</td>\n",
       "    </tr>\n",
       "    <tr>\n",
       "      <th>19</th>\n",
       "      <td>18/01/2021</td>\n",
       "      <td>mfine</td>\n",
       "      <td>Health Tech Startup</td>\n",
       "      <td>AI-powered telemedicine mobile app</td>\n",
       "      <td>Bengaluru</td>\n",
       "      <td>Heritas Capital Management</td>\n",
       "      <td>Venture Round</td>\n",
       "      <td>16,000,000</td>\n",
       "    </tr>\n",
       "    <tr>\n",
       "      <th>20</th>\n",
       "      <td>18/01/2021</td>\n",
       "      <td>Udayy</td>\n",
       "      <td>EdTech</td>\n",
       "      <td>Online learning platform for kids in class 1-5</td>\n",
       "      <td>Gurgaon</td>\n",
       "      <td>Sequoia Capital</td>\n",
       "      <td>Seed Funding</td>\n",
       "      <td>15,000,000</td>\n",
       "    </tr>\n",
       "    <tr>\n",
       "      <th>21</th>\n",
       "      <td>11/01/2021</td>\n",
       "      <td>True Elements</td>\n",
       "      <td>Food Startup</td>\n",
       "      <td>Whole Food plant based Nashta</td>\n",
       "      <td>Pune</td>\n",
       "      <td>SIDBI Venture Capital</td>\n",
       "      <td>Series</td>\n",
       "      <td>100,000,000</td>\n",
       "    </tr>\n",
       "    <tr>\n",
       "      <th>22</th>\n",
       "      <td>13/01/2021</td>\n",
       "      <td>Saveo</td>\n",
       "      <td>B2B E-commerce</td>\n",
       "      <td>Pharmacies</td>\n",
       "      <td>Bengaluru</td>\n",
       "      <td>Matrix Partners India, RTP Global, others</td>\n",
       "      <td>Seed</td>\n",
       "      <td>4,000,000</td>\n",
       "    </tr>\n",
       "    <tr>\n",
       "      <th>23</th>\n",
       "      <td>15/12/2020</td>\n",
       "      <td>Bira 91</td>\n",
       "      <td>Food and Beverage</td>\n",
       "      <td>Craft Beer</td>\n",
       "      <td>New Delhi</td>\n",
       "      <td>Nishant Mittal, Pankaj Chaddah and Shikha Suni...</td>\n",
       "      <td>Funding</td>\n",
       "      <td>1,273,634.07</td>\n",
       "    </tr>\n",
       "    <tr>\n",
       "      <th>24</th>\n",
       "      <td>21/12/2020</td>\n",
       "      <td>Pine Labs</td>\n",
       "      <td>Financial Services</td>\n",
       "      <td>Payment Solutions Provider</td>\n",
       "      <td>Noida</td>\n",
       "      <td>Lone Pine Capital</td>\n",
       "      <td>Secondary Market</td>\n",
       "      <td>Undisclosed</td>\n",
       "    </tr>\n",
       "    <tr>\n",
       "      <th>25</th>\n",
       "      <td>15/12/2020</td>\n",
       "      <td>Zenoti</td>\n",
       "      <td>Technology Provider</td>\n",
       "      <td>Cloud-based software provider for the spa and ...</td>\n",
       "      <td>Washington</td>\n",
       "      <td>Advent International</td>\n",
       "      <td>Series D</td>\n",
       "      <td>160,000,000</td>\n",
       "    </tr>\n",
       "    <tr>\n",
       "      <th>26</th>\n",
       "      <td>22/12/2020</td>\n",
       "      <td>Tax Buddy India</td>\n",
       "      <td>FinTech</td>\n",
       "      <td>Online tax adviser</td>\n",
       "      <td>Mumbai</td>\n",
       "      <td>Zenith Global</td>\n",
       "      <td>Seed</td>\n",
       "      <td>1,000,000</td>\n",
       "    </tr>\n",
       "    <tr>\n",
       "      <th>27</th>\n",
       "      <td>15/12/2020</td>\n",
       "      <td>Delhivery</td>\n",
       "      <td>Supply chain</td>\n",
       "      <td>Transportation</td>\n",
       "      <td>Gurgaon</td>\n",
       "      <td>Steadview Capital</td>\n",
       "      <td>Secondary Market</td>\n",
       "      <td>25,000,000</td>\n",
       "    </tr>\n",
       "    <tr>\n",
       "      <th>28</th>\n",
       "      <td>18/12/2020</td>\n",
       "      <td>PagarBook</td>\n",
       "      <td>SaaS</td>\n",
       "      <td>Employee management platform</td>\n",
       "      <td>Bengaluru</td>\n",
       "      <td>Sequoia Capital</td>\n",
       "      <td>Series A</td>\n",
       "      <td>15,000,000</td>\n",
       "    </tr>\n",
       "    <tr>\n",
       "      <th>29</th>\n",
       "      <td>30/11/2020</td>\n",
       "      <td>Codingal</td>\n",
       "      <td>EduTech</td>\n",
       "      <td>Online coding platform</td>\n",
       "      <td>Bengaluru</td>\n",
       "      <td>Rebright Partners, Java Capital, and GSF Accel...</td>\n",
       "      <td>Seed</td>\n",
       "      <td>560,000</td>\n",
       "    </tr>\n",
       "    <tr>\n",
       "      <th>30</th>\n",
       "      <td>30/11/2020</td>\n",
       "      <td>CRED</td>\n",
       "      <td>Financial Services</td>\n",
       "      <td>Credit Card Behavior Services</td>\n",
       "      <td>Bengaluru</td>\n",
       "      <td>DST Global</td>\n",
       "      <td>Series C</td>\n",
       "      <td>80,000,000</td>\n",
       "    </tr>\n",
       "    <tr>\n",
       "      <th>31</th>\n",
       "      <td>29/11/2020</td>\n",
       "      <td>Bira 91</td>\n",
       "      <td>Food and Beverage</td>\n",
       "      <td>Craft Beer</td>\n",
       "      <td>New Delhi</td>\n",
       "      <td>Sofina, Sequoia Capital, Sixth Sense Ventures,...</td>\n",
       "      <td>Bridge Funding</td>\n",
       "      <td>3,000,000</td>\n",
       "    </tr>\n",
       "    <tr>\n",
       "      <th>32</th>\n",
       "      <td>27/11/2020</td>\n",
       "      <td>Chumbak</td>\n",
       "      <td>Lifestyle</td>\n",
       "      <td>Gifting Startup</td>\n",
       "      <td>Bengaluru</td>\n",
       "      <td>Gaja Capital Fund (GCFII-A)</td>\n",
       "      <td>Pre-series E</td>\n",
       "      <td>1,001,047.92</td>\n",
       "    </tr>\n",
       "    <tr>\n",
       "      <th>33</th>\n",
       "      <td>25/11/2020</td>\n",
       "      <td>Cityflo</td>\n",
       "      <td>Transportation</td>\n",
       "      <td>App-based bus commute startup</td>\n",
       "      <td>Mumbai</td>\n",
       "      <td>Lightbox Ventures</td>\n",
       "      <td>Series A</td>\n",
       "      <td>7,700,000</td>\n",
       "    </tr>\n",
       "    <tr>\n",
       "      <th>34</th>\n",
       "      <td>25/11/2020</td>\n",
       "      <td>Shipsy</td>\n",
       "      <td>SaaS</td>\n",
       "      <td>Software Automation Of Logistics</td>\n",
       "      <td>Gurgaon</td>\n",
       "      <td>Sequoia Capital India’s Surge, Info Edge</td>\n",
       "      <td>Series A</td>\n",
       "      <td>6,003,806</td>\n",
       "    </tr>\n",
       "    <tr>\n",
       "      <th>35</th>\n",
       "      <td>25/11/2020</td>\n",
       "      <td>Unacademy</td>\n",
       "      <td>Edutech</td>\n",
       "      <td>Online Learning Platform</td>\n",
       "      <td>Bengaluru</td>\n",
       "      <td>Tiger Global Management, Dragoneer Investment ...</td>\n",
       "      <td>Venture</td>\n",
       "      <td>75,000,000-100,000,000</td>\n",
       "    </tr>\n",
       "    <tr>\n",
       "      <th>36</th>\n",
       "      <td>24/11/2020</td>\n",
       "      <td>Cashfree</td>\n",
       "      <td>FinTech</td>\n",
       "      <td>Payments and banking technology</td>\n",
       "      <td>Bengaluru</td>\n",
       "      <td>Matrix Partners India, SAIF Partners, Ward Fer...</td>\n",
       "      <td>Series B</td>\n",
       "      <td>35,300,000</td>\n",
       "    </tr>\n",
       "    <tr>\n",
       "      <th>37</th>\n",
       "      <td>30/11/2020</td>\n",
       "      <td>Credgenics</td>\n",
       "      <td>Fintech</td>\n",
       "      <td>Critical NPA reduction for Fintech lenders and...</td>\n",
       "      <td>Gurgaon</td>\n",
       "      <td>Venture Capital firm, Accel Partners and DMI F...</td>\n",
       "      <td>Pre-Series A</td>\n",
       "      <td>3,500,000</td>\n",
       "    </tr>\n",
       "    <tr>\n",
       "      <th>38</th>\n",
       "      <td>23/11/2020</td>\n",
       "      <td>Country Delight</td>\n",
       "      <td>Dairy Tech</td>\n",
       "      <td>Milk delivery startup</td>\n",
       "      <td>Gurugram</td>\n",
       "      <td>Elevation Capital</td>\n",
       "      <td>Series C</td>\n",
       "      <td>25,000,000</td>\n",
       "    </tr>\n",
       "    <tr>\n",
       "      <th>39</th>\n",
       "      <td>28/10/2020</td>\n",
       "      <td>Nykaa</td>\n",
       "      <td>E-commerce</td>\n",
       "      <td>Beauty, Fashion, Lifestyle, Wellness</td>\n",
       "      <td>Mumbai</td>\n",
       "      <td>Alia Bhatt</td>\n",
       "      <td>Personal Investment</td>\n",
       "      <td>NA</td>\n",
       "    </tr>\n",
       "    <tr>\n",
       "      <th>40</th>\n",
       "      <td>28/10/2020</td>\n",
       "      <td>Betterplace</td>\n",
       "      <td>Digital Solutions</td>\n",
       "      <td>Blue Collar Workforce Management Platform</td>\n",
       "      <td>Bangalore</td>\n",
       "      <td>Jungle Ventures</td>\n",
       "      <td>Series B</td>\n",
       "      <td>10,000,000</td>\n",
       "    </tr>\n",
       "    <tr>\n",
       "      <th>41</th>\n",
       "      <td>28/10/2020</td>\n",
       "      <td>FlexiLoans</td>\n",
       "      <td>FinTech</td>\n",
       "      <td>Digital Lending Platform</td>\n",
       "      <td>Mumbai</td>\n",
       "      <td>Falguni and Sanjay Nayar Family Office</td>\n",
       "      <td>Equity and Debt</td>\n",
       "      <td>20,160,000</td>\n",
       "    </tr>\n",
       "    <tr>\n",
       "      <th>42</th>\n",
       "      <td>27/10/2020</td>\n",
       "      <td>GetVantage</td>\n",
       "      <td>FinTech</td>\n",
       "      <td>Revenue-Based Financing Platform</td>\n",
       "      <td>Mumbai</td>\n",
       "      <td>Chiratae Ventures, Dream Incubators</td>\n",
       "      <td>Seed</td>\n",
       "      <td>5,000,000</td>\n",
       "    </tr>\n",
       "    <tr>\n",
       "      <th>43</th>\n",
       "      <td>27/10/2020</td>\n",
       "      <td>FreshToHome</td>\n",
       "      <td>E-commerce</td>\n",
       "      <td>Food Delivery</td>\n",
       "      <td>Bangalore</td>\n",
       "      <td>Corporation of Dubai (ICD), Ascent Capital, DF...</td>\n",
       "      <td>Series C</td>\n",
       "      <td>121,000,000</td>\n",
       "    </tr>\n",
       "    <tr>\n",
       "      <th>44</th>\n",
       "      <td>27/10/2020</td>\n",
       "      <td>Origo</td>\n",
       "      <td>AgriTech</td>\n",
       "      <td>Agricultural Commodities Management</td>\n",
       "      <td>Gurgaon</td>\n",
       "      <td>Northern Arc Capital</td>\n",
       "      <td>Debt</td>\n",
       "      <td>4,700,000</td>\n",
       "    </tr>\n",
       "    <tr>\n",
       "      <th>45</th>\n",
       "      <td>27/10/2020</td>\n",
       "      <td>Origo</td>\n",
       "      <td>Advertising</td>\n",
       "      <td>Online Video Editing</td>\n",
       "      <td>Mumbai</td>\n",
       "      <td>Sequoia Capital India</td>\n",
       "      <td>Series A</td>\n",
       "      <td>15,000,000</td>\n",
       "    </tr>\n",
       "    <tr>\n",
       "      <th>46</th>\n",
       "      <td>15/10/2020</td>\n",
       "      <td>Treebo Hotels</td>\n",
       "      <td>Hospitality</td>\n",
       "      <td>Budget Hospitality Chain</td>\n",
       "      <td>Bangalore</td>\n",
       "      <td>Matrix Partners India, SAIF Partners, Ward Fer...</td>\n",
       "      <td></td>\n",
       "      <td>6,000,000</td>\n",
       "    </tr>\n",
       "    <tr>\n",
       "      <th>47</th>\n",
       "      <td>26/10/2020</td>\n",
       "      <td>Hubilo</td>\n",
       "      <td>Information Technology</td>\n",
       "      <td>Virtual Events Platform</td>\n",
       "      <td>Wilmington, Delaware, United States</td>\n",
       "      <td>Lightspeed Venture Partners</td>\n",
       "      <td>Seed</td>\n",
       "      <td>4,500,000</td>\n",
       "    </tr>\n",
       "  </tbody>\n",
       "</table>\n",
       "</div>"
      ],
      "text/plain": [
       "          Date            StartUp_Name       Industry/Vertical  \\\n",
       "0   31/03/2021                Uniphore              Technology   \n",
       "1   30/03/2021                   Dunzo              E-commerce   \n",
       "2   30/03/2021                  BYJU’S                Edu-tech   \n",
       "3   23/03/2021             SkilloVilla                Edu-tech   \n",
       "4   25/03/2021                CityMall              E-commerce   \n",
       "5   26/03/2021                   DotPe                 FinTech   \n",
       "6   11/02/2021                Doubtnut                Edu Tech   \n",
       "7   22/02/2021                  Zomato             Hospitality   \n",
       "8   19/02/2021               Fingerlix             Hospitality   \n",
       "9   17/02/2021                   Zolve                 FinTech   \n",
       "10  15/02/2021               KreditBee                 Finance   \n",
       "11  12/02/2021               Pepperfry              E-commerce   \n",
       "12  12/02/2021                 Grofers              E-Commerce   \n",
       "13  09/02/2021                 Nothing              Technology   \n",
       "14  09/02/2021             SplashLearn                  EdTech   \n",
       "15  15/01/2021         Digit Insurance      Financial Services   \n",
       "16  28/01/2021  Bombay Shaving Company  Consumer Goods Company   \n",
       "17  19/01/2021                  DeHaat        AgriTech Startup   \n",
       "18  19/01/2021               Darwinbox                    SaaS   \n",
       "19  18/01/2021                   mfine     Health Tech Startup   \n",
       "20  18/01/2021                   Udayy                  EdTech   \n",
       "21  11/01/2021           True Elements            Food Startup   \n",
       "22  13/01/2021                   Saveo          B2B E-commerce   \n",
       "23  15/12/2020                 Bira 91       Food and Beverage   \n",
       "24  21/12/2020               Pine Labs      Financial Services   \n",
       "25  15/12/2020                  Zenoti     Technology Provider   \n",
       "26  22/12/2020         Tax Buddy India                 FinTech   \n",
       "27  15/12/2020               Delhivery            Supply chain   \n",
       "28  18/12/2020               PagarBook                    SaaS   \n",
       "29  30/11/2020                Codingal                 EduTech   \n",
       "30  30/11/2020                    CRED      Financial Services   \n",
       "31  29/11/2020                 Bira 91       Food and Beverage   \n",
       "32  27/11/2020                 Chumbak               Lifestyle   \n",
       "33  25/11/2020                 Cityflo          Transportation   \n",
       "34  25/11/2020                  Shipsy                    SaaS   \n",
       "35  25/11/2020               Unacademy                 Edutech   \n",
       "36  24/11/2020                Cashfree                 FinTech   \n",
       "37  30/11/2020              Credgenics                 Fintech   \n",
       "38  23/11/2020         Country Delight              Dairy Tech   \n",
       "39  28/10/2020                   Nykaa              E-commerce   \n",
       "40  28/10/2020             Betterplace       Digital Solutions   \n",
       "41  28/10/2020              FlexiLoans                 FinTech   \n",
       "42  27/10/2020              GetVantage                 FinTech   \n",
       "43  27/10/2020             FreshToHome              E-commerce   \n",
       "44  27/10/2020                   Origo                AgriTech   \n",
       "45  27/10/2020                   Origo             Advertising   \n",
       "46  15/10/2020           Treebo Hotels             Hospitality   \n",
       "47  26/10/2020                  Hubilo  Information Technology   \n",
       "\n",
       "                                         Sub-Vertical  \\\n",
       "0             Conversational Service Automation (CSA)   \n",
       "1                            Hyper-local delivery app   \n",
       "2                                     Online tutoring   \n",
       "3                 Career and job-oriented upskilling.   \n",
       "4        Social ecommerce and online grocery platform   \n",
       "5   Commerce and payments platform to offline ente...   \n",
       "6                                 E-Learning Platform   \n",
       "7                       Online Food Delivery Platform   \n",
       "8                       Semi-cooked food delivery app   \n",
       "9                              Global Neobank Venture   \n",
       "10                           Digital lending platform   \n",
       "11                        Multi-brand furniture brand   \n",
       "12                                 Online supermarket   \n",
       "13                        Consumer Technology Venture   \n",
       "14                      Game-based learning programme   \n",
       "15                                 Insurance Services   \n",
       "16      Shave care, beard care, and skincare products   \n",
       "17  online marketplace for farm products and services   \n",
       "18                                            HR Tech   \n",
       "19                 AI-powered telemedicine mobile app   \n",
       "20     Online learning platform for kids in class 1-5   \n",
       "21                      Whole Food plant based Nashta   \n",
       "22                                         Pharmacies   \n",
       "23                                         Craft Beer   \n",
       "24                         Payment Solutions Provider   \n",
       "25  Cloud-based software provider for the spa and ...   \n",
       "26                                 Online tax adviser   \n",
       "27                                     Transportation   \n",
       "28                       Employee management platform   \n",
       "29                             Online coding platform   \n",
       "30                      Credit Card Behavior Services   \n",
       "31                                         Craft Beer   \n",
       "32                                    Gifting Startup   \n",
       "33                      App-based bus commute startup   \n",
       "34                   Software Automation Of Logistics   \n",
       "35                           Online Learning Platform   \n",
       "36                    Payments and banking technology   \n",
       "37  Critical NPA reduction for Fintech lenders and...   \n",
       "38                              Milk delivery startup   \n",
       "39               Beauty, Fashion, Lifestyle, Wellness   \n",
       "40          Blue Collar Workforce Management Platform   \n",
       "41                           Digital Lending Platform   \n",
       "42                   Revenue-Based Financing Platform   \n",
       "43                                      Food Delivery   \n",
       "44                Agricultural Commodities Management   \n",
       "45                               Online Video Editing   \n",
       "46                           Budget Hospitality Chain   \n",
       "47                            Virtual Events Platform   \n",
       "\n",
       "                          City/Location  \\\n",
       "0                             Palo Alto   \n",
       "1                             Bengaluru   \n",
       "2                             Bengaluru   \n",
       "3                             Bengaluru   \n",
       "4                               Gurgaon   \n",
       "5                               Gurgaon   \n",
       "6                               Gurgaon   \n",
       "7                               Gurgaon   \n",
       "8                                Mumbai   \n",
       "9                                Mumbai   \n",
       "10                            Bengaluru   \n",
       "11                               Mumbai   \n",
       "12                              Gurgaon   \n",
       "13                               London   \n",
       "14                              Gurgaon   \n",
       "15                            Bengaluru   \n",
       "16                            New Delhi   \n",
       "17                                Patna   \n",
       "18                               Mumbai   \n",
       "19                            Bengaluru   \n",
       "20                              Gurgaon   \n",
       "21                                 Pune   \n",
       "22                            Bengaluru   \n",
       "23                            New Delhi   \n",
       "24                                Noida   \n",
       "25                           Washington   \n",
       "26                               Mumbai   \n",
       "27                              Gurgaon   \n",
       "28                            Bengaluru   \n",
       "29                            Bengaluru   \n",
       "30                            Bengaluru   \n",
       "31                            New Delhi   \n",
       "32                            Bengaluru   \n",
       "33                               Mumbai   \n",
       "34                              Gurgaon   \n",
       "35                            Bengaluru   \n",
       "36                            Bengaluru   \n",
       "37                              Gurgaon   \n",
       "38                             Gurugram   \n",
       "39                               Mumbai   \n",
       "40                            Bangalore   \n",
       "41                               Mumbai   \n",
       "42                               Mumbai   \n",
       "43                            Bangalore   \n",
       "44                              Gurgaon   \n",
       "45                               Mumbai   \n",
       "46                            Bangalore   \n",
       "47  Wilmington, Delaware, United States   \n",
       "\n",
       "                                        Investor_Name        Investor_Type  \\\n",
       "0                           Sorenson Capital Partners             Series D   \n",
       "1                           Krishtal Advisors Pte Ltd             Series E   \n",
       "2          MC Global Edtech, B Capital, Baron, others             Series F   \n",
       "3                               Titan Capital, others                 Seed   \n",
       "4                                      Accel Partners             Series A   \n",
       "5                                                PayU             Series A   \n",
       "6   SIG Global, Sequoia Capital, WaterBridge Ventu...             Series B   \n",
       "7                                  Tiger Global, Kora              Venture   \n",
       "8            Rhodium Trust, Accel Partners and Swiggy             Series C   \n",
       "9      Accel Partners and Lightspeed Venture Partners                 Seed   \n",
       "10  Azim Premji’s PremjiInvest and South Korea’s M...             Series C   \n",
       "11                                    InnoVen Capital       Debt Financing   \n",
       "12                         SoftBank Vision Fund (SVF)          Unspecified   \n",
       "13                                                 GV             Series A   \n",
       "14                                       Owl Ventures             Series C   \n",
       "15   A91 Partners, Faering Capital, TVS Capital Funds              Venture   \n",
       "16                                  Reckitt Benckiser              Venture   \n",
       "17                                    Prosus Ventures             Series C   \n",
       "18                                Salesforce Ventures                 Seed   \n",
       "19                         Heritas Capital Management        Venture Round   \n",
       "20                                    Sequoia Capital         Seed Funding   \n",
       "21                              SIDBI Venture Capital               Series   \n",
       "22          Matrix Partners India, RTP Global, others                 Seed   \n",
       "23  Nishant Mittal, Pankaj Chaddah and Shikha Suni...              Funding   \n",
       "24                                  Lone Pine Capital     Secondary Market   \n",
       "25                               Advent International             Series D   \n",
       "26                                      Zenith Global                 Seed   \n",
       "27                                  Steadview Capital     Secondary Market   \n",
       "28                                    Sequoia Capital             Series A   \n",
       "29  Rebright Partners, Java Capital, and GSF Accel...                 Seed   \n",
       "30                                         DST Global             Series C   \n",
       "31  Sofina, Sequoia Capital, Sixth Sense Ventures,...       Bridge Funding   \n",
       "32                        Gaja Capital Fund (GCFII-A)         Pre-series E   \n",
       "33                                  Lightbox Ventures             Series A   \n",
       "34           Sequoia Capital India’s Surge, Info Edge             Series A   \n",
       "35  Tiger Global Management, Dragoneer Investment ...              Venture   \n",
       "36  Matrix Partners India, SAIF Partners, Ward Fer...             Series B   \n",
       "37  Venture Capital firm, Accel Partners and DMI F...         Pre-Series A   \n",
       "38                                  Elevation Capital             Series C   \n",
       "39                                         Alia Bhatt  Personal Investment   \n",
       "40                                    Jungle Ventures             Series B   \n",
       "41             Falguni and Sanjay Nayar Family Office      Equity and Debt   \n",
       "42                Chiratae Ventures, Dream Incubators                 Seed   \n",
       "43  Corporation of Dubai (ICD), Ascent Capital, DF...             Series C   \n",
       "44                               Northern Arc Capital                 Debt   \n",
       "45                              Sequoia Capital India             Series A   \n",
       "46  Matrix Partners India, SAIF Partners, Ward Fer...                        \n",
       "47                        Lightspeed Venture Partners                 Seed   \n",
       "\n",
       "            Amount(In USD)  \n",
       "0              140,000,000  \n",
       "1                8,000,000  \n",
       "2              460,000,000  \n",
       "3              300,000,000  \n",
       "4               11,000,000  \n",
       "5               27,500,000  \n",
       "6                2,500,000  \n",
       "7              250,000,000  \n",
       "8             2,747,045.20  \n",
       "9              1,50,00,000  \n",
       "10              75,000,000  \n",
       "11               4,773,958  \n",
       "12              55,000,000  \n",
       "13              15,000,000  \n",
       "14              18,000,000  \n",
       "15             1,80,00,000  \n",
       "16            6,172,258.50  \n",
       "17              30,000,000  \n",
       "18              15,000,000  \n",
       "19              16,000,000  \n",
       "20              15,000,000  \n",
       "21             100,000,000  \n",
       "22               4,000,000  \n",
       "23            1,273,634.07  \n",
       "24             Undisclosed  \n",
       "25             160,000,000  \n",
       "26               1,000,000  \n",
       "27              25,000,000  \n",
       "28              15,000,000  \n",
       "29                 560,000  \n",
       "30              80,000,000  \n",
       "31               3,000,000  \n",
       "32            1,001,047.92  \n",
       "33               7,700,000  \n",
       "34               6,003,806  \n",
       "35  75,000,000-100,000,000  \n",
       "36              35,300,000  \n",
       "37               3,500,000  \n",
       "38              25,000,000  \n",
       "39                      NA  \n",
       "40              10,000,000  \n",
       "41              20,160,000  \n",
       "42               5,000,000  \n",
       "43             121,000,000  \n",
       "44               4,700,000  \n",
       "45              15,000,000  \n",
       "46               6,000,000  \n",
       "47               4,500,000  "
      ]
     },
     "execution_count": 44,
     "metadata": {},
     "output_type": "execute_result"
    }
   ],
   "source": [
    "df6=pd.DataFrame()\n",
    "\n",
    "df6['Date']=Date[6:54]\n",
    "df6['StartUp_Name']=StartUp[6:54]\n",
    "df6['Industry/Vertical']=Industry[6:54]\n",
    "df6['Sub-Vertical']=Sub_Vertical[6:54]\n",
    "df6['City/Location']=City[6:54]\n",
    "df6['Investor_Name']=Investor_Name[6:54]\n",
    "df6['Investor_Type']=Investor_Type[6:54]\n",
    "df6['Amount(In USD)']=Amount[6:54]\n",
    "\n",
    "df6"
   ]
  },
  {
   "cell_type": "markdown",
   "metadata": {},
   "source": [
    "QUESTION 7"
   ]
  },
  {
   "cell_type": "code",
   "execution_count": 29,
   "metadata": {},
   "outputs": [
    {
     "name": "stderr",
     "output_type": "stream",
     "text": [
      "<ipython-input-29-cdf33506ee1f>:1: DeprecationWarning: executable_path has been deprecated, please pass in a Service object\n",
      "  driver7=webdriver.Chrome('C:/Users/Kishan/Downloads/chromedriver_win32/chromedriver.exe')\n"
     ]
    }
   ],
   "source": [
    "driver7=webdriver.Chrome('C:/Users/Kishan/Downloads/chromedriver_win32/chromedriver.exe')\n",
    "url='https://www.digit.in/top-products/best-gaming-laptops-40.html'\n",
    "driver7.get(url)"
   ]
  },
  {
   "cell_type": "code",
   "execution_count": 30,
   "metadata": {},
   "outputs": [
    {
     "name": "stderr",
     "output_type": "stream",
     "text": [
      "<ipython-input-30-d4bc8b0d7d7a>:2: DeprecationWarning: find_elements_by_* commands are deprecated. Please use find_elements() instead\n",
      "  ln=driver7.find_elements_by_xpath(\"//div[@class='TopNumbeHeading active sticky-footer']\")\n"
     ]
    },
    {
     "data": {
      "text/plain": [
       "10"
      ]
     },
     "execution_count": 30,
     "metadata": {},
     "output_type": "execute_result"
    }
   ],
   "source": [
    "Laptop_Name=[]\n",
    "ln=driver7.find_elements_by_xpath(\"//div[@class='TopNumbeHeading active sticky-footer']\")\n",
    "\n",
    "for i in ln:\n",
    "    Laptop_Name.append(i.text.replace('\\n',''))\n",
    "\n",
    "len(Laptop_Name)"
   ]
  },
  {
   "cell_type": "code",
   "execution_count": 31,
   "metadata": {},
   "outputs": [
    {
     "name": "stderr",
     "output_type": "stream",
     "text": [
      "<ipython-input-31-8f5c2147269e>:2: DeprecationWarning: find_elements_by_* commands are deprecated. Please use find_elements() instead\n",
      "  os=driver7.find_elements_by_xpath(\"//div[@class='Spcs-details']/table/tbody/tr[3]\")\n"
     ]
    },
    {
     "data": {
      "text/plain": [
       "10"
      ]
     },
     "execution_count": 31,
     "metadata": {},
     "output_type": "execute_result"
    }
   ],
   "source": [
    "OS=[]\n",
    "os=driver7.find_elements_by_xpath(\"//div[@class='Spcs-details']/table/tbody/tr[3]\")\n",
    "\n",
    "for i in os:\n",
    "    OS.append(i.text.replace(\"OS\",' '))\n",
    "len(OS)"
   ]
  },
  {
   "cell_type": "code",
   "execution_count": 32,
   "metadata": {},
   "outputs": [
    {
     "name": "stderr",
     "output_type": "stream",
     "text": [
      "<ipython-input-32-f2d514480f47>:2: DeprecationWarning: find_elements_by_* commands are deprecated. Please use find_elements() instead\n",
      "  dsply=driver7.find_elements_by_xpath(\"//div[@class='Spcs-details']/table/tbody/tr[4]\")\n"
     ]
    },
    {
     "data": {
      "text/plain": [
       "10"
      ]
     },
     "execution_count": 32,
     "metadata": {},
     "output_type": "execute_result"
    }
   ],
   "source": [
    "Display=[]\n",
    "dsply=driver7.find_elements_by_xpath(\"//div[@class='Spcs-details']/table/tbody/tr[4]\")\n",
    "\n",
    "for i in dsply:\n",
    "    Display.append(i.text.replace(\"Display :\",' '))\n",
    "len(Display)"
   ]
  },
  {
   "cell_type": "code",
   "execution_count": 33,
   "metadata": {},
   "outputs": [
    {
     "name": "stderr",
     "output_type": "stream",
     "text": [
      "<ipython-input-33-4c8b92c5d13c>:2: DeprecationWarning: find_elements_by_* commands are deprecated. Please use find_elements() instead\n",
      "  dtl=driver7.find_elements_by_xpath(\"//div[@class='Spcs-details']/table/tbody/tr[6]\")\n"
     ]
    },
    {
     "data": {
      "text/plain": [
       "10"
      ]
     },
     "execution_count": 33,
     "metadata": {},
     "output_type": "execute_result"
    }
   ],
   "source": [
    "Detail=[]\n",
    "dtl=driver7.find_elements_by_xpath(\"//div[@class='Spcs-details']/table/tbody/tr[6]\")\n",
    "\n",
    "for i in dtl:\n",
    "    Detail.append(i.text.replace(\"Memory\",' '))\n",
    "len(Detail)"
   ]
  },
  {
   "cell_type": "code",
   "execution_count": 34,
   "metadata": {},
   "outputs": [
    {
     "name": "stderr",
     "output_type": "stream",
     "text": [
      "<ipython-input-34-71b3a8584c80>:2: DeprecationWarning: find_elements_by_* commands are deprecated. Please use find_elements() instead\n",
      "  dtl=driver7.find_elements_by_xpath(\"//div[@class='Spcs-details']/table/tbody/tr[7]\")\n"
     ]
    },
    {
     "data": {
      "text/plain": [
       "10"
      ]
     },
     "execution_count": 34,
     "metadata": {},
     "output_type": "execute_result"
    }
   ],
   "source": [
    "Weight=[]\n",
    "dtl=driver7.find_elements_by_xpath(\"//div[@class='Spcs-details']/table/tbody/tr[7]\")\n",
    "\n",
    "for i in dtl:\n",
    "    Weight.append(i.text.replace(\"Weight\",''))\n",
    "len(Weight)"
   ]
  },
  {
   "cell_type": "code",
   "execution_count": 35,
   "metadata": {},
   "outputs": [
    {
     "name": "stderr",
     "output_type": "stream",
     "text": [
      "<ipython-input-35-eab28a92fcff>:2: DeprecationWarning: find_elements_by_* commands are deprecated. Please use find_elements() instead\n",
      "  dtl=driver7.find_elements_by_xpath(\"//div[@class='Spcs-details']/table/tbody/tr[9]\")\n"
     ]
    },
    {
     "data": {
      "text/plain": [
       "10"
      ]
     },
     "execution_count": 35,
     "metadata": {},
     "output_type": "execute_result"
    }
   ],
   "source": [
    "Graphics=[]\n",
    "dtl=driver7.find_elements_by_xpath(\"//div[@class='Spcs-details']/table/tbody/tr[9]\")\n",
    "\n",
    "for i in dtl:\n",
    "    Graphics.append(i.text.replace(\"Graphics Processor\",' '))\n",
    "len(Graphics)"
   ]
  },
  {
   "cell_type": "code",
   "execution_count": 36,
   "metadata": {},
   "outputs": [
    {
     "name": "stderr",
     "output_type": "stream",
     "text": [
      "<ipython-input-36-8632f6bdc52e>:2: DeprecationWarning: find_elements_by_* commands are deprecated. Please use find_elements() instead\n",
      "  dtl=driver7.find_elements_by_xpath(\"//div[@class='Spcs-details']/table/tbody/tr[8]\")\n"
     ]
    },
    {
     "data": {
      "text/plain": [
       "10"
      ]
     },
     "execution_count": 36,
     "metadata": {},
     "output_type": "execute_result"
    }
   ],
   "source": [
    "Dimension=[]\n",
    "dtl=driver7.find_elements_by_xpath(\"//div[@class='Spcs-details']/table/tbody/tr[8]\")\n",
    "\n",
    "for i in dtl:\n",
    "    Dimension.append(i.text.replace(\"Dimension :\",' '))\n",
    "len(Dimension)"
   ]
  },
  {
   "cell_type": "code",
   "execution_count": 37,
   "metadata": {},
   "outputs": [
    {
     "name": "stderr",
     "output_type": "stream",
     "text": [
      "<ipython-input-37-30c370466814>:2: DeprecationWarning: find_elements_by_* commands are deprecated. Please use find_elements() instead\n",
      "  dtl=driver7.find_elements_by_xpath(\"//div[@class='Spcs-details']/table/tbody/tr[5]\")\n"
     ]
    },
    {
     "data": {
      "text/plain": [
       "10"
      ]
     },
     "execution_count": 37,
     "metadata": {},
     "output_type": "execute_result"
    }
   ],
   "source": [
    "Processor=[]\n",
    "dtl=driver7.find_elements_by_xpath(\"//div[@class='Spcs-details']/table/tbody/tr[5]\")\n",
    "\n",
    "for i in dtl:\n",
    "    Processor.append(i.text.replace(\"Processor :\",' '))\n",
    "len(Processor)"
   ]
  },
  {
   "cell_type": "code",
   "execution_count": 38,
   "metadata": {},
   "outputs": [
    {
     "name": "stderr",
     "output_type": "stream",
     "text": [
      "<ipython-input-38-451236491fde>:2: DeprecationWarning: find_elements_by_* commands are deprecated. Please use find_elements() instead\n",
      "  slr=driver7.find_elements_by_xpath(\"//td[@class='smmerchant']\")\n"
     ]
    },
    {
     "data": {
      "text/plain": [
       "10"
      ]
     },
     "execution_count": 38,
     "metadata": {},
     "output_type": "execute_result"
    }
   ],
   "source": [
    "Seller=[]\n",
    "slr=driver7.find_elements_by_xpath(\"//td[@class='smmerchant']\")\n",
    "\n",
    "for i in slr:\n",
    "    Seller.append(i.text)\n",
    "len(Seller)"
   ]
  },
  {
   "cell_type": "code",
   "execution_count": 39,
   "metadata": {},
   "outputs": [
    {
     "name": "stderr",
     "output_type": "stream",
     "text": [
      "<ipython-input-39-bc3ce2cb5ae2>:2: DeprecationWarning: find_elements_by_* commands are deprecated. Please use find_elements() instead\n",
      "  price=driver7.find_elements_by_xpath(\"//td[@class='smprice']\")\n"
     ]
    },
    {
     "data": {
      "text/plain": [
       "10"
      ]
     },
     "execution_count": 39,
     "metadata": {},
     "output_type": "execute_result"
    }
   ],
   "source": [
    "Price=[]\n",
    "price=driver7.find_elements_by_xpath(\"//td[@class='smprice']\")\n",
    "\n",
    "for i in price:\n",
    "    Price.append(i.text)\n",
    "len(Price)"
   ]
  },
  {
   "cell_type": "code",
   "execution_count": 40,
   "metadata": {},
   "outputs": [
    {
     "data": {
      "text/html": [
       "<div>\n",
       "<style scoped>\n",
       "    .dataframe tbody tr th:only-of-type {\n",
       "        vertical-align: middle;\n",
       "    }\n",
       "\n",
       "    .dataframe tbody tr th {\n",
       "        vertical-align: top;\n",
       "    }\n",
       "\n",
       "    .dataframe thead th {\n",
       "        text-align: right;\n",
       "    }\n",
       "</style>\n",
       "<table border=\"1\" class=\"dataframe\">\n",
       "  <thead>\n",
       "    <tr style=\"text-align: right;\">\n",
       "      <th></th>\n",
       "      <th>Laptop_Name</th>\n",
       "      <th>OS</th>\n",
       "      <th>Display</th>\n",
       "      <th>processor</th>\n",
       "      <th>Memory</th>\n",
       "      <th>Weight</th>\n",
       "      <th>Dimension</th>\n",
       "      <th>Graphics_Processor</th>\n",
       "      <th>Seller</th>\n",
       "      <th>Price</th>\n",
       "    </tr>\n",
       "  </thead>\n",
       "  <tbody>\n",
       "    <tr>\n",
       "      <th>0</th>\n",
       "      <td>1.ACER NITRO 5 RYZEN 9 (2021)</td>\n",
       "      <td>: Windows 10</td>\n",
       "      <td>15.6\" (1920 x 1080)</td>\n",
       "      <td>AMD Ryzen 9 Octa Core | 2.4 GHz</td>\n",
       "      <td>: 1 TB HDD/16 GBGB DDR4</td>\n",
       "      <td>: 2.4</td>\n",
       "      <td>363.4 x 255 x 23.9</td>\n",
       "      <td>: NVIDIA GeForce RTX 3070</td>\n",
       "      <td>Flipkart</td>\n",
       "      <td>₹ 129,990</td>\n",
       "    </tr>\n",
       "    <tr>\n",
       "      <th>1</th>\n",
       "      <td>2.MSI STEALTH 15M 11TH GEN CORE I7-11375H (2021</td>\n",
       "      <td>: Windows 10</td>\n",
       "      <td>15.6\" (1920 x 1080)</td>\n",
       "      <td>Intel Core i7 11th Gen - 11375H | NA</td>\n",
       "      <td>: 1 TB SSD/16 GBGB DDR4</td>\n",
       "      <td>: 1.7</td>\n",
       "      <td>358.3 x 248 x 16.15</td>\n",
       "      <td>: NVIDIA GeForce RTX 3060</td>\n",
       "      <td>Flipkart</td>\n",
       "      <td>₹ 134,990</td>\n",
       "    </tr>\n",
       "    <tr>\n",
       "      <th>2</th>\n",
       "      <td>3.ASUS ROG STRIX SCAR 15 RYZEN 9-5900HX (2021)</td>\n",
       "      <td>: Windows 10</td>\n",
       "      <td>15.6\" (2560 x 1440)</td>\n",
       "      <td>AMD Ryzen 9 Octa Core - 5900HX | 3.3 GHz</td>\n",
       "      <td>: 2 TB SSD/32 GBGB DDR4</td>\n",
       "      <td>: 2.30</td>\n",
       "      <td>354 x 259 x 22.6</td>\n",
       "      <td>: NVIDIA GeForce RTX 3080</td>\n",
       "      <td>Flipkart</td>\n",
       "      <td>₹ 268,990</td>\n",
       "    </tr>\n",
       "    <tr>\n",
       "      <th>3</th>\n",
       "      <td>4.ALIENWARE AREA 51M R2</td>\n",
       "      <td>: Windows 10 Home</td>\n",
       "      <td>17.3\" (1920 x 1080)</td>\n",
       "      <td>10th Gen Intel® Core™ i7-10700 | 2.90 GHz</td>\n",
       "      <td>: 1 TB SSD/16 GBGB DDR4</td>\n",
       "      <td>: 4.1</td>\n",
       "      <td>27.65 x 402.6 x 319.14</td>\n",
       "      <td>: Intel® UHD Graphics 630</td>\n",
       "      <td>N/A</td>\n",
       "      <td>₹ 342,989</td>\n",
       "    </tr>\n",
       "    <tr>\n",
       "      <th>4</th>\n",
       "      <td>5.ALIENWARE M15 R3</td>\n",
       "      <td>: Windows 10 Home</td>\n",
       "      <td>15.6\" (3840 x 2160)</td>\n",
       "      <td>10th Gen Intel® Core™ i9-10980HK | NA</td>\n",
       "      <td>: 1 TB SSD/16 GBGB DDR4</td>\n",
       "      <td>: NA</td>\n",
       "      <td>NA</td>\n",
       "      <td>: NA</td>\n",
       "      <td>Amazon</td>\n",
       "      <td>₹ 319,990</td>\n",
       "    </tr>\n",
       "    <tr>\n",
       "      <th>5</th>\n",
       "      <td>6.ASUS ROG STRIX SCAR 15</td>\n",
       "      <td>: Windows 10 Home</td>\n",
       "      <td>15.6\" (1920 x 1080)</td>\n",
       "      <td>AMD Ryzen™ 9 5900HX | 3.3 GHz</td>\n",
       "      <td>: 1 TB SSD/16 GBGB DDR4</td>\n",
       "      <td>: 2.30</td>\n",
       "      <td>35.4 x 25.9 x 2.26</td>\n",
       "      <td>: NVIDIA® GeForce RTX™ 3070</td>\n",
       "      <td>Flipkart</td>\n",
       "      <td>₹ 215,990</td>\n",
       "    </tr>\n",
       "    <tr>\n",
       "      <th>6</th>\n",
       "      <td>7.ASUS ROG ZEPHYRUS G14</td>\n",
       "      <td>: Windows 10 Home</td>\n",
       "      <td>14\" (1920 x 1080)</td>\n",
       "      <td>AMD 3rd Gen Ryzen 9 | 3.3 GHz</td>\n",
       "      <td>: 1 TB SSD/16 GBGB DDR4</td>\n",
       "      <td>: 1.65</td>\n",
       "      <td>32.5 x 22.1 x 1.8</td>\n",
       "      <td>: NVIDIA GeForce RTX 2060</td>\n",
       "      <td>Amazon</td>\n",
       "      <td>₹ 164,990</td>\n",
       "    </tr>\n",
       "    <tr>\n",
       "      <th>7</th>\n",
       "      <td>8.LENOVO LEGION 5I</td>\n",
       "      <td>: Windows 10 Pro</td>\n",
       "      <td>15.6\" (1920 x 1080)</td>\n",
       "      <td>10th Gen Intel® Core™ i5-10300H | 2.50 GHz</td>\n",
       "      <td>: 1 TB SSD/16 GBGB DDR4</td>\n",
       "      <td>: 2.3</td>\n",
       "      <td>363.06 x 259.61 x 23.57</td>\n",
       "      <td>: NVIDIA® GeForce® GTX 1650 4GB</td>\n",
       "      <td>Amazon</td>\n",
       "      <td>₹ 76,988</td>\n",
       "    </tr>\n",
       "    <tr>\n",
       "      <th>8</th>\n",
       "      <td>9.ASUS ROG ZEPHYRUS DUO 15</td>\n",
       "      <td>: Windows 10</td>\n",
       "      <td>15.6\" (3840 x 1100)</td>\n",
       "      <td>Intel Core i7 10th Gen 10875H | NA</td>\n",
       "      <td>: 512 GB SSD/4 GBGB DDR4</td>\n",
       "      <td>: 2.4</td>\n",
       "      <td>268.30 x 360.00 x 20.90</td>\n",
       "      <td>: NVIDIA GeForce RTX 2070 Max-Q</td>\n",
       "      <td>Amazon</td>\n",
       "      <td>₹ 185,000</td>\n",
       "    </tr>\n",
       "    <tr>\n",
       "      <th>9</th>\n",
       "      <td>10.ACER ASPIRE 7 GAMING</td>\n",
       "      <td>: Windows 10 Home</td>\n",
       "      <td>15.6\" (1920 x 1080)</td>\n",
       "      <td>AMD Ryzen™ 5-5500U hexa-core | NA</td>\n",
       "      <td>: 512 GB SSD/8 GBGB DDR4</td>\n",
       "      <td>: 2.15</td>\n",
       "      <td>2.29 x 36.3 x 25.4</td>\n",
       "      <td>: NVIDIA® GeForce® GTX 1650</td>\n",
       "      <td>Amazon</td>\n",
       "      <td>₹ 57,500</td>\n",
       "    </tr>\n",
       "  </tbody>\n",
       "</table>\n",
       "</div>"
      ],
      "text/plain": [
       "                                       Laptop_Name                   OS  \\\n",
       "0                    1.ACER NITRO 5 RYZEN 9 (2021)         : Windows 10   \n",
       "1  2.MSI STEALTH 15M 11TH GEN CORE I7-11375H (2021         : Windows 10   \n",
       "2   3.ASUS ROG STRIX SCAR 15 RYZEN 9-5900HX (2021)         : Windows 10   \n",
       "3                          4.ALIENWARE AREA 51M R2    : Windows 10 Home   \n",
       "4                               5.ALIENWARE M15 R3    : Windows 10 Home   \n",
       "5                         6.ASUS ROG STRIX SCAR 15    : Windows 10 Home   \n",
       "6                          7.ASUS ROG ZEPHYRUS G14    : Windows 10 Home   \n",
       "7                               8.LENOVO LEGION 5I     : Windows 10 Pro   \n",
       "8                       9.ASUS ROG ZEPHYRUS DUO 15         : Windows 10   \n",
       "9                          10.ACER ASPIRE 7 GAMING    : Windows 10 Home   \n",
       "\n",
       "                 Display                                     processor  \\\n",
       "0    15.6\" (1920 x 1080)               AMD Ryzen 9 Octa Core | 2.4 GHz   \n",
       "1    15.6\" (1920 x 1080)          Intel Core i7 11th Gen - 11375H | NA   \n",
       "2    15.6\" (2560 x 1440)      AMD Ryzen 9 Octa Core - 5900HX | 3.3 GHz   \n",
       "3    17.3\" (1920 x 1080)     10th Gen Intel® Core™ i7-10700 | 2.90 GHz   \n",
       "4    15.6\" (3840 x 2160)         10th Gen Intel® Core™ i9-10980HK | NA   \n",
       "5    15.6\" (1920 x 1080)                 AMD Ryzen™ 9 5900HX | 3.3 GHz   \n",
       "6      14\" (1920 x 1080)                 AMD 3rd Gen Ryzen 9 | 3.3 GHz   \n",
       "7    15.6\" (1920 x 1080)    10th Gen Intel® Core™ i5-10300H | 2.50 GHz   \n",
       "8    15.6\" (3840 x 1100)            Intel Core i7 10th Gen 10875H | NA   \n",
       "9    15.6\" (1920 x 1080)             AMD Ryzen™ 5-5500U hexa-core | NA   \n",
       "\n",
       "                       Memory   Weight                  Dimension  \\\n",
       "0     : 1 TB HDD/16 GBGB DDR4    : 2.4         363.4 x 255 x 23.9   \n",
       "1     : 1 TB SSD/16 GBGB DDR4    : 1.7        358.3 x 248 x 16.15   \n",
       "2     : 2 TB SSD/32 GBGB DDR4   : 2.30           354 x 259 x 22.6   \n",
       "3     : 1 TB SSD/16 GBGB DDR4    : 4.1     27.65 x 402.6 x 319.14   \n",
       "4     : 1 TB SSD/16 GBGB DDR4     : NA                         NA   \n",
       "5     : 1 TB SSD/16 GBGB DDR4   : 2.30         35.4 x 25.9 x 2.26   \n",
       "6     : 1 TB SSD/16 GBGB DDR4   : 1.65          32.5 x 22.1 x 1.8   \n",
       "7     : 1 TB SSD/16 GBGB DDR4    : 2.3    363.06 x 259.61 x 23.57   \n",
       "8    : 512 GB SSD/4 GBGB DDR4    : 2.4    268.30 x 360.00 x 20.90   \n",
       "9    : 512 GB SSD/8 GBGB DDR4   : 2.15         2.29 x 36.3 x 25.4   \n",
       "\n",
       "                  Graphics_Processor    Seller      Price  \n",
       "0          : NVIDIA GeForce RTX 3070  Flipkart  ₹ 129,990  \n",
       "1          : NVIDIA GeForce RTX 3060  Flipkart  ₹ 134,990  \n",
       "2          : NVIDIA GeForce RTX 3080  Flipkart  ₹ 268,990  \n",
       "3          : Intel® UHD Graphics 630       N/A  ₹ 342,989  \n",
       "4                               : NA    Amazon  ₹ 319,990  \n",
       "5        : NVIDIA® GeForce RTX™ 3070  Flipkart  ₹ 215,990  \n",
       "6          : NVIDIA GeForce RTX 2060    Amazon  ₹ 164,990  \n",
       "7    : NVIDIA® GeForce® GTX 1650 4GB    Amazon   ₹ 76,988  \n",
       "8    : NVIDIA GeForce RTX 2070 Max-Q    Amazon  ₹ 185,000  \n",
       "9        : NVIDIA® GeForce® GTX 1650    Amazon   ₹ 57,500  "
      ]
     },
     "execution_count": 40,
     "metadata": {},
     "output_type": "execute_result"
    }
   ],
   "source": [
    "df7=pd.DataFrame()\n",
    "\n",
    "df7['Laptop_Name']=Laptop_Name\n",
    "df7['OS']=OS\n",
    "df7['Display']=Display\n",
    "df7['processor']=Processor\n",
    "df7['Memory']=Detail\n",
    "df7['Weight']=Weight\n",
    "df7['Dimension']=Dimension\n",
    "df7['Graphics_Processor']=Graphics\n",
    "df7['Seller']=Seller\n",
    "df7['Price']=Price\n",
    "\n",
    "df7"
   ]
  },
  {
   "cell_type": "markdown",
   "metadata": {},
   "source": [
    "QUESTION 8"
   ]
  },
  {
   "cell_type": "code",
   "execution_count": 41,
   "metadata": {},
   "outputs": [
    {
     "name": "stderr",
     "output_type": "stream",
     "text": [
      "<ipython-input-41-c53049fe598d>:1: DeprecationWarning: executable_path has been deprecated, please pass in a Service object\n",
      "  driver8=webdriver.Chrome('C:/Users/Kishan/Downloads/chromedriver_win32/chromedriver.exe')\n"
     ]
    }
   ],
   "source": [
    "driver8=webdriver.Chrome('C:/Users/Kishan/Downloads/chromedriver_win32/chromedriver.exe')\n",
    "url8=('https://www.forbes.com/billionaires/')\n",
    "driver8.get(url8)"
   ]
  },
  {
   "cell_type": "code",
   "execution_count": 42,
   "metadata": {},
   "outputs": [
    {
     "name": "stderr",
     "output_type": "stream",
     "text": [
      "<ipython-input-42-b1463035314e>:2: DeprecationWarning: find_elements_by_* commands are deprecated. Please use find_elements() instead\n",
      "  rank=driver8.find_elements_by_xpath(\"//div[@class='rank']\")\n"
     ]
    },
    {
     "data": {
      "text/plain": [
       "200"
      ]
     },
     "execution_count": 42,
     "metadata": {},
     "output_type": "execute_result"
    }
   ],
   "source": [
    "Rank=[]\n",
    "rank=driver8.find_elements_by_xpath(\"//div[@class='rank']\")\n",
    "\n",
    "for i in rank:\n",
    "    Rank.append(i.text)\n",
    "    \n",
    "len(Rank)\n"
   ]
  },
  {
   "cell_type": "code",
   "execution_count": 43,
   "metadata": {},
   "outputs": [
    {
     "name": "stderr",
     "output_type": "stream",
     "text": [
      "<ipython-input-43-1b5141a94810>:2: DeprecationWarning: find_elements_by_* commands are deprecated. Please use find_elements() instead\n",
      "  name=driver8.find_elements_by_xpath(\"//div[@class='personName']\")\n"
     ]
    },
    {
     "data": {
      "text/plain": [
       "200"
      ]
     },
     "execution_count": 43,
     "metadata": {},
     "output_type": "execute_result"
    }
   ],
   "source": [
    "Name=[]\n",
    "name=driver8.find_elements_by_xpath(\"//div[@class='personName']\")\n",
    "\n",
    "for i in name:\n",
    "    Name.append(i.text)\n",
    "    \n",
    "len(Name)"
   ]
  },
  {
   "cell_type": "code",
   "execution_count": 44,
   "metadata": {},
   "outputs": [
    {
     "name": "stderr",
     "output_type": "stream",
     "text": [
      "<ipython-input-44-ec9791432e2b>:2: DeprecationWarning: find_elements_by_* commands are deprecated. Please use find_elements() instead\n",
      "  nw=driver8.find_elements_by_xpath(\"//div[@class='netWorth']\")\n"
     ]
    },
    {
     "data": {
      "text/plain": [
       "200"
      ]
     },
     "execution_count": 44,
     "metadata": {},
     "output_type": "execute_result"
    }
   ],
   "source": [
    "Net_Worth=[]\n",
    "nw=driver8.find_elements_by_xpath(\"//div[@class='netWorth']\")\n",
    "\n",
    "for i in nw:\n",
    "    Net_Worth.append(i.text)\n",
    "    \n",
    "len(Net_Worth)"
   ]
  },
  {
   "cell_type": "code",
   "execution_count": 45,
   "metadata": {},
   "outputs": [
    {
     "name": "stderr",
     "output_type": "stream",
     "text": [
      "<ipython-input-45-6d6974a6df45>:2: DeprecationWarning: find_elements_by_* commands are deprecated. Please use find_elements() instead\n",
      "  age=driver8.find_elements_by_xpath(\"//div[@class='age']\")\n"
     ]
    },
    {
     "data": {
      "text/plain": [
       "200"
      ]
     },
     "execution_count": 45,
     "metadata": {},
     "output_type": "execute_result"
    }
   ],
   "source": [
    "Age=[]\n",
    "age=driver8.find_elements_by_xpath(\"//div[@class='age']\")\n",
    "\n",
    "for i in age:\n",
    "    Age.append(i.text)\n",
    "    \n",
    "len(Age)"
   ]
  },
  {
   "cell_type": "code",
   "execution_count": 46,
   "metadata": {},
   "outputs": [
    {
     "name": "stderr",
     "output_type": "stream",
     "text": [
      "<ipython-input-46-34ffd0db58cf>:2: DeprecationWarning: find_elements_by_* commands are deprecated. Please use find_elements() instead\n",
      "  cntry=driver8.find_elements_by_xpath(\"//div[@class='countryOfCitizenship']\")\n"
     ]
    },
    {
     "data": {
      "text/plain": [
       "200"
      ]
     },
     "execution_count": 46,
     "metadata": {},
     "output_type": "execute_result"
    }
   ],
   "source": [
    "Country=[]\n",
    "cntry=driver8.find_elements_by_xpath(\"//div[@class='countryOfCitizenship']\")\n",
    "\n",
    "for i in cntry:\n",
    "    Country.append(i.text)\n",
    "    \n",
    "len(Country)"
   ]
  },
  {
   "cell_type": "code",
   "execution_count": 47,
   "metadata": {},
   "outputs": [
    {
     "name": "stderr",
     "output_type": "stream",
     "text": [
      "<ipython-input-47-cc673ed91d24>:2: DeprecationWarning: find_elements_by_* commands are deprecated. Please use find_elements() instead\n",
      "  suc=driver8.find_elements_by_xpath(\"//div[@class='source-column']\")\n"
     ]
    },
    {
     "data": {
      "text/plain": [
       "200"
      ]
     },
     "execution_count": 47,
     "metadata": {},
     "output_type": "execute_result"
    }
   ],
   "source": [
    "Source=[]\n",
    "suc=driver8.find_elements_by_xpath(\"//div[@class='source-column']\")\n",
    "\n",
    "for i in suc:\n",
    "    Source.append(i.text)\n",
    "\n",
    "len(Source)"
   ]
  },
  {
   "cell_type": "code",
   "execution_count": 48,
   "metadata": {},
   "outputs": [
    {
     "name": "stderr",
     "output_type": "stream",
     "text": [
      "<ipython-input-48-ce4df799c5d7>:2: DeprecationWarning: find_elements_by_* commands are deprecated. Please use find_elements() instead\n",
      "  ind=driver8.find_elements_by_xpath(\"//div[@class='category']/div\")\n"
     ]
    },
    {
     "data": {
      "text/plain": [
       "200"
      ]
     },
     "execution_count": 48,
     "metadata": {},
     "output_type": "execute_result"
    }
   ],
   "source": [
    "Industry=[]\n",
    "ind=driver8.find_elements_by_xpath(\"//div[@class='category']/div\")\n",
    "\n",
    "for i in ind:\n",
    "    Industry.append(i.text)\n",
    "    \n",
    "len(Industry)"
   ]
  },
  {
   "cell_type": "code",
   "execution_count": 49,
   "metadata": {},
   "outputs": [
    {
     "data": {
      "text/html": [
       "<div>\n",
       "<style scoped>\n",
       "    .dataframe tbody tr th:only-of-type {\n",
       "        vertical-align: middle;\n",
       "    }\n",
       "\n",
       "    .dataframe tbody tr th {\n",
       "        vertical-align: top;\n",
       "    }\n",
       "\n",
       "    .dataframe thead th {\n",
       "        text-align: right;\n",
       "    }\n",
       "</style>\n",
       "<table border=\"1\" class=\"dataframe\">\n",
       "  <thead>\n",
       "    <tr style=\"text-align: right;\">\n",
       "      <th></th>\n",
       "      <th>Rank</th>\n",
       "      <th>Name</th>\n",
       "      <th>Net_Worth</th>\n",
       "      <th>Age</th>\n",
       "      <th>Citizenship</th>\n",
       "      <th>Source</th>\n",
       "      <th>Industry</th>\n",
       "    </tr>\n",
       "  </thead>\n",
       "  <tbody>\n",
       "    <tr>\n",
       "      <th>0</th>\n",
       "      <td>1.</td>\n",
       "      <td>Jeff Bezos</td>\n",
       "      <td>$177 B</td>\n",
       "      <td>57</td>\n",
       "      <td>United States</td>\n",
       "      <td>Amazon</td>\n",
       "      <td>Technology</td>\n",
       "    </tr>\n",
       "    <tr>\n",
       "      <th>1</th>\n",
       "      <td>2.</td>\n",
       "      <td>Elon Musk</td>\n",
       "      <td>$151 B</td>\n",
       "      <td>49</td>\n",
       "      <td>United States</td>\n",
       "      <td>Tesla, SpaceX</td>\n",
       "      <td>Automotive</td>\n",
       "    </tr>\n",
       "    <tr>\n",
       "      <th>2</th>\n",
       "      <td>3.</td>\n",
       "      <td>Bernard Arnault &amp; family</td>\n",
       "      <td>$150 B</td>\n",
       "      <td>72</td>\n",
       "      <td>France</td>\n",
       "      <td>LVMH</td>\n",
       "      <td>Fashion &amp; Retail</td>\n",
       "    </tr>\n",
       "    <tr>\n",
       "      <th>3</th>\n",
       "      <td>4.</td>\n",
       "      <td>Bill Gates</td>\n",
       "      <td>$124 B</td>\n",
       "      <td>65</td>\n",
       "      <td>United States</td>\n",
       "      <td>Microsoft</td>\n",
       "      <td>Technology</td>\n",
       "    </tr>\n",
       "    <tr>\n",
       "      <th>4</th>\n",
       "      <td>5.</td>\n",
       "      <td>Mark Zuckerberg</td>\n",
       "      <td>$97 B</td>\n",
       "      <td>36</td>\n",
       "      <td>United States</td>\n",
       "      <td>Facebook</td>\n",
       "      <td>Technology</td>\n",
       "    </tr>\n",
       "    <tr>\n",
       "      <th>...</th>\n",
       "      <td>...</td>\n",
       "      <td>...</td>\n",
       "      <td>...</td>\n",
       "      <td>...</td>\n",
       "      <td>...</td>\n",
       "      <td>...</td>\n",
       "      <td>...</td>\n",
       "    </tr>\n",
       "    <tr>\n",
       "      <th>195</th>\n",
       "      <td>195.</td>\n",
       "      <td>Harry Triguboff</td>\n",
       "      <td>$11.2 B</td>\n",
       "      <td>88</td>\n",
       "      <td>Australia</td>\n",
       "      <td>real estate</td>\n",
       "      <td>Real Estate</td>\n",
       "    </tr>\n",
       "    <tr>\n",
       "      <th>196</th>\n",
       "      <td>197.</td>\n",
       "      <td>Leonid Fedun &amp; family</td>\n",
       "      <td>$11.1 B</td>\n",
       "      <td>65</td>\n",
       "      <td>Russia</td>\n",
       "      <td>oil</td>\n",
       "      <td>Energy</td>\n",
       "    </tr>\n",
       "    <tr>\n",
       "      <th>197</th>\n",
       "      <td>197.</td>\n",
       "      <td>Eyal Ofer</td>\n",
       "      <td>$11.1 B</td>\n",
       "      <td>70</td>\n",
       "      <td>Israel</td>\n",
       "      <td>real estate, shipping</td>\n",
       "      <td>Diversified</td>\n",
       "    </tr>\n",
       "    <tr>\n",
       "      <th>198</th>\n",
       "      <td>197.</td>\n",
       "      <td>Evan Spiegel</td>\n",
       "      <td>$11.1 B</td>\n",
       "      <td>30</td>\n",
       "      <td>United States</td>\n",
       "      <td>Snapchat</td>\n",
       "      <td>Technology</td>\n",
       "    </tr>\n",
       "    <tr>\n",
       "      <th>199</th>\n",
       "      <td>200.</td>\n",
       "      <td>Luis Carlos Sarmiento</td>\n",
       "      <td>$11 B</td>\n",
       "      <td>88</td>\n",
       "      <td>Colombia</td>\n",
       "      <td>banking</td>\n",
       "      <td>Finance &amp; Investments</td>\n",
       "    </tr>\n",
       "  </tbody>\n",
       "</table>\n",
       "<p>200 rows × 7 columns</p>\n",
       "</div>"
      ],
      "text/plain": [
       "     Rank                      Name Net_Worth Age    Citizenship  \\\n",
       "0      1.                Jeff Bezos    $177 B  57  United States   \n",
       "1      2.                 Elon Musk    $151 B  49  United States   \n",
       "2      3.  Bernard Arnault & family    $150 B  72         France   \n",
       "3      4.                Bill Gates    $124 B  65  United States   \n",
       "4      5.           Mark Zuckerberg     $97 B  36  United States   \n",
       "..    ...                       ...       ...  ..            ...   \n",
       "195  195.           Harry Triguboff   $11.2 B  88      Australia   \n",
       "196  197.     Leonid Fedun & family   $11.1 B  65         Russia   \n",
       "197  197.                 Eyal Ofer   $11.1 B  70         Israel   \n",
       "198  197.              Evan Spiegel   $11.1 B  30  United States   \n",
       "199  200.     Luis Carlos Sarmiento     $11 B  88       Colombia   \n",
       "\n",
       "                    Source               Industry  \n",
       "0                   Amazon             Technology  \n",
       "1            Tesla, SpaceX             Automotive  \n",
       "2                     LVMH       Fashion & Retail  \n",
       "3                Microsoft             Technology  \n",
       "4                 Facebook             Technology  \n",
       "..                     ...                    ...  \n",
       "195            real estate            Real Estate  \n",
       "196                    oil                 Energy  \n",
       "197  real estate, shipping            Diversified  \n",
       "198               Snapchat             Technology  \n",
       "199                banking  Finance & Investments  \n",
       "\n",
       "[200 rows x 7 columns]"
      ]
     },
     "execution_count": 49,
     "metadata": {},
     "output_type": "execute_result"
    }
   ],
   "source": [
    "df8=pd.DataFrame()\n",
    "\n",
    "df8['Rank']=Rank\n",
    "df8['Name']=Name\n",
    "df8['Net_Worth']=Net_Worth\n",
    "df8['Age']=Age\n",
    "df8['Citizenship']=Country\n",
    "df8['Source']=Source\n",
    "df8['Industry']=Industry\n",
    "\n",
    "df8"
   ]
  },
  {
   "cell_type": "markdown",
   "metadata": {},
   "source": [
    "QUESTION 9"
   ]
  },
  {
   "cell_type": "code",
   "execution_count": 45,
   "metadata": {},
   "outputs": [
    {
     "name": "stderr",
     "output_type": "stream",
     "text": [
      "<ipython-input-45-7c3440d79e82>:1: DeprecationWarning: executable_path has been deprecated, please pass in a Service object\n",
      "  driver9=webdriver.Chrome('C:/Users/Kishan/Downloads/chromedriver_win32/chromedriver.exe')\n"
     ]
    }
   ],
   "source": [
    "driver9=webdriver.Chrome('C:/Users/Kishan/Downloads/chromedriver_win32/chromedriver.exe')\n",
    "url9=('https://www.youtube.com/watch?v=cjjofxNQshM')\n",
    "driver9.get(url9)"
   ]
  },
  {
   "cell_type": "code",
   "execution_count": 48,
   "metadata": {},
   "outputs": [
    {
     "name": "stderr",
     "output_type": "stream",
     "text": [
      "<ipython-input-48-3dca7ef32163>:2: DeprecationWarning: find_elements_by_* commands are deprecated. Please use find_elements() instead\n",
      "  cmt=driver9.find_elements_by_xpath(\"//div[@class='style-scope ytd-comment-renderer']\")\n"
     ]
    },
    {
     "data": {
      "text/plain": [
       "['',\n",
       " '',\n",
       " 'Pinned by 8D MUSiCAL 3.0\\nFarhan\\n3 months ago\\nSetta onn pin chyyamoo😂\\n85\\nREPLY',\n",
       " '',\n",
       " 'Pinned by 8D MUSiCAL 3.0\\nFarhan\\n3 months ago\\nSetta onn pin chyyamoo😂\\n85\\nREPLY',\n",
       " 'Pinned by 8D MUSiCAL 3.0\\nFarhan\\n3 months ago',\n",
       " 'Pinned by 8D MUSiCAL 3.0',\n",
       " 'Farhan\\n3 months ago',\n",
       " '',\n",
       " '',\n",
       " '',\n",
       " '',\n",
       " '',\n",
       " 'Raghwan Gangwar\\n3 months ago\\nVery nice\\n4\\nREPLY',\n",
       " '',\n",
       " 'Raghwan Gangwar\\n3 months ago\\nVery nice\\n4\\nREPLY',\n",
       " 'Raghwan Gangwar\\n3 months ago',\n",
       " '',\n",
       " 'Raghwan Gangwar\\n3 months ago',\n",
       " '',\n",
       " '',\n",
       " '',\n",
       " '',\n",
       " '',\n",
       " 'Niraj Khadka\\n3 months ago (edited)\\nAbsolute Masterpiece\\n13\\nREPLY',\n",
       " '',\n",
       " 'Niraj Khadka\\n3 months ago (edited)\\nAbsolute Masterpiece\\n13\\nREPLY',\n",
       " 'Niraj Khadka\\n3 months ago (edited)',\n",
       " '',\n",
       " 'Niraj Khadka\\n3 months ago (edited)',\n",
       " '',\n",
       " '',\n",
       " '',\n",
       " '',\n",
       " '',\n",
       " 'ADARSH BARAL THREEONESEVENSIXSIXSIXEIGHT\\n3 months ago\\nThey are made for each other 😀😀😀\\n14\\nREPLY',\n",
       " '',\n",
       " 'ADARSH BARAL THREEONESEVENSIXSIXSIXEIGHT\\n3 months ago\\nThey are made for each other 😀😀😀\\n14\\nREPLY',\n",
       " 'ADARSH BARAL THREEONESEVENSIXSIXSIXEIGHT\\n3 months ago',\n",
       " '',\n",
       " 'ADARSH BARAL THREEONESEVENSIXSIXSIXEIGHT\\n3 months ago',\n",
       " '',\n",
       " '',\n",
       " '',\n",
       " '',\n",
       " '',\n",
       " 'md halim Shak\\n3 months ago\\nbeutiful song\\n5\\nREPLY',\n",
       " '',\n",
       " 'md halim Shak\\n3 months ago\\nbeutiful song\\n5\\nREPLY',\n",
       " 'md halim Shak\\n3 months ago',\n",
       " '',\n",
       " 'md halim Shak\\n3 months ago',\n",
       " '',\n",
       " '',\n",
       " '',\n",
       " '',\n",
       " '',\n",
       " 'Shaniya Sharma\\n3 months ago\\nliteral goosebumps! thanks for the audio!\\n2\\nREPLY',\n",
       " '',\n",
       " 'Shaniya Sharma\\n3 months ago\\nliteral goosebumps! thanks for the audio!\\n2\\nREPLY',\n",
       " 'Shaniya Sharma\\n3 months ago',\n",
       " '',\n",
       " 'Shaniya Sharma\\n3 months ago',\n",
       " '',\n",
       " '',\n",
       " '',\n",
       " '',\n",
       " '',\n",
       " 'SOLVERS INSTITUTE\\n3 months ago\\nNice song\\n11\\nREPLY',\n",
       " '',\n",
       " 'SOLVERS INSTITUTE\\n3 months ago\\nNice song\\n11\\nREPLY',\n",
       " 'SOLVERS INSTITUTE\\n3 months ago',\n",
       " '',\n",
       " 'SOLVERS INSTITUTE\\n3 months ago',\n",
       " '',\n",
       " '',\n",
       " '',\n",
       " '',\n",
       " '',\n",
       " 'Divyakar Singh\\n3 months ago\\nNice song\\n15\\nREPLY',\n",
       " '',\n",
       " 'Divyakar Singh\\n3 months ago\\nNice song\\n15\\nREPLY',\n",
       " 'Divyakar Singh\\n3 months ago',\n",
       " '',\n",
       " 'Divyakar Singh\\n3 months ago',\n",
       " '',\n",
       " '',\n",
       " '',\n",
       " '',\n",
       " '',\n",
       " 'Kapila Koli\\n3 months ago\\nThis song is lit 🔥\\n4\\nREPLY',\n",
       " '',\n",
       " 'Kapila Koli\\n3 months ago\\nThis song is lit 🔥\\n4\\nREPLY',\n",
       " 'Kapila Koli\\n3 months ago',\n",
       " '',\n",
       " 'Kapila Koli\\n3 months ago',\n",
       " '',\n",
       " '',\n",
       " '',\n",
       " '',\n",
       " '',\n",
       " 'Romiyo Raja\\n3 months ago\\nBeautiful song 😍😍😍\\n3\\nREPLY',\n",
       " '',\n",
       " 'Romiyo Raja\\n3 months ago\\nBeautiful song 😍😍😍\\n3\\nREPLY',\n",
       " 'Romiyo Raja\\n3 months ago',\n",
       " '',\n",
       " 'Romiyo Raja\\n3 months ago',\n",
       " '',\n",
       " '',\n",
       " '',\n",
       " '',\n",
       " '',\n",
       " 'Hindi New Bollywood Songs\\n3 months ago\\nKis kis ko yeh Song Pasand Aaya Hai Like Kare 💙❤💛💚✔\\n2\\nREPLY',\n",
       " '',\n",
       " 'Hindi New Bollywood Songs\\n3 months ago\\nKis kis ko yeh Song Pasand Aaya Hai Like Kare 💙❤💛💚✔\\n2\\nREPLY',\n",
       " 'Hindi New Bollywood Songs\\n3 months ago',\n",
       " '',\n",
       " 'Hindi New Bollywood Songs\\n3 months ago',\n",
       " '',\n",
       " '',\n",
       " '',\n",
       " '',\n",
       " '',\n",
       " 'Sint Sint\\n3 months ago\\nVery like this song❤️\\n2\\nREPLY',\n",
       " '',\n",
       " 'Sint Sint\\n3 months ago\\nVery like this song❤️\\n2\\nREPLY',\n",
       " 'Sint Sint\\n3 months ago',\n",
       " '',\n",
       " 'Sint Sint\\n3 months ago',\n",
       " '',\n",
       " '',\n",
       " '',\n",
       " '',\n",
       " '',\n",
       " 'Kaushik Gambhir\\n3 months ago\\nNice song 👌👌👌\\n9\\nREPLY',\n",
       " '',\n",
       " 'Kaushik Gambhir\\n3 months ago\\nNice song 👌👌👌\\n9\\nREPLY',\n",
       " 'Kaushik Gambhir\\n3 months ago',\n",
       " '',\n",
       " 'Kaushik Gambhir\\n3 months ago',\n",
       " '',\n",
       " '',\n",
       " '',\n",
       " '',\n",
       " '',\n",
       " 'GAMES\\n3 months ago\\nRaataan lambiyan song mera favourite he. Jab me ye song sunta hu to dil ko ak sukun milta he😊😀.\\n15\\nREPLY',\n",
       " '',\n",
       " 'GAMES\\n3 months ago\\nRaataan lambiyan song mera favourite he. Jab me ye song sunta hu to dil ko ak sukun milta he😊😀.\\n15\\nREPLY',\n",
       " 'GAMES\\n3 months ago',\n",
       " '',\n",
       " 'GAMES\\n3 months ago',\n",
       " '',\n",
       " '',\n",
       " '',\n",
       " '',\n",
       " '',\n",
       " 'gopi\\n3 months ago\\nNice song❤❤\\n1\\nREPLY',\n",
       " '',\n",
       " 'gopi\\n3 months ago\\nNice song❤❤\\n1\\nREPLY',\n",
       " 'gopi\\n3 months ago',\n",
       " '',\n",
       " 'gopi\\n3 months ago',\n",
       " '',\n",
       " '',\n",
       " '',\n",
       " '',\n",
       " '',\n",
       " 'dharmendar Gupta\\n3 months ago\\nI love 💓 this songs\\n3\\nREPLY',\n",
       " '',\n",
       " 'dharmendar Gupta\\n3 months ago\\nI love 💓 this songs\\n3\\nREPLY',\n",
       " 'dharmendar Gupta\\n3 months ago',\n",
       " '',\n",
       " 'dharmendar Gupta\\n3 months ago',\n",
       " '',\n",
       " '',\n",
       " '',\n",
       " '',\n",
       " '',\n",
       " 'Relaxing Music - Sleep, Study, Meditation\\n3 months ago\\nMusic for your soul and peace of mind. Relaxing music is here.💆\\u200d♀️💆\\u200d♂️\\n1\\nREPLY',\n",
       " '',\n",
       " 'Relaxing Music - Sleep, Study, Meditation\\n3 months ago\\nMusic for your soul and peace of mind. Relaxing music is here.💆\\u200d♀️💆\\u200d♂️\\n1\\nREPLY',\n",
       " 'Relaxing Music - Sleep, Study, Meditation\\n3 months ago',\n",
       " '',\n",
       " 'Relaxing Music - Sleep, Study, Meditation\\n3 months ago',\n",
       " '',\n",
       " '',\n",
       " '',\n",
       " '',\n",
       " '',\n",
       " 'Shameem Sheuli\\n3 months ago\\nBeautiful song! Loved it\\n2\\nREPLY',\n",
       " '',\n",
       " 'Shameem Sheuli\\n3 months ago\\nBeautiful song! Loved it\\n2\\nREPLY',\n",
       " 'Shameem Sheuli\\n3 months ago',\n",
       " '',\n",
       " 'Shameem Sheuli\\n3 months ago',\n",
       " '',\n",
       " '',\n",
       " '',\n",
       " '',\n",
       " '',\n",
       " 'Shazia Malik\\n3 months ago\\nLove all the songs\\n7\\nREPLY',\n",
       " '',\n",
       " 'Shazia Malik\\n3 months ago\\nLove all the songs\\n7\\nREPLY',\n",
       " 'Shazia Malik\\n3 months ago',\n",
       " '',\n",
       " 'Shazia Malik\\n3 months ago',\n",
       " '',\n",
       " '',\n",
       " '',\n",
       " '',\n",
       " '',\n",
       " 'Kishor Kumar\\n3 months ago\\nBeautiful song💗\\n13\\nREPLY',\n",
       " '',\n",
       " 'Kishor Kumar\\n3 months ago\\nBeautiful song💗\\n13\\nREPLY',\n",
       " 'Kishor Kumar\\n3 months ago',\n",
       " '',\n",
       " 'Kishor Kumar\\n3 months ago',\n",
       " '',\n",
       " '',\n",
       " '']"
      ]
     },
     "execution_count": 48,
     "metadata": {},
     "output_type": "execute_result"
    }
   ],
   "source": [
    "Comment=[]\n",
    "cmt=driver9.find_elements_by_xpath(\"//div[@class='style-scope ytd-comment-renderer']\")\n",
    "\n",
    "for i in cmt:\n",
    "    Comment.append(i.text)\n",
    "    \n",
    "Comment"
   ]
  },
  {
   "cell_type": "code",
   "execution_count": 50,
   "metadata": {},
   "outputs": [
    {
     "data": {
      "text/plain": [
       "220"
      ]
     },
     "execution_count": 50,
     "metadata": {},
     "output_type": "execute_result"
    }
   ],
   "source": [
    "len(Comment)"
   ]
  },
  {
   "cell_type": "code",
   "execution_count": 56,
   "metadata": {},
   "outputs": [
    {
     "name": "stderr",
     "output_type": "stream",
     "text": [
      "<ipython-input-56-067fb9960567>:2: DeprecationWarning: find_elements_by_* commands are deprecated. Please use find_elements() instead\n",
      "  time=driver9.find_elements_by_xpath(\"//a[@class='yt-simple-endpoint style-scope yt-formatted-string']\")\n"
     ]
    },
    {
     "data": {
      "text/plain": [
       "53"
      ]
     },
     "execution_count": 56,
     "metadata": {},
     "output_type": "execute_result"
    }
   ],
   "source": [
    "Time=[]\n",
    "time=driver9.find_elements_by_xpath(\"//a[@class='yt-simple-endpoint style-scope yt-formatted-string']\")\n",
    "\n",
    "for i in time:\n",
    "    Time.append(i.text)\n",
    "    \n",
    "len(Time)"
   ]
  },
  {
   "cell_type": "code",
   "execution_count": 62,
   "metadata": {},
   "outputs": [
    {
     "name": "stderr",
     "output_type": "stream",
     "text": [
      "<ipython-input-62-278ee094ab89>:2: DeprecationWarning: find_elements_by_* commands are deprecated. Please use find_elements() instead\n",
      "  cu=driver9.find_elements_by_id(\"vote-count-middle\")\n"
     ]
    },
    {
     "data": {
      "text/plain": [
       "40"
      ]
     },
     "execution_count": 62,
     "metadata": {},
     "output_type": "execute_result"
    }
   ],
   "source": [
    "Comment_Upvote=[]\n",
    "cu=driver9.find_elements_by_id(\"vote-count-middle\")\n",
    "\n",
    "for i in cu:\n",
    "    Comment_Upvote.append(i.text)\n",
    "    \n",
    "len(Comment_Upvote)"
   ]
  },
  {
   "cell_type": "code",
   "execution_count": null,
   "metadata": {},
   "outputs": [],
   "source": [
    "df9=pd.DataFrame()\n",
    "\n",
    "df9['Comments']=Comment[2:]\n",
    "df9['Upvote']=Comment_Upvote\n",
    "df9['Posted Time']=Time\n",
    "\n",
    "df9"
   ]
  },
  {
   "cell_type": "markdown",
   "metadata": {},
   "source": [
    "QUESTION 10"
   ]
  },
  {
   "cell_type": "code",
   "execution_count": 65,
   "metadata": {},
   "outputs": [
    {
     "name": "stderr",
     "output_type": "stream",
     "text": [
      "<ipython-input-65-9869d8f03355>:1: DeprecationWarning: executable_path has been deprecated, please pass in a Service object\n",
      "  driver10=webdriver.Chrome('C:/Users/Kishan/Downloads/chromedriver_win32/chromedriver.exe')\n"
     ]
    }
   ],
   "source": [
    "driver10=webdriver.Chrome('C:/Users/Kishan/Downloads/chromedriver_win32/chromedriver.exe')\n",
    "url10='https://www.hostelworld.com/'\n",
    "driver10.get(url10)"
   ]
  },
  {
   "cell_type": "code",
   "execution_count": 68,
   "metadata": {},
   "outputs": [
    {
     "name": "stderr",
     "output_type": "stream",
     "text": [
      "<ipython-input-68-6422d033606a>:1: DeprecationWarning: find_element_by_* commands are deprecated. Please use find_element() instead\n",
      "  tag=driver10.find_element_by_xpath(\"//input[@class='search-input']\")\n",
      "<ipython-input-68-6422d033606a>:3: DeprecationWarning: find_element_by_* commands are deprecated. Please use find_element() instead\n",
      "  btn=driver10.find_element_by_xpath(\"//div[@class='search-button']/button\")\n"
     ]
    }
   ],
   "source": [
    "tag=driver10.find_element_by_xpath(\"//input[@class='search-input']\")\n",
    "tag.send_keys('London')\n",
    "btn=driver10.find_element_by_xpath(\"//div[@class='search-button']/button\")\n",
    "btn.click()"
   ]
  },
  {
   "cell_type": "code",
   "execution_count": 69,
   "metadata": {},
   "outputs": [],
   "source": [
    "import time"
   ]
  },
  {
   "cell_type": "code",
   "execution_count": 70,
   "metadata": {},
   "outputs": [
    {
     "name": "stderr",
     "output_type": "stream",
     "text": [
      "<ipython-input-70-5b2c18b4e026>:6: DeprecationWarning: find_elements_by_* commands are deprecated. Please use find_elements() instead\n",
      "  name=driver10.find_elements_by_xpath(\"//h2[@class='title title-6']\")\n"
     ]
    },
    {
     "data": {
      "text/plain": [
       "86"
      ]
     },
     "execution_count": 70,
     "metadata": {},
     "output_type": "execute_result"
    }
   ],
   "source": [
    "Name=[]\n",
    "for i in range(1,4):\n",
    "    pg='https://www.hostelworld.com/s?q=London,%20England&country=England&city=London&type=city&id=3&from=2021-09-26&to=2021-09-28&guests=2&page='+str(i)\n",
    "    driver10.get(pg)\n",
    "    time.sleep(10)\n",
    "    name=driver10.find_elements_by_xpath(\"//h2[@class='title title-6']\")\n",
    "    for j in name:\n",
    "        Name.append(j.text)\n",
    "    \n",
    "len(Name)"
   ]
  },
  {
   "cell_type": "code",
   "execution_count": 71,
   "metadata": {},
   "outputs": [
    {
     "name": "stderr",
     "output_type": "stream",
     "text": [
      "<ipython-input-71-8d6d8e47503d>:6: DeprecationWarning: find_elements_by_* commands are deprecated. Please use find_elements() instead\n",
      "  dis=driver10.find_elements_by_xpath(\"//a[@class='show-on-map']\")\n"
     ]
    },
    {
     "name": "stdout",
     "output_type": "stream",
     "text": [
      "86\n"
     ]
    }
   ],
   "source": [
    "Distance=[]\n",
    "for i in range(1,4):\n",
    "    pg='https://www.hostelworld.com/s?q=London,%20England&country=England&city=London&type=city&id=3&from=2021-09-26&to=2021-09-28&guests=2&page='+str(i)\n",
    "    driver10.get(pg)\n",
    "    time.sleep(10)\n",
    "    dis=driver10.find_elements_by_xpath(\"//a[@class='show-on-map']\")\n",
    "    for j in dis:\n",
    "        Distance.append(j.text)\n",
    "Distance\n",
    "print(len(Distance))"
   ]
  },
  {
   "cell_type": "code",
   "execution_count": 72,
   "metadata": {},
   "outputs": [
    {
     "name": "stderr",
     "output_type": "stream",
     "text": [
      "<ipython-input-72-fa39b24a5e76>:6: DeprecationWarning: find_elements_by_* commands are deprecated. Please use find_elements() instead\n",
      "  rating=driver10.find_elements_by_xpath(\"//div[@class='rating rating-summary-container big']\")\n"
     ]
    },
    {
     "data": {
      "text/plain": [
       "86"
      ]
     },
     "execution_count": 72,
     "metadata": {},
     "output_type": "execute_result"
    }
   ],
   "source": [
    "Rating=[]\n",
    "for i in range(1,4):\n",
    "    pg='https://www.hostelworld.com/s?q=London,%20England&country=England&city=London&type=city&id=3&from=2021-09-26&to=2021-09-28&guests=2&page='+str(i)\n",
    "    driver10.get(pg)\n",
    "    time.sleep(10)\n",
    "    rating=driver10.find_elements_by_xpath(\"//div[@class='rating rating-summary-container big']\")\n",
    "    for j in rating:\n",
    "        try:\n",
    "            Rating.append(j.text.split('\\n'))\n",
    "        except:\n",
    "            Rating.append(\"-\")\n",
    "len(Rating)"
   ]
  },
  {
   "cell_type": "code",
   "execution_count": 73,
   "metadata": {},
   "outputs": [
    {
     "name": "stderr",
     "output_type": "stream",
     "text": [
      "<ipython-input-73-b7b80452d9e2>:6: DeprecationWarning: find_elements_by_* commands are deprecated. Please use find_elements() instead\n",
      "  re=driver10.find_elements_by_xpath(\"//div[@class='keyword']//span[1]\")\n"
     ]
    },
    {
     "data": {
      "text/plain": [
       "87"
      ]
     },
     "execution_count": 73,
     "metadata": {},
     "output_type": "execute_result"
    }
   ],
   "source": [
    "Review=[]\n",
    "for i in range(1,4):\n",
    "    pg='https://www.hostelworld.com/s?q=London,%20England&country=England&city=London&type=city&id=3&from=2021-09-26&to=2021-09-28&guests=2&page='+str(i)\n",
    "    driver10.get(pg)\n",
    "    time.sleep(10)\n",
    "    re=driver10.find_elements_by_xpath(\"//div[@class='keyword']//span[1]\")\n",
    "    for i in re:\n",
    "            Review.append(i.text)\n",
    "len(Review)"
   ]
  },
  {
   "cell_type": "code",
   "execution_count": 83,
   "metadata": {},
   "outputs": [
    {
     "data": {
      "text/plain": [
       "86"
      ]
     },
     "execution_count": 83,
     "metadata": {},
     "output_type": "execute_result"
    }
   ],
   "source": [
    "R1=Review[:86]\n",
    "len(R1)"
   ]
  },
  {
   "cell_type": "code",
   "execution_count": 75,
   "metadata": {},
   "outputs": [
    {
     "name": "stderr",
     "output_type": "stream",
     "text": [
      "<ipython-input-75-be3b36c0156c>:7: DeprecationWarning: find_elements_by_* commands are deprecated. Please use find_elements() instead\n",
      "  tr=driver10.find_elements_by_xpath(\"//div[@class='reviews']\")\n"
     ]
    },
    {
     "data": {
      "text/plain": [
       "86"
      ]
     },
     "execution_count": 75,
     "metadata": {},
     "output_type": "execute_result"
    }
   ],
   "source": [
    "Total_Review=[]\n",
    "\n",
    "for i in range(1,4):\n",
    "    pg='https://www.hostelworld.com/s?q=London,%20England&country=England&city=London&type=city&id=3&from=2021-09-26&to=2021-09-28&guests=2&page='+str(i)\n",
    "    driver10.get(pg)\n",
    "    time.sleep(10)\n",
    "    tr=driver10.find_elements_by_xpath(\"//div[@class='reviews']\")\n",
    "    for j in tr:\n",
    "        try:\n",
    "            Total_Review.append(j.text)\n",
    "        except:\n",
    "            Total_Review.append(\"-\")\n",
    "            \n",
    "len(Total_Review)"
   ]
  },
  {
   "cell_type": "code",
   "execution_count": 76,
   "metadata": {},
   "outputs": [
    {
     "name": "stderr",
     "output_type": "stream",
     "text": [
      "<ipython-input-76-69dc155d0d39>:8: DeprecationWarning: find_elements_by_* commands are deprecated. Please use find_elements() instead\n",
      "  pr=driver10.find_elements_by_xpath(\"//div[@class='price-col']\")\n"
     ]
    },
    {
     "data": {
      "text/plain": [
       "172"
      ]
     },
     "execution_count": 76,
     "metadata": {},
     "output_type": "execute_result"
    }
   ],
   "source": [
    "Price=[]\n",
    "\n",
    "for i in range(1,4):\n",
    "    pg='https://www.hostelworld.com/s?q=London,%20England&country=England&city=London&type=city&id=3&from=2021-09-26&to=2021-09-28&guests=2&page='+str(i)\n",
    "    driver10.get(pg)\n",
    "    time.sleep(10)\n",
    "    pr=driver10.find_elements_by_xpath(\"//div[@class='price-col']\")\n",
    "    for j in pr:\n",
    "            try:\n",
    "                Price.append(j.text.replace('From\\n',' '))\n",
    "            except:\n",
    "                Price.append('-')\n",
    "                \n",
    "len(Price)"
   ]
  },
  {
   "cell_type": "code",
   "execution_count": 77,
   "metadata": {},
   "outputs": [],
   "source": [
    "P=Price[::2]\n",
    "D=Price[1::2]"
   ]
  },
  {
   "cell_type": "code",
   "execution_count": 78,
   "metadata": {},
   "outputs": [
    {
     "name": "stderr",
     "output_type": "stream",
     "text": [
      "<ipython-input-78-acc0b258ddda>:7: DeprecationWarning: find_elements_by_* commands are deprecated. Please use find_elements() instead\n",
      "  url=driver10.find_elements_by_xpath(\"//h2[@class='title title-6']/a[1]\")\n"
     ]
    },
    {
     "data": {
      "text/plain": [
       "86"
      ]
     },
     "execution_count": 78,
     "metadata": {},
     "output_type": "execute_result"
    }
   ],
   "source": [
    "Url10=[]\n",
    "\n",
    "for i in range(1,4):\n",
    "    pg='https://www.hostelworld.com/s?q=London,%20England&country=England&city=London&type=city&id=3&from=2021-09-26&to=2021-09-28&guests=2&page='+str(i)\n",
    "    driver10.get(pg)\n",
    "    time.sleep(10)\n",
    "    url=driver10.find_elements_by_xpath(\"//h2[@class='title title-6']/a[1]\")\n",
    "    for j in url:\n",
    "        try:\n",
    "            Url10.append(j.get_attribute('href'))\n",
    "        except:\n",
    "            Url10.append(\"-\")\n",
    "len(Url10)"
   ]
  },
  {
   "cell_type": "code",
   "execution_count": 79,
   "metadata": {},
   "outputs": [
    {
     "name": "stderr",
     "output_type": "stream",
     "text": [
      "<ipython-input-79-ca3470da744e>:5: DeprecationWarning: find_element_by_* commands are deprecated. Please use find_element() instead\n",
      "  pd=driver10.find_element_by_xpath(\"//div[@class='collapsible']/div[2]\")\n"
     ]
    }
   ],
   "source": [
    "Property=[]\n",
    "for i in Url10:\n",
    "    driver10.get(i)\n",
    "    time.sleep(3)\n",
    "    pd=driver10.find_element_by_xpath(\"//div[@class='collapsible']/div[2]\")\n",
    "    try:\n",
    "        Property.append(pd.text)\n",
    "    except:\n",
    "        Property.append(\"-\")"
   ]
  },
  {
   "cell_type": "code",
   "execution_count": 80,
   "metadata": {},
   "outputs": [
    {
     "data": {
      "text/plain": [
       "86"
      ]
     },
     "execution_count": 80,
     "metadata": {},
     "output_type": "execute_result"
    }
   ],
   "source": [
    "len(Property)"
   ]
  },
  {
   "cell_type": "code",
   "execution_count": 84,
   "metadata": {},
   "outputs": [
    {
     "data": {
      "text/html": [
       "<div>\n",
       "<style scoped>\n",
       "    .dataframe tbody tr th:only-of-type {\n",
       "        vertical-align: middle;\n",
       "    }\n",
       "\n",
       "    .dataframe tbody tr th {\n",
       "        vertical-align: top;\n",
       "    }\n",
       "\n",
       "    .dataframe thead th {\n",
       "        text-align: right;\n",
       "    }\n",
       "</style>\n",
       "<table border=\"1\" class=\"dataframe\">\n",
       "  <thead>\n",
       "    <tr style=\"text-align: right;\">\n",
       "      <th></th>\n",
       "      <th>Hostel Name</th>\n",
       "      <th>Distance From City Center</th>\n",
       "      <th>Rating</th>\n",
       "      <th>Review</th>\n",
       "      <th>Total Review</th>\n",
       "      <th>Privat Price</th>\n",
       "      <th>Drom Price</th>\n",
       "      <th>Property Discription &amp; Facility</th>\n",
       "    </tr>\n",
       "  </thead>\n",
       "  <tbody>\n",
       "    <tr>\n",
       "      <th>0</th>\n",
       "      <td>Mornington Camden</td>\n",
       "      <td>Hostel - 4.1km from city centre Show on Map</td>\n",
       "      <td>8.3</td>\n",
       "      <td>Fabulous</td>\n",
       "      <td>44 Total Reviews</td>\n",
       "      <td>No Privates Available</td>\n",
       "      <td>Dorms  Rs2578</td>\n",
       "      <td>Mornington Camden Hostel is a high class spaci...</td>\n",
       "    </tr>\n",
       "    <tr>\n",
       "      <th>1</th>\n",
       "      <td>Smart Russell Square Hostel</td>\n",
       "      <td>Hostel - 2.6km from city centre Show on Map</td>\n",
       "      <td>6.7</td>\n",
       "      <td>Fabulous</td>\n",
       "      <td>9561 Total Reviews</td>\n",
       "      <td>Privates  Rs4020</td>\n",
       "      <td>Dorms  Rs1127</td>\n",
       "      <td>Many Hostelworld guests who visit Smart Russel...</td>\n",
       "    </tr>\n",
       "    <tr>\n",
       "      <th>2</th>\n",
       "      <td>Smart Camden Inn Hostel</td>\n",
       "      <td>Hostel - 4.4km from city centre Show on Map</td>\n",
       "      <td>8.4</td>\n",
       "      <td>Good</td>\n",
       "      <td>2731 Total Reviews</td>\n",
       "      <td>Privates  Rs5468</td>\n",
       "      <td>Dorms  Rs1217</td>\n",
       "      <td>Located in the middle of Camden Town, we’re th...</td>\n",
       "    </tr>\n",
       "    <tr>\n",
       "      <th>3</th>\n",
       "      <td>Selina Camden</td>\n",
       "      <td>Hostel - 5.5km from city centre Show on Map</td>\n",
       "      <td>9.1</td>\n",
       "      <td>Fabulous</td>\n",
       "      <td>13 Total Reviews</td>\n",
       "      <td>Privates  Rs18091</td>\n",
       "      <td>Dorms  Rs5880.24 Rs4998</td>\n",
       "      <td>Among underground music venues, innovative mus...</td>\n",
       "    </tr>\n",
       "    <tr>\n",
       "      <th>4</th>\n",
       "      <td>Queen Elizabeth Chelsea</td>\n",
       "      <td>Hostel - 5.7km from city centre Show on Map</td>\n",
       "      <td>7.5</td>\n",
       "      <td>Superb</td>\n",
       "      <td>3212 Total Reviews</td>\n",
       "      <td>Privates  Rs2316</td>\n",
       "      <td>Dorms  Rs1432</td>\n",
       "      <td>PLEASE NOTE WE ONLY ACCEPT GUESTS FROM THE AGE...</td>\n",
       "    </tr>\n",
       "    <tr>\n",
       "      <th>...</th>\n",
       "      <td>...</td>\n",
       "      <td>...</td>\n",
       "      <td>...</td>\n",
       "      <td>...</td>\n",
       "      <td>...</td>\n",
       "      <td>...</td>\n",
       "      <td>...</td>\n",
       "      <td>...</td>\n",
       "    </tr>\n",
       "    <tr>\n",
       "      <th>81</th>\n",
       "      <td>Green Rooms</td>\n",
       "      <td>Hotel - 10.8km from city centre Show on Map</td>\n",
       "      <td>9.7</td>\n",
       "      <td>Superb</td>\n",
       "      <td>76 Total Reviews</td>\n",
       "      <td>Privates  Rs7798</td>\n",
       "      <td>Dorms  Rs2463</td>\n",
       "      <td>Green Rooms is a pioneering arts-led hotel and...</td>\n",
       "    </tr>\n",
       "    <tr>\n",
       "      <th>82</th>\n",
       "      <td>23 Matheson Road</td>\n",
       "      <td>Bed and Breakfast - 6.2km from city centre Sho...</td>\n",
       "      <td>No Rating</td>\n",
       "      <td>Superb</td>\n",
       "      <td>6 Total Reviews</td>\n",
       "      <td>Privates  Rs4024</td>\n",
       "      <td>No Dorms Available</td>\n",
       "      <td>This pretty Victorian town house on a quiet st...</td>\n",
       "    </tr>\n",
       "    <tr>\n",
       "      <th>83</th>\n",
       "      <td>Park Hotel Essex</td>\n",
       "      <td>Hotel - 24.1km from city centre Show on Map</td>\n",
       "      <td>8.0</td>\n",
       "      <td>No Rating</td>\n",
       "      <td>109 Total Reviews</td>\n",
       "      <td>Privates  Rs10562</td>\n",
       "      <td>No Dorms Available</td>\n",
       "      <td>This Hotel is the right choice for visitors wh...</td>\n",
       "    </tr>\n",
       "    <tr>\n",
       "      <th>84</th>\n",
       "      <td>Cranbrook Hotel</td>\n",
       "      <td>Hotel - 14.8km from city centre Show on Map</td>\n",
       "      <td>No Rating</td>\n",
       "      <td>Fabulous</td>\n",
       "      <td>58 Total Reviews</td>\n",
       "      <td>Privates  Rs4527</td>\n",
       "      <td>No Dorms Available</td>\n",
       "      <td>We are located about twenty minutes by tube fr...</td>\n",
       "    </tr>\n",
       "    <tr>\n",
       "      <th>85</th>\n",
       "      <td>TLK Apartments &amp; Hotel</td>\n",
       "      <td>Hotel - 19.9km from city centre Show on Map</td>\n",
       "      <td>No Rating</td>\n",
       "      <td>No Rating</td>\n",
       "      <td>0 Total Reviews</td>\n",
       "      <td>Privates  Rs5030</td>\n",
       "      <td>No Dorms Available</td>\n",
       "      <td>To be in tune with what is expected of a hotel...</td>\n",
       "    </tr>\n",
       "  </tbody>\n",
       "</table>\n",
       "<p>86 rows × 8 columns</p>\n",
       "</div>"
      ],
      "text/plain": [
       "                    Hostel Name  \\\n",
       "0             Mornington Camden   \n",
       "1   Smart Russell Square Hostel   \n",
       "2       Smart Camden Inn Hostel   \n",
       "3                 Selina Camden   \n",
       "4       Queen Elizabeth Chelsea   \n",
       "..                          ...   \n",
       "81                  Green Rooms   \n",
       "82             23 Matheson Road   \n",
       "83             Park Hotel Essex   \n",
       "84              Cranbrook Hotel   \n",
       "85       TLK Apartments & Hotel   \n",
       "\n",
       "                            Distance From City Center     Rating     Review  \\\n",
       "0         Hostel - 4.1km from city centre Show on Map        8.3   Fabulous   \n",
       "1         Hostel - 2.6km from city centre Show on Map        6.7   Fabulous   \n",
       "2         Hostel - 4.4km from city centre Show on Map        8.4       Good   \n",
       "3         Hostel - 5.5km from city centre Show on Map        9.1   Fabulous   \n",
       "4         Hostel - 5.7km from city centre Show on Map        7.5     Superb   \n",
       "..                                                ...        ...        ...   \n",
       "81        Hotel - 10.8km from city centre Show on Map        9.7     Superb   \n",
       "82  Bed and Breakfast - 6.2km from city centre Sho...  No Rating     Superb   \n",
       "83        Hotel - 24.1km from city centre Show on Map        8.0  No Rating   \n",
       "84        Hotel - 14.8km from city centre Show on Map  No Rating   Fabulous   \n",
       "85        Hotel - 19.9km from city centre Show on Map  No Rating  No Rating   \n",
       "\n",
       "          Total Review           Privat Price               Drom Price  \\\n",
       "0     44 Total Reviews  No Privates Available            Dorms  Rs2578   \n",
       "1   9561 Total Reviews       Privates  Rs4020            Dorms  Rs1127   \n",
       "2   2731 Total Reviews       Privates  Rs5468            Dorms  Rs1217   \n",
       "3     13 Total Reviews      Privates  Rs18091  Dorms  Rs5880.24 Rs4998   \n",
       "4   3212 Total Reviews       Privates  Rs2316            Dorms  Rs1432   \n",
       "..                 ...                    ...                      ...   \n",
       "81    76 Total Reviews       Privates  Rs7798            Dorms  Rs2463   \n",
       "82     6 Total Reviews       Privates  Rs4024       No Dorms Available   \n",
       "83   109 Total Reviews      Privates  Rs10562       No Dorms Available   \n",
       "84    58 Total Reviews       Privates  Rs4527       No Dorms Available   \n",
       "85     0 Total Reviews       Privates  Rs5030       No Dorms Available   \n",
       "\n",
       "                      Property Discription & Facility  \n",
       "0   Mornington Camden Hostel is a high class spaci...  \n",
       "1   Many Hostelworld guests who visit Smart Russel...  \n",
       "2   Located in the middle of Camden Town, we’re th...  \n",
       "3   Among underground music venues, innovative mus...  \n",
       "4   PLEASE NOTE WE ONLY ACCEPT GUESTS FROM THE AGE...  \n",
       "..                                                ...  \n",
       "81  Green Rooms is a pioneering arts-led hotel and...  \n",
       "82  This pretty Victorian town house on a quiet st...  \n",
       "83  This Hotel is the right choice for visitors wh...  \n",
       "84  We are located about twenty minutes by tube fr...  \n",
       "85  To be in tune with what is expected of a hotel...  \n",
       "\n",
       "[86 rows x 8 columns]"
      ]
     },
     "execution_count": 84,
     "metadata": {},
     "output_type": "execute_result"
    }
   ],
   "source": [
    "import pandas as pd\n",
    "\n",
    "df10=pd.DataFrame()\n",
    "\n",
    "df10['Hostel Name']=Name\n",
    "df10['Distance From City Center']=Distance\n",
    "df10['Rating']=([item[0] for item in Rating])\n",
    "df10['Review']=R1\n",
    "df10['Total Review']=Total_Review\n",
    "df10['Privat Price']=P\n",
    "df10['Drom Price']=D\n",
    "df10['Property Discription & Facility']=Property\n",
    "\n",
    "df10"
   ]
  },
  {
   "cell_type": "code",
   "execution_count": null,
   "metadata": {},
   "outputs": [],
   "source": []
  }
 ],
 "metadata": {
  "kernelspec": {
   "display_name": "Python 3",
   "language": "python",
   "name": "python3"
  },
  "language_info": {
   "codemirror_mode": {
    "name": "ipython",
    "version": 3
   },
   "file_extension": ".py",
   "mimetype": "text/x-python",
   "name": "python",
   "nbconvert_exporter": "python",
   "pygments_lexer": "ipython3",
   "version": "3.8.3"
  }
 },
 "nbformat": 4,
 "nbformat_minor": 4
}
