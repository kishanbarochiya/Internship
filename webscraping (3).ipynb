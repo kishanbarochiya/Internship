{
  "nbformat": 4,
  "nbformat_minor": 0,
  "metadata": {
    "colab": {
      "name": "webscraping.ipynb",
      "provenance": [],
      "collapsed_sections": []
    },
    "kernelspec": {
      "name": "python3",
      "display_name": "Python 3"
    },
    "language_info": {
      "name": "python"
    }
  },
  "cells": [
    {
      "cell_type": "markdown",
      "metadata": {
        "id": "I4T0zbvy3Jeh"
      },
      "source": [
        "QUESTION NO 1"
      ]
    },
    {
      "cell_type": "code",
      "metadata": {
        "id": "kIivvr_G0l_G"
      },
      "source": [
        "from bs4 import BeautifulSoup\n",
        "import requests\n",
        "import pandas as pd\n",
        "from urllib.request import urlopen"
      ],
      "execution_count": 5,
      "outputs": []
    },
    {
      "cell_type": "code",
      "metadata": {
        "id": "CLEtgutt0j0Y"
      },
      "source": [
        "html = urlopen('https://en.wikipedia.org/wiki/Main_Page')\n",
        "bs = BeautifulSoup(html, \"html.parser\")\n",
        "\n",
        "print(\"List of all header tags\")\n",
        "for heading in bs.find_all(['h1', 'h2','h3','h4','h5','h6']):\n",
        "\n",
        "    print(heading.name + ' ' + heading.text.strip())\n"
      ],
      "execution_count": null,
      "outputs": []
    },
    {
      "cell_type": "markdown",
      "metadata": {
        "id": "hjzGG3fI2Of4"
      },
      "source": [
        "QUESTION 2"
      ]
    },
    {
      "cell_type": "code",
      "metadata": {
        "id": "q2yxi5jJymZ-",
        "colab": {
          "base_uri": "https://localhost:8080/"
        },
        "outputId": "eaa98837-c36e-4c79-ae55-0ad78130a804"
      },
      "source": [
        "from bs4 import BeautifulSoup\n",
        "import requests\n",
        "import pandas as pd\n",
        "import re\n",
        "\n",
        "\n",
        "url = 'http://www.imdb.com/chart/top'\n",
        "response = requests.get(url)\n",
        "soup = BeautifulSoup(response.text, 'lxml')\n",
        "\n",
        "\n",
        "movies = soup.select('td.titleColumn')\n",
        "crew = [a.attrs.get('title') for a in soup.select('td.titleColumn a')]\n",
        "ratings = [b.attrs.get('data-value') for b in soup.select('td.posterColumn span[name=ir]')]\n",
        "votes = [b.attrs.get('data-value') for b in soup.select('td.ratingColumn strong')]\n",
        "\n",
        "\n",
        "imdb = []\n",
        "\n",
        "\n",
        "for index in range(0, len(movies)):\n",
        "\n",
        "    movie_string = movies[index].get_text()\n",
        "    movie = (' '.join(movie_string.split()).replace('.', ''))\n",
        "    movie_title = movie[len(str(index))+1:-7]\n",
        "    year = re.search('\\((.*?)\\)', movie_string).group(1)\n",
        "    place = movie[:len(str(index))-(len(movie))]\n",
        "    rating = ratings[index]\n",
        "    data = {\"movie_title\": movie_title,\n",
        "            \"year\": year,\n",
        "            \"place\": place,\n",
        "            \"rating\": ratings[index]}\n",
        "    imdb.append(data)\n",
        "\n",
        "for item in imdb:\n",
        "   print(item['place'], item['movie_title'], '('+item['year']+') -', item['rating'])"
      ],
      "execution_count": 4,
      "outputs": [
        {
          "output_type": "stream",
          "name": "stdout",
          "text": [
            "1 The Shawshank Redemption (1994) - 9.220843244997972\n",
            "2 The Godfather (1972) - 9.147239517428206\n",
            "3 The Godfather: Part II (1974) - 8.980901432010997\n",
            "4 The Dark Knight (2008) - 8.974729325716735\n",
            "5 12 Angry Men (1957) - 8.941257104335788\n",
            "6 Schindler's List (1993) - 8.9118352210954\n",
            "7 The Lord of the Rings: The Return of the King (2003) - 8.890143661705133\n",
            "8 Pulp Fiction (1994) - 8.834821570802605\n",
            "9 The Good, the Bad and the Ugly (1966) - 8.785045639961922\n",
            "1  The Lord of the Rings: The Fellowship of the Ring (2001) - 8.780216427176285\n",
            "11 Fight Club (1999) - 8.750465140823888\n",
            "12 Forrest Gump (1994) - 8.74408941238941\n",
            "13 Inception (2010) - 8.714794337514796\n",
            "14 The Lord of the Rings: The Two Towers (2002) - 8.703721742972911\n",
            "15 Star Wars: Episode V - The Empire Strikes Back (1980) - 8.694384186562836\n",
            "16 The Matrix (1999) - 8.64584870404416\n",
            "17 Goodfellas (1990) - 8.644433015291206\n",
            "18 One Flew Over the Cuckoo's Nest (1975) - 8.634838133218594\n",
            "19 Seven Samurai (1954) - 8.608674990263768\n",
            "20 Se7en (1995) - 8.587181225924601\n",
            "21 The Silence of the Lambs (1991) - 8.577272860624138\n",
            "22 City of God (2002) - 8.57607875487595\n",
            "23 Life Is Beautiful (1997) - 8.574906326757782\n",
            "24 It's a Wonderful Life (1946) - 8.574422347854892\n",
            "25 Star Wars: Episode IV - A New Hope (1977) - 8.550549746707928\n",
            "26 Saving Private Ryan (1998) - 8.550543035316513\n",
            "27 Interstellar (2014) - 8.542598257085166\n",
            "28 Spirited Away (2001) - 8.539150652759465\n",
            "29 The Green Mile (1999) - 8.536614538891834\n",
            "30 Parasite (2019) - 8.526660064147066\n",
            "31 Léon: The Professional (1994) - 8.497748911397505\n",
            "32 Hara-Kiri (1962) - 8.493693350125506\n",
            "33 The Pianist (2002) - 8.490349990653176\n",
            "34 Terminator 2: Judgment Day (1991) - 8.48524698946572\n",
            "35 Back to the Future (1985) - 8.484403159253638\n",
            "36 The Usual Suspects (1995) - 8.484348937063777\n",
            "37 Psycho (1960) - 8.482317500825692\n",
            "38 The Lion King (1994) - 8.481145777272433\n",
            "39 Modern Times (1936) - 8.478990160517778\n",
            "40 American History X (1998) - 8.473323832931337\n",
            "41 Grave of the Fireflies (1988) - 8.472309566315113\n",
            "42 City Lights (1931) - 8.469486904881071\n",
            "43 Whiplash (2014) - 8.469437547985892\n",
            "44 Gladiator (2000) - 8.469022031522424\n",
            "45 The Departed (2006) - 8.467040800977337\n",
            "46 The Intouchables (2011) - 8.45939280636094\n",
            "47 The Prestige (2006) - 8.453626683733646\n",
            "48 Casablanca (1942) - 8.449351666993762\n",
            "49 Once Upon a Time in the West (1968) - 8.44681701987227\n",
            "50 Rear Window (1954) - 8.43941618396195\n",
            "51 Cinema Paradiso (1988) - 8.437066251610233\n",
            "52 Alien (1979) - 8.422642197107212\n",
            "53 Apocalypse Now (1979) - 8.41730478071193\n",
            "54 Memento (2000) - 8.407838688790653\n",
            "55 Indiana Jones and the Raiders of the Lost Ark (1981) - 8.40511533909014\n",
            "56 The Great Dictator (1940) - 8.403713970617858\n",
            "57 The Lives of Others (2006) - 8.39056290293449\n",
            "58 Django Unchained (2012) - 8.390447744501804\n",
            "59 Paths of Glory (1957) - 8.3825321104766\n",
            "60 Sunset Blvd (1950) - 8.377340815856979\n",
            "61 WALL·E (2008) - 8.373853080411171\n",
            "62 Avengers: Infinity War (2018) - 8.367175089024965\n",
            "63 Witness for the Prosecution (1957) - 8.365537960232809\n",
            "64 The Shining (1980) - 8.364063728329322\n",
            "65 Spider-Man: Into the Spider-Verse (2018) - 8.356989671096628\n",
            "66 Dr Strangelove or: How I Learned to Stop Worrying and Love the Bomb (1964) - 8.352070182840034\n",
            "67 Princess Mononoke (1997) - 8.34492542948116\n",
            "68 Oldboy (2003) - 8.34380011505851\n",
            "69 Joker (2019) - 8.343282171383581\n",
            "70 Your Name (2016) - 8.327921235104785\n",
            "71 Coco (2017) - 8.32238082034131\n",
            "72 The Dark Knight Rises (2012) - 8.32214966840167\n",
            "73 Aliens (1986) - 8.321234753257988\n",
            "74 Once Upon a Time in America (1984) - 8.320038468364084\n",
            "75 Capernaum (2018) - 8.309175317911928\n",
            "76 Avengers: Endgame (2019) - 8.309158174984455\n",
            "77 Das Boot (1981) - 8.306432400471309\n",
            "78 High and Low (1963) - 8.301230303562047\n",
            "79 3 Idiots (2009) - 8.297286157068399\n",
            "80 Toy Story (1995) - 8.296606946745994\n",
            "81 American Beauty (1999) - 8.296505808814883\n",
            "82 Amadeus (1984) - 8.295361509827911\n",
            "83 Braveheart (1995) - 8.293688693946171\n",
            "84 Hamilton (2020) - 8.290023797992827\n",
            "85 Inglourious Basterds (2009) - 8.289317441260312\n",
            "86 Good Will Hunting (1997) - 8.282408849085739\n",
            "87 Star Wars: Episode VI - Return of the Jedi (1983) - 8.27417633006288\n",
            "88 2001: A Space Odyssey (1968) - 8.272513534418227\n",
            "89 Reservoir Dogs (1992) - 8.27111993081982\n",
            "90 M (1931) - 8.269408649697073\n",
            "91 Like Stars on Earth (2007) - 8.269244239239855\n",
            "92 Vertigo (1958) - 8.269152316071098\n",
            "93 Come and See (1985) - 8.268788210538048\n",
            "94 Citizen Kane (1941) - 8.267124523135976\n",
            "95 The Hunt (2012) - 8.265996904081815\n",
            "96 Requiem for a Dream (2000) - 8.260818270885885\n",
            "97 Singin' in the Rain (1952) - 8.259099324370256\n",
            "98 North by Northwest (1959) - 8.257507772633046\n",
            "99 Eternal Sunshine of the Spotless Mind (2004) - 8.255586119271312\n",
            "10  Bicycle Thieves (1948) - 8.254431874557618\n",
            "101 Ikiru (1952) - 8.254173556622785\n",
            "102 Lawrence of Arabia (1962) - 8.250272695014262\n",
            "103 The Kid (1921) - 8.244889965942257\n",
            "104 Full Metal Jacket (1987) - 8.24238422431138\n",
            "105 Dangal (2016) - 8.240270856273488\n",
            "106 The Apartment (1960) - 8.238829330113324\n",
            "107 Incendies (2010) - 8.238476474600658\n",
            "108 The Father (2020) - 8.23742388012579\n",
            "109 Double Indemnity (1944) - 8.235936049327705\n",
            "110 A Clockwork Orange (1971) - 8.235778829732327\n",
            "111 Metropolis (1927) - 8.235737078863831\n",
            "112 Taxi Driver (1976) - 8.2355925296115\n",
            "113 A Separation (2011) - 8.233744240251468\n",
            "114 Pather Panchali (1955) - 8.232947265379952\n",
            "115 The Sting (1973) - 8.23288363251077\n",
            "116 Scarface (1983) - 8.232105353492477\n",
            "117 Snatch (2000) - 8.229910859773554\n",
            "118 1917 (2019) - 8.22882187471274\n",
            "119 Amélie (2001) - 8.228599043386671\n",
            "120 To Kill a Mockingbird (1962) - 8.225089837493883\n",
            "121 Toy Story 3 (2010) - 8.223834456816183\n",
            "122 For a Few Dollars More (1965) - 8.217309655202824\n",
            "123 Up (2009) - 8.213662763613414\n",
            "124 Indiana Jones and the Last Crusade (1989) - 8.203194541930959\n",
            "125 Heat (1995) - 8.200248144797673\n",
            "126 LA Confidential (1997) - 8.198707924234872\n",
            "127 Yojimbo (1961) - 8.193702655874038\n",
            "128 Ran (1985) - 8.193064495386555\n",
            "129 Die Hard (1988) - 8.193021572842548\n",
            "130 Rashomon (1950) - 8.191727923849179\n",
            "131 Jai Bhim (2021) - 8.1917112633414\n",
            "132 Green Book (2018) - 8.191094429802995\n",
            "133 Downfall (2004) - 8.188867011156102\n",
            "134 Monty Python and the Holy Grail (1975) - 8.188385208092253\n",
            "135 All About Eve (1950) - 8.187064615258665\n",
            "136 Some Like It Hot (1959) - 8.18402204224202\n",
            "137 Batman Begins (2005) - 8.18319264311107\n",
            "138 Unforgiven (1992) - 8.178564316798422\n",
            "139 Children of Heaven (1997) - 8.176677797978021\n",
            "140 Howl's Moving Castle (2004) - 8.164557885738146\n",
            "141 The Wolf of Wall Street (2013) - 8.162416118596399\n",
            "142 Judgment at Nuremberg (1961) - 8.158957665172814\n",
            "143 The Great Escape (1963) - 8.156223619813792\n",
            "144 There Will Be Blood (2007) - 8.155345630422\n",
            "145 Casino (1995) - 8.155174762915403\n",
            "146 The Treasure of the Sierra Madre (1948) - 8.15469754227096\n",
            "147 Pan's Labyrinth (2006) - 8.149425477250052\n",
            "148 A Beautiful Mind (2001) - 8.148107527034535\n",
            "149 The Secret in Their Eyes (2009) - 8.145737672211064\n",
            "150 Raging Bull (1980) - 8.143348571915716\n",
            "151 Dersu Uzala (1975) - 8.142519519767413\n",
            "152 Chinatown (1974) - 8.137702813974245\n",
            "153 My Neighbor Totoro (1988) - 8.137241706397067\n",
            "154 Lock, Stock and Two Smoking Barrels (1998) - 8.13376401504128\n",
            "155 Shutter Island (2010) - 8.132862384840735\n",
            "156 The Gold Rush (1925) - 8.129388435526357\n",
            "157 No Country for Old Men (2007) - 8.129307981490838\n",
            "158 Dial M for Murder (1954) - 8.128816614864773\n",
            "159 The Thing (1982) - 8.126700315731535\n",
            "160 The Seventh Seal (1957) - 8.126496520460861\n",
            "161 Three Billboards Outside Ebbing, Missouri (2017) - 8.126330152508638\n",
            "162 The Elephant Man (1980) - 8.12480150618111\n",
            "163 Klaus (2019) - 8.123340827806048\n",
            "164 The Sixth Sense (1999) - 8.122709666850698\n",
            "165 Dune (2021) - 8.120585098019193\n",
            "166 Wild Strawberries (1957) - 8.117028258831308\n",
            "167 The Third Man (1949) - 8.116287662604867\n",
            "168 The Truman Show (1998) - 8.115899615779517\n",
            "169 Jurassic Park (1993) - 8.115863708637878\n",
            "170 Memories of Murder (2003) - 8.1139527566158\n",
            "171 V for Vendetta (2005) - 8.113784744985038\n",
            "172 Blade Runner (1982) - 8.112714997305641\n",
            "173 Trainspotting (1996) - 8.112164861434126\n",
            "174 Inside Out (2015) - 8.11201088601256\n",
            "175 The Bridge on the River Kwai (1957) - 8.110984161887131\n",
            "176 Fargo (1996) - 8.11039451820188\n",
            "177 Warrior (2011) - 8.108533634349268\n",
            "178 Finding Nemo (2003) - 8.108361494129364\n",
            "179 Kill Bill: Vol 1 (2003) - 8.107494513850062\n",
            "180 Gone with the Wind (1939) - 8.105796766815407\n",
            "181 Tokyo Story (1953) - 8.102489887139459\n",
            "182 On the Waterfront (1954) - 8.101790944095637\n",
            "183 My Father and My Son (2005) - 8.098612095274818\n",
            "184 Wild Tales (2014) - 8.092859070683334\n",
            "185 Stalker (1979) - 8.092643040388053\n",
            "186 The Deer Hunter (1978) - 8.090463881921675\n",
            "187 Z (1969) - 8.090282129660757\n",
            "188 Prisoners (2013) - 8.089286082205007\n",
            "189 The Grand Budapest Hotel (2014) - 8.088915735309337\n",
            "190 Sherlock Jr (1924) - 8.088799879018728\n",
            "191 The General (1926) - 8.088641551625877\n",
            "192 Gran Torino (2008) - 8.088315108344336\n",
            "193 Persona (1966) - 8.088151436501906\n",
            "194 Before Sunrise (1995) - 8.085145707413911\n",
            "195 Mary and Max (2009) - 8.084938802086763\n",
            "196 Catch Me If You Can (2002) - 8.082204122650777\n",
            "197 Mr Smith Goes to Washington (1939) - 8.08155378373996\n",
            "198 In the Name of the Father (1993) - 8.079976502528558\n",
            "199 Barry Lyndon (1975) - 8.079336931715913\n",
            "200 Room (2015) - 8.079186195079398\n",
            "201 Gone Girl (2014) - 8.0781210885756\n",
            "202 Hacksaw Ridge (2016) - 8.076304149027196\n",
            "203 The Passion of Joan of Arc (1928) - 8.074128759704147\n",
            "204 Andhadhun (2018) - 8.07304162829435\n",
            "205 Ford v Ferrari (2019) - 8.07019629595557\n",
            "206 12 Years a Slave (2013) - 8.069503278475421\n",
            "207 To Be or Not to Be (1942) - 8.069464271417933\n",
            "208 The Big Lebowski (1998) - 8.067094811920146\n",
            "209 Autumn Sonata (1978) - 8.06342456786672\n",
            "210 Dead Poets Society (1989) - 8.06270158144321\n",
            "211 How to Train Your Dragon (2010) - 8.06259922171656\n",
            "212 Mad Max: Fury Road (2015) - 8.061653364346036\n",
            "213 Ben-Hur (1959) - 8.06110187776915\n",
            "214 Harry Potter and the Deathly Hallows: Part 2 (2011) - 8.059551093545075\n",
            "215 Million Dollar Baby (2004) - 8.058751799815159\n",
            "216 The Wages of Fear (1953) - 8.056203532610995\n",
            "217 The Handmaiden (2016) - 8.055742197695844\n",
            "218 Stand by Me (1986) - 8.055168824270972\n",
            "219 Network (1976) - 8.054567481407167\n",
            "220 Logan (2017) - 8.052176636965445\n",
            "221 Gangs of Wasseypur (2012) - 8.05127924208957\n",
            "222 Cool Hand Luke (1967) - 8.049905798136818\n",
            "223 Hachi: A Dog's Tale (2009) - 8.049395356070365\n",
            "224 La Haine (1995) - 8.048997718406575\n",
            "225 The 400 Blows (1959) - 8.048140243841413\n",
            "226 A Silent Voice: The Movie (2016) - 8.046510335331845\n",
            "227 Platoon (1986) - 8.046136683666738\n",
            "228 Spotlight (2015) - 8.044624452429796\n",
            "229 Monsters, Inc (2001) - 8.041790211681283\n",
            "230 Rebecca (1940) - 8.041281393363024\n",
            "231 Life of Brian (1979) - 8.040517649134655\n",
            "232 Hotel Rwanda (2004) - 8.038204190434637\n",
            "233 The Bandit (1996) - 8.037993858137314\n",
            "234 In the Mood for Love (2000) - 8.037314263414018\n",
            "235 Rush (2013) - 8.036800961087895\n",
            "236 Into the Wild (2007) - 8.035256582992178\n",
            "237 Rocky (1976) - 8.034313217711047\n",
            "238 Amores perros (2000) - 8.0342473332725\n",
            "239 Nausicaä of the Valley of the Wind (1984) - 8.031847559313471\n",
            "240 96 (2018) - 8.030098552681176\n",
            "241 Andrei Rublev (1966) - 8.029447811991076\n",
            "242 It Happened One Night (1934) - 8.028811483907246\n",
            "243 Before Sunset (2004) - 8.028241205654766\n",
            "244 Neon Genesis Evangelion: The End of Evangelion (1997) - 8.027227283533987\n",
            "245 Fanny and Alexander (1982) - 8.02720600199177\n",
            "246 The Battle of Algiers (1966) - 8.026414064203209\n",
            "247 Nights of Cabiria (1957) - 8.024387792101745\n",
            "248 The Princess Bride (1987) - 8.023679786321404\n",
            "249 Paris, Texas (1984) - 8.023417659811376\n",
            "250 Soorarai Pottru (2020) - 8.021681251548683\n"
          ]
        }
      ]
    },
    {
      "cell_type": "markdown",
      "metadata": {
        "id": "PbYl2Z_K2Uqb"
      },
      "source": [
        "QUESTION 3"
      ]
    },
    {
      "cell_type": "code",
      "metadata": {
        "id": "2CRIaDdhzcF-"
      },
      "source": [
        "url = 'https://www.imdb.com/india/top-rated-indian-movies/'\n",
        "response = requests.get(url)\n",
        "soup = BeautifulSoup(response.text, 'lxml')\n",
        "\n",
        "\n",
        "movies = soup.select('td.titleColumn')\n",
        "crew = [a.attrs.get('title') for a in soup.select('td.titleColumn a')]\n",
        "ratings = [b.attrs.get('data-value') for b in soup.select('td.posterColumn span[name=ir]')]\n",
        "votes = [b.attrs.get('data-value') for b in soup.select('td.ratingColumn strong')]\n",
        "\n",
        "imdb = []\n",
        "\n",
        "\n",
        "for index in range(0, len(movies)):\n",
        "\n",
        "    movie_string = movies[index].get_text()\n",
        "    movie = (' '.join(movie_string.split()).replace('.', ''))\n",
        "    movie_title = movie[len(str(index))+1:-7]\n",
        "    year = re.search('\\((.*?)\\)', movie_string).group(1)\n",
        "    place = movie[:len(str(index))-(len(movie))]\n",
        "    data = {\"movie_title\": movie_title,\n",
        "            \"year\": year,\n",
        "            \"place\": place,\n",
        "            \"rating\": ratings[index]}\n",
        "    imdb.append(data)\n",
        "\n",
        "for item in imdb:\n",
        "   print(item['place'], item['movie_title'], '('+item['year']+') -', item['rating'])\n",
        "\n"
      ],
      "execution_count": null,
      "outputs": []
    },
    {
      "cell_type": "markdown",
      "metadata": {
        "id": "ZumoyJYM4u0O"
      },
      "source": [
        "QUESTION 4A"
      ]
    },
    {
      "cell_type": "code",
      "metadata": {
        "id": "2O50cUXV4uIo"
      },
      "source": [
        "url = \"https://www.icc-cricket.com/rankings/mens/player-rankings/odi/batting\"\n",
        "\n",
        "r = requests.get(url).text\n",
        "print(r)\n",
        "\n",
        "soup = BeautifulSoup(r, \"lxml\")\n",
        "\n",
        "table = soup.find('table', attrs={\"class\":\"table rankings-table\"})\n",
        "print(table)\n",
        "\n",
        "topbatsman = []\n",
        "\n",
        "for tr in table('tr'):\n",
        "  for td in table('td'):\n",
        "    topbatsman.append(td.text.replace('\\n',\"\").strip())\n",
        "\n",
        "for player in topbatsman:\n",
        "  print(player)\n",
        "\n",
        "topbatsman[:10]"
      ],
      "execution_count": null,
      "outputs": []
    },
    {
      "cell_type": "markdown",
      "metadata": {
        "id": "vqZniN48syfA"
      },
      "source": [
        "QUESTION 4B"
      ]
    },
    {
      "cell_type": "code",
      "metadata": {
        "id": "vKzxnd0vpyjJ"
      },
      "source": [
        "url = \"https://www.icc-cricket.com/rankings/mens/team-rankings/odi\"\n",
        "\n",
        "r = requests.get(url).text\n",
        "print(r)\n",
        "\n",
        "soup = BeautifulSoup(r, \"lxml\")\n",
        "\n",
        "odirank = soup.find('table', attrs={\"class\":\"table\"})\n",
        "print(table)\n",
        "\n",
        "topteam = []\n",
        "\n",
        "for tr in odirank('tr'):\n",
        "  for td in odirank('td'):\n",
        "    topteam.append(td.text.replace('\\n',\"\").strip())\n",
        "\n",
        "\n",
        "for team in topteam:\n",
        "  print(team)    "
      ],
      "execution_count": null,
      "outputs": []
    },
    {
      "cell_type": "markdown",
      "metadata": {
        "id": "8x4U35pnwUQA"
      },
      "source": [
        "QUESTION 4C"
      ]
    },
    {
      "cell_type": "code",
      "metadata": {
        "id": "KFU5Het2sRn8"
      },
      "source": [
        "url = \"https://www.icc-cricket.com/rankings/mens/player-rankings/odi/bowling\"\n",
        "\n",
        "r = requests.get(url).text\n",
        "print(r)\n",
        "\n",
        "soup = BeautifulSoup(r, \"lxml\")\n",
        "man_bowl = soup.find('table', attrs={\"class\":\"table rankings-table\"})\n",
        "print(table)\n",
        "\n",
        "topbowler = []\n",
        "\n",
        "for tr in man_bowl('tr'):\n",
        "  for td in man_bowl('td'):\n",
        "    topbowler.append(td.text.replace('\\n',\"\").strip())\n",
        "\n",
        "\n",
        "for player in topbowler:\n",
        "  print(player)\n",
        "\n"
      ],
      "execution_count": null,
      "outputs": []
    },
    {
      "cell_type": "markdown",
      "metadata": {
        "id": "_z-pA_kcwZOs"
      },
      "source": [
        "QUESTION 5A\n"
      ]
    },
    {
      "cell_type": "code",
      "metadata": {
        "id": "07kS_bgjuW7M"
      },
      "source": [
        "url = \"https://www.icc-cricket.com/rankings/womens/team-rankings/odi\"\n",
        "\n",
        "r = requests.get(url).text\n",
        "print(r)\n",
        "\n",
        "soup = BeautifulSoup(r, \"lxml\")\n",
        "\n",
        "\n",
        "WOMENSTEAM  = soup.find('table', attrs={\"class\":\"table\"})\n",
        "print(WOMENSTEAM)\n",
        "\n",
        "topteam = []\n",
        "\n",
        "for tr in WOMENSTEAM('tr'):\n",
        "  for td in WOMENSTEAM('td'):\n",
        "    topteam.append(td.text.replace('\\n',\"\").strip())\n",
        "\n",
        "\n",
        "for team in topteam:\n",
        "  print(team)\n",
        "\n"
      ],
      "execution_count": null,
      "outputs": []
    },
    {
      "cell_type": "markdown",
      "metadata": {
        "id": "m6gP01W_xvCV"
      },
      "source": [
        "QUESTION 5B"
      ]
    },
    {
      "cell_type": "code",
      "metadata": {
        "id": "h0qKF4GexdpE"
      },
      "source": [
        "url = \"https://www.icc-cricket.com/rankings/womens/player-rankings/odi/batting\"\n",
        "\n",
        "r = requests.get(url).text\n",
        "print(r)\n",
        "\n",
        "soup = BeautifulSoup(r, \"lxml\")\n",
        "\n",
        "womensbatting = soup.find('table', attrs={\"class\":\"table rankings-table\"})\n",
        "print(womensbatting)\n",
        "\n",
        "topbatsman_w = []\n",
        "\n",
        "for tr in womensbatting('tr'):\n",
        "  for td in womensbatting('td'):\n",
        "    topbatsman_w.append(td.text.replace('\\n',\"\").strip())\n",
        "\n",
        "\n",
        "for player in topbatsman_w:\n",
        "  print(player)\n"
      ],
      "execution_count": null,
      "outputs": []
    },
    {
      "cell_type": "markdown",
      "metadata": {
        "id": "Pw0_w19_00T-"
      },
      "source": [
        "QUESTION 5 C"
      ]
    },
    {
      "cell_type": "code",
      "metadata": {
        "id": "1toggaXXynDy"
      },
      "source": [
        "url = \"https://www.icc-cricket.com/rankings/womens/player-rankings/odi/bowling\"\n",
        "\n",
        "r = requests.get(url).text\n",
        "print(r)\n",
        "\n",
        "soup = BeautifulSoup(r, \"lxml\")\n",
        "\n",
        "womensbowling = soup.find('table', attrs={\"class\":\"table rankings-table\"})\n",
        "print(womensbowling)\n",
        "\n",
        "topbowler_w = []\n",
        "\n",
        "for tr in womensbowling('tr'):\n",
        "  for td in womensbowling('td'):\n",
        "    topbowler_w.append(td.text.replace('\\n',\"\").strip())\n",
        "\n",
        "\n",
        "for player in topbowler_w:\n",
        "  print(player)\n"
      ],
      "execution_count": null,
      "outputs": []
    },
    {
      "cell_type": "markdown",
      "metadata": {
        "id": "zJKCIpUQ1gEd"
      },
      "source": [
        "QUESTION 6"
      ]
    },
    {
      "cell_type": "code",
      "metadata": {
        "id": "6hbNM0Ov0mfv",
        "colab": {
          "base_uri": "https://localhost:8080/"
        },
        "outputId": "9075d190-83f0-472e-ad64-e00815aaf818"
      },
      "source": [
        "page = requests.get('https://coreyms.com/')\n",
        "page\n",
        "\n",
        "soup = BeautifulSoup(page.content)\n",
        "soup\n",
        "\n",
        "title = soup.find_all(\"header\",class_=\"entry-header\")\n",
        "\n",
        "for a in title:\n",
        "  print(a.text)\n"
      ],
      "execution_count": null,
      "outputs": [
        {
          "output_type": "stream",
          "name": "stdout",
          "text": [
            "Python Tutorial: Zip Files – Creating and Extracting Zip Archives\n",
            "November 19, 2019 by Corey Schafer Leave a Comment \n",
            "Python Data Science Tutorial: Analyzing the 2019 Stack Overflow Developer Survey\n",
            "October 17, 2019 by Corey Schafer Leave a Comment \n",
            "Python Multiprocessing Tutorial: Run Code in Parallel Using the Multiprocessing Module\n",
            "September 21, 2019 by Corey Schafer Leave a Comment \n",
            "Python Threading Tutorial: Run Code Concurrently Using the Threading Module\n",
            "September 12, 2019 by Corey Schafer Leave a Comment \n",
            "Update (2019-09-03)\n",
            "September 3, 2019 by Corey Schafer Leave a Comment \n",
            "Python Quick Tip: The Difference Between “==” and “is” (Equality vs Identity)\n",
            "August 6, 2019 by Corey Schafer Leave a Comment \n",
            "Python Tutorial: Calling External Commands Using the Subprocess Module\n",
            "July 24, 2019 by Corey Schafer Leave a Comment \n",
            "Visual Studio Code (Windows) – Setting up a Python Development Environment and Complete Overview\n",
            "May 1, 2019 by Corey Schafer Leave a Comment \n",
            "Visual Studio Code (Mac) – Setting up a Python Development Environment and Complete Overview\n",
            "May 1, 2019 by Corey Schafer Leave a Comment \n",
            "Clarifying the Issues with Mutable Default Arguments\n",
            "April 24, 2019 by Corey Schafer Leave a Comment \n"
          ]
        }
      ]
    },
    {
      "cell_type": "code",
      "metadata": {
        "id": "saVv41VaS-mA"
      },
      "source": [
        "mycontent = soup.find_all(\"div\",class_=\"entry-content\")\n",
        "mycontent\n",
        "\n",
        "for b in mycontent:\n",
        "  print (b.text)"
      ],
      "execution_count": null,
      "outputs": []
    },
    {
      "cell_type": "code",
      "metadata": {
        "id": "SF8OLrkqTldI"
      },
      "source": [
        "for link in soup.find_all('a', \n",
        "                          attrs={'href': re.compile(\"^https://\")}):\n",
        "     print(link.get('href'))"
      ],
      "execution_count": null,
      "outputs": []
    },
    {
      "cell_type": "markdown",
      "metadata": {
        "id": "DZPcE5TkRc3y"
      },
      "source": [
        "QUESTION 7"
      ]
    },
    {
      "cell_type": "code",
      "metadata": {
        "id": "MGm_DA5bPzff",
        "colab": {
          "base_uri": "https://localhost:8080/"
        },
        "outputId": "80fdec09-695b-41ab-b60d-a4401c95849f"
      },
      "source": [
        "page = requests.get('https://www.nobroker.in/property/sale/mumbai/multiple?searchParam=W3sibGF0IjoxOS4yODEyNTQ3LCJsb24iOjczLjA0ODI5MTIsInBsYWNlSWQiOiJDaElKbzBxQ0hoQzk1enNScmpIWnhuS2xjRmsiLCJwbGFjZU5hbWUiOiJCaGl3YW5kaSIsInNob3dNYXAiOmZhbHNlfSx7ImxhdCI6MTkuMjE4MzMwNywibG9uIjo3Mi45NzgwODk3LCJwbGFjZUlkIjoiQ2hJSldmMTJfdnk0NXpzUmd3TEY5NFY5TnM4IiwicGxhY2VOYW1lIjoiVGhhbmUiLCJzaG93TWFwIjpmYWxzZX0seyJsYXQiOjE5LjIwNDExNjEsImxvbiI6NzMuMDk0Mzg4NywicGxhY2VJZCI6IkNoSUpOeGlYbjRhVjV6c1I3ZURvSWtRMkNKQSIsInBsYWNlTmFtZSI6IkdhbmRoaSBOYWdhciIsInNob3dNYXAiOmZhbHNlfV0=')\n",
        "page"
      ],
      "execution_count": null,
      "outputs": [
        {
          "output_type": "execute_result",
          "data": {
            "text/plain": [
              "<Response [200]>"
            ]
          },
          "metadata": {},
          "execution_count": 13
        }
      ]
    },
    {
      "cell_type": "code",
      "metadata": {
        "id": "QYmLK8KSTCwC"
      },
      "source": [
        "soup = BeautifulSoup(page.content)\n",
        "soup"
      ],
      "execution_count": null,
      "outputs": []
    },
    {
      "cell_type": "code",
      "metadata": {
        "id": "7oFi_IwATMal"
      },
      "source": [
        "title = soup.find_all(\"h2\",class_=\"heading-6 font-semi-bold nb__25Cl7\")\n",
        "title\n",
        "\n",
        "for a in title:\n",
        "  print(a.text)"
      ],
      "execution_count": null,
      "outputs": []
    },
    {
      "cell_type": "code",
      "metadata": {
        "id": "XZQRnsG7TUzd"
      },
      "source": [
        "area = soup.find_all(\"div\",class_=\"nb__1EwQz\")\n",
        "area\n",
        "\n",
        "for b in area:\n",
        "  print(b.text)\n"
      ],
      "execution_count": null,
      "outputs": []
    },
    {
      "cell_type": "code",
      "metadata": {
        "id": "sWzrtgd4T38A"
      },
      "source": [
        "emi= soup.find_all(\"div\",class_=\"font-semi-bold heading-6\")\n",
        "emi\n",
        "\n",
        "for c in emi:\n",
        "  print(c.emi)\n",
        "\n"
      ],
      "execution_count": null,
      "outputs": []
    },
    {
      "cell_type": "markdown",
      "metadata": {
        "id": "rDMjuQdpX2vL"
      },
      "source": [
        "QUESTION 8\n"
      ]
    },
    {
      "cell_type": "code",
      "metadata": {
        "id": "nLe92ylmUVpE"
      },
      "source": [
        "page = requests.get('https://www.dineout.co.in/delhi-restaurants/buffet-special')\n",
        "page"
      ],
      "execution_count": null,
      "outputs": []
    },
    {
      "cell_type": "code",
      "metadata": {
        "id": "iRYwcBhvYyzj"
      },
      "source": [
        "soup =  BeautifulSoup(page.content)\n",
        "soup"
      ],
      "execution_count": null,
      "outputs": []
    },
    {
      "cell_type": "code",
      "metadata": {
        "id": "9da6h1MsZBoc"
      },
      "source": [
        "title = soup.find('div',class_=\"restnt-info cursor\")\n",
        "title.text"
      ],
      "execution_count": null,
      "outputs": []
    },
    {
      "cell_type": "code",
      "metadata": {
        "id": "OigScRc7ZTQm"
      },
      "source": [
        "loc = soup.find('div',class_=\"restnt-loc ellipsis\")\n",
        "loc.text"
      ],
      "execution_count": null,
      "outputs": []
    },
    {
      "cell_type": "code",
      "metadata": {
        "id": "f1D5rRO9Z9On"
      },
      "source": [
        "cuisine = soup.find('div',class_=\"detail-info\")\n",
        "cuisine.text.split('|')\n"
      ],
      "execution_count": null,
      "outputs": []
    },
    {
      "cell_type": "code",
      "metadata": {
        "id": "kJSzwBSEbEHj"
      },
      "source": [
        "rating= soup.find('div',class_=\"img-wrap\")\n",
        "rating.text\n"
      ],
      "execution_count": null,
      "outputs": []
    },
    {
      "cell_type": "code",
      "metadata": {
        "id": "QjSZXIiecTIA"
      },
      "source": [
        "titles = []\n",
        "\n",
        "for i in soup.find_all('div',class_=\"restnt-info cursor\"):\n",
        "  titles.append(i.text)\n",
        "\n",
        "titles"
      ],
      "execution_count": null,
      "outputs": []
    },
    {
      "cell_type": "code",
      "metadata": {
        "id": "Iq0RJH_pei-l"
      },
      "source": [
        "locations = []\n",
        "\n",
        "for i in soup.find_all('div',class_=\"restnt-loc ellipsis\"):\n",
        "  locations.append(i.text)\n",
        "\n",
        "locations"
      ],
      "execution_count": null,
      "outputs": []
    },
    {
      "cell_type": "code",
      "metadata": {
        "id": "eLFciwEFgBXW"
      },
      "source": [
        "cuisines = []\n",
        "\n",
        "for i in soup.find_all('div',class_=\"detail-info\"):\n",
        "  cuisines.append(i.text.split(\"|\")[1])\n",
        "\n",
        "cuisines"
      ],
      "execution_count": null,
      "outputs": []
    },
    {
      "cell_type": "code",
      "metadata": {
        "id": "rtZ_TAlUgb0I"
      },
      "source": [
        "ratings = []\n",
        "\n",
        "for i in soup.find_all('div',class_=\"img-wrap\"):\n",
        "  ratings.append(i.text)\n",
        "\n",
        "ratings\n"
      ],
      "execution_count": null,
      "outputs": []
    },
    {
      "cell_type": "code",
      "metadata": {
        "id": "w89T1GZAg7T2"
      },
      "source": [
        "images = []\n",
        "\n",
        "for i in soup.find_all(\"img\", class_=\"no-img\"):\n",
        "  images.append(i['data-src'])\n",
        "images"
      ],
      "execution_count": null,
      "outputs": []
    },
    {
      "cell_type": "code",
      "metadata": {
        "colab": {
          "base_uri": "https://localhost:8080/"
        },
        "id": "99R_Lr6thmQ-",
        "outputId": "26fe6fa1-93c8-4b82-8ecb-8fcb304b1e21"
      },
      "source": [
        "print(len(titles),len(cuisines),len(locations),len(ratings),len(images))"
      ],
      "execution_count": null,
      "outputs": [
        {
          "output_type": "stream",
          "name": "stdout",
          "text": [
            "13 13 13 13 13\n"
          ]
        }
      ]
    },
    {
      "cell_type": "code",
      "metadata": {
        "id": "qPWMhot7iMfs"
      },
      "source": [
        "import pandas as pd\n",
        "\n",
        "df = pd.DataFrame({'Title' : titles,'Cuisine' : cuisines,'Location' : locations,'Ratings' : ratings,'Image' : images})\n",
        "df"
      ],
      "execution_count": null,
      "outputs": []
    },
    {
      "cell_type": "markdown",
      "metadata": {
        "id": "Argaw99-jiuG"
      },
      "source": [
        "QUESTION 9"
      ]
    },
    {
      "cell_type": "code",
      "metadata": {
        "id": "1vIUUEnii1h_"
      },
      "source": [
        "\n",
        "page = requests.get('https://en.tutiempo.net/delhi.html?data=last-24-hours').text\n",
        "print(page)\n",
        "soup = BeautifulSoup(page, \"lxml\")\n",
        "soup"
      ],
      "execution_count": null,
      "outputs": []
    },
    {
      "cell_type": "code",
      "metadata": {
        "id": "1fbkFXlmmDz-"
      },
      "source": [
        "climate_table = soup.find(\"div\", class_=\"last24 thh\")\n",
        "climate_table"
      ],
      "execution_count": null,
      "outputs": []
    },
    {
      "cell_type": "code",
      "metadata": {
        "id": "uhMe7Mvjjae6"
      },
      "source": [
        "table = climate_table.find_all('table')\n",
        "table"
      ],
      "execution_count": null,
      "outputs": []
    },
    {
      "cell_type": "code",
      "metadata": {
        "id": "64YG4ZNcjhYn"
      },
      "source": [
        "\n",
        "HR_DATA = []\n",
        "\n",
        "for tr in climate_table('tr'):\n",
        "  for td in climate_table('td'):\n",
        "    HR_DATA.append(td.text.replace('\\n',\"\").strip())\n",
        "\n"
      ],
      "execution_count": null,
      "outputs": []
    },
    {
      "cell_type": "code",
      "metadata": {
        "id": "jLpD8EXMjhb5"
      },
      "source": [
        "HR_DATA"
      ],
      "execution_count": null,
      "outputs": []
    },
    {
      "cell_type": "markdown",
      "metadata": {
        "id": "GsrorIuVvFws"
      },
      "source": [
        "QUESTION 10\n"
      ]
    },
    {
      "cell_type": "code",
      "metadata": {
        "id": "kkD7yZBatoyX",
        "colab": {
          "base_uri": "https://localhost:8080/"
        },
        "outputId": "8a1f1455-620b-4fed-c022-6d4923f0b274"
      },
      "source": [
        "page = requests.get(\"https://www.puredestinations.co.uk/top-10-famous-monuments-to-visit-in-india/\")\n",
        "page"
      ],
      "execution_count": 6,
      "outputs": [
        {
          "output_type": "execute_result",
          "data": {
            "text/plain": [
              "<Response [200]>"
            ]
          },
          "metadata": {},
          "execution_count": 6
        }
      ]
    },
    {
      "cell_type": "code",
      "metadata": {
        "id": "9RC0EZXBvO8Q"
      },
      "source": [
        "soup =  BeautifulSoup(page.content)\n",
        "soup"
      ],
      "execution_count": null,
      "outputs": []
    },
    {
      "cell_type": "code",
      "metadata": {
        "id": "OqbRKlck34tj"
      },
      "source": [
        "table = soup.find_all('div',attrs={\"class\":\"blog--single__content column--3-4 u-spacing-third\"})\n",
        "table\n",
        "\n",
        "for a in table:\n",
        "  print(a.text)"
      ],
      "execution_count": null,
      "outputs": []
    },
    {
      "cell_type": "code",
      "metadata": {
        "id": "Y1yP6U0f6E9x"
      },
      "source": [
        ""
      ],
      "execution_count": null,
      "outputs": []
    }
  ]
}