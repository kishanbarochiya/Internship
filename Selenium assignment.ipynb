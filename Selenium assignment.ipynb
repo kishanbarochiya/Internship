{
 "cells": [
  {
   "cell_type": "markdown",
   "metadata": {},
   "source": [
    "QUESTION 1"
   ]
  },
  {
   "cell_type": "code",
   "execution_count": 1,
   "metadata": {},
   "outputs": [
    {
     "name": "stdout",
     "output_type": "stream",
     "text": [
      "Requirement already satisfied: selenium in c:\\users\\kishan\\anaconda3\\lib\\site-packages (4.1.0)\n",
      "Requirement already satisfied: urllib3[secure]~=1.26 in c:\\users\\kishan\\anaconda3\\lib\\site-packages (from selenium) (1.26.7)\n",
      "Requirement already satisfied: trio-websocket~=0.9 in c:\\users\\kishan\\anaconda3\\lib\\site-packages (from selenium) (0.9.2)\n",
      "Requirement already satisfied: trio~=0.17 in c:\\users\\kishan\\anaconda3\\lib\\site-packages (from selenium) (0.19.0)\n",
      "Requirement already satisfied: certifi; extra == \"secure\" in c:\\users\\kishan\\anaconda3\\lib\\site-packages (from urllib3[secure]~=1.26->selenium) (2020.6.20)\n",
      "Requirement already satisfied: idna>=2.0.0; extra == \"secure\" in c:\\users\\kishan\\anaconda3\\lib\\site-packages (from urllib3[secure]~=1.26->selenium) (2.10)\n",
      "Requirement already satisfied: pyOpenSSL>=0.14; extra == \"secure\" in c:\\users\\kishan\\anaconda3\\lib\\site-packages (from urllib3[secure]~=1.26->selenium) (19.1.0)\n",
      "Requirement already satisfied: cryptography>=1.3.4; extra == \"secure\" in c:\\users\\kishan\\anaconda3\\lib\\site-packages (from urllib3[secure]~=1.26->selenium) (2.9.2)\n",
      "Requirement already satisfied: wsproto>=0.14 in c:\\users\\kishan\\anaconda3\\lib\\site-packages (from trio-websocket~=0.9->selenium) (1.0.0)\n",
      "Requirement already satisfied: async-generator>=1.10 in c:\\users\\kishan\\anaconda3\\lib\\site-packages (from trio-websocket~=0.9->selenium) (1.10)\n",
      "Requirement already satisfied: attrs>=19.2.0 in c:\\users\\kishan\\anaconda3\\lib\\site-packages (from trio~=0.17->selenium) (19.3.0)\n",
      "Requirement already satisfied: cffi>=1.14; os_name == \"nt\" and implementation_name != \"pypy\" in c:\\users\\kishan\\anaconda3\\lib\\site-packages (from trio~=0.17->selenium) (1.14.0)\n",
      "Requirement already satisfied: sniffio in c:\\users\\kishan\\anaconda3\\lib\\site-packages (from trio~=0.17->selenium) (1.2.0)\n",
      "Requirement already satisfied: outcome in c:\\users\\kishan\\anaconda3\\lib\\site-packages (from trio~=0.17->selenium) (1.1.0)\n",
      "Requirement already satisfied: sortedcontainers in c:\\users\\kishan\\anaconda3\\lib\\site-packages (from trio~=0.17->selenium) (2.2.2)\n",
      "Requirement already satisfied: six>=1.5.2 in c:\\users\\kishan\\anaconda3\\lib\\site-packages (from pyOpenSSL>=0.14; extra == \"secure\"->urllib3[secure]~=1.26->selenium) (1.15.0)\n",
      "Requirement already satisfied: h11<1,>=0.9.0 in c:\\users\\kishan\\anaconda3\\lib\\site-packages (from wsproto>=0.14->trio-websocket~=0.9->selenium) (0.12.0)\n",
      "Requirement already satisfied: pycparser in c:\\users\\kishan\\anaconda3\\lib\\site-packages (from cffi>=1.14; os_name == \"nt\" and implementation_name != \"pypy\"->trio~=0.17->selenium) (2.20)\n"
     ]
    }
   ],
   "source": [
    "! pip install selenium"
   ]
  },
  {
   "cell_type": "code",
   "execution_count": 2,
   "metadata": {},
   "outputs": [],
   "source": [
    "import selenium\n",
    "import pandas as pd\n",
    "from selenium import webdriver"
   ]
  },
  {
   "cell_type": "code",
   "execution_count": 3,
   "metadata": {},
   "outputs": [
    {
     "name": "stderr",
     "output_type": "stream",
     "text": [
      "<ipython-input-3-f5e291cbc091>:1: DeprecationWarning: executable_path has been deprecated, please pass in a Service object\n",
      "  driver = webdriver.Chrome('C:/Users/Kishan/Downloads/chromedriver_win32/chromedriver.exe')\n"
     ]
    }
   ],
   "source": [
    "driver = webdriver.Chrome('C:/Users/Kishan/Downloads/chromedriver_win32/chromedriver.exe')"
   ]
  },
  {
   "cell_type": "code",
   "execution_count": 4,
   "metadata": {},
   "outputs": [],
   "source": [
    "driver.get('https://www.naukri.com/')"
   ]
  },
  {
   "cell_type": "code",
   "execution_count": 5,
   "metadata": {},
   "outputs": [
    {
     "name": "stderr",
     "output_type": "stream",
     "text": [
      "<ipython-input-5-b43078d5fa3a>:1: DeprecationWarning: find_element_by_* commands are deprecated. Please use find_element() instead\n",
      "  search_job = driver.find_element_by_id('qsb-keyword-sugg')\n",
      "<ipython-input-5-b43078d5fa3a>:3: DeprecationWarning: find_element_by_* commands are deprecated. Please use find_element() instead\n",
      "  search_loc = driver.find_element_by_xpath(\"//input[@id='qsb-location-sugg']\")\n"
     ]
    }
   ],
   "source": [
    "search_job = driver.find_element_by_id('qsb-keyword-sugg')\n",
    "search_job.send_keys(\"Data Analyst\")\n",
    "search_loc = driver.find_element_by_xpath(\"//input[@id='qsb-location-sugg']\")\n",
    "search_loc.send_keys('Bangalore')\n"
   ]
  },
  {
   "cell_type": "code",
   "execution_count": 6,
   "metadata": {},
   "outputs": [
    {
     "name": "stderr",
     "output_type": "stream",
     "text": [
      "<ipython-input-6-c9b437d84350>:1: DeprecationWarning: find_element_by_* commands are deprecated. Please use find_element() instead\n",
      "  search_btn = driver.find_element_by_xpath(\"//div[@class='search-btn']/button\")\n"
     ]
    }
   ],
   "source": [
    "search_btn = driver.find_element_by_xpath(\"//div[@class='search-btn']/button\")\n",
    "search_btn.click()"
   ]
  },
  {
   "cell_type": "code",
   "execution_count": 7,
   "metadata": {},
   "outputs": [],
   "source": [
    "job_title = []\n",
    "company_name =[]\n",
    "location =[]\n",
    "experience_required = []"
   ]
  },
  {
   "cell_type": "code",
   "execution_count": 12,
   "metadata": {},
   "outputs": [
    {
     "name": "stderr",
     "output_type": "stream",
     "text": [
      "<ipython-input-12-506546472764>:1: DeprecationWarning: find_elements_by_* commands are deprecated. Please use find_elements() instead\n",
      "  title_tags = driver.find_elements_by_xpath(\"//div[@class='subTitle ellipsis fleft']\")\n"
     ]
    },
    {
     "data": {
      "text/plain": [
       "[]"
      ]
     },
     "execution_count": 12,
     "metadata": {},
     "output_type": "execute_result"
    }
   ],
   "source": [
    "title_tags = driver.find_elements_by_xpath(\"//div[@class='subTitle ellipsis fleft']\")\n",
    "title_tags"
   ]
  },
  {
   "cell_type": "code",
   "execution_count": 13,
   "metadata": {},
   "outputs": [
    {
     "data": {
      "text/plain": [
       "['Hiring -Data Analyst, Business Analyst, MIS Analyst -3rd Party Payroll',\n",
       " 'Business Analyst/ Data Analyst- Capital Market & SQL (Mandatory)',\n",
       " '',\n",
       " '',\n",
       " '',\n",
       " '',\n",
       " '',\n",
       " '',\n",
       " '',\n",
       " '',\n",
       " '',\n",
       " '',\n",
       " '',\n",
       " '',\n",
       " '',\n",
       " '',\n",
       " '',\n",
       " '',\n",
       " '',\n",
       " '',\n",
       " 'Flipkart',\n",
       " 'Genpact',\n",
       " 'Flipkart',\n",
       " 'GlaxoSmithKline Pharmaceuticals Limited',\n",
       " 'Aspect',\n",
       " 'Schneider Electric',\n",
       " 'Flipkart',\n",
       " 'Intel',\n",
       " 'Maruti Suzuki India',\n",
       " 'Slice',\n",
       " 'ExecBoardinAsia',\n",
       " 'Tech Mahindra',\n",
       " 'Rapido',\n",
       " 'SYREN TECHNOLOGIES PRIVATE LIMITED',\n",
       " 'Flipkart',\n",
       " 'StackNexus Technologies India Pvt. Ltd',\n",
       " 'Truecaller',\n",
       " 'Atlassian',\n",
       " 'Rupeek Fintech Pvt Ltd',\n",
       " 'Genpact']"
      ]
     },
     "execution_count": 13,
     "metadata": {},
     "output_type": "execute_result"
    }
   ],
   "source": [
    "for i in title_tags:\n",
    "    title = i.text\n",
    "    job_title.append(title)\n",
    "job_title"
   ]
  },
  {
   "cell_type": "code",
   "execution_count": 20,
   "metadata": {},
   "outputs": [
    {
     "name": "stderr",
     "output_type": "stream",
     "text": [
      "<ipython-input-20-3aae39205685>:1: DeprecationWarning: find_elements_by_* commands are deprecated. Please use find_elements() instead\n",
      "  company_tags = driver.find_elements_by_xpath(\"//a[@class='subTitle ellipsis fleft']\")\n"
     ]
    },
    {
     "data": {
      "text/plain": [
       "['Flipkart',\n",
       " 'Genpact',\n",
       " 'Flipkart',\n",
       " 'GlaxoSmithKline Pharmaceuticals Limited',\n",
       " 'Aspect',\n",
       " 'Schneider Electric',\n",
       " 'Flipkart',\n",
       " 'Intel',\n",
       " 'Maruti Suzuki India',\n",
       " 'Slice',\n",
       " 'ExecBoardinAsia',\n",
       " 'Tech Mahindra',\n",
       " 'Rapido',\n",
       " 'SYREN TECHNOLOGIES PRIVATE LIMITED',\n",
       " 'Flipkart',\n",
       " 'StackNexus Technologies India Pvt. Ltd',\n",
       " 'Truecaller',\n",
       " 'Atlassian',\n",
       " 'Rupeek Fintech Pvt Ltd',\n",
       " 'Genpact',\n",
       " 'Flipkart',\n",
       " 'Genpact',\n",
       " 'Flipkart',\n",
       " 'GlaxoSmithKline Pharmaceuticals Limited',\n",
       " 'Aspect',\n",
       " 'Schneider Electric',\n",
       " 'Flipkart',\n",
       " 'Intel',\n",
       " 'Maruti Suzuki India',\n",
       " 'Slice',\n",
       " 'ExecBoardinAsia',\n",
       " 'Tech Mahindra',\n",
       " 'Rapido',\n",
       " 'SYREN TECHNOLOGIES PRIVATE LIMITED',\n",
       " 'Flipkart',\n",
       " 'StackNexus Technologies India Pvt. Ltd',\n",
       " 'Truecaller',\n",
       " 'Atlassian',\n",
       " 'Rupeek Fintech Pvt Ltd',\n",
       " 'Genpact']"
      ]
     },
     "execution_count": 20,
     "metadata": {},
     "output_type": "execute_result"
    }
   ],
   "source": [
    "company_tags = driver.find_elements_by_xpath(\"//a[@class='subTitle ellipsis fleft']\")\n",
    "company_tags\n",
    "\n",
    "for i in company_tags:\n",
    "    company = i.text\n",
    "    company_name.append(company)\n",
    "company_name"
   ]
  },
  {
   "cell_type": "code",
   "execution_count": 23,
   "metadata": {},
   "outputs": [
    {
     "name": "stderr",
     "output_type": "stream",
     "text": [
      "<ipython-input-23-51aa4bfdd29b>:1: DeprecationWarning: find_elements_by_* commands are deprecated. Please use find_elements() instead\n",
      "  location_tags = driver.find_elements_by_xpath(\"//li[@class='fleft grey-text br2 placeHolderLi location']/span[1]\")\n"
     ]
    },
    {
     "data": {
      "text/plain": [
       "['Bangalore/Bengaluru',\n",
       " 'Pune, Bangalore/Bengaluru',\n",
       " 'Bengaluru/Bangalore',\n",
       " 'Bangalore/Bengaluru',\n",
       " 'Bangalore/Bengaluru',\n",
       " 'Bangalore/Bengaluru',\n",
       " 'Bangalore/Bengaluru',\n",
       " 'Bangalore/Bengaluru',\n",
       " 'Gurgaon/Gurugram, bangalore',\n",
       " 'Bangalore/Bengaluru',\n",
       " 'Bangalore/Bengaluru',\n",
       " 'Bangalore/Bengaluru',\n",
       " 'Bangalore/Bengaluru',\n",
       " 'Kolkata, Hyderabad/Secunderabad, Pune, Ahmedabad, Chennai, Bangalore/Bengaluru, Delhi / NCR, Mumbai (All Areas)',\n",
       " 'Bengaluru/Bangalore',\n",
       " 'Hyderabad/Secunderabad, Bangalore/Bengaluru',\n",
       " 'Bangalore/Bengaluru',\n",
       " 'Bangalore/Bengaluru',\n",
       " 'Bangalore/Bengaluru',\n",
       " 'Bangalore/Bengaluru',\n",
       " 'Bangalore/Bengaluru',\n",
       " 'Pune, Bangalore/Bengaluru',\n",
       " 'Bengaluru/Bangalore',\n",
       " 'Bangalore/Bengaluru',\n",
       " 'Bangalore/Bengaluru',\n",
       " 'Bangalore/Bengaluru',\n",
       " 'Bangalore/Bengaluru',\n",
       " 'Bangalore/Bengaluru',\n",
       " 'Gurgaon/Gurugram, bangalore',\n",
       " 'Bangalore/Bengaluru',\n",
       " 'Bangalore/Bengaluru',\n",
       " 'Bangalore/Bengaluru',\n",
       " 'Bangalore/Bengaluru',\n",
       " 'Kolkata, Hyderabad/Secunderabad, Pune, Ahmedabad, Chennai, Bangalore/Bengaluru, Delhi / NCR, Mumbai (All Areas)',\n",
       " 'Bengaluru/Bangalore',\n",
       " 'Hyderabad/Secunderabad, Bangalore/Bengaluru',\n",
       " 'Bangalore/Bengaluru',\n",
       " 'Bangalore/Bengaluru',\n",
       " 'Bangalore/Bengaluru',\n",
       " 'Bangalore/Bengaluru']"
      ]
     },
     "execution_count": 23,
     "metadata": {},
     "output_type": "execute_result"
    }
   ],
   "source": [
    "location_tags = driver.find_elements_by_xpath(\"//li[@class='fleft grey-text br2 placeHolderLi location']/span[1]\")\n",
    "location_tags\n",
    "\n",
    "for i in location_tags:\n",
    "    locationname = i.text\n",
    "    location.append(locationname)\n",
    "location"
   ]
  },
  {
   "cell_type": "code",
   "execution_count": 21,
   "metadata": {},
   "outputs": [
    {
     "name": "stderr",
     "output_type": "stream",
     "text": [
      "<ipython-input-21-e344923e9916>:1: DeprecationWarning: find_elements_by_* commands are deprecated. Please use find_elements() instead\n",
      "  exp_tags = driver.find_elements_by_xpath(\"//li[@class='fleft grey-text br2 placeHolderLi experience']/span[1]\")\n"
     ]
    },
    {
     "data": {
      "text/plain": [
       "['1-6 Yrs',\n",
       " '7-12 Yrs',\n",
       " '2-4 Yrs',\n",
       " '3-8 Yrs',\n",
       " '0-2 Yrs',\n",
       " '2-5 Yrs',\n",
       " '3-7 Yrs',\n",
       " '5-10 Yrs',\n",
       " '3-5 Yrs',\n",
       " '0-2 Yrs',\n",
       " '5-10 Yrs',\n",
       " '6-10 Yrs',\n",
       " '1-6 Yrs',\n",
       " '5-10 Yrs',\n",
       " '4-5 Yrs',\n",
       " '3-6 Yrs',\n",
       " '2-4 Yrs',\n",
       " '3-6 Yrs',\n",
       " '0-2 Yrs',\n",
       " '5-10 Yrs',\n",
       " '1-6 Yrs',\n",
       " '7-12 Yrs',\n",
       " '2-4 Yrs',\n",
       " '3-8 Yrs',\n",
       " '0-2 Yrs',\n",
       " '2-5 Yrs',\n",
       " '3-7 Yrs',\n",
       " '5-10 Yrs',\n",
       " '3-5 Yrs',\n",
       " '0-2 Yrs',\n",
       " '5-10 Yrs',\n",
       " '6-10 Yrs',\n",
       " '1-6 Yrs',\n",
       " '5-10 Yrs',\n",
       " '4-5 Yrs',\n",
       " '3-6 Yrs',\n",
       " '2-4 Yrs',\n",
       " '3-6 Yrs',\n",
       " '0-2 Yrs',\n",
       " '5-10 Yrs']"
      ]
     },
     "execution_count": 21,
     "metadata": {},
     "output_type": "execute_result"
    }
   ],
   "source": [
    "exp_tags = driver.find_elements_by_xpath(\"//li[@class='fleft grey-text br2 placeHolderLi experience']/span[1]\")\n",
    "exp_tags\n",
    "\n",
    "\n",
    "for i in exp_tags:\n",
    "    exp = i.text\n",
    "    experience_required.append(exp)\n",
    "experience_required"
   ]
  },
  {
   "cell_type": "code",
   "execution_count": 24,
   "metadata": {},
   "outputs": [
    {
     "name": "stdout",
     "output_type": "stream",
     "text": [
      "40 40 40 40\n"
     ]
    }
   ],
   "source": [
    "print(len(job_title),len(company_name),len(location),len(experience_required))"
   ]
  },
  {
   "cell_type": "code",
   "execution_count": 25,
   "metadata": {},
   "outputs": [],
   "source": [
    "my_job = pd.DataFrame({})"
   ]
  },
  {
   "cell_type": "code",
   "execution_count": 26,
   "metadata": {},
   "outputs": [],
   "source": [
    "my_job['Title'] = job_title\n",
    "my_job['Company_name'] = company_name\n",
    "my_job['Experience'] = experience_required\n",
    "my_job['Location'] =location"
   ]
  },
  {
   "cell_type": "code",
   "execution_count": 27,
   "metadata": {},
   "outputs": [
    {
     "data": {
      "text/html": [
       "<div>\n",
       "<style scoped>\n",
       "    .dataframe tbody tr th:only-of-type {\n",
       "        vertical-align: middle;\n",
       "    }\n",
       "\n",
       "    .dataframe tbody tr th {\n",
       "        vertical-align: top;\n",
       "    }\n",
       "\n",
       "    .dataframe thead th {\n",
       "        text-align: right;\n",
       "    }\n",
       "</style>\n",
       "<table border=\"1\" class=\"dataframe\">\n",
       "  <thead>\n",
       "    <tr style=\"text-align: right;\">\n",
       "      <th></th>\n",
       "      <th>Title</th>\n",
       "      <th>Company_name</th>\n",
       "      <th>Experience</th>\n",
       "      <th>Location</th>\n",
       "    </tr>\n",
       "  </thead>\n",
       "  <tbody>\n",
       "    <tr>\n",
       "      <th>0</th>\n",
       "      <td>Hiring -Data Analyst, Business Analyst, MIS An...</td>\n",
       "      <td>Flipkart</td>\n",
       "      <td>1-6 Yrs</td>\n",
       "      <td>Bangalore/Bengaluru</td>\n",
       "    </tr>\n",
       "    <tr>\n",
       "      <th>1</th>\n",
       "      <td>Business Analyst/ Data Analyst- Capital Market...</td>\n",
       "      <td>Genpact</td>\n",
       "      <td>7-12 Yrs</td>\n",
       "      <td>Pune, Bangalore/Bengaluru</td>\n",
       "    </tr>\n",
       "    <tr>\n",
       "      <th>2</th>\n",
       "      <td></td>\n",
       "      <td>Flipkart</td>\n",
       "      <td>2-4 Yrs</td>\n",
       "      <td>Bengaluru/Bangalore</td>\n",
       "    </tr>\n",
       "    <tr>\n",
       "      <th>3</th>\n",
       "      <td></td>\n",
       "      <td>GlaxoSmithKline Pharmaceuticals Limited</td>\n",
       "      <td>3-8 Yrs</td>\n",
       "      <td>Bangalore/Bengaluru</td>\n",
       "    </tr>\n",
       "    <tr>\n",
       "      <th>4</th>\n",
       "      <td></td>\n",
       "      <td>Aspect</td>\n",
       "      <td>0-2 Yrs</td>\n",
       "      <td>Bangalore/Bengaluru</td>\n",
       "    </tr>\n",
       "    <tr>\n",
       "      <th>5</th>\n",
       "      <td></td>\n",
       "      <td>Schneider Electric</td>\n",
       "      <td>2-5 Yrs</td>\n",
       "      <td>Bangalore/Bengaluru</td>\n",
       "    </tr>\n",
       "    <tr>\n",
       "      <th>6</th>\n",
       "      <td></td>\n",
       "      <td>Flipkart</td>\n",
       "      <td>3-7 Yrs</td>\n",
       "      <td>Bangalore/Bengaluru</td>\n",
       "    </tr>\n",
       "    <tr>\n",
       "      <th>7</th>\n",
       "      <td></td>\n",
       "      <td>Intel</td>\n",
       "      <td>5-10 Yrs</td>\n",
       "      <td>Bangalore/Bengaluru</td>\n",
       "    </tr>\n",
       "    <tr>\n",
       "      <th>8</th>\n",
       "      <td></td>\n",
       "      <td>Maruti Suzuki India</td>\n",
       "      <td>3-5 Yrs</td>\n",
       "      <td>Gurgaon/Gurugram, bangalore</td>\n",
       "    </tr>\n",
       "    <tr>\n",
       "      <th>9</th>\n",
       "      <td></td>\n",
       "      <td>Slice</td>\n",
       "      <td>0-2 Yrs</td>\n",
       "      <td>Bangalore/Bengaluru</td>\n",
       "    </tr>\n",
       "  </tbody>\n",
       "</table>\n",
       "</div>"
      ],
      "text/plain": [
       "                                               Title  \\\n",
       "0  Hiring -Data Analyst, Business Analyst, MIS An...   \n",
       "1  Business Analyst/ Data Analyst- Capital Market...   \n",
       "2                                                      \n",
       "3                                                      \n",
       "4                                                      \n",
       "5                                                      \n",
       "6                                                      \n",
       "7                                                      \n",
       "8                                                      \n",
       "9                                                      \n",
       "\n",
       "                              Company_name Experience  \\\n",
       "0                                 Flipkart    1-6 Yrs   \n",
       "1                                  Genpact   7-12 Yrs   \n",
       "2                                 Flipkart    2-4 Yrs   \n",
       "3  GlaxoSmithKline Pharmaceuticals Limited    3-8 Yrs   \n",
       "4                                   Aspect    0-2 Yrs   \n",
       "5                       Schneider Electric    2-5 Yrs   \n",
       "6                                 Flipkart    3-7 Yrs   \n",
       "7                                    Intel   5-10 Yrs   \n",
       "8                      Maruti Suzuki India    3-5 Yrs   \n",
       "9                                    Slice    0-2 Yrs   \n",
       "\n",
       "                      Location  \n",
       "0          Bangalore/Bengaluru  \n",
       "1    Pune, Bangalore/Bengaluru  \n",
       "2          Bengaluru/Bangalore  \n",
       "3          Bangalore/Bengaluru  \n",
       "4          Bangalore/Bengaluru  \n",
       "5          Bangalore/Bengaluru  \n",
       "6          Bangalore/Bengaluru  \n",
       "7          Bangalore/Bengaluru  \n",
       "8  Gurgaon/Gurugram, bangalore  \n",
       "9          Bangalore/Bengaluru  "
      ]
     },
     "execution_count": 27,
     "metadata": {},
     "output_type": "execute_result"
    }
   ],
   "source": [
    "my_job.head(10)"
   ]
  },
  {
   "cell_type": "markdown",
   "metadata": {},
   "source": [
    "#QUESTION 2"
   ]
  },
  {
   "cell_type": "code",
   "execution_count": 29,
   "metadata": {},
   "outputs": [
    {
     "name": "stdout",
     "output_type": "stream",
     "text": [
      "Requirement already satisfied: selenium in c:\\users\\kishan\\anaconda3\\lib\\site-packages (4.1.0)\n",
      "Requirement already satisfied: trio~=0.17 in c:\\users\\kishan\\anaconda3\\lib\\site-packages (from selenium) (0.19.0)\n",
      "Requirement already satisfied: urllib3[secure]~=1.26 in c:\\users\\kishan\\anaconda3\\lib\\site-packages (from selenium) (1.26.7)\n",
      "Requirement already satisfied: trio-websocket~=0.9 in c:\\users\\kishan\\anaconda3\\lib\\site-packages (from selenium) (0.9.2)\n",
      "Requirement already satisfied: attrs>=19.2.0 in c:\\users\\kishan\\anaconda3\\lib\\site-packages (from trio~=0.17->selenium) (19.3.0)\n",
      "Requirement already satisfied: async-generator>=1.9 in c:\\users\\kishan\\anaconda3\\lib\\site-packages (from trio~=0.17->selenium) (1.10)\n",
      "Requirement already satisfied: outcome in c:\\users\\kishan\\anaconda3\\lib\\site-packages (from trio~=0.17->selenium) (1.1.0)\n",
      "Requirement already satisfied: idna in c:\\users\\kishan\\anaconda3\\lib\\site-packages (from trio~=0.17->selenium) (2.10)\n",
      "Requirement already satisfied: sniffio in c:\\users\\kishan\\anaconda3\\lib\\site-packages (from trio~=0.17->selenium) (1.2.0)\n",
      "Requirement already satisfied: sortedcontainers in c:\\users\\kishan\\anaconda3\\lib\\site-packages (from trio~=0.17->selenium) (2.2.2)\n",
      "Requirement already satisfied: cffi>=1.14; os_name == \"nt\" and implementation_name != \"pypy\" in c:\\users\\kishan\\anaconda3\\lib\\site-packages (from trio~=0.17->selenium) (1.14.0)\n",
      "Requirement already satisfied: certifi; extra == \"secure\" in c:\\users\\kishan\\anaconda3\\lib\\site-packages (from urllib3[secure]~=1.26->selenium) (2020.6.20)\n",
      "Requirement already satisfied: pyOpenSSL>=0.14; extra == \"secure\" in c:\\users\\kishan\\anaconda3\\lib\\site-packages (from urllib3[secure]~=1.26->selenium) (19.1.0)\n",
      "Requirement already satisfied: cryptography>=1.3.4; extra == \"secure\" in c:\\users\\kishan\\anaconda3\\lib\\site-packages (from urllib3[secure]~=1.26->selenium) (2.9.2)\n",
      "Requirement already satisfied: wsproto>=0.14 in c:\\users\\kishan\\anaconda3\\lib\\site-packages (from trio-websocket~=0.9->selenium) (1.0.0)\n",
      "Requirement already satisfied: pycparser in c:\\users\\kishan\\anaconda3\\lib\\site-packages (from cffi>=1.14; os_name == \"nt\" and implementation_name != \"pypy\"->trio~=0.17->selenium) (2.20)\n",
      "Requirement already satisfied: six>=1.5.2 in c:\\users\\kishan\\anaconda3\\lib\\site-packages (from pyOpenSSL>=0.14; extra == \"secure\"->urllib3[secure]~=1.26->selenium) (1.15.0)\n",
      "Requirement already satisfied: h11<1,>=0.9.0 in c:\\users\\kishan\\anaconda3\\lib\\site-packages (from wsproto>=0.14->trio-websocket~=0.9->selenium) (0.12.0)\n"
     ]
    }
   ],
   "source": [
    "! pip install selenium\n"
   ]
  },
  {
   "cell_type": "code",
   "execution_count": 33,
   "metadata": {},
   "outputs": [
    {
     "name": "stderr",
     "output_type": "stream",
     "text": [
      "<ipython-input-33-37a93a3a33c0>:5: DeprecationWarning: executable_path has been deprecated, please pass in a Service object\n",
      "  driver = webdriver.Chrome('C:/Users/Kishan/Downloads/chromedriver_win32/chromedriver.exe')\n"
     ]
    }
   ],
   "source": [
    "import selenium\n",
    "import pandas as pd\n",
    "from selenium import webdriver\n",
    "\n",
    "driver = webdriver.Chrome('C:/Users/Kishan/Downloads/chromedriver_win32/chromedriver.exe')"
   ]
  },
  {
   "cell_type": "code",
   "execution_count": 34,
   "metadata": {},
   "outputs": [],
   "source": [
    "driver.get('https://www.naukri.com/')"
   ]
  },
  {
   "cell_type": "code",
   "execution_count": 35,
   "metadata": {},
   "outputs": [
    {
     "name": "stderr",
     "output_type": "stream",
     "text": [
      "<ipython-input-35-ef1dccfe1254>:1: DeprecationWarning: find_element_by_* commands are deprecated. Please use find_element() instead\n",
      "  search_job = driver.find_element_by_id('qsb-keyword-sugg')\n",
      "<ipython-input-35-ef1dccfe1254>:3: DeprecationWarning: find_element_by_* commands are deprecated. Please use find_element() instead\n",
      "  search_loc = driver.find_element_by_xpath(\"//input[@id='qsb-location-sugg']\")\n"
     ]
    }
   ],
   "source": [
    "search_job = driver.find_element_by_id('qsb-keyword-sugg')\n",
    "search_job.send_keys(\"Data Scientist\")\n",
    "search_loc = driver.find_element_by_xpath(\"//input[@id='qsb-location-sugg']\")\n",
    "search_loc.send_keys('Bangalore')"
   ]
  },
  {
   "cell_type": "code",
   "execution_count": 36,
   "metadata": {},
   "outputs": [
    {
     "name": "stderr",
     "output_type": "stream",
     "text": [
      "<ipython-input-36-c9b437d84350>:1: DeprecationWarning: find_element_by_* commands are deprecated. Please use find_element() instead\n",
      "  search_btn = driver.find_element_by_xpath(\"//div[@class='search-btn']/button\")\n"
     ]
    }
   ],
   "source": [
    "search_btn = driver.find_element_by_xpath(\"//div[@class='search-btn']/button\")\n",
    "search_btn.click()\n"
   ]
  },
  {
   "cell_type": "code",
   "execution_count": 37,
   "metadata": {},
   "outputs": [],
   "source": [
    "job_title = []\n",
    "company_name =[]\n",
    "location =[]\n",
    "experience_required = []"
   ]
  },
  {
   "cell_type": "code",
   "execution_count": 38,
   "metadata": {},
   "outputs": [
    {
     "name": "stderr",
     "output_type": "stream",
     "text": [
      "<ipython-input-38-4af9d29f6178>:1: DeprecationWarning: find_elements_by_* commands are deprecated. Please use find_elements() instead\n",
      "  title_tags = driver.find_elements_by_xpath(\"//a[@class='title fw500 ellipsis']\")\n"
     ]
    },
    {
     "data": {
      "text/plain": [
       "[<selenium.webdriver.remote.webelement.WebElement (session=\"e28f09af3940639eee0fe53348260cac\", element=\"80477c75-a330-41cc-8002-47e61b765ad2\")>,\n",
       " <selenium.webdriver.remote.webelement.WebElement (session=\"e28f09af3940639eee0fe53348260cac\", element=\"c82ce2be-3401-478d-93ae-b17c65602721\")>,\n",
       " <selenium.webdriver.remote.webelement.WebElement (session=\"e28f09af3940639eee0fe53348260cac\", element=\"9829b8e7-d3bc-4fa5-bcd8-cd346067ba04\")>,\n",
       " <selenium.webdriver.remote.webelement.WebElement (session=\"e28f09af3940639eee0fe53348260cac\", element=\"e5fac09c-e958-4f9d-9f2a-3b20e359a4ee\")>,\n",
       " <selenium.webdriver.remote.webelement.WebElement (session=\"e28f09af3940639eee0fe53348260cac\", element=\"94e01b12-5a3f-40f3-9fc3-e6b5a7e49f48\")>,\n",
       " <selenium.webdriver.remote.webelement.WebElement (session=\"e28f09af3940639eee0fe53348260cac\", element=\"09155318-9d1a-4b5c-93eb-94b14afa2b94\")>,\n",
       " <selenium.webdriver.remote.webelement.WebElement (session=\"e28f09af3940639eee0fe53348260cac\", element=\"b38d5312-8c77-477b-9a8e-0dabf40e7126\")>,\n",
       " <selenium.webdriver.remote.webelement.WebElement (session=\"e28f09af3940639eee0fe53348260cac\", element=\"a8652c67-53e1-4c7e-b9a1-2e031404cd6b\")>,\n",
       " <selenium.webdriver.remote.webelement.WebElement (session=\"e28f09af3940639eee0fe53348260cac\", element=\"4624bb00-d316-4e90-a558-797263437cfc\")>,\n",
       " <selenium.webdriver.remote.webelement.WebElement (session=\"e28f09af3940639eee0fe53348260cac\", element=\"cd78ee01-4928-4475-9f98-e58359d402a9\")>,\n",
       " <selenium.webdriver.remote.webelement.WebElement (session=\"e28f09af3940639eee0fe53348260cac\", element=\"61ca93d7-d5dc-4bd0-b217-b396fbd2fde0\")>]"
      ]
     },
     "execution_count": 38,
     "metadata": {},
     "output_type": "execute_result"
    }
   ],
   "source": [
    "title_tags = driver.find_elements_by_xpath(\"//a[@class='title fw500 ellipsis']\")\n",
    "title_tags[0:11]"
   ]
  },
  {
   "cell_type": "code",
   "execution_count": 39,
   "metadata": {},
   "outputs": [
    {
     "data": {
      "text/plain": [
       "['Data Scientist',\n",
       " 'Deputy Manager - Data Scientist',\n",
       " '',\n",
       " '',\n",
       " '',\n",
       " '',\n",
       " '',\n",
       " '',\n",
       " '',\n",
       " '',\n",
       " '']"
      ]
     },
     "execution_count": 39,
     "metadata": {},
     "output_type": "execute_result"
    }
   ],
   "source": [
    "for i in title_tags:\n",
    "    title = i.text\n",
    "    job_title.append(title)\n",
    "job_title[0:11]"
   ]
  },
  {
   "cell_type": "code",
   "execution_count": 40,
   "metadata": {},
   "outputs": [
    {
     "name": "stderr",
     "output_type": "stream",
     "text": [
      "<ipython-input-40-ec9e7db1e211>:1: DeprecationWarning: find_elements_by_* commands are deprecated. Please use find_elements() instead\n",
      "  company_tags = driver.find_elements_by_xpath(\"//a[@class='subTitle ellipsis fleft']\")\n"
     ]
    },
    {
     "data": {
      "text/plain": [
       "['Snaphunt',\n",
       " 'HDFC LIFE INSURANCE COMPANY LIMITED',\n",
       " '',\n",
       " '',\n",
       " '',\n",
       " '',\n",
       " '',\n",
       " '',\n",
       " '',\n",
       " '',\n",
       " '']"
      ]
     },
     "execution_count": 40,
     "metadata": {},
     "output_type": "execute_result"
    }
   ],
   "source": [
    "company_tags = driver.find_elements_by_xpath(\"//a[@class='subTitle ellipsis fleft']\")\n",
    "company_tags[0:11]\n",
    "\n",
    "for i in company_tags:\n",
    "    company = i.text\n",
    "    company_name.append(company)\n",
    "company_name[0:11]"
   ]
  },
  {
   "cell_type": "code",
   "execution_count": 41,
   "metadata": {},
   "outputs": [
    {
     "name": "stderr",
     "output_type": "stream",
     "text": [
      "<ipython-input-41-bb2d742313b4>:1: DeprecationWarning: find_elements_by_* commands are deprecated. Please use find_elements() instead\n",
      "  exp_tags = driver.find_elements_by_xpath(\"//li[@class='fleft grey-text br2 placeHolderLi experience']/span[1]\")\n"
     ]
    },
    {
     "data": {
      "text/plain": [
       "['0-2 Yrs', '3-7 Yrs', '', '', '', '', '', '', '', '', '']"
      ]
     },
     "execution_count": 41,
     "metadata": {},
     "output_type": "execute_result"
    }
   ],
   "source": [
    "exp_tags = driver.find_elements_by_xpath(\"//li[@class='fleft grey-text br2 placeHolderLi experience']/span[1]\")\n",
    "exp_tags[0:11]\n",
    "\n",
    "\n",
    "for i in exp_tags:\n",
    "    exp = i.text\n",
    "    experience_required.append(exp)\n",
    "experience_required[0:11]"
   ]
  },
  {
   "cell_type": "code",
   "execution_count": 42,
   "metadata": {},
   "outputs": [
    {
     "name": "stderr",
     "output_type": "stream",
     "text": [
      "<ipython-input-42-746d76992a05>:1: DeprecationWarning: find_elements_by_* commands are deprecated. Please use find_elements() instead\n",
      "  location_tags = driver.find_elements_by_xpath(\"//li[@class='fleft grey-text br2 placeHolderLi location']/span[1]\")\n"
     ]
    },
    {
     "data": {
      "text/plain": [
       "['Bangalore/Bengaluru',\n",
       " 'Bangalore/Bengaluru',\n",
       " '',\n",
       " '',\n",
       " '',\n",
       " '',\n",
       " '',\n",
       " '',\n",
       " '',\n",
       " '',\n",
       " '']"
      ]
     },
     "execution_count": 42,
     "metadata": {},
     "output_type": "execute_result"
    }
   ],
   "source": [
    "location_tags = driver.find_elements_by_xpath(\"//li[@class='fleft grey-text br2 placeHolderLi location']/span[1]\")\n",
    "location_tags[0:11]\n",
    "\n",
    "for i in location_tags:\n",
    "    locationname = i.text\n",
    "    location.append(locationname)\n",
    "location[0:11]"
   ]
  },
  {
   "cell_type": "code",
   "execution_count": 43,
   "metadata": {},
   "outputs": [
    {
     "name": "stdout",
     "output_type": "stream",
     "text": [
      "20 20 20 20\n"
     ]
    }
   ],
   "source": [
    "print(len(job_title),len(company_name),len(location),len(experience_required))"
   ]
  },
  {
   "cell_type": "code",
   "execution_count": 44,
   "metadata": {},
   "outputs": [
    {
     "data": {
      "text/html": [
       "<div>\n",
       "<style scoped>\n",
       "    .dataframe tbody tr th:only-of-type {\n",
       "        vertical-align: middle;\n",
       "    }\n",
       "\n",
       "    .dataframe tbody tr th {\n",
       "        vertical-align: top;\n",
       "    }\n",
       "\n",
       "    .dataframe thead th {\n",
       "        text-align: right;\n",
       "    }\n",
       "</style>\n",
       "<table border=\"1\" class=\"dataframe\">\n",
       "  <thead>\n",
       "    <tr style=\"text-align: right;\">\n",
       "      <th></th>\n",
       "      <th>Title</th>\n",
       "      <th>Company_name</th>\n",
       "      <th>Experience</th>\n",
       "      <th>Location</th>\n",
       "    </tr>\n",
       "  </thead>\n",
       "  <tbody>\n",
       "    <tr>\n",
       "      <th>0</th>\n",
       "      <td>Data Scientist</td>\n",
       "      <td>Snaphunt</td>\n",
       "      <td>0-2 Yrs</td>\n",
       "      <td>Bangalore/Bengaluru</td>\n",
       "    </tr>\n",
       "    <tr>\n",
       "      <th>1</th>\n",
       "      <td>Deputy Manager - Data Scientist</td>\n",
       "      <td>HDFC LIFE INSURANCE COMPANY LIMITED</td>\n",
       "      <td>3-7 Yrs</td>\n",
       "      <td>Bangalore/Bengaluru</td>\n",
       "    </tr>\n",
       "    <tr>\n",
       "      <th>2</th>\n",
       "      <td></td>\n",
       "      <td></td>\n",
       "      <td></td>\n",
       "      <td></td>\n",
       "    </tr>\n",
       "    <tr>\n",
       "      <th>3</th>\n",
       "      <td></td>\n",
       "      <td></td>\n",
       "      <td></td>\n",
       "      <td></td>\n",
       "    </tr>\n",
       "    <tr>\n",
       "      <th>4</th>\n",
       "      <td></td>\n",
       "      <td></td>\n",
       "      <td></td>\n",
       "      <td></td>\n",
       "    </tr>\n",
       "    <tr>\n",
       "      <th>5</th>\n",
       "      <td></td>\n",
       "      <td></td>\n",
       "      <td></td>\n",
       "      <td></td>\n",
       "    </tr>\n",
       "    <tr>\n",
       "      <th>6</th>\n",
       "      <td></td>\n",
       "      <td></td>\n",
       "      <td></td>\n",
       "      <td></td>\n",
       "    </tr>\n",
       "    <tr>\n",
       "      <th>7</th>\n",
       "      <td></td>\n",
       "      <td></td>\n",
       "      <td></td>\n",
       "      <td></td>\n",
       "    </tr>\n",
       "    <tr>\n",
       "      <th>8</th>\n",
       "      <td></td>\n",
       "      <td></td>\n",
       "      <td></td>\n",
       "      <td></td>\n",
       "    </tr>\n",
       "    <tr>\n",
       "      <th>9</th>\n",
       "      <td></td>\n",
       "      <td></td>\n",
       "      <td></td>\n",
       "      <td></td>\n",
       "    </tr>\n",
       "    <tr>\n",
       "      <th>10</th>\n",
       "      <td></td>\n",
       "      <td></td>\n",
       "      <td></td>\n",
       "      <td></td>\n",
       "    </tr>\n",
       "    <tr>\n",
       "      <th>11</th>\n",
       "      <td></td>\n",
       "      <td></td>\n",
       "      <td></td>\n",
       "      <td></td>\n",
       "    </tr>\n",
       "    <tr>\n",
       "      <th>12</th>\n",
       "      <td></td>\n",
       "      <td></td>\n",
       "      <td></td>\n",
       "      <td></td>\n",
       "    </tr>\n",
       "    <tr>\n",
       "      <th>13</th>\n",
       "      <td></td>\n",
       "      <td></td>\n",
       "      <td></td>\n",
       "      <td></td>\n",
       "    </tr>\n",
       "    <tr>\n",
       "      <th>14</th>\n",
       "      <td></td>\n",
       "      <td></td>\n",
       "      <td></td>\n",
       "      <td></td>\n",
       "    </tr>\n",
       "    <tr>\n",
       "      <th>15</th>\n",
       "      <td></td>\n",
       "      <td></td>\n",
       "      <td></td>\n",
       "      <td></td>\n",
       "    </tr>\n",
       "    <tr>\n",
       "      <th>16</th>\n",
       "      <td></td>\n",
       "      <td></td>\n",
       "      <td></td>\n",
       "      <td></td>\n",
       "    </tr>\n",
       "    <tr>\n",
       "      <th>17</th>\n",
       "      <td></td>\n",
       "      <td></td>\n",
       "      <td></td>\n",
       "      <td></td>\n",
       "    </tr>\n",
       "    <tr>\n",
       "      <th>18</th>\n",
       "      <td></td>\n",
       "      <td></td>\n",
       "      <td></td>\n",
       "      <td></td>\n",
       "    </tr>\n",
       "    <tr>\n",
       "      <th>19</th>\n",
       "      <td></td>\n",
       "      <td></td>\n",
       "      <td></td>\n",
       "      <td></td>\n",
       "    </tr>\n",
       "  </tbody>\n",
       "</table>\n",
       "</div>"
      ],
      "text/plain": [
       "                              Title                         Company_name  \\\n",
       "0                    Data Scientist                             Snaphunt   \n",
       "1   Deputy Manager - Data Scientist  HDFC LIFE INSURANCE COMPANY LIMITED   \n",
       "2                                                                          \n",
       "3                                                                          \n",
       "4                                                                          \n",
       "5                                                                          \n",
       "6                                                                          \n",
       "7                                                                          \n",
       "8                                                                          \n",
       "9                                                                          \n",
       "10                                                                         \n",
       "11                                                                         \n",
       "12                                                                         \n",
       "13                                                                         \n",
       "14                                                                         \n",
       "15                                                                         \n",
       "16                                                                         \n",
       "17                                                                         \n",
       "18                                                                         \n",
       "19                                                                         \n",
       "\n",
       "   Experience             Location  \n",
       "0     0-2 Yrs  Bangalore/Bengaluru  \n",
       "1     3-7 Yrs  Bangalore/Bengaluru  \n",
       "2                                   \n",
       "3                                   \n",
       "4                                   \n",
       "5                                   \n",
       "6                                   \n",
       "7                                   \n",
       "8                                   \n",
       "9                                   \n",
       "10                                  \n",
       "11                                  \n",
       "12                                  \n",
       "13                                  \n",
       "14                                  \n",
       "15                                  \n",
       "16                                  \n",
       "17                                  \n",
       "18                                  \n",
       "19                                  "
      ]
     },
     "execution_count": 44,
     "metadata": {},
     "output_type": "execute_result"
    }
   ],
   "source": [
    "my_job = pd.DataFrame({})\n",
    "my_job['Title'] = job_title\n",
    "my_job['Company_name'] = company_name\n",
    "my_job['Experience'] = experience_required\n",
    "my_job['Location'] =location\n",
    "\n",
    "my_job"
   ]
  },
  {
   "cell_type": "markdown",
   "metadata": {},
   "source": [
    "# QUESTION 3"
   ]
  },
  {
   "cell_type": "code",
   "execution_count": 57,
   "metadata": {},
   "outputs": [
    {
     "name": "stderr",
     "output_type": "stream",
     "text": [
      "<ipython-input-57-f5e291cbc091>:1: DeprecationWarning: executable_path has been deprecated, please pass in a Service object\n",
      "  driver = webdriver.Chrome('C:/Users/Kishan/Downloads/chromedriver_win32/chromedriver.exe')\n"
     ]
    }
   ],
   "source": [
    "driver = webdriver.Chrome('C:/Users/Kishan/Downloads/chromedriver_win32/chromedriver.exe')"
   ]
  },
  {
   "cell_type": "code",
   "execution_count": 58,
   "metadata": {},
   "outputs": [],
   "source": [
    "driver.get('https://www.naukri.com/')"
   ]
  },
  {
   "cell_type": "code",
   "execution_count": 59,
   "metadata": {},
   "outputs": [
    {
     "name": "stderr",
     "output_type": "stream",
     "text": [
      "<ipython-input-59-d437516536e8>:1: DeprecationWarning: find_element_by_* commands are deprecated. Please use find_element() instead\n",
      "  search_job = driver.find_element_by_id('qsb-keyword-sugg')\n",
      "<ipython-input-59-d437516536e8>:4: DeprecationWarning: find_element_by_* commands are deprecated. Please use find_element() instead\n",
      "  search_btn = driver.find_element_by_xpath(\"//div[@class='search-btn']/button\")\n"
     ]
    }
   ],
   "source": [
    "search_job = driver.find_element_by_id('qsb-keyword-sugg')\n",
    "search_job.send_keys(\"Data Scientist\")\n",
    "\n",
    "search_btn = driver.find_element_by_xpath(\"//div[@class='search-btn']/button\")\n",
    "search_btn.click()\n"
   ]
  },
  {
   "cell_type": "code",
   "execution_count": 60,
   "metadata": {},
   "outputs": [
    {
     "name": "stderr",
     "output_type": "stream",
     "text": [
      "<ipython-input-60-8ceff1405df1>:1: DeprecationWarning: find_element_by_* commands are deprecated. Please use find_element() instead\n",
      "  search_button = driver.find_element_by_xpath('/html/body/div[1]/div[3]/div[2]/section[1]/div[2]/div[3]/div[2]/div[3]/label/i')\n"
     ]
    }
   ],
   "source": [
    "search_button = driver.find_element_by_xpath('/html/body/div[1]/div[3]/div[2]/section[1]/div[2]/div[3]/div[2]/div[3]/label/i')\n",
    "\n",
    "search_button.click()"
   ]
  },
  {
   "cell_type": "code",
   "execution_count": 61,
   "metadata": {},
   "outputs": [
    {
     "name": "stderr",
     "output_type": "stream",
     "text": [
      "<ipython-input-61-b13e00d76016>:1: DeprecationWarning: find_element_by_* commands are deprecated. Please use find_element() instead\n",
      "  search_button = driver.find_element_by_xpath('/html/body/div[1]/div[3]/div[2]/section[1]/div[2]/div[4]/div[2]/div[2]/label/i')\n"
     ]
    }
   ],
   "source": [
    "search_button = driver.find_element_by_xpath('/html/body/div[1]/div[3]/div[2]/section[1]/div[2]/div[4]/div[2]/div[2]/label/i')\n",
    "\n",
    "search_button.click()"
   ]
  },
  {
   "cell_type": "code",
   "execution_count": 62,
   "metadata": {},
   "outputs": [],
   "source": [
    "job_title = []\n",
    "company_name =[]\n",
    "location =[]\n",
    "experience_required = []"
   ]
  },
  {
   "cell_type": "code",
   "execution_count": 63,
   "metadata": {},
   "outputs": [
    {
     "name": "stderr",
     "output_type": "stream",
     "text": [
      "<ipython-input-63-239291c4d929>:1: DeprecationWarning: find_elements_by_* commands are deprecated. Please use find_elements() instead\n",
      "  title_tags = driver.find_elements_by_xpath(\"//a[@class='title fw500 ellipsis']\")\n"
     ]
    },
    {
     "data": {
      "text/plain": [
       "['Data Scientist',\n",
       " 'NTT DATA_ Hiring For BIG DATA ,DATA Scientist, Devops',\n",
       " 'Project Manager | Team Leader | Senior Data Scientist',\n",
       " 'Data Scientist',\n",
       " 'Hiring For Data Analyst / Data Scientist',\n",
       " 'Data Scientist',\n",
       " 'Data Scientist',\n",
       " 'Hiring For Data Scientist',\n",
       " 'Data Scientist/ Senior Data Scientist',\n",
       " 'Urgent Hiring For Data Scientist | Work From Office',\n",
       " 'Data Scientist',\n",
       " 'Job Opportunity || Data Scientist || HCL Technologies',\n",
       " 'Data Analyst / Data Scientist / Business Analytics / Fresher - MNC',\n",
       " 'Data Scientist',\n",
       " 'Senior Data Scientist',\n",
       " 'Data Scientist',\n",
       " 'Data Scientist',\n",
       " 'Data Scientist',\n",
       " 'Data Scientist',\n",
       " 'Data Scientist']"
      ]
     },
     "execution_count": 63,
     "metadata": {},
     "output_type": "execute_result"
    }
   ],
   "source": [
    "title_tags = driver.find_elements_by_xpath(\"//a[@class='title fw500 ellipsis']\")\n",
    "title_tags\n",
    "\n",
    "for i in title_tags:\n",
    "    title = i.text\n",
    "    job_title.append(title)\n",
    "job_title"
   ]
  },
  {
   "cell_type": "code",
   "execution_count": 64,
   "metadata": {},
   "outputs": [
    {
     "name": "stderr",
     "output_type": "stream",
     "text": [
      "<ipython-input-64-3aae39205685>:1: DeprecationWarning: find_elements_by_* commands are deprecated. Please use find_elements() instead\n",
      "  company_tags = driver.find_elements_by_xpath(\"//a[@class='subTitle ellipsis fleft']\")\n"
     ]
    },
    {
     "data": {
      "text/plain": [
       "['LG Electronics India Pvt. Ltd.',\n",
       " 'NTT Data Business Solutions Pvt Ltd',\n",
       " 'Tidyquant (OPC) Private Limited',\n",
       " 'Navikenz India Pvt Ltd',\n",
       " 'Careerera',\n",
       " 'Whizhack Technologies pvt ltd',\n",
       " 'One Mobikwik Systems Private Limited',\n",
       " 'Tata Consultancy Services Ltd.',\n",
       " 'Newgen Software Technologies',\n",
       " 'Careerera',\n",
       " 'Teleperformance',\n",
       " 'HCL Technologies',\n",
       " 'GABA Consultancy services',\n",
       " 'The Boston Consulting Group (India) Pvt Limited',\n",
       " 'iNICU',\n",
       " 'WEGARNER SOLUTIONS PRIVATE LIMITED',\n",
       " 'Sentieo',\n",
       " 'BlackBuck',\n",
       " 'Country Veggie',\n",
       " 'Mahajan Imaging']"
      ]
     },
     "execution_count": 64,
     "metadata": {},
     "output_type": "execute_result"
    }
   ],
   "source": [
    "company_tags = driver.find_elements_by_xpath(\"//a[@class='subTitle ellipsis fleft']\")\n",
    "company_tags\n",
    "\n",
    "for i in company_tags:\n",
    "    company = i.text\n",
    "    company_name.append(company)\n",
    "company_name"
   ]
  },
  {
   "cell_type": "code",
   "execution_count": 65,
   "metadata": {},
   "outputs": [
    {
     "name": "stderr",
     "output_type": "stream",
     "text": [
      "<ipython-input-65-e344923e9916>:1: DeprecationWarning: find_elements_by_* commands are deprecated. Please use find_elements() instead\n",
      "  exp_tags = driver.find_elements_by_xpath(\"//li[@class='fleft grey-text br2 placeHolderLi experience']/span[1]\")\n"
     ]
    },
    {
     "data": {
      "text/plain": [
       "['0-2 Yrs',\n",
       " '3-8 Yrs',\n",
       " '1-5 Yrs',\n",
       " '2-7 Yrs',\n",
       " '1-3 Yrs',\n",
       " '2-5 Yrs',\n",
       " '2-5 Yrs',\n",
       " '4-9 Yrs',\n",
       " '2-5 Yrs',\n",
       " '2-7 Yrs',\n",
       " '4-9 Yrs',\n",
       " '2-6 Yrs',\n",
       " '0-0 Yrs',\n",
       " '2-5 Yrs',\n",
       " '1-5 Yrs',\n",
       " '2-6 Yrs',\n",
       " '2-7 Yrs',\n",
       " '3-7 Yrs',\n",
       " '1-3 Yrs',\n",
       " '2-6 Yrs']"
      ]
     },
     "execution_count": 65,
     "metadata": {},
     "output_type": "execute_result"
    }
   ],
   "source": [
    "exp_tags = driver.find_elements_by_xpath(\"//li[@class='fleft grey-text br2 placeHolderLi experience']/span[1]\")\n",
    "exp_tags\n",
    "\n",
    "\n",
    "for i in exp_tags:\n",
    "    exp = i.text\n",
    "    experience_required.append(exp)\n",
    "experience_required"
   ]
  },
  {
   "cell_type": "code",
   "execution_count": 66,
   "metadata": {},
   "outputs": [
    {
     "name": "stderr",
     "output_type": "stream",
     "text": [
      "<ipython-input-66-51aa4bfdd29b>:1: DeprecationWarning: find_elements_by_* commands are deprecated. Please use find_elements() instead\n",
      "  location_tags = driver.find_elements_by_xpath(\"//li[@class='fleft grey-text br2 placeHolderLi location']/span[1]\")\n"
     ]
    },
    {
     "data": {
      "text/plain": [
       "['Noida, New Delhi, Faridabad, Gurgaon/Gurugram, Delhi / NCR',\n",
       " 'Noida, Kolkata, Hyderabad/Secunderabad, Ahmedabad, Chennai, Coimbatore, Bangalore/Bengaluru, Delhi / NCR, Mumbai (All Areas)',\n",
       " 'Remote',\n",
       " 'Noida, Nodia',\n",
       " 'Noida(Sector-59 Noida)',\n",
       " 'Gurgaon/Gurugram',\n",
       " 'Gurgaon/Gurugram',\n",
       " 'Hyderabad/Secunderabad, Pune, Chennai, Bangalore/Bengaluru, Delhi / NCR, Mumbai (All Areas)',\n",
       " 'Noida',\n",
       " 'Noida(Sector-59 Noida)',\n",
       " 'Gurgaon/Gurugram, Chennai',\n",
       " 'Delhi / NCR',\n",
       " 'Noida, Ghaziabad, Delhi / NCR',\n",
       " 'New Delhi',\n",
       " 'Delhi',\n",
       " 'Noida, Pune, Mumbai (All Areas)',\n",
       " 'Delhi',\n",
       " 'Gurgaon, Bengaluru',\n",
       " 'Bharuch, Jaipur, Bhopal, Mumbai, Jhansi, Nagpur, Ghaziabad, Jaunpur, Kanpur, Delhi, Lucknow, Agra, Gurgaon, Rajkot, Bengaluru',\n",
       " 'Delhi']"
      ]
     },
     "execution_count": 66,
     "metadata": {},
     "output_type": "execute_result"
    }
   ],
   "source": [
    "location_tags = driver.find_elements_by_xpath(\"//li[@class='fleft grey-text br2 placeHolderLi location']/span[1]\")\n",
    "location_tags\n",
    "\n",
    "for i in location_tags:\n",
    "    locationname = i.text\n",
    "    location.append(locationname)\n",
    "location"
   ]
  },
  {
   "cell_type": "code",
   "execution_count": 67,
   "metadata": {},
   "outputs": [
    {
     "name": "stdout",
     "output_type": "stream",
     "text": [
      "20 20 20 20\n"
     ]
    }
   ],
   "source": [
    "print(len(job_title),len(company_name),len(location),len(experience_required))"
   ]
  },
  {
   "cell_type": "code",
   "execution_count": 68,
   "metadata": {},
   "outputs": [
    {
     "data": {
      "text/html": [
       "<div>\n",
       "<style scoped>\n",
       "    .dataframe tbody tr th:only-of-type {\n",
       "        vertical-align: middle;\n",
       "    }\n",
       "\n",
       "    .dataframe tbody tr th {\n",
       "        vertical-align: top;\n",
       "    }\n",
       "\n",
       "    .dataframe thead th {\n",
       "        text-align: right;\n",
       "    }\n",
       "</style>\n",
       "<table border=\"1\" class=\"dataframe\">\n",
       "  <thead>\n",
       "    <tr style=\"text-align: right;\">\n",
       "      <th></th>\n",
       "      <th>Title</th>\n",
       "      <th>Company_name</th>\n",
       "      <th>Experience</th>\n",
       "      <th>Location</th>\n",
       "    </tr>\n",
       "  </thead>\n",
       "  <tbody>\n",
       "    <tr>\n",
       "      <th>0</th>\n",
       "      <td>Data Scientist</td>\n",
       "      <td>LG Electronics India Pvt. Ltd.</td>\n",
       "      <td>0-2 Yrs</td>\n",
       "      <td>Noida, New Delhi, Faridabad, Gurgaon/Gurugram,...</td>\n",
       "    </tr>\n",
       "    <tr>\n",
       "      <th>1</th>\n",
       "      <td>NTT DATA_ Hiring For BIG DATA ,DATA Scientist,...</td>\n",
       "      <td>NTT Data Business Solutions Pvt Ltd</td>\n",
       "      <td>3-8 Yrs</td>\n",
       "      <td>Noida, Kolkata, Hyderabad/Secunderabad, Ahmeda...</td>\n",
       "    </tr>\n",
       "    <tr>\n",
       "      <th>2</th>\n",
       "      <td>Project Manager | Team Leader | Senior Data Sc...</td>\n",
       "      <td>Tidyquant (OPC) Private Limited</td>\n",
       "      <td>1-5 Yrs</td>\n",
       "      <td>Remote</td>\n",
       "    </tr>\n",
       "    <tr>\n",
       "      <th>3</th>\n",
       "      <td>Data Scientist</td>\n",
       "      <td>Navikenz India Pvt Ltd</td>\n",
       "      <td>2-7 Yrs</td>\n",
       "      <td>Noida, Nodia</td>\n",
       "    </tr>\n",
       "    <tr>\n",
       "      <th>4</th>\n",
       "      <td>Hiring For Data Analyst / Data Scientist</td>\n",
       "      <td>Careerera</td>\n",
       "      <td>1-3 Yrs</td>\n",
       "      <td>Noida(Sector-59 Noida)</td>\n",
       "    </tr>\n",
       "    <tr>\n",
       "      <th>5</th>\n",
       "      <td>Data Scientist</td>\n",
       "      <td>Whizhack Technologies pvt ltd</td>\n",
       "      <td>2-5 Yrs</td>\n",
       "      <td>Gurgaon/Gurugram</td>\n",
       "    </tr>\n",
       "    <tr>\n",
       "      <th>6</th>\n",
       "      <td>Data Scientist</td>\n",
       "      <td>One Mobikwik Systems Private Limited</td>\n",
       "      <td>2-5 Yrs</td>\n",
       "      <td>Gurgaon/Gurugram</td>\n",
       "    </tr>\n",
       "    <tr>\n",
       "      <th>7</th>\n",
       "      <td>Hiring For Data Scientist</td>\n",
       "      <td>Tata Consultancy Services Ltd.</td>\n",
       "      <td>4-9 Yrs</td>\n",
       "      <td>Hyderabad/Secunderabad, Pune, Chennai, Bangalo...</td>\n",
       "    </tr>\n",
       "    <tr>\n",
       "      <th>8</th>\n",
       "      <td>Data Scientist/ Senior Data Scientist</td>\n",
       "      <td>Newgen Software Technologies</td>\n",
       "      <td>2-5 Yrs</td>\n",
       "      <td>Noida</td>\n",
       "    </tr>\n",
       "    <tr>\n",
       "      <th>9</th>\n",
       "      <td>Urgent Hiring For Data Scientist | Work From O...</td>\n",
       "      <td>Careerera</td>\n",
       "      <td>2-7 Yrs</td>\n",
       "      <td>Noida(Sector-59 Noida)</td>\n",
       "    </tr>\n",
       "    <tr>\n",
       "      <th>10</th>\n",
       "      <td>Data Scientist</td>\n",
       "      <td>Teleperformance</td>\n",
       "      <td>4-9 Yrs</td>\n",
       "      <td>Gurgaon/Gurugram, Chennai</td>\n",
       "    </tr>\n",
       "    <tr>\n",
       "      <th>11</th>\n",
       "      <td>Job Opportunity || Data Scientist || HCL Techn...</td>\n",
       "      <td>HCL Technologies</td>\n",
       "      <td>2-6 Yrs</td>\n",
       "      <td>Delhi / NCR</td>\n",
       "    </tr>\n",
       "    <tr>\n",
       "      <th>12</th>\n",
       "      <td>Data Analyst / Data Scientist / Business Analy...</td>\n",
       "      <td>GABA Consultancy services</td>\n",
       "      <td>0-0 Yrs</td>\n",
       "      <td>Noida, Ghaziabad, Delhi / NCR</td>\n",
       "    </tr>\n",
       "    <tr>\n",
       "      <th>13</th>\n",
       "      <td>Data Scientist</td>\n",
       "      <td>The Boston Consulting Group (India) Pvt Limited</td>\n",
       "      <td>2-5 Yrs</td>\n",
       "      <td>New Delhi</td>\n",
       "    </tr>\n",
       "    <tr>\n",
       "      <th>14</th>\n",
       "      <td>Senior Data Scientist</td>\n",
       "      <td>iNICU</td>\n",
       "      <td>1-5 Yrs</td>\n",
       "      <td>Delhi</td>\n",
       "    </tr>\n",
       "    <tr>\n",
       "      <th>15</th>\n",
       "      <td>Data Scientist</td>\n",
       "      <td>WEGARNER SOLUTIONS PRIVATE LIMITED</td>\n",
       "      <td>2-6 Yrs</td>\n",
       "      <td>Noida, Pune, Mumbai (All Areas)</td>\n",
       "    </tr>\n",
       "    <tr>\n",
       "      <th>16</th>\n",
       "      <td>Data Scientist</td>\n",
       "      <td>Sentieo</td>\n",
       "      <td>2-7 Yrs</td>\n",
       "      <td>Delhi</td>\n",
       "    </tr>\n",
       "    <tr>\n",
       "      <th>17</th>\n",
       "      <td>Data Scientist</td>\n",
       "      <td>BlackBuck</td>\n",
       "      <td>3-7 Yrs</td>\n",
       "      <td>Gurgaon, Bengaluru</td>\n",
       "    </tr>\n",
       "    <tr>\n",
       "      <th>18</th>\n",
       "      <td>Data Scientist</td>\n",
       "      <td>Country Veggie</td>\n",
       "      <td>1-3 Yrs</td>\n",
       "      <td>Bharuch, Jaipur, Bhopal, Mumbai, Jhansi, Nagpu...</td>\n",
       "    </tr>\n",
       "    <tr>\n",
       "      <th>19</th>\n",
       "      <td>Data Scientist</td>\n",
       "      <td>Mahajan Imaging</td>\n",
       "      <td>2-6 Yrs</td>\n",
       "      <td>Delhi</td>\n",
       "    </tr>\n",
       "  </tbody>\n",
       "</table>\n",
       "</div>"
      ],
      "text/plain": [
       "                                                Title  \\\n",
       "0                                      Data Scientist   \n",
       "1   NTT DATA_ Hiring For BIG DATA ,DATA Scientist,...   \n",
       "2   Project Manager | Team Leader | Senior Data Sc...   \n",
       "3                                      Data Scientist   \n",
       "4            Hiring For Data Analyst / Data Scientist   \n",
       "5                                      Data Scientist   \n",
       "6                                      Data Scientist   \n",
       "7                           Hiring For Data Scientist   \n",
       "8               Data Scientist/ Senior Data Scientist   \n",
       "9   Urgent Hiring For Data Scientist | Work From O...   \n",
       "10                                     Data Scientist   \n",
       "11  Job Opportunity || Data Scientist || HCL Techn...   \n",
       "12  Data Analyst / Data Scientist / Business Analy...   \n",
       "13                                     Data Scientist   \n",
       "14                              Senior Data Scientist   \n",
       "15                                     Data Scientist   \n",
       "16                                     Data Scientist   \n",
       "17                                     Data Scientist   \n",
       "18                                     Data Scientist   \n",
       "19                                     Data Scientist   \n",
       "\n",
       "                                       Company_name Experience  \\\n",
       "0                    LG Electronics India Pvt. Ltd.    0-2 Yrs   \n",
       "1               NTT Data Business Solutions Pvt Ltd    3-8 Yrs   \n",
       "2                   Tidyquant (OPC) Private Limited    1-5 Yrs   \n",
       "3                            Navikenz India Pvt Ltd    2-7 Yrs   \n",
       "4                                         Careerera    1-3 Yrs   \n",
       "5                     Whizhack Technologies pvt ltd    2-5 Yrs   \n",
       "6              One Mobikwik Systems Private Limited    2-5 Yrs   \n",
       "7                    Tata Consultancy Services Ltd.    4-9 Yrs   \n",
       "8                      Newgen Software Technologies    2-5 Yrs   \n",
       "9                                         Careerera    2-7 Yrs   \n",
       "10                                  Teleperformance    4-9 Yrs   \n",
       "11                                 HCL Technologies    2-6 Yrs   \n",
       "12                        GABA Consultancy services    0-0 Yrs   \n",
       "13  The Boston Consulting Group (India) Pvt Limited    2-5 Yrs   \n",
       "14                                            iNICU    1-5 Yrs   \n",
       "15               WEGARNER SOLUTIONS PRIVATE LIMITED    2-6 Yrs   \n",
       "16                                          Sentieo    2-7 Yrs   \n",
       "17                                        BlackBuck    3-7 Yrs   \n",
       "18                                   Country Veggie    1-3 Yrs   \n",
       "19                                  Mahajan Imaging    2-6 Yrs   \n",
       "\n",
       "                                             Location  \n",
       "0   Noida, New Delhi, Faridabad, Gurgaon/Gurugram,...  \n",
       "1   Noida, Kolkata, Hyderabad/Secunderabad, Ahmeda...  \n",
       "2                                              Remote  \n",
       "3                                        Noida, Nodia  \n",
       "4                              Noida(Sector-59 Noida)  \n",
       "5                                    Gurgaon/Gurugram  \n",
       "6                                    Gurgaon/Gurugram  \n",
       "7   Hyderabad/Secunderabad, Pune, Chennai, Bangalo...  \n",
       "8                                               Noida  \n",
       "9                              Noida(Sector-59 Noida)  \n",
       "10                          Gurgaon/Gurugram, Chennai  \n",
       "11                                        Delhi / NCR  \n",
       "12                      Noida, Ghaziabad, Delhi / NCR  \n",
       "13                                          New Delhi  \n",
       "14                                              Delhi  \n",
       "15                    Noida, Pune, Mumbai (All Areas)  \n",
       "16                                              Delhi  \n",
       "17                                 Gurgaon, Bengaluru  \n",
       "18  Bharuch, Jaipur, Bhopal, Mumbai, Jhansi, Nagpu...  \n",
       "19                                              Delhi  "
      ]
     },
     "execution_count": 68,
     "metadata": {},
     "output_type": "execute_result"
    }
   ],
   "source": [
    "my_job = pd.DataFrame({})\n",
    "my_job['Title'] = job_title\n",
    "my_job['Company_name'] = company_name\n",
    "my_job['Experience'] = experience_required\n",
    "my_job['Location'] =location\n",
    "\n",
    "my_job"
   ]
  },
  {
   "cell_type": "markdown",
   "metadata": {},
   "source": [
    "#QUESTION 4"
   ]
  },
  {
   "cell_type": "code",
   "execution_count": 69,
   "metadata": {},
   "outputs": [
    {
     "name": "stderr",
     "output_type": "stream",
     "text": [
      "<ipython-input-69-f5e291cbc091>:1: DeprecationWarning: executable_path has been deprecated, please pass in a Service object\n",
      "  driver = webdriver.Chrome('C:/Users/Kishan/Downloads/chromedriver_win32/chromedriver.exe')\n"
     ]
    }
   ],
   "source": [
    "driver = webdriver.Chrome('C:/Users/Kishan/Downloads/chromedriver_win32/chromedriver.exe')"
   ]
  },
  {
   "cell_type": "code",
   "execution_count": 70,
   "metadata": {},
   "outputs": [],
   "source": [
    "driver.get('https://www.flipkart.com/search?q=sunglasses&sid=26x&as=on&as-show=on&otracker=AS_QueryStore_OrganicAutoSuggest_2_3_na_na_na&otracker1=AS_QueryStore_OrganicAutoSuggest_2_3_na_na_na&as-pos=2&as-type=RECENT&suggestionId=sunglasses%7CSunglasses&requestId=e50e7ae8-301e-4790-8981-2e6132339e71&as-searchtext=sun')"
   ]
  },
  {
   "cell_type": "code",
   "execution_count": 71,
   "metadata": {},
   "outputs": [],
   "source": [
    "Brand = []\n",
    "Description =[]\n",
    "Price =[]\n",
    "Discount = []"
   ]
  },
  {
   "cell_type": "code",
   "execution_count": 72,
   "metadata": {},
   "outputs": [
    {
     "name": "stderr",
     "output_type": "stream",
     "text": [
      "<ipython-input-72-7d301a9c7f9b>:1: DeprecationWarning: find_elements_by_* commands are deprecated. Please use find_elements() instead\n",
      "  brand_tag = driver.find_elements_by_xpath(\"//div[@class='_2WkVRV']\")\n"
     ]
    },
    {
     "data": {
      "text/plain": [
       "['Sewell',\n",
       " 'Sewell',\n",
       " 'SRPM',\n",
       " 'Elligator',\n",
       " 'PIRASO',\n",
       " 'PIRASO',\n",
       " 'kingsunglasses',\n",
       " 'VINCENT CHASE',\n",
       " 'kingsunglasses',\n",
       " 'New Specs',\n",
       " 'Fastrack',\n",
       " 'VINCENT CHASE',\n",
       " 'SHAAH COLLECTIONS',\n",
       " 'kingsunglasses',\n",
       " 'ROZZETTA CRAFT',\n",
       " 'VINCENT CHASE',\n",
       " 'New Specs',\n",
       " 'PIRASO',\n",
       " 'ROZZETTA CRAFT',\n",
       " 'VINCENT CHASE',\n",
       " 'PHENOMENAL',\n",
       " 'ROYAL SON',\n",
       " 'SUNBEE',\n",
       " 'VILLAIN',\n",
       " 'PIRASO',\n",
       " 'SHAAH COLLECTIONS',\n",
       " 'Rich Club',\n",
       " 'ROZZETTA CRAFT',\n",
       " 'PHENOMENAL',\n",
       " 'Singco India',\n",
       " 'PIRASO',\n",
       " 'VINCENT CHASE',\n",
       " 'PIRASO',\n",
       " 'ROYAL SON',\n",
       " 'kingsunglasses',\n",
       " 'ROYAL SON',\n",
       " 'Rich Club',\n",
       " 'Fastrack',\n",
       " 'PIRASO',\n",
       " 'VINCENT CHASE']"
      ]
     },
     "execution_count": 72,
     "metadata": {},
     "output_type": "execute_result"
    }
   ],
   "source": [
    "brand_tag = driver.find_elements_by_xpath(\"//div[@class='_2WkVRV']\")\n",
    "brand_tag\n",
    "\n",
    "for i in brand_tag:\n",
    "    brandname = i.text\n",
    "    Brand.append(brandname)\n",
    "Brand"
   ]
  },
  {
   "cell_type": "code",
   "execution_count": 73,
   "metadata": {},
   "outputs": [
    {
     "name": "stderr",
     "output_type": "stream",
     "text": [
      "<ipython-input-73-c687994f235a>:1: DeprecationWarning: find_elements_by_* commands are deprecated. Please use find_elements() instead\n",
      "  description_tag = driver.find_elements_by_xpath(\"//div[@class='_2B099V']\")\n"
     ]
    },
    {
     "data": {
      "text/plain": [
       "['Sewell\\nUV Protection Aviator Sunglasses (Free Size)\\n₹320₹1,69981% off',\n",
       " 'Sewell\\nUV Protection Aviator Sunglasses (Free Size)\\n₹299₹99970% off\\nSize Free Size',\n",
       " 'SRPM\\nUV Protection Wayfarer Sunglasses (56)\\n₹188₹1,29985% off',\n",
       " 'Elligator\\nUV Protection Round Sunglasses (54)\\n₹248₹2,49590% off',\n",
       " 'PIRASO\\nUV Protection Aviator Sunglasses (54)\\n₹200₹1,59987% off',\n",
       " 'PIRASO\\nUV Protection Aviator Sunglasses (54)\\n₹187₹1,59988% off',\n",
       " 'kingsunglasses\\nUV Protection Round Sunglasses (54)\\n₹189₹1,09982% off',\n",
       " 'VINCENT CHASE\\nby Lenskart UV Protection Aviator Sunglasses (Free Size...\\n₹999₹1,99950% off\\nFree delivery',\n",
       " 'kingsunglasses\\nMirrored, UV Protection Wayfarer Sunglasses (53)\\n₹274₹1,99986% off',\n",
       " 'New Specs\\nUV Protection Rectangular Sunglasses (Free Size)\\n₹259₹1,99987% off',\n",
       " 'Fastrack\\nUV Protection Wayfarer Sunglasses (Free Size)\\n₹699₹89922% off\\nFree delivery',\n",
       " 'VINCENT CHASE\\nby Lenskart Polarized, UV Protection Aviator Sunglasses...\\n₹999₹2,50060% off\\nFree delivery',\n",
       " 'SHAAH COLLECTIONS\\nUV Protection, Polarized, Mirrored Rectangular Sunglass...\\n₹170₹1,69989% off',\n",
       " 'kingsunglasses\\nUV Protection, Riding Glasses, Mirrored Wayfarer Sungla...\\n₹187₹1,19984% off',\n",
       " 'ROZZETTA CRAFT\\nUV Protection Retro Square Sunglasses (Free Size)\\n₹474₹2,22578% off',\n",
       " 'VINCENT CHASE\\nby Lenskart UV Protection, Polarized Round Sunglasses (...\\n₹1,415₹1,99929% off\\nFree delivery',\n",
       " 'New Specs\\nMirrored, UV Protection, Riding Glasses, Others Round S...\\n₹259₹1,39981% off',\n",
       " 'PIRASO\\nUV Protection Aviator Sunglasses (54)\\n₹187₹1,59988% off',\n",
       " 'ROZZETTA CRAFT\\nUV Protection, Gradient Rectangular Sunglasses (Free Si...\\n₹383₹1,99980% off',\n",
       " 'VINCENT CHASE\\nby Lenskart Polarized, UV Protection Wayfarer Sunglasse...\\n₹1,415₹1,99929% off\\nFree delivery',\n",
       " 'PHENOMENAL\\nUV Protection, Mirrored Retro Square Sunglasses (53)\\n₹299₹1,99985% off',\n",
       " 'ROYAL SON\\nMirrored Aviator Sunglasses (55)\\n₹359₹1,49976% off',\n",
       " 'SUNBEE\\nUV Protection, Polarized, Mirrored Round Sunglasses (Fr...\\n₹271₹1,69984% off',\n",
       " 'VILLAIN\\nOthers Wayfarer Sunglasses (Free Size)\\n₹522₹99947% off\\nFree delivery',\n",
       " 'PIRASO\\nUV Protection, Polarized Aviator Sunglasses (32)\\n₹164₹1,59989% off',\n",
       " 'SHAAH COLLECTIONS\\nUV Protection, Polarized, Mirrored Rectangular Sunglass...\\n₹181₹99981% off',\n",
       " 'Rich Club\\nPolarized Round Sunglasses (48)\\n₹175₹49964% off',\n",
       " 'ROZZETTA CRAFT\\nUV Protection, Gradient Round Sunglasses (Free Size)\\n₹426₹2,66584% off',\n",
       " 'PHENOMENAL\\nUV Protection, Mirrored Clubmaster Sunglasses (Free Siz...\\n₹287₹1,99885% off',\n",
       " 'Singco India\\nMirrored, Riding Glasses, Others Sports Sunglasses (50)\\n₹194₹1,49987% off',\n",
       " 'PIRASO\\nUV Protection Wayfarer Sunglasses (32)\\n₹187₹1,59988% off',\n",
       " 'VINCENT CHASE\\nby Lenskart Polarized, UV Protection Aviator Sunglasses...\\n₹999₹2,50060% off\\nFree delivery',\n",
       " 'PIRASO\\nUV Protection Aviator Sunglasses (55)\\n₹179₹1,59988% off',\n",
       " 'ROYAL SON\\nUV Protection Rectangular Sunglasses (58)\\n₹449₹1,49970% off',\n",
       " 'kingsunglasses\\nMirrored, UV Protection Aviator Sunglasses (56)\\n₹211₹1,29983% off',\n",
       " 'ROYAL SON\\nPolarized, UV Protection Cat-eye Sunglasses (55)\\n₹649₹1,99967% off\\nFree delivery',\n",
       " 'Rich Club\\nPolarized Round Sunglasses (48)\\n₹175₹49964% off',\n",
       " 'Fastrack\\nUV Protection Rectangular Sunglasses (Free Size)\\n₹694₹79913% off\\nFree delivery',\n",
       " 'PIRASO\\nUV Protection Aviator Sunglasses (58)\\n₹299₹2,59988% off',\n",
       " 'VINCENT CHASE\\nby Lenskart Polarized, UV Protection Wayfarer Sunglasse...\\n₹999₹1,99950% off\\nFree delivery']"
      ]
     },
     "execution_count": 73,
     "metadata": {},
     "output_type": "execute_result"
    }
   ],
   "source": [
    "description_tag = driver.find_elements_by_xpath(\"//div[@class='_2B099V']\")\n",
    "description_tag\n",
    "\n",
    "for i in description_tag:\n",
    "    prod = i.text\n",
    "    Description.append(prod)\n",
    "Description"
   ]
  },
  {
   "cell_type": "code",
   "execution_count": 74,
   "metadata": {},
   "outputs": [
    {
     "name": "stderr",
     "output_type": "stream",
     "text": [
      "<ipython-input-74-51e29d8a9644>:1: DeprecationWarning: find_elements_by_* commands are deprecated. Please use find_elements() instead\n",
      "  price_tag = driver.find_elements_by_xpath(\"//div[@class='_30jeq3']\")\n"
     ]
    },
    {
     "data": {
      "text/plain": [
       "['₹320',\n",
       " '₹299',\n",
       " '₹188',\n",
       " '₹248',\n",
       " '₹200',\n",
       " '₹187',\n",
       " '₹189',\n",
       " '₹999',\n",
       " '₹274',\n",
       " '₹259',\n",
       " '₹699',\n",
       " '₹999',\n",
       " '₹170',\n",
       " '₹187',\n",
       " '₹474',\n",
       " '₹1,415',\n",
       " '₹259',\n",
       " '₹187',\n",
       " '₹383',\n",
       " '₹1,415',\n",
       " '₹299',\n",
       " '₹359',\n",
       " '₹271',\n",
       " '₹522',\n",
       " '₹164',\n",
       " '₹181',\n",
       " '₹175',\n",
       " '₹426',\n",
       " '₹287',\n",
       " '₹194',\n",
       " '₹187',\n",
       " '₹999',\n",
       " '₹179',\n",
       " '₹449',\n",
       " '₹211',\n",
       " '₹649',\n",
       " '₹175',\n",
       " '₹694',\n",
       " '₹299',\n",
       " '₹999']"
      ]
     },
     "execution_count": 74,
     "metadata": {},
     "output_type": "execute_result"
    }
   ],
   "source": [
    "price_tag = driver.find_elements_by_xpath(\"//div[@class='_30jeq3']\")\n",
    "price_tag\n",
    "\n",
    "for i in price_tag:\n",
    "    price = i.text\n",
    "    Price.append(price)\n",
    "Price"
   ]
  },
  {
   "cell_type": "code",
   "execution_count": 75,
   "metadata": {},
   "outputs": [
    {
     "name": "stderr",
     "output_type": "stream",
     "text": [
      "<ipython-input-75-8f9f48a05d71>:1: DeprecationWarning: find_elements_by_* commands are deprecated. Please use find_elements() instead\n",
      "  discount_tag = driver.find_elements_by_xpath(\"//div[@class='_3Ay6Sb']/span[1]\")\n"
     ]
    },
    {
     "data": {
      "text/plain": [
       "['81% off',\n",
       " '70% off',\n",
       " '85% off',\n",
       " '90% off',\n",
       " '87% off',\n",
       " '88% off',\n",
       " '82% off',\n",
       " '50% off',\n",
       " '86% off',\n",
       " '87% off',\n",
       " '22% off',\n",
       " '60% off',\n",
       " '89% off',\n",
       " '84% off',\n",
       " '78% off',\n",
       " '29% off',\n",
       " '81% off',\n",
       " '88% off',\n",
       " '80% off',\n",
       " '29% off',\n",
       " '85% off',\n",
       " '76% off',\n",
       " '84% off',\n",
       " '47% off',\n",
       " '89% off',\n",
       " '81% off',\n",
       " '64% off',\n",
       " '84% off',\n",
       " '85% off',\n",
       " '87% off',\n",
       " '88% off',\n",
       " '60% off',\n",
       " '88% off',\n",
       " '70% off',\n",
       " '83% off',\n",
       " '67% off',\n",
       " '64% off',\n",
       " '13% off',\n",
       " '88% off',\n",
       " '50% off']"
      ]
     },
     "execution_count": 75,
     "metadata": {},
     "output_type": "execute_result"
    }
   ],
   "source": [
    "discount_tag = driver.find_elements_by_xpath(\"//div[@class='_3Ay6Sb']/span[1]\")\n",
    "discount_tag\n",
    "\n",
    "for i in discount_tag:\n",
    "    dis = i.text\n",
    "    Discount.append(dis)\n",
    "Discount"
   ]
  },
  {
   "cell_type": "code",
   "execution_count": 76,
   "metadata": {},
   "outputs": [
    {
     "name": "stdout",
     "output_type": "stream",
     "text": [
      "40 40 40 40\n"
     ]
    }
   ],
   "source": [
    "print(len(Brand),len(Description),len(Price),len(Discount))"
   ]
  },
  {
   "cell_type": "code",
   "execution_count": 77,
   "metadata": {},
   "outputs": [
    {
     "data": {
      "text/html": [
       "<div>\n",
       "<style scoped>\n",
       "    .dataframe tbody tr th:only-of-type {\n",
       "        vertical-align: middle;\n",
       "    }\n",
       "\n",
       "    .dataframe tbody tr th {\n",
       "        vertical-align: top;\n",
       "    }\n",
       "\n",
       "    .dataframe thead th {\n",
       "        text-align: right;\n",
       "    }\n",
       "</style>\n",
       "<table border=\"1\" class=\"dataframe\">\n",
       "  <thead>\n",
       "    <tr style=\"text-align: right;\">\n",
       "      <th></th>\n",
       "      <th>Brand</th>\n",
       "      <th>Description</th>\n",
       "      <th>Price</th>\n",
       "      <th>Discount</th>\n",
       "    </tr>\n",
       "  </thead>\n",
       "  <tbody>\n",
       "    <tr>\n",
       "      <th>0</th>\n",
       "      <td>Sewell</td>\n",
       "      <td>Sewell\\nUV Protection Aviator Sunglasses (Free...</td>\n",
       "      <td>₹320</td>\n",
       "      <td>81% off</td>\n",
       "    </tr>\n",
       "    <tr>\n",
       "      <th>1</th>\n",
       "      <td>Sewell</td>\n",
       "      <td>Sewell\\nUV Protection Aviator Sunglasses (Free...</td>\n",
       "      <td>₹299</td>\n",
       "      <td>70% off</td>\n",
       "    </tr>\n",
       "    <tr>\n",
       "      <th>2</th>\n",
       "      <td>SRPM</td>\n",
       "      <td>SRPM\\nUV Protection Wayfarer Sunglasses (56)\\n...</td>\n",
       "      <td>₹188</td>\n",
       "      <td>85% off</td>\n",
       "    </tr>\n",
       "    <tr>\n",
       "      <th>3</th>\n",
       "      <td>Elligator</td>\n",
       "      <td>Elligator\\nUV Protection Round Sunglasses (54)...</td>\n",
       "      <td>₹248</td>\n",
       "      <td>90% off</td>\n",
       "    </tr>\n",
       "    <tr>\n",
       "      <th>4</th>\n",
       "      <td>PIRASO</td>\n",
       "      <td>PIRASO\\nUV Protection Aviator Sunglasses (54)\\...</td>\n",
       "      <td>₹200</td>\n",
       "      <td>87% off</td>\n",
       "    </tr>\n",
       "    <tr>\n",
       "      <th>5</th>\n",
       "      <td>PIRASO</td>\n",
       "      <td>PIRASO\\nUV Protection Aviator Sunglasses (54)\\...</td>\n",
       "      <td>₹187</td>\n",
       "      <td>88% off</td>\n",
       "    </tr>\n",
       "    <tr>\n",
       "      <th>6</th>\n",
       "      <td>kingsunglasses</td>\n",
       "      <td>kingsunglasses\\nUV Protection Round Sunglasses...</td>\n",
       "      <td>₹189</td>\n",
       "      <td>82% off</td>\n",
       "    </tr>\n",
       "    <tr>\n",
       "      <th>7</th>\n",
       "      <td>VINCENT CHASE</td>\n",
       "      <td>VINCENT CHASE\\nby Lenskart UV Protection Aviat...</td>\n",
       "      <td>₹999</td>\n",
       "      <td>50% off</td>\n",
       "    </tr>\n",
       "    <tr>\n",
       "      <th>8</th>\n",
       "      <td>kingsunglasses</td>\n",
       "      <td>kingsunglasses\\nMirrored, UV Protection Wayfar...</td>\n",
       "      <td>₹274</td>\n",
       "      <td>86% off</td>\n",
       "    </tr>\n",
       "    <tr>\n",
       "      <th>9</th>\n",
       "      <td>New Specs</td>\n",
       "      <td>New Specs\\nUV Protection Rectangular Sunglasse...</td>\n",
       "      <td>₹259</td>\n",
       "      <td>87% off</td>\n",
       "    </tr>\n",
       "    <tr>\n",
       "      <th>10</th>\n",
       "      <td>Fastrack</td>\n",
       "      <td>Fastrack\\nUV Protection Wayfarer Sunglasses (F...</td>\n",
       "      <td>₹699</td>\n",
       "      <td>22% off</td>\n",
       "    </tr>\n",
       "    <tr>\n",
       "      <th>11</th>\n",
       "      <td>VINCENT CHASE</td>\n",
       "      <td>VINCENT CHASE\\nby Lenskart Polarized, UV Prote...</td>\n",
       "      <td>₹999</td>\n",
       "      <td>60% off</td>\n",
       "    </tr>\n",
       "    <tr>\n",
       "      <th>12</th>\n",
       "      <td>SHAAH COLLECTIONS</td>\n",
       "      <td>SHAAH COLLECTIONS\\nUV Protection, Polarized, M...</td>\n",
       "      <td>₹170</td>\n",
       "      <td>89% off</td>\n",
       "    </tr>\n",
       "    <tr>\n",
       "      <th>13</th>\n",
       "      <td>kingsunglasses</td>\n",
       "      <td>kingsunglasses\\nUV Protection, Riding Glasses,...</td>\n",
       "      <td>₹187</td>\n",
       "      <td>84% off</td>\n",
       "    </tr>\n",
       "    <tr>\n",
       "      <th>14</th>\n",
       "      <td>ROZZETTA CRAFT</td>\n",
       "      <td>ROZZETTA CRAFT\\nUV Protection Retro Square Sun...</td>\n",
       "      <td>₹474</td>\n",
       "      <td>78% off</td>\n",
       "    </tr>\n",
       "    <tr>\n",
       "      <th>15</th>\n",
       "      <td>VINCENT CHASE</td>\n",
       "      <td>VINCENT CHASE\\nby Lenskart UV Protection, Pola...</td>\n",
       "      <td>₹1,415</td>\n",
       "      <td>29% off</td>\n",
       "    </tr>\n",
       "    <tr>\n",
       "      <th>16</th>\n",
       "      <td>New Specs</td>\n",
       "      <td>New Specs\\nMirrored, UV Protection, Riding Gla...</td>\n",
       "      <td>₹259</td>\n",
       "      <td>81% off</td>\n",
       "    </tr>\n",
       "    <tr>\n",
       "      <th>17</th>\n",
       "      <td>PIRASO</td>\n",
       "      <td>PIRASO\\nUV Protection Aviator Sunglasses (54)\\...</td>\n",
       "      <td>₹187</td>\n",
       "      <td>88% off</td>\n",
       "    </tr>\n",
       "    <tr>\n",
       "      <th>18</th>\n",
       "      <td>ROZZETTA CRAFT</td>\n",
       "      <td>ROZZETTA CRAFT\\nUV Protection, Gradient Rectan...</td>\n",
       "      <td>₹383</td>\n",
       "      <td>80% off</td>\n",
       "    </tr>\n",
       "    <tr>\n",
       "      <th>19</th>\n",
       "      <td>VINCENT CHASE</td>\n",
       "      <td>VINCENT CHASE\\nby Lenskart Polarized, UV Prote...</td>\n",
       "      <td>₹1,415</td>\n",
       "      <td>29% off</td>\n",
       "    </tr>\n",
       "    <tr>\n",
       "      <th>20</th>\n",
       "      <td>PHENOMENAL</td>\n",
       "      <td>PHENOMENAL\\nUV Protection, Mirrored Retro Squa...</td>\n",
       "      <td>₹299</td>\n",
       "      <td>85% off</td>\n",
       "    </tr>\n",
       "    <tr>\n",
       "      <th>21</th>\n",
       "      <td>ROYAL SON</td>\n",
       "      <td>ROYAL SON\\nMirrored Aviator Sunglasses (55)\\n₹...</td>\n",
       "      <td>₹359</td>\n",
       "      <td>76% off</td>\n",
       "    </tr>\n",
       "    <tr>\n",
       "      <th>22</th>\n",
       "      <td>SUNBEE</td>\n",
       "      <td>SUNBEE\\nUV Protection, Polarized, Mirrored Rou...</td>\n",
       "      <td>₹271</td>\n",
       "      <td>84% off</td>\n",
       "    </tr>\n",
       "    <tr>\n",
       "      <th>23</th>\n",
       "      <td>VILLAIN</td>\n",
       "      <td>VILLAIN\\nOthers Wayfarer Sunglasses (Free Size...</td>\n",
       "      <td>₹522</td>\n",
       "      <td>47% off</td>\n",
       "    </tr>\n",
       "    <tr>\n",
       "      <th>24</th>\n",
       "      <td>PIRASO</td>\n",
       "      <td>PIRASO\\nUV Protection, Polarized Aviator Sungl...</td>\n",
       "      <td>₹164</td>\n",
       "      <td>89% off</td>\n",
       "    </tr>\n",
       "    <tr>\n",
       "      <th>25</th>\n",
       "      <td>SHAAH COLLECTIONS</td>\n",
       "      <td>SHAAH COLLECTIONS\\nUV Protection, Polarized, M...</td>\n",
       "      <td>₹181</td>\n",
       "      <td>81% off</td>\n",
       "    </tr>\n",
       "    <tr>\n",
       "      <th>26</th>\n",
       "      <td>Rich Club</td>\n",
       "      <td>Rich Club\\nPolarized Round Sunglasses (48)\\n₹1...</td>\n",
       "      <td>₹175</td>\n",
       "      <td>64% off</td>\n",
       "    </tr>\n",
       "    <tr>\n",
       "      <th>27</th>\n",
       "      <td>ROZZETTA CRAFT</td>\n",
       "      <td>ROZZETTA CRAFT\\nUV Protection, Gradient Round ...</td>\n",
       "      <td>₹426</td>\n",
       "      <td>84% off</td>\n",
       "    </tr>\n",
       "    <tr>\n",
       "      <th>28</th>\n",
       "      <td>PHENOMENAL</td>\n",
       "      <td>PHENOMENAL\\nUV Protection, Mirrored Clubmaster...</td>\n",
       "      <td>₹287</td>\n",
       "      <td>85% off</td>\n",
       "    </tr>\n",
       "    <tr>\n",
       "      <th>29</th>\n",
       "      <td>Singco India</td>\n",
       "      <td>Singco India\\nMirrored, Riding Glasses, Others...</td>\n",
       "      <td>₹194</td>\n",
       "      <td>87% off</td>\n",
       "    </tr>\n",
       "    <tr>\n",
       "      <th>30</th>\n",
       "      <td>PIRASO</td>\n",
       "      <td>PIRASO\\nUV Protection Wayfarer Sunglasses (32)...</td>\n",
       "      <td>₹187</td>\n",
       "      <td>88% off</td>\n",
       "    </tr>\n",
       "    <tr>\n",
       "      <th>31</th>\n",
       "      <td>VINCENT CHASE</td>\n",
       "      <td>VINCENT CHASE\\nby Lenskart Polarized, UV Prote...</td>\n",
       "      <td>₹999</td>\n",
       "      <td>60% off</td>\n",
       "    </tr>\n",
       "    <tr>\n",
       "      <th>32</th>\n",
       "      <td>PIRASO</td>\n",
       "      <td>PIRASO\\nUV Protection Aviator Sunglasses (55)\\...</td>\n",
       "      <td>₹179</td>\n",
       "      <td>88% off</td>\n",
       "    </tr>\n",
       "    <tr>\n",
       "      <th>33</th>\n",
       "      <td>ROYAL SON</td>\n",
       "      <td>ROYAL SON\\nUV Protection Rectangular Sunglasse...</td>\n",
       "      <td>₹449</td>\n",
       "      <td>70% off</td>\n",
       "    </tr>\n",
       "    <tr>\n",
       "      <th>34</th>\n",
       "      <td>kingsunglasses</td>\n",
       "      <td>kingsunglasses\\nMirrored, UV Protection Aviato...</td>\n",
       "      <td>₹211</td>\n",
       "      <td>83% off</td>\n",
       "    </tr>\n",
       "    <tr>\n",
       "      <th>35</th>\n",
       "      <td>ROYAL SON</td>\n",
       "      <td>ROYAL SON\\nPolarized, UV Protection Cat-eye Su...</td>\n",
       "      <td>₹649</td>\n",
       "      <td>67% off</td>\n",
       "    </tr>\n",
       "    <tr>\n",
       "      <th>36</th>\n",
       "      <td>Rich Club</td>\n",
       "      <td>Rich Club\\nPolarized Round Sunglasses (48)\\n₹1...</td>\n",
       "      <td>₹175</td>\n",
       "      <td>64% off</td>\n",
       "    </tr>\n",
       "    <tr>\n",
       "      <th>37</th>\n",
       "      <td>Fastrack</td>\n",
       "      <td>Fastrack\\nUV Protection Rectangular Sunglasses...</td>\n",
       "      <td>₹694</td>\n",
       "      <td>13% off</td>\n",
       "    </tr>\n",
       "    <tr>\n",
       "      <th>38</th>\n",
       "      <td>PIRASO</td>\n",
       "      <td>PIRASO\\nUV Protection Aviator Sunglasses (58)\\...</td>\n",
       "      <td>₹299</td>\n",
       "      <td>88% off</td>\n",
       "    </tr>\n",
       "    <tr>\n",
       "      <th>39</th>\n",
       "      <td>VINCENT CHASE</td>\n",
       "      <td>VINCENT CHASE\\nby Lenskart Polarized, UV Prote...</td>\n",
       "      <td>₹999</td>\n",
       "      <td>50% off</td>\n",
       "    </tr>\n",
       "  </tbody>\n",
       "</table>\n",
       "</div>"
      ],
      "text/plain": [
       "                Brand                                        Description  \\\n",
       "0              Sewell  Sewell\\nUV Protection Aviator Sunglasses (Free...   \n",
       "1              Sewell  Sewell\\nUV Protection Aviator Sunglasses (Free...   \n",
       "2                SRPM  SRPM\\nUV Protection Wayfarer Sunglasses (56)\\n...   \n",
       "3           Elligator  Elligator\\nUV Protection Round Sunglasses (54)...   \n",
       "4              PIRASO  PIRASO\\nUV Protection Aviator Sunglasses (54)\\...   \n",
       "5              PIRASO  PIRASO\\nUV Protection Aviator Sunglasses (54)\\...   \n",
       "6      kingsunglasses  kingsunglasses\\nUV Protection Round Sunglasses...   \n",
       "7       VINCENT CHASE  VINCENT CHASE\\nby Lenskart UV Protection Aviat...   \n",
       "8      kingsunglasses  kingsunglasses\\nMirrored, UV Protection Wayfar...   \n",
       "9           New Specs  New Specs\\nUV Protection Rectangular Sunglasse...   \n",
       "10           Fastrack  Fastrack\\nUV Protection Wayfarer Sunglasses (F...   \n",
       "11      VINCENT CHASE  VINCENT CHASE\\nby Lenskart Polarized, UV Prote...   \n",
       "12  SHAAH COLLECTIONS  SHAAH COLLECTIONS\\nUV Protection, Polarized, M...   \n",
       "13     kingsunglasses  kingsunglasses\\nUV Protection, Riding Glasses,...   \n",
       "14     ROZZETTA CRAFT  ROZZETTA CRAFT\\nUV Protection Retro Square Sun...   \n",
       "15      VINCENT CHASE  VINCENT CHASE\\nby Lenskart UV Protection, Pola...   \n",
       "16          New Specs  New Specs\\nMirrored, UV Protection, Riding Gla...   \n",
       "17             PIRASO  PIRASO\\nUV Protection Aviator Sunglasses (54)\\...   \n",
       "18     ROZZETTA CRAFT  ROZZETTA CRAFT\\nUV Protection, Gradient Rectan...   \n",
       "19      VINCENT CHASE  VINCENT CHASE\\nby Lenskart Polarized, UV Prote...   \n",
       "20         PHENOMENAL  PHENOMENAL\\nUV Protection, Mirrored Retro Squa...   \n",
       "21          ROYAL SON  ROYAL SON\\nMirrored Aviator Sunglasses (55)\\n₹...   \n",
       "22             SUNBEE  SUNBEE\\nUV Protection, Polarized, Mirrored Rou...   \n",
       "23            VILLAIN  VILLAIN\\nOthers Wayfarer Sunglasses (Free Size...   \n",
       "24             PIRASO  PIRASO\\nUV Protection, Polarized Aviator Sungl...   \n",
       "25  SHAAH COLLECTIONS  SHAAH COLLECTIONS\\nUV Protection, Polarized, M...   \n",
       "26          Rich Club  Rich Club\\nPolarized Round Sunglasses (48)\\n₹1...   \n",
       "27     ROZZETTA CRAFT  ROZZETTA CRAFT\\nUV Protection, Gradient Round ...   \n",
       "28         PHENOMENAL  PHENOMENAL\\nUV Protection, Mirrored Clubmaster...   \n",
       "29       Singco India  Singco India\\nMirrored, Riding Glasses, Others...   \n",
       "30             PIRASO  PIRASO\\nUV Protection Wayfarer Sunglasses (32)...   \n",
       "31      VINCENT CHASE  VINCENT CHASE\\nby Lenskart Polarized, UV Prote...   \n",
       "32             PIRASO  PIRASO\\nUV Protection Aviator Sunglasses (55)\\...   \n",
       "33          ROYAL SON  ROYAL SON\\nUV Protection Rectangular Sunglasse...   \n",
       "34     kingsunglasses  kingsunglasses\\nMirrored, UV Protection Aviato...   \n",
       "35          ROYAL SON  ROYAL SON\\nPolarized, UV Protection Cat-eye Su...   \n",
       "36          Rich Club  Rich Club\\nPolarized Round Sunglasses (48)\\n₹1...   \n",
       "37           Fastrack  Fastrack\\nUV Protection Rectangular Sunglasses...   \n",
       "38             PIRASO  PIRASO\\nUV Protection Aviator Sunglasses (58)\\...   \n",
       "39      VINCENT CHASE  VINCENT CHASE\\nby Lenskart Polarized, UV Prote...   \n",
       "\n",
       "     Price Discount  \n",
       "0     ₹320  81% off  \n",
       "1     ₹299  70% off  \n",
       "2     ₹188  85% off  \n",
       "3     ₹248  90% off  \n",
       "4     ₹200  87% off  \n",
       "5     ₹187  88% off  \n",
       "6     ₹189  82% off  \n",
       "7     ₹999  50% off  \n",
       "8     ₹274  86% off  \n",
       "9     ₹259  87% off  \n",
       "10    ₹699  22% off  \n",
       "11    ₹999  60% off  \n",
       "12    ₹170  89% off  \n",
       "13    ₹187  84% off  \n",
       "14    ₹474  78% off  \n",
       "15  ₹1,415  29% off  \n",
       "16    ₹259  81% off  \n",
       "17    ₹187  88% off  \n",
       "18    ₹383  80% off  \n",
       "19  ₹1,415  29% off  \n",
       "20    ₹299  85% off  \n",
       "21    ₹359  76% off  \n",
       "22    ₹271  84% off  \n",
       "23    ₹522  47% off  \n",
       "24    ₹164  89% off  \n",
       "25    ₹181  81% off  \n",
       "26    ₹175  64% off  \n",
       "27    ₹426  84% off  \n",
       "28    ₹287  85% off  \n",
       "29    ₹194  87% off  \n",
       "30    ₹187  88% off  \n",
       "31    ₹999  60% off  \n",
       "32    ₹179  88% off  \n",
       "33    ₹449  70% off  \n",
       "34    ₹211  83% off  \n",
       "35    ₹649  67% off  \n",
       "36    ₹175  64% off  \n",
       "37    ₹694  13% off  \n",
       "38    ₹299  88% off  \n",
       "39    ₹999  50% off  "
      ]
     },
     "execution_count": 77,
     "metadata": {},
     "output_type": "execute_result"
    }
   ],
   "source": [
    "my_data = pd.DataFrame({})\n",
    "my_data['Brand'] = Brand\n",
    "my_data['Description'] = Description\n",
    "my_data['Price'] = Price\n",
    "my_data['Discount'] = Discount\n",
    "\n",
    "my_data"
   ]
  },
  {
   "cell_type": "markdown",
   "metadata": {},
   "source": [
    "# QUESTION 5"
   ]
  },
  {
   "cell_type": "code",
   "execution_count": 78,
   "metadata": {},
   "outputs": [
    {
     "name": "stderr",
     "output_type": "stream",
     "text": [
      "<ipython-input-78-f5e291cbc091>:1: DeprecationWarning: executable_path has been deprecated, please pass in a Service object\n",
      "  driver = webdriver.Chrome('C:/Users/Kishan/Downloads/chromedriver_win32/chromedriver.exe')\n"
     ]
    }
   ],
   "source": [
    "driver = webdriver.Chrome('C:/Users/Kishan/Downloads/chromedriver_win32/chromedriver.exe')"
   ]
  },
  {
   "cell_type": "code",
   "execution_count": 79,
   "metadata": {},
   "outputs": [],
   "source": [
    "driver.get('https://www.flipkart.com/apple-iphone-11-black-64-gb-includes-earpods-power-adapter/product-reviews/itm0f37c2240b217?pid=MOBFKCTSVZAXUHGR&lid=LSTMOBFKCTSVZAXUHGREPBFGI&marketplace=FLIPKART')"
   ]
  },
  {
   "cell_type": "code",
   "execution_count": 80,
   "metadata": {},
   "outputs": [
    {
     "name": "stderr",
     "output_type": "stream",
     "text": [
      "<ipython-input-80-f0c9e3748c0e>:3: DeprecationWarning: find_elements_by_* commands are deprecated. Please use find_elements() instead\n",
      "  tag = driver.find_elements_by_xpath(\"//div[@class='_3LWZlK _1BLPMq']\")\n"
     ]
    },
    {
     "data": {
      "text/plain": [
       "['5', '5', '5', '5', '5', '5', '5', '4', '5', '5']"
      ]
     },
     "execution_count": 80,
     "metadata": {},
     "output_type": "execute_result"
    }
   ],
   "source": [
    "Rating =[]\n",
    "\n",
    "tag = driver.find_elements_by_xpath(\"//div[@class='_3LWZlK _1BLPMq']\")\n",
    "tag\n",
    "\n",
    "for i in tag:\n",
    "    rating = i.text\n",
    "    Rating.append(rating)\n",
    "Rating"
   ]
  },
  {
   "cell_type": "code",
   "execution_count": 81,
   "metadata": {},
   "outputs": [
    {
     "name": "stderr",
     "output_type": "stream",
     "text": [
      "<ipython-input-81-a38540065916>:3: DeprecationWarning: find_elements_by_* commands are deprecated. Please use find_elements() instead\n",
      "  rev = driver.find_elements_by_xpath(\"//p[@class='_2-N8zT']\")\n"
     ]
    },
    {
     "data": {
      "text/plain": [
       "['Brilliant',\n",
       " 'Simply awesome',\n",
       " 'Best in the market!',\n",
       " 'Perfect product!',\n",
       " 'Worth every penny',\n",
       " 'Fabulous!',\n",
       " 'Great product',\n",
       " 'Good choice',\n",
       " 'Worth every penny',\n",
       " 'Highly recommended']"
      ]
     },
     "execution_count": 81,
     "metadata": {},
     "output_type": "execute_result"
    }
   ],
   "source": [
    "Review_summary =[]\n",
    "\n",
    "rev = driver.find_elements_by_xpath(\"//p[@class='_2-N8zT']\")\n",
    "rev\n",
    "\n",
    "for i in rev:\n",
    "    review = i.text\n",
    "    Review_summary.append(review)\n",
    "Review_summary"
   ]
  },
  {
   "cell_type": "code",
   "execution_count": 82,
   "metadata": {},
   "outputs": [
    {
     "name": "stderr",
     "output_type": "stream",
     "text": [
      "<ipython-input-82-1236d1a6cf1d>:4: DeprecationWarning: find_elements_by_* commands are deprecated. Please use find_elements() instead\n",
      "  Freview = driver.find_elements_by_xpath(\"//div[@class='t-ZTKy']\")\n"
     ]
    },
    {
     "data": {
      "text/plain": [
       "['The Best Phone for the Money\\n\\nThe iPhone 11 offers superb cameras, a more durable design and excellent battery life for an affordable price.\\n\\nCompelling ultra-wide camera\\nNew Night mode is excellent\\nLong battery life',\n",
       " 'Really satisfied with the Product I received... It’s totally genuine and the packaging was also really good so if ur planning to buy just go for it.',\n",
       " 'Great iPhone very snappy experience as apple kind. Upgraded from iPhone 7.\\nPros\\n-Camera top class\\n- Battery top performed\\n-Chipset no need to say as apple kind\\n-Security as you expect from apple\\n- Display super bright industry leading colour\\naccuracy and super responsive\\n-Build quality as expect from apple sturdy\\npremium durable beautiful stylish.\\n-Os most stable os in smartphone industry\\n\\nCons\\n-No 5G\\n-Display is not based on OLED technology\\n-Charger headphones and 1 apple stic...\\nREAD MORE',\n",
       " 'Amazing phone with great cameras and better battery which gives you the best performance. I just love the camera .',\n",
       " 'Previously I was using one plus 3t it was a great phone\\nAnd then I decided to upgrade I am stuck between Samsung s10 plus or iPhone 11\\nI have seen the specs and everything were good except the display it’s somewhere between 720-1080 and it’s not even an amoled it’s an LCD display\\nBut I decided to go with iPhone because I have never used an IOS device I have Been an android user from the past 9 years I ordered IPhone 11 (128gb) product red\\nMy experience after using 3 weeks\\n1. The delivery ...\\nREAD MORE',\n",
       " 'This is my first iOS phone. I am very happy with this product. Very much satisfied with this. I love this phone.',\n",
       " 'Amazing Powerful and Durable Gadget.\\n\\nI’m am very happy with the camera picture quality, Amazing face id unlocked in dark room, Strong battery with perfect screen size as you can carry easily in pocket. This is my third iPhone.\\n\\nI shifted from android Samsung Note series to iPhone because of the strong build quality and peace of mind for next 3-4 years.\\n\\nDon’t think to much just go for it and I suggest you to go for minimum 128gb variant or more 256gb.\\n\\nI’ve attached my puppy pics and no fi...\\nREAD MORE',\n",
       " 'So far it’s been an AMAZING experience coming back to iOS after nearly a decade but it’s not as versatile as android though phone is sturdy dropped it accidentally a couple of times and nothing happened fortunately camera is awesome',\n",
       " 'i11 is worthy to buy, too much happy with the product. Thank u flipkart I received the item on time..loved it..',\n",
       " 'iphone 11 is a very good phone to buy only if you can compromise for the display. The display on this is device is pretty good but you can get other options with better displays in this price segment.\\nIf you can survive with an HD+ LCD panel with thicker bezels and a notch up top then this is a very good phone for you.\\nCameras are awesome, battery backup excellent, great performance and a decent premium look. Good job Apple !']"
      ]
     },
     "execution_count": 82,
     "metadata": {},
     "output_type": "execute_result"
    }
   ],
   "source": [
    "FUll_review =[]\n",
    "\n",
    "\n",
    "Freview = driver.find_elements_by_xpath(\"//div[@class='t-ZTKy']\")\n",
    "Freview\n",
    "\n",
    "for i in Freview:\n",
    "    full = i.text\n",
    "    FUll_review.append(full)\n",
    "FUll_review"
   ]
  },
  {
   "cell_type": "code",
   "execution_count": 83,
   "metadata": {},
   "outputs": [
    {
     "name": "stdout",
     "output_type": "stream",
     "text": [
      "10 10 10\n"
     ]
    }
   ],
   "source": [
    "print(len(Rating),len(Review_summary),len(FUll_review))"
   ]
  },
  {
   "cell_type": "code",
   "execution_count": 84,
   "metadata": {},
   "outputs": [
    {
     "data": {
      "text/html": [
       "<div>\n",
       "<style scoped>\n",
       "    .dataframe tbody tr th:only-of-type {\n",
       "        vertical-align: middle;\n",
       "    }\n",
       "\n",
       "    .dataframe tbody tr th {\n",
       "        vertical-align: top;\n",
       "    }\n",
       "\n",
       "    .dataframe thead th {\n",
       "        text-align: right;\n",
       "    }\n",
       "</style>\n",
       "<table border=\"1\" class=\"dataframe\">\n",
       "  <thead>\n",
       "    <tr style=\"text-align: right;\">\n",
       "      <th></th>\n",
       "      <th>Rating</th>\n",
       "      <th>Review_summary</th>\n",
       "      <th>Full_review</th>\n",
       "    </tr>\n",
       "  </thead>\n",
       "  <tbody>\n",
       "    <tr>\n",
       "      <th>0</th>\n",
       "      <td>5</td>\n",
       "      <td>Brilliant</td>\n",
       "      <td>The Best Phone for the Money\\n\\nThe iPhone 11 ...</td>\n",
       "    </tr>\n",
       "    <tr>\n",
       "      <th>1</th>\n",
       "      <td>5</td>\n",
       "      <td>Simply awesome</td>\n",
       "      <td>Really satisfied with the Product I received.....</td>\n",
       "    </tr>\n",
       "    <tr>\n",
       "      <th>2</th>\n",
       "      <td>5</td>\n",
       "      <td>Best in the market!</td>\n",
       "      <td>Great iPhone very snappy experience as apple k...</td>\n",
       "    </tr>\n",
       "    <tr>\n",
       "      <th>3</th>\n",
       "      <td>5</td>\n",
       "      <td>Perfect product!</td>\n",
       "      <td>Amazing phone with great cameras and better ba...</td>\n",
       "    </tr>\n",
       "    <tr>\n",
       "      <th>4</th>\n",
       "      <td>5</td>\n",
       "      <td>Worth every penny</td>\n",
       "      <td>Previously I was using one plus 3t it was a gr...</td>\n",
       "    </tr>\n",
       "    <tr>\n",
       "      <th>5</th>\n",
       "      <td>5</td>\n",
       "      <td>Fabulous!</td>\n",
       "      <td>This is my first iOS phone. I am very happy wi...</td>\n",
       "    </tr>\n",
       "    <tr>\n",
       "      <th>6</th>\n",
       "      <td>5</td>\n",
       "      <td>Great product</td>\n",
       "      <td>Amazing Powerful and Durable Gadget.\\n\\nI’m am...</td>\n",
       "    </tr>\n",
       "    <tr>\n",
       "      <th>7</th>\n",
       "      <td>4</td>\n",
       "      <td>Good choice</td>\n",
       "      <td>So far it’s been an AMAZING experience coming ...</td>\n",
       "    </tr>\n",
       "    <tr>\n",
       "      <th>8</th>\n",
       "      <td>5</td>\n",
       "      <td>Worth every penny</td>\n",
       "      <td>i11 is worthy to buy, too much happy with the ...</td>\n",
       "    </tr>\n",
       "    <tr>\n",
       "      <th>9</th>\n",
       "      <td>5</td>\n",
       "      <td>Highly recommended</td>\n",
       "      <td>iphone 11 is a very good phone to buy only if ...</td>\n",
       "    </tr>\n",
       "  </tbody>\n",
       "</table>\n",
       "</div>"
      ],
      "text/plain": [
       "  Rating       Review_summary  \\\n",
       "0      5            Brilliant   \n",
       "1      5       Simply awesome   \n",
       "2      5  Best in the market!   \n",
       "3      5     Perfect product!   \n",
       "4      5    Worth every penny   \n",
       "5      5            Fabulous!   \n",
       "6      5        Great product   \n",
       "7      4          Good choice   \n",
       "8      5    Worth every penny   \n",
       "9      5   Highly recommended   \n",
       "\n",
       "                                         Full_review  \n",
       "0  The Best Phone for the Money\\n\\nThe iPhone 11 ...  \n",
       "1  Really satisfied with the Product I received.....  \n",
       "2  Great iPhone very snappy experience as apple k...  \n",
       "3  Amazing phone with great cameras and better ba...  \n",
       "4  Previously I was using one plus 3t it was a gr...  \n",
       "5  This is my first iOS phone. I am very happy wi...  \n",
       "6  Amazing Powerful and Durable Gadget.\\n\\nI’m am...  \n",
       "7  So far it’s been an AMAZING experience coming ...  \n",
       "8  i11 is worthy to buy, too much happy with the ...  \n",
       "9  iphone 11 is a very good phone to buy only if ...  "
      ]
     },
     "execution_count": 84,
     "metadata": {},
     "output_type": "execute_result"
    }
   ],
   "source": [
    "my_data = pd.DataFrame({})\n",
    "my_data['Rating'] = Rating \n",
    "my_data['Review_summary'] = Review_summary\n",
    "my_data['Full_review'] = FUll_review\n",
    "my_data"
   ]
  },
  {
   "cell_type": "code",
   "execution_count": 86,
   "metadata": {},
   "outputs": [
    {
     "name": "stderr",
     "output_type": "stream",
     "text": [
      "<ipython-input-86-f0ec1ee748bf>:1: DeprecationWarning: find_element_by_* commands are deprecated. Please use find_element() instead\n",
      "  search_btn = driver.find_element_by_xpath(\"//a[@class='ge-49M']\")\n"
     ]
    }
   ],
   "source": [
    "search_btn = driver.find_element_by_xpath(\"//a[@class='ge-49M']\")\n",
    "search_btn.click()"
   ]
  },
  {
   "cell_type": "code",
   "execution_count": 87,
   "metadata": {},
   "outputs": [
    {
     "name": "stderr",
     "output_type": "stream",
     "text": [
      "<ipython-input-87-c390fee7cb10>:1: DeprecationWarning: find_elements_by_* commands are deprecated. Please use find_elements() instead\n",
      "  tag = driver.find_elements_by_xpath(\"//div[@class='_3LWZlK _1BLPMq']\")\n"
     ]
    },
    {
     "data": {
      "text/plain": [
       "['5',\n",
       " '5',\n",
       " '5',\n",
       " '5',\n",
       " '5',\n",
       " '5',\n",
       " '5',\n",
       " '4',\n",
       " '5',\n",
       " '5',\n",
       " '5',\n",
       " '5',\n",
       " '5',\n",
       " '5',\n",
       " '5',\n",
       " '5',\n",
       " '5',\n",
       " '5',\n",
       " '5',\n",
       " '5']"
      ]
     },
     "execution_count": 87,
     "metadata": {},
     "output_type": "execute_result"
    }
   ],
   "source": [
    "tag = driver.find_elements_by_xpath(\"//div[@class='_3LWZlK _1BLPMq']\")\n",
    "tag\n",
    "\n",
    "for i in tag:\n",
    "    rating = i.text\n",
    "    Rating.append(rating)\n",
    "Rating\n",
    "\n"
   ]
  },
  {
   "cell_type": "code",
   "execution_count": 88,
   "metadata": {},
   "outputs": [
    {
     "name": "stderr",
     "output_type": "stream",
     "text": [
      "<ipython-input-88-b7e9a4821084>:1: DeprecationWarning: find_elements_by_* commands are deprecated. Please use find_elements() instead\n",
      "  rev = driver.find_elements_by_xpath(\"//p[@class='_2-N8zT']\")\n"
     ]
    },
    {
     "data": {
      "text/plain": [
       "['Brilliant',\n",
       " 'Simply awesome',\n",
       " 'Best in the market!',\n",
       " 'Perfect product!',\n",
       " 'Worth every penny',\n",
       " 'Fabulous!',\n",
       " 'Great product',\n",
       " 'Good choice',\n",
       " 'Worth every penny',\n",
       " 'Highly recommended',\n",
       " 'Highly recommended',\n",
       " 'Perfect product!',\n",
       " 'Perfect product!',\n",
       " 'Classy product',\n",
       " 'Perfect product!',\n",
       " 'Worth every penny',\n",
       " 'Highly recommended',\n",
       " 'Simply awesome',\n",
       " 'Worth every penny',\n",
       " 'Worth every penny']"
      ]
     },
     "execution_count": 88,
     "metadata": {},
     "output_type": "execute_result"
    }
   ],
   "source": [
    "rev = driver.find_elements_by_xpath(\"//p[@class='_2-N8zT']\")\n",
    "rev\n",
    "\n",
    "for i in rev:\n",
    "    review = i.text\n",
    "    Review_summary.append(review)\n",
    "Review_summary"
   ]
  },
  {
   "cell_type": "code",
   "execution_count": 89,
   "metadata": {},
   "outputs": [
    {
     "name": "stderr",
     "output_type": "stream",
     "text": [
      "<ipython-input-89-88ed5a0997ff>:1: DeprecationWarning: find_elements_by_* commands are deprecated. Please use find_elements() instead\n",
      "  Freview = driver.find_elements_by_xpath(\"//div[@class='t-ZTKy']\")\n"
     ]
    },
    {
     "data": {
      "text/plain": [
       "['The Best Phone for the Money\\n\\nThe iPhone 11 offers superb cameras, a more durable design and excellent battery life for an affordable price.\\n\\nCompelling ultra-wide camera\\nNew Night mode is excellent\\nLong battery life',\n",
       " 'Really satisfied with the Product I received... It’s totally genuine and the packaging was also really good so if ur planning to buy just go for it.',\n",
       " 'Great iPhone very snappy experience as apple kind. Upgraded from iPhone 7.\\nPros\\n-Camera top class\\n- Battery top performed\\n-Chipset no need to say as apple kind\\n-Security as you expect from apple\\n- Display super bright industry leading colour\\naccuracy and super responsive\\n-Build quality as expect from apple sturdy\\npremium durable beautiful stylish.\\n-Os most stable os in smartphone industry\\n\\nCons\\n-No 5G\\n-Display is not based on OLED technology\\n-Charger headphones and 1 apple stic...\\nREAD MORE',\n",
       " 'Amazing phone with great cameras and better battery which gives you the best performance. I just love the camera .',\n",
       " 'Previously I was using one plus 3t it was a great phone\\nAnd then I decided to upgrade I am stuck between Samsung s10 plus or iPhone 11\\nI have seen the specs and everything were good except the display it’s somewhere between 720-1080 and it’s not even an amoled it’s an LCD display\\nBut I decided to go with iPhone because I have never used an IOS device I have Been an android user from the past 9 years I ordered IPhone 11 (128gb) product red\\nMy experience after using 3 weeks\\n1. The delivery ...\\nREAD MORE',\n",
       " 'This is my first iOS phone. I am very happy with this product. Very much satisfied with this. I love this phone.',\n",
       " 'Amazing Powerful and Durable Gadget.\\n\\nI’m am very happy with the camera picture quality, Amazing face id unlocked in dark room, Strong battery with perfect screen size as you can carry easily in pocket. This is my third iPhone.\\n\\nI shifted from android Samsung Note series to iPhone because of the strong build quality and peace of mind for next 3-4 years.\\n\\nDon’t think to much just go for it and I suggest you to go for minimum 128gb variant or more 256gb.\\n\\nI’ve attached my puppy pics and no fi...\\nREAD MORE',\n",
       " 'So far it’s been an AMAZING experience coming back to iOS after nearly a decade but it’s not as versatile as android though phone is sturdy dropped it accidentally a couple of times and nothing happened fortunately camera is awesome',\n",
       " 'i11 is worthy to buy, too much happy with the product. Thank u flipkart I received the item on time..loved it..',\n",
       " 'iphone 11 is a very good phone to buy only if you can compromise for the display. The display on this is device is pretty good but you can get other options with better displays in this price segment.\\nIf you can survive with an HD+ LCD panel with thicker bezels and a notch up top then this is a very good phone for you.\\nCameras are awesome, battery backup excellent, great performance and a decent premium look. Good job Apple !',\n",
       " 'What a camera .....just awesome ..you can feel this iPhone just awesome . Good for gaming also ...try pubg in hd it’s just wow',\n",
       " 'It’s a must buy who is looking for an upgrade from previous generation of iPhones. If you are using XR then still you can hold on for sometime and upgrade to 2020 model else this phone is a must buy . Camera quality is amazing and wide angle is something to count upon. Performance wise it’s amazing and feels premium while holding in hand. So a big YES for this device. Go for 128 GB variant as the 4K videos will occupy lots of space and the storage can get over very quickly. Try to buy it with...\\nREAD MORE',\n",
       " 'Value for money❤️❤️\\nIts awesome mobile phone in the world ...\\nDisplay was very good and bright ..\\nTrust me freinds you r never regret after Buying..\\nJust go for it....\\nI love this phone and i switch to iphone x to 11',\n",
       " 'Totally in love with this ❤ the camera quality is amazing just love it 😘😘😘 itsss dammnnnnnn amazing... Must buy iPhone 11 this is my best experience ever ☀👌👌🧡🧡🧡🧡🧡 thanku apple ❤',\n",
       " \"Iphone is just awesome.. battery backup is very very nice.. continuously for 10 hours we can use it.camera is just awesome.. display is just fab.i love it alot..i had to wait 15 days for it as i pre ordered it..overalll it's worth the price..these all images are clicked by my iPhone..and i love it.\",\n",
       " 'Best budget Iphone till date ❤️ go for it guys without second thought. Let me explain you guys about Camera, Display, battery, and performance.\\n\\nCamera: at this price range there is no comparison of camera, you’ll love the picture quality as well as video quality. I am a Vlogger I wanted an iPhone with 4k video by front camera and I got this phone and I am more than happy 😃\\n\\nBattery: I use this phone roughly as I am active social media person and I have a youtube channel. so the battery ba...\\nREAD MORE',\n",
       " \"It's my first time to use iOS phone and I am loving my upgradation 😍😍 I love the color, I love the assebility of the phone....I need to learn more about its functionality, but as far as I have seen, it's quite easy and it has a lot of functions to work on, specially if you are a content writer or a blogger you get a lot of content creation platforms and they are really amazing.\\n\\nThis phone not only for good quality photography but a lot of other task too.😍💯\",\n",
       " 'Excellent camera, good performance, no lag. The lcd display is also good.. but difference come when we watch movie in prime and Netflix, the colours are not vibrant.. as we see in amoled display.. and the charger in box is of 5 watts.. takes more than 3 hours to charge from 0 to 100.. so guys be prepare to buy 18 watts charger . Finally I am an android user, it was my first Iapple phone, I promise u guys the iOS is so smooth.. overall the phone is damn good.... close eyes to buy it.. thanks t...\\nREAD MORE',\n",
       " 'It’s been almost a month since I have been using this phone. I upgraded from an iPhone 8. The main issue with my 8 was battery and this phone is just awesome when it comes to battery. It lasts a day and a half for me with my regular use , internet connected always with 4g\\nCan’t move forward without saying this. Battery of this phone is a life saver when I am traveling or at work when I don’t get the option to charge\\nCamera is superb. Front cam selfies and back cam photos are just awesome.\\n...\\nREAD MORE',\n",
       " 'Smooth like butter, camera like fantabulous, sound is crystal clear & its red color is damn attractive, i am just loving it. Must buy if you love photography.\\n\\nLucky to get it in sale, thank you Flipkart.']"
      ]
     },
     "execution_count": 89,
     "metadata": {},
     "output_type": "execute_result"
    }
   ],
   "source": [
    "Freview = driver.find_elements_by_xpath(\"//div[@class='t-ZTKy']\")\n",
    "Freview\n",
    "\n",
    "for i in Freview:\n",
    "    full = i.text\n",
    "    FUll_review.append(full)\n",
    "FUll_review"
   ]
  },
  {
   "cell_type": "code",
   "execution_count": 90,
   "metadata": {},
   "outputs": [
    {
     "name": "stdout",
     "output_type": "stream",
     "text": [
      "20 20 20\n"
     ]
    }
   ],
   "source": [
    "print(len(Rating),len(Review_summary),len(FUll_review))"
   ]
  },
  {
   "cell_type": "code",
   "execution_count": 91,
   "metadata": {},
   "outputs": [
    {
     "data": {
      "text/html": [
       "<div>\n",
       "<style scoped>\n",
       "    .dataframe tbody tr th:only-of-type {\n",
       "        vertical-align: middle;\n",
       "    }\n",
       "\n",
       "    .dataframe tbody tr th {\n",
       "        vertical-align: top;\n",
       "    }\n",
       "\n",
       "    .dataframe thead th {\n",
       "        text-align: right;\n",
       "    }\n",
       "</style>\n",
       "<table border=\"1\" class=\"dataframe\">\n",
       "  <thead>\n",
       "    <tr style=\"text-align: right;\">\n",
       "      <th></th>\n",
       "      <th>Rating</th>\n",
       "      <th>Review_summary</th>\n",
       "      <th>Full_review</th>\n",
       "    </tr>\n",
       "  </thead>\n",
       "  <tbody>\n",
       "    <tr>\n",
       "      <th>0</th>\n",
       "      <td>5</td>\n",
       "      <td>Brilliant</td>\n",
       "      <td>The Best Phone for the Money\\n\\nThe iPhone 11 ...</td>\n",
       "    </tr>\n",
       "    <tr>\n",
       "      <th>1</th>\n",
       "      <td>5</td>\n",
       "      <td>Simply awesome</td>\n",
       "      <td>Really satisfied with the Product I received.....</td>\n",
       "    </tr>\n",
       "    <tr>\n",
       "      <th>2</th>\n",
       "      <td>5</td>\n",
       "      <td>Best in the market!</td>\n",
       "      <td>Great iPhone very snappy experience as apple k...</td>\n",
       "    </tr>\n",
       "    <tr>\n",
       "      <th>3</th>\n",
       "      <td>5</td>\n",
       "      <td>Perfect product!</td>\n",
       "      <td>Amazing phone with great cameras and better ba...</td>\n",
       "    </tr>\n",
       "    <tr>\n",
       "      <th>4</th>\n",
       "      <td>5</td>\n",
       "      <td>Worth every penny</td>\n",
       "      <td>Previously I was using one plus 3t it was a gr...</td>\n",
       "    </tr>\n",
       "    <tr>\n",
       "      <th>5</th>\n",
       "      <td>5</td>\n",
       "      <td>Fabulous!</td>\n",
       "      <td>This is my first iOS phone. I am very happy wi...</td>\n",
       "    </tr>\n",
       "    <tr>\n",
       "      <th>6</th>\n",
       "      <td>5</td>\n",
       "      <td>Great product</td>\n",
       "      <td>Amazing Powerful and Durable Gadget.\\n\\nI’m am...</td>\n",
       "    </tr>\n",
       "    <tr>\n",
       "      <th>7</th>\n",
       "      <td>4</td>\n",
       "      <td>Good choice</td>\n",
       "      <td>So far it’s been an AMAZING experience coming ...</td>\n",
       "    </tr>\n",
       "    <tr>\n",
       "      <th>8</th>\n",
       "      <td>5</td>\n",
       "      <td>Worth every penny</td>\n",
       "      <td>i11 is worthy to buy, too much happy with the ...</td>\n",
       "    </tr>\n",
       "    <tr>\n",
       "      <th>9</th>\n",
       "      <td>5</td>\n",
       "      <td>Highly recommended</td>\n",
       "      <td>iphone 11 is a very good phone to buy only if ...</td>\n",
       "    </tr>\n",
       "    <tr>\n",
       "      <th>10</th>\n",
       "      <td>5</td>\n",
       "      <td>Highly recommended</td>\n",
       "      <td>What a camera .....just awesome ..you can feel...</td>\n",
       "    </tr>\n",
       "    <tr>\n",
       "      <th>11</th>\n",
       "      <td>5</td>\n",
       "      <td>Perfect product!</td>\n",
       "      <td>It’s a must buy who is looking for an upgrade ...</td>\n",
       "    </tr>\n",
       "    <tr>\n",
       "      <th>12</th>\n",
       "      <td>5</td>\n",
       "      <td>Perfect product!</td>\n",
       "      <td>Value for money❤️❤️\\nIts awesome mobile phone ...</td>\n",
       "    </tr>\n",
       "    <tr>\n",
       "      <th>13</th>\n",
       "      <td>5</td>\n",
       "      <td>Classy product</td>\n",
       "      <td>Totally in love with this ❤ the camera quality...</td>\n",
       "    </tr>\n",
       "    <tr>\n",
       "      <th>14</th>\n",
       "      <td>5</td>\n",
       "      <td>Perfect product!</td>\n",
       "      <td>Iphone is just awesome.. battery backup is ver...</td>\n",
       "    </tr>\n",
       "    <tr>\n",
       "      <th>15</th>\n",
       "      <td>5</td>\n",
       "      <td>Worth every penny</td>\n",
       "      <td>Best budget Iphone till date ❤️ go for it guys...</td>\n",
       "    </tr>\n",
       "    <tr>\n",
       "      <th>16</th>\n",
       "      <td>5</td>\n",
       "      <td>Highly recommended</td>\n",
       "      <td>It's my first time to use iOS phone and I am l...</td>\n",
       "    </tr>\n",
       "    <tr>\n",
       "      <th>17</th>\n",
       "      <td>5</td>\n",
       "      <td>Simply awesome</td>\n",
       "      <td>Excellent camera, good performance, no lag. Th...</td>\n",
       "    </tr>\n",
       "    <tr>\n",
       "      <th>18</th>\n",
       "      <td>5</td>\n",
       "      <td>Worth every penny</td>\n",
       "      <td>It’s been almost a month since I have been usi...</td>\n",
       "    </tr>\n",
       "    <tr>\n",
       "      <th>19</th>\n",
       "      <td>5</td>\n",
       "      <td>Worth every penny</td>\n",
       "      <td>Smooth like butter, camera like fantabulous, s...</td>\n",
       "    </tr>\n",
       "  </tbody>\n",
       "</table>\n",
       "</div>"
      ],
      "text/plain": [
       "   Rating       Review_summary  \\\n",
       "0       5            Brilliant   \n",
       "1       5       Simply awesome   \n",
       "2       5  Best in the market!   \n",
       "3       5     Perfect product!   \n",
       "4       5    Worth every penny   \n",
       "5       5            Fabulous!   \n",
       "6       5        Great product   \n",
       "7       4          Good choice   \n",
       "8       5    Worth every penny   \n",
       "9       5   Highly recommended   \n",
       "10      5   Highly recommended   \n",
       "11      5     Perfect product!   \n",
       "12      5     Perfect product!   \n",
       "13      5       Classy product   \n",
       "14      5     Perfect product!   \n",
       "15      5    Worth every penny   \n",
       "16      5   Highly recommended   \n",
       "17      5       Simply awesome   \n",
       "18      5    Worth every penny   \n",
       "19      5    Worth every penny   \n",
       "\n",
       "                                          Full_review  \n",
       "0   The Best Phone for the Money\\n\\nThe iPhone 11 ...  \n",
       "1   Really satisfied with the Product I received.....  \n",
       "2   Great iPhone very snappy experience as apple k...  \n",
       "3   Amazing phone with great cameras and better ba...  \n",
       "4   Previously I was using one plus 3t it was a gr...  \n",
       "5   This is my first iOS phone. I am very happy wi...  \n",
       "6   Amazing Powerful and Durable Gadget.\\n\\nI’m am...  \n",
       "7   So far it’s been an AMAZING experience coming ...  \n",
       "8   i11 is worthy to buy, too much happy with the ...  \n",
       "9   iphone 11 is a very good phone to buy only if ...  \n",
       "10  What a camera .....just awesome ..you can feel...  \n",
       "11  It’s a must buy who is looking for an upgrade ...  \n",
       "12  Value for money❤️❤️\\nIts awesome mobile phone ...  \n",
       "13  Totally in love with this ❤ the camera quality...  \n",
       "14  Iphone is just awesome.. battery backup is ver...  \n",
       "15  Best budget Iphone till date ❤️ go for it guys...  \n",
       "16  It's my first time to use iOS phone and I am l...  \n",
       "17  Excellent camera, good performance, no lag. Th...  \n",
       "18  It’s been almost a month since I have been usi...  \n",
       "19  Smooth like butter, camera like fantabulous, s...  "
      ]
     },
     "execution_count": 91,
     "metadata": {},
     "output_type": "execute_result"
    }
   ],
   "source": [
    "my_data = pd.DataFrame({})\n",
    "my_data['Rating'] = Rating \n",
    "my_data['Review_summary'] = Review_summary\n",
    "my_data['Full_review'] = FUll_review\n",
    "my_data"
   ]
  },
  {
   "cell_type": "markdown",
   "metadata": {},
   "source": [
    "# QUESTION 6"
   ]
  },
  {
   "cell_type": "code",
   "execution_count": 93,
   "metadata": {},
   "outputs": [
    {
     "name": "stderr",
     "output_type": "stream",
     "text": [
      "<ipython-input-93-f5e291cbc091>:1: DeprecationWarning: executable_path has been deprecated, please pass in a Service object\n",
      "  driver = webdriver.Chrome('C:/Users/Kishan/Downloads/chromedriver_win32/chromedriver.exe')\n"
     ]
    }
   ],
   "source": [
    "driver = webdriver.Chrome('C:/Users/Kishan/Downloads/chromedriver_win32/chromedriver.exe')"
   ]
  },
  {
   "cell_type": "code",
   "execution_count": 94,
   "metadata": {},
   "outputs": [],
   "source": [
    "driver.get('https://www.flipkart.com/search?q=sneakers&as=on&as-show=on&otracker=AS_Query_OrganicAutoSuggest_3_8_na_na_na&otracker1=AS_Query_OrganicAutoSuggest_3_8_na_na_na&as-pos=3&as-type=RECENT&suggestionId=sneakers&requestId=cf123dc2-c35a-4552-b62a-89de1b3c6e7a&as-backfill=on')"
   ]
  },
  {
   "cell_type": "code",
   "execution_count": 95,
   "metadata": {},
   "outputs": [],
   "source": [
    "Brand = []\n",
    "Description =[]\n",
    "Price =[]\n",
    "Discount = []"
   ]
  },
  {
   "cell_type": "code",
   "execution_count": 96,
   "metadata": {},
   "outputs": [
    {
     "name": "stderr",
     "output_type": "stream",
     "text": [
      "<ipython-input-96-7d301a9c7f9b>:1: DeprecationWarning: find_elements_by_* commands are deprecated. Please use find_elements() instead\n",
      "  brand_tag = driver.find_elements_by_xpath(\"//div[@class='_2WkVRV']\")\n"
     ]
    },
    {
     "data": {
      "text/plain": [
       "['Echor',\n",
       " 'Echor',\n",
       " 'BIRDE',\n",
       " 'URBANBOX',\n",
       " 'BRUTON',\n",
       " 'Rzisbo',\n",
       " 'Chevit',\n",
       " 'PUMA',\n",
       " 'RapidBox',\n",
       " 'T-ROCK',\n",
       " 'Magnolia',\n",
       " 'BIRDE',\n",
       " 'Numenzo',\n",
       " 'ganpati traders',\n",
       " 'BIRDE',\n",
       " 'PUMA',\n",
       " 'Edoeviv',\n",
       " 'SCATCHITE',\n",
       " 'Numenzo',\n",
       " 'PUMA',\n",
       " 'URBANBOX',\n",
       " 'Clymb',\n",
       " 'Chevit',\n",
       " 'PUMA',\n",
       " 'Kraasa',\n",
       " 'BIRDE',\n",
       " 'PACIFIER',\n",
       " 'PUMA',\n",
       " 'Chevit',\n",
       " 'Shoes Bank',\n",
       " 'Robbie jones',\n",
       " 'BIRDE',\n",
       " 'HOTSTYLE',\n",
       " 'Chevit',\n",
       " 'ASTEROID',\n",
       " 'LEE COOPER',\n",
       " 'Extoes',\n",
       " 'RODDICK SHOES',\n",
       " 'Zsyto',\n",
       " 'BIRDE']"
      ]
     },
     "execution_count": 96,
     "metadata": {},
     "output_type": "execute_result"
    }
   ],
   "source": [
    "brand_tag = driver.find_elements_by_xpath(\"//div[@class='_2WkVRV']\")\n",
    "brand_tag\n",
    "\n",
    "for i in brand_tag:\n",
    "    brandname = i.text\n",
    "    Brand.append(brandname)\n",
    "Brand"
   ]
  },
  {
   "cell_type": "code",
   "execution_count": 97,
   "metadata": {},
   "outputs": [
    {
     "name": "stderr",
     "output_type": "stream",
     "text": [
      "<ipython-input-97-3aa8a10ddddd>:1: DeprecationWarning: find_elements_by_* commands are deprecated. Please use find_elements() instead\n",
      "  description_tag = driver.find_elements_by_xpath(\"//a[@class='IRpwTa _2-ICcC']\")\n"
     ]
    },
    {
     "data": {
      "text/plain": [
       "['Sneakers Sneakers For Men',\n",
       " 'Sneakers For Men',\n",
       " 'Sneakers For Men',\n",
       " 'STYLISH-WHITE-9 Sneakers For Men',\n",
       " 'Sneakers For Men',\n",
       " 'Sneakers For Men']"
      ]
     },
     "execution_count": 97,
     "metadata": {},
     "output_type": "execute_result"
    }
   ],
   "source": [
    "description_tag = driver.find_elements_by_xpath(\"//a[@class='IRpwTa _2-ICcC']\")\n",
    "description_tag\n",
    "\n",
    "for i in description_tag:\n",
    "    prod = i.text\n",
    "    Description.append(prod)\n",
    "Description"
   ]
  },
  {
   "cell_type": "code",
   "execution_count": 98,
   "metadata": {},
   "outputs": [
    {
     "name": "stderr",
     "output_type": "stream",
     "text": [
      "<ipython-input-98-51e29d8a9644>:1: DeprecationWarning: find_elements_by_* commands are deprecated. Please use find_elements() instead\n",
      "  price_tag = driver.find_elements_by_xpath(\"//div[@class='_30jeq3']\")\n"
     ]
    },
    {
     "data": {
      "text/plain": [
       "['₹499',\n",
       " '₹499',\n",
       " '₹299',\n",
       " '₹220',\n",
       " '₹299',\n",
       " '₹549',\n",
       " '₹729',\n",
       " '₹1,600',\n",
       " '₹680',\n",
       " '₹379',\n",
       " '₹398',\n",
       " '₹423',\n",
       " '₹479',\n",
       " '₹183',\n",
       " '₹422',\n",
       " '₹9,999',\n",
       " '₹499',\n",
       " '₹398',\n",
       " '₹499',\n",
       " '₹1,749',\n",
       " '₹220',\n",
       " '₹649',\n",
       " '₹769',\n",
       " '₹4,499',\n",
       " '₹444',\n",
       " '₹311',\n",
       " '₹499',\n",
       " '₹1,800',\n",
       " '₹299',\n",
       " '₹331',\n",
       " '₹451',\n",
       " '₹535',\n",
       " '₹198',\n",
       " '₹509',\n",
       " '₹474',\n",
       " '₹1,374',\n",
       " '₹898',\n",
       " '₹499',\n",
       " '₹418',\n",
       " '₹423']"
      ]
     },
     "execution_count": 98,
     "metadata": {},
     "output_type": "execute_result"
    }
   ],
   "source": [
    "price_tag = driver.find_elements_by_xpath(\"//div[@class='_30jeq3']\")\n",
    "price_tag\n",
    "\n",
    "for i in price_tag:\n",
    "    price = i.text\n",
    "    Price.append(price)\n",
    "Price"
   ]
  },
  {
   "cell_type": "code",
   "execution_count": 102,
   "metadata": {},
   "outputs": [
    {
     "name": "stderr",
     "output_type": "stream",
     "text": [
      "<ipython-input-102-8f9f48a05d71>:1: DeprecationWarning: find_elements_by_* commands are deprecated. Please use find_elements() instead\n",
      "  discount_tag = driver.find_elements_by_xpath(\"//div[@class='_3Ay6Sb']/span[1]\")\n"
     ]
    },
    {
     "data": {
      "text/plain": [
       "['66% off',\n",
       " '66% off',\n",
       " '40% off',\n",
       " '77% off',\n",
       " '76% off',\n",
       " '45% off',\n",
       " '54% off',\n",
       " '59% off',\n",
       " '31% off',\n",
       " '62% off',\n",
       " '60% off',\n",
       " '57% off',\n",
       " '63% off',\n",
       " '63% off',\n",
       " '57% off',\n",
       " '37% off',\n",
       " '60% off',\n",
       " '75% off',\n",
       " '50% off',\n",
       " '55% off',\n",
       " '56% off',\n",
       " '61% off',\n",
       " '50% off',\n",
       " '55% off',\n",
       " '68% off',\n",
       " '57% off',\n",
       " '59% off',\n",
       " '62% off',\n",
       " '66% off',\n",
       " '54% off',\n",
       " '46% off',\n",
       " '60% off',\n",
       " '66% off',\n",
       " '76% off',\n",
       " '45% off',\n",
       " '40% off',\n",
       " '50% off',\n",
       " '58% off',\n",
       " '57% off',\n",
       " '66% off',\n",
       " '66% off',\n",
       " '40% off',\n",
       " '77% off',\n",
       " '76% off',\n",
       " '45% off',\n",
       " '54% off',\n",
       " '59% off',\n",
       " '31% off',\n",
       " '62% off',\n",
       " '60% off',\n",
       " '57% off',\n",
       " '63% off',\n",
       " '63% off',\n",
       " '57% off',\n",
       " '37% off',\n",
       " '60% off',\n",
       " '75% off',\n",
       " '50% off',\n",
       " '55% off',\n",
       " '56% off',\n",
       " '61% off',\n",
       " '50% off',\n",
       " '55% off',\n",
       " '68% off',\n",
       " '57% off',\n",
       " '59% off',\n",
       " '62% off',\n",
       " '66% off',\n",
       " '54% off',\n",
       " '46% off',\n",
       " '60% off',\n",
       " '66% off',\n",
       " '76% off',\n",
       " '45% off',\n",
       " '40% off',\n",
       " '50% off',\n",
       " '58% off',\n",
       " '57% off']"
      ]
     },
     "execution_count": 102,
     "metadata": {},
     "output_type": "execute_result"
    }
   ],
   "source": [
    "discount_tag = driver.find_elements_by_xpath(\"//div[@class='_3Ay6Sb']/span[1]\")\n",
    "discount_tag\n",
    "\n",
    "for i in discount_tag:\n",
    "    dis = i.text\n",
    "    Discount.append(dis)\n",
    "Discount"
   ]
  },
  {
   "cell_type": "code",
   "execution_count": 103,
   "metadata": {},
   "outputs": [
    {
     "name": "stdout",
     "output_type": "stream",
     "text": [
      "40 6 40 78\n"
     ]
    }
   ],
   "source": [
    "print(len(Brand),len(Description),len(Price),len(Discount))"
   ]
  },
  {
   "cell_type": "code",
   "execution_count": 104,
   "metadata": {},
   "outputs": [
    {
     "ename": "ValueError",
     "evalue": "Length of values does not match length of index",
     "output_type": "error",
     "traceback": [
      "\u001b[1;31m---------------------------------------------------------------------------\u001b[0m",
      "\u001b[1;31mValueError\u001b[0m                                Traceback (most recent call last)",
      "\u001b[1;32m<ipython-input-104-ebb38dffe5a3>\u001b[0m in \u001b[0;36m<module>\u001b[1;34m\u001b[0m\n\u001b[0;32m      1\u001b[0m \u001b[0mmy_data\u001b[0m \u001b[1;33m=\u001b[0m \u001b[0mpd\u001b[0m\u001b[1;33m.\u001b[0m\u001b[0mDataFrame\u001b[0m\u001b[1;33m(\u001b[0m\u001b[1;33m{\u001b[0m\u001b[1;33m}\u001b[0m\u001b[1;33m)\u001b[0m\u001b[1;33m\u001b[0m\u001b[1;33m\u001b[0m\u001b[0m\n\u001b[0;32m      2\u001b[0m \u001b[0mmy_data\u001b[0m\u001b[1;33m[\u001b[0m\u001b[1;34m'Brand'\u001b[0m\u001b[1;33m]\u001b[0m \u001b[1;33m=\u001b[0m \u001b[0mBrand\u001b[0m\u001b[1;33m\u001b[0m\u001b[1;33m\u001b[0m\u001b[0m\n\u001b[1;32m----> 3\u001b[1;33m \u001b[0mmy_data\u001b[0m\u001b[1;33m[\u001b[0m\u001b[1;34m'Description'\u001b[0m\u001b[1;33m]\u001b[0m \u001b[1;33m=\u001b[0m \u001b[0mDescription\u001b[0m\u001b[1;33m\u001b[0m\u001b[1;33m\u001b[0m\u001b[0m\n\u001b[0m\u001b[0;32m      4\u001b[0m \u001b[0mmy_data\u001b[0m\u001b[1;33m[\u001b[0m\u001b[1;34m'Price'\u001b[0m\u001b[1;33m]\u001b[0m \u001b[1;33m=\u001b[0m \u001b[0mPrice\u001b[0m\u001b[1;33m\u001b[0m\u001b[1;33m\u001b[0m\u001b[0m\n\u001b[0;32m      5\u001b[0m \u001b[0mmy_data\u001b[0m\u001b[1;33m[\u001b[0m\u001b[1;34m'Discount'\u001b[0m\u001b[1;33m]\u001b[0m \u001b[1;33m=\u001b[0m \u001b[0mDiscount\u001b[0m\u001b[1;33m\u001b[0m\u001b[1;33m\u001b[0m\u001b[0m\n",
      "\u001b[1;32m~\\anaconda3\\lib\\site-packages\\pandas\\core\\frame.py\u001b[0m in \u001b[0;36m__setitem__\u001b[1;34m(self, key, value)\u001b[0m\n\u001b[0;32m   2936\u001b[0m         \u001b[1;32melse\u001b[0m\u001b[1;33m:\u001b[0m\u001b[1;33m\u001b[0m\u001b[1;33m\u001b[0m\u001b[0m\n\u001b[0;32m   2937\u001b[0m             \u001b[1;31m# set column\u001b[0m\u001b[1;33m\u001b[0m\u001b[1;33m\u001b[0m\u001b[1;33m\u001b[0m\u001b[0m\n\u001b[1;32m-> 2938\u001b[1;33m             \u001b[0mself\u001b[0m\u001b[1;33m.\u001b[0m\u001b[0m_set_item\u001b[0m\u001b[1;33m(\u001b[0m\u001b[0mkey\u001b[0m\u001b[1;33m,\u001b[0m \u001b[0mvalue\u001b[0m\u001b[1;33m)\u001b[0m\u001b[1;33m\u001b[0m\u001b[1;33m\u001b[0m\u001b[0m\n\u001b[0m\u001b[0;32m   2939\u001b[0m \u001b[1;33m\u001b[0m\u001b[0m\n\u001b[0;32m   2940\u001b[0m     \u001b[1;32mdef\u001b[0m \u001b[0m_setitem_slice\u001b[0m\u001b[1;33m(\u001b[0m\u001b[0mself\u001b[0m\u001b[1;33m,\u001b[0m \u001b[0mkey\u001b[0m\u001b[1;33m,\u001b[0m \u001b[0mvalue\u001b[0m\u001b[1;33m)\u001b[0m\u001b[1;33m:\u001b[0m\u001b[1;33m\u001b[0m\u001b[1;33m\u001b[0m\u001b[0m\n",
      "\u001b[1;32m~\\anaconda3\\lib\\site-packages\\pandas\\core\\frame.py\u001b[0m in \u001b[0;36m_set_item\u001b[1;34m(self, key, value)\u001b[0m\n\u001b[0;32m   2998\u001b[0m \u001b[1;33m\u001b[0m\u001b[0m\n\u001b[0;32m   2999\u001b[0m         \u001b[0mself\u001b[0m\u001b[1;33m.\u001b[0m\u001b[0m_ensure_valid_index\u001b[0m\u001b[1;33m(\u001b[0m\u001b[0mvalue\u001b[0m\u001b[1;33m)\u001b[0m\u001b[1;33m\u001b[0m\u001b[1;33m\u001b[0m\u001b[0m\n\u001b[1;32m-> 3000\u001b[1;33m         \u001b[0mvalue\u001b[0m \u001b[1;33m=\u001b[0m \u001b[0mself\u001b[0m\u001b[1;33m.\u001b[0m\u001b[0m_sanitize_column\u001b[0m\u001b[1;33m(\u001b[0m\u001b[0mkey\u001b[0m\u001b[1;33m,\u001b[0m \u001b[0mvalue\u001b[0m\u001b[1;33m)\u001b[0m\u001b[1;33m\u001b[0m\u001b[1;33m\u001b[0m\u001b[0m\n\u001b[0m\u001b[0;32m   3001\u001b[0m         \u001b[0mNDFrame\u001b[0m\u001b[1;33m.\u001b[0m\u001b[0m_set_item\u001b[0m\u001b[1;33m(\u001b[0m\u001b[0mself\u001b[0m\u001b[1;33m,\u001b[0m \u001b[0mkey\u001b[0m\u001b[1;33m,\u001b[0m \u001b[0mvalue\u001b[0m\u001b[1;33m)\u001b[0m\u001b[1;33m\u001b[0m\u001b[1;33m\u001b[0m\u001b[0m\n\u001b[0;32m   3002\u001b[0m \u001b[1;33m\u001b[0m\u001b[0m\n",
      "\u001b[1;32m~\\anaconda3\\lib\\site-packages\\pandas\\core\\frame.py\u001b[0m in \u001b[0;36m_sanitize_column\u001b[1;34m(self, key, value, broadcast)\u001b[0m\n\u001b[0;32m   3634\u001b[0m \u001b[1;33m\u001b[0m\u001b[0m\n\u001b[0;32m   3635\u001b[0m             \u001b[1;31m# turn me into an ndarray\u001b[0m\u001b[1;33m\u001b[0m\u001b[1;33m\u001b[0m\u001b[1;33m\u001b[0m\u001b[0m\n\u001b[1;32m-> 3636\u001b[1;33m             \u001b[0mvalue\u001b[0m \u001b[1;33m=\u001b[0m \u001b[0msanitize_index\u001b[0m\u001b[1;33m(\u001b[0m\u001b[0mvalue\u001b[0m\u001b[1;33m,\u001b[0m \u001b[0mself\u001b[0m\u001b[1;33m.\u001b[0m\u001b[0mindex\u001b[0m\u001b[1;33m,\u001b[0m \u001b[0mcopy\u001b[0m\u001b[1;33m=\u001b[0m\u001b[1;32mFalse\u001b[0m\u001b[1;33m)\u001b[0m\u001b[1;33m\u001b[0m\u001b[1;33m\u001b[0m\u001b[0m\n\u001b[0m\u001b[0;32m   3637\u001b[0m             \u001b[1;32mif\u001b[0m \u001b[1;32mnot\u001b[0m \u001b[0misinstance\u001b[0m\u001b[1;33m(\u001b[0m\u001b[0mvalue\u001b[0m\u001b[1;33m,\u001b[0m \u001b[1;33m(\u001b[0m\u001b[0mnp\u001b[0m\u001b[1;33m.\u001b[0m\u001b[0mndarray\u001b[0m\u001b[1;33m,\u001b[0m \u001b[0mIndex\u001b[0m\u001b[1;33m)\u001b[0m\u001b[1;33m)\u001b[0m\u001b[1;33m:\u001b[0m\u001b[1;33m\u001b[0m\u001b[1;33m\u001b[0m\u001b[0m\n\u001b[0;32m   3638\u001b[0m                 \u001b[1;32mif\u001b[0m \u001b[0misinstance\u001b[0m\u001b[1;33m(\u001b[0m\u001b[0mvalue\u001b[0m\u001b[1;33m,\u001b[0m \u001b[0mlist\u001b[0m\u001b[1;33m)\u001b[0m \u001b[1;32mand\u001b[0m \u001b[0mlen\u001b[0m\u001b[1;33m(\u001b[0m\u001b[0mvalue\u001b[0m\u001b[1;33m)\u001b[0m \u001b[1;33m>\u001b[0m \u001b[1;36m0\u001b[0m\u001b[1;33m:\u001b[0m\u001b[1;33m\u001b[0m\u001b[1;33m\u001b[0m\u001b[0m\n",
      "\u001b[1;32m~\\anaconda3\\lib\\site-packages\\pandas\\core\\internals\\construction.py\u001b[0m in \u001b[0;36msanitize_index\u001b[1;34m(data, index, copy)\u001b[0m\n\u001b[0;32m    609\u001b[0m \u001b[1;33m\u001b[0m\u001b[0m\n\u001b[0;32m    610\u001b[0m     \u001b[1;32mif\u001b[0m \u001b[0mlen\u001b[0m\u001b[1;33m(\u001b[0m\u001b[0mdata\u001b[0m\u001b[1;33m)\u001b[0m \u001b[1;33m!=\u001b[0m \u001b[0mlen\u001b[0m\u001b[1;33m(\u001b[0m\u001b[0mindex\u001b[0m\u001b[1;33m)\u001b[0m\u001b[1;33m:\u001b[0m\u001b[1;33m\u001b[0m\u001b[1;33m\u001b[0m\u001b[0m\n\u001b[1;32m--> 611\u001b[1;33m         \u001b[1;32mraise\u001b[0m \u001b[0mValueError\u001b[0m\u001b[1;33m(\u001b[0m\u001b[1;34m\"Length of values does not match length of index\"\u001b[0m\u001b[1;33m)\u001b[0m\u001b[1;33m\u001b[0m\u001b[1;33m\u001b[0m\u001b[0m\n\u001b[0m\u001b[0;32m    612\u001b[0m \u001b[1;33m\u001b[0m\u001b[0m\n\u001b[0;32m    613\u001b[0m     \u001b[1;32mif\u001b[0m \u001b[0misinstance\u001b[0m\u001b[1;33m(\u001b[0m\u001b[0mdata\u001b[0m\u001b[1;33m,\u001b[0m \u001b[0mABCIndexClass\u001b[0m\u001b[1;33m)\u001b[0m \u001b[1;32mand\u001b[0m \u001b[1;32mnot\u001b[0m \u001b[0mcopy\u001b[0m\u001b[1;33m:\u001b[0m\u001b[1;33m\u001b[0m\u001b[1;33m\u001b[0m\u001b[0m\n",
      "\u001b[1;31mValueError\u001b[0m: Length of values does not match length of index"
     ]
    }
   ],
   "source": [
    "my_data = pd.DataFrame({})\n",
    "my_data['Brand'] = Brand\n",
    "my_data['Description'] = Description\n",
    "my_data['Price'] = Price\n",
    "my_data['Discount'] = Discount\n",
    "\n",
    "my_data"
   ]
  },
  {
   "cell_type": "markdown",
   "metadata": {},
   "source": [
    "# QUESTION 7"
   ]
  },
  {
   "cell_type": "code",
   "execution_count": 105,
   "metadata": {},
   "outputs": [
    {
     "name": "stderr",
     "output_type": "stream",
     "text": [
      "<ipython-input-105-f5e291cbc091>:1: DeprecationWarning: executable_path has been deprecated, please pass in a Service object\n",
      "  driver = webdriver.Chrome('C:/Users/Kishan/Downloads/chromedriver_win32/chromedriver.exe')\n"
     ]
    }
   ],
   "source": [
    "driver = webdriver.Chrome('C:/Users/Kishan/Downloads/chromedriver_win32/chromedriver.exe')"
   ]
  },
  {
   "cell_type": "code",
   "execution_count": 106,
   "metadata": {},
   "outputs": [],
   "source": [
    "driver.get('https://www.myntra.com/shoes')"
   ]
  },
  {
   "cell_type": "code",
   "execution_count": 107,
   "metadata": {},
   "outputs": [
    {
     "name": "stderr",
     "output_type": "stream",
     "text": [
      "<ipython-input-107-53b15d8ef4be>:1: DeprecationWarning: find_element_by_* commands are deprecated. Please use find_element() instead\n",
      "  search_button = driver.find_element_by_xpath('/html/body/div[2]/div/div[1]/main/div[3]/div[1]/section/div/div[6]/ul/li[1]/label/div')\n"
     ]
    }
   ],
   "source": [
    "search_button = driver.find_element_by_xpath('/html/body/div[2]/div/div[1]/main/div[3]/div[1]/section/div/div[6]/ul/li[1]/label/div')\n",
    "\n",
    "search_button.click()"
   ]
  },
  {
   "cell_type": "code",
   "execution_count": 109,
   "metadata": {},
   "outputs": [
    {
     "name": "stderr",
     "output_type": "stream",
     "text": [
      "<ipython-input-109-6724fd36110a>:1: DeprecationWarning: find_element_by_* commands are deprecated. Please use find_element() instead\n",
      "  search_button1 = driver.find_element_by_xpath('/html/body/div[2]/div/div[1]/main/div[3]/div[1]/section/div/div[5]/ul/li[2]/label/div')\n"
     ]
    }
   ],
   "source": [
    "search_button1 = driver.find_element_by_xpath('/html/body/div[2]/div/div[1]/main/div[3]/div[1]/section/div/div[5]/ul/li[2]/label/div')\n",
    "\n",
    "search_button1.click()"
   ]
  },
  {
   "cell_type": "code",
   "execution_count": 110,
   "metadata": {},
   "outputs": [],
   "source": [
    "Brand = []\n",
    "Description = []\n",
    "Price = []"
   ]
  },
  {
   "cell_type": "code",
   "execution_count": 111,
   "metadata": {},
   "outputs": [
    {
     "name": "stderr",
     "output_type": "stream",
     "text": [
      "<ipython-input-111-c3ae9259fc35>:1: DeprecationWarning: find_elements_by_* commands are deprecated. Please use find_elements() instead\n",
      "  brand_tag = driver.find_elements_by_xpath(\"//h3[@class='product-brand']\")\n"
     ]
    },
    {
     "data": {
      "text/plain": [
       "['Puma',\n",
       " 'ALDO',\n",
       " 'ALDO',\n",
       " 'ASICS',\n",
       " 'ASICS',\n",
       " 'Puma',\n",
       " 'ASICS',\n",
       " 'Nike',\n",
       " 'FORCLAZ By Decathlon',\n",
       " 'Hush Puppies',\n",
       " 'Saint G',\n",
       " 'ASICS',\n",
       " 'Hush Puppies',\n",
       " 'Hush Puppies',\n",
       " 'Saint G',\n",
       " 'ASICS',\n",
       " 'Hush Puppies',\n",
       " 'Bugatti',\n",
       " 'MANGO',\n",
       " 'Hush Puppies',\n",
       " 'Heel & Buckle London',\n",
       " 'Bugatti',\n",
       " 'UNDER ARMOUR',\n",
       " 'Saint G',\n",
       " 'Hush Puppies',\n",
       " 'Saint G',\n",
       " 'Ruosh',\n",
       " 'Skechers',\n",
       " 'Hush Puppies',\n",
       " 'ASICS',\n",
       " 'DAVINCHI',\n",
       " 'Cole Haan',\n",
       " 'Geox',\n",
       " 'Bugatti',\n",
       " 'Hush Puppies',\n",
       " 'J.FONTINI',\n",
       " 'Skechers',\n",
       " 'Pavers England',\n",
       " 'Saint G',\n",
       " 'J.FONTINI',\n",
       " 'H&M',\n",
       " 'Saint G',\n",
       " 'Saint G',\n",
       " 'Geox',\n",
       " 'Hush Puppies',\n",
       " 'Pavers England',\n",
       " 'DAVINCHI',\n",
       " 'Saint G',\n",
       " 'Heel & Buckle London',\n",
       " 'Ruosh']"
      ]
     },
     "execution_count": 111,
     "metadata": {},
     "output_type": "execute_result"
    }
   ],
   "source": [
    "brand_tag = driver.find_elements_by_xpath(\"//h3[@class='product-brand']\")\n",
    "brand_tag\n",
    "\n",
    "for i in brand_tag:\n",
    "    brand_tag = i.text\n",
    "    Brand.append(brand_tag)\n",
    "Brand"
   ]
  },
  {
   "cell_type": "code",
   "execution_count": 112,
   "metadata": {},
   "outputs": [
    {
     "name": "stderr",
     "output_type": "stream",
     "text": [
      "<ipython-input-112-480462c74f48>:1: DeprecationWarning: find_elements_by_* commands are deprecated. Please use find_elements() instead\n",
      "  desc_tag = driver.find_elements_by_xpath(\"//h4[@class='product-product']\")\n"
     ]
    },
    {
     "data": {
      "text/plain": [
       "['Men Running Shoes',\n",
       " 'Men Textured Sneakers',\n",
       " 'Men Perforations Slip-On Sneakers',\n",
       " 'Men GT-800 Running Shoes',\n",
       " 'Men Running Shoes',\n",
       " 'Men Deviate Nitro Running Shoe',\n",
       " 'Men GEL-KAYANO 27 Shoes',\n",
       " 'Men Waffle One SE Sneakers',\n",
       " 'TREKKING 100 Boots',\n",
       " 'Men Solid Leather Formal Slip-Ons',\n",
       " 'Women Leather Heeled Boots',\n",
       " 'Men Black Running Sports Shoes',\n",
       " 'Men Solid Leather Formal Derbys',\n",
       " 'Men Leather Slip-On Sneakers',\n",
       " 'Men Mid-Top Chelsea Boots',\n",
       " 'Skycourt Sneakers',\n",
       " 'Men Formal Derbys',\n",
       " 'Leather Block Heeled Boots',\n",
       " 'Textured High-Top Flat Boots',\n",
       " 'Men Solid Leather Formal Slip-Ons',\n",
       " 'Men Leather Loafers',\n",
       " 'Men Walking Shoes',\n",
       " 'Women Charged Vantage ClrShft',\n",
       " 'Suede Block Heeled Boots',\n",
       " 'Men Leather Slip-On Sneakers',\n",
       " 'Women High-Top Heeled Boots',\n",
       " 'Men Leather Slip-On Shoes',\n",
       " 'Men TR Ultra Sneakers',\n",
       " 'Men Solid Formal Slip-Ons',\n",
       " 'Men Colourblocked PU Sneakers',\n",
       " 'Men Textured Leather Formal Oxfords',\n",
       " 'Men GENERATION ZEROGRAND STITCHLITE',\n",
       " 'Men Leather Flat Boots',\n",
       " 'Men Textured Leather High-Top Flat Boots',\n",
       " 'Men Leather Formal Derbys',\n",
       " 'Men Solid Leather Formal Derbys',\n",
       " 'Women BILLION SUBTLE Sneakers',\n",
       " 'Men Printed Leather Slip-On Sneakers',\n",
       " 'Leather Boots with Buckles',\n",
       " 'Men Textured Leather Loafers',\n",
       " 'Leather Chelsea Boots',\n",
       " 'Women Leather Heeled Boots',\n",
       " 'Men Leather Chelsea Boots',\n",
       " 'Men Leather Formal Derbys',\n",
       " 'Men Solid Formal Leather Slip-Ons',\n",
       " 'Men Solid Leather Formal Debys',\n",
       " 'Men Textured Formal Leather Loafers',\n",
       " 'Woman Black Leather Boots',\n",
       " 'Men Solid Leather Formal Penny Loafers',\n",
       " 'Men Leather Slip-On Shoes']"
      ]
     },
     "execution_count": 112,
     "metadata": {},
     "output_type": "execute_result"
    }
   ],
   "source": [
    "desc_tag = driver.find_elements_by_xpath(\"//h4[@class='product-product']\")\n",
    "desc_tag\n",
    "\n",
    "for i in desc_tag:\n",
    "    dis = i.text\n",
    "    Description.append(dis)\n",
    "Description"
   ]
  },
  {
   "cell_type": "code",
   "execution_count": 113,
   "metadata": {},
   "outputs": [
    {
     "name": "stderr",
     "output_type": "stream",
     "text": [
      "<ipython-input-113-c7a106735362>:1: DeprecationWarning: find_elements_by_* commands are deprecated. Please use find_elements() instead\n",
      "  price_tag = driver.find_elements_by_xpath(\"//div[@class='product-price']/span[1]\")\n"
     ]
    },
    {
     "data": {
      "text/plain": [
       "['Rs. 6499Rs. 12999',\n",
       " 'Rs. 6999Rs. 9999',\n",
       " 'Rs. 6999Rs. 9999',\n",
       " 'Rs. 6999',\n",
       " 'Rs. 7999',\n",
       " 'Rs. 8999Rs. 14999',\n",
       " 'Rs. 10499Rs. 14999',\n",
       " 'Rs. 8295',\n",
       " 'Rs. 6999',\n",
       " 'Rs. 8099Rs. 8999',\n",
       " 'Rs. 11900Rs. 13900',\n",
       " 'Rs. 7999',\n",
       " 'Rs. 8999Rs. 9999',\n",
       " 'Rs. 6299Rs. 6999',\n",
       " 'Rs. 9810Rs. 10900',\n",
       " 'Rs. 7999',\n",
       " 'Rs. 8999Rs. 9999',\n",
       " 'Rs. 9999',\n",
       " 'Rs. 6791Rs. 7990',\n",
       " 'Rs. 8999Rs. 9999',\n",
       " 'Rs. 6293Rs. 8990',\n",
       " 'Rs. 8999',\n",
       " 'Rs. 7999',\n",
       " 'Rs. 10350Rs. 11500',\n",
       " 'Rs. 7999Rs. 9999',\n",
       " 'Rs. 9800Rs. 13900',\n",
       " 'Rs. 6990',\n",
       " 'Rs. 6499',\n",
       " 'Rs. 8999Rs. 9999',\n",
       " 'Rs. 8999Rs. 9999',\n",
       " 'Rs. 8990',\n",
       " 'Rs. 8399Rs. 11999',\n",
       " 'Rs. 11999',\n",
       " 'Rs. 11999',\n",
       " 'Rs. 6299Rs. 6999',\n",
       " 'Rs. 6990',\n",
       " 'Rs. 6499',\n",
       " 'Rs. 10999',\n",
       " 'Rs. 8500Rs. 10500',\n",
       " 'Rs. 7990',\n",
       " 'Rs. 6299Rs. 6999',\n",
       " 'Rs. 6900Rs. 8900',\n",
       " 'Rs. 10710Rs. 11900',\n",
       " 'Rs. 9999',\n",
       " 'Rs. 8999Rs. 9999',\n",
       " 'Rs. 8999',\n",
       " 'Rs. 8990',\n",
       " 'Rs. 11250Rs. 12500',\n",
       " 'Rs. 7693Rs. 10990',\n",
       " 'Rs. 6990']"
      ]
     },
     "execution_count": 113,
     "metadata": {},
     "output_type": "execute_result"
    }
   ],
   "source": [
    "price_tag = driver.find_elements_by_xpath(\"//div[@class='product-price']/span[1]\")\n",
    "price_tag\n",
    "\n",
    "for i in price_tag:\n",
    "    price = i.text\n",
    "    Price.append(price)\n",
    "Price"
   ]
  },
  {
   "cell_type": "code",
   "execution_count": 114,
   "metadata": {},
   "outputs": [
    {
     "name": "stdout",
     "output_type": "stream",
     "text": [
      "50 50 50\n"
     ]
    }
   ],
   "source": [
    "print(len(Brand),len(Description),len(Price))"
   ]
  },
  {
   "cell_type": "code",
   "execution_count": 115,
   "metadata": {},
   "outputs": [
    {
     "name": "stdout",
     "output_type": "stream",
     "text": [
      "50 50 50\n"
     ]
    },
    {
     "data": {
      "text/html": [
       "<div>\n",
       "<style scoped>\n",
       "    .dataframe tbody tr th:only-of-type {\n",
       "        vertical-align: middle;\n",
       "    }\n",
       "\n",
       "    .dataframe tbody tr th {\n",
       "        vertical-align: top;\n",
       "    }\n",
       "\n",
       "    .dataframe thead th {\n",
       "        text-align: right;\n",
       "    }\n",
       "</style>\n",
       "<table border=\"1\" class=\"dataframe\">\n",
       "  <thead>\n",
       "    <tr style=\"text-align: right;\">\n",
       "      <th></th>\n",
       "      <th>Brand</th>\n",
       "      <th>Description</th>\n",
       "      <th>Price</th>\n",
       "    </tr>\n",
       "  </thead>\n",
       "  <tbody>\n",
       "    <tr>\n",
       "      <th>0</th>\n",
       "      <td>Puma</td>\n",
       "      <td>Men Running Shoes</td>\n",
       "      <td>Rs. 6499Rs. 12999</td>\n",
       "    </tr>\n",
       "    <tr>\n",
       "      <th>1</th>\n",
       "      <td>ALDO</td>\n",
       "      <td>Men Textured Sneakers</td>\n",
       "      <td>Rs. 6999Rs. 9999</td>\n",
       "    </tr>\n",
       "    <tr>\n",
       "      <th>2</th>\n",
       "      <td>ALDO</td>\n",
       "      <td>Men Perforations Slip-On Sneakers</td>\n",
       "      <td>Rs. 6999Rs. 9999</td>\n",
       "    </tr>\n",
       "    <tr>\n",
       "      <th>3</th>\n",
       "      <td>ASICS</td>\n",
       "      <td>Men GT-800 Running Shoes</td>\n",
       "      <td>Rs. 6999</td>\n",
       "    </tr>\n",
       "    <tr>\n",
       "      <th>4</th>\n",
       "      <td>ASICS</td>\n",
       "      <td>Men Running Shoes</td>\n",
       "      <td>Rs. 7999</td>\n",
       "    </tr>\n",
       "    <tr>\n",
       "      <th>5</th>\n",
       "      <td>Puma</td>\n",
       "      <td>Men Deviate Nitro Running Shoe</td>\n",
       "      <td>Rs. 8999Rs. 14999</td>\n",
       "    </tr>\n",
       "    <tr>\n",
       "      <th>6</th>\n",
       "      <td>ASICS</td>\n",
       "      <td>Men GEL-KAYANO 27 Shoes</td>\n",
       "      <td>Rs. 10499Rs. 14999</td>\n",
       "    </tr>\n",
       "    <tr>\n",
       "      <th>7</th>\n",
       "      <td>Nike</td>\n",
       "      <td>Men Waffle One SE Sneakers</td>\n",
       "      <td>Rs. 8295</td>\n",
       "    </tr>\n",
       "    <tr>\n",
       "      <th>8</th>\n",
       "      <td>FORCLAZ By Decathlon</td>\n",
       "      <td>TREKKING 100 Boots</td>\n",
       "      <td>Rs. 6999</td>\n",
       "    </tr>\n",
       "    <tr>\n",
       "      <th>9</th>\n",
       "      <td>Hush Puppies</td>\n",
       "      <td>Men Solid Leather Formal Slip-Ons</td>\n",
       "      <td>Rs. 8099Rs. 8999</td>\n",
       "    </tr>\n",
       "    <tr>\n",
       "      <th>10</th>\n",
       "      <td>Saint G</td>\n",
       "      <td>Women Leather Heeled Boots</td>\n",
       "      <td>Rs. 11900Rs. 13900</td>\n",
       "    </tr>\n",
       "    <tr>\n",
       "      <th>11</th>\n",
       "      <td>ASICS</td>\n",
       "      <td>Men Black Running Sports Shoes</td>\n",
       "      <td>Rs. 7999</td>\n",
       "    </tr>\n",
       "    <tr>\n",
       "      <th>12</th>\n",
       "      <td>Hush Puppies</td>\n",
       "      <td>Men Solid Leather Formal Derbys</td>\n",
       "      <td>Rs. 8999Rs. 9999</td>\n",
       "    </tr>\n",
       "    <tr>\n",
       "      <th>13</th>\n",
       "      <td>Hush Puppies</td>\n",
       "      <td>Men Leather Slip-On Sneakers</td>\n",
       "      <td>Rs. 6299Rs. 6999</td>\n",
       "    </tr>\n",
       "    <tr>\n",
       "      <th>14</th>\n",
       "      <td>Saint G</td>\n",
       "      <td>Men Mid-Top Chelsea Boots</td>\n",
       "      <td>Rs. 9810Rs. 10900</td>\n",
       "    </tr>\n",
       "    <tr>\n",
       "      <th>15</th>\n",
       "      <td>ASICS</td>\n",
       "      <td>Skycourt Sneakers</td>\n",
       "      <td>Rs. 7999</td>\n",
       "    </tr>\n",
       "    <tr>\n",
       "      <th>16</th>\n",
       "      <td>Hush Puppies</td>\n",
       "      <td>Men Formal Derbys</td>\n",
       "      <td>Rs. 8999Rs. 9999</td>\n",
       "    </tr>\n",
       "    <tr>\n",
       "      <th>17</th>\n",
       "      <td>Bugatti</td>\n",
       "      <td>Leather Block Heeled Boots</td>\n",
       "      <td>Rs. 9999</td>\n",
       "    </tr>\n",
       "    <tr>\n",
       "      <th>18</th>\n",
       "      <td>MANGO</td>\n",
       "      <td>Textured High-Top Flat Boots</td>\n",
       "      <td>Rs. 6791Rs. 7990</td>\n",
       "    </tr>\n",
       "    <tr>\n",
       "      <th>19</th>\n",
       "      <td>Hush Puppies</td>\n",
       "      <td>Men Solid Leather Formal Slip-Ons</td>\n",
       "      <td>Rs. 8999Rs. 9999</td>\n",
       "    </tr>\n",
       "    <tr>\n",
       "      <th>20</th>\n",
       "      <td>Heel &amp; Buckle London</td>\n",
       "      <td>Men Leather Loafers</td>\n",
       "      <td>Rs. 6293Rs. 8990</td>\n",
       "    </tr>\n",
       "    <tr>\n",
       "      <th>21</th>\n",
       "      <td>Bugatti</td>\n",
       "      <td>Men Walking Shoes</td>\n",
       "      <td>Rs. 8999</td>\n",
       "    </tr>\n",
       "    <tr>\n",
       "      <th>22</th>\n",
       "      <td>UNDER ARMOUR</td>\n",
       "      <td>Women Charged Vantage ClrShft</td>\n",
       "      <td>Rs. 7999</td>\n",
       "    </tr>\n",
       "    <tr>\n",
       "      <th>23</th>\n",
       "      <td>Saint G</td>\n",
       "      <td>Suede Block Heeled Boots</td>\n",
       "      <td>Rs. 10350Rs. 11500</td>\n",
       "    </tr>\n",
       "    <tr>\n",
       "      <th>24</th>\n",
       "      <td>Hush Puppies</td>\n",
       "      <td>Men Leather Slip-On Sneakers</td>\n",
       "      <td>Rs. 7999Rs. 9999</td>\n",
       "    </tr>\n",
       "    <tr>\n",
       "      <th>25</th>\n",
       "      <td>Saint G</td>\n",
       "      <td>Women High-Top Heeled Boots</td>\n",
       "      <td>Rs. 9800Rs. 13900</td>\n",
       "    </tr>\n",
       "    <tr>\n",
       "      <th>26</th>\n",
       "      <td>Ruosh</td>\n",
       "      <td>Men Leather Slip-On Shoes</td>\n",
       "      <td>Rs. 6990</td>\n",
       "    </tr>\n",
       "    <tr>\n",
       "      <th>27</th>\n",
       "      <td>Skechers</td>\n",
       "      <td>Men TR Ultra Sneakers</td>\n",
       "      <td>Rs. 6499</td>\n",
       "    </tr>\n",
       "    <tr>\n",
       "      <th>28</th>\n",
       "      <td>Hush Puppies</td>\n",
       "      <td>Men Solid Formal Slip-Ons</td>\n",
       "      <td>Rs. 8999Rs. 9999</td>\n",
       "    </tr>\n",
       "    <tr>\n",
       "      <th>29</th>\n",
       "      <td>ASICS</td>\n",
       "      <td>Men Colourblocked PU Sneakers</td>\n",
       "      <td>Rs. 8999Rs. 9999</td>\n",
       "    </tr>\n",
       "    <tr>\n",
       "      <th>30</th>\n",
       "      <td>DAVINCHI</td>\n",
       "      <td>Men Textured Leather Formal Oxfords</td>\n",
       "      <td>Rs. 8990</td>\n",
       "    </tr>\n",
       "    <tr>\n",
       "      <th>31</th>\n",
       "      <td>Cole Haan</td>\n",
       "      <td>Men GENERATION ZEROGRAND STITCHLITE</td>\n",
       "      <td>Rs. 8399Rs. 11999</td>\n",
       "    </tr>\n",
       "    <tr>\n",
       "      <th>32</th>\n",
       "      <td>Geox</td>\n",
       "      <td>Men Leather Flat Boots</td>\n",
       "      <td>Rs. 11999</td>\n",
       "    </tr>\n",
       "    <tr>\n",
       "      <th>33</th>\n",
       "      <td>Bugatti</td>\n",
       "      <td>Men Textured Leather High-Top Flat Boots</td>\n",
       "      <td>Rs. 11999</td>\n",
       "    </tr>\n",
       "    <tr>\n",
       "      <th>34</th>\n",
       "      <td>Hush Puppies</td>\n",
       "      <td>Men Leather Formal Derbys</td>\n",
       "      <td>Rs. 6299Rs. 6999</td>\n",
       "    </tr>\n",
       "    <tr>\n",
       "      <th>35</th>\n",
       "      <td>J.FONTINI</td>\n",
       "      <td>Men Solid Leather Formal Derbys</td>\n",
       "      <td>Rs. 6990</td>\n",
       "    </tr>\n",
       "    <tr>\n",
       "      <th>36</th>\n",
       "      <td>Skechers</td>\n",
       "      <td>Women BILLION SUBTLE Sneakers</td>\n",
       "      <td>Rs. 6499</td>\n",
       "    </tr>\n",
       "    <tr>\n",
       "      <th>37</th>\n",
       "      <td>Pavers England</td>\n",
       "      <td>Men Printed Leather Slip-On Sneakers</td>\n",
       "      <td>Rs. 10999</td>\n",
       "    </tr>\n",
       "    <tr>\n",
       "      <th>38</th>\n",
       "      <td>Saint G</td>\n",
       "      <td>Leather Boots with Buckles</td>\n",
       "      <td>Rs. 8500Rs. 10500</td>\n",
       "    </tr>\n",
       "    <tr>\n",
       "      <th>39</th>\n",
       "      <td>J.FONTINI</td>\n",
       "      <td>Men Textured Leather Loafers</td>\n",
       "      <td>Rs. 7990</td>\n",
       "    </tr>\n",
       "    <tr>\n",
       "      <th>40</th>\n",
       "      <td>H&amp;M</td>\n",
       "      <td>Leather Chelsea Boots</td>\n",
       "      <td>Rs. 6299Rs. 6999</td>\n",
       "    </tr>\n",
       "    <tr>\n",
       "      <th>41</th>\n",
       "      <td>Saint G</td>\n",
       "      <td>Women Leather Heeled Boots</td>\n",
       "      <td>Rs. 6900Rs. 8900</td>\n",
       "    </tr>\n",
       "    <tr>\n",
       "      <th>42</th>\n",
       "      <td>Saint G</td>\n",
       "      <td>Men Leather Chelsea Boots</td>\n",
       "      <td>Rs. 10710Rs. 11900</td>\n",
       "    </tr>\n",
       "    <tr>\n",
       "      <th>43</th>\n",
       "      <td>Geox</td>\n",
       "      <td>Men Leather Formal Derbys</td>\n",
       "      <td>Rs. 9999</td>\n",
       "    </tr>\n",
       "    <tr>\n",
       "      <th>44</th>\n",
       "      <td>Hush Puppies</td>\n",
       "      <td>Men Solid Formal Leather Slip-Ons</td>\n",
       "      <td>Rs. 8999Rs. 9999</td>\n",
       "    </tr>\n",
       "    <tr>\n",
       "      <th>45</th>\n",
       "      <td>Pavers England</td>\n",
       "      <td>Men Solid Leather Formal Debys</td>\n",
       "      <td>Rs. 8999</td>\n",
       "    </tr>\n",
       "    <tr>\n",
       "      <th>46</th>\n",
       "      <td>DAVINCHI</td>\n",
       "      <td>Men Textured Formal Leather Loafers</td>\n",
       "      <td>Rs. 8990</td>\n",
       "    </tr>\n",
       "    <tr>\n",
       "      <th>47</th>\n",
       "      <td>Saint G</td>\n",
       "      <td>Woman Black Leather Boots</td>\n",
       "      <td>Rs. 11250Rs. 12500</td>\n",
       "    </tr>\n",
       "    <tr>\n",
       "      <th>48</th>\n",
       "      <td>Heel &amp; Buckle London</td>\n",
       "      <td>Men Solid Leather Formal Penny Loafers</td>\n",
       "      <td>Rs. 7693Rs. 10990</td>\n",
       "    </tr>\n",
       "    <tr>\n",
       "      <th>49</th>\n",
       "      <td>Ruosh</td>\n",
       "      <td>Men Leather Slip-On Shoes</td>\n",
       "      <td>Rs. 6990</td>\n",
       "    </tr>\n",
       "  </tbody>\n",
       "</table>\n",
       "</div>"
      ],
      "text/plain": [
       "                   Brand                               Description  \\\n",
       "0                   Puma                         Men Running Shoes   \n",
       "1                   ALDO                     Men Textured Sneakers   \n",
       "2                   ALDO         Men Perforations Slip-On Sneakers   \n",
       "3                  ASICS                  Men GT-800 Running Shoes   \n",
       "4                  ASICS                         Men Running Shoes   \n",
       "5                   Puma            Men Deviate Nitro Running Shoe   \n",
       "6                  ASICS                   Men GEL-KAYANO 27 Shoes   \n",
       "7                   Nike                Men Waffle One SE Sneakers   \n",
       "8   FORCLAZ By Decathlon                        TREKKING 100 Boots   \n",
       "9           Hush Puppies         Men Solid Leather Formal Slip-Ons   \n",
       "10               Saint G                Women Leather Heeled Boots   \n",
       "11                 ASICS            Men Black Running Sports Shoes   \n",
       "12          Hush Puppies           Men Solid Leather Formal Derbys   \n",
       "13          Hush Puppies              Men Leather Slip-On Sneakers   \n",
       "14               Saint G                 Men Mid-Top Chelsea Boots   \n",
       "15                 ASICS                         Skycourt Sneakers   \n",
       "16          Hush Puppies                         Men Formal Derbys   \n",
       "17               Bugatti                Leather Block Heeled Boots   \n",
       "18                 MANGO              Textured High-Top Flat Boots   \n",
       "19          Hush Puppies         Men Solid Leather Formal Slip-Ons   \n",
       "20  Heel & Buckle London                       Men Leather Loafers   \n",
       "21               Bugatti                         Men Walking Shoes   \n",
       "22          UNDER ARMOUR             Women Charged Vantage ClrShft   \n",
       "23               Saint G                  Suede Block Heeled Boots   \n",
       "24          Hush Puppies              Men Leather Slip-On Sneakers   \n",
       "25               Saint G               Women High-Top Heeled Boots   \n",
       "26                 Ruosh                 Men Leather Slip-On Shoes   \n",
       "27              Skechers                     Men TR Ultra Sneakers   \n",
       "28          Hush Puppies                 Men Solid Formal Slip-Ons   \n",
       "29                 ASICS             Men Colourblocked PU Sneakers   \n",
       "30              DAVINCHI       Men Textured Leather Formal Oxfords   \n",
       "31             Cole Haan       Men GENERATION ZEROGRAND STITCHLITE   \n",
       "32                  Geox                    Men Leather Flat Boots   \n",
       "33               Bugatti  Men Textured Leather High-Top Flat Boots   \n",
       "34          Hush Puppies                 Men Leather Formal Derbys   \n",
       "35             J.FONTINI           Men Solid Leather Formal Derbys   \n",
       "36              Skechers             Women BILLION SUBTLE Sneakers   \n",
       "37        Pavers England      Men Printed Leather Slip-On Sneakers   \n",
       "38               Saint G                Leather Boots with Buckles   \n",
       "39             J.FONTINI              Men Textured Leather Loafers   \n",
       "40                   H&M                     Leather Chelsea Boots   \n",
       "41               Saint G                Women Leather Heeled Boots   \n",
       "42               Saint G                 Men Leather Chelsea Boots   \n",
       "43                  Geox                 Men Leather Formal Derbys   \n",
       "44          Hush Puppies         Men Solid Formal Leather Slip-Ons   \n",
       "45        Pavers England            Men Solid Leather Formal Debys   \n",
       "46              DAVINCHI       Men Textured Formal Leather Loafers   \n",
       "47               Saint G                 Woman Black Leather Boots   \n",
       "48  Heel & Buckle London    Men Solid Leather Formal Penny Loafers   \n",
       "49                 Ruosh                 Men Leather Slip-On Shoes   \n",
       "\n",
       "                 Price  \n",
       "0    Rs. 6499Rs. 12999  \n",
       "1     Rs. 6999Rs. 9999  \n",
       "2     Rs. 6999Rs. 9999  \n",
       "3             Rs. 6999  \n",
       "4             Rs. 7999  \n",
       "5    Rs. 8999Rs. 14999  \n",
       "6   Rs. 10499Rs. 14999  \n",
       "7             Rs. 8295  \n",
       "8             Rs. 6999  \n",
       "9     Rs. 8099Rs. 8999  \n",
       "10  Rs. 11900Rs. 13900  \n",
       "11            Rs. 7999  \n",
       "12    Rs. 8999Rs. 9999  \n",
       "13    Rs. 6299Rs. 6999  \n",
       "14   Rs. 9810Rs. 10900  \n",
       "15            Rs. 7999  \n",
       "16    Rs. 8999Rs. 9999  \n",
       "17            Rs. 9999  \n",
       "18    Rs. 6791Rs. 7990  \n",
       "19    Rs. 8999Rs. 9999  \n",
       "20    Rs. 6293Rs. 8990  \n",
       "21            Rs. 8999  \n",
       "22            Rs. 7999  \n",
       "23  Rs. 10350Rs. 11500  \n",
       "24    Rs. 7999Rs. 9999  \n",
       "25   Rs. 9800Rs. 13900  \n",
       "26            Rs. 6990  \n",
       "27            Rs. 6499  \n",
       "28    Rs. 8999Rs. 9999  \n",
       "29    Rs. 8999Rs. 9999  \n",
       "30            Rs. 8990  \n",
       "31   Rs. 8399Rs. 11999  \n",
       "32           Rs. 11999  \n",
       "33           Rs. 11999  \n",
       "34    Rs. 6299Rs. 6999  \n",
       "35            Rs. 6990  \n",
       "36            Rs. 6499  \n",
       "37           Rs. 10999  \n",
       "38   Rs. 8500Rs. 10500  \n",
       "39            Rs. 7990  \n",
       "40    Rs. 6299Rs. 6999  \n",
       "41    Rs. 6900Rs. 8900  \n",
       "42  Rs. 10710Rs. 11900  \n",
       "43            Rs. 9999  \n",
       "44    Rs. 8999Rs. 9999  \n",
       "45            Rs. 8999  \n",
       "46            Rs. 8990  \n",
       "47  Rs. 11250Rs. 12500  \n",
       "48   Rs. 7693Rs. 10990  \n",
       "49            Rs. 6990  "
      ]
     },
     "execution_count": 115,
     "metadata": {},
     "output_type": "execute_result"
    }
   ],
   "source": [
    "print(len(Brand),len(Description),len(Price))\n",
    "my_data = pd.DataFrame({})\n",
    "my_data['Brand'] = Brand\n",
    "my_data['Description'] = Description\n",
    "my_data['Price'] = Price\n",
    "\n",
    "\n",
    "my_data"
   ]
  },
  {
   "cell_type": "code",
   "execution_count": 116,
   "metadata": {},
   "outputs": [
    {
     "name": "stderr",
     "output_type": "stream",
     "text": [
      "<ipython-input-116-74d907023fff>:1: DeprecationWarning: find_element_by_* commands are deprecated. Please use find_element() instead\n",
      "  search_button = driver.find_element_by_class_name('pagination-next')\n"
     ]
    }
   ],
   "source": [
    "search_button = driver.find_element_by_class_name('pagination-next')\n",
    "\n",
    "search_button.click()"
   ]
  },
  {
   "cell_type": "code",
   "execution_count": 117,
   "metadata": {},
   "outputs": [
    {
     "name": "stderr",
     "output_type": "stream",
     "text": [
      "<ipython-input-117-c3ae9259fc35>:1: DeprecationWarning: find_elements_by_* commands are deprecated. Please use find_elements() instead\n",
      "  brand_tag = driver.find_elements_by_xpath(\"//h3[@class='product-brand']\")\n"
     ]
    },
    {
     "data": {
      "text/plain": [
       "['Puma',\n",
       " 'ALDO',\n",
       " 'ALDO',\n",
       " 'ASICS',\n",
       " 'ASICS',\n",
       " 'Puma',\n",
       " 'ASICS',\n",
       " 'Nike',\n",
       " 'FORCLAZ By Decathlon',\n",
       " 'Hush Puppies',\n",
       " 'Saint G',\n",
       " 'ASICS',\n",
       " 'Hush Puppies',\n",
       " 'Hush Puppies',\n",
       " 'Saint G',\n",
       " 'ASICS',\n",
       " 'Hush Puppies',\n",
       " 'Bugatti',\n",
       " 'MANGO',\n",
       " 'Hush Puppies',\n",
       " 'Heel & Buckle London',\n",
       " 'Bugatti',\n",
       " 'UNDER ARMOUR',\n",
       " 'Saint G',\n",
       " 'Hush Puppies',\n",
       " 'Saint G',\n",
       " 'Ruosh',\n",
       " 'Skechers',\n",
       " 'Hush Puppies',\n",
       " 'ASICS',\n",
       " 'DAVINCHI',\n",
       " 'Cole Haan',\n",
       " 'Geox',\n",
       " 'Bugatti',\n",
       " 'Hush Puppies',\n",
       " 'J.FONTINI',\n",
       " 'Skechers',\n",
       " 'Pavers England',\n",
       " 'Saint G',\n",
       " 'J.FONTINI',\n",
       " 'H&M',\n",
       " 'Saint G',\n",
       " 'Saint G',\n",
       " 'Geox',\n",
       " 'Hush Puppies',\n",
       " 'Pavers England',\n",
       " 'DAVINCHI',\n",
       " 'Saint G',\n",
       " 'Heel & Buckle London',\n",
       " 'Ruosh',\n",
       " 'Ruosh',\n",
       " 'J.FONTINI',\n",
       " 'DAVINCHI',\n",
       " 'fitflop',\n",
       " 'Puma',\n",
       " 'UNDER ARMOUR',\n",
       " 'Ruosh',\n",
       " 'Cole Haan',\n",
       " 'Bugatti',\n",
       " 'Bugatti',\n",
       " 'Cole Haan',\n",
       " 'MANGO',\n",
       " 'Columbia',\n",
       " 'Xtep',\n",
       " 'J.FONTINI',\n",
       " 'Hush Puppies',\n",
       " 'Ruosh',\n",
       " 'J.FONTINI',\n",
       " 'Xtep',\n",
       " 'Xtep',\n",
       " 'Ruosh',\n",
       " 'Xtep',\n",
       " 'Xtep',\n",
       " 'Xtep',\n",
       " 'Geox',\n",
       " 'Hush Puppies',\n",
       " 'RARE RABBIT',\n",
       " 'Geox',\n",
       " 'RARE RABBIT',\n",
       " 'Florsheim',\n",
       " 'J.FONTINI',\n",
       " 'Ruosh',\n",
       " 'Geox',\n",
       " 'Bugatti',\n",
       " 'Nike',\n",
       " 'ADIDAS',\n",
       " 'DAVINCHI',\n",
       " 'DAVINCHI',\n",
       " 'DAVINCHI',\n",
       " 'Pavers England',\n",
       " 'DAVINCHI',\n",
       " 'ADIDAS',\n",
       " 'DAVINCHI',\n",
       " 'J.FONTINI',\n",
       " 'Saint G',\n",
       " 'DAVINCHI',\n",
       " 'DAVINCHI',\n",
       " 'Saint G',\n",
       " 'Saint G',\n",
       " 'Geox']"
      ]
     },
     "execution_count": 117,
     "metadata": {},
     "output_type": "execute_result"
    }
   ],
   "source": [
    "brand_tag = driver.find_elements_by_xpath(\"//h3[@class='product-brand']\")\n",
    "brand_tag\n",
    "\n",
    "for i in brand_tag:\n",
    "    brand_tag = i.text\n",
    "    Brand.append(brand_tag)\n",
    "Brand"
   ]
  },
  {
   "cell_type": "code",
   "execution_count": 118,
   "metadata": {},
   "outputs": [
    {
     "name": "stderr",
     "output_type": "stream",
     "text": [
      "<ipython-input-118-480462c74f48>:1: DeprecationWarning: find_elements_by_* commands are deprecated. Please use find_elements() instead\n",
      "  desc_tag = driver.find_elements_by_xpath(\"//h4[@class='product-product']\")\n"
     ]
    },
    {
     "data": {
      "text/plain": [
       "['Men Running Shoes',\n",
       " 'Men Textured Sneakers',\n",
       " 'Men Perforations Slip-On Sneakers',\n",
       " 'Men GT-800 Running Shoes',\n",
       " 'Men Running Shoes',\n",
       " 'Men Deviate Nitro Running Shoe',\n",
       " 'Men GEL-KAYANO 27 Shoes',\n",
       " 'Men Waffle One SE Sneakers',\n",
       " 'TREKKING 100 Boots',\n",
       " 'Men Solid Leather Formal Slip-Ons',\n",
       " 'Women Leather Heeled Boots',\n",
       " 'Men Black Running Sports Shoes',\n",
       " 'Men Solid Leather Formal Derbys',\n",
       " 'Men Leather Slip-On Sneakers',\n",
       " 'Men Mid-Top Chelsea Boots',\n",
       " 'Skycourt Sneakers',\n",
       " 'Men Formal Derbys',\n",
       " 'Leather Block Heeled Boots',\n",
       " 'Textured High-Top Flat Boots',\n",
       " 'Men Solid Leather Formal Slip-Ons',\n",
       " 'Men Leather Loafers',\n",
       " 'Men Walking Shoes',\n",
       " 'Women Charged Vantage ClrShft',\n",
       " 'Suede Block Heeled Boots',\n",
       " 'Men Leather Slip-On Sneakers',\n",
       " 'Women High-Top Heeled Boots',\n",
       " 'Men Leather Slip-On Shoes',\n",
       " 'Men TR Ultra Sneakers',\n",
       " 'Men Solid Formal Slip-Ons',\n",
       " 'Men Colourblocked PU Sneakers',\n",
       " 'Men Textured Leather Formal Oxfords',\n",
       " 'Men GENERATION ZEROGRAND STITCHLITE',\n",
       " 'Men Leather Flat Boots',\n",
       " 'Men Textured Leather High-Top Flat Boots',\n",
       " 'Men Leather Formal Derbys',\n",
       " 'Men Solid Leather Formal Derbys',\n",
       " 'Women BILLION SUBTLE Sneakers',\n",
       " 'Men Printed Leather Slip-On Sneakers',\n",
       " 'Leather Boots with Buckles',\n",
       " 'Men Textured Leather Loafers',\n",
       " 'Leather Chelsea Boots',\n",
       " 'Women Leather Heeled Boots',\n",
       " 'Men Leather Chelsea Boots',\n",
       " 'Men Leather Formal Derbys',\n",
       " 'Men Solid Formal Leather Slip-Ons',\n",
       " 'Men Solid Leather Formal Debys',\n",
       " 'Men Textured Formal Leather Loafers',\n",
       " 'Woman Black Leather Boots',\n",
       " 'Men Solid Leather Formal Penny Loafers',\n",
       " 'Men Leather Slip-On Shoes',\n",
       " 'Men Leather Slip-On Shoes',\n",
       " 'Men Leather Formal Loafers',\n",
       " 'Men Solid Formal Leather Slip-On Shoes',\n",
       " 'Women Textured Slip-On Sneakers',\n",
       " 'Men Magnify Nitro Running',\n",
       " 'Women Charged Impulse Shft',\n",
       " 'Men Leather Slip-On Shoes',\n",
       " 'Men Wingtip Oxford Sneakers',\n",
       " 'Men Black Walking Shoes',\n",
       " 'Men Running Shoes',\n",
       " 'Men Solid Sneakers',\n",
       " 'Women Mid Top Chunky Flat Boot',\n",
       " 'PEAKFREAK OUTDRY Trekking Shoe',\n",
       " 'Women Running Shoes',\n",
       " 'Men Textured Leather Loafers',\n",
       " 'Men Leather Derbys',\n",
       " 'Men Solid Leather Formal Monks',\n",
       " 'Men Solid Loafers',\n",
       " 'Men Running Shoes',\n",
       " 'Men Running Shoes',\n",
       " 'Men Solid Leather Formal Slip-Ons',\n",
       " 'Men Running Shoes',\n",
       " 'Men Running Shoes',\n",
       " 'Men Running Shoes',\n",
       " 'Men Leather Driving Shoes',\n",
       " 'Men Perforations Leather Derbys',\n",
       " 'Men Textured Leather Loafers',\n",
       " 'Men Leather Formal Derbys',\n",
       " 'Men Leather Flat Boots',\n",
       " 'Men Solid Leather Formal Derbys',\n",
       " 'Men Black Leather Loafers',\n",
       " 'Men Solid Leather Formal Monks',\n",
       " 'Women Solid Leather Pumps',\n",
       " 'Men Nubuck Sneakers',\n",
       " 'Men Vomero 16 Running Shoes',\n",
       " 'Men X9000L2 Running Shoes',\n",
       " 'Ustraa black',\n",
       " 'Solid Slip On Shoes',\n",
       " 'Solid Leather Formal Shoes',\n",
       " 'Men Leather Driving Shoes',\n",
       " 'Men Formal Leather Slip-Ons',\n",
       " 'Men X9000L3 Running Shoes',\n",
       " 'Men Solid Leather Formal Derbys',\n",
       " 'Men Textured Leather Formal Loafers',\n",
       " 'Women Leather Sneakers',\n",
       " 'Men Textured Formal Leather Oxfords',\n",
       " 'Men Textured Formal Leather Loafers',\n",
       " 'Leather Block Peep Toes',\n",
       " 'Leather Block Sandals',\n",
       " 'Women Leather Heeled Loafers']"
      ]
     },
     "execution_count": 118,
     "metadata": {},
     "output_type": "execute_result"
    }
   ],
   "source": [
    "desc_tag = driver.find_elements_by_xpath(\"//h4[@class='product-product']\")\n",
    "desc_tag\n",
    "\n",
    "for i in desc_tag:\n",
    "    dis = i.text\n",
    "    Description.append(dis)\n",
    "Description"
   ]
  },
  {
   "cell_type": "code",
   "execution_count": 119,
   "metadata": {},
   "outputs": [
    {
     "name": "stderr",
     "output_type": "stream",
     "text": [
      "<ipython-input-119-c7a106735362>:1: DeprecationWarning: find_elements_by_* commands are deprecated. Please use find_elements() instead\n",
      "  price_tag = driver.find_elements_by_xpath(\"//div[@class='product-price']/span[1]\")\n"
     ]
    },
    {
     "data": {
      "text/plain": [
       "['Rs. 6499Rs. 12999',\n",
       " 'Rs. 6999Rs. 9999',\n",
       " 'Rs. 6999Rs. 9999',\n",
       " 'Rs. 6999',\n",
       " 'Rs. 7999',\n",
       " 'Rs. 8999Rs. 14999',\n",
       " 'Rs. 10499Rs. 14999',\n",
       " 'Rs. 8295',\n",
       " 'Rs. 6999',\n",
       " 'Rs. 8099Rs. 8999',\n",
       " 'Rs. 11900Rs. 13900',\n",
       " 'Rs. 7999',\n",
       " 'Rs. 8999Rs. 9999',\n",
       " 'Rs. 6299Rs. 6999',\n",
       " 'Rs. 9810Rs. 10900',\n",
       " 'Rs. 7999',\n",
       " 'Rs. 8999Rs. 9999',\n",
       " 'Rs. 9999',\n",
       " 'Rs. 6791Rs. 7990',\n",
       " 'Rs. 8999Rs. 9999',\n",
       " 'Rs. 6293Rs. 8990',\n",
       " 'Rs. 8999',\n",
       " 'Rs. 7999',\n",
       " 'Rs. 10350Rs. 11500',\n",
       " 'Rs. 7999Rs. 9999',\n",
       " 'Rs. 9800Rs. 13900',\n",
       " 'Rs. 6990',\n",
       " 'Rs. 6499',\n",
       " 'Rs. 8999Rs. 9999',\n",
       " 'Rs. 8999Rs. 9999',\n",
       " 'Rs. 8990',\n",
       " 'Rs. 8399Rs. 11999',\n",
       " 'Rs. 11999',\n",
       " 'Rs. 11999',\n",
       " 'Rs. 6299Rs. 6999',\n",
       " 'Rs. 6990',\n",
       " 'Rs. 6499',\n",
       " 'Rs. 10999',\n",
       " 'Rs. 8500Rs. 10500',\n",
       " 'Rs. 7990',\n",
       " 'Rs. 6299Rs. 6999',\n",
       " 'Rs. 6900Rs. 8900',\n",
       " 'Rs. 10710Rs. 11900',\n",
       " 'Rs. 9999',\n",
       " 'Rs. 8999Rs. 9999',\n",
       " 'Rs. 8999',\n",
       " 'Rs. 8990',\n",
       " 'Rs. 11250Rs. 12500',\n",
       " 'Rs. 7693Rs. 10990',\n",
       " 'Rs. 6990',\n",
       " 'Rs. 6990',\n",
       " 'Rs. 6990',\n",
       " 'Rs. 6990',\n",
       " 'Rs. 7999',\n",
       " 'Rs. 7149Rs. 12999',\n",
       " 'Rs. 7499',\n",
       " 'Rs. 6990',\n",
       " 'Rs. 10399Rs. 12999',\n",
       " 'Rs. 8999',\n",
       " 'Rs. 9999',\n",
       " 'Rs. 11899Rs. 16999',\n",
       " 'Rs. 6791Rs. 7990',\n",
       " 'Rs. 9999',\n",
       " 'Rs. 6599',\n",
       " 'Rs. 7990',\n",
       " 'Rs. 7199Rs. 7999',\n",
       " 'Rs. 6990',\n",
       " 'Rs. 8990',\n",
       " 'Rs. 6999',\n",
       " 'Rs. 6999',\n",
       " 'Rs. 6990',\n",
       " 'Rs. 6999',\n",
       " 'Rs. 6599',\n",
       " 'Rs. 7699',\n",
       " 'Rs. 9999',\n",
       " 'Rs. 6299Rs. 6999',\n",
       " 'Rs. 7149Rs. 10999',\n",
       " 'Rs. 11490',\n",
       " 'Rs. 7999Rs. 9999',\n",
       " 'Rs. 6995',\n",
       " 'Rs. 8490',\n",
       " 'Rs. 8990',\n",
       " 'Rs. 7999',\n",
       " 'Rs. 7999',\n",
       " 'Rs. 9446Rs. 13495',\n",
       " 'Rs. 6499Rs. 9999',\n",
       " 'Rs. 8990',\n",
       " 'Rs. 7990',\n",
       " 'Rs. 7990',\n",
       " 'Rs. 7499',\n",
       " 'Rs. 8990',\n",
       " 'Rs. 11999',\n",
       " 'Rs. 8990',\n",
       " 'Rs. 8990',\n",
       " 'Rs. 7900',\n",
       " 'Rs. 7990',\n",
       " 'Rs. 8990',\n",
       " 'Rs. 9450Rs. 10500',\n",
       " 'Rs. 9850Rs. 10900',\n",
       " 'Rs. 8999']"
      ]
     },
     "execution_count": 119,
     "metadata": {},
     "output_type": "execute_result"
    }
   ],
   "source": [
    "price_tag = driver.find_elements_by_xpath(\"//div[@class='product-price']/span[1]\")\n",
    "price_tag\n",
    "\n",
    "for i in price_tag:\n",
    "    price = i.text\n",
    "    Price.append(price)\n",
    "Price"
   ]
  },
  {
   "cell_type": "code",
   "execution_count": 120,
   "metadata": {},
   "outputs": [
    {
     "name": "stdout",
     "output_type": "stream",
     "text": [
      "100 100 100\n"
     ]
    }
   ],
   "source": [
    "print(len(Brand),len(Description),len(Price))\n"
   ]
  },
  {
   "cell_type": "code",
   "execution_count": 121,
   "metadata": {},
   "outputs": [
    {
     "data": {
      "text/html": [
       "<div>\n",
       "<style scoped>\n",
       "    .dataframe tbody tr th:only-of-type {\n",
       "        vertical-align: middle;\n",
       "    }\n",
       "\n",
       "    .dataframe tbody tr th {\n",
       "        vertical-align: top;\n",
       "    }\n",
       "\n",
       "    .dataframe thead th {\n",
       "        text-align: right;\n",
       "    }\n",
       "</style>\n",
       "<table border=\"1\" class=\"dataframe\">\n",
       "  <thead>\n",
       "    <tr style=\"text-align: right;\">\n",
       "      <th></th>\n",
       "      <th>Brand</th>\n",
       "      <th>Description</th>\n",
       "      <th>Price</th>\n",
       "    </tr>\n",
       "  </thead>\n",
       "  <tbody>\n",
       "    <tr>\n",
       "      <th>0</th>\n",
       "      <td>Puma</td>\n",
       "      <td>Men Running Shoes</td>\n",
       "      <td>Rs. 6499Rs. 12999</td>\n",
       "    </tr>\n",
       "    <tr>\n",
       "      <th>1</th>\n",
       "      <td>ALDO</td>\n",
       "      <td>Men Textured Sneakers</td>\n",
       "      <td>Rs. 6999Rs. 9999</td>\n",
       "    </tr>\n",
       "    <tr>\n",
       "      <th>2</th>\n",
       "      <td>ALDO</td>\n",
       "      <td>Men Perforations Slip-On Sneakers</td>\n",
       "      <td>Rs. 6999Rs. 9999</td>\n",
       "    </tr>\n",
       "    <tr>\n",
       "      <th>3</th>\n",
       "      <td>ASICS</td>\n",
       "      <td>Men GT-800 Running Shoes</td>\n",
       "      <td>Rs. 6999</td>\n",
       "    </tr>\n",
       "    <tr>\n",
       "      <th>4</th>\n",
       "      <td>ASICS</td>\n",
       "      <td>Men Running Shoes</td>\n",
       "      <td>Rs. 7999</td>\n",
       "    </tr>\n",
       "    <tr>\n",
       "      <th>...</th>\n",
       "      <td>...</td>\n",
       "      <td>...</td>\n",
       "      <td>...</td>\n",
       "    </tr>\n",
       "    <tr>\n",
       "      <th>95</th>\n",
       "      <td>DAVINCHI</td>\n",
       "      <td>Men Textured Formal Leather Oxfords</td>\n",
       "      <td>Rs. 7990</td>\n",
       "    </tr>\n",
       "    <tr>\n",
       "      <th>96</th>\n",
       "      <td>DAVINCHI</td>\n",
       "      <td>Men Textured Formal Leather Loafers</td>\n",
       "      <td>Rs. 8990</td>\n",
       "    </tr>\n",
       "    <tr>\n",
       "      <th>97</th>\n",
       "      <td>Saint G</td>\n",
       "      <td>Leather Block Peep Toes</td>\n",
       "      <td>Rs. 9450Rs. 10500</td>\n",
       "    </tr>\n",
       "    <tr>\n",
       "      <th>98</th>\n",
       "      <td>Saint G</td>\n",
       "      <td>Leather Block Sandals</td>\n",
       "      <td>Rs. 9850Rs. 10900</td>\n",
       "    </tr>\n",
       "    <tr>\n",
       "      <th>99</th>\n",
       "      <td>Geox</td>\n",
       "      <td>Women Leather Heeled Loafers</td>\n",
       "      <td>Rs. 8999</td>\n",
       "    </tr>\n",
       "  </tbody>\n",
       "</table>\n",
       "<p>100 rows × 3 columns</p>\n",
       "</div>"
      ],
      "text/plain": [
       "       Brand                          Description              Price\n",
       "0       Puma                    Men Running Shoes  Rs. 6499Rs. 12999\n",
       "1       ALDO                Men Textured Sneakers   Rs. 6999Rs. 9999\n",
       "2       ALDO    Men Perforations Slip-On Sneakers   Rs. 6999Rs. 9999\n",
       "3      ASICS             Men GT-800 Running Shoes           Rs. 6999\n",
       "4      ASICS                    Men Running Shoes           Rs. 7999\n",
       "..       ...                                  ...                ...\n",
       "95  DAVINCHI  Men Textured Formal Leather Oxfords           Rs. 7990\n",
       "96  DAVINCHI  Men Textured Formal Leather Loafers           Rs. 8990\n",
       "97   Saint G              Leather Block Peep Toes  Rs. 9450Rs. 10500\n",
       "98   Saint G                Leather Block Sandals  Rs. 9850Rs. 10900\n",
       "99      Geox         Women Leather Heeled Loafers           Rs. 8999\n",
       "\n",
       "[100 rows x 3 columns]"
      ]
     },
     "execution_count": 121,
     "metadata": {},
     "output_type": "execute_result"
    }
   ],
   "source": [
    "my_data = pd.DataFrame({})\n",
    "my_data['Brand'] = Brand\n",
    "my_data['Description'] = Description\n",
    "my_data['Price'] = Price\n",
    "\n",
    "\n",
    "my_data"
   ]
  },
  {
   "cell_type": "markdown",
   "metadata": {},
   "source": [
    "#QUESTION 8"
   ]
  },
  {
   "cell_type": "code",
   "execution_count": 122,
   "metadata": {},
   "outputs": [
    {
     "name": "stderr",
     "output_type": "stream",
     "text": [
      "<ipython-input-122-f5e291cbc091>:1: DeprecationWarning: executable_path has been deprecated, please pass in a Service object\n",
      "  driver = webdriver.Chrome('C:/Users/Kishan/Downloads/chromedriver_win32/chromedriver.exe')\n"
     ]
    }
   ],
   "source": [
    "driver = webdriver.Chrome('C:/Users/Kishan/Downloads/chromedriver_win32/chromedriver.exe')"
   ]
  },
  {
   "cell_type": "code",
   "execution_count": 123,
   "metadata": {},
   "outputs": [],
   "source": [
    "driver.get('https://www.amazon.in/')"
   ]
  },
  {
   "cell_type": "code",
   "execution_count": 124,
   "metadata": {},
   "outputs": [
    {
     "name": "stderr",
     "output_type": "stream",
     "text": [
      "<ipython-input-124-e6cc5cc61eab>:1: DeprecationWarning: find_element_by_* commands are deprecated. Please use find_element() instead\n",
      "  search_job = driver.find_element_by_id('twotabsearchtextbox')\n"
     ]
    }
   ],
   "source": [
    "search_job = driver.find_element_by_id('twotabsearchtextbox')\n",
    "search_job.send_keys(\"laptop\")"
   ]
  },
  {
   "cell_type": "code",
   "execution_count": 126,
   "metadata": {},
   "outputs": [
    {
     "name": "stderr",
     "output_type": "stream",
     "text": [
      "<ipython-input-126-eade01f5be54>:1: DeprecationWarning: find_element_by_* commands are deprecated. Please use find_element() instead\n",
      "  search_btnw = driver.find_element_by_xpath(\"/html/body/div[1]/div[2]/div[1]/div[2]/div/div[3]/span/div[1]/span/div/div/div[5]/ul[1]/li[11]/span/a/div/label/i\")\n"
     ]
    },
    {
     "ename": "NoSuchElementException",
     "evalue": "Message: no such element: Unable to locate element: {\"method\":\"xpath\",\"selector\":\"/html/body/div[1]/div[2]/div[1]/div[2]/div/div[3]/span/div[1]/span/div/div/div[5]/ul[1]/li[11]/span/a/div/label/i\"}\n  (Session info: chrome=96.0.4664.110)\nStacktrace:\nBacktrace:\n\tOrdinal0 [0x00B06903+2517251]\n\tOrdinal0 [0x00A9F8E1+2095329]\n\tOrdinal0 [0x009A2848+1058888]\n\tOrdinal0 [0x009CD448+1233992]\n\tOrdinal0 [0x009CD63B+1234491]\n\tOrdinal0 [0x009F7812+1406994]\n\tOrdinal0 [0x009E650A+1336586]\n\tOrdinal0 [0x009F5BBF+1399743]\n\tOrdinal0 [0x009E639B+1336219]\n\tOrdinal0 [0x009C27A7+1189799]\n\tOrdinal0 [0x009C3609+1193481]\n\tGetHandleVerifier [0x00C95904+1577972]\n\tGetHandleVerifier [0x00D40B97+2279047]\n\tGetHandleVerifier [0x00B96D09+534521]\n\tGetHandleVerifier [0x00B95DB9+530601]\n\tOrdinal0 [0x00AA4FF9+2117625]\n\tOrdinal0 [0x00AA98A8+2136232]\n\tOrdinal0 [0x00AA99E2+2136546]\n\tOrdinal0 [0x00AB3541+2176321]\n\tBaseThreadInitThunk [0x75EEFA29+25]\n\tRtlGetAppContainerNamedObjectPath [0x770F7A9E+286]\n\tRtlGetAppContainerNamedObjectPath [0x770F7A6E+238]\n",
     "output_type": "error",
     "traceback": [
      "\u001b[1;31m---------------------------------------------------------------------------\u001b[0m",
      "\u001b[1;31mNoSuchElementException\u001b[0m                    Traceback (most recent call last)",
      "\u001b[1;32m<ipython-input-126-eade01f5be54>\u001b[0m in \u001b[0;36m<module>\u001b[1;34m\u001b[0m\n\u001b[1;32m----> 1\u001b[1;33m \u001b[0msearch_btnw\u001b[0m \u001b[1;33m=\u001b[0m \u001b[0mdriver\u001b[0m\u001b[1;33m.\u001b[0m\u001b[0mfind_element_by_xpath\u001b[0m\u001b[1;33m(\u001b[0m\u001b[1;34m\"/html/body/div[1]/div[2]/div[1]/div[2]/div/div[3]/span/div[1]/span/div/div/div[5]/ul[1]/li[11]/span/a/div/label/i\"\u001b[0m\u001b[1;33m)\u001b[0m\u001b[1;33m\u001b[0m\u001b[1;33m\u001b[0m\u001b[0m\n\u001b[0m\u001b[0;32m      2\u001b[0m \u001b[0msearch_btnw\u001b[0m\u001b[1;33m.\u001b[0m\u001b[0mclick\u001b[0m\u001b[1;33m(\u001b[0m\u001b[1;33m)\u001b[0m\u001b[1;33m\u001b[0m\u001b[1;33m\u001b[0m\u001b[0m\n",
      "\u001b[1;32m~\\anaconda3\\lib\\site-packages\\selenium\\webdriver\\remote\\webdriver.py\u001b[0m in \u001b[0;36mfind_element_by_xpath\u001b[1;34m(self, xpath)\u001b[0m\n\u001b[0;32m    518\u001b[0m             \u001b[0mstacklevel\u001b[0m\u001b[1;33m=\u001b[0m\u001b[1;36m2\u001b[0m\u001b[1;33m,\u001b[0m\u001b[1;33m\u001b[0m\u001b[1;33m\u001b[0m\u001b[0m\n\u001b[0;32m    519\u001b[0m         )\n\u001b[1;32m--> 520\u001b[1;33m         \u001b[1;32mreturn\u001b[0m \u001b[0mself\u001b[0m\u001b[1;33m.\u001b[0m\u001b[0mfind_element\u001b[0m\u001b[1;33m(\u001b[0m\u001b[0mby\u001b[0m\u001b[1;33m=\u001b[0m\u001b[0mBy\u001b[0m\u001b[1;33m.\u001b[0m\u001b[0mXPATH\u001b[0m\u001b[1;33m,\u001b[0m \u001b[0mvalue\u001b[0m\u001b[1;33m=\u001b[0m\u001b[0mxpath\u001b[0m\u001b[1;33m)\u001b[0m\u001b[1;33m\u001b[0m\u001b[1;33m\u001b[0m\u001b[0m\n\u001b[0m\u001b[0;32m    521\u001b[0m \u001b[1;33m\u001b[0m\u001b[0m\n\u001b[0;32m    522\u001b[0m     \u001b[1;32mdef\u001b[0m \u001b[0mfind_elements_by_xpath\u001b[0m\u001b[1;33m(\u001b[0m\u001b[0mself\u001b[0m\u001b[1;33m,\u001b[0m \u001b[0mxpath\u001b[0m\u001b[1;33m)\u001b[0m \u001b[1;33m->\u001b[0m \u001b[0mWebElement\u001b[0m\u001b[1;33m:\u001b[0m\u001b[1;33m\u001b[0m\u001b[1;33m\u001b[0m\u001b[0m\n",
      "\u001b[1;32m~\\anaconda3\\lib\\site-packages\\selenium\\webdriver\\remote\\webdriver.py\u001b[0m in \u001b[0;36mfind_element\u001b[1;34m(self, by, value)\u001b[0m\n\u001b[0;32m   1242\u001b[0m             \u001b[0mvalue\u001b[0m \u001b[1;33m=\u001b[0m \u001b[1;34m'[name=\"%s\"]'\u001b[0m \u001b[1;33m%\u001b[0m \u001b[0mvalue\u001b[0m\u001b[1;33m\u001b[0m\u001b[1;33m\u001b[0m\u001b[0m\n\u001b[0;32m   1243\u001b[0m \u001b[1;33m\u001b[0m\u001b[0m\n\u001b[1;32m-> 1244\u001b[1;33m         return self.execute(Command.FIND_ELEMENT, {\n\u001b[0m\u001b[0;32m   1245\u001b[0m             \u001b[1;34m'using'\u001b[0m\u001b[1;33m:\u001b[0m \u001b[0mby\u001b[0m\u001b[1;33m,\u001b[0m\u001b[1;33m\u001b[0m\u001b[1;33m\u001b[0m\u001b[0m\n\u001b[0;32m   1246\u001b[0m             'value': value})['value']\n",
      "\u001b[1;32m~\\anaconda3\\lib\\site-packages\\selenium\\webdriver\\remote\\webdriver.py\u001b[0m in \u001b[0;36mexecute\u001b[1;34m(self, driver_command, params)\u001b[0m\n\u001b[0;32m    422\u001b[0m         \u001b[0mresponse\u001b[0m \u001b[1;33m=\u001b[0m \u001b[0mself\u001b[0m\u001b[1;33m.\u001b[0m\u001b[0mcommand_executor\u001b[0m\u001b[1;33m.\u001b[0m\u001b[0mexecute\u001b[0m\u001b[1;33m(\u001b[0m\u001b[0mdriver_command\u001b[0m\u001b[1;33m,\u001b[0m \u001b[0mparams\u001b[0m\u001b[1;33m)\u001b[0m\u001b[1;33m\u001b[0m\u001b[1;33m\u001b[0m\u001b[0m\n\u001b[0;32m    423\u001b[0m         \u001b[1;32mif\u001b[0m \u001b[0mresponse\u001b[0m\u001b[1;33m:\u001b[0m\u001b[1;33m\u001b[0m\u001b[1;33m\u001b[0m\u001b[0m\n\u001b[1;32m--> 424\u001b[1;33m             \u001b[0mself\u001b[0m\u001b[1;33m.\u001b[0m\u001b[0merror_handler\u001b[0m\u001b[1;33m.\u001b[0m\u001b[0mcheck_response\u001b[0m\u001b[1;33m(\u001b[0m\u001b[0mresponse\u001b[0m\u001b[1;33m)\u001b[0m\u001b[1;33m\u001b[0m\u001b[1;33m\u001b[0m\u001b[0m\n\u001b[0m\u001b[0;32m    425\u001b[0m             response['value'] = self._unwrap_value(\n\u001b[0;32m    426\u001b[0m                 response.get('value', None))\n",
      "\u001b[1;32m~\\anaconda3\\lib\\site-packages\\selenium\\webdriver\\remote\\errorhandler.py\u001b[0m in \u001b[0;36mcheck_response\u001b[1;34m(self, response)\u001b[0m\n\u001b[0;32m    245\u001b[0m                 \u001b[0malert_text\u001b[0m \u001b[1;33m=\u001b[0m \u001b[0mvalue\u001b[0m\u001b[1;33m[\u001b[0m\u001b[1;34m'alert'\u001b[0m\u001b[1;33m]\u001b[0m\u001b[1;33m.\u001b[0m\u001b[0mget\u001b[0m\u001b[1;33m(\u001b[0m\u001b[1;34m'text'\u001b[0m\u001b[1;33m)\u001b[0m\u001b[1;33m\u001b[0m\u001b[1;33m\u001b[0m\u001b[0m\n\u001b[0;32m    246\u001b[0m             \u001b[1;32mraise\u001b[0m \u001b[0mexception_class\u001b[0m\u001b[1;33m(\u001b[0m\u001b[0mmessage\u001b[0m\u001b[1;33m,\u001b[0m \u001b[0mscreen\u001b[0m\u001b[1;33m,\u001b[0m \u001b[0mstacktrace\u001b[0m\u001b[1;33m,\u001b[0m \u001b[0malert_text\u001b[0m\u001b[1;33m)\u001b[0m  \u001b[1;31m# type: ignore[call-arg]  # mypy is not smart enough here\u001b[0m\u001b[1;33m\u001b[0m\u001b[1;33m\u001b[0m\u001b[0m\n\u001b[1;32m--> 247\u001b[1;33m         \u001b[1;32mraise\u001b[0m \u001b[0mexception_class\u001b[0m\u001b[1;33m(\u001b[0m\u001b[0mmessage\u001b[0m\u001b[1;33m,\u001b[0m \u001b[0mscreen\u001b[0m\u001b[1;33m,\u001b[0m \u001b[0mstacktrace\u001b[0m\u001b[1;33m)\u001b[0m\u001b[1;33m\u001b[0m\u001b[1;33m\u001b[0m\u001b[0m\n\u001b[0m\u001b[0;32m    248\u001b[0m \u001b[1;33m\u001b[0m\u001b[0m\n\u001b[0;32m    249\u001b[0m     \u001b[1;32mdef\u001b[0m \u001b[0m_value_or_default\u001b[0m\u001b[1;33m(\u001b[0m\u001b[0mself\u001b[0m\u001b[1;33m,\u001b[0m \u001b[0mobj\u001b[0m\u001b[1;33m:\u001b[0m \u001b[0mMapping\u001b[0m\u001b[1;33m[\u001b[0m\u001b[0m_KT\u001b[0m\u001b[1;33m,\u001b[0m \u001b[0m_VT\u001b[0m\u001b[1;33m]\u001b[0m\u001b[1;33m,\u001b[0m \u001b[0mkey\u001b[0m\u001b[1;33m:\u001b[0m \u001b[0m_KT\u001b[0m\u001b[1;33m,\u001b[0m \u001b[0mdefault\u001b[0m\u001b[1;33m:\u001b[0m \u001b[0m_VT\u001b[0m\u001b[1;33m)\u001b[0m \u001b[1;33m->\u001b[0m \u001b[0m_VT\u001b[0m\u001b[1;33m:\u001b[0m\u001b[1;33m\u001b[0m\u001b[1;33m\u001b[0m\u001b[0m\n",
      "\u001b[1;31mNoSuchElementException\u001b[0m: Message: no such element: Unable to locate element: {\"method\":\"xpath\",\"selector\":\"/html/body/div[1]/div[2]/div[1]/div[2]/div/div[3]/span/div[1]/span/div/div/div[5]/ul[1]/li[11]/span/a/div/label/i\"}\n  (Session info: chrome=96.0.4664.110)\nStacktrace:\nBacktrace:\n\tOrdinal0 [0x00B06903+2517251]\n\tOrdinal0 [0x00A9F8E1+2095329]\n\tOrdinal0 [0x009A2848+1058888]\n\tOrdinal0 [0x009CD448+1233992]\n\tOrdinal0 [0x009CD63B+1234491]\n\tOrdinal0 [0x009F7812+1406994]\n\tOrdinal0 [0x009E650A+1336586]\n\tOrdinal0 [0x009F5BBF+1399743]\n\tOrdinal0 [0x009E639B+1336219]\n\tOrdinal0 [0x009C27A7+1189799]\n\tOrdinal0 [0x009C3609+1193481]\n\tGetHandleVerifier [0x00C95904+1577972]\n\tGetHandleVerifier [0x00D40B97+2279047]\n\tGetHandleVerifier [0x00B96D09+534521]\n\tGetHandleVerifier [0x00B95DB9+530601]\n\tOrdinal0 [0x00AA4FF9+2117625]\n\tOrdinal0 [0x00AA98A8+2136232]\n\tOrdinal0 [0x00AA99E2+2136546]\n\tOrdinal0 [0x00AB3541+2176321]\n\tBaseThreadInitThunk [0x75EEFA29+25]\n\tRtlGetAppContainerNamedObjectPath [0x770F7A9E+286]\n\tRtlGetAppContainerNamedObjectPath [0x770F7A6E+238]\n"
     ]
    }
   ],
   "source": [
    "search_btnw = driver.find_element_by_xpath(\"/html/body/div[1]/div[2]/div[1]/div[2]/div/div[3]/span/div[1]/span/div/div/div[5]/ul[1]/li[11]/span/a/div/label/i\")\n",
    "search_btnw.click()"
   ]
  },
  {
   "cell_type": "code",
   "execution_count": 127,
   "metadata": {},
   "outputs": [],
   "source": [
    "Title = []\n",
    "Ratings = []\n",
    "Price = []"
   ]
  },
  {
   "cell_type": "code",
   "execution_count": 128,
   "metadata": {},
   "outputs": [
    {
     "name": "stderr",
     "output_type": "stream",
     "text": [
      "<ipython-input-128-402b0ab7087a>:1: DeprecationWarning: find_elements_by_* commands are deprecated. Please use find_elements() instead\n",
      "  titletag = driver.find_elements_by_xpath(\"//span[@class='a-size-medium a-color-base a-text-normal']\")\n"
     ]
    },
    {
     "data": {
      "text/plain": [
       "['Acer Nitro 5 AN515-57 Gaming Laptop | Intel Core i5-11400H | NVIDIA GeForce RTX 3050 Laptop Graphics | 15.6\" FHD 144Hz IPS Display |16GB |256GB SSD+1TB HDD | Killer Wi-Fi 6 | RGB Backlit Keyboard',\n",
       " 'Fujitsu UH-X 11th Gen Intel Core i5 13.3 inches FHD IPS 400Nits Thin and Light Business Laptop (8GB/512GB SSD/Windows 10 Home/Office/Iris Xe Graphics/Backlit Kb/ Fingerprint Reader/Black/0.878kg), 4ZR1D67595',\n",
       " 'Dell 15 (2021) Ryzen 3-3250U Laptop, 8GB DDR4, 256GB SSD, Win 10 + MS Office, Radeon Graphics, 15.6\" (39.62 cms) FHD Display, Carbon Black (Inspiron 3515, D560523WIN9BE)',\n",
       " 'Lenovo IdeaPad Slim 1 Intel Celeron N4020 11.6\" (29.46cm) HD Thin & Light Laptop (4GB/256 GB SSD/Windows 10/MS Office/Platinum Grey/1.2Kg), 81VT0071IN',\n",
       " 'AVITA Cosmos 2 in 1 Celeron Dual Core - (4 GB/64 GB EMMC Storage/Windows 10 Home) NS12T5IN021P 2 in 1 Laptop (11.6 inch, Charcoal Grey, 1.327 kg)',\n",
       " 'Acer Aspire 5 A515-56 Thin and Light Laptop | 15.6\" Full HD Display | 11th Gen Intel Core i5-1135G7 Processor | 8GB DDR4 |512GB SSD | HD Webcam|Backlit KB| WiFi 6| Windows 10 Home | MS Office | 1.65Kg',\n",
       " 'RDP ThinBook 1010 - Intel Celeron Quad Core Processor, 4GB RAM, 64GB Storage, Windows 10 Pro, 14.1” HD Screen',\n",
       " 'Acer Travelmate Business Laptop Intel Celeron N4020 Dual-core Processor ( 4GB DDR4/ 128GB SSD / UHD Graphics/ Windows 10 Home/Spill Resistant Keyboard) TMB311-31 with 29.4 cm (11.6 Inches) HD Display',\n",
       " 'HP Chromebook 14-inch (35.56 cms) Thin & Light Touchscreen Laptop (Celeron N4020/4GB/64GB eMMC + 256GB Expandable Storage/Chrome OS/1.46 kgs Light/ Mineral Silver), 14a-na0003TU',\n",
       " 'HP Chromebook Intel Celeron N4020 14 inches Touchscreen Business Laptop (4GB/64GB eMMC + 256GB Expandable Storage/Chrome OS/Integrated Graphics, Ceramic White, 1.46kg), 14a-na0002TU',\n",
       " 'Lenovo IdeaPad Slim 3 2021 Intel Core i3 11th Gen 14 FHD IPS Thin & Light Laptop (8GB/256GB SSD/Windows 10/MS Office/Backlit Keyboard/Fingerprint Reader/2 Year Warranty/Arctic Grey/1.41kg), 82H700SVIN',\n",
       " 'Lenovo V15 Intel Celeron N4020 15.6\" FHD (1080p)(39.62 cm) HD Thin and Light Laptop (4GB RAM/1 TB HDD / DOS /Iron Grey/1 Year Onsite Warranty/1.7 kg), 82C30052IH',\n",
       " 'HP Chromebook x360 14-inch (35.56 cms) Thin & Light Touchscreen Laptop (AMD 3015CE/4GB/64GB eMMC Storage/Chrome OS/Ceramic White/1.49 kg), 14a-cb0006AU',\n",
       " 'Acer Extensa 15 Thin & Light Intel Processor Pentium Silver N5030 15.6 inches Business Laptop (4GB RAM/1TB HDD/Windows 10 Home/Integrated Graphic Card/Black/1.9 Kg, EX215-31)',\n",
       " \"Lenovo IdeaPad 3 Intel Celeron N4020 14'' HD Thin & Light Laptop (4GB/256GB HDD/Windows 11/MS Office 2021/Platinum Grey/1.5Kg), 81WH007KIN\",\n",
       " 'Dell 15 (2021) Ryzen 5-3450U Laptop, 8GB DDR4, 256GB SSD, Win 10 + MS Office, Vega Graphics, 15.6\" (39.61 cms) FHD Display, Soft Mint (Inspiron 3505, D560616WIN9SE)',\n",
       " 'Dell 15 (2021) Athlon Silver 3050U Laptop, 4GB, 256GB SSD, Win 10 + MS Office, 15.6\" (39.61 cms) FHD Display, Radeon Graphics, Soft Mint Color (Inspiron 3505, D560613WIN9SE)',\n",
       " '(Renewed) HP ProBook 430 G1 13.3 inch (33.8 cm) HD Laptop (i5 4th Gen/8 GB RAM/1 TB HDD/Wifi/Bluetooth 4.0/Windows 10 Pro/MS Office/Webcam/Integrated Graphics/Thin & Light/PAN India Warranty)',\n",
       " 'Lenovo Chromebook 14e 14.0\" FHD TouchScreen Business Laptop (AMD A6-9220C Processor/8GB DDR4 RAM/32GB Storage eMMC/AMD Radeon R5 Graphics/Chrome OS/Up to 10 Hours Battery Life/Mineral Grey) 81MH0037HA',\n",
       " 'Lenovo IdeaPad Slim 5 11th Gen Intel Core i5 15.6 inches FHD IPS Business Laptop (16GB/512GB SSD/Windows 10 Home/MS Office/Backlit Keyboard/Fingerprint Reader/Graphite Grey/1.66Kg), 82FG014DIN',\n",
       " 'Lenovo ThinkBook Yoga 14s Intel Core i5 11th Gen 14\" (35.56cm) FHD IPS 300 nits 100% sRGB Dolby Vision 2-in-1 Touchscreen Laptop (8GB RAM/512GB SSD/Windows 10/MS Office/Active Pen/1.50 kg), 20WEA01GIH',\n",
       " 'Lenovo ThinkBook 15 Intel 11th Gen Core i5 15.6\" (39.62 cm) FHD IPS 300 nits Antiglare 100% sRGB Thin and Light Laptop (8GB/1TB HDD+256GB SSD/Windows 10 Home/MS Office/Mineral Grey/1.7 Kg), 20VEA0HFIH',\n",
       " 'Microsoft Surface Laptop 4 AMD Ryzen™ 5 4680U 13.5 inch Touchscreen Laptop (8GB/256GB SSD/Windows 10 Home /AMD Radeon™ Graphics/Platinum/1.265 kg, 25% Off on Microsoft 365)']"
      ]
     },
     "execution_count": 128,
     "metadata": {},
     "output_type": "execute_result"
    }
   ],
   "source": [
    "titletag = driver.find_elements_by_xpath(\"//span[@class='a-size-medium a-color-base a-text-normal']\")\n",
    "titletag\n",
    "\n",
    "for i in titletag:\n",
    "    titletag = i.text\n",
    "    Title.append(titletag)\n",
    "Title"
   ]
  },
  {
   "cell_type": "code",
   "execution_count": 129,
   "metadata": {},
   "outputs": [
    {
     "name": "stderr",
     "output_type": "stream",
     "text": [
      "<ipython-input-129-ca1c992ae56b>:1: DeprecationWarning: find_elements_by_* commands are deprecated. Please use find_elements() instead\n",
      "  ratingtag = driver.find_elements_by_xpath(\"//i[@class = 'a-icon a-icon-star-small a-star-small-4 aok-align-bottom']\")\n"
     ]
    },
    {
     "data": {
      "text/plain": [
       "['', '', '', '', '', '', '', '', '', '', '', '', '']"
      ]
     },
     "execution_count": 129,
     "metadata": {},
     "output_type": "execute_result"
    }
   ],
   "source": [
    "ratingtag = driver.find_elements_by_xpath(\"//i[@class = 'a-icon a-icon-star-small a-star-small-4 aok-align-bottom']\")\n",
    "ratingtag\n",
    "\n",
    "for i in ratingtag:\n",
    "    ratingtag = i.text\n",
    "    Ratings.append(ratingtag)\n",
    "Ratings"
   ]
  },
  {
   "cell_type": "code",
   "execution_count": 130,
   "metadata": {},
   "outputs": [
    {
     "name": "stderr",
     "output_type": "stream",
     "text": [
      "<ipython-input-130-acd71ab850f2>:1: DeprecationWarning: find_elements_by_* commands are deprecated. Please use find_elements() instead\n",
      "  pricetag = driver.find_elements_by_xpath(\"//span[@class='a-price-whole']\")\n"
     ]
    },
    {
     "data": {
      "text/plain": [
       "['76,990',\n",
       " '59,990',\n",
       " '36,890',\n",
       " '29,649',\n",
       " '18,990',\n",
       " '54,790',\n",
       " '19,990',\n",
       " '21,990',\n",
       " '27,990',\n",
       " '25,990',\n",
       " '43,490',\n",
       " '27,890',\n",
       " '29,990',\n",
       " '29,800',\n",
       " '29,490',\n",
       " '41,990',\n",
       " '34,990',\n",
       " '30,999',\n",
       " '25,990',\n",
       " '61,990',\n",
       " '69,990',\n",
       " '58,990',\n",
       " '98,554']"
      ]
     },
     "execution_count": 130,
     "metadata": {},
     "output_type": "execute_result"
    }
   ],
   "source": [
    "pricetag = driver.find_elements_by_xpath(\"//span[@class='a-price-whole']\")\n",
    "pricetag\n",
    "\n",
    "for i in pricetag:\n",
    "    pricetag = i.text\n",
    "    Price.append(pricetag)\n",
    "Price"
   ]
  },
  {
   "cell_type": "code",
   "execution_count": 131,
   "metadata": {},
   "outputs": [
    {
     "name": "stdout",
     "output_type": "stream",
     "text": [
      "23 13 23\n"
     ]
    }
   ],
   "source": [
    "print(len(Title),len(Ratings),len(Price))"
   ]
  },
  {
   "cell_type": "markdown",
   "metadata": {},
   "source": [
    "# QUESTION 9"
   ]
  },
  {
   "cell_type": "code",
   "execution_count": 132,
   "metadata": {},
   "outputs": [
    {
     "name": "stderr",
     "output_type": "stream",
     "text": [
      "<ipython-input-132-f5e291cbc091>:1: DeprecationWarning: executable_path has been deprecated, please pass in a Service object\n",
      "  driver = webdriver.Chrome('C:/Users/Kishan/Downloads/chromedriver_win32/chromedriver.exe')\n"
     ]
    }
   ],
   "source": [
    "driver = webdriver.Chrome('C:/Users/Kishan/Downloads/chromedriver_win32/chromedriver.exe')"
   ]
  },
  {
   "cell_type": "code",
   "execution_count": 133,
   "metadata": {},
   "outputs": [],
   "source": [
    "driver.get('https://www.ambitionbox.com/')"
   ]
  },
  {
   "cell_type": "code",
   "execution_count": 134,
   "metadata": {},
   "outputs": [
    {
     "name": "stderr",
     "output_type": "stream",
     "text": [
      "<ipython-input-134-6ae0b727f5db>:1: DeprecationWarning: find_element_by_* commands are deprecated. Please use find_element() instead\n",
      "  search_button = driver.find_element_by_xpath('/html/body/div[1]/nav/nav/a[6]')\n"
     ]
    }
   ],
   "source": [
    "search_button = driver.find_element_by_xpath('/html/body/div[1]/nav/nav/a[6]')\n",
    "\n",
    "search_button.click()"
   ]
  },
  {
   "cell_type": "code",
   "execution_count": 135,
   "metadata": {},
   "outputs": [
    {
     "name": "stderr",
     "output_type": "stream",
     "text": [
      "<ipython-input-135-1b1a80eae999>:1: DeprecationWarning: find_element_by_* commands are deprecated. Please use find_element() instead\n",
      "  search_button = driver.find_element_by_xpath('/html/body/div/div/div/div[2]/div[1]/div/div/div/div/span/input')\n"
     ]
    }
   ],
   "source": [
    "search_button = driver.find_element_by_xpath('/html/body/div/div/div/div[2]/div[1]/div/div/div/div/span/input')\n",
    "\n",
    "search_button.send_keys('Data Scientist')"
   ]
  },
  {
   "cell_type": "code",
   "execution_count": 136,
   "metadata": {},
   "outputs": [
    {
     "name": "stderr",
     "output_type": "stream",
     "text": [
      "<ipython-input-136-bee71785f77c>:1: DeprecationWarning: find_element_by_* commands are deprecated. Please use find_element() instead\n",
      "  search_button = driver.find_element_by_xpath('/html/body/div/div/div/div[2]/div[1]/div/div/div/button')\n"
     ]
    }
   ],
   "source": [
    "search_button = driver.find_element_by_xpath('/html/body/div/div/div/div[2]/div[1]/div/div/div/button')\n",
    "\n",
    "search_button.click()"
   ]
  },
  {
   "cell_type": "code",
   "execution_count": 138,
   "metadata": {},
   "outputs": [
    {
     "name": "stderr",
     "output_type": "stream",
     "text": [
      "<ipython-input-138-21dff6113e53>:1: DeprecationWarning: find_element_by_* commands are deprecated. Please use find_element() instead\n",
      "  search_button = driver.find_element_by_xpath('/html/body/div/div/div/div[2]/div[2]/div[1]/div/div/div/div[2]/div[1]/p')\n"
     ]
    }
   ],
   "source": [
    "\n",
    "search_button = driver.find_element_by_xpath('/html/body/div/div/div/div[2]/div[2]/div[1]/div/div/div/div[2]/div[1]/p')\n",
    "\n",
    "search_button.click()\n"
   ]
  },
  {
   "cell_type": "code",
   "execution_count": 139,
   "metadata": {},
   "outputs": [
    {
     "name": "stderr",
     "output_type": "stream",
     "text": [
      "<ipython-input-139-337cd3641c18>:1: DeprecationWarning: find_element_by_* commands are deprecated. Please use find_element() instead\n",
      "  search_button = driver.find_element_by_xpath('/html/body/div/div/div/div[2]/div[2]/div[1]/div/div/div/div[2]/div[2]/div/div[2]/input')\n"
     ]
    }
   ],
   "source": [
    "search_button = driver.find_element_by_xpath('/html/body/div/div/div/div[2]/div[2]/div[1]/div/div/div/div[2]/div[2]/div/div[2]/input')\n",
    "\n",
    "search_button.click()\n",
    "search_button.send_keys('noida')\n"
   ]
  },
  {
   "cell_type": "code",
   "execution_count": 140,
   "metadata": {},
   "outputs": [
    {
     "name": "stderr",
     "output_type": "stream",
     "text": [
      "<ipython-input-140-947e0737c722>:1: DeprecationWarning: find_element_by_* commands are deprecated. Please use find_element() instead\n",
      "  search_button = driver.find_element_by_xpath('/html/body/div/div/div/div[2]/div[2]/div[1]/div/div/div/div[2]/div[2]/div/div[3]/div[1]/div[1]/div/label')\n"
     ]
    }
   ],
   "source": [
    "\n",
    "search_button = driver.find_element_by_xpath('/html/body/div/div/div/div[2]/div[2]/div[1]/div/div/div/div[2]/div[2]/div/div[3]/div[1]/div[1]/div/label')\n",
    "\n",
    "search_button.click()"
   ]
  },
  {
   "cell_type": "code",
   "execution_count": 141,
   "metadata": {},
   "outputs": [],
   "source": [
    "Company = []\n",
    "Posted = []\n",
    "Rating = []"
   ]
  },
  {
   "cell_type": "code",
   "execution_count": 160,
   "metadata": {},
   "outputs": [
    {
     "name": "stderr",
     "output_type": "stream",
     "text": [
      "<ipython-input-160-6a8f44d17d1e>:1: DeprecationWarning: find_elements_by_* commands are deprecated. Please use find_elements() instead\n",
      "  tag = driver.find_elements_by_xpath(\"//p[@class='company body-medium']\")\n"
     ]
    },
    {
     "data": {
      "text/plain": [
       "['LG Electronics India Pvt. Ltd.',\n",
       " 'GENPACT India Private Limited',\n",
       " 'GENPACT India Private Limited',\n",
       " 'NTT Data Business Solutions Pvt Ltd',\n",
       " 'GENPACT India Private Limited',\n",
       " 'Paytm',\n",
       " 'GI Group',\n",
       " 'GI Group',\n",
       " 'GI Group',\n",
       " 'Steria India Ltd',\n",
       " 'LG Electronics India Pvt. Ltd.',\n",
       " 'GENPACT India Private Limited',\n",
       " 'GENPACT India Private Limited',\n",
       " 'NTT Data Business Solutions Pvt Ltd',\n",
       " 'GENPACT India Private Limited',\n",
       " 'Paytm',\n",
       " 'GI Group',\n",
       " 'GI Group',\n",
       " 'GI Group',\n",
       " 'Steria India Ltd',\n",
       " 'LG Electronics India Pvt. Ltd.',\n",
       " 'GENPACT India Private Limited',\n",
       " 'GENPACT India Private Limited',\n",
       " 'NTT Data Business Solutions Pvt Ltd',\n",
       " 'GENPACT India Private Limited',\n",
       " 'Paytm',\n",
       " 'GI Group',\n",
       " 'GI Group',\n",
       " 'GI Group',\n",
       " 'Steria India Ltd']"
      ]
     },
     "execution_count": 160,
     "metadata": {},
     "output_type": "execute_result"
    }
   ],
   "source": [
    "tag = driver.find_elements_by_xpath(\"//p[@class='company body-medium']\")\n",
    "tag\n",
    "\n",
    "for i in tag:\n",
    "    tag = i.text\n",
    "    Company.append(tag)\n",
    "Company"
   ]
  },
  {
   "cell_type": "code",
   "execution_count": 156,
   "metadata": {},
   "outputs": [
    {
     "name": "stderr",
     "output_type": "stream",
     "text": [
      "<ipython-input-156-8770ddc39422>:1: DeprecationWarning: find_elements_by_* commands are deprecated. Please use find_elements() instead\n",
      "  tag = driver.find_elements_by_xpath(\"//div[@class='job-basic-info show-flex']/span[1]\")\n"
     ]
    },
    {
     "data": {
      "text/plain": [
       "['LG Electronics India Pvt. Ltd.',\n",
       " 'GENPACT India Private Limited',\n",
       " 'GENPACT India Private Limited',\n",
       " 'NTT Data Business Solutions Pvt Ltd',\n",
       " 'GENPACT India Private Limited',\n",
       " 'Paytm',\n",
       " 'GI Group',\n",
       " 'GI Group',\n",
       " 'GI Group',\n",
       " 'Steria India Ltd',\n",
       " '7d ago',\n",
       " 'via naukri.com',\n",
       " '14d ago',\n",
       " 'via naukri.com',\n",
       " '14d ago',\n",
       " 'via naukri.com',\n",
       " '15d ago',\n",
       " 'via naukri.com',\n",
       " '16d ago',\n",
       " 'via naukri.com',\n",
       " '23hr ago',\n",
       " 'via naukri.com',\n",
       " '12hr ago',\n",
       " 'via iimjobs.com',\n",
       " '12hr ago',\n",
       " 'via iimjobs.com',\n",
       " '12hr ago',\n",
       " 'via iimjobs.com',\n",
       " '1mon ago',\n",
       " 'via naukri.com']"
      ]
     },
     "execution_count": 156,
     "metadata": {},
     "output_type": "execute_result"
    }
   ],
   "source": [
    "tag = driver.find_elements_by_xpath(\"//div[@class='job-basic-info show-flex']/span[1]\")\n",
    "tag\n",
    "\n",
    "for i in tag:\n",
    "    tag = i.text\n",
    "    Posted.append(tag)\n",
    "Posted"
   ]
  },
  {
   "cell_type": "code",
   "execution_count": 158,
   "metadata": {},
   "outputs": [
    {
     "name": "stderr",
     "output_type": "stream",
     "text": [
      "<ipython-input-158-db1b7985082e>:1: DeprecationWarning: find_elements_by_* commands are deprecated. Please use find_elements() instead\n",
      "  tag = driver.find_elements_by_xpath(\"//span[@class='body-small']\")\n"
     ]
    },
    {
     "data": {
      "text/plain": [
       "['4.1',\n",
       " '4.0',\n",
       " '4.0',\n",
       " '3.8',\n",
       " '4.0',\n",
       " '3.7',\n",
       " '4.0',\n",
       " '4.0',\n",
       " '4.0',\n",
       " '4.1',\n",
       " '4.1',\n",
       " '4.0',\n",
       " '4.0',\n",
       " '3.8',\n",
       " '4.0',\n",
       " '3.7',\n",
       " '4.0',\n",
       " '4.0',\n",
       " '4.0',\n",
       " '4.1',\n",
       " '4.1',\n",
       " '4.0',\n",
       " '4.0',\n",
       " '3.8',\n",
       " '4.0',\n",
       " '3.7',\n",
       " '4.0',\n",
       " '4.0',\n",
       " '4.0',\n",
       " '4.1']"
      ]
     },
     "execution_count": 158,
     "metadata": {},
     "output_type": "execute_result"
    }
   ],
   "source": [
    "tag = driver.find_elements_by_xpath(\"//span[@class='body-small']\")\n",
    "tag\n",
    "\n",
    "for i in tag:\n",
    "    tag = i.text\n",
    "    Rating.append(tag)\n",
    "Rating"
   ]
  },
  {
   "cell_type": "code",
   "execution_count": 161,
   "metadata": {},
   "outputs": [
    {
     "name": "stdout",
     "output_type": "stream",
     "text": [
      "30 30 30\n"
     ]
    }
   ],
   "source": [
    "print(len(Company),len(Posted),len(Rating))"
   ]
  },
  {
   "cell_type": "code",
   "execution_count": 162,
   "metadata": {},
   "outputs": [
    {
     "data": {
      "text/html": [
       "<div>\n",
       "<style scoped>\n",
       "    .dataframe tbody tr th:only-of-type {\n",
       "        vertical-align: middle;\n",
       "    }\n",
       "\n",
       "    .dataframe tbody tr th {\n",
       "        vertical-align: top;\n",
       "    }\n",
       "\n",
       "    .dataframe thead th {\n",
       "        text-align: right;\n",
       "    }\n",
       "</style>\n",
       "<table border=\"1\" class=\"dataframe\">\n",
       "  <thead>\n",
       "    <tr style=\"text-align: right;\">\n",
       "      <th></th>\n",
       "      <th>Company</th>\n",
       "      <th>Posted-on</th>\n",
       "      <th>Ratings</th>\n",
       "    </tr>\n",
       "  </thead>\n",
       "  <tbody>\n",
       "    <tr>\n",
       "      <th>0</th>\n",
       "      <td>LG Electronics India Pvt. Ltd.</td>\n",
       "      <td>LG Electronics India Pvt. Ltd.</td>\n",
       "      <td>4.1</td>\n",
       "    </tr>\n",
       "    <tr>\n",
       "      <th>1</th>\n",
       "      <td>GENPACT India Private Limited</td>\n",
       "      <td>GENPACT India Private Limited</td>\n",
       "      <td>4.0</td>\n",
       "    </tr>\n",
       "    <tr>\n",
       "      <th>2</th>\n",
       "      <td>GENPACT India Private Limited</td>\n",
       "      <td>GENPACT India Private Limited</td>\n",
       "      <td>4.0</td>\n",
       "    </tr>\n",
       "    <tr>\n",
       "      <th>3</th>\n",
       "      <td>NTT Data Business Solutions Pvt Ltd</td>\n",
       "      <td>NTT Data Business Solutions Pvt Ltd</td>\n",
       "      <td>3.8</td>\n",
       "    </tr>\n",
       "    <tr>\n",
       "      <th>4</th>\n",
       "      <td>GENPACT India Private Limited</td>\n",
       "      <td>GENPACT India Private Limited</td>\n",
       "      <td>4.0</td>\n",
       "    </tr>\n",
       "    <tr>\n",
       "      <th>5</th>\n",
       "      <td>Paytm</td>\n",
       "      <td>Paytm</td>\n",
       "      <td>3.7</td>\n",
       "    </tr>\n",
       "    <tr>\n",
       "      <th>6</th>\n",
       "      <td>GI Group</td>\n",
       "      <td>GI Group</td>\n",
       "      <td>4.0</td>\n",
       "    </tr>\n",
       "    <tr>\n",
       "      <th>7</th>\n",
       "      <td>GI Group</td>\n",
       "      <td>GI Group</td>\n",
       "      <td>4.0</td>\n",
       "    </tr>\n",
       "    <tr>\n",
       "      <th>8</th>\n",
       "      <td>GI Group</td>\n",
       "      <td>GI Group</td>\n",
       "      <td>4.0</td>\n",
       "    </tr>\n",
       "    <tr>\n",
       "      <th>9</th>\n",
       "      <td>Steria India Ltd</td>\n",
       "      <td>Steria India Ltd</td>\n",
       "      <td>4.1</td>\n",
       "    </tr>\n",
       "    <tr>\n",
       "      <th>10</th>\n",
       "      <td>LG Electronics India Pvt. Ltd.</td>\n",
       "      <td>7d ago</td>\n",
       "      <td>4.1</td>\n",
       "    </tr>\n",
       "    <tr>\n",
       "      <th>11</th>\n",
       "      <td>GENPACT India Private Limited</td>\n",
       "      <td>via naukri.com</td>\n",
       "      <td>4.0</td>\n",
       "    </tr>\n",
       "    <tr>\n",
       "      <th>12</th>\n",
       "      <td>GENPACT India Private Limited</td>\n",
       "      <td>14d ago</td>\n",
       "      <td>4.0</td>\n",
       "    </tr>\n",
       "    <tr>\n",
       "      <th>13</th>\n",
       "      <td>NTT Data Business Solutions Pvt Ltd</td>\n",
       "      <td>via naukri.com</td>\n",
       "      <td>3.8</td>\n",
       "    </tr>\n",
       "    <tr>\n",
       "      <th>14</th>\n",
       "      <td>GENPACT India Private Limited</td>\n",
       "      <td>14d ago</td>\n",
       "      <td>4.0</td>\n",
       "    </tr>\n",
       "    <tr>\n",
       "      <th>15</th>\n",
       "      <td>Paytm</td>\n",
       "      <td>via naukri.com</td>\n",
       "      <td>3.7</td>\n",
       "    </tr>\n",
       "    <tr>\n",
       "      <th>16</th>\n",
       "      <td>GI Group</td>\n",
       "      <td>15d ago</td>\n",
       "      <td>4.0</td>\n",
       "    </tr>\n",
       "    <tr>\n",
       "      <th>17</th>\n",
       "      <td>GI Group</td>\n",
       "      <td>via naukri.com</td>\n",
       "      <td>4.0</td>\n",
       "    </tr>\n",
       "    <tr>\n",
       "      <th>18</th>\n",
       "      <td>GI Group</td>\n",
       "      <td>16d ago</td>\n",
       "      <td>4.0</td>\n",
       "    </tr>\n",
       "    <tr>\n",
       "      <th>19</th>\n",
       "      <td>Steria India Ltd</td>\n",
       "      <td>via naukri.com</td>\n",
       "      <td>4.1</td>\n",
       "    </tr>\n",
       "    <tr>\n",
       "      <th>20</th>\n",
       "      <td>LG Electronics India Pvt. Ltd.</td>\n",
       "      <td>23hr ago</td>\n",
       "      <td>4.1</td>\n",
       "    </tr>\n",
       "    <tr>\n",
       "      <th>21</th>\n",
       "      <td>GENPACT India Private Limited</td>\n",
       "      <td>via naukri.com</td>\n",
       "      <td>4.0</td>\n",
       "    </tr>\n",
       "    <tr>\n",
       "      <th>22</th>\n",
       "      <td>GENPACT India Private Limited</td>\n",
       "      <td>12hr ago</td>\n",
       "      <td>4.0</td>\n",
       "    </tr>\n",
       "    <tr>\n",
       "      <th>23</th>\n",
       "      <td>NTT Data Business Solutions Pvt Ltd</td>\n",
       "      <td>via iimjobs.com</td>\n",
       "      <td>3.8</td>\n",
       "    </tr>\n",
       "    <tr>\n",
       "      <th>24</th>\n",
       "      <td>GENPACT India Private Limited</td>\n",
       "      <td>12hr ago</td>\n",
       "      <td>4.0</td>\n",
       "    </tr>\n",
       "    <tr>\n",
       "      <th>25</th>\n",
       "      <td>Paytm</td>\n",
       "      <td>via iimjobs.com</td>\n",
       "      <td>3.7</td>\n",
       "    </tr>\n",
       "    <tr>\n",
       "      <th>26</th>\n",
       "      <td>GI Group</td>\n",
       "      <td>12hr ago</td>\n",
       "      <td>4.0</td>\n",
       "    </tr>\n",
       "    <tr>\n",
       "      <th>27</th>\n",
       "      <td>GI Group</td>\n",
       "      <td>via iimjobs.com</td>\n",
       "      <td>4.0</td>\n",
       "    </tr>\n",
       "    <tr>\n",
       "      <th>28</th>\n",
       "      <td>GI Group</td>\n",
       "      <td>1mon ago</td>\n",
       "      <td>4.0</td>\n",
       "    </tr>\n",
       "    <tr>\n",
       "      <th>29</th>\n",
       "      <td>Steria India Ltd</td>\n",
       "      <td>via naukri.com</td>\n",
       "      <td>4.1</td>\n",
       "    </tr>\n",
       "  </tbody>\n",
       "</table>\n",
       "</div>"
      ],
      "text/plain": [
       "                                Company                            Posted-on  \\\n",
       "0        LG Electronics India Pvt. Ltd.       LG Electronics India Pvt. Ltd.   \n",
       "1         GENPACT India Private Limited        GENPACT India Private Limited   \n",
       "2         GENPACT India Private Limited        GENPACT India Private Limited   \n",
       "3   NTT Data Business Solutions Pvt Ltd  NTT Data Business Solutions Pvt Ltd   \n",
       "4         GENPACT India Private Limited        GENPACT India Private Limited   \n",
       "5                                 Paytm                                Paytm   \n",
       "6                              GI Group                             GI Group   \n",
       "7                              GI Group                             GI Group   \n",
       "8                              GI Group                             GI Group   \n",
       "9                      Steria India Ltd                     Steria India Ltd   \n",
       "10       LG Electronics India Pvt. Ltd.                               7d ago   \n",
       "11        GENPACT India Private Limited                       via naukri.com   \n",
       "12        GENPACT India Private Limited                              14d ago   \n",
       "13  NTT Data Business Solutions Pvt Ltd                       via naukri.com   \n",
       "14        GENPACT India Private Limited                              14d ago   \n",
       "15                                Paytm                       via naukri.com   \n",
       "16                             GI Group                              15d ago   \n",
       "17                             GI Group                       via naukri.com   \n",
       "18                             GI Group                              16d ago   \n",
       "19                     Steria India Ltd                       via naukri.com   \n",
       "20       LG Electronics India Pvt. Ltd.                             23hr ago   \n",
       "21        GENPACT India Private Limited                       via naukri.com   \n",
       "22        GENPACT India Private Limited                             12hr ago   \n",
       "23  NTT Data Business Solutions Pvt Ltd                      via iimjobs.com   \n",
       "24        GENPACT India Private Limited                             12hr ago   \n",
       "25                                Paytm                      via iimjobs.com   \n",
       "26                             GI Group                             12hr ago   \n",
       "27                             GI Group                      via iimjobs.com   \n",
       "28                             GI Group                             1mon ago   \n",
       "29                     Steria India Ltd                       via naukri.com   \n",
       "\n",
       "   Ratings  \n",
       "0      4.1  \n",
       "1      4.0  \n",
       "2      4.0  \n",
       "3      3.8  \n",
       "4      4.0  \n",
       "5      3.7  \n",
       "6      4.0  \n",
       "7      4.0  \n",
       "8      4.0  \n",
       "9      4.1  \n",
       "10     4.1  \n",
       "11     4.0  \n",
       "12     4.0  \n",
       "13     3.8  \n",
       "14     4.0  \n",
       "15     3.7  \n",
       "16     4.0  \n",
       "17     4.0  \n",
       "18     4.0  \n",
       "19     4.1  \n",
       "20     4.1  \n",
       "21     4.0  \n",
       "22     4.0  \n",
       "23     3.8  \n",
       "24     4.0  \n",
       "25     3.7  \n",
       "26     4.0  \n",
       "27     4.0  \n",
       "28     4.0  \n",
       "29     4.1  "
      ]
     },
     "execution_count": 162,
     "metadata": {},
     "output_type": "execute_result"
    }
   ],
   "source": [
    "my_data = pd.DataFrame({})\n",
    "\n",
    "my_data['Company'] = Company\n",
    "my_data['Posted-on'] = Posted\n",
    "my_data['Ratings'] = Rating\n",
    "\n",
    "\n",
    "my_data"
   ]
  },
  {
   "cell_type": "markdown",
   "metadata": {},
   "source": [
    "# QUESTION 10"
   ]
  },
  {
   "cell_type": "code",
   "execution_count": 171,
   "metadata": {},
   "outputs": [
    {
     "name": "stderr",
     "output_type": "stream",
     "text": [
      "<ipython-input-171-f5e291cbc091>:1: DeprecationWarning: executable_path has been deprecated, please pass in a Service object\n",
      "  driver = webdriver.Chrome('C:/Users/Kishan/Downloads/chromedriver_win32/chromedriver.exe')\n"
     ]
    }
   ],
   "source": [
    "driver = webdriver.Chrome('C:/Users/Kishan/Downloads/chromedriver_win32/chromedriver.exe')"
   ]
  },
  {
   "cell_type": "code",
   "execution_count": 172,
   "metadata": {},
   "outputs": [],
   "source": [
    "driver.get('https://www.ambitionbox.com/')"
   ]
  },
  {
   "cell_type": "code",
   "execution_count": 173,
   "metadata": {},
   "outputs": [
    {
     "name": "stderr",
     "output_type": "stream",
     "text": [
      "<ipython-input-173-6f3606366d89>:1: DeprecationWarning: find_element_by_* commands are deprecated. Please use find_element() instead\n",
      "  search_job = driver.find_element_by_xpath('/html/body/div[1]/nav/nav/a[4]')\n"
     ]
    }
   ],
   "source": [
    "search_job = driver.find_element_by_xpath('/html/body/div[1]/nav/nav/a[4]')\n",
    "search_job.click()\n"
   ]
  },
  {
   "cell_type": "code",
   "execution_count": 174,
   "metadata": {},
   "outputs": [
    {
     "name": "stderr",
     "output_type": "stream",
     "text": [
      "<ipython-input-174-c157c94066ad>:1: DeprecationWarning: find_element_by_* commands are deprecated. Please use find_element() instead\n",
      "  search_job = driver.find_element_by_xpath('/html/body/div/div/div/main/section[1]/div[2]/div[1]/span/input')\n"
     ]
    }
   ],
   "source": [
    "search_job = driver.find_element_by_xpath('/html/body/div/div/div/main/section[1]/div[2]/div[1]/span/input')\n",
    "search_job.send_keys('Data Scientist')"
   ]
  },
  {
   "cell_type": "code",
   "execution_count": 167,
   "metadata": {},
   "outputs": [
    {
     "name": "stderr",
     "output_type": "stream",
     "text": [
      "<ipython-input-167-8e402cd978c2>:1: DeprecationWarning: find_element_by_* commands are deprecated. Please use find_element() instead\n",
      "  search_btn = driver.find_element_by_xpath(\"/html/body/div/div/div/main/section[1]/div[2]/div[1]/span/div/div/div[1]\")\n"
     ]
    }
   ],
   "source": [
    "search_btn = driver.find_element_by_xpath(\"/html/body/div/div/div/main/section[1]/div[2]/div[1]/span/div/div/div[1]\")"
   ]
  },
  {
   "cell_type": "code",
   "execution_count": 175,
   "metadata": {},
   "outputs": [
    {
     "name": "stderr",
     "output_type": "stream",
     "text": [
      "<ipython-input-175-4cd32148171f>:1: DeprecationWarning: find_element_by_* commands are deprecated. Please use find_element() instead\n",
      "  search_btn = driver.find_element_by_xpath(\"/html/body/div/div/div/div[2]/div[2]/div[1]/div/div/div/div[2]/div[1]\")\n"
     ]
    },
    {
     "ename": "NoSuchElementException",
     "evalue": "Message: no such element: Unable to locate element: {\"method\":\"xpath\",\"selector\":\"/html/body/div/div/div/div[2]/div[2]/div[1]/div/div/div/div[2]/div[1]\"}\n  (Session info: chrome=96.0.4664.110)\nStacktrace:\nBacktrace:\n\tOrdinal0 [0x00B06903+2517251]\n\tOrdinal0 [0x00A9F8E1+2095329]\n\tOrdinal0 [0x009A2848+1058888]\n\tOrdinal0 [0x009CD448+1233992]\n\tOrdinal0 [0x009CD63B+1234491]\n\tOrdinal0 [0x009F7812+1406994]\n\tOrdinal0 [0x009E650A+1336586]\n\tOrdinal0 [0x009F5BBF+1399743]\n\tOrdinal0 [0x009E639B+1336219]\n\tOrdinal0 [0x009C27A7+1189799]\n\tOrdinal0 [0x009C3609+1193481]\n\tGetHandleVerifier [0x00C95904+1577972]\n\tGetHandleVerifier [0x00D40B97+2279047]\n\tGetHandleVerifier [0x00B96D09+534521]\n\tGetHandleVerifier [0x00B95DB9+530601]\n\tOrdinal0 [0x00AA4FF9+2117625]\n\tOrdinal0 [0x00AA98A8+2136232]\n\tOrdinal0 [0x00AA99E2+2136546]\n\tOrdinal0 [0x00AB3541+2176321]\n\tBaseThreadInitThunk [0x75EEFA29+25]\n\tRtlGetAppContainerNamedObjectPath [0x770F7A9E+286]\n\tRtlGetAppContainerNamedObjectPath [0x770F7A6E+238]\n",
     "output_type": "error",
     "traceback": [
      "\u001b[1;31m---------------------------------------------------------------------------\u001b[0m",
      "\u001b[1;31mNoSuchElementException\u001b[0m                    Traceback (most recent call last)",
      "\u001b[1;32m<ipython-input-175-4cd32148171f>\u001b[0m in \u001b[0;36m<module>\u001b[1;34m\u001b[0m\n\u001b[1;32m----> 1\u001b[1;33m \u001b[0msearch_btn\u001b[0m \u001b[1;33m=\u001b[0m \u001b[0mdriver\u001b[0m\u001b[1;33m.\u001b[0m\u001b[0mfind_element_by_xpath\u001b[0m\u001b[1;33m(\u001b[0m\u001b[1;34m\"/html/body/div/div/div/div[2]/div[2]/div[1]/div/div/div/div[2]/div[1]\"\u001b[0m\u001b[1;33m)\u001b[0m\u001b[1;33m\u001b[0m\u001b[1;33m\u001b[0m\u001b[0m\n\u001b[0m\u001b[0;32m      2\u001b[0m \u001b[0msearch_btn\u001b[0m\u001b[1;33m.\u001b[0m\u001b[0mclick\u001b[0m\u001b[1;33m(\u001b[0m\u001b[1;33m)\u001b[0m\u001b[1;33m\u001b[0m\u001b[1;33m\u001b[0m\u001b[0m\n",
      "\u001b[1;32m~\\anaconda3\\lib\\site-packages\\selenium\\webdriver\\remote\\webdriver.py\u001b[0m in \u001b[0;36mfind_element_by_xpath\u001b[1;34m(self, xpath)\u001b[0m\n\u001b[0;32m    518\u001b[0m             \u001b[0mstacklevel\u001b[0m\u001b[1;33m=\u001b[0m\u001b[1;36m2\u001b[0m\u001b[1;33m,\u001b[0m\u001b[1;33m\u001b[0m\u001b[1;33m\u001b[0m\u001b[0m\n\u001b[0;32m    519\u001b[0m         )\n\u001b[1;32m--> 520\u001b[1;33m         \u001b[1;32mreturn\u001b[0m \u001b[0mself\u001b[0m\u001b[1;33m.\u001b[0m\u001b[0mfind_element\u001b[0m\u001b[1;33m(\u001b[0m\u001b[0mby\u001b[0m\u001b[1;33m=\u001b[0m\u001b[0mBy\u001b[0m\u001b[1;33m.\u001b[0m\u001b[0mXPATH\u001b[0m\u001b[1;33m,\u001b[0m \u001b[0mvalue\u001b[0m\u001b[1;33m=\u001b[0m\u001b[0mxpath\u001b[0m\u001b[1;33m)\u001b[0m\u001b[1;33m\u001b[0m\u001b[1;33m\u001b[0m\u001b[0m\n\u001b[0m\u001b[0;32m    521\u001b[0m \u001b[1;33m\u001b[0m\u001b[0m\n\u001b[0;32m    522\u001b[0m     \u001b[1;32mdef\u001b[0m \u001b[0mfind_elements_by_xpath\u001b[0m\u001b[1;33m(\u001b[0m\u001b[0mself\u001b[0m\u001b[1;33m,\u001b[0m \u001b[0mxpath\u001b[0m\u001b[1;33m)\u001b[0m \u001b[1;33m->\u001b[0m \u001b[0mWebElement\u001b[0m\u001b[1;33m:\u001b[0m\u001b[1;33m\u001b[0m\u001b[1;33m\u001b[0m\u001b[0m\n",
      "\u001b[1;32m~\\anaconda3\\lib\\site-packages\\selenium\\webdriver\\remote\\webdriver.py\u001b[0m in \u001b[0;36mfind_element\u001b[1;34m(self, by, value)\u001b[0m\n\u001b[0;32m   1242\u001b[0m             \u001b[0mvalue\u001b[0m \u001b[1;33m=\u001b[0m \u001b[1;34m'[name=\"%s\"]'\u001b[0m \u001b[1;33m%\u001b[0m \u001b[0mvalue\u001b[0m\u001b[1;33m\u001b[0m\u001b[1;33m\u001b[0m\u001b[0m\n\u001b[0;32m   1243\u001b[0m \u001b[1;33m\u001b[0m\u001b[0m\n\u001b[1;32m-> 1244\u001b[1;33m         return self.execute(Command.FIND_ELEMENT, {\n\u001b[0m\u001b[0;32m   1245\u001b[0m             \u001b[1;34m'using'\u001b[0m\u001b[1;33m:\u001b[0m \u001b[0mby\u001b[0m\u001b[1;33m,\u001b[0m\u001b[1;33m\u001b[0m\u001b[1;33m\u001b[0m\u001b[0m\n\u001b[0;32m   1246\u001b[0m             'value': value})['value']\n",
      "\u001b[1;32m~\\anaconda3\\lib\\site-packages\\selenium\\webdriver\\remote\\webdriver.py\u001b[0m in \u001b[0;36mexecute\u001b[1;34m(self, driver_command, params)\u001b[0m\n\u001b[0;32m    422\u001b[0m         \u001b[0mresponse\u001b[0m \u001b[1;33m=\u001b[0m \u001b[0mself\u001b[0m\u001b[1;33m.\u001b[0m\u001b[0mcommand_executor\u001b[0m\u001b[1;33m.\u001b[0m\u001b[0mexecute\u001b[0m\u001b[1;33m(\u001b[0m\u001b[0mdriver_command\u001b[0m\u001b[1;33m,\u001b[0m \u001b[0mparams\u001b[0m\u001b[1;33m)\u001b[0m\u001b[1;33m\u001b[0m\u001b[1;33m\u001b[0m\u001b[0m\n\u001b[0;32m    423\u001b[0m         \u001b[1;32mif\u001b[0m \u001b[0mresponse\u001b[0m\u001b[1;33m:\u001b[0m\u001b[1;33m\u001b[0m\u001b[1;33m\u001b[0m\u001b[0m\n\u001b[1;32m--> 424\u001b[1;33m             \u001b[0mself\u001b[0m\u001b[1;33m.\u001b[0m\u001b[0merror_handler\u001b[0m\u001b[1;33m.\u001b[0m\u001b[0mcheck_response\u001b[0m\u001b[1;33m(\u001b[0m\u001b[0mresponse\u001b[0m\u001b[1;33m)\u001b[0m\u001b[1;33m\u001b[0m\u001b[1;33m\u001b[0m\u001b[0m\n\u001b[0m\u001b[0;32m    425\u001b[0m             response['value'] = self._unwrap_value(\n\u001b[0;32m    426\u001b[0m                 response.get('value', None))\n",
      "\u001b[1;32m~\\anaconda3\\lib\\site-packages\\selenium\\webdriver\\remote\\errorhandler.py\u001b[0m in \u001b[0;36mcheck_response\u001b[1;34m(self, response)\u001b[0m\n\u001b[0;32m    245\u001b[0m                 \u001b[0malert_text\u001b[0m \u001b[1;33m=\u001b[0m \u001b[0mvalue\u001b[0m\u001b[1;33m[\u001b[0m\u001b[1;34m'alert'\u001b[0m\u001b[1;33m]\u001b[0m\u001b[1;33m.\u001b[0m\u001b[0mget\u001b[0m\u001b[1;33m(\u001b[0m\u001b[1;34m'text'\u001b[0m\u001b[1;33m)\u001b[0m\u001b[1;33m\u001b[0m\u001b[1;33m\u001b[0m\u001b[0m\n\u001b[0;32m    246\u001b[0m             \u001b[1;32mraise\u001b[0m \u001b[0mexception_class\u001b[0m\u001b[1;33m(\u001b[0m\u001b[0mmessage\u001b[0m\u001b[1;33m,\u001b[0m \u001b[0mscreen\u001b[0m\u001b[1;33m,\u001b[0m \u001b[0mstacktrace\u001b[0m\u001b[1;33m,\u001b[0m \u001b[0malert_text\u001b[0m\u001b[1;33m)\u001b[0m  \u001b[1;31m# type: ignore[call-arg]  # mypy is not smart enough here\u001b[0m\u001b[1;33m\u001b[0m\u001b[1;33m\u001b[0m\u001b[0m\n\u001b[1;32m--> 247\u001b[1;33m         \u001b[1;32mraise\u001b[0m \u001b[0mexception_class\u001b[0m\u001b[1;33m(\u001b[0m\u001b[0mmessage\u001b[0m\u001b[1;33m,\u001b[0m \u001b[0mscreen\u001b[0m\u001b[1;33m,\u001b[0m \u001b[0mstacktrace\u001b[0m\u001b[1;33m)\u001b[0m\u001b[1;33m\u001b[0m\u001b[1;33m\u001b[0m\u001b[0m\n\u001b[0m\u001b[0;32m    248\u001b[0m \u001b[1;33m\u001b[0m\u001b[0m\n\u001b[0;32m    249\u001b[0m     \u001b[1;32mdef\u001b[0m \u001b[0m_value_or_default\u001b[0m\u001b[1;33m(\u001b[0m\u001b[0mself\u001b[0m\u001b[1;33m,\u001b[0m \u001b[0mobj\u001b[0m\u001b[1;33m:\u001b[0m \u001b[0mMapping\u001b[0m\u001b[1;33m[\u001b[0m\u001b[0m_KT\u001b[0m\u001b[1;33m,\u001b[0m \u001b[0m_VT\u001b[0m\u001b[1;33m]\u001b[0m\u001b[1;33m,\u001b[0m \u001b[0mkey\u001b[0m\u001b[1;33m:\u001b[0m \u001b[0m_KT\u001b[0m\u001b[1;33m,\u001b[0m \u001b[0mdefault\u001b[0m\u001b[1;33m:\u001b[0m \u001b[0m_VT\u001b[0m\u001b[1;33m)\u001b[0m \u001b[1;33m->\u001b[0m \u001b[0m_VT\u001b[0m\u001b[1;33m:\u001b[0m\u001b[1;33m\u001b[0m\u001b[1;33m\u001b[0m\u001b[0m\n",
      "\u001b[1;31mNoSuchElementException\u001b[0m: Message: no such element: Unable to locate element: {\"method\":\"xpath\",\"selector\":\"/html/body/div/div/div/div[2]/div[2]/div[1]/div/div/div/div[2]/div[1]\"}\n  (Session info: chrome=96.0.4664.110)\nStacktrace:\nBacktrace:\n\tOrdinal0 [0x00B06903+2517251]\n\tOrdinal0 [0x00A9F8E1+2095329]\n\tOrdinal0 [0x009A2848+1058888]\n\tOrdinal0 [0x009CD448+1233992]\n\tOrdinal0 [0x009CD63B+1234491]\n\tOrdinal0 [0x009F7812+1406994]\n\tOrdinal0 [0x009E650A+1336586]\n\tOrdinal0 [0x009F5BBF+1399743]\n\tOrdinal0 [0x009E639B+1336219]\n\tOrdinal0 [0x009C27A7+1189799]\n\tOrdinal0 [0x009C3609+1193481]\n\tGetHandleVerifier [0x00C95904+1577972]\n\tGetHandleVerifier [0x00D40B97+2279047]\n\tGetHandleVerifier [0x00B96D09+534521]\n\tGetHandleVerifier [0x00B95DB9+530601]\n\tOrdinal0 [0x00AA4FF9+2117625]\n\tOrdinal0 [0x00AA98A8+2136232]\n\tOrdinal0 [0x00AA99E2+2136546]\n\tOrdinal0 [0x00AB3541+2176321]\n\tBaseThreadInitThunk [0x75EEFA29+25]\n\tRtlGetAppContainerNamedObjectPath [0x770F7A9E+286]\n\tRtlGetAppContainerNamedObjectPath [0x770F7A6E+238]\n"
     ]
    }
   ],
   "source": [
    "search_btn = driver.find_element_by_xpath(\"/html/body/div/div/div/div[2]/div[2]/div[1]/div/div/div/div[2]/div[1]\")\n",
    "search_btn.click()"
   ]
  },
  {
   "cell_type": "code",
   "execution_count": 170,
   "metadata": {},
   "outputs": [
    {
     "name": "stderr",
     "output_type": "stream",
     "text": [
      "<ipython-input-170-13a47fb4b956>:1: DeprecationWarning: find_element_by_* commands are deprecated. Please use find_element() instead\n",
      "  search_noida = driver.find_element_by_xpath('/html/body/div/div/div/div[2]/div[2]/div[1]/div/div/div/div[2]/div[2]/div/div[2]/input')\n"
     ]
    },
    {
     "ename": "NoSuchElementException",
     "evalue": "Message: no such element: Unable to locate element: {\"method\":\"xpath\",\"selector\":\"/html/body/div/div/div/div[2]/div[2]/div[1]/div/div/div/div[2]/div[2]/div/div[2]/input\"}\n  (Session info: chrome=96.0.4664.110)\nStacktrace:\nBacktrace:\n\tOrdinal0 [0x00B06903+2517251]\n\tOrdinal0 [0x00A9F8E1+2095329]\n\tOrdinal0 [0x009A2848+1058888]\n\tOrdinal0 [0x009CD448+1233992]\n\tOrdinal0 [0x009CD63B+1234491]\n\tOrdinal0 [0x009F7812+1406994]\n\tOrdinal0 [0x009E650A+1336586]\n\tOrdinal0 [0x009F5BBF+1399743]\n\tOrdinal0 [0x009E639B+1336219]\n\tOrdinal0 [0x009C27A7+1189799]\n\tOrdinal0 [0x009C3609+1193481]\n\tGetHandleVerifier [0x00C95904+1577972]\n\tGetHandleVerifier [0x00D40B97+2279047]\n\tGetHandleVerifier [0x00B96D09+534521]\n\tGetHandleVerifier [0x00B95DB9+530601]\n\tOrdinal0 [0x00AA4FF9+2117625]\n\tOrdinal0 [0x00AA98A8+2136232]\n\tOrdinal0 [0x00AA99E2+2136546]\n\tOrdinal0 [0x00AB3541+2176321]\n\tBaseThreadInitThunk [0x75EEFA29+25]\n\tRtlGetAppContainerNamedObjectPath [0x770F7A9E+286]\n\tRtlGetAppContainerNamedObjectPath [0x770F7A6E+238]\n",
     "output_type": "error",
     "traceback": [
      "\u001b[1;31m---------------------------------------------------------------------------\u001b[0m",
      "\u001b[1;31mNoSuchElementException\u001b[0m                    Traceback (most recent call last)",
      "\u001b[1;32m<ipython-input-170-13a47fb4b956>\u001b[0m in \u001b[0;36m<module>\u001b[1;34m\u001b[0m\n\u001b[1;32m----> 1\u001b[1;33m \u001b[0msearch_noida\u001b[0m \u001b[1;33m=\u001b[0m \u001b[0mdriver\u001b[0m\u001b[1;33m.\u001b[0m\u001b[0mfind_element_by_xpath\u001b[0m\u001b[1;33m(\u001b[0m\u001b[1;34m'/html/body/div/div/div/div[2]/div[2]/div[1]/div/div/div/div[2]/div[2]/div/div[2]/input'\u001b[0m\u001b[1;33m)\u001b[0m\u001b[1;33m\u001b[0m\u001b[1;33m\u001b[0m\u001b[0m\n\u001b[0m\u001b[0;32m      2\u001b[0m \u001b[0msearch_noida\u001b[0m\u001b[1;33m.\u001b[0m\u001b[0msend_keys\u001b[0m\u001b[1;33m(\u001b[0m\u001b[1;34m'Greater Noida'\u001b[0m\u001b[1;33m)\u001b[0m\u001b[1;33m\u001b[0m\u001b[1;33m\u001b[0m\u001b[0m\n",
      "\u001b[1;32m~\\anaconda3\\lib\\site-packages\\selenium\\webdriver\\remote\\webdriver.py\u001b[0m in \u001b[0;36mfind_element_by_xpath\u001b[1;34m(self, xpath)\u001b[0m\n\u001b[0;32m    518\u001b[0m             \u001b[0mstacklevel\u001b[0m\u001b[1;33m=\u001b[0m\u001b[1;36m2\u001b[0m\u001b[1;33m,\u001b[0m\u001b[1;33m\u001b[0m\u001b[1;33m\u001b[0m\u001b[0m\n\u001b[0;32m    519\u001b[0m         )\n\u001b[1;32m--> 520\u001b[1;33m         \u001b[1;32mreturn\u001b[0m \u001b[0mself\u001b[0m\u001b[1;33m.\u001b[0m\u001b[0mfind_element\u001b[0m\u001b[1;33m(\u001b[0m\u001b[0mby\u001b[0m\u001b[1;33m=\u001b[0m\u001b[0mBy\u001b[0m\u001b[1;33m.\u001b[0m\u001b[0mXPATH\u001b[0m\u001b[1;33m,\u001b[0m \u001b[0mvalue\u001b[0m\u001b[1;33m=\u001b[0m\u001b[0mxpath\u001b[0m\u001b[1;33m)\u001b[0m\u001b[1;33m\u001b[0m\u001b[1;33m\u001b[0m\u001b[0m\n\u001b[0m\u001b[0;32m    521\u001b[0m \u001b[1;33m\u001b[0m\u001b[0m\n\u001b[0;32m    522\u001b[0m     \u001b[1;32mdef\u001b[0m \u001b[0mfind_elements_by_xpath\u001b[0m\u001b[1;33m(\u001b[0m\u001b[0mself\u001b[0m\u001b[1;33m,\u001b[0m \u001b[0mxpath\u001b[0m\u001b[1;33m)\u001b[0m \u001b[1;33m->\u001b[0m \u001b[0mWebElement\u001b[0m\u001b[1;33m:\u001b[0m\u001b[1;33m\u001b[0m\u001b[1;33m\u001b[0m\u001b[0m\n",
      "\u001b[1;32m~\\anaconda3\\lib\\site-packages\\selenium\\webdriver\\remote\\webdriver.py\u001b[0m in \u001b[0;36mfind_element\u001b[1;34m(self, by, value)\u001b[0m\n\u001b[0;32m   1242\u001b[0m             \u001b[0mvalue\u001b[0m \u001b[1;33m=\u001b[0m \u001b[1;34m'[name=\"%s\"]'\u001b[0m \u001b[1;33m%\u001b[0m \u001b[0mvalue\u001b[0m\u001b[1;33m\u001b[0m\u001b[1;33m\u001b[0m\u001b[0m\n\u001b[0;32m   1243\u001b[0m \u001b[1;33m\u001b[0m\u001b[0m\n\u001b[1;32m-> 1244\u001b[1;33m         return self.execute(Command.FIND_ELEMENT, {\n\u001b[0m\u001b[0;32m   1245\u001b[0m             \u001b[1;34m'using'\u001b[0m\u001b[1;33m:\u001b[0m \u001b[0mby\u001b[0m\u001b[1;33m,\u001b[0m\u001b[1;33m\u001b[0m\u001b[1;33m\u001b[0m\u001b[0m\n\u001b[0;32m   1246\u001b[0m             'value': value})['value']\n",
      "\u001b[1;32m~\\anaconda3\\lib\\site-packages\\selenium\\webdriver\\remote\\webdriver.py\u001b[0m in \u001b[0;36mexecute\u001b[1;34m(self, driver_command, params)\u001b[0m\n\u001b[0;32m    422\u001b[0m         \u001b[0mresponse\u001b[0m \u001b[1;33m=\u001b[0m \u001b[0mself\u001b[0m\u001b[1;33m.\u001b[0m\u001b[0mcommand_executor\u001b[0m\u001b[1;33m.\u001b[0m\u001b[0mexecute\u001b[0m\u001b[1;33m(\u001b[0m\u001b[0mdriver_command\u001b[0m\u001b[1;33m,\u001b[0m \u001b[0mparams\u001b[0m\u001b[1;33m)\u001b[0m\u001b[1;33m\u001b[0m\u001b[1;33m\u001b[0m\u001b[0m\n\u001b[0;32m    423\u001b[0m         \u001b[1;32mif\u001b[0m \u001b[0mresponse\u001b[0m\u001b[1;33m:\u001b[0m\u001b[1;33m\u001b[0m\u001b[1;33m\u001b[0m\u001b[0m\n\u001b[1;32m--> 424\u001b[1;33m             \u001b[0mself\u001b[0m\u001b[1;33m.\u001b[0m\u001b[0merror_handler\u001b[0m\u001b[1;33m.\u001b[0m\u001b[0mcheck_response\u001b[0m\u001b[1;33m(\u001b[0m\u001b[0mresponse\u001b[0m\u001b[1;33m)\u001b[0m\u001b[1;33m\u001b[0m\u001b[1;33m\u001b[0m\u001b[0m\n\u001b[0m\u001b[0;32m    425\u001b[0m             response['value'] = self._unwrap_value(\n\u001b[0;32m    426\u001b[0m                 response.get('value', None))\n",
      "\u001b[1;32m~\\anaconda3\\lib\\site-packages\\selenium\\webdriver\\remote\\errorhandler.py\u001b[0m in \u001b[0;36mcheck_response\u001b[1;34m(self, response)\u001b[0m\n\u001b[0;32m    245\u001b[0m                 \u001b[0malert_text\u001b[0m \u001b[1;33m=\u001b[0m \u001b[0mvalue\u001b[0m\u001b[1;33m[\u001b[0m\u001b[1;34m'alert'\u001b[0m\u001b[1;33m]\u001b[0m\u001b[1;33m.\u001b[0m\u001b[0mget\u001b[0m\u001b[1;33m(\u001b[0m\u001b[1;34m'text'\u001b[0m\u001b[1;33m)\u001b[0m\u001b[1;33m\u001b[0m\u001b[1;33m\u001b[0m\u001b[0m\n\u001b[0;32m    246\u001b[0m             \u001b[1;32mraise\u001b[0m \u001b[0mexception_class\u001b[0m\u001b[1;33m(\u001b[0m\u001b[0mmessage\u001b[0m\u001b[1;33m,\u001b[0m \u001b[0mscreen\u001b[0m\u001b[1;33m,\u001b[0m \u001b[0mstacktrace\u001b[0m\u001b[1;33m,\u001b[0m \u001b[0malert_text\u001b[0m\u001b[1;33m)\u001b[0m  \u001b[1;31m# type: ignore[call-arg]  # mypy is not smart enough here\u001b[0m\u001b[1;33m\u001b[0m\u001b[1;33m\u001b[0m\u001b[0m\n\u001b[1;32m--> 247\u001b[1;33m         \u001b[1;32mraise\u001b[0m \u001b[0mexception_class\u001b[0m\u001b[1;33m(\u001b[0m\u001b[0mmessage\u001b[0m\u001b[1;33m,\u001b[0m \u001b[0mscreen\u001b[0m\u001b[1;33m,\u001b[0m \u001b[0mstacktrace\u001b[0m\u001b[1;33m)\u001b[0m\u001b[1;33m\u001b[0m\u001b[1;33m\u001b[0m\u001b[0m\n\u001b[0m\u001b[0;32m    248\u001b[0m \u001b[1;33m\u001b[0m\u001b[0m\n\u001b[0;32m    249\u001b[0m     \u001b[1;32mdef\u001b[0m \u001b[0m_value_or_default\u001b[0m\u001b[1;33m(\u001b[0m\u001b[0mself\u001b[0m\u001b[1;33m,\u001b[0m \u001b[0mobj\u001b[0m\u001b[1;33m:\u001b[0m \u001b[0mMapping\u001b[0m\u001b[1;33m[\u001b[0m\u001b[0m_KT\u001b[0m\u001b[1;33m,\u001b[0m \u001b[0m_VT\u001b[0m\u001b[1;33m]\u001b[0m\u001b[1;33m,\u001b[0m \u001b[0mkey\u001b[0m\u001b[1;33m:\u001b[0m \u001b[0m_KT\u001b[0m\u001b[1;33m,\u001b[0m \u001b[0mdefault\u001b[0m\u001b[1;33m:\u001b[0m \u001b[0m_VT\u001b[0m\u001b[1;33m)\u001b[0m \u001b[1;33m->\u001b[0m \u001b[0m_VT\u001b[0m\u001b[1;33m:\u001b[0m\u001b[1;33m\u001b[0m\u001b[1;33m\u001b[0m\u001b[0m\n",
      "\u001b[1;31mNoSuchElementException\u001b[0m: Message: no such element: Unable to locate element: {\"method\":\"xpath\",\"selector\":\"/html/body/div/div/div/div[2]/div[2]/div[1]/div/div/div/div[2]/div[2]/div/div[2]/input\"}\n  (Session info: chrome=96.0.4664.110)\nStacktrace:\nBacktrace:\n\tOrdinal0 [0x00B06903+2517251]\n\tOrdinal0 [0x00A9F8E1+2095329]\n\tOrdinal0 [0x009A2848+1058888]\n\tOrdinal0 [0x009CD448+1233992]\n\tOrdinal0 [0x009CD63B+1234491]\n\tOrdinal0 [0x009F7812+1406994]\n\tOrdinal0 [0x009E650A+1336586]\n\tOrdinal0 [0x009F5BBF+1399743]\n\tOrdinal0 [0x009E639B+1336219]\n\tOrdinal0 [0x009C27A7+1189799]\n\tOrdinal0 [0x009C3609+1193481]\n\tGetHandleVerifier [0x00C95904+1577972]\n\tGetHandleVerifier [0x00D40B97+2279047]\n\tGetHandleVerifier [0x00B96D09+534521]\n\tGetHandleVerifier [0x00B95DB9+530601]\n\tOrdinal0 [0x00AA4FF9+2117625]\n\tOrdinal0 [0x00AA98A8+2136232]\n\tOrdinal0 [0x00AA99E2+2136546]\n\tOrdinal0 [0x00AB3541+2176321]\n\tBaseThreadInitThunk [0x75EEFA29+25]\n\tRtlGetAppContainerNamedObjectPath [0x770F7A9E+286]\n\tRtlGetAppContainerNamedObjectPath [0x770F7A6E+238]\n"
     ]
    }
   ],
   "source": [
    "search_noida = driver.find_element_by_xpath('/html/body/div/div/div/div[2]/div[2]/div[1]/div/div/div/div[2]/div[2]/div/div[2]/input')\n",
    "search_noida.send_keys('Greater Noida')"
   ]
  },
  {
   "cell_type": "code",
   "execution_count": null,
   "metadata": {},
   "outputs": [],
   "source": [
    "Company_name = []\n",
    "tag = driver.find_elements_by_xpath(\"//div[@class='name']\")\n",
    "tag\n",
    "\n",
    "for i in tag:\n",
    "    tag = i.text\n",
    "    Company_name.append(tag)\n",
    "Company_name"
   ]
  },
  {
   "cell_type": "code",
   "execution_count": null,
   "metadata": {},
   "outputs": [],
   "source": [
    "Sellery_min =[]\n",
    "\n",
    "tag = driver.find_elements_by_xpath(\"//div[@class='salary-values']/div[1]\")\n",
    "tag\n",
    "\n",
    "for i in tag:\n",
    "    tag = i.text\n",
    "    Sellery_min.append(tag)\n",
    "Sellery_min"
   ]
  },
  {
   "cell_type": "code",
   "execution_count": null,
   "metadata": {},
   "outputs": [],
   "source": [
    "Sellery_max =[]\n",
    "\n",
    "tag = driver.find_elements_by_xpath(\"//div[@class='salary-values']/div[2]\")\n",
    "tag\n",
    "\n",
    "for i in tag:\n",
    "    tag = i.text\n",
    "    Sellery_max.append(tag)\n",
    "Sellery_max"
   ]
  },
  {
   "cell_type": "code",
   "execution_count": null,
   "metadata": {},
   "outputs": [],
   "source": [
    "Sellery_avg =[]\n",
    "\n",
    "tag = driver.find_elements_by_xpath(\"//p[@class='averageCtc']\")\n",
    "tag\n",
    "\n",
    "for i in tag:\n",
    "    tag = i.text\n",
    "    Sellery_avg.append(tag)\n",
    "Sellery_avg"
   ]
  },
  {
   "cell_type": "code",
   "execution_count": null,
   "metadata": {},
   "outputs": [],
   "source": [
    "exp =[]\n",
    "\n",
    "tag = driver.find_elements_by_xpath(\"//div[@class='salaries sbold-list-header']\")\n",
    "tag\n",
    "\n",
    "for i in tag:\n",
    "    tag = i.text\n",
    "    exp.append(tag)\n",
    "exp"
   ]
  },
  {
   "cell_type": "code",
   "execution_count": null,
   "metadata": {},
   "outputs": [],
   "source": [
    "my_data = pd.DataFrame({})\n",
    "my_data['Company'] = Company_name\n",
    "my_data['Sellery_min'] = Sellery_min\n",
    "my_data['Sellery_max'] = Sellery_max\n",
    "my_data['Sellery_avg'] = Sellery_avg\n",
    "my_data['Experience'] = exp\n",
    "my_data"
   ]
  },
  {
   "cell_type": "code",
   "execution_count": null,
   "metadata": {},
   "outputs": [],
   "source": []
  },
  {
   "cell_type": "code",
   "execution_count": null,
   "metadata": {},
   "outputs": [],
   "source": []
  }
 ],
 "metadata": {
  "kernelspec": {
   "display_name": "Python 3",
   "language": "python",
   "name": "python3"
  },
  "language_info": {
   "codemirror_mode": {
    "name": "ipython",
    "version": 3
   },
   "file_extension": ".py",
   "mimetype": "text/x-python",
   "name": "python",
   "nbconvert_exporter": "python",
   "pygments_lexer": "ipython3",
   "version": "3.8.3"
  }
 },
 "nbformat": 4,
 "nbformat_minor": 4
}
